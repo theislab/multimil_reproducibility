{
 "cells": [
  {
   "cell_type": "code",
   "execution_count": 2,
   "id": "9e1f4c33-53d5-45d1-a06f-6e30e5cb03bd",
   "metadata": {},
   "outputs": [],
   "source": [
    "import scanpy as sc\n",
    "import numpy as np"
   ]
  },
  {
   "cell_type": "code",
   "execution_count": 2,
   "id": "e69fe209-ffa9-436c-8231-0d5c36386a1e",
   "metadata": {},
   "outputs": [
    {
     "data": {
      "text/plain": [
       "AnnData object with n_obs × n_vars = 2149684 × 30\n",
       "    obs: \"3'_or_5'\", 'BMI', 'age_or_mean_of_age_range', 'age_range', 'anatomical_region_ccf_score', 'ancestry', 'ann_coarse_for_GWAS_and_modeling', 'ann_finest_level', 'ann_level_1', 'ann_level_2', 'ann_level_3', 'ann_level_4', 'ann_level_5', 'assay', 'cause_of_death', 'cell_type', 'core_or_extension', 'dataset', 'development_stage', 'disease', 'donor_id', 'fresh_or_frozen', 'log10_total_counts', 'lung_condition', 'mixed_ancestry', 'original_ann_level_1', 'original_ann_level_2', 'original_ann_level_3', 'original_ann_level_4', 'original_ann_level_5', 'original_ann_nonharmonized', 'reannotation_type', 'sample', 'scanvi_label', 'sequencing_platform', 'sex', 'smoking_status', 'study', 'subject_type', 'suspension_type', 'tissue', 'tissue_coarse_unharmonized', 'tissue_detailed_unharmonized', 'tissue_dissociation_protocol', 'tissue_level_2', 'tissue_level_3', 'tissue_sampling_method', 'total_counts', 'transf_ann_level_1_label', 'transf_ann_level_1_uncert', 'transf_ann_level_2_label', 'transf_ann_level_2_uncert', 'transf_ann_level_3_label', 'transf_ann_level_3_uncert', 'transf_ann_level_4_label', 'transf_ann_level_4_uncert', 'transf_ann_level_5_label', 'transf_ann_level_5_uncert', 'lung_condition_coarse', 'split0', 'split1', 'split2', 'split3', 'split4'"
      ]
     },
     "execution_count": 2,
     "metadata": {},
     "output_type": "execute_result"
    }
   ],
   "source": [
    "adata = sc.read('../../../snakemake/hlca/5fold/hlca_no_vae/data/pp/hlca_embed.h5ad')\n",
    "adata"
   ]
  },
  {
   "cell_type": "code",
   "execution_count": 14,
   "id": "04c782b1-b75d-49a3-bbc9-ee782d117708",
   "metadata": {},
   "outputs": [
    {
     "data": {
      "text/plain": [
       "CGATGTAAGTTACGGG_SC10                   0.97\n",
       "ATTCTACCAAGGTTCT_HD68                   0.97\n",
       "P1_2_TGCTGCTAGCTCCTCT                   0.97\n",
       "CTGATAGTCTTAGAGC_F01367                 0.97\n",
       "D344_Brus_Dis1_CATTCGCGTGCCTGCA-1-14    0.81\n",
       "                                        ... \n",
       "ACACCAACAAGACAC_GRO-03_biopsy           0.72\n",
       "AGTGGGAGTTGTCTTT-1-7                    0.00\n",
       "P3_4_TAAACCGGTGTCCTCT                   0.64\n",
       "P3_4_GCTTGAACACGACGAA                   0.64\n",
       "TCAGGATCAAGACGTG_F02526                 0.97\n",
       "Name: anatomical_region_ccf_score, Length: 584944, dtype: float64"
      ]
     },
     "execution_count": 14,
     "metadata": {},
     "output_type": "execute_result"
    }
   ],
   "source": [
    "adata[~np.isnan(adata.obs['anatomical_region_ccf_score'])].obs['anatomical_region_ccf_score']"
   ]
  },
  {
   "cell_type": "code",
   "execution_count": 15,
   "id": "380035b2-583c-4116-89dc-a32db9fa7e01",
   "metadata": {},
   "outputs": [
    {
     "data": {
      "text/plain": [
       "CGATGTAAGTTACGGG_SC10                          55-year-old human stage\n",
       "cc05p_CATGCCTGTGTGCCTG_carraro_csmc                            unknown\n",
       "ATTCTACCAAGGTTCT_HD68                          41-year-old human stage\n",
       "D062_TGACCCTTCAAACCCA-sub_wang_sub_batch3          newborn human stage\n",
       "P1_2_TGCTGCTAGCTCCTCT                          75-year-old human stage\n",
       "                                                        ...           \n",
       "TTGTGGATCGTTCCTG_5-PX5-sub_mould                               unknown\n",
       "TCAGGATCAAGACGTG_F02526                        55-year-old human stage\n",
       "CAACCTCTCATGTAGC-WSSS8015042-0_meyer_unpubl    64-year-old human stage\n",
       "022C-b_GGATGTTTCCAAGTAC_adams                                  unknown\n",
       "145I-a_GTCGTAACAGTAGAGC_adams                                  unknown\n",
       "Name: development_stage, Length: 2149684, dtype: category\n",
       "Categories (79, object): ['1-month-old human stage', '10-year-old human stage', '11-month-old human stage', '12-month-old human stage', ..., '81-year-old human stage', '9-year-old human stage', 'newborn human stage', 'unknown']"
      ]
     },
     "execution_count": 15,
     "metadata": {},
     "output_type": "execute_result"
    }
   ],
   "source": [
    "adata.obs['development_stage']"
   ]
  },
  {
   "cell_type": "code",
   "execution_count": 16,
   "id": "981ea92e-126a-4a50-9f3c-a29f5719e366",
   "metadata": {},
   "outputs": [
    {
     "data": {
      "text/plain": [
       "<Axes: >"
      ]
     },
     "execution_count": 16,
     "metadata": {},
     "output_type": "execute_result"
    },
    {
     "data": {
      "image/png": "[encoded data removed]",
      "text/plain": [
       "<Figure size 640x480 with 1 Axes>"
      ]
     },
     "metadata": {},
     "output_type": "display_data"
    }
   ],
   "source": [
    "adata[~np.isnan(adata.obs['anatomical_region_ccf_score'])].obs['anatomical_region_ccf_score'].hist()"
   ]
  },
  {
   "cell_type": "code",
   "execution_count": 17,
   "id": "94393437-9d82-42fc-859d-6bd5f96252b7",
   "metadata": {},
   "outputs": [
    {
     "data": {
      "text/plain": [
       "array([0.  , 0.36, 0.5 , 0.64, 0.72, 0.81, 0.97])"
      ]
     },
     "execution_count": 17,
     "metadata": {},
     "output_type": "execute_result"
    }
   ],
   "source": [
    "np.unique(adata[~np.isnan(adata.obs['anatomical_region_ccf_score'])].obs['anatomical_region_ccf_score'])"
   ]
  },
  {
   "cell_type": "code",
   "execution_count": 21,
   "id": "53bc8032-055d-42f8-99ad-f9844293a773",
   "metadata": {},
   "outputs": [
    {
     "data": {
      "text/plain": [
       "AnnData object with n_obs × n_vars = 584944 × 30\n",
       "    obs: \"3'_or_5'\", 'BMI', 'age_or_mean_of_age_range', 'age_range', 'anatomical_region_ccf_score', 'ancestry', 'ann_coarse_for_GWAS_and_modeling', 'ann_finest_level', 'ann_level_1', 'ann_level_2', 'ann_level_3', 'ann_level_4', 'ann_level_5', 'assay', 'cause_of_death', 'cell_type', 'core_or_extension', 'dataset', 'development_stage', 'disease', 'donor_id', 'fresh_or_frozen', 'log10_total_counts', 'lung_condition', 'mixed_ancestry', 'original_ann_level_1', 'original_ann_level_2', 'original_ann_level_3', 'original_ann_level_4', 'original_ann_level_5', 'original_ann_nonharmonized', 'reannotation_type', 'sample', 'scanvi_label', 'sequencing_platform', 'sex', 'smoking_status', 'study', 'subject_type', 'suspension_type', 'tissue', 'tissue_coarse_unharmonized', 'tissue_detailed_unharmonized', 'tissue_dissociation_protocol', 'tissue_level_2', 'tissue_level_3', 'tissue_sampling_method', 'total_counts', 'transf_ann_level_1_label', 'transf_ann_level_1_uncert', 'transf_ann_level_2_label', 'transf_ann_level_2_uncert', 'transf_ann_level_3_label', 'transf_ann_level_3_uncert', 'transf_ann_level_4_label', 'transf_ann_level_4_uncert', 'transf_ann_level_5_label', 'transf_ann_level_5_uncert', 'lung_condition_coarse', 'split0', 'split1', 'split2', 'split3', 'split4', 'region'"
      ]
     },
     "execution_count": 21,
     "metadata": {},
     "output_type": "execute_result"
    }
   ],
   "source": [
    "adata = adata[~np.isnan(adata.obs['anatomical_region_ccf_score'])].copy()\n",
    "adata"
   ]
  },
  {
   "cell_type": "code",
   "execution_count": 22,
   "id": "db63001a-0945-4606-a83f-c6448e294fd0",
   "metadata": {},
   "outputs": [],
   "source": [
    "adata.obs['region'] = 'Airway'\n",
    "adata.obs.loc[adata.obs['anatomical_region_ccf_score'] == 0.0, 'region'] = 'Nose'\n",
    "adata.obs.loc[adata.obs['anatomical_region_ccf_score'] == 0.97, 'region'] = 'Parenchyma'"
   ]
  },
  {
   "cell_type": "code",
   "execution_count": 23,
   "id": "718eb225-7339-46ae-a20e-bfff2ef97626",
   "metadata": {},
   "outputs": [
    {
     "data": {
      "text/plain": [
       "array(['Airway', 'Nose', 'Parenchyma'], dtype=object)"
      ]
     },
     "execution_count": 23,
     "metadata": {},
     "output_type": "execute_result"
    }
   ],
   "source": [
    "np.unique(adata.obs['region'])"
   ]
  },
  {
   "cell_type": "code",
   "execution_count": 25,
   "id": "9097cbf7-0c1b-48e0-9321-573a1bc70525",
   "metadata": {},
   "outputs": [
    {
     "data": {
      "text/plain": [
       "region\n",
       "Parenchyma    90\n",
       "Airway        55\n",
       "Nose          21\n",
       "dtype: int64"
      ]
     },
     "execution_count": 25,
     "metadata": {},
     "output_type": "execute_result"
    }
   ],
   "source": [
    "adata.obs[['sample', 'region']].drop_duplicates().value_counts('region')"
   ]
  },
  {
   "cell_type": "code",
   "execution_count": 26,
   "id": "e804c3e2-e4eb-45ee-822c-4f2928423de8",
   "metadata": {},
   "outputs": [],
   "source": [
    "adata.obs['region'] = adata.obs['region'].astype('category')"
   ]
  },
  {
   "cell_type": "code",
   "execution_count": 27,
   "id": "f079bbb3-0e0b-4e82-aa19-51aa393038f7",
   "metadata": {},
   "outputs": [],
   "source": [
    "adata.write('../data/hlca_embed_regions.h5ad')"
   ]
  },
  {
   "cell_type": "code",
   "execution_count": 30,
   "id": "eb9cea58-329e-4d34-9a75-390409a1f935",
   "metadata": {},
   "outputs": [
    {
     "name": "stdout",
     "output_type": "stream",
     "text": [
      "split 0\n",
      "train:\n",
      "region\n",
      "Parenchyma    77\n",
      "Airway        43\n",
      "Nose          18\n",
      "dtype: int64\n",
      "val:\n",
      "region\n",
      "Parenchyma    13\n",
      "Airway        12\n",
      "Nose           3\n",
      "dtype: int64\n",
      "split 1\n",
      "train:\n",
      "region\n",
      "Parenchyma    71\n",
      "Airway        44\n",
      "Nose          17\n",
      "dtype: int64\n",
      "val:\n",
      "region\n",
      "Parenchyma    19\n",
      "Airway        11\n",
      "Nose           4\n",
      "dtype: int64\n",
      "split 2\n",
      "train:\n",
      "region\n",
      "Parenchyma    70\n",
      "Airway        43\n",
      "Nose          18\n",
      "dtype: int64\n",
      "val:\n",
      "region\n",
      "Parenchyma    20\n",
      "Airway        12\n",
      "Nose           3\n",
      "dtype: int64\n",
      "split 3\n",
      "train:\n",
      "region\n",
      "Parenchyma    66\n",
      "Airway        48\n",
      "Nose          18\n",
      "dtype: int64\n",
      "val:\n",
      "region\n",
      "Parenchyma    24\n",
      "Airway         7\n",
      "Nose           3\n",
      "dtype: int64\n",
      "split 4\n",
      "train:\n",
      "region\n",
      "Parenchyma    76\n",
      "Airway        42\n",
      "Nose          13\n",
      "dtype: int64\n",
      "val:\n",
      "region\n",
      "Parenchyma    14\n",
      "Airway        13\n",
      "Nose           8\n",
      "dtype: int64\n"
     ]
    }
   ],
   "source": [
    "for i in range(5):\n",
    "    print(f'split {i}')\n",
    "    print('train:')\n",
    "    print(adata[adata.obs[f'split{i}']=='train'].obs[['sample', 'region']].drop_duplicates().value_counts('region'))\n",
    "    print('val:')\n",
    "    print(adata[adata.obs[f'split{i}']!='train'].obs[['sample', 'region']].drop_duplicates().value_counts('region'))\n",
    "    assert(len(np.unique(adata[adata.obs[f'split{i}']=='train'].obs['region'])) == len(np.unique(adata[adata.obs[f'split{i}']!='train'].obs['region'])))"
   ]
  },
  {
   "cell_type": "code",
   "execution_count": 3,
   "id": "b950546f-1e1f-4bd4-90e8-372664874035",
   "metadata": {},
   "outputs": [
    {
     "data": {
      "text/plain": [
       "AnnData object with n_obs × n_vars = 584944 × 30\n",
       "    obs: \"3'_or_5'\", 'BMI', 'age_or_mean_of_age_range', 'age_range', 'anatomical_region_ccf_score', 'ancestry', 'ann_coarse_for_GWAS_and_modeling', 'ann_finest_level', 'ann_level_1', 'ann_level_2', 'ann_level_3', 'ann_level_4', 'ann_level_5', 'assay', 'cause_of_death', 'cell_type', 'core_or_extension', 'dataset', 'development_stage', 'disease', 'donor_id', 'fresh_or_frozen', 'log10_total_counts', 'lung_condition', 'mixed_ancestry', 'original_ann_level_1', 'original_ann_level_2', 'original_ann_level_3', 'original_ann_level_4', 'original_ann_level_5', 'original_ann_nonharmonized', 'reannotation_type', 'sample', 'scanvi_label', 'sequencing_platform', 'sex', 'smoking_status', 'study', 'subject_type', 'suspension_type', 'tissue', 'tissue_coarse_unharmonized', 'tissue_detailed_unharmonized', 'tissue_dissociation_protocol', 'tissue_level_2', 'tissue_level_3', 'tissue_sampling_method', 'total_counts', 'transf_ann_level_1_label', 'transf_ann_level_1_uncert', 'transf_ann_level_2_label', 'transf_ann_level_2_uncert', 'transf_ann_level_3_label', 'transf_ann_level_3_uncert', 'transf_ann_level_4_label', 'transf_ann_level_4_uncert', 'transf_ann_level_5_label', 'transf_ann_level_5_uncert', 'lung_condition_coarse', 'split0', 'split1', 'split2', 'split3', 'split4', 'region'"
      ]
     },
     "execution_count": 3,
     "metadata": {},
     "output_type": "execute_result"
    }
   ],
   "source": [
    "adata = sc.read('../data/hlca_embed_regions.h5ad')\n",
    "adata"
   ]
  },
  {
   "cell_type": "code",
   "execution_count": 5,
   "id": "3bb4bb6d-681a-43d8-b496-48f33e882f0e",
   "metadata": {},
   "outputs": [
    {
     "data": {
      "text/plain": [
       "array(['core'], dtype=object)"
      ]
     },
     "execution_count": 5,
     "metadata": {},
     "output_type": "execute_result"
    }
   ],
   "source": [
    "np.unique(adata.obs['core_or_extension'])"
   ]
  },
  {
   "cell_type": "code",
   "execution_count": null,
   "id": "1c5dadd8-17ec-47dc-b4d0-0b7ac77029a4",
   "metadata": {},
   "outputs": [],
   "source": []
  }
 ],
 "metadata": {
  "kernelspec": {
   "display_name": "Python 3 (ipykernel)",
   "language": "python",
   "name": "python3"
  },
  "language_info": {
   "codemirror_mode": {
    "name": "ipython",
    "version": 3
   },
   "file_extension": ".py",
   "mimetype": "text/x-python",
   "name": "python",
   "nbconvert_exporter": "python",
   "pygments_lexer": "ipython3",
   "version": "3.10.12"
  }
 },
 "nbformat": 4,
 "nbformat_minor": 5
}
