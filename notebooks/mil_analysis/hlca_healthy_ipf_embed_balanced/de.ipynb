{
 "cells": [
  {
   "cell_type": "code",
   "execution_count": 1,
   "id": "16c7d15c-b5f5-4e2f-b3ba-fb669775036d",
   "metadata": {},
   "outputs": [],
   "source": [
    "x=1"
   ]
  },
  {
   "cell_type": "code",
   "execution_count": 4,
   "id": "5f3ef24e-ec87-4338-b390-e086268cc325",
   "metadata": {},
   "outputs": [
    {
     "ename": "ModuleNotFoundError",
     "evalue": "No module named 'rpy2'",
     "output_type": "error",
     "traceback": [
      "\u001b[0;31m---------------------------------------------------------------------------\u001b[0m",
      "\u001b[0;31mModuleNotFoundError\u001b[0m                       Traceback (most recent call last)",
      "Cell \u001b[0;32mIn[4], line 15\u001b[0m\n\u001b[1;32m     11\u001b[0m \u001b[38;5;28;01mimport\u001b[39;00m \u001b[38;5;21;01mrandom\u001b[39;00m\n\u001b[1;32m     12\u001b[0m \u001b[38;5;66;03m# import sc_toolbox\u001b[39;00m\n\u001b[1;32m     13\u001b[0m \u001b[38;5;66;03m#import pertpy \u001b[39;00m\n\u001b[0;32m---> 15\u001b[0m \u001b[38;5;28;01mimport\u001b[39;00m \u001b[38;5;21;01mrpy2\u001b[39;00m\u001b[38;5;21;01m.\u001b[39;00m\u001b[38;5;21;01mrinterface_lib\u001b[39;00m\u001b[38;5;21;01m.\u001b[39;00m\u001b[38;5;21;01mcallbacks\u001b[39;00m\n\u001b[1;32m     16\u001b[0m \u001b[38;5;28;01mimport\u001b[39;00m \u001b[38;5;21;01manndata2ri\u001b[39;00m\n\u001b[1;32m     17\u001b[0m \u001b[38;5;28;01mimport\u001b[39;00m \u001b[38;5;21;01mlogging\u001b[39;00m\n",
      "\u001b[0;31mModuleNotFoundError\u001b[0m: No module named 'rpy2'"
     ]
    }
   ],
   "source": [
    "import warnings\n",
    "\n",
    "warnings.filterwarnings(\"ignore\")\n",
    "\n",
    "import matplotlib.pyplot as plt\n",
    "import seaborn as sns\n",
    "import decoupler as dc\n",
    "import scanpy as sc\n",
    "import pandas as pd\n",
    "import numpy as np\n",
    "import random\n",
    "import sc_toolbox\n",
    "import pertpy \n",
    "\n",
    "import rpy2.rinterface_lib.callbacks\n",
    "import anndata2ri\n",
    "import logging\n",
    "\n",
    "from rpy2.robjects import pandas2ri\n",
    "from rpy2.robjects import r\n",
    "\n",
    "sc.settings.verbosity = 0\n",
    "rpy2.rinterface_lib.callbacks.logger.setLevel(logging.ERROR)\n",
    "\n",
    "pandas2ri.activate()\n",
    "anndata2ri.activate()"
   ]
  },
  {
   "cell_type": "code",
   "execution_count": null,
   "id": "fa89b3c7-8e7c-4ced-a86b-b18945c99531",
   "metadata": {},
   "outputs": [],
   "source": [
    "# adata = sc.read('../../../pipeline/data/multigrate_mil/hlca_healthy_ipf_embed_balanced/b2e8c62cf5_adata_both.h5ad')\n",
    "# adata"
   ]
  },
  {
   "cell_type": "code",
   "execution_count": null,
   "id": "e6caab18-c5f2-4a28-b3e3-ff60174a4ee2",
   "metadata": {},
   "outputs": [],
   "source": [
    "# hlca = sc.read('../../../../snakemake/hlca/5fold/hlca_hyperparam/data/pp/hlca_hvg_pearson.h5ad')\n",
    "# adata.obsm['counts'] = hlca[adata.obs_names].X"
   ]
  },
  {
   "cell_type": "code",
   "execution_count": null,
   "id": "49f7e329-3939-4a87-ad49-b0805f35afd3",
   "metadata": {},
   "outputs": [],
   "source": [
    "# adata.write('../../../../data_to_share/hlca_healthy_ipf_subset.h5ad')"
   ]
  },
  {
   "cell_type": "code",
   "execution_count": null,
   "id": "938d6e7b-335e-4452-8423-3bc1f287f8b8",
   "metadata": {},
   "outputs": [],
   "source": [
    "adata = sc.read('../../../../data_to_share/hlca_healthy_ipf_subset.h5ad')\n",
    "adata"
   ]
  },
  {
   "cell_type": "code",
   "execution_count": null,
   "id": "007044ba-9bb3-414c-b686-00c81de2c7d2",
   "metadata": {},
   "outputs": [],
   "source": [
    "adata.obsm['counts'].data"
   ]
  },
  {
   "cell_type": "code",
   "execution_count": null,
   "id": "6b604c17-def4-426a-ae3b-9074477911bc",
   "metadata": {},
   "outputs": [],
   "source": [
    "adata.obsm['counts']"
   ]
  },
  {
   "cell_type": "code",
   "execution_count": null,
   "id": "24e93ae2-1fc9-4a4a-ad7d-27302df9c477",
   "metadata": {},
   "outputs": [],
   "source": [
    "import rpy2.robjects as ro\n",
    "\n",
    "def run_de(adata):\n",
    "    r=ro.r\n",
    "    getwd = ro.r['getwd']\n",
    "    print(getwd())\n",
    "    r.source(\"de_full_ct.R\")\n",
    "    df = r.fit_model(adata)\n",
    "    return df"
   ]
  },
  {
   "cell_type": "code",
   "execution_count": null,
   "id": "299f0c18-4d90-4aba-8fdb-cbe77c5b3d0b",
   "metadata": {},
   "outputs": [],
   "source": [
    "for ct in np.unique(adata.obs['transf_ann_level_3_label'].astype(str)):\n",
    "    print(f'Processing {ct}...')\n",
    "    adata_ct = adata[adata.obs['transf_ann_level_3_label'] == ct].copy()\n",
    "    adata_ct_disease = adata_ct[adata_ct.obs['lung_condition_coarse'] == 'COPD'].copy()\n",
    "\n",
    "    print(len(adata_ct_disease))\n",
    "    \n",
    "    threshold_idx = int(len(adata_ct_disease) * 0.9)\n",
    "    threshold_value = sorted(adata_ct_disease.obs['cell_attn'])[threshold_idx]\n",
    "    \n",
    "    adata_ct_disease.obs['group'] = 'all'\n",
    "    adata_ct_disease.obs.loc[adata_ct_disease.obs['cell_attn'] >= threshold_value, 'group'] = 'top'\n",
    "\n",
    "    # adata_ct_disease.obs['sample_group'] = adata_ct_disease.obs['sample'].astype('str') + '_' + adata_ct_disease.obs['group']\n",
    "    # adata_ct_disease.obs['sample_group'] = adata_ct_disease.obs['sample_group'].astype('category')\n",
    "\n",
    "    # samples_to_exclude = []\n",
    "    # for sample in np.unique(adata_ct_disease.obs[['sample_group']]):\n",
    "    #     sample_len = len(adata_ct_disease[adata_ct_disease.obs['sample_group'] == sample])\n",
    "    #     if sample_len < 10:\n",
    "    #         samples_to_exclude.append(sample)\n",
    "    \n",
    "    # adata_ct_disease = adata_ct_disease[~adata_ct_disease.obs['sample_group'].isin(samples_to_exclude)].copy()\n",
    "\n",
    "    #adata_ct_disease.X = adata_ct_disease.obsm['counts'].copy()\n",
    "    adata_pb = sc.AnnData(adata_ct_disease.obsm['counts'])\n",
    "    adata_pb.obs = adata_ct_disease.obs\n",
    "    adata_pb.var_names = hlca.var_names\n",
    "\n",
    "    adata_ = dc.get_pseudobulk(adata_pb, 'sample', 'group', mode='sum', min_cells=-1, min_counts=10)\n",
    "\n",
    "    adata_r = sc.AnnData(adata_.X, obs=adata_.obs[['group', 'study', 'sample']])\n",
    "    adata_r.var_names = adata_.var_names\n",
    "    adata_r.obs['sample'] = adata_r.obs['sample'].str.replace('-', '_')\n",
    "    adata_r.obs.index = adata_r.obs.index.str.replace('-', '_')\n",
    "\n",
    "    adata_r = adata_r.copy()\n",
    "\n",
    "    sc.pp.filter_genes(adata_r, min_cells=10)\n",
    "    print(adata_r.X.shape)\n",
    "    if ((adata_r.X.shape[0] == 0) or (adata_r.X.shape[1] == 0)):\n",
    "        continue\n",
    "    df = run_de(adata_r)\n",
    "\n",
    "    df = ro.conversion.rpy2py(df)\n",
    "    df.to_csv(f'{ct}.csv')"
   ]
  },
  {
   "cell_type": "code",
   "execution_count": null,
   "id": "f90f4aca-596f-4c68-92e1-63981bcf723e",
   "metadata": {},
   "outputs": [],
   "source": []
  }
 ],
 "metadata": {
  "kernelspec": {
   "display_name": "Python 3 (ipykernel)",
   "language": "python",
   "name": "python3"
  },
  "language_info": {
   "codemirror_mode": {
    "name": "ipython",
    "version": 3
   },
   "file_extension": ".py",
   "mimetype": "text/x-python",
   "name": "python",
   "nbconvert_exporter": "python",
   "pygments_lexer": "ipython3",
   "version": "3.10.12"
  }
 },
 "nbformat": 4,
 "nbformat_minor": 5
}
