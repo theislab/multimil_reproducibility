{
 "cells": [
  {
   "cell_type": "code",
   "execution_count": 14,
   "id": "400486ac-35d6-48f4-9b4b-cf009e1795a1",
   "metadata": {
    "tags": []
   },
   "outputs": [],
   "source": [
    "import scanpy as sc\n",
    "import numpy as np"
   ]
  },
  {
   "cell_type": "code",
   "execution_count": 30,
   "id": "c493f584-2917-4bbf-80f4-72ad06845e0b",
   "metadata": {
    "tags": []
   },
   "outputs": [
    {
     "data": {
      "text/plain": [
       "AnnData object with n_obs × n_vars = 2149684 × 2000\n",
       "    obs: \"3'_or_5'\", 'BMI', 'age_or_mean_of_age_range', 'age_range', 'anatomical_region_ccf_score', 'ancestry', 'ann_coarse_for_GWAS_and_modeling', 'ann_finest_level', 'ann_level_1', 'ann_level_2', 'ann_level_3', 'ann_level_4', 'ann_level_5', 'assay', 'cause_of_death', 'cell_type', 'core_or_extension', 'dataset', 'development_stage', 'disease', 'donor_id', 'fresh_or_frozen', 'log10_total_counts', 'lung_condition', 'mixed_ancestry', 'original_ann_level_1', 'original_ann_level_2', 'original_ann_level_3', 'original_ann_level_4', 'original_ann_level_5', 'original_ann_nonharmonized', 'reannotation_type', 'sample', 'scanvi_label', 'sequencing_platform', 'sex', 'smoking_status', 'study', 'subject_type', 'suspension_type', 'tissue', 'tissue_coarse_unharmonized', 'tissue_detailed_unharmonized', 'tissue_dissociation_protocol', 'tissue_level_2', 'tissue_level_3', 'tissue_sampling_method', 'total_counts', 'transf_ann_level_1_label', 'transf_ann_level_1_uncert', 'transf_ann_level_2_label', 'transf_ann_level_2_uncert', 'transf_ann_level_3_label', 'transf_ann_level_3_uncert', 'transf_ann_level_4_label', 'transf_ann_level_4_uncert', 'transf_ann_level_5_label', 'transf_ann_level_5_uncert', 'lung_condition_coarse', 'split0', 'split1', 'split2', 'split3', 'split4'\n",
       "    var: 'means', 'variances', 'residual_variances', 'highly_variable_rank', 'highly_variable_nbatches', 'highly_variable_intersection', 'highly_variable'\n",
       "    uns: 'hvg'"
      ]
     },
     "execution_count": 30,
     "metadata": {},
     "output_type": "execute_result"
    }
   ],
   "source": [
    "adata = sc.read('/Users/anastasia.litinetska/Documents/data/hlca_hvg_pearson_.h5ad')\n",
    "adata"
   ]
  },
  {
   "cell_type": "code",
   "execution_count": 31,
   "id": "8ac63c79-eafe-4fdf-9128-00a1b329cd29",
   "metadata": {
    "tags": []
   },
   "outputs": [
    {
     "data": {
      "text/plain": [
       "array([1., 5., 1., ..., 1., 2., 3.], dtype=float32)"
      ]
     },
     "execution_count": 31,
     "metadata": {},
     "output_type": "execute_result"
    }
   ],
   "source": [
    "adata.X.data"
   ]
  },
  {
   "cell_type": "code",
   "execution_count": 32,
   "id": "3768f50e-2bd0-4d31-b714-1780904bb230",
   "metadata": {
    "tags": []
   },
   "outputs": [
    {
     "data": {
      "text/plain": [
       "CGATGTAAGTTACGGG_SC10                                 SC10\n",
       "cc05p_CATGCCTGTGTGCCTG_carraro_csmc                  cc05p\n",
       "ATTCTACCAAGGTTCT_HD68                               VUHD68\n",
       "D062_TGACCCTTCAAACCCA-sub_wang_sub_batch3       GSM4906348\n",
       "P1_2_TGCTGCTAGCTCCTCT                            distal 1a\n",
       "                                                  ...     \n",
       "TTGTGGATCGTTCCTG_5-PX5-sub_mould                       PX5\n",
       "TCAGGATCAAGACGTG_F02526                             F02526\n",
       "CAACCTCTCATGTAGC-WSSS8015042-0_meyer_unpubl    WSSS8015042\n",
       "022C-b_GGATGTTTCCAAGTAC_adams                       022C-b\n",
       "145I-a_GTCGTAACAGTAGAGC_adams                       145I-a\n",
       "Name: sample, Length: 2149684, dtype: category\n",
       "Categories (709, object): ['001C', '002C', '003C', '010I', ..., 'scrBT1429', 'scrBT1430', 'scrBT1431', 'scrBT1432']"
      ]
     },
     "execution_count": 32,
     "metadata": {},
     "output_type": "execute_result"
    }
   ],
   "source": [
    "adata.obs['sample']"
   ]
  },
  {
   "cell_type": "code",
   "execution_count": 33,
   "id": "5b0c9df6-ea7a-45af-a978-7931434fb0e1",
   "metadata": {
    "tags": []
   },
   "outputs": [
    {
     "data": {
      "text/plain": [
       "AnnData object with n_obs × n_vars = 2149684 × 2000\n",
       "    obs: \"3'_or_5'\", 'BMI', 'age_or_mean_of_age_range', 'age_range', 'anatomical_region_ccf_score', 'ancestry', 'ann_coarse_for_GWAS_and_modeling', 'ann_finest_level', 'ann_level_1', 'ann_level_2', 'ann_level_3', 'ann_level_4', 'ann_level_5', 'assay', 'cause_of_death', 'cell_type', 'core_or_extension', 'dataset', 'development_stage', 'disease', 'donor_id', 'fresh_or_frozen', 'log10_total_counts', 'lung_condition', 'mixed_ancestry', 'original_ann_level_1', 'original_ann_level_2', 'original_ann_level_3', 'original_ann_level_4', 'original_ann_level_5', 'original_ann_nonharmonized', 'reannotation_type', 'sample', 'scanvi_label', 'sequencing_platform', 'sex', 'smoking_status', 'study', 'subject_type', 'suspension_type', 'tissue', 'tissue_coarse_unharmonized', 'tissue_detailed_unharmonized', 'tissue_dissociation_protocol', 'tissue_level_2', 'tissue_level_3', 'tissue_sampling_method', 'total_counts', 'transf_ann_level_1_label', 'transf_ann_level_1_uncert', 'transf_ann_level_2_label', 'transf_ann_level_2_uncert', 'transf_ann_level_3_label', 'transf_ann_level_3_uncert', 'transf_ann_level_4_label', 'transf_ann_level_4_uncert', 'transf_ann_level_5_label', 'transf_ann_level_5_uncert', 'lung_condition_coarse', 'split0', 'split1', 'split2', 'split3', 'split4'\n",
       "    var: 'means', 'variances', 'residual_variances', 'highly_variable_rank', 'highly_variable_nbatches', 'highly_variable_intersection', 'highly_variable'\n",
       "    uns: 'hvg'"
      ]
     },
     "execution_count": 33,
     "metadata": {},
     "output_type": "execute_result"
    }
   ],
   "source": [
    "adata"
   ]
  },
  {
   "cell_type": "code",
   "execution_count": 34,
   "id": "60b07263-3522-44dc-8f28-b358dfd55e35",
   "metadata": {
    "tags": []
   },
   "outputs": [
    {
     "data": {
      "text/plain": [
       "array(['CF', 'COPD', 'COVID-19', 'Carcinoma', 'Chronic rhinitis',\n",
       "       'Healthy', 'ILD', 'IPF', 'Pneumonia non-COVID'], dtype=object)"
      ]
     },
     "execution_count": 34,
     "metadata": {},
     "output_type": "execute_result"
    }
   ],
   "source": [
    "np.unique(adata.obs['lung_condition_coarse'])"
   ]
  },
  {
   "cell_type": "code",
   "execution_count": 35,
   "id": "4f77e632-314d-40d5-a3ac-34625660c2db",
   "metadata": {
    "tags": []
   },
   "outputs": [
    {
     "data": {
      "text/plain": [
       "AnnData object with n_obs × n_vars = 601238 × 2000\n",
       "    obs: \"3'_or_5'\", 'BMI', 'age_or_mean_of_age_range', 'age_range', 'anatomical_region_ccf_score', 'ancestry', 'ann_coarse_for_GWAS_and_modeling', 'ann_finest_level', 'ann_level_1', 'ann_level_2', 'ann_level_3', 'ann_level_4', 'ann_level_5', 'assay', 'cause_of_death', 'cell_type', 'core_or_extension', 'dataset', 'development_stage', 'disease', 'donor_id', 'fresh_or_frozen', 'log10_total_counts', 'lung_condition', 'mixed_ancestry', 'original_ann_level_1', 'original_ann_level_2', 'original_ann_level_3', 'original_ann_level_4', 'original_ann_level_5', 'original_ann_nonharmonized', 'reannotation_type', 'sample', 'scanvi_label', 'sequencing_platform', 'sex', 'smoking_status', 'study', 'subject_type', 'suspension_type', 'tissue', 'tissue_coarse_unharmonized', 'tissue_detailed_unharmonized', 'tissue_dissociation_protocol', 'tissue_level_2', 'tissue_level_3', 'tissue_sampling_method', 'total_counts', 'transf_ann_level_1_label', 'transf_ann_level_1_uncert', 'transf_ann_level_2_label', 'transf_ann_level_2_uncert', 'transf_ann_level_3_label', 'transf_ann_level_3_uncert', 'transf_ann_level_4_label', 'transf_ann_level_4_uncert', 'transf_ann_level_5_label', 'transf_ann_level_5_uncert', 'lung_condition_coarse', 'split0', 'split1', 'split2', 'split3', 'split4'\n",
       "    var: 'means', 'variances', 'residual_variances', 'highly_variable_rank', 'highly_variable_nbatches', 'highly_variable_intersection', 'highly_variable'\n",
       "    uns: 'hvg'"
      ]
     },
     "execution_count": 35,
     "metadata": {},
     "output_type": "execute_result"
    }
   ],
   "source": [
    "adata = adata[adata.obs['lung_condition_coarse'].isin(['COVID-19', 'COPD', 'IPF'])].copy()\n",
    "adata"
   ]
  },
  {
   "cell_type": "code",
   "execution_count": 36,
   "id": "276c3586-821b-4438-9e7f-9c266af703f2",
   "metadata": {
    "tags": []
   },
   "outputs": [
    {
     "data": {
      "text/plain": [
       "lung_condition_coarse\n",
       "COVID-19    73\n",
       "IPF         67\n",
       "COPD        24\n",
       "Name: count, dtype: int64"
      ]
     },
     "execution_count": 36,
     "metadata": {},
     "output_type": "execute_result"
    }
   ],
   "source": [
    "adata.obs[['sample', 'lung_condition_coarse']].drop_duplicates().value_counts('lung_condition_coarse')"
   ]
  },
  {
   "cell_type": "code",
   "execution_count": 44,
   "id": "00366577-2ec4-4f5a-a566-6bb9a5359655",
   "metadata": {
    "tags": []
   },
   "outputs": [],
   "source": [
    "for i in range(5):\n",
    "    tmp1 = adata[adata.obs[f'split{i}'] == 'train'].copy()\n",
    "    tmp2 = adata[adata.obs[f'split{i}'] != 'train'].copy()\n",
    "    assert(np.all(np.unique(tmp1.obs['lung_condition_coarse']) == np.unique(tmp2.obs['lung_condition_coarse'])))"
   ]
  },
  {
   "cell_type": "code",
   "execution_count": 46,
   "id": "627e9ad1-5a9b-483b-946a-89a8c9b363d8",
   "metadata": {
    "tags": []
   },
   "outputs": [
    {
     "data": {
      "text/plain": [
       "array(['AT1', 'AT2', 'B cell lineage', 'Basal', 'Dendritic cells',\n",
       "       'EC arterial', 'EC capillary', 'EC venous', 'Fibroblasts',\n",
       "       'Innate lymphoid cell NK', 'Lymphatic EC differentiating',\n",
       "       'Lymphatic EC mature', 'Lymphatic EC proliferating', 'Macrophages',\n",
       "       'Mast cells', 'Monocytes', 'Multiciliated lineage',\n",
       "       'Myofibroblasts', 'SM activated stress response', 'Secretory',\n",
       "       'Smooth muscle FAM83D+', 'Submucosal Secretory', 'T cell lineage'],\n",
       "      dtype=object)"
      ]
     },
     "execution_count": 46,
     "metadata": {},
     "output_type": "execute_result"
    }
   ],
   "source": [
    "np.unique(adata.obs['transf_ann_level_3_label'])"
   ]
  },
  {
   "cell_type": "code",
   "execution_count": 47,
   "id": "74ad1c60-2129-412e-bed8-750349aab892",
   "metadata": {
    "tags": []
   },
   "outputs": [],
   "source": [
    "adata.write('/Users/anastasia.litinetska/Documents/code/multimil_reproducibility/pipeline/data/hlca_small.h5ad')"
   ]
  },
  {
   "cell_type": "code",
   "execution_count": null,
   "id": "ad697e82-e7c4-4c71-8bea-2754934e6e7b",
   "metadata": {},
   "outputs": [],
   "source": []
  }
 ],
 "metadata": {
  "kernelspec": {
   "display_name": "Python 3 (ipykernel)",
   "language": "python",
   "name": "python3"
  },
  "language_info": {
   "codemirror_mode": {
    "name": "ipython",
    "version": 3
   },
   "file_extension": ".py",
   "mimetype": "text/x-python",
   "name": "python",
   "nbconvert_exporter": "python",
   "pygments_lexer": "ipython3",
   "version": "3.10.12"
  }
 },
 "nbformat": 4,
 "nbformat_minor": 5
}
