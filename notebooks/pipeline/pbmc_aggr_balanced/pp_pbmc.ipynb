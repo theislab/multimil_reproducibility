{
 "cells": [
  {
   "cell_type": "code",
   "execution_count": 15,
   "id": "2c448f5b",
   "metadata": {},
   "outputs": [],
   "source": [
    "import scanpy as sc\n",
    "import numpy as np\n",
    "\n",
    "import random\n",
    "\n",
    "import warnings\n",
    "warnings.simplefilter(action='ignore', category=FutureWarning)"
   ]
  },
  {
   "cell_type": "code",
   "execution_count": 3,
   "id": "a07c295b-19c8-4710-b95f-2412179a52dc",
   "metadata": {},
   "outputs": [
    {
     "data": {
      "text/plain": [
       "AnnData object with n_obs × n_vars = 647366 × 2000\n",
       "    obs: 'sample_id', 'n_genes', 'n_genes_by_counts', 'total_counts', 'total_counts_mt', 'pct_counts_mt', 'full_clustering', 'initial_clustering', 'Resample', 'Collection_Day', 'Sex', 'Age_interval', 'Swab_result', 'Status', 'Smoker', 'Status_on_day_collection', 'Status_on_day_collection_summary', 'Days_from_onset', 'Site', 'time_after_LPS', 'Worst_Clinical_Status', 'Outcome', 'patient_id', 'split0', 'split1', 'split2', 'split3', 'split4'\n",
       "    var: 'feature_types', 'means', 'variances', 'residual_variances', 'highly_variable_rank', 'highly_variable_nbatches', 'highly_variable_intersection', 'highly_variable'\n",
       "    uns: 'hvg', 'leiden', 'neighbors', 'pca', 'umap'\n",
       "    obsm: 'X_pca', 'X_pca_harmony', 'X_umap'\n",
       "    layers: 'counts'"
      ]
     },
     "execution_count": 3,
     "metadata": {},
     "output_type": "execute_result"
    }
   ],
   "source": [
    "rna = sc.read('../../../pipeline/data/pp/pbmc_full_rna.h5ad')\n",
    "rna"
   ]
  },
  {
   "cell_type": "code",
   "execution_count": 4,
   "id": "e1962f6b-408d-4500-a054-01039865403f",
   "metadata": {},
   "outputs": [
    {
     "data": {
      "text/plain": [
       "AnnData object with n_obs × n_vars = 647366 × 192\n",
       "    obs: 'sample_id', 'n_genes', 'n_genes_by_counts', 'total_counts', 'total_counts_mt', 'pct_counts_mt', 'full_clustering', 'initial_clustering', 'Resample', 'Collection_Day', 'Sex', 'Age_interval', 'Swab_result', 'Status', 'Smoker', 'Status_on_day_collection', 'Status_on_day_collection_summary', 'Days_from_onset', 'Site', 'time_after_LPS', 'Worst_Clinical_Status', 'Outcome', 'patient_id', 'split0', 'split1', 'split2', 'split3', 'split4'\n",
       "    var: 'feature_types'\n",
       "    uns: 'hvg', 'leiden', 'neighbors', 'pca', 'umap'\n",
       "    obsm: 'X_pca', 'X_pca_harmony', 'X_umap'\n",
       "    layers: 'counts'"
      ]
     },
     "execution_count": 4,
     "metadata": {},
     "output_type": "execute_result"
    }
   ],
   "source": [
    "adt = sc.read('../../../pipeline/data/pp/pbmc_full_adt.h5ad')\n",
    "adt"
   ]
  },
  {
   "cell_type": "markdown",
   "id": "26b63f01",
   "metadata": {},
   "source": [
    "# Adjust conditions"
   ]
  },
  {
   "cell_type": "code",
   "execution_count": 5,
   "id": "9f9f22d4",
   "metadata": {},
   "outputs": [
    {
     "data": {
      "text/plain": [
       "Index(['Asymptomatic', 'Critical', 'Healthy', 'LPS_10hours', 'LPS_90mins',\n",
       "       'Mild', 'Moderate', 'Non_covid', 'Severe'],\n",
       "      dtype='object')"
      ]
     },
     "execution_count": 5,
     "metadata": {},
     "output_type": "execute_result"
    }
   ],
   "source": [
    "rna.obs['Status_on_day_collection_summary'].cat.categories"
   ]
  },
  {
   "cell_type": "code",
   "execution_count": 6,
   "id": "407cb171",
   "metadata": {},
   "outputs": [],
   "source": [
    "drop_conditions = ['LPS_10hours', 'LPS_90mins', 'Non_covid', 'Asymptomatic']"
   ]
  },
  {
   "cell_type": "code",
   "execution_count": 7,
   "id": "0f24bb8b",
   "metadata": {},
   "outputs": [
    {
     "data": {
      "text/plain": [
       "((590724, 2000), (590724, 192))"
      ]
     },
     "execution_count": 7,
     "metadata": {},
     "output_type": "execute_result"
    }
   ],
   "source": [
    "rna = rna[~rna.obs['Status_on_day_collection_summary'].isin(drop_conditions)]\n",
    "adt = adt[~adt.obs['Status_on_day_collection_summary'].isin(drop_conditions)]\n",
    "(rna.shape, adt.shape)"
   ]
  },
  {
   "cell_type": "code",
   "execution_count": 9,
   "id": "f0cddf22-d121-4161-ad29-16545ce99acc",
   "metadata": {},
   "outputs": [
    {
     "name": "stderr",
     "output_type": "stream",
     "text": [
      "/tmp/ipykernel_691260/2002565546.py:1: ImplicitModificationWarning: Trying to modify attribute `.obs` of view, initializing view as actual.\n",
      "  rna.obs['Status_on_day_collection_summary'] = rna.obs['Status_on_day_collection_summary'].str.replace('Critical', 'Severe')\n"
     ]
    }
   ],
   "source": [
    "rna.obs['Status_on_day_collection_summary'] = rna.obs['Status_on_day_collection_summary'].str.replace('Critical', 'Severe')\n",
    "rna.obs['Status_on_day_collection_summary'] = rna.obs['Status_on_day_collection_summary'].str.replace('Moderate', 'Mild')\n",
    "rna.obs['Status_on_day_collection_summary'] = rna.obs['Status_on_day_collection_summary'].astype('category')"
   ]
  },
  {
   "cell_type": "code",
   "execution_count": 10,
   "id": "b8fe807d-da79-4194-b8f9-8900b1d0d498",
   "metadata": {},
   "outputs": [
    {
     "data": {
      "text/plain": [
       "covid_index\n",
       "AAACCTGAGAAACCTA-MH9179824       Mild\n",
       "AAACCTGAGAGTAATC-MH9179824       Mild\n",
       "AAACCTGAGAGTGAGA-MH9179824       Mild\n",
       "AAACCTGAGGAATCGC-MH9179824       Mild\n",
       "AAACCTGAGTGTTGAA-MH9179824       Mild\n",
       "                               ...   \n",
       "BGCV15_TTTGTCAAGGCGATAC-1      Severe\n",
       "BGCV15_TTTGTCACAAGCCATT-1     Healthy\n",
       "BGCV15_TTTGTCACAGACACTT-1        Mild\n",
       "BGCV15_TTTGTCAGTTACGGAG-1        Mild\n",
       "BGCV15_TTTGTCATCGAATGGG-1      Severe\n",
       "Name: Status_on_day_collection_summary, Length: 590724, dtype: category\n",
       "Categories (3, object): ['Healthy', 'Mild', 'Severe']"
      ]
     },
     "execution_count": 10,
     "metadata": {},
     "output_type": "execute_result"
    }
   ],
   "source": [
    "rna.obs['Status_on_day_collection_summary']"
   ]
  },
  {
   "cell_type": "code",
   "execution_count": 11,
   "id": "0f530ccf-e37e-4108-8f4e-ac781805b6d9",
   "metadata": {},
   "outputs": [],
   "source": [
    "adt.obs = rna.obs"
   ]
  },
  {
   "cell_type": "code",
   "execution_count": 12,
   "id": "e1702adb-4b4a-464a-b7f5-f7bcaeeb99a6",
   "metadata": {},
   "outputs": [
    {
     "data": {
      "text/plain": [
       "AnnData object with n_obs × n_vars = 590724 × 2000\n",
       "    obs: 'sample_id', 'n_genes', 'n_genes_by_counts', 'total_counts', 'total_counts_mt', 'pct_counts_mt', 'full_clustering', 'initial_clustering', 'Resample', 'Collection_Day', 'Sex', 'Age_interval', 'Swab_result', 'Status', 'Smoker', 'Status_on_day_collection', 'Status_on_day_collection_summary', 'Days_from_onset', 'Site', 'time_after_LPS', 'Worst_Clinical_Status', 'Outcome', 'patient_id', 'split0', 'split1', 'split2', 'split3', 'split4'\n",
       "    var: 'feature_types', 'means', 'variances', 'residual_variances', 'highly_variable_rank', 'highly_variable_nbatches', 'highly_variable_intersection', 'highly_variable'\n",
       "    uns: 'hvg', 'leiden', 'neighbors', 'pca', 'umap'\n",
       "    obsm: 'X_pca', 'X_pca_harmony', 'X_umap'\n",
       "    layers: 'counts'"
      ]
     },
     "execution_count": 12,
     "metadata": {},
     "output_type": "execute_result"
    }
   ],
   "source": [
    "rna"
   ]
  },
  {
   "cell_type": "code",
   "execution_count": 13,
   "id": "aa668eb0-f831-4f12-86c0-a1c249eb4f0e",
   "metadata": {},
   "outputs": [
    {
     "data": {
      "text/plain": [
       "Status_on_day_collection_summary\n",
       "Mild       53\n",
       "Severe     28\n",
       "Healthy    23\n",
       "Name: count, dtype: int64"
      ]
     },
     "execution_count": 13,
     "metadata": {},
     "output_type": "execute_result"
    }
   ],
   "source": [
    "rna.obs[['patient_id', 'Status_on_day_collection_summary']].drop_duplicates().value_counts('Status_on_day_collection_summary')"
   ]
  },
  {
   "cell_type": "code",
   "execution_count": 16,
   "id": "d34e713a-bf34-49e9-8f72-fad287ff1df2",
   "metadata": {},
   "outputs": [
    {
     "data": {
      "text/plain": [
       "AnnData object with n_obs × n_vars = 365712 × 2000\n",
       "    obs: 'sample_id', 'n_genes', 'n_genes_by_counts', 'total_counts', 'total_counts_mt', 'pct_counts_mt', 'full_clustering', 'initial_clustering', 'Resample', 'Collection_Day', 'Sex', 'Age_interval', 'Swab_result', 'Status', 'Smoker', 'Status_on_day_collection', 'Status_on_day_collection_summary', 'Days_from_onset', 'Site', 'time_after_LPS', 'Worst_Clinical_Status', 'Outcome', 'patient_id', 'split0', 'split1', 'split2', 'split3', 'split4'\n",
       "    var: 'feature_types', 'means', 'variances', 'residual_variances', 'highly_variable_rank', 'highly_variable_nbatches', 'highly_variable_intersection', 'highly_variable'\n",
       "    uns: 'hvg', 'leiden', 'neighbors', 'pca', 'umap'\n",
       "    obsm: 'X_pca', 'X_pca_harmony', 'X_umap'\n",
       "    layers: 'counts'"
      ]
     },
     "execution_count": 16,
     "metadata": {},
     "output_type": "execute_result"
    }
   ],
   "source": [
    "mild_samples = np.unique(rna[rna.obs['Status_on_day_collection_summary'] == 'Mild'].obs['patient_id'])\n",
    "mild_samples_to_keep = random.sample(list(mild_samples), 23)\n",
    "severe_samples = np.unique(rna[rna.obs['Status_on_day_collection_summary'] == 'Severe'].obs['patient_id'])\n",
    "severe_samples_to_keep = random.sample(list(severe_samples), 23)\n",
    "rna = rna[(rna.obs['Status_on_day_collection_summary'] == 'Healthy') | (rna.obs['patient_id'].isin(mild_samples_to_keep)) | (rna.obs['patient_id'].isin(severe_samples_to_keep))].copy()\n",
    "rna"
   ]
  },
  {
   "cell_type": "code",
   "execution_count": 17,
   "id": "4d0befd5-5334-49b0-a94c-14da5d3cd082",
   "metadata": {},
   "outputs": [
    {
     "data": {
      "text/plain": [
       "Status_on_day_collection_summary\n",
       "Healthy    23\n",
       "Mild       23\n",
       "Severe     23\n",
       "Name: count, dtype: int64"
      ]
     },
     "execution_count": 17,
     "metadata": {},
     "output_type": "execute_result"
    }
   ],
   "source": [
    "rna.obs[['patient_id', 'Status_on_day_collection_summary']].drop_duplicates().value_counts('Status_on_day_collection_summary')"
   ]
  },
  {
   "cell_type": "code",
   "execution_count": 18,
   "id": "27ea33d5-1bc8-4e0d-8a7d-7f0589e1698b",
   "metadata": {},
   "outputs": [
    {
     "data": {
      "text/plain": [
       "AnnData object with n_obs × n_vars = 365712 × 192\n",
       "    obs: 'sample_id', 'n_genes', 'n_genes_by_counts', 'total_counts', 'total_counts_mt', 'pct_counts_mt', 'full_clustering', 'initial_clustering', 'Resample', 'Collection_Day', 'Sex', 'Age_interval', 'Swab_result', 'Status', 'Smoker', 'Status_on_day_collection', 'Status_on_day_collection_summary', 'Days_from_onset', 'Site', 'time_after_LPS', 'Worst_Clinical_Status', 'Outcome', 'patient_id', 'split0', 'split1', 'split2', 'split3', 'split4'\n",
       "    var: 'feature_types'\n",
       "    uns: 'hvg', 'leiden', 'neighbors', 'pca', 'umap'\n",
       "    obsm: 'X_pca', 'X_pca_harmony', 'X_umap'\n",
       "    layers: 'counts'"
      ]
     },
     "execution_count": 18,
     "metadata": {},
     "output_type": "execute_result"
    }
   ],
   "source": [
    "adt = adt[rna.obs_names].copy()\n",
    "adt"
   ]
  },
  {
   "cell_type": "code",
   "execution_count": 19,
   "id": "5a01d1f7",
   "metadata": {},
   "outputs": [],
   "source": [
    "rna.write('../../../pipeline/data/pp/pbmc_healthy_covid_rna_3cond_balanced.h5ad')\n",
    "adt.write('../../../pipeline/data/pp/pbmc_healthy_covid_adt_3cond_balanced.h5ad')"
   ]
  },
  {
   "cell_type": "code",
   "execution_count": null,
   "id": "d63db698",
   "metadata": {},
   "outputs": [],
   "source": []
  }
 ],
 "metadata": {
  "kernelspec": {
   "display_name": "Python 3 (ipykernel)",
   "language": "python",
   "name": "python3"
  },
  "language_info": {
   "codemirror_mode": {
    "name": "ipython",
    "version": 3
   },
   "file_extension": ".py",
   "mimetype": "text/x-python",
   "name": "python",
   "nbconvert_exporter": "python",
   "pygments_lexer": "ipython3",
   "version": "3.9.15"
  }
 },
 "nbformat": 4,
 "nbformat_minor": 5
}
