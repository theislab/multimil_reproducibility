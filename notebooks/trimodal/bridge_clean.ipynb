{
 "cells": [
  {
   "cell_type": "code",
   "execution_count": 1,
   "id": "05a23fb3-fc26-46fe-98b3-c706d21d0815",
   "metadata": {},
   "outputs": [],
   "source": [
    "x=1"
   ]
  },
  {
   "cell_type": "code",
   "execution_count": 2,
   "id": "52e7f489-547a-40f9-be0b-7f9b90f00bc6",
   "metadata": {},
   "outputs": [],
   "source": [
    "import anndata as ad\n",
    "import numpy as np\n",
    "import scanpy as sc\n",
    "import json"
   ]
  },
  {
   "cell_type": "code",
   "execution_count": 3,
   "id": "1c6ce254-fa52-4701-aa3c-557c2b742c13",
   "metadata": {},
   "outputs": [
    {
     "data": {
      "text/plain": [
       "AnnData object with n_obs × n_vars = 78276 × 50\n",
       "    obs: 'orig.ident', 'nCount_originalexp', 'nFeature_originalexp', 'celltype', 'batch', 'id'\n",
       "    uns: 'batch_colors', 'celltype_colors', 'id_colors', 'neighbors', 'orig.ident_colors', 'umap'\n",
       "    obsm: 'X_umap'\n",
       "    obsp: 'connectivities', 'distances'"
      ]
     },
     "execution_count": 3,
     "metadata": {},
     "output_type": "execute_result"
    }
   ],
   "source": [
    "adata = sc.read('/lustre/groups/ml01/workspace/anastasia.litinetskaya/notebooks/snakemake/trimodal/data/bridge_ref_atac_query.h5ad')\n",
    "adata"
   ]
  },
  {
   "cell_type": "code",
   "execution_count": 7,
   "id": "a1384a76-53c1-4638-bd15-ebd597700255",
   "metadata": {},
   "outputs": [
    {
     "data": {
      "text/plain": [
       "array(['cite', 'multiome'], dtype=object)"
      ]
     },
     "execution_count": 7,
     "metadata": {},
     "output_type": "execute_result"
    }
   ],
   "source": [
    "adata.obs['Modality'] = adata.obs['batch'].str.split('_').str[-1]\n",
    "np.unique(adata.obs['Modality'])"
   ]
  },
  {
   "cell_type": "code",
   "execution_count": 8,
   "id": "25c1ab90-4233-4a0f-a6be-c04eacdfde6f",
   "metadata": {},
   "outputs": [],
   "source": [
    "adata.obsm['latent'] = adata.X.copy()"
   ]
  },
  {
   "cell_type": "code",
   "execution_count": 9,
   "id": "7744c968-a4e8-4af7-965b-84c7a8c6e565",
   "metadata": {},
   "outputs": [],
   "source": [
    "adata.obs['l2_cell_type'] = adata.obs['celltype']"
   ]
  },
  {
   "cell_type": "code",
   "execution_count": 11,
   "id": "0ebf7fca-b208-4a40-89d8-2955468df830",
   "metadata": {},
   "outputs": [
    {
     "data": {
      "text/plain": [
       "TAGTTGTCACCCTCAC-1-s1d1      reference\n",
       "CTATGGCCATAACGGG-1-s1d1      reference\n",
       "CCGCACACAGGTTAAA-1-s1d1      reference\n",
       "TCATTTGGTAATGGAA-1-s1d1      reference\n",
       "ACCACATAGGTGTCCA-1-s1d1      reference\n",
       "                               ...    \n",
       "AAACCGCGTTTGAGGC-12-s4d9    atac query\n",
       "TGACTTAAGTTCCCGT-12-s4d9    atac query\n",
       "GCTGTACCACCGTTCC-12-s4d9    atac query\n",
       "ACACTTGCAACTAGAA-12-s4d9    atac query\n",
       "CACTTAAAGTCTGGGC-12-s4d9    atac query\n",
       "Name: id, Length: 78276, dtype: category\n",
       "Categories (2, object): ['atac query', 'reference']"
      ]
     },
     "execution_count": 11,
     "metadata": {},
     "output_type": "execute_result"
    }
   ],
   "source": [
    "adata.obs['type_of_query'] = adata.obs['id']"
   ]
  },
  {
   "cell_type": "code",
   "execution_count": 12,
   "id": "0394ee30-d8e8-439b-b2ae-1a7aa8a98fac",
   "metadata": {},
   "outputs": [],
   "source": [
    "adata.write('/lustre/groups/ml01/workspace/anastasia.litinetskaya/notebooks/snakemake/trimodal/data/bridge_ref_atac_query_clean.h5ad')"
   ]
  },
  {
   "cell_type": "code",
   "execution_count": null,
   "id": "2f7313f3-5e99-44d8-8cc0-3bb39ffc31fd",
   "metadata": {},
   "outputs": [],
   "source": []
  }
 ],
 "metadata": {
  "kernelspec": {
   "display_name": "Python 3 (ipykernel)",
   "language": "python",
   "name": "python3"
  },
  "language_info": {
   "codemirror_mode": {
    "name": "ipython",
    "version": 3
   },
   "file_extension": ".py",
   "mimetype": "text/x-python",
   "name": "python",
   "nbconvert_exporter": "python",
   "pygments_lexer": "ipython3",
   "version": "3.10.12"
  }
 },
 "nbformat": 4,
 "nbformat_minor": 5
}
