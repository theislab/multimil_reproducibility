{
 "cells": [
  {
   "cell_type": "code",
   "execution_count": 1,
   "id": "8c479a0c-a008-4558-aeac-06a93b6fbb53",
   "metadata": {},
   "outputs": [],
   "source": [
    "import anndata as ad\n",
    "import numpy as np\n",
    "import scanpy as sc\n",
    "import json"
   ]
  },
  {
   "cell_type": "markdown",
   "id": "45cca74d-7054-485f-8822-c34e6bbba73b",
   "metadata": {},
   "source": [
    "# unpaired"
   ]
  },
  {
   "cell_type": "code",
   "execution_count": 2,
   "id": "04a50025-071a-431b-a085-474993bcb68f",
   "metadata": {},
   "outputs": [
    {
     "name": "stderr",
     "output_type": "stream",
     "text": [
      "/lustre/groups/ml01/workspace/anastasia.litinetskaya/mambaforge/envs/multimil/lib/python3.10/site-packages/anndata/_core/anndata.py:1830: UserWarning: Observation names are not unique. To make them unique, call `.obs_names_make_unique`.\n",
      "  utils.warn_names_duplicates(\"obs\")\n"
     ]
    },
    {
     "data": {
      "text/plain": [
       "AnnData object with n_obs × n_vars = 147902 × 32849\n",
       "    obs: 'GEX_pct_counts_mt', 'GEX_n_counts', 'GEX_n_genes', 'GEX_size_factors', 'GEX_phase', 'ATAC_nCount_peaks', 'ATAC_atac_fragments', 'ATAC_reads_in_peaks_frac', 'ATAC_blacklist_fraction', 'ATAC_nucleosome_signal', 'cell_type', 'batch', 'ATAC_pseudotime_order', 'GEX_pseudotime_order', 'Samplename', 'Site', 'DonorNumber', 'Modality', 'VendorLot', 'DonorID', 'DonorAge', 'DonorBMI', 'DonorBloodType', 'DonorRace', 'Ethnicity', 'DonorGender', 'QCMeds', 'DonorSmoker', 'new_batch', 'GEX_n_genes_by_counts', 'ADT_n_antibodies_by_counts', 'ADT_total_counts', 'ADT_iso_count', 'ADT_pseudotime_order', 'is_train', 'concat_key'\n",
       "    uns: 'neighbors'\n",
       "    obsm: 'ADT_X_pca', 'ADT_X_umap', 'ADT_isotype_controls', 'ATAC_gene_activity', 'ATAC_lsi_full', 'ATAC_lsi_red', 'ATAC_umap', 'GEX_X_pca', 'GEX_X_umap', 'X_lsi', 'X_multimap', 'X_pca', 'X_umap'\n",
       "    layers: 'counts'\n",
       "    obsp: 'connectivities'"
      ]
     },
     "execution_count": 2,
     "metadata": {},
     "output_type": "execute_result"
    }
   ],
   "source": [
    "adata = sc.read('/lustre/groups/ml01/workspace/anastasia.litinetskaya/notebooks/snakemake/trimodal/data/multimap_trimodal_integrated.h5ad')\n",
    "adata"
   ]
  },
  {
   "cell_type": "code",
   "execution_count": 3,
   "id": "936204c6-7ef1-4c8e-9f60-a711a8001101",
   "metadata": {},
   "outputs": [
    {
     "data": {
      "text/plain": [
       "dict_keys(['cite_ct_l1_map', 'cite_ct_l2_map', 'multi_ct_l1_map', 'multi_ct_l2_map'])"
      ]
     },
     "execution_count": 3,
     "metadata": {},
     "output_type": "execute_result"
    }
   ],
   "source": [
    "with open('/lustre/groups/ml01/workspace/anastasia.litinetskaya/trimodal_suppl_benchmarks_data/trimodal/cellttype_harmonize.json', 'r') as f:\n",
    "    harmonized_celltypes = json.load(f)\n",
    "harmonized_celltypes.keys()"
   ]
  },
  {
   "cell_type": "code",
   "execution_count": 4,
   "id": "01784525-f546-4831-8333-83edbb994996",
   "metadata": {},
   "outputs": [
    {
     "data": {
      "text/plain": [
       "TAGTTGTCACCCTCAC-1-s1d1         multiome\n",
       "CTATGGCCATAACGGG-1-s1d1         multiome\n",
       "CCGCACACAGGTTAAA-1-s1d1         multiome\n",
       "TCATTTGGTAATGGAA-1-s1d1         multiome\n",
       "ACCACATAGGTGTCCA-1-s1d1         multiome\n",
       "                               ...      \n",
       "TCGTGCTTCGTTACAA-6-s2d5    multiome_atac\n",
       "TGTGGAGCAGGTTAAA-6-s2d5    multiome_atac\n",
       "TTCGCAACATGATTGT-6-s2d5    multiome_atac\n",
       "AAGTAGCCATGTGGGA-6-s2d5    multiome_atac\n",
       "CTCACTCAGCCTTAAA-6-s2d5    multiome_atac\n",
       "Name: Modality, Length: 147902, dtype: category\n",
       "Categories (4, object): ['cite', 'cite_adt', 'multiome', 'multiome_atac']"
      ]
     },
     "execution_count": 4,
     "metadata": {},
     "output_type": "execute_result"
    }
   ],
   "source": [
    "adata.obs['Modality']"
   ]
  },
  {
   "cell_type": "code",
   "execution_count": 5,
   "id": "fffee407-e4d6-4304-899b-d30a87f9f096",
   "metadata": {},
   "outputs": [
    {
     "data": {
      "text/plain": [
       "GCATTAGCATAAGCGG-1-s1d1    Naive CD20+ B IGKC+\n",
       "TACAGGTGTTAGAGTA-1-s1d1             CD14+ Mono\n",
       "AGGATCTAGGTCTACT-1-s1d1    Naive CD20+ B IGKC+\n",
       "GTAGAAAGTGACACAG-1-s1d1                    HSC\n",
       "TCCGAAAAGGATCATA-1-s1d1           Reticulocyte\n",
       "                                  ...         \n",
       "TCCGGGAGTTGGGTTT-1-s2d5                     NK\n",
       "TTGGATGAGGTGCCAA-1-s2d5            NK CD158e1+\n",
       "ACAGAAACACAGCGCT-1-s2d5    Naive CD20+ B IGKC+\n",
       "CACACAAGTCTAATCG-1-s2d5           CD4+ T naive\n",
       "GTCCACTAGCTACGTT-1-s2d5           CD4+ T naive\n",
       "Name: cell_type, Length: 82964, dtype: category\n",
       "Categories (48, object): ['B1 B', 'B1 B IGKC+', 'B1 B IGKC-', 'CD4+ T CD314+ CD45RA+', ..., 'dnT', 'gdT CD158b+', 'gdT TCRVD2+', 'pDC']"
      ]
     },
     "execution_count": 5,
     "metadata": {},
     "output_type": "execute_result"
    }
   ],
   "source": [
    "adata.obs['cell_type'][adata.obs['Modality'].isin(['cite', 'cite_adt'])]"
   ]
  },
  {
   "cell_type": "code",
   "execution_count": 6,
   "id": "3512788f-b425-421b-a808-71c688707e83",
   "metadata": {},
   "outputs": [
    {
     "data": {
      "text/plain": [
       "TAGTTGTCACCCTCAC-1-s1d1    Naive CD20+ B\n",
       "CTATGGCCATAACGGG-1-s1d1       CD14+ Mono\n",
       "CCGCACACAGGTTAAA-1-s1d1           CD8+ T\n",
       "TCATTTGGTAATGGAA-1-s1d1           CD8+ T\n",
       "ACCACATAGGTGTCCA-1-s1d1       CD16+ Mono\n",
       "                               ...      \n",
       "TCGTGCTTCGTTACAA-6-s2d5               NK\n",
       "TGTGGAGCAGGTTAAA-6-s2d5       CD16+ Mono\n",
       "TTCGCAACATGATTGT-6-s2d5           CD8+ T\n",
       "AAGTAGCCATGTGGGA-6-s2d5               NK\n",
       "CTCACTCAGCCTTAAA-6-s2d5       CD14+ Mono\n",
       "Name: cell_type, Length: 64938, dtype: category\n",
       "Categories (48, object): ['B1 B', 'B1 B IGKC+', 'B1 B IGKC-', 'CD4+ T CD314+ CD45RA+', ..., 'dnT', 'gdT CD158b+', 'gdT TCRVD2+', 'pDC']"
      ]
     },
     "execution_count": 6,
     "metadata": {},
     "output_type": "execute_result"
    }
   ],
   "source": [
    "adata.obs['cell_type'][adata.obs['Modality'].isin(['multiome', 'multiome_atac'])]"
   ]
  },
  {
   "cell_type": "code",
   "execution_count": 7,
   "id": "689d4971-aef4-41cb-bc99-b09677ac1462",
   "metadata": {},
   "outputs": [],
   "source": [
    "adata.obs['l2_cell_type'] = 'test'\n",
    "multiome_mask = adata.obs['Modality'].isin(['multiome', 'multiome_atac'])\n",
    "cite_mask = adata.obs['Modality'].isin(['cite', 'cite_adt'])\n",
    "adata.obs.loc[multiome_mask, 'l2_cell_type'] = adata.obs['cell_type'].loc[multiome_mask].map(harmonized_celltypes['multi_ct_l2_map'])\n",
    "adata.obs.loc[cite_mask, 'l2_cell_type'] = adata.obs['cell_type'].loc[cite_mask].map(harmonized_celltypes['cite_ct_l2_map'])"
   ]
  },
  {
   "cell_type": "code",
   "execution_count": 8,
   "id": "902bf839-fda8-4bd5-8348-80b8bca88df5",
   "metadata": {},
   "outputs": [
    {
     "data": {
      "text/plain": [
       "TAGTTGTCACCCTCAC-1-s1d1       Naive CD20+ B\n",
       "CTATGGCCATAACGGG-1-s1d1          CD14+ Mono\n",
       "CCGCACACAGGTTAAA-1-s1d1    CD8+ T activated\n",
       "TCATTTGGTAATGGAA-1-s1d1    CD8+ T activated\n",
       "ACCACATAGGTGTCCA-1-s1d1          CD16+ Mono\n",
       "                                 ...       \n",
       "TCGTGCTTCGTTACAA-6-s2d5                  NK\n",
       "TGTGGAGCAGGTTAAA-6-s2d5          CD16+ Mono\n",
       "TTCGCAACATGATTGT-6-s2d5    CD8+ T activated\n",
       "AAGTAGCCATGTGGGA-6-s2d5                  NK\n",
       "CTCACTCAGCCTTAAA-6-s2d5          CD14+ Mono\n",
       "Name: l2_cell_type, Length: 64938, dtype: object"
      ]
     },
     "execution_count": 8,
     "metadata": {},
     "output_type": "execute_result"
    }
   ],
   "source": [
    "adata.obs['l2_cell_type'][multiome_mask]"
   ]
  },
  {
   "cell_type": "code",
   "execution_count": 9,
   "id": "37b6d332-e2c3-4412-9697-30b956efa3e2",
   "metadata": {},
   "outputs": [
    {
     "data": {
      "text/plain": [
       "GCATTAGCATAAGCGG-1-s1d1    Naive CD20+ B\n",
       "TACAGGTGTTAGAGTA-1-s1d1       CD14+ Mono\n",
       "AGGATCTAGGTCTACT-1-s1d1    Naive CD20+ B\n",
       "GTAGAAAGTGACACAG-1-s1d1              HSC\n",
       "TCCGAAAAGGATCATA-1-s1d1     Reticulocyte\n",
       "                               ...      \n",
       "TCCGGGAGTTGGGTTT-1-s2d5               NK\n",
       "TTGGATGAGGTGCCAA-1-s2d5               NK\n",
       "ACAGAAACACAGCGCT-1-s2d5    Naive CD20+ B\n",
       "CACACAAGTCTAATCG-1-s2d5     CD4+ T naive\n",
       "GTCCACTAGCTACGTT-1-s2d5     CD4+ T naive\n",
       "Name: l2_cell_type, Length: 82964, dtype: object"
      ]
     },
     "execution_count": 9,
     "metadata": {},
     "output_type": "execute_result"
    }
   ],
   "source": [
    "adata.obs['l2_cell_type'][cite_mask]"
   ]
  },
  {
   "cell_type": "code",
   "execution_count": 10,
   "id": "1c3ca4a0-c55b-4b5c-9b91-4899e5172d9b",
   "metadata": {},
   "outputs": [],
   "source": [
    "adata.obsm['latent'] = adata.obsm['X_multimap'].copy()"
   ]
  },
  {
   "cell_type": "code",
   "execution_count": 11,
   "id": "0225682e-cddf-417e-add2-d919b91ddcae",
   "metadata": {},
   "outputs": [
    {
     "data": {
      "text/plain": [
       "AnnData object with n_obs × n_vars = 147902 × 32849\n",
       "    obs: 'GEX_pct_counts_mt', 'GEX_n_counts', 'GEX_n_genes', 'GEX_size_factors', 'GEX_phase', 'ATAC_nCount_peaks', 'ATAC_atac_fragments', 'ATAC_reads_in_peaks_frac', 'ATAC_blacklist_fraction', 'ATAC_nucleosome_signal', 'cell_type', 'batch', 'ATAC_pseudotime_order', 'GEX_pseudotime_order', 'Samplename', 'Site', 'DonorNumber', 'Modality', 'VendorLot', 'DonorID', 'DonorAge', 'DonorBMI', 'DonorBloodType', 'DonorRace', 'Ethnicity', 'DonorGender', 'QCMeds', 'DonorSmoker', 'new_batch', 'GEX_n_genes_by_counts', 'ADT_n_antibodies_by_counts', 'ADT_total_counts', 'ADT_iso_count', 'ADT_pseudotime_order', 'is_train', 'concat_key', 'l2_cell_type'\n",
       "    uns: 'neighbors'\n",
       "    obsm: 'ADT_X_pca', 'ADT_X_umap', 'ADT_isotype_controls', 'ATAC_gene_activity', 'ATAC_lsi_full', 'ATAC_lsi_red', 'ATAC_umap', 'GEX_X_pca', 'GEX_X_umap', 'X_lsi', 'X_multimap', 'X_pca', 'X_umap', 'latent'\n",
       "    layers: 'counts'\n",
       "    obsp: 'connectivities'"
      ]
     },
     "execution_count": 11,
     "metadata": {},
     "output_type": "execute_result"
    }
   ],
   "source": [
    "adata"
   ]
  },
  {
   "cell_type": "code",
   "execution_count": 12,
   "id": "aa287ac3-06d8-42dd-848d-d5a8d58de037",
   "metadata": {},
   "outputs": [],
   "source": [
    "del adata.layers['counts']\n",
    "adata.write('/lustre/groups/ml01/workspace/anastasia.litinetskaya/notebooks/snakemake/trimodal/data/multimap_trimodal_integrated_clean.h5ad')"
   ]
  },
  {
   "cell_type": "markdown",
   "id": "e5e57da7-949d-4cf5-9ba4-f58e635613ad",
   "metadata": {},
   "source": [
    "# average of the embeddings for each cell"
   ]
  },
  {
   "cell_type": "code",
   "execution_count": 13,
   "id": "6ad765e6-4573-45b2-ad87-5504199457d2",
   "metadata": {},
   "outputs": [
    {
     "name": "stderr",
     "output_type": "stream",
     "text": [
      "/lustre/groups/ml01/workspace/anastasia.litinetskaya/mambaforge/envs/multimil/lib/python3.10/site-packages/anndata/_core/anndata.py:1830: UserWarning: Observation names are not unique. To make them unique, call `.obs_names_make_unique`.\n",
      "  utils.warn_names_duplicates(\"obs\")\n"
     ]
    },
    {
     "data": {
      "text/plain": [
       "AnnData object with n_obs × n_vars = 147902 × 32849\n",
       "    obs: 'GEX_pct_counts_mt', 'GEX_n_counts', 'GEX_n_genes', 'GEX_size_factors', 'GEX_phase', 'ATAC_nCount_peaks', 'ATAC_atac_fragments', 'ATAC_reads_in_peaks_frac', 'ATAC_blacklist_fraction', 'ATAC_nucleosome_signal', 'cell_type', 'batch', 'ATAC_pseudotime_order', 'GEX_pseudotime_order', 'Samplename', 'Site', 'DonorNumber', 'Modality', 'VendorLot', 'DonorID', 'DonorAge', 'DonorBMI', 'DonorBloodType', 'DonorRace', 'Ethnicity', 'DonorGender', 'QCMeds', 'DonorSmoker', 'new_batch', 'GEX_n_genes_by_counts', 'ADT_n_antibodies_by_counts', 'ADT_total_counts', 'ADT_iso_count', 'ADT_pseudotime_order', 'is_train', 'concat_key', 'l2_cell_type'\n",
       "    uns: 'neighbors'\n",
       "    obsm: 'ADT_X_pca', 'ADT_X_umap', 'ADT_isotype_controls', 'ATAC_gene_activity', 'ATAC_lsi_full', 'ATAC_lsi_red', 'ATAC_umap', 'GEX_X_pca', 'GEX_X_umap', 'X_lsi', 'X_multimap', 'X_pca', 'X_umap', 'latent'\n",
       "    obsp: 'connectivities'"
      ]
     },
     "execution_count": 13,
     "metadata": {},
     "output_type": "execute_result"
    }
   ],
   "source": [
    "adata = sc.read('/lustre/groups/ml01/workspace/anastasia.litinetskaya/notebooks/snakemake/trimodal/data/multimap_trimodal_integrated_clean.h5ad')\n",
    "adata"
   ]
  },
  {
   "cell_type": "code",
   "execution_count": 14,
   "id": "2e54fd08-b7dc-4292-aab9-859a424cf98e",
   "metadata": {},
   "outputs": [
    {
     "data": {
      "text/plain": [
       "Index(['cite', 'cite_adt', 'multiome', 'multiome_atac'], dtype='object')"
      ]
     },
     "execution_count": 14,
     "metadata": {},
     "output_type": "execute_result"
    }
   ],
   "source": [
    "adata.obs['Modality'].cat.categories"
   ]
  },
  {
   "cell_type": "code",
   "execution_count": 15,
   "id": "46965d88-551c-4631-aa50-8e4f9f5dc8f3",
   "metadata": {},
   "outputs": [
    {
     "data": {
      "text/plain": [
       "AnnData object with n_obs × n_vars = 32469 × 32849\n",
       "    obs: 'GEX_pct_counts_mt', 'GEX_n_counts', 'GEX_n_genes', 'GEX_size_factors', 'GEX_phase', 'ATAC_nCount_peaks', 'ATAC_atac_fragments', 'ATAC_reads_in_peaks_frac', 'ATAC_blacklist_fraction', 'ATAC_nucleosome_signal', 'cell_type', 'batch', 'ATAC_pseudotime_order', 'GEX_pseudotime_order', 'Samplename', 'Site', 'DonorNumber', 'Modality', 'VendorLot', 'DonorID', 'DonorAge', 'DonorBMI', 'DonorBloodType', 'DonorRace', 'Ethnicity', 'DonorGender', 'QCMeds', 'DonorSmoker', 'new_batch', 'GEX_n_genes_by_counts', 'ADT_n_antibodies_by_counts', 'ADT_total_counts', 'ADT_iso_count', 'ADT_pseudotime_order', 'is_train', 'concat_key', 'l2_cell_type'\n",
       "    uns: 'neighbors'\n",
       "    obsm: 'ADT_X_pca', 'ADT_X_umap', 'ADT_isotype_controls', 'ATAC_gene_activity', 'ATAC_lsi_full', 'ATAC_lsi_red', 'ATAC_umap', 'GEX_X_pca', 'GEX_X_umap', 'X_lsi', 'X_multimap', 'X_pca', 'X_umap', 'latent'\n",
       "    obsp: 'connectivities'"
      ]
     },
     "execution_count": 15,
     "metadata": {},
     "output_type": "execute_result"
    }
   ],
   "source": [
    "rna_multiome = adata[adata.obs['Modality'] == 'multiome'].copy()\n",
    "rna_multiome"
   ]
  },
  {
   "cell_type": "code",
   "execution_count": 16,
   "id": "4770dd49-a0b8-4f9f-9548-814e25a3380e",
   "metadata": {},
   "outputs": [
    {
     "data": {
      "text/plain": [
       "AnnData object with n_obs × n_vars = 32469 × 32849\n",
       "    obs: 'GEX_pct_counts_mt', 'GEX_n_counts', 'GEX_n_genes', 'GEX_size_factors', 'GEX_phase', 'ATAC_nCount_peaks', 'ATAC_atac_fragments', 'ATAC_reads_in_peaks_frac', 'ATAC_blacklist_fraction', 'ATAC_nucleosome_signal', 'cell_type', 'batch', 'ATAC_pseudotime_order', 'GEX_pseudotime_order', 'Samplename', 'Site', 'DonorNumber', 'Modality', 'VendorLot', 'DonorID', 'DonorAge', 'DonorBMI', 'DonorBloodType', 'DonorRace', 'Ethnicity', 'DonorGender', 'QCMeds', 'DonorSmoker', 'new_batch', 'GEX_n_genes_by_counts', 'ADT_n_antibodies_by_counts', 'ADT_total_counts', 'ADT_iso_count', 'ADT_pseudotime_order', 'is_train', 'concat_key', 'l2_cell_type'\n",
       "    uns: 'neighbors'\n",
       "    obsm: 'ADT_X_pca', 'ADT_X_umap', 'ADT_isotype_controls', 'ATAC_gene_activity', 'ATAC_lsi_full', 'ATAC_lsi_red', 'ATAC_umap', 'GEX_X_pca', 'GEX_X_umap', 'X_lsi', 'X_multimap', 'X_pca', 'X_umap', 'latent'\n",
       "    obsp: 'connectivities'"
      ]
     },
     "execution_count": 16,
     "metadata": {},
     "output_type": "execute_result"
    }
   ],
   "source": [
    "atac_multiome = adata[adata.obs['Modality'] == 'multiome_atac'].copy()\n",
    "atac_multiome"
   ]
  },
  {
   "cell_type": "code",
   "execution_count": 17,
   "id": "1d7e23e9-4c68-430a-a2dd-7825d80108c4",
   "metadata": {},
   "outputs": [
    {
     "data": {
      "text/plain": [
       "0"
      ]
     },
     "execution_count": 17,
     "metadata": {},
     "output_type": "execute_result"
    }
   ],
   "source": [
    "np.sum(rna_multiome.obs_names != atac_multiome.obs_names)"
   ]
  },
  {
   "cell_type": "code",
   "execution_count": 18,
   "id": "e9b5a6f6-92a9-452f-9e2d-f889b8b71073",
   "metadata": {},
   "outputs": [
    {
     "data": {
      "text/plain": [
       "AnnData object with n_obs × n_vars = 41482 × 32849\n",
       "    obs: 'GEX_pct_counts_mt', 'GEX_n_counts', 'GEX_n_genes', 'GEX_size_factors', 'GEX_phase', 'ATAC_nCount_peaks', 'ATAC_atac_fragments', 'ATAC_reads_in_peaks_frac', 'ATAC_blacklist_fraction', 'ATAC_nucleosome_signal', 'cell_type', 'batch', 'ATAC_pseudotime_order', 'GEX_pseudotime_order', 'Samplename', 'Site', 'DonorNumber', 'Modality', 'VendorLot', 'DonorID', 'DonorAge', 'DonorBMI', 'DonorBloodType', 'DonorRace', 'Ethnicity', 'DonorGender', 'QCMeds', 'DonorSmoker', 'new_batch', 'GEX_n_genes_by_counts', 'ADT_n_antibodies_by_counts', 'ADT_total_counts', 'ADT_iso_count', 'ADT_pseudotime_order', 'is_train', 'concat_key', 'l2_cell_type'\n",
       "    uns: 'neighbors'\n",
       "    obsm: 'ADT_X_pca', 'ADT_X_umap', 'ADT_isotype_controls', 'ATAC_gene_activity', 'ATAC_lsi_full', 'ATAC_lsi_red', 'ATAC_umap', 'GEX_X_pca', 'GEX_X_umap', 'X_lsi', 'X_multimap', 'X_pca', 'X_umap', 'latent'\n",
       "    obsp: 'connectivities'"
      ]
     },
     "execution_count": 18,
     "metadata": {},
     "output_type": "execute_result"
    }
   ],
   "source": [
    "rna_cite = adata[adata.obs['Modality'] == 'cite'].copy()\n",
    "rna_cite"
   ]
  },
  {
   "cell_type": "code",
   "execution_count": 19,
   "id": "f4bb8536-e640-4e0e-928c-f77e64917053",
   "metadata": {},
   "outputs": [
    {
     "data": {
      "text/plain": [
       "AnnData object with n_obs × n_vars = 41482 × 32849\n",
       "    obs: 'GEX_pct_counts_mt', 'GEX_n_counts', 'GEX_n_genes', 'GEX_size_factors', 'GEX_phase', 'ATAC_nCount_peaks', 'ATAC_atac_fragments', 'ATAC_reads_in_peaks_frac', 'ATAC_blacklist_fraction', 'ATAC_nucleosome_signal', 'cell_type', 'batch', 'ATAC_pseudotime_order', 'GEX_pseudotime_order', 'Samplename', 'Site', 'DonorNumber', 'Modality', 'VendorLot', 'DonorID', 'DonorAge', 'DonorBMI', 'DonorBloodType', 'DonorRace', 'Ethnicity', 'DonorGender', 'QCMeds', 'DonorSmoker', 'new_batch', 'GEX_n_genes_by_counts', 'ADT_n_antibodies_by_counts', 'ADT_total_counts', 'ADT_iso_count', 'ADT_pseudotime_order', 'is_train', 'concat_key', 'l2_cell_type'\n",
       "    uns: 'neighbors'\n",
       "    obsm: 'ADT_X_pca', 'ADT_X_umap', 'ADT_isotype_controls', 'ATAC_gene_activity', 'ATAC_lsi_full', 'ATAC_lsi_red', 'ATAC_umap', 'GEX_X_pca', 'GEX_X_umap', 'X_lsi', 'X_multimap', 'X_pca', 'X_umap', 'latent'\n",
       "    obsp: 'connectivities'"
      ]
     },
     "execution_count": 19,
     "metadata": {},
     "output_type": "execute_result"
    }
   ],
   "source": [
    "adt_cite = adata[adata.obs['Modality'] == 'cite_adt'].copy()\n",
    "adt_cite"
   ]
  },
  {
   "cell_type": "code",
   "execution_count": 20,
   "id": "ca182d5c-1867-44d1-915f-5dc18a758bac",
   "metadata": {},
   "outputs": [
    {
     "data": {
      "text/plain": [
       "0"
      ]
     },
     "execution_count": 20,
     "metadata": {},
     "output_type": "execute_result"
    }
   ],
   "source": [
    "np.sum(rna_cite.obs_names != adt_cite.obs_names)"
   ]
  },
  {
   "cell_type": "code",
   "execution_count": 21,
   "id": "565ec726-67c2-47b5-8c9c-ca163d0a7ad8",
   "metadata": {},
   "outputs": [
    {
     "data": {
      "text/plain": [
       "AnnData object with n_obs × n_vars = 32469 × 2\n",
       "    obs: 'GEX_pct_counts_mt', 'GEX_n_counts', 'GEX_n_genes', 'GEX_size_factors', 'GEX_phase', 'ATAC_nCount_peaks', 'ATAC_atac_fragments', 'ATAC_reads_in_peaks_frac', 'ATAC_blacklist_fraction', 'ATAC_nucleosome_signal', 'cell_type', 'batch', 'ATAC_pseudotime_order', 'GEX_pseudotime_order', 'Samplename', 'Site', 'DonorNumber', 'Modality', 'VendorLot', 'DonorID', 'DonorAge', 'DonorBMI', 'DonorBloodType', 'DonorRace', 'Ethnicity', 'DonorGender', 'QCMeds', 'DonorSmoker', 'new_batch', 'GEX_n_genes_by_counts', 'ADT_n_antibodies_by_counts', 'ADT_total_counts', 'ADT_iso_count', 'ADT_pseudotime_order', 'is_train', 'concat_key', 'l2_cell_type'"
      ]
     },
     "execution_count": 21,
     "metadata": {},
     "output_type": "execute_result"
    }
   ],
   "source": [
    "multiome = sc.AnnData(X = 0.5*(rna_multiome.obsm['latent'] + atac_multiome.obsm['latent']), obs=rna_multiome.obs)\n",
    "multiome"
   ]
  },
  {
   "cell_type": "code",
   "execution_count": 22,
   "id": "e46ab8a0-5912-4e37-a02c-01776dc9764f",
   "metadata": {},
   "outputs": [],
   "source": [
    "multiome.obsm['latent'] = multiome.X.copy()"
   ]
  },
  {
   "cell_type": "code",
   "execution_count": 23,
   "id": "47b9a9b3-333e-429c-8f10-884eaecb95ce",
   "metadata": {},
   "outputs": [
    {
     "data": {
      "text/plain": [
       "AnnData object with n_obs × n_vars = 41482 × 2\n",
       "    obs: 'GEX_pct_counts_mt', 'GEX_n_counts', 'GEX_n_genes', 'GEX_size_factors', 'GEX_phase', 'ATAC_nCount_peaks', 'ATAC_atac_fragments', 'ATAC_reads_in_peaks_frac', 'ATAC_blacklist_fraction', 'ATAC_nucleosome_signal', 'cell_type', 'batch', 'ATAC_pseudotime_order', 'GEX_pseudotime_order', 'Samplename', 'Site', 'DonorNumber', 'Modality', 'VendorLot', 'DonorID', 'DonorAge', 'DonorBMI', 'DonorBloodType', 'DonorRace', 'Ethnicity', 'DonorGender', 'QCMeds', 'DonorSmoker', 'new_batch', 'GEX_n_genes_by_counts', 'ADT_n_antibodies_by_counts', 'ADT_total_counts', 'ADT_iso_count', 'ADT_pseudotime_order', 'is_train', 'concat_key', 'l2_cell_type'"
      ]
     },
     "execution_count": 23,
     "metadata": {},
     "output_type": "execute_result"
    }
   ],
   "source": [
    "cite = sc.AnnData(X = 0.5*(rna_cite.obsm['latent'] + adt_cite.obsm['latent']), obs=rna_cite.obs)\n",
    "cite"
   ]
  },
  {
   "cell_type": "code",
   "execution_count": 24,
   "id": "9520dd41-7ce0-4e8f-a18b-7fa673d7a07c",
   "metadata": {},
   "outputs": [],
   "source": [
    "cite.obsm['latent'] = cite.X.copy()"
   ]
  },
  {
   "cell_type": "code",
   "execution_count": 25,
   "id": "9ccd306f-9300-49d1-b325-2417739f28ef",
   "metadata": {},
   "outputs": [
    {
     "data": {
      "text/plain": [
       "AnnData object with n_obs × n_vars = 73951 × 2\n",
       "    obs: 'GEX_pct_counts_mt', 'GEX_n_counts', 'GEX_n_genes', 'GEX_size_factors', 'GEX_phase', 'ATAC_nCount_peaks', 'ATAC_atac_fragments', 'ATAC_reads_in_peaks_frac', 'ATAC_blacklist_fraction', 'ATAC_nucleosome_signal', 'cell_type', 'batch', 'ATAC_pseudotime_order', 'GEX_pseudotime_order', 'Samplename', 'Site', 'DonorNumber', 'Modality', 'VendorLot', 'DonorID', 'DonorAge', 'DonorBMI', 'DonorBloodType', 'DonorRace', 'Ethnicity', 'DonorGender', 'QCMeds', 'DonorSmoker', 'new_batch', 'GEX_n_genes_by_counts', 'ADT_n_antibodies_by_counts', 'ADT_total_counts', 'ADT_iso_count', 'ADT_pseudotime_order', 'is_train', 'concat_key', 'l2_cell_type'\n",
       "    obsm: 'latent'"
      ]
     },
     "execution_count": 25,
     "metadata": {},
     "output_type": "execute_result"
    }
   ],
   "source": [
    "latent = ad.concat([multiome, cite])\n",
    "latent"
   ]
  },
  {
   "cell_type": "code",
   "execution_count": 26,
   "id": "8528f34c-c2d7-4f10-930b-6d3829a0d4c1",
   "metadata": {},
   "outputs": [],
   "source": [
    "latent.write('/lustre/groups/ml01/workspace/anastasia.litinetskaya/notebooks/snakemake/trimodal/data/multimap_trimodal_integrated_clean_average.h5ad')"
   ]
  },
  {
   "cell_type": "code",
   "execution_count": null,
   "id": "d9c34067-56ee-4f95-94bb-9c3cedeb1b1e",
   "metadata": {},
   "outputs": [],
   "source": []
  }
 ],
 "metadata": {
  "kernelspec": {
   "display_name": "Python 3 (ipykernel)",
   "language": "python",
   "name": "python3"
  },
  "language_info": {
   "codemirror_mode": {
    "name": "ipython",
    "version": 3
   },
   "file_extension": ".py",
   "mimetype": "text/x-python",
   "name": "python",
   "nbconvert_exporter": "python",
   "pygments_lexer": "ipython3",
   "version": "3.10.12"
  }
 },
 "nbformat": 4,
 "nbformat_minor": 5
}
