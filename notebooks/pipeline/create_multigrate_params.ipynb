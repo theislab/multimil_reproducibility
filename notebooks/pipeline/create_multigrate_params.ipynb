{
 "cells": [
  {
   "cell_type": "code",
   "execution_count": 32,
   "id": "80612296-c450-4a9a-a389-8c1b797323cf",
   "metadata": {
    "tags": []
   },
   "outputs": [],
   "source": [
    "import json\n",
    "import pandas as pd\n",
    "from itertools import product"
   ]
  },
  {
   "cell_type": "code",
   "execution_count": 90,
   "id": "a4709292-3cad-418d-bd84-2e2bd44163aa",
   "metadata": {
    "tags": []
   },
   "outputs": [],
   "source": [
    "params = {\n",
    "    \"rna_indices_end\": 2000,\n",
    "    \"categorical_covariate_keys\": [\n",
    "        \"sample\",\n",
    "        \"study\",\n",
    "        \"lung_condition_coarse\"\n",
    "    ],\n",
    "    \"z_dim\": 16,\n",
    "    \"attn_dim\": 16,\n",
    "    \"class_loss_coef\": 1.0,\n",
    "    \"cond_dim\": 16,\n",
    "    \"seed\": 0,\n",
    "    \"batch_size\": 256,\n",
    "    \"train_max_epochs\": 2,\n",
    "    \"train_save_checkpoint_every_n_epochs\": 2,\n",
    "    \"query_max_epochs\": 2,\n",
    "    \"query_save_checkpoint_every_n_epochs\": 2,\n",
    "    \"subset_umap\": 20000,\n",
    "    \"umap_colors\": [\n",
    "      \"lung_condition_coarse\",\n",
    "      \"transf_ann_level_1_label\",\n",
    "      \"transf_ann_level_2_label\",\n",
    "      \"transf_ann_level_3_label\",\n",
    "      \"study\"\n",
    "    ]\n",
    "}"
   ]
  },
  {
   "cell_type": "code",
   "execution_count": 91,
   "id": "0cb442f9-3ddf-49b0-9556-0888d2439c57",
   "metadata": {
    "tags": []
   },
   "outputs": [],
   "source": [
    "kl = [1e-1, 1e-2]\n",
    "lr = [1e-3, 1e-2]"
   ]
  },
  {
   "cell_type": "code",
   "execution_count": 92,
   "id": "fd412a34-d712-4189-bcfd-f5dccbc65429",
   "metadata": {
    "tags": []
   },
   "outputs": [
    {
     "data": {
      "text/html": [
       "<div>\n",
       "<style scoped>\n",
       "    .dataframe tbody tr th:only-of-type {\n",
       "        vertical-align: middle;\n",
       "    }\n",
       "\n",
       "    .dataframe tbody tr th {\n",
       "        vertical-align: top;\n",
       "    }\n",
       "\n",
       "    .dataframe thead th {\n",
       "        text-align: right;\n",
       "    }\n",
       "</style>\n",
       "<table border=\"1\" class=\"dataframe\">\n",
       "  <thead>\n",
       "    <tr style=\"text-align: right;\">\n",
       "      <th></th>\n",
       "      <th>kl</th>\n",
       "      <th>lr</th>\n",
       "    </tr>\n",
       "  </thead>\n",
       "  <tbody>\n",
       "    <tr>\n",
       "      <th>0</th>\n",
       "      <td>0.10</td>\n",
       "      <td>0.001</td>\n",
       "    </tr>\n",
       "    <tr>\n",
       "      <th>1</th>\n",
       "      <td>0.10</td>\n",
       "      <td>0.010</td>\n",
       "    </tr>\n",
       "    <tr>\n",
       "      <th>2</th>\n",
       "      <td>0.01</td>\n",
       "      <td>0.001</td>\n",
       "    </tr>\n",
       "    <tr>\n",
       "      <th>3</th>\n",
       "      <td>0.01</td>\n",
       "      <td>0.010</td>\n",
       "    </tr>\n",
       "  </tbody>\n",
       "</table>\n",
       "</div>"
      ],
      "text/plain": [
       "     kl     lr\n",
       "0  0.10  0.001\n",
       "1  0.10  0.010\n",
       "2  0.01  0.001\n",
       "3  0.01  0.010"
      ]
     },
     "execution_count": 92,
     "metadata": {},
     "output_type": "execute_result"
    }
   ],
   "source": [
    "params_df = pd.DataFrame(list(product(kl, lr)), columns=['kl', 'lr'])\n",
    "params_df"
   ]
  },
  {
   "cell_type": "code",
   "execution_count": 93,
   "id": "827e321b-eda5-4d79-a6ab-04d6a9ec0fa7",
   "metadata": {
    "tags": []
   },
   "outputs": [],
   "source": [
    "for k in params:\n",
    "    params_df[k] = [params[k]]*len(params_df)"
   ]
  },
  {
   "cell_type": "code",
   "execution_count": 94,
   "id": "caaf78fa-f65a-49c8-a6fc-b212b714c437",
   "metadata": {
    "tags": []
   },
   "outputs": [
    {
     "data": {
      "text/html": [
       "<div>\n",
       "<style scoped>\n",
       "    .dataframe tbody tr th:only-of-type {\n",
       "        vertical-align: middle;\n",
       "    }\n",
       "\n",
       "    .dataframe tbody tr th {\n",
       "        vertical-align: top;\n",
       "    }\n",
       "\n",
       "    .dataframe thead th {\n",
       "        text-align: right;\n",
       "    }\n",
       "</style>\n",
       "<table border=\"1\" class=\"dataframe\">\n",
       "  <thead>\n",
       "    <tr style=\"text-align: right;\">\n",
       "      <th></th>\n",
       "      <th>kl</th>\n",
       "      <th>lr</th>\n",
       "      <th>rna_indices_end</th>\n",
       "      <th>categorical_covariate_keys</th>\n",
       "      <th>z_dim</th>\n",
       "      <th>attn_dim</th>\n",
       "      <th>class_loss_coef</th>\n",
       "      <th>cond_dim</th>\n",
       "      <th>seed</th>\n",
       "      <th>batch_size</th>\n",
       "      <th>train_max_epochs</th>\n",
       "      <th>train_save_checkpoint_every_n_epochs</th>\n",
       "      <th>query_max_epochs</th>\n",
       "      <th>query_save_checkpoint_every_n_epochs</th>\n",
       "      <th>subset_umap</th>\n",
       "      <th>umap_colors</th>\n",
       "    </tr>\n",
       "  </thead>\n",
       "  <tbody>\n",
       "    <tr>\n",
       "      <th>0</th>\n",
       "      <td>0.10</td>\n",
       "      <td>0.001</td>\n",
       "      <td>2000</td>\n",
       "      <td>[sample, study, lung_condition_coarse]</td>\n",
       "      <td>16</td>\n",
       "      <td>16</td>\n",
       "      <td>1.0</td>\n",
       "      <td>16</td>\n",
       "      <td>0</td>\n",
       "      <td>256</td>\n",
       "      <td>2</td>\n",
       "      <td>2</td>\n",
       "      <td>2</td>\n",
       "      <td>2</td>\n",
       "      <td>20000</td>\n",
       "      <td>[lung_condition_coarse, transf_ann_level_1_lab...</td>\n",
       "    </tr>\n",
       "    <tr>\n",
       "      <th>1</th>\n",
       "      <td>0.10</td>\n",
       "      <td>0.010</td>\n",
       "      <td>2000</td>\n",
       "      <td>[sample, study, lung_condition_coarse]</td>\n",
       "      <td>16</td>\n",
       "      <td>16</td>\n",
       "      <td>1.0</td>\n",
       "      <td>16</td>\n",
       "      <td>0</td>\n",
       "      <td>256</td>\n",
       "      <td>2</td>\n",
       "      <td>2</td>\n",
       "      <td>2</td>\n",
       "      <td>2</td>\n",
       "      <td>20000</td>\n",
       "      <td>[lung_condition_coarse, transf_ann_level_1_lab...</td>\n",
       "    </tr>\n",
       "    <tr>\n",
       "      <th>2</th>\n",
       "      <td>0.01</td>\n",
       "      <td>0.001</td>\n",
       "      <td>2000</td>\n",
       "      <td>[sample, study, lung_condition_coarse]</td>\n",
       "      <td>16</td>\n",
       "      <td>16</td>\n",
       "      <td>1.0</td>\n",
       "      <td>16</td>\n",
       "      <td>0</td>\n",
       "      <td>256</td>\n",
       "      <td>2</td>\n",
       "      <td>2</td>\n",
       "      <td>2</td>\n",
       "      <td>2</td>\n",
       "      <td>20000</td>\n",
       "      <td>[lung_condition_coarse, transf_ann_level_1_lab...</td>\n",
       "    </tr>\n",
       "    <tr>\n",
       "      <th>3</th>\n",
       "      <td>0.01</td>\n",
       "      <td>0.010</td>\n",
       "      <td>2000</td>\n",
       "      <td>[sample, study, lung_condition_coarse]</td>\n",
       "      <td>16</td>\n",
       "      <td>16</td>\n",
       "      <td>1.0</td>\n",
       "      <td>16</td>\n",
       "      <td>0</td>\n",
       "      <td>256</td>\n",
       "      <td>2</td>\n",
       "      <td>2</td>\n",
       "      <td>2</td>\n",
       "      <td>2</td>\n",
       "      <td>20000</td>\n",
       "      <td>[lung_condition_coarse, transf_ann_level_1_lab...</td>\n",
       "    </tr>\n",
       "  </tbody>\n",
       "</table>\n",
       "</div>"
      ],
      "text/plain": [
       "     kl     lr  rna_indices_end              categorical_covariate_keys   \n",
       "0  0.10  0.001             2000  [sample, study, lung_condition_coarse]  \\\n",
       "1  0.10  0.010             2000  [sample, study, lung_condition_coarse]   \n",
       "2  0.01  0.001             2000  [sample, study, lung_condition_coarse]   \n",
       "3  0.01  0.010             2000  [sample, study, lung_condition_coarse]   \n",
       "\n",
       "   z_dim  attn_dim  class_loss_coef  cond_dim  seed  batch_size   \n",
       "0     16        16              1.0        16     0         256  \\\n",
       "1     16        16              1.0        16     0         256   \n",
       "2     16        16              1.0        16     0         256   \n",
       "3     16        16              1.0        16     0         256   \n",
       "\n",
       "   train_max_epochs  train_save_checkpoint_every_n_epochs  query_max_epochs   \n",
       "0                 2                                     2                 2  \\\n",
       "1                 2                                     2                 2   \n",
       "2                 2                                     2                 2   \n",
       "3                 2                                     2                 2   \n",
       "\n",
       "   query_save_checkpoint_every_n_epochs  subset_umap   \n",
       "0                                     2        20000  \\\n",
       "1                                     2        20000   \n",
       "2                                     2        20000   \n",
       "3                                     2        20000   \n",
       "\n",
       "                                         umap_colors  \n",
       "0  [lung_condition_coarse, transf_ann_level_1_lab...  \n",
       "1  [lung_condition_coarse, transf_ann_level_1_lab...  \n",
       "2  [lung_condition_coarse, transf_ann_level_1_lab...  \n",
       "3  [lung_condition_coarse, transf_ann_level_1_lab...  "
      ]
     },
     "execution_count": 94,
     "metadata": {},
     "output_type": "execute_result"
    }
   ],
   "source": [
    "params_df"
   ]
  },
  {
   "cell_type": "code",
   "execution_count": 95,
   "id": "ad8ab8ea-1cbb-4c3f-b67b-9564c6193786",
   "metadata": {
    "tags": []
   },
   "outputs": [],
   "source": [
    "params_df.to_csv('../data/params/hlca_small/multigrate.tsv', sep='\\t')"
   ]
  },
  {
   "cell_type": "code",
   "execution_count": null,
   "id": "1c467909-2ef1-4871-a0b2-800af05e0ecd",
   "metadata": {},
   "outputs": [],
   "source": []
  }
 ],
 "metadata": {
  "kernelspec": {
   "display_name": "Python 3 (ipykernel)",
   "language": "python",
   "name": "python3"
  },
  "language_info": {
   "codemirror_mode": {
    "name": "ipython",
    "version": 3
   },
   "file_extension": ".py",
   "mimetype": "text/x-python",
   "name": "python",
   "nbconvert_exporter": "python",
   "pygments_lexer": "ipython3",
   "version": "3.10.10"
  }
 },
 "nbformat": 4,
 "nbformat_minor": 5
}
