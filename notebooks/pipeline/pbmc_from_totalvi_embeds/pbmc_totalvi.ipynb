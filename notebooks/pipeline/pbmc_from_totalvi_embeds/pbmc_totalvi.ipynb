{
 "cells": [
  {
   "cell_type": "code",
   "execution_count": 1,
   "id": "c71a99d9-d209-4171-923b-5b6c829c5d3a",
   "metadata": {},
   "outputs": [],
   "source": [
    "x=1"
   ]
  },
  {
   "cell_type": "code",
   "execution_count": 2,
   "id": "8d25dcf7-9618-4422-831a-583be69153d7",
   "metadata": {},
   "outputs": [],
   "source": [
    "import scanpy as sc"
   ]
  },
  {
   "cell_type": "code",
   "execution_count": 3,
   "id": "c3d32f3c-a74f-404a-b2f6-b6dbf0c68d49",
   "metadata": {},
   "outputs": [
    {
     "data": {
      "text/plain": [
       "AnnData object with n_obs × n_vars = 647366 × 2000\n",
       "    obs: 'sample_id', 'n_genes', 'n_genes_by_counts', 'total_counts', 'total_counts_mt', 'pct_counts_mt', 'full_clustering', 'initial_clustering', 'Resample', 'Collection_Day', 'Sex', 'Age_interval', 'Swab_result', 'Status', 'Smoker', 'Status_on_day_collection', 'Status_on_day_collection_summary', 'Days_from_onset', 'Site', 'time_after_LPS', 'Worst_Clinical_Status', 'Outcome', 'patient_id', 'split0', 'split1', 'split2', 'split3', 'split4', '_scvi_labels', '_scvi_batch'\n",
       "    var: 'feature_types', 'means', 'variances', 'residual_variances', 'highly_variable_rank', 'highly_variable_nbatches', 'highly_variable_intersection', 'highly_variable'\n",
       "    uns: 'Site_colors', 'Status_on_day_collection_summary_colors', '_scvi_manager_uuid', '_scvi_uuid', 'hvg', 'initial_clustering_colors', 'leiden', 'neighbors', 'pca', 'umap'\n",
       "    obsm: 'X_pca', 'X_pca_harmony', 'X_totalVI', 'X_umap', '_scvi_extra_categorical_covs', 'protein_expression'\n",
       "    layers: 'counts'\n",
       "    obsp: 'connectivities', 'distances'"
      ]
     },
     "execution_count": 3,
     "metadata": {},
     "output_type": "execute_result"
    }
   ],
   "source": [
    "adata = sc.read('../../../pipeline/data/pp/totalvi_pbmc.h5ad')\n",
    "adata"
   ]
  },
  {
   "cell_type": "code",
   "execution_count": 5,
   "id": "c0c5e3ed-aa60-4f2e-8fb7-592f15fb0892",
   "metadata": {},
   "outputs": [
    {
     "data": {
      "text/plain": [
       "Index(['Asymptomatic', 'Critical', 'Healthy', 'LPS_10hours', 'LPS_90mins',\n",
       "       'Mild', 'Moderate', 'Non_covid', 'Severe'],\n",
       "      dtype='object')"
      ]
     },
     "execution_count": 5,
     "metadata": {},
     "output_type": "execute_result"
    }
   ],
   "source": [
    "adata.obs['Status_on_day_collection_summary'].cat.categories"
   ]
  },
  {
   "cell_type": "code",
   "execution_count": 7,
   "id": "560b9ebe-3c0d-4534-aff5-1f1c46d17cc0",
   "metadata": {},
   "outputs": [
    {
     "data": {
      "text/plain": [
       "AnnData object with n_obs × n_vars = 624325 × 2000\n",
       "    obs: 'sample_id', 'n_genes', 'n_genes_by_counts', 'total_counts', 'total_counts_mt', 'pct_counts_mt', 'full_clustering', 'initial_clustering', 'Resample', 'Collection_Day', 'Sex', 'Age_interval', 'Swab_result', 'Status', 'Smoker', 'Status_on_day_collection', 'Status_on_day_collection_summary', 'Days_from_onset', 'Site', 'time_after_LPS', 'Worst_Clinical_Status', 'Outcome', 'patient_id', 'split0', 'split1', 'split2', 'split3', 'split4', '_scvi_labels', '_scvi_batch'\n",
       "    var: 'feature_types', 'means', 'variances', 'residual_variances', 'highly_variable_rank', 'highly_variable_nbatches', 'highly_variable_intersection', 'highly_variable'\n",
       "    uns: 'Site_colors', 'Status_on_day_collection_summary_colors', '_scvi_manager_uuid', '_scvi_uuid', 'hvg', 'initial_clustering_colors', 'leiden', 'neighbors', 'pca', 'umap'\n",
       "    obsm: 'X_pca', 'X_pca_harmony', 'X_totalVI', 'X_umap', '_scvi_extra_categorical_covs', 'protein_expression'\n",
       "    layers: 'counts'\n",
       "    obsp: 'connectivities', 'distances'"
      ]
     },
     "execution_count": 7,
     "metadata": {},
     "output_type": "execute_result"
    }
   ],
   "source": [
    "adata = adata[~adata.obs['Status_on_day_collection_summary'].isin(['Non_covid', 'LPS_10hours', 'LPS_90mins'])].copy()\n",
    "adata"
   ]
  },
  {
   "cell_type": "code",
   "execution_count": 9,
   "id": "b0610373-2ce2-4308-b5e7-4fdda6aff95f",
   "metadata": {},
   "outputs": [
    {
     "data": {
      "text/plain": [
       "Moderate        198632\n",
       "Mild            135936\n",
       "Healthy          97039\n",
       "Critical         80852\n",
       "Severe           78265\n",
       "Asymptomatic     33601\n",
       "Name: Status_on_day_collection_summary, dtype: int64"
      ]
     },
     "execution_count": 9,
     "metadata": {},
     "output_type": "execute_result"
    }
   ],
   "source": [
    "adata.obs['Status_on_day_collection_summary'].value_counts()"
   ]
  },
  {
   "cell_type": "code",
   "execution_count": 18,
   "id": "32fd2d1e-fdf7-4e92-96e2-69d4a93e8814",
   "metadata": {},
   "outputs": [
    {
     "data": {
      "text/html": [
       "<div>\n",
       "<style scoped>\n",
       "    .dataframe tbody tr th:only-of-type {\n",
       "        vertical-align: middle;\n",
       "    }\n",
       "\n",
       "    .dataframe tbody tr th {\n",
       "        vertical-align: top;\n",
       "    }\n",
       "\n",
       "    .dataframe thead th {\n",
       "        text-align: right;\n",
       "    }\n",
       "</style>\n",
       "<table border=\"1\" class=\"dataframe\">\n",
       "  <thead>\n",
       "    <tr style=\"text-align: right;\">\n",
       "      <th></th>\n",
       "      <th>patient_id</th>\n",
       "    </tr>\n",
       "    <tr>\n",
       "      <th>Status_on_day_collection_summary</th>\n",
       "      <th></th>\n",
       "    </tr>\n",
       "  </thead>\n",
       "  <tbody>\n",
       "    <tr>\n",
       "      <th>Asymptomatic</th>\n",
       "      <td>9</td>\n",
       "    </tr>\n",
       "    <tr>\n",
       "      <th>Critical</th>\n",
       "      <td>15</td>\n",
       "    </tr>\n",
       "    <tr>\n",
       "      <th>Healthy</th>\n",
       "      <td>23</td>\n",
       "    </tr>\n",
       "    <tr>\n",
       "      <th>Mild</th>\n",
       "      <td>23</td>\n",
       "    </tr>\n",
       "    <tr>\n",
       "      <th>Moderate</th>\n",
       "      <td>30</td>\n",
       "    </tr>\n",
       "    <tr>\n",
       "      <th>Severe</th>\n",
       "      <td>13</td>\n",
       "    </tr>\n",
       "  </tbody>\n",
       "</table>\n",
       "</div>"
      ],
      "text/plain": [
       "                                  patient_id\n",
       "Status_on_day_collection_summary            \n",
       "Asymptomatic                               9\n",
       "Critical                                  15\n",
       "Healthy                                   23\n",
       "Mild                                      23\n",
       "Moderate                                  30\n",
       "Severe                                    13"
      ]
     },
     "execution_count": 18,
     "metadata": {},
     "output_type": "execute_result"
    }
   ],
   "source": [
    "adata.obs[['Status_on_day_collection_summary', 'patient_id']].drop_duplicates().groupby('Status_on_day_collection_summary').agg('count')"
   ]
  },
  {
   "cell_type": "code",
   "execution_count": 19,
   "id": "650d39fc-5bc2-471c-9c09-f188be0cea45",
   "metadata": {},
   "outputs": [
    {
     "data": {
      "text/plain": [
       "AnnData object with n_obs × n_vars = 624325 × 20\n",
       "    obs: 'sample_id', 'n_genes', 'n_genes_by_counts', 'total_counts', 'total_counts_mt', 'pct_counts_mt', 'full_clustering', 'initial_clustering', 'Resample', 'Collection_Day', 'Sex', 'Age_interval', 'Swab_result', 'Status', 'Smoker', 'Status_on_day_collection', 'Status_on_day_collection_summary', 'Days_from_onset', 'Site', 'time_after_LPS', 'Worst_Clinical_Status', 'Outcome', 'patient_id', 'split0', 'split1', 'split2', 'split3', 'split4', '_scvi_labels', '_scvi_batch'\n",
       "    obsm: 'X_umap'"
      ]
     },
     "execution_count": 19,
     "metadata": {},
     "output_type": "execute_result"
    }
   ],
   "source": [
    "tmp = sc.AnnData(adata.obsm['X_totalVI'])\n",
    "tmp.obs = adata.obs\n",
    "tmp.obsm['X_umap'] = adata.obsm['X_umap']\n",
    "tmp"
   ]
  },
  {
   "cell_type": "code",
   "execution_count": 20,
   "id": "65360359-c23b-448d-902a-b48f37e84239",
   "metadata": {},
   "outputs": [],
   "source": [
    "tmp.write('../../../pipeline/data/pp/totalvi_pbmc_embed_all_cond.h5ad')"
   ]
  },
  {
   "cell_type": "code",
   "execution_count": 21,
   "id": "fc5ed2e2-9657-483e-b46e-95395958d99f",
   "metadata": {},
   "outputs": [
    {
     "data": {
      "text/plain": [
       "AnnData object with n_obs × n_vars = 590724 × 20\n",
       "    obs: 'sample_id', 'n_genes', 'n_genes_by_counts', 'total_counts', 'total_counts_mt', 'pct_counts_mt', 'full_clustering', 'initial_clustering', 'Resample', 'Collection_Day', 'Sex', 'Age_interval', 'Swab_result', 'Status', 'Smoker', 'Status_on_day_collection', 'Status_on_day_collection_summary', 'Days_from_onset', 'Site', 'time_after_LPS', 'Worst_Clinical_Status', 'Outcome', 'patient_id', 'split0', 'split1', 'split2', 'split3', 'split4', '_scvi_labels', '_scvi_batch'\n",
       "    obsm: 'X_umap'"
      ]
     },
     "execution_count": 21,
     "metadata": {},
     "output_type": "execute_result"
    }
   ],
   "source": [
    "tmp = tmp[tmp.obs['Status_on_day_collection_summary'] != 'Asymptomatic'].copy()\n",
    "tmp"
   ]
  },
  {
   "cell_type": "code",
   "execution_count": 25,
   "id": "cdc901d2-1088-477c-a224-6ade5b67cbb1",
   "metadata": {},
   "outputs": [],
   "source": [
    "tmp.obs['Status_on_day_collection_summary'] = tmp.obs['Status_on_day_collection_summary'].str.replace('Critical', 'Severe')\n",
    "tmp.obs['Status_on_day_collection_summary'] = tmp.obs['Status_on_day_collection_summary'].str.replace('Moderate', 'Mild')\n",
    "tmp.obs['Status_on_day_collection_summary'] = tmp.obs['Status_on_day_collection_summary'].astype('category')"
   ]
  },
  {
   "cell_type": "code",
   "execution_count": 26,
   "id": "3064e8fe-97a5-4ee1-9c3e-2f4f14bc30bf",
   "metadata": {},
   "outputs": [
    {
     "data": {
      "text/plain": [
       "covid_index\n",
       "AAACCTGAGAAACCTA-MH9179824       Mild\n",
       "AAACCTGAGAGTAATC-MH9179824       Mild\n",
       "AAACCTGAGAGTGAGA-MH9179824       Mild\n",
       "AAACCTGAGGAATCGC-MH9179824       Mild\n",
       "AAACCTGAGTGTTGAA-MH9179824       Mild\n",
       "                               ...   \n",
       "BGCV15_TTTGTCAAGGCGATAC-1      Severe\n",
       "BGCV15_TTTGTCACAAGCCATT-1     Healthy\n",
       "BGCV15_TTTGTCACAGACACTT-1        Mild\n",
       "BGCV15_TTTGTCAGTTACGGAG-1        Mild\n",
       "BGCV15_TTTGTCATCGAATGGG-1      Severe\n",
       "Name: Status_on_day_collection_summary, Length: 590724, dtype: category\n",
       "Categories (3, object): ['Healthy', 'Mild', 'Severe']"
      ]
     },
     "execution_count": 26,
     "metadata": {},
     "output_type": "execute_result"
    }
   ],
   "source": [
    "tmp.obs['Status_on_day_collection_summary']"
   ]
  },
  {
   "cell_type": "code",
   "execution_count": 27,
   "id": "7b9e83a5-6465-48be-aae3-6f2fdc249f2b",
   "metadata": {},
   "outputs": [
    {
     "data": {
      "text/plain": [
       "Mild       334568\n",
       "Severe     159117\n",
       "Healthy     97039\n",
       "Name: Status_on_day_collection_summary, dtype: int64"
      ]
     },
     "execution_count": 27,
     "metadata": {},
     "output_type": "execute_result"
    }
   ],
   "source": [
    "tmp.obs['Status_on_day_collection_summary'].value_counts()"
   ]
  },
  {
   "cell_type": "code",
   "execution_count": 29,
   "id": "0ea94984-701c-46e5-8782-bc1635c763c7",
   "metadata": {},
   "outputs": [
    {
     "data": {
      "text/html": [
       "<div>\n",
       "<style scoped>\n",
       "    .dataframe tbody tr th:only-of-type {\n",
       "        vertical-align: middle;\n",
       "    }\n",
       "\n",
       "    .dataframe tbody tr th {\n",
       "        vertical-align: top;\n",
       "    }\n",
       "\n",
       "    .dataframe thead th {\n",
       "        text-align: right;\n",
       "    }\n",
       "</style>\n",
       "<table border=\"1\" class=\"dataframe\">\n",
       "  <thead>\n",
       "    <tr style=\"text-align: right;\">\n",
       "      <th></th>\n",
       "      <th>patient_id</th>\n",
       "    </tr>\n",
       "    <tr>\n",
       "      <th>Status_on_day_collection_summary</th>\n",
       "      <th></th>\n",
       "    </tr>\n",
       "  </thead>\n",
       "  <tbody>\n",
       "    <tr>\n",
       "      <th>Healthy</th>\n",
       "      <td>23</td>\n",
       "    </tr>\n",
       "    <tr>\n",
       "      <th>Mild</th>\n",
       "      <td>53</td>\n",
       "    </tr>\n",
       "    <tr>\n",
       "      <th>Severe</th>\n",
       "      <td>28</td>\n",
       "    </tr>\n",
       "  </tbody>\n",
       "</table>\n",
       "</div>"
      ],
      "text/plain": [
       "                                  patient_id\n",
       "Status_on_day_collection_summary            \n",
       "Healthy                                   23\n",
       "Mild                                      53\n",
       "Severe                                    28"
      ]
     },
     "execution_count": 29,
     "metadata": {},
     "output_type": "execute_result"
    }
   ],
   "source": [
    "tmp.obs[['Status_on_day_collection_summary', 'patient_id']].drop_duplicates().groupby('Status_on_day_collection_summary').agg('count')"
   ]
  },
  {
   "cell_type": "code",
   "execution_count": 30,
   "id": "fd4699da-a390-4843-95ac-6a2095714d41",
   "metadata": {},
   "outputs": [],
   "source": [
    "tmp.write('../../../pipeline/data/pp/totalvi_pbmc_embed_3_cond.h5ad')"
   ]
  },
  {
   "cell_type": "code",
   "execution_count": null,
   "id": "49ac8fa6-63fe-483d-a386-a69e2fa9f473",
   "metadata": {},
   "outputs": [],
   "source": []
  }
 ],
 "metadata": {
  "kernelspec": {
   "display_name": "Python 3 (ipykernel)",
   "language": "python",
   "name": "python3"
  },
  "language_info": {
   "codemirror_mode": {
    "name": "ipython",
    "version": 3
   },
   "file_extension": ".py",
   "mimetype": "text/x-python",
   "name": "python",
   "nbconvert_exporter": "python",
   "pygments_lexer": "ipython3",
   "version": "3.10.12"
  }
 },
 "nbformat": 4,
 "nbformat_minor": 5
}
