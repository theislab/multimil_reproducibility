{
 "cells": [
  {
   "cell_type": "code",
   "execution_count": 4,
   "id": "ef0d9e1c",
   "metadata": {},
   "outputs": [
    {
     "ename": "AttributeError",
     "evalue": "module 'anndata._core.views' has no attribute 'AwkwardArrayView'",
     "output_type": "error",
     "traceback": [
      "\u001b[0;31m---------------------------------------------------------------------------\u001b[0m",
      "\u001b[0;31mAttributeError\u001b[0m                            Traceback (most recent call last)",
      "Cell \u001b[0;32mIn[4], line 4\u001b[0m\n\u001b[1;32m      1\u001b[0m \u001b[38;5;28;01mimport\u001b[39;00m \u001b[38;5;21;01mwarnings\u001b[39;00m\n\u001b[1;32m      2\u001b[0m warnings\u001b[38;5;241m.\u001b[39msimplefilter(action\u001b[38;5;241m=\u001b[39m\u001b[38;5;124m'\u001b[39m\u001b[38;5;124mignore\u001b[39m\u001b[38;5;124m'\u001b[39m)\n\u001b[0;32m----> 4\u001b[0m \u001b[38;5;28;01mimport\u001b[39;00m \u001b[38;5;21;01manndata\u001b[39;00m \u001b[38;5;28;01mas\u001b[39;00m \u001b[38;5;21;01mad\u001b[39;00m\n\u001b[1;32m      5\u001b[0m \u001b[38;5;28;01mimport\u001b[39;00m \u001b[38;5;21;01mpandas\u001b[39;00m \u001b[38;5;28;01mas\u001b[39;00m \u001b[38;5;21;01mpd\u001b[39;00m\n\u001b[1;32m      6\u001b[0m \u001b[38;5;28;01mimport\u001b[39;00m \u001b[38;5;21;01mnumpy\u001b[39;00m \u001b[38;5;28;01mas\u001b[39;00m \u001b[38;5;21;01mnp\u001b[39;00m\n",
      "File \u001b[0;32m~/miniconda3/envs/multimil_38/lib/python3.8/site-packages/anndata/__init__.py:10\u001b[0m\n\u001b[1;32m      8\u001b[0m \u001b[38;5;28;01mfrom\u001b[39;00m \u001b[38;5;21;01m.\u001b[39;00m\u001b[38;5;21;01m_core\u001b[39;00m\u001b[38;5;21;01m.\u001b[39;00m\u001b[38;5;21;01mmerge\u001b[39;00m \u001b[38;5;28;01mimport\u001b[39;00m concat\n\u001b[1;32m      9\u001b[0m \u001b[38;5;28;01mfrom\u001b[39;00m \u001b[38;5;21;01m.\u001b[39;00m\u001b[38;5;21;01m_core\u001b[39;00m\u001b[38;5;21;01m.\u001b[39;00m\u001b[38;5;21;01mraw\u001b[39;00m \u001b[38;5;28;01mimport\u001b[39;00m Raw\n\u001b[0;32m---> 10\u001b[0m \u001b[38;5;28;01mfrom\u001b[39;00m \u001b[38;5;21;01m.\u001b[39;00m\u001b[38;5;21;01m_io\u001b[39;00m \u001b[38;5;28;01mimport\u001b[39;00m (\n\u001b[1;32m     11\u001b[0m     read_h5ad,\n\u001b[1;32m     12\u001b[0m     read_loom,\n\u001b[1;32m     13\u001b[0m     read_hdf,\n\u001b[1;32m     14\u001b[0m     read_excel,\n\u001b[1;32m     15\u001b[0m     read_umi_tools,\n\u001b[1;32m     16\u001b[0m     read_csv,\n\u001b[1;32m     17\u001b[0m     read_text,\n\u001b[1;32m     18\u001b[0m     read_mtx,\n\u001b[1;32m     19\u001b[0m     read_zarr,\n\u001b[1;32m     20\u001b[0m )\n\u001b[1;32m     21\u001b[0m \u001b[38;5;28;01mfrom\u001b[39;00m \u001b[38;5;21;01m.\u001b[39;00m\u001b[38;5;21;01m_warnings\u001b[39;00m \u001b[38;5;28;01mimport\u001b[39;00m (\n\u001b[1;32m     22\u001b[0m     OldFormatWarning,\n\u001b[1;32m     23\u001b[0m     WriteWarning,\n\u001b[1;32m     24\u001b[0m     ImplicitModificationWarning,\n\u001b[1;32m     25\u001b[0m     ExperimentalFeatureWarning,\n\u001b[1;32m     26\u001b[0m )\n\u001b[1;32m     28\u001b[0m \u001b[38;5;66;03m# backwards compat / shortcut for default format\u001b[39;00m\n",
      "File \u001b[0;32m~/miniconda3/envs/multimil_38/lib/python3.8/site-packages/anndata/_io/__init__.py:1\u001b[0m\n\u001b[0;32m----> 1\u001b[0m \u001b[38;5;28;01mfrom\u001b[39;00m \u001b[38;5;21;01m.\u001b[39;00m\u001b[38;5;21;01mread\u001b[39;00m \u001b[38;5;28;01mimport\u001b[39;00m (\n\u001b[1;32m      2\u001b[0m     read_csv,\n\u001b[1;32m      3\u001b[0m     read_excel,\n\u001b[1;32m      4\u001b[0m     read_umi_tools,\n\u001b[1;32m      5\u001b[0m     read_hdf,\n\u001b[1;32m      6\u001b[0m     read_loom,\n\u001b[1;32m      7\u001b[0m     read_mtx,\n\u001b[1;32m      8\u001b[0m     read_text,\n\u001b[1;32m      9\u001b[0m     read_zarr,\n\u001b[1;32m     10\u001b[0m     read_h5ad,\n\u001b[1;32m     11\u001b[0m )\n\u001b[1;32m     12\u001b[0m \u001b[38;5;28;01mfrom\u001b[39;00m \u001b[38;5;21;01m.\u001b[39;00m\u001b[38;5;21;01mwrite\u001b[39;00m \u001b[38;5;28;01mimport\u001b[39;00m write_csvs, write_loom, _write_h5ad, write_zarr\n\u001b[1;32m     13\u001b[0m \u001b[38;5;28;01mfrom\u001b[39;00m \u001b[38;5;21;01m.\u001b[39;00m \u001b[38;5;28;01mimport\u001b[39;00m h5ad\n",
      "File \u001b[0;32m~/miniconda3/envs/multimil_38/lib/python3.8/site-packages/anndata/_io/read.py:19\u001b[0m\n\u001b[1;32m     17\u001b[0m \u001b[38;5;28;01mfrom\u001b[39;00m \u001b[38;5;21;01m.\u001b[39;00m\u001b[38;5;21;01m.\u001b[39;00m\u001b[38;5;21;01mcompat\u001b[39;00m \u001b[38;5;28;01mimport\u001b[39;00m _deprecate_positional_args\n\u001b[1;32m     18\u001b[0m \u001b[38;5;28;01mfrom\u001b[39;00m \u001b[38;5;21;01m.\u001b[39;00m\u001b[38;5;21;01mutils\u001b[39;00m \u001b[38;5;28;01mimport\u001b[39;00m is_float\n\u001b[0;32m---> 19\u001b[0m \u001b[38;5;28;01mfrom\u001b[39;00m \u001b[38;5;21;01m.\u001b[39;00m\u001b[38;5;21;01mh5ad\u001b[39;00m \u001b[38;5;28;01mimport\u001b[39;00m read_h5ad\n\u001b[1;32m     21\u001b[0m \u001b[38;5;28;01mtry\u001b[39;00m:\n\u001b[1;32m     22\u001b[0m     \u001b[38;5;28;01mfrom\u001b[39;00m \u001b[38;5;21;01m.\u001b[39;00m\u001b[38;5;21;01mzarr\u001b[39;00m \u001b[38;5;28;01mimport\u001b[39;00m read_zarr\n",
      "File \u001b[0;32m~/miniconda3/envs/multimil_38/lib/python3.8/site-packages/anndata/_io/h5ad.py:29\u001b[0m\n\u001b[1;32m     17\u001b[0m \u001b[38;5;28;01mfrom\u001b[39;00m \u001b[38;5;21;01m.\u001b[39;00m\u001b[38;5;21;01m.\u001b[39;00m\u001b[38;5;21;01mcompat\u001b[39;00m \u001b[38;5;28;01mimport\u001b[39;00m (\n\u001b[1;32m     18\u001b[0m     _from_fixed_length_strings,\n\u001b[1;32m     19\u001b[0m     _decode_structured_array,\n\u001b[1;32m     20\u001b[0m     _clean_uns,\n\u001b[1;32m     21\u001b[0m )\n\u001b[1;32m     22\u001b[0m \u001b[38;5;28;01mfrom\u001b[39;00m \u001b[38;5;21;01m.\u001b[39;00m\u001b[38;5;21;01mutils\u001b[39;00m \u001b[38;5;28;01mimport\u001b[39;00m (\n\u001b[1;32m     23\u001b[0m     H5PY_V3,\n\u001b[1;32m     24\u001b[0m     report_read_key_on_error,\n\u001b[0;32m   (...)\u001b[0m\n\u001b[1;32m     27\u001b[0m     _read_legacy_raw,\n\u001b[1;32m     28\u001b[0m )\n\u001b[0;32m---> 29\u001b[0m \u001b[38;5;28;01mfrom\u001b[39;00m \u001b[38;5;21;01m.\u001b[39;00m\u001b[38;5;21;01mspecs\u001b[39;00m \u001b[38;5;28;01mimport\u001b[39;00m read_elem, write_elem\n\u001b[1;32m     30\u001b[0m \u001b[38;5;28;01mfrom\u001b[39;00m \u001b[38;5;21;01manndata\u001b[39;00m\u001b[38;5;21;01m.\u001b[39;00m\u001b[38;5;21;01m_warnings\u001b[39;00m \u001b[38;5;28;01mimport\u001b[39;00m OldFormatWarning\n\u001b[1;32m     32\u001b[0m T \u001b[38;5;241m=\u001b[39m TypeVar(\u001b[38;5;124m\"\u001b[39m\u001b[38;5;124mT\u001b[39m\u001b[38;5;124m\"\u001b[39m)\n",
      "File \u001b[0;32m~/miniconda3/envs/multimil_38/lib/python3.8/site-packages/anndata/_io/specs/__init__.py:1\u001b[0m\n\u001b[0;32m----> 1\u001b[0m \u001b[38;5;28;01mfrom\u001b[39;00m \u001b[38;5;21;01m.\u001b[39;00m \u001b[38;5;28;01mimport\u001b[39;00m methods\n\u001b[1;32m      2\u001b[0m \u001b[38;5;28;01mfrom\u001b[39;00m \u001b[38;5;21;01m.\u001b[39;00m\u001b[38;5;21;01mregistry\u001b[39;00m \u001b[38;5;28;01mimport\u001b[39;00m write_elem, read_elem, get_spec, _REGISTRY\n",
      "File \u001b[0;32m~/miniconda3/envs/multimil_38/lib/python3.8/site-packages/anndata/_io/specs/methods.py:503\u001b[0m\n\u001b[1;32m    492\u001b[0m     \u001b[38;5;28;01mreturn\u001b[39;00m SparseDataset(elem)[indices]\n\u001b[1;32m    495\u001b[0m \u001b[38;5;66;03m#################\u001b[39;00m\n\u001b[1;32m    496\u001b[0m \u001b[38;5;66;03m# Awkward array #\u001b[39;00m\n\u001b[1;32m    497\u001b[0m \u001b[38;5;66;03m#################\u001b[39;00m\n\u001b[1;32m    500\u001b[0m \u001b[38;5;129m@_REGISTRY\u001b[39m\u001b[38;5;241m.\u001b[39mregister_write(H5Group, AwkArray, IOSpec(\u001b[38;5;124m\"\u001b[39m\u001b[38;5;124mawkward-array\u001b[39m\u001b[38;5;124m\"\u001b[39m, \u001b[38;5;124m\"\u001b[39m\u001b[38;5;124m0.1.0\u001b[39m\u001b[38;5;124m\"\u001b[39m))\n\u001b[1;32m    501\u001b[0m \u001b[38;5;129m@_REGISTRY\u001b[39m\u001b[38;5;241m.\u001b[39mregister_write(ZarrGroup, AwkArray, IOSpec(\u001b[38;5;124m\"\u001b[39m\u001b[38;5;124mawkward-array\u001b[39m\u001b[38;5;124m\"\u001b[39m, \u001b[38;5;124m\"\u001b[39m\u001b[38;5;124m0.1.0\u001b[39m\u001b[38;5;124m\"\u001b[39m))\n\u001b[1;32m    502\u001b[0m \u001b[38;5;129m@_REGISTRY\u001b[39m\u001b[38;5;241m.\u001b[39mregister_write(\n\u001b[0;32m--> 503\u001b[0m     H5Group, \u001b[43mviews\u001b[49m\u001b[38;5;241;43m.\u001b[39;49m\u001b[43mAwkwardArrayView\u001b[49m, IOSpec(\u001b[38;5;124m\"\u001b[39m\u001b[38;5;124mawkward-array\u001b[39m\u001b[38;5;124m\"\u001b[39m, \u001b[38;5;124m\"\u001b[39m\u001b[38;5;124m0.1.0\u001b[39m\u001b[38;5;124m\"\u001b[39m)\n\u001b[1;32m    504\u001b[0m )\n\u001b[1;32m    505\u001b[0m \u001b[38;5;129m@_REGISTRY\u001b[39m\u001b[38;5;241m.\u001b[39mregister_write(\n\u001b[1;32m    506\u001b[0m     ZarrGroup, views\u001b[38;5;241m.\u001b[39mAwkwardArrayView, IOSpec(\u001b[38;5;124m\"\u001b[39m\u001b[38;5;124mawkward-array\u001b[39m\u001b[38;5;124m\"\u001b[39m, \u001b[38;5;124m\"\u001b[39m\u001b[38;5;124m0.1.0\u001b[39m\u001b[38;5;124m\"\u001b[39m)\n\u001b[1;32m    507\u001b[0m )\n\u001b[1;32m    508\u001b[0m \u001b[38;5;28;01mdef\u001b[39;00m \u001b[38;5;21mwrite_awkward\u001b[39m(f, k, v, dataset_kwargs\u001b[38;5;241m=\u001b[39mMappingProxyType({})):\n\u001b[1;32m    509\u001b[0m     \u001b[38;5;28;01mfrom\u001b[39;00m \u001b[38;5;21;01manndata\u001b[39;00m\u001b[38;5;21;01m.\u001b[39;00m\u001b[38;5;21;01mcompat\u001b[39;00m \u001b[38;5;28;01mimport\u001b[39;00m awkward \u001b[38;5;28;01mas\u001b[39;00m ak\n\u001b[1;32m    511\u001b[0m     group \u001b[38;5;241m=\u001b[39m f\u001b[38;5;241m.\u001b[39mcreate_group(k)\n",
      "\u001b[0;31mAttributeError\u001b[0m: module 'anndata._core.views' has no attribute 'AwkwardArrayView'"
     ]
    }
   ],
   "source": [
    "import warnings\n",
    "warnings.simplefilter(action='ignore')\n",
    "\n",
    "import anndata as ad\n",
    "import pandas as pd\n",
    "import numpy as np\n",
    "import scanpy as sc\n",
    "from itertools import chain\n",
    "import episcanpy\n",
    "\n",
    "\n",
    "import seaborn as sns\n",
    "import matplotlib.pyplot as plt"
   ]
  },
  {
   "cell_type": "code",
   "execution_count": null,
   "id": "8a8b959c-6ace-4eb7-8652-9c2d351a9e0f",
   "metadata": {},
   "outputs": [],
   "source": [
    "import MultiMAP"
   ]
  },
  {
   "cell_type": "code",
   "execution_count": null,
   "id": "4f41b5df",
   "metadata": {},
   "outputs": [],
   "source": [
    "%load_ext autoreload\n",
    "%autoreload 2"
   ]
  },
  {
   "cell_type": "code",
   "execution_count": null,
   "id": "9339ca04-41db-497f-8c63-0cd46895e887",
   "metadata": {},
   "outputs": [],
   "source": [
    "# load full rna and atac"
   ]
  },
  {
   "cell_type": "code",
   "execution_count": null,
   "id": "47b9a102-8151-4c8f-abe9-c51c716fdd71",
   "metadata": {},
   "outputs": [],
   "source": [
    "data_dir = \"/lustre/groups/ml01/workspace/anastasia.litinetskaya/data\""
   ]
  },
  {
   "cell_type": "code",
   "execution_count": null,
   "id": "b67e4f99-f99d-480d-aa6f-2a27bcd4766d",
   "metadata": {},
   "outputs": [],
   "source": [
    "rna = sc.read(f'{data_dir}/neurips-cite/rna.h5ad')"
   ]
  },
  {
   "cell_type": "code",
   "execution_count": null,
   "id": "ee856c4f-aa1a-477a-b869-6ea963e34571",
   "metadata": {},
   "outputs": [],
   "source": [
    "rna = rna.concatenate(sc.read(f'{data_dir}/neurips-multiome/rna.h5ad'), batch_key='concat_key', index_unique=None)"
   ]
  },
  {
   "cell_type": "code",
   "execution_count": null,
   "id": "b146381b-09aa-4f03-a4d2-ccd0b81d3e4e",
   "metadata": {},
   "outputs": [],
   "source": [
    "rna_pca = rna.copy()\n",
    "sc.pp.scale(rna_pca)\n",
    "sc.pp.pca(rna_pca)\n",
    "rna.obsm['X_pca'] = rna_pca.obsm['X_pca'].copy()"
   ]
  },
  {
   "cell_type": "code",
   "execution_count": null,
   "id": "13a4a0c4-7485-4da5-baa5-a232cfc290dd",
   "metadata": {},
   "outputs": [],
   "source": [
    "del rna_pca"
   ]
  },
  {
   "cell_type": "code",
   "execution_count": 11,
   "id": "f680fe7b",
   "metadata": {},
   "outputs": [],
   "source": [
    "# loading hvf only because full atac requires too much RAM. Below how to load the full dataset:\n",
    "# atac = sc.read('/lustre/groups/ml01/workspace/anastasia.litinetskaya/data/neurips-multiome/atac.h5ad')\n",
    "atac = sc.read(f'{data_dir}/neurips-multiome/atac_hvf.h5ad')"
   ]
  },
  {
   "cell_type": "code",
   "execution_count": 12,
   "id": "752bf7f8-3896-4b40-8b0a-34a15ff66c62",
   "metadata": {},
   "outputs": [],
   "source": [
    "MultiMAP.TFIDF_LSI(atac)"
   ]
  },
  {
   "cell_type": "code",
   "execution_count": 13,
   "id": "70e431cd-93aa-481a-944c-76d1ff4396f9",
   "metadata": {},
   "outputs": [],
   "source": [
    "atac_X_lsi = atac.obsm['X_lsi'].copy()"
   ]
  },
  {
   "cell_type": "code",
   "execution_count": 14,
   "id": "6ea424e7-9cf3-4358-bd4d-61b0e9bfbae2",
   "metadata": {},
   "outputs": [],
   "source": [
    "atac = sc.read(f'{data_dir}/neurips-multiome/atac.h5ad')"
   ]
  },
  {
   "cell_type": "code",
   "execution_count": 15,
   "id": "b326585a-e84c-4ec9-a9da-d65fec5ddbc3",
   "metadata": {},
   "outputs": [],
   "source": [
    "# get atac_genes\n",
    "atac.var.index = atac.var.index.map(lambda x: x.replace(\"-\", \":\", 1))\n",
    "atac = episcanpy.tl.geneactivity(atac, gtf_file=\"gencode.v42.chr_patch_hapl_scaff.annotation.gtf\")"
   ]
  },
  {
   "cell_type": "code",
   "execution_count": 16,
   "id": "700837a9-38d3-4816-8d35-a5dc87e95902",
   "metadata": {},
   "outputs": [],
   "source": [
    "atac.obsm['X_lsi'] = atac_X_lsi.copy()\n",
    "del atac_X_lsi"
   ]
  },
  {
   "cell_type": "code",
   "execution_count": 17,
   "id": "7f300b00-8759-46ab-b746-24d3664181dd",
   "metadata": {},
   "outputs": [],
   "source": [
    "# removing peaks that are mapped to the same gene. Duplicates will crash MultiMAP\n",
    "atac = atac[:, ~atac.var.index.duplicated()]"
   ]
  },
  {
   "cell_type": "code",
   "execution_count": 18,
   "id": "9871cc40-87d6-4b31-816f-227fa1891daa",
   "metadata": {},
   "outputs": [],
   "source": [
    "atac.obs.Modality = atac.obs.Modality.astype(str) + \"_atac\"\n",
    "atac.obs.Modality = atac.obs.Modality.astype(\"category\")"
   ]
  },
  {
   "cell_type": "code",
   "execution_count": 19,
   "id": "4e211f09",
   "metadata": {},
   "outputs": [],
   "source": [
    "adt = sc.read(f'{data_dir}/trimodal_neurips/adt.h5ad')"
   ]
  },
  {
   "cell_type": "code",
   "execution_count": 20,
   "id": "eefb8500-c1de-4d76-bf1f-5151b30f3606",
   "metadata": {},
   "outputs": [],
   "source": [
    "adt_pca = adt.copy()\n",
    "sc.pp.scale(adt_pca)\n",
    "sc.pp.pca(adt_pca)\n",
    "adt.obsm['X_pca'] = adt_pca.obsm['X_pca'].copy()\n",
    "del adt_pca"
   ]
  },
  {
   "cell_type": "code",
   "execution_count": 21,
   "id": "2451fac4-5775-436d-bce9-bfb9ed421c97",
   "metadata": {},
   "outputs": [],
   "source": [
    "adt.obs.Modality = adt.obs.Modality.astype(str) + \"_adt\"\n",
    "adt.obs.Modality = adt.obs.Modality.astype(\"category\")"
   ]
  },
  {
   "cell_type": "code",
   "execution_count": 22,
   "id": "9f83c6c7-e67b-4973-9bf9-f68bcefb56e8",
   "metadata": {},
   "outputs": [
    {
     "data": {
      "text/plain": [
       "[(159510, 12059), (69249, 32129), (90261, 134)]"
      ]
     },
     "execution_count": 22,
     "metadata": {},
     "output_type": "execute_result"
    }
   ],
   "source": [
    "[rna.shape, atac.shape, adt.shape]"
   ]
  },
  {
   "cell_type": "code",
   "execution_count": 23,
   "id": "802ceb85-6705-42bc-8ebb-9fbf3f8bba8b",
   "metadata": {},
   "outputs": [
    {
     "ename": "KeyboardInterrupt",
     "evalue": "",
     "output_type": "error",
     "traceback": [
      "\u001b[0;31m---------------------------------------------------------------------------\u001b[0m",
      "\u001b[0;31mKeyboardInterrupt\u001b[0m                         Traceback (most recent call last)",
      "\u001b[0;32m<ipython-input-23-b270439c9f03>\u001b[0m in \u001b[0;36m<module>\u001b[0;34m\u001b[0m\n\u001b[1;32m      1\u001b[0m \u001b[0;31m# subsample of 30k samples, 10k per dataset\u001b[0m\u001b[0;34m\u001b[0m\u001b[0;34m\u001b[0m\u001b[0;34m\u001b[0m\u001b[0m\n\u001b[0;32m----> 2\u001b[0;31m \u001b[0madata\u001b[0m \u001b[0;34m=\u001b[0m \u001b[0mMultiMAP\u001b[0m\u001b[0;34m.\u001b[0m\u001b[0mIntegration\u001b[0m\u001b[0;34m(\u001b[0m\u001b[0;34m[\u001b[0m\u001b[0madt\u001b[0m\u001b[0;34m[\u001b[0m\u001b[0madt\u001b[0m\u001b[0;34m.\u001b[0m\u001b[0mobs\u001b[0m\u001b[0;34m.\u001b[0m\u001b[0mindex\u001b[0m\u001b[0;34m.\u001b[0m\u001b[0misin\u001b[0m\u001b[0;34m(\u001b[0m\u001b[0madt\u001b[0m\u001b[0;34m.\u001b[0m\u001b[0mobs\u001b[0m\u001b[0;34m.\u001b[0m\u001b[0miloc\u001b[0m\u001b[0;34m[\u001b[0m\u001b[0;34m:\u001b[0m\u001b[0;36m10000\u001b[0m\u001b[0;34m]\u001b[0m\u001b[0;34m.\u001b[0m\u001b[0mindex\u001b[0m\u001b[0;34m)\u001b[0m\u001b[0;34m]\u001b[0m\u001b[0;34m,\u001b[0m \u001b[0mrna\u001b[0m\u001b[0;34m[\u001b[0m\u001b[0mrna\u001b[0m\u001b[0;34m.\u001b[0m\u001b[0mobs\u001b[0m\u001b[0;34m.\u001b[0m\u001b[0mindex\u001b[0m\u001b[0;34m.\u001b[0m\u001b[0misin\u001b[0m\u001b[0;34m(\u001b[0m\u001b[0mrna\u001b[0m\u001b[0;34m.\u001b[0m\u001b[0mobs\u001b[0m\u001b[0;34m.\u001b[0m\u001b[0miloc\u001b[0m\u001b[0;34m[\u001b[0m\u001b[0;34m:\u001b[0m\u001b[0;36m10000\u001b[0m\u001b[0;34m]\u001b[0m\u001b[0;34m.\u001b[0m\u001b[0mindex\u001b[0m\u001b[0;34m)\u001b[0m\u001b[0;34m]\u001b[0m\u001b[0;34m,\u001b[0m \u001b[0matac\u001b[0m\u001b[0;34m[\u001b[0m\u001b[0matac\u001b[0m\u001b[0;34m.\u001b[0m\u001b[0mobs\u001b[0m\u001b[0;34m.\u001b[0m\u001b[0mindex\u001b[0m\u001b[0;34m.\u001b[0m\u001b[0misin\u001b[0m\u001b[0;34m(\u001b[0m\u001b[0matac\u001b[0m\u001b[0;34m.\u001b[0m\u001b[0mobs\u001b[0m\u001b[0;34m.\u001b[0m\u001b[0miloc\u001b[0m\u001b[0;34m[\u001b[0m\u001b[0;34m:\u001b[0m\u001b[0;36m10000\u001b[0m\u001b[0;34m]\u001b[0m\u001b[0;34m.\u001b[0m\u001b[0mindex\u001b[0m\u001b[0;34m)\u001b[0m\u001b[0;34m]\u001b[0m\u001b[0;34m]\u001b[0m\u001b[0;34m,\u001b[0m \u001b[0;34m[\u001b[0m\u001b[0;34m'X_pca'\u001b[0m\u001b[0;34m,\u001b[0m \u001b[0;34m'X_pca'\u001b[0m\u001b[0;34m,\u001b[0m \u001b[0;34m'X_lsi'\u001b[0m\u001b[0;34m]\u001b[0m\u001b[0;34m)\u001b[0m\u001b[0;34m\u001b[0m\u001b[0;34m\u001b[0m\u001b[0m\n\u001b[0m",
      "\u001b[0;32m~/miniconda3/envs/multimil/lib/python3.7/site-packages/MultiMAP/__init__.py\u001b[0m in \u001b[0;36mIntegration\u001b[0;34m(adatas, use_reps, scale, embedding, seed, **kwargs)\u001b[0m\n\u001b[1;32m    190\u001b[0m \u001b[0;34m\u001b[0m\u001b[0m\n\u001b[1;32m    191\u001b[0m         \u001b[0;31m#call the wrapper. returns (params, connectivities, embedding), with embedding optional\u001b[0m\u001b[0;34m\u001b[0m\u001b[0;34m\u001b[0m\u001b[0;34m\u001b[0m\u001b[0m\n\u001b[0;32m--> 192\u001b[0;31m         \u001b[0mmmp\u001b[0m \u001b[0;34m=\u001b[0m \u001b[0mWrapper\u001b[0m\u001b[0;34m(\u001b[0m\u001b[0mflagged\u001b[0m\u001b[0;34m=\u001b[0m\u001b[0mflagged\u001b[0m\u001b[0;34m,\u001b[0m \u001b[0muse_reps\u001b[0m\u001b[0;34m=\u001b[0m\u001b[0muse_reps\u001b[0m\u001b[0;34m,\u001b[0m \u001b[0membedding\u001b[0m\u001b[0;34m=\u001b[0m\u001b[0membedding\u001b[0m\u001b[0;34m,\u001b[0m \u001b[0mseed\u001b[0m\u001b[0;34m=\u001b[0m\u001b[0mseed\u001b[0m\u001b[0;34m,\u001b[0m \u001b[0;34m**\u001b[0m\u001b[0mkwargs\u001b[0m\u001b[0;34m)\u001b[0m\u001b[0;34m\u001b[0m\u001b[0;34m\u001b[0m\u001b[0m\n\u001b[0m\u001b[1;32m    193\u001b[0m \u001b[0;34m\u001b[0m\u001b[0m\n\u001b[1;32m    194\u001b[0m         \u001b[0;31m#make one happy collapsed object and shove the stuff in correct places\u001b[0m\u001b[0;34m\u001b[0m\u001b[0;34m\u001b[0m\u001b[0;34m\u001b[0m\u001b[0m\n",
      "\u001b[0;32m~/miniconda3/envs/multimil/lib/python3.7/site-packages/MultiMAP/__init__.py\u001b[0m in \u001b[0;36mWrapper\u001b[0;34m(flagged, use_reps, embedding, seed, **kwargs)\u001b[0m\n\u001b[1;32m     86\u001b[0m         \u001b[0;31m#and with that, we're now truly free to call the MultiMAP function\u001b[0m\u001b[0;34m\u001b[0m\u001b[0;34m\u001b[0m\u001b[0;34m\u001b[0m\u001b[0m\n\u001b[1;32m     87\u001b[0m         \u001b[0;31m#need to negate embedding and provide that as graph_only for the function to understand\u001b[0m\u001b[0;34m\u001b[0m\u001b[0;34m\u001b[0m\u001b[0;34m\u001b[0m\u001b[0m\n\u001b[0;32m---> 88\u001b[0;31m         \u001b[0mmmp\u001b[0m \u001b[0;34m=\u001b[0m \u001b[0mMultiMAP\u001b[0m\u001b[0;34m(\u001b[0m\u001b[0mXs\u001b[0m\u001b[0;34m=\u001b[0m\u001b[0mXs\u001b[0m\u001b[0;34m,\u001b[0m \u001b[0mjoint\u001b[0m\u001b[0;34m=\u001b[0m\u001b[0mjoint\u001b[0m\u001b[0;34m,\u001b[0m \u001b[0mgraph_only\u001b[0m\u001b[0;34m=\u001b[0m\u001b[0;34m(\u001b[0m\u001b[0;32mnot\u001b[0m \u001b[0membedding\u001b[0m\u001b[0;34m)\u001b[0m\u001b[0;34m,\u001b[0m \u001b[0;34m**\u001b[0m\u001b[0mkwargs\u001b[0m\u001b[0;34m)\u001b[0m\u001b[0;34m\u001b[0m\u001b[0;34m\u001b[0m\u001b[0m\n\u001b[0m\u001b[1;32m     89\u001b[0m \u001b[0;34m\u001b[0m\u001b[0m\n\u001b[1;32m     90\u001b[0m         \u001b[0;31m#and that's it. spit this out for the other wrappers to use however\u001b[0m\u001b[0;34m\u001b[0m\u001b[0;34m\u001b[0m\u001b[0;34m\u001b[0m\u001b[0m\n",
      "\u001b[0;32m~/miniconda3/envs/multimil/lib/python3.7/site-packages/MultiMAP/matrix.py\u001b[0m in \u001b[0;36mMultiMAP\u001b[0;34m(Xs, joint, joint_idxs, metrics, metric_kwds, joint_metrics, n_neighbors, cardinality, angular, set_op_mix_ratio, local_connectivity, n_components, spread, min_dist, init, n_epochs, a, b, strengths, random_state, verbose, graph_only)\u001b[0m\n\u001b[1;32m   3435\u001b[0m         \u001b[0mnegative_sample_rate\u001b[0m\u001b[0;34m=\u001b[0m\u001b[0;36m5.0\u001b[0m\u001b[0;34m,\u001b[0m\u001b[0;34m\u001b[0m\u001b[0;34m\u001b[0m\u001b[0m\n\u001b[1;32m   3436\u001b[0m         \u001b[0mparallel\u001b[0m\u001b[0;34m=\u001b[0m\u001b[0;32mFalse\u001b[0m\u001b[0;34m,\u001b[0m\u001b[0;34m\u001b[0m\u001b[0;34m\u001b[0m\u001b[0m\n\u001b[0;32m-> 3437\u001b[0;31m         \u001b[0mverbose\u001b[0m\u001b[0;34m=\u001b[0m\u001b[0mverbose\u001b[0m\u001b[0;34m\u001b[0m\u001b[0;34m\u001b[0m\u001b[0m\n\u001b[0m\u001b[1;32m   3438\u001b[0m     )\n\u001b[1;32m   3439\u001b[0m     \u001b[0;31m#undo warning reset\u001b[0m\u001b[0;34m\u001b[0m\u001b[0;34m\u001b[0m\u001b[0;34m\u001b[0m\u001b[0m\n",
      "\u001b[0;32m~/miniconda3/envs/multimil/lib/python3.7/site-packages/MultiMAP/matrix.py\u001b[0m in \u001b[0;36moptimize_layout\u001b[0;34m(embeddings, graphs, joint_graphs, weights, n_epochs, a, b, random_state, gamma, initial_alpha, negative_sample_rate, parallel, verbose)\u001b[0m\n\u001b[1;32m   3145\u001b[0m                     \u001b[0mjoint_epoch_of_next_negative_sample\u001b[0m\u001b[0;34m[\u001b[0m\u001b[0mk\u001b[0m\u001b[0;34m]\u001b[0m\u001b[0;34m,\u001b[0m\u001b[0;34m\u001b[0m\u001b[0;34m\u001b[0m\u001b[0m\n\u001b[1;32m   3146\u001b[0m                     \u001b[0mjoint_epoch_of_next_sample\u001b[0m\u001b[0;34m[\u001b[0m\u001b[0mk\u001b[0m\u001b[0;34m]\u001b[0m\u001b[0;34m,\u001b[0m\u001b[0;34m\u001b[0m\u001b[0;34m\u001b[0m\u001b[0m\n\u001b[0;32m-> 3147\u001b[0;31m                     \u001b[0mn\u001b[0m\u001b[0;34m,\u001b[0m\u001b[0;34m\u001b[0m\u001b[0;34m\u001b[0m\u001b[0m\n\u001b[0m\u001b[1;32m   3148\u001b[0m                 )\n\u001b[1;32m   3149\u001b[0m \u001b[0;34m\u001b[0m\u001b[0m\n",
      "\u001b[0;31mKeyboardInterrupt\u001b[0m: "
     ]
    }
   ],
   "source": [
    "# subsample of 30k samples, 10k per dataset\n",
    "adata = MultiMAP.Integration([adt[adt.obs.index.isin(adt.obs.iloc[:10000].index)], rna[rna.obs.index.isin(rna.obs.iloc[:10000].index)], atac[atac.obs.index.isin(atac.obs.iloc[:10000].index)]], ['X_pca', 'X_pca', 'X_lsi'])"
   ]
  },
  {
   "cell_type": "code",
   "execution_count": null,
   "id": "9a87ea3d-14fb-4c44-96ff-dc8a8c307f8b",
   "metadata": {},
   "outputs": [],
   "source": [
    "sc.pl.embedding(adata, 'X_multimap', color=[\"Modality\"])"
   ]
  },
  {
   "cell_type": "code",
   "execution_count": 24,
   "id": "973fc1e0-21de-4c6d-87cf-6dad8de8d7cb",
   "metadata": {},
   "outputs": [],
   "source": [
    "rna.write_h5ad(\"rna.h5ad\")\n",
    "adt.write_h5ad(\"adt.h5ad\")\n",
    "atac.write_h5ad(\"atac.h5ad\")"
   ]
  },
  {
   "cell_type": "code",
   "execution_count": 2,
   "id": "9ef69865-6929-43e3-aa71-08281542eb08",
   "metadata": {},
   "outputs": [
    {
     "ename": "NameError",
     "evalue": "name 'sc' is not defined",
     "output_type": "error",
     "traceback": [
      "\u001b[0;31m---------------------------------------------------------------------------\u001b[0m",
      "\u001b[0;31mNameError\u001b[0m                                 Traceback (most recent call last)",
      "Cell \u001b[0;32mIn[2], line 1\u001b[0m\n\u001b[0;32m----> 1\u001b[0m rna \u001b[38;5;241m=\u001b[39m \u001b[43msc\u001b[49m\u001b[38;5;241m.\u001b[39mread(\u001b[38;5;124m\"\u001b[39m\u001b[38;5;124mrna.h5ad\u001b[39m\u001b[38;5;124m\"\u001b[39m)\n\u001b[1;32m      2\u001b[0m atac \u001b[38;5;241m=\u001b[39m sc\u001b[38;5;241m.\u001b[39mread(\u001b[38;5;124m\"\u001b[39m\u001b[38;5;124matac.h5ad\u001b[39m\u001b[38;5;124m\"\u001b[39m)\n\u001b[1;32m      3\u001b[0m adt \u001b[38;5;241m=\u001b[39m sc\u001b[38;5;241m.\u001b[39mread(\u001b[38;5;124m\"\u001b[39m\u001b[38;5;124madt.h5ad\u001b[39m\u001b[38;5;124m\"\u001b[39m)\n",
      "\u001b[0;31mNameError\u001b[0m: name 'sc' is not defined"
     ]
    }
   ],
   "source": [
    "rna = sc.read(\"rna.h5ad\")\n",
    "atac = sc.read(\"atac.h5ad\")\n",
    "adt = sc.read(\"adt.h5ad\")"
   ]
  },
  {
   "cell_type": "code",
   "execution_count": 3,
   "id": "9c0a0cc2-91c3-41fd-ba9d-ff5e766669ba",
   "metadata": {},
   "outputs": [
    {
     "ename": "NameError",
     "evalue": "name 'MultiMAP' is not defined",
     "output_type": "error",
     "traceback": [
      "\u001b[0;31m---------------------------------------------------------------------------\u001b[0m",
      "\u001b[0;31mNameError\u001b[0m                                 Traceback (most recent call last)",
      "Cell \u001b[0;32mIn[3], line 2\u001b[0m\n\u001b[1;32m      1\u001b[0m \u001b[38;5;66;03m# trimodal integration fails with anndata concatenation error: https://github.com/Teichlab/MultiMAP/issues/10\u001b[39;00m\n\u001b[0;32m----> 2\u001b[0m adata \u001b[38;5;241m=\u001b[39m \u001b[43mMultiMAP\u001b[49m\u001b[38;5;241m.\u001b[39mIntegration([rna, adt, atac], [\u001b[38;5;124m'\u001b[39m\u001b[38;5;124mX_pca\u001b[39m\u001b[38;5;124m'\u001b[39m, \u001b[38;5;124m'\u001b[39m\u001b[38;5;124mX_pca\u001b[39m\u001b[38;5;124m'\u001b[39m, \u001b[38;5;124m'\u001b[39m\u001b[38;5;124mX_lsi\u001b[39m\u001b[38;5;124m'\u001b[39m])\n",
      "\u001b[0;31mNameError\u001b[0m: name 'MultiMAP' is not defined"
     ]
    }
   ],
   "source": [
    "# trimodal integration fails with anndata concatenation error: https://github.com/Teichlab/MultiMAP/issues/10\n",
    "adata = MultiMAP.Integration([rna, adt, atac], ['X_pca', 'X_pca', 'X_lsi'])"
   ]
  },
  {
   "cell_type": "code",
   "execution_count": null,
   "id": "f8cbe8f5-de8f-4810-820e-28f53bd093fc",
   "metadata": {},
   "outputs": [],
   "source": [
    "adata.write_h5ad(\"integrated.h5ad\")"
   ]
  },
  {
   "cell_type": "code",
   "execution_count": null,
   "id": "dc6d4bbe-eee4-4883-ab75-675fd318eb15",
   "metadata": {},
   "outputs": [],
   "source": [
    "sc.pl.embedding(adata, 'X_multimap', color=[\"Modality\"])"
   ]
  },
  {
   "cell_type": "code",
   "execution_count": null,
   "id": "82859078-798f-431e-a373-4aa2eb073e21",
   "metadata": {},
   "outputs": [],
   "source": []
  }
 ],
 "metadata": {
  "kernelspec": {
   "display_name": "multimil_38",
   "language": "python",
   "name": "myenv"
  },
  "language_info": {
   "codemirror_mode": {
    "name": "ipython",
    "version": 3
   },
   "file_extension": ".py",
   "mimetype": "text/x-python",
   "name": "python",
   "nbconvert_exporter": "python",
   "pygments_lexer": "ipython3",
   "version": "3.8.16"
  }
 },
 "nbformat": 4,
 "nbformat_minor": 5
}
