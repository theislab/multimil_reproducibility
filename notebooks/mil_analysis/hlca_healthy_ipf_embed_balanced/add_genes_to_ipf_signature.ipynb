{
 "cells": [
  {
   "cell_type": "code",
   "execution_count": 1,
   "id": "0476cb3e-a4b1-412a-90be-2816c2637c48",
   "metadata": {},
   "outputs": [],
   "source": [
    "import scanpy as sc"
   ]
  },
  {
   "cell_type": "code",
   "execution_count": 2,
   "id": "75442ea9-b274-4382-829f-52bafdb0cb64",
   "metadata": {},
   "outputs": [
    {
     "data": {
      "text/plain": [
       "AnnData object with n_obs × n_vars = 2282447 × 59586 backed at '../../../pipeline/data/raw/HLCA_full_v1.1_to_share.h5ad'\n",
       "    obs: \"3'_or_5'\", 'BMI', 'age_or_mean_of_age_range', 'age_range', 'anatomical_region_ccf_score', 'ancestry', 'ann_coarse_for_GWAS_and_modeling', 'ann_finest_level', 'ann_level_1', 'ann_level_2', 'ann_level_3', 'ann_level_4', 'ann_level_5', 'assay', 'cause_of_death', 'cell_type', 'core_or_extension', 'dataset', 'development_stage', 'disease', 'donor_id', 'fresh_or_frozen', 'log10_total_counts', 'lung_condition', 'mixed_ancestry', 'original_ann_level_1', 'original_ann_level_2', 'original_ann_level_3', 'original_ann_level_4', 'original_ann_level_5', 'original_ann_nonharmonized', 'reannotation_type', 'sample', 'scanvi_label', 'sequencing_platform', 'sex', 'smoking_status', 'study', 'subject_type', 'suspension_type', 'tissue', 'tissue_coarse_unharmonized', 'tissue_detailed_unharmonized', 'tissue_dissociation_protocol', 'tissue_level_2', 'tissue_level_3', 'tissue_sampling_method', 'total_counts', 'transf_ann_level_1_label', 'transf_ann_level_1_uncert', 'transf_ann_level_2_label', 'transf_ann_level_2_uncert', 'transf_ann_level_3_label', 'transf_ann_level_3_uncert', 'transf_ann_level_4_label', 'transf_ann_level_4_uncert', 'transf_ann_level_5_label', 'transf_ann_level_5_uncert'\n",
       "    var: 'original_gene_symbols', 'ensembl_id', 'gene_symbol', 'ensembl_id_geneversion'\n",
       "    uns: 'ann_finest_level_colors', 'ann_level_2_colors', 'log1p', 'neighbors', 'schema_version', 'title', 'umap'\n",
       "    obsm: 'X_scanvi_emb', 'X_umap'\n",
       "    layers: 'counts', 'soupX'\n",
       "    obsp: 'connectivities', 'distances'"
      ]
     },
     "execution_count": 2,
     "metadata": {},
     "output_type": "execute_result"
    }
   ],
   "source": [
    "adata = sc.read_h5ad('../../../pipeline/data/raw/HLCA_full_v1.1_to_share.h5ad', backed='r')\n",
    "adata"
   ]
  },
  {
   "cell_type": "code",
   "execution_count": 5,
   "id": "0a1790bf-ef47-4c68-a0f7-66945b91fdf9",
   "metadata": {},
   "outputs": [],
   "source": [
    "ipf_genes = {\n",
    "    'BST2': 'ENSG00000130303', #\n",
    "    'CMPK2': 'ENSG00000134326',\n",
    "    'EIF2AK2': 'ENSG00000055332',\n",
    "    'EPSTI1': 'ENSG00000133106',\n",
    "    'HERC5': 'ENSG00000138646',\n",
    "    'IFI35': 'ENSG00000068079',\n",
    "    'IFI44L': 'ENSG00000137959',\n",
    "    'IFI6': 'ENSG00000126709', #\n",
    "    'IFIT3': 'ENSG00000119917', #\n",
    "    'ISG15': 'ENSG00000187608', #\n",
    "    'LY6E': 'ENSG00000160932',\n",
    "    'MX1': 'ENSG00000157601',\n",
    "    'MX2': 'ENSG00000183486',\n",
    "    'OAS1': 'ENSG00000089127',\n",
    "    'OAS2': 'ENSG00000111335',\n",
    "    'PARP9': 'ENSG00000138496',\n",
    "    'PLSCR1': 'ENSG00000188313',\n",
    "    'SAMD9': 'ENSG00000205413',\n",
    "    'SAMD9L': 'ENSG00000177409',\n",
    "    'SP110': 'ENSG00000135899',\n",
    "    'STAT1': 'ENSG00000115415',\n",
    "    'TRIM22': 'ENSG00000132274',\n",
    "    'UBE2L6': 'ENSG00000156587',\n",
    "    'XAF1': 'ENSG00000132530',\n",
    "    'IRF7': 'ENSG00000185507',\n",
    "}"
   ]
  },
  {
   "cell_type": "code",
   "execution_count": 11,
   "id": "c667abc3-faaf-40f9-a648-10355ab4bded",
   "metadata": {},
   "outputs": [
    {
     "data": {
      "text/plain": [
       "25"
      ]
     },
     "execution_count": 11,
     "metadata": {},
     "output_type": "execute_result"
    }
   ],
   "source": [
    "len(ipf_genes)"
   ]
  },
  {
   "cell_type": "code",
   "execution_count": 16,
   "id": "4b2e9d79-a46f-45a4-8d06-5e6fbfc8e06d",
   "metadata": {},
   "outputs": [
    {
     "data": {
      "text/plain": [
       "24"
      ]
     },
     "execution_count": 16,
     "metadata": {},
     "output_type": "execute_result"
    }
   ],
   "source": [
    "ipf_genes_ensembl = list(set(ipf_genes.values()).intersection(set(adata.var_names)))\n",
    "len(ipf_genes_ensembl)"
   ]
  },
  {
   "cell_type": "code",
   "execution_count": 18,
   "id": "32d3134f-c573-4bea-96a7-0890e9c4e922",
   "metadata": {},
   "outputs": [
    {
     "data": {
      "text/plain": [
       "AnnData object with n_obs × n_vars = 2149684 × 2000\n",
       "    obs: \"3'_or_5'\", 'BMI', 'age_or_mean_of_age_range', 'age_range', 'anatomical_region_ccf_score', 'ancestry', 'ann_coarse_for_GWAS_and_modeling', 'ann_finest_level', 'ann_level_1', 'ann_level_2', 'ann_level_3', 'ann_level_4', 'ann_level_5', 'assay', 'cause_of_death', 'cell_type', 'core_or_extension', 'dataset', 'development_stage', 'disease', 'donor_id', 'fresh_or_frozen', 'log10_total_counts', 'lung_condition', 'mixed_ancestry', 'original_ann_level_1', 'original_ann_level_2', 'original_ann_level_3', 'original_ann_level_4', 'original_ann_level_5', 'original_ann_nonharmonized', 'reannotation_type', 'sample', 'scanvi_label', 'sequencing_platform', 'sex', 'smoking_status', 'study', 'subject_type', 'suspension_type', 'tissue', 'tissue_coarse_unharmonized', 'tissue_detailed_unharmonized', 'tissue_dissociation_protocol', 'tissue_level_2', 'tissue_level_3', 'tissue_sampling_method', 'total_counts', 'transf_ann_level_1_label', 'transf_ann_level_1_uncert', 'transf_ann_level_2_label', 'transf_ann_level_2_uncert', 'transf_ann_level_3_label', 'transf_ann_level_3_uncert', 'transf_ann_level_4_label', 'transf_ann_level_4_uncert', 'transf_ann_level_5_label', 'transf_ann_level_5_uncert', 'lung_condition_coarse', 'split0', 'split1', 'split2', 'split3', 'split4'\n",
       "    var: 'means', 'variances', 'residual_variances', 'highly_variable_rank', 'highly_variable_nbatches', 'highly_variable_intersection', 'highly_variable'\n",
       "    uns: 'hvg'"
      ]
     },
     "execution_count": 18,
     "metadata": {},
     "output_type": "execute_result"
    }
   ],
   "source": [
    "hlca = sc.read('../../../../snakemake/hlca/5fold/hlca_hyperparam/data/pp/hlca_hvg_pearson.h5ad')\n",
    "hlca"
   ]
  },
  {
   "cell_type": "code",
   "execution_count": 20,
   "id": "7fd77178-2896-4ac0-8ece-b7321f1d8628",
   "metadata": {},
   "outputs": [
    {
     "data": {
      "text/plain": [
       "2020"
      ]
     },
     "execution_count": 20,
     "metadata": {},
     "output_type": "execute_result"
    }
   ],
   "source": [
    "genes_to_keep = list(set(hlca.var_names).union(set(ipf_genes_ensembl)))\n",
    "len(genes_to_keep)"
   ]
  },
  {
   "cell_type": "code",
   "execution_count": 21,
   "id": "2f3c452f-367d-42b0-bbe5-71382116fcf7",
   "metadata": {},
   "outputs": [
    {
     "data": {
      "text/plain": [
       "AnnData object with n_obs × n_vars = 450214 × 30\n",
       "    obs: \"3'_or_5'\", 'BMI', 'age_or_mean_of_age_range', 'age_range', 'anatomical_region_ccf_score', 'ancestry', 'ann_coarse_for_GWAS_and_modeling', 'ann_finest_level', 'ann_level_1', 'ann_level_2', 'ann_level_3', 'ann_level_4', 'ann_level_5', 'assay', 'cause_of_death', 'cell_type', 'core_or_extension', 'dataset', 'development_stage', 'disease', 'donor_id', 'fresh_or_frozen', 'log10_total_counts', 'lung_condition', 'mixed_ancestry', 'original_ann_level_1', 'original_ann_level_2', 'original_ann_level_3', 'original_ann_level_4', 'original_ann_level_5', 'original_ann_nonharmonized', 'reannotation_type', 'sample', 'scanvi_label', 'sequencing_platform', 'sex', 'smoking_status', 'study', 'subject_type', 'suspension_type', 'tissue', 'tissue_coarse_unharmonized', 'tissue_detailed_unharmonized', 'tissue_dissociation_protocol', 'tissue_level_2', 'tissue_level_3', 'tissue_sampling_method', 'total_counts', 'transf_ann_level_1_label', 'transf_ann_level_1_uncert', 'transf_ann_level_2_label', 'transf_ann_level_2_uncert', 'transf_ann_level_3_label', 'transf_ann_level_3_uncert', 'transf_ann_level_4_label', 'transf_ann_level_4_uncert', 'transf_ann_level_5_label', 'transf_ann_level_5_uncert', 'lung_condition_coarse', 'split0', 'split1', 'split2', 'split3', 'split4', 'group', 'cell_attn_0', 'cell_attn_1', 'cell_attn_2', 'cell_attn_3', 'cell_attn_4', 'cell_attn', 'profibrotic_score'\n",
       "    uns: 'lung_condition_coarse_colors', 'neighbors', 'transf_ann_level_3_label_colors', 'umap'\n",
       "    obsm: 'X_umap', 'latent_0', 'latent_1', 'latent_2', 'latent_3', 'latent_4'\n",
       "    obsp: 'connectivities', 'distances'"
      ]
     },
     "execution_count": 21,
     "metadata": {},
     "output_type": "execute_result"
    }
   ],
   "source": [
    "embed = sc.read('../../../pipeline/data/analysis/hlca_healthy_ipf_embed_balanced/adata.h5ad')\n",
    "embed"
   ]
  },
  {
   "cell_type": "code",
   "execution_count": 25,
   "id": "7ee232b7-3759-4770-be0b-2fe49c9f1f0b",
   "metadata": {},
   "outputs": [
    {
     "data": {
      "text/plain": [
       "View of AnnData object with n_obs × n_vars = 450214 × 2020 backed at '../../../pipeline/data/raw/HLCA_full_v1.1_to_share.h5ad'\n",
       "    obs: \"3'_or_5'\", 'BMI', 'age_or_mean_of_age_range', 'age_range', 'anatomical_region_ccf_score', 'ancestry', 'ann_coarse_for_GWAS_and_modeling', 'ann_finest_level', 'ann_level_1', 'ann_level_2', 'ann_level_3', 'ann_level_4', 'ann_level_5', 'assay', 'cause_of_death', 'cell_type', 'core_or_extension', 'dataset', 'development_stage', 'disease', 'donor_id', 'fresh_or_frozen', 'log10_total_counts', 'lung_condition', 'mixed_ancestry', 'original_ann_level_1', 'original_ann_level_2', 'original_ann_level_3', 'original_ann_level_4', 'original_ann_level_5', 'original_ann_nonharmonized', 'reannotation_type', 'sample', 'scanvi_label', 'sequencing_platform', 'sex', 'smoking_status', 'study', 'subject_type', 'suspension_type', 'tissue', 'tissue_coarse_unharmonized', 'tissue_detailed_unharmonized', 'tissue_dissociation_protocol', 'tissue_level_2', 'tissue_level_3', 'tissue_sampling_method', 'total_counts', 'transf_ann_level_1_label', 'transf_ann_level_1_uncert', 'transf_ann_level_2_label', 'transf_ann_level_2_uncert', 'transf_ann_level_3_label', 'transf_ann_level_3_uncert', 'transf_ann_level_4_label', 'transf_ann_level_4_uncert', 'transf_ann_level_5_label', 'transf_ann_level_5_uncert'\n",
       "    var: 'original_gene_symbols', 'ensembl_id', 'gene_symbol', 'ensembl_id_geneversion'\n",
       "    uns: 'ann_finest_level_colors', 'ann_level_2_colors', 'log1p', 'neighbors', 'schema_version', 'title', 'umap'\n",
       "    obsm: 'X_scanvi_emb', 'X_umap'\n",
       "    layers: 'counts', 'soupX'\n",
       "    obsp: 'connectivities', 'distances'"
      ]
     },
     "execution_count": 25,
     "metadata": {},
     "output_type": "execute_result"
    }
   ],
   "source": [
    "tmp = adata[embed.obs_names, genes_to_keep]\n",
    "tmp"
   ]
  },
  {
   "cell_type": "code",
   "execution_count": 26,
   "id": "a38c4616-399d-4533-8c9d-6bb519c1bcd5",
   "metadata": {},
   "outputs": [],
   "source": [
    "tmp.write('../../../pipeline/data/pp/hlca_healthy_ipf_balanced_ipf_signature_genes.h5ad')"
   ]
  },
  {
   "cell_type": "code",
   "execution_count": null,
   "id": "e44fe2ad-0cc9-4f13-9fd3-c77173e94a6b",
   "metadata": {},
   "outputs": [],
   "source": []
  }
 ],
 "metadata": {
  "kernelspec": {
   "display_name": "Python 3 (ipykernel)",
   "language": "python",
   "name": "python3"
  },
  "language_info": {
   "codemirror_mode": {
    "name": "ipython",
    "version": 3
   },
   "file_extension": ".py",
   "mimetype": "text/x-python",
   "name": "python",
   "nbconvert_exporter": "python",
   "pygments_lexer": "ipython3",
   "version": "3.10.12"
  }
 },
 "nbformat": 4,
 "nbformat_minor": 5
}
