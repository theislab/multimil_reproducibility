{
 "cells": [
  {
   "cell_type": "code",
   "execution_count": 1,
   "id": "d1334b20-6c40-4152-a55d-4ba8b5a95df9",
   "metadata": {},
   "outputs": [],
   "source": [
    "x=1"
   ]
  },
  {
   "cell_type": "code",
   "execution_count": 21,
   "id": "fb6ca5d7-0772-497e-91e4-0cb82c459cfe",
   "metadata": {},
   "outputs": [],
   "source": [
    "import scanpy as sc\n",
    "import scib\n",
    "import numpy as np"
   ]
  },
  {
   "cell_type": "code",
   "execution_count": 3,
   "id": "850ace5f-75fe-49c8-a992-f0ac3f3054c1",
   "metadata": {},
   "outputs": [],
   "source": [
    "# import warnings\n",
    "# warnings.simplefilter(action='ignore')"
   ]
  },
  {
   "cell_type": "code",
   "execution_count": 17,
   "id": "797e0234-7d12-4d0d-9af3-67cbcb2c15c9",
   "metadata": {},
   "outputs": [
    {
     "data": {
      "text/plain": [
       "AnnData object with n_obs × n_vars = 647366 × 2000\n",
       "    obs: 'sample_id', 'n_genes', 'n_genes_by_counts', 'total_counts', 'total_counts_mt', 'pct_counts_mt', 'full_clustering', 'initial_clustering', 'Resample', 'Collection_Day', 'Sex', 'Age_interval', 'Swab_result', 'Status', 'Smoker', 'Status_on_day_collection', 'Status_on_day_collection_summary', 'Days_from_onset', 'Site', 'time_after_LPS', 'Worst_Clinical_Status', 'Outcome', 'patient_id', 'split0', 'split1', 'split2', 'split3', 'split4', '_scvi_labels', '_scvi_batch'\n",
       "    var: 'feature_types', 'means', 'variances', 'residual_variances', 'highly_variable_rank', 'highly_variable_nbatches', 'highly_variable_intersection', 'highly_variable'\n",
       "    uns: 'Site_colors', 'Status_on_day_collection_summary_colors', '_scvi_manager_uuid', '_scvi_uuid', 'hvg', 'initial_clustering_colors', 'leiden', 'neighbors', 'pca', 'umap'\n",
       "    obsm: 'X_pca', 'X_pca_harmony', 'X_totalVI', 'X_umap', '_scvi_extra_categorical_covs', 'protein_expression'\n",
       "    layers: 'counts'\n",
       "    obsp: 'connectivities', 'distances'"
      ]
     },
     "execution_count": 17,
     "metadata": {},
     "output_type": "execute_result"
    }
   ],
   "source": [
    "adata = sc.read('../../../pipeline/data/pp/totalvi_pbmc.h5ad')\n",
    "adata"
   ]
  },
  {
   "cell_type": "code",
   "execution_count": 18,
   "id": "0056a82f-4edf-4959-a27a-c2b81bbe1acf",
   "metadata": {},
   "outputs": [],
   "source": [
    "adata.obsm['latent'] = adata.obsm['X_totalVI'].copy()\n",
    "adata.write('../../../pipeline/data/pp/totalvi_pbmc.h5ad')"
   ]
  },
  {
   "cell_type": "code",
   "execution_count": 12,
   "id": "1ef47a30-3c4d-43c0-9f6b-cc2b762b0f9b",
   "metadata": {},
   "outputs": [],
   "source": [
    "batch_key = \"Site\"\n",
    "label_key = \"initial_clustering\""
   ]
  },
  {
   "cell_type": "code",
   "execution_count": 13,
   "id": "1ecb6abb-239d-4b25-b76c-26b4f3fdb500",
   "metadata": {},
   "outputs": [],
   "source": [
    "sc.pp.subsample(adata, n_obs=10000)"
   ]
  },
  {
   "cell_type": "code",
   "execution_count": 14,
   "id": "1e3a1c7f-fac3-4430-85ae-260c75652892",
   "metadata": {},
   "outputs": [
    {
     "data": {
      "text/plain": [
       "AnnData object with n_obs × n_vars = 10000 × 2000\n",
       "    obs: 'sample_id', 'n_genes', 'n_genes_by_counts', 'total_counts', 'total_counts_mt', 'pct_counts_mt', 'full_clustering', 'initial_clustering', 'Resample', 'Collection_Day', 'Sex', 'Age_interval', 'Swab_result', 'Status', 'Smoker', 'Status_on_day_collection', 'Status_on_day_collection_summary', 'Days_from_onset', 'Site', 'time_after_LPS', 'Worst_Clinical_Status', 'Outcome', 'patient_id', 'split0', 'split1', 'split2', 'split3', 'split4', '_scvi_labels', '_scvi_batch'\n",
       "    var: 'feature_types', 'means', 'variances', 'residual_variances', 'highly_variable_rank', 'highly_variable_nbatches', 'highly_variable_intersection', 'highly_variable'\n",
       "    uns: 'Site_colors', 'Status_on_day_collection_summary_colors', '_scvi_manager_uuid', '_scvi_uuid', 'hvg', 'initial_clustering_colors', 'leiden', 'neighbors', 'pca', 'umap'\n",
       "    obsm: 'X_pca', 'X_pca_harmony', 'X_totalVI', 'X_umap', '_scvi_extra_categorical_covs', 'protein_expression'\n",
       "    layers: 'counts'\n",
       "    obsp: 'connectivities', 'distances'"
      ]
     },
     "execution_count": 14,
     "metadata": {},
     "output_type": "execute_result"
    }
   ],
   "source": [
    "adata"
   ]
  },
  {
   "cell_type": "code",
   "execution_count": 15,
   "id": "df737e39-dd93-45b7-b15d-9f95e655fb02",
   "metadata": {},
   "outputs": [
    {
     "name": "stderr",
     "output_type": "stream",
     "text": [
      "/lustre/groups/ml01/workspace/anastasia.litinetskaya/mambaforge/envs/scib/lib/python3.10/site-packages/scib/metrics/metrics.py:293: DeprecationWarning: Call to deprecated function (or staticmethod) opt_louvain.\n",
      "  res_max, nmi_max, nmi_all = opt_louvain(\n"
     ]
    },
    {
     "name": "stdout",
     "output_type": "stream",
     "text": [
      "Clustering...\n",
      "resolution: 0.1, nmi: 0.38630316473009724\n",
      "resolution: 0.2, nmi: 0.38630316473009724\n",
      "resolution: 0.3, nmi: 0.38630316473009724\n",
      "resolution: 0.4, nmi: 0.38630316473009724\n",
      "resolution: 0.5, nmi: 0.38630316473009724\n",
      "resolution: 0.6, nmi: 0.38630316473009724\n",
      "resolution: 0.7, nmi: 0.38630316473009724\n",
      "resolution: 0.8, nmi: 0.38630316473009724\n",
      "resolution: 0.9, nmi: 0.38630316473009724\n",
      "resolution: 1.0, nmi: 0.38630316473009724\n",
      "resolution: 1.1, nmi: 0.38630316473009724\n",
      "resolution: 1.2, nmi: 0.38630316473009724\n",
      "resolution: 1.3, nmi: 0.38630316473009724\n",
      "resolution: 1.4, nmi: 0.38630316473009724\n",
      "resolution: 1.5, nmi: 0.38630316473009724\n",
      "resolution: 1.6, nmi: 0.38630316473009724\n",
      "resolution: 1.7, nmi: 0.38630316473009724\n",
      "resolution: 1.8, nmi: 0.38630316473009724\n",
      "resolution: 1.9, nmi: 0.38630316473009724\n",
      "resolution: 2.0, nmi: 0.38630316473009724\n",
      "optimised clustering against initial_clustering\n",
      "optimal cluster resolution: 0.1\n",
      "optimal score: 0.38630316473009724\n",
      "NMI...\n",
      "ARI...\n",
      "Silhouette score...\n",
      "Isolated labels ASW...\n",
      "Graph connectivity...\n",
      "CPU times: user 5.43 s, sys: 4.76 s, total: 10.2 s\n",
      "Wall time: 4.81 s\n"
     ]
    }
   ],
   "source": [
    "%%time\n",
    "metrics = scib.metrics.metrics(\n",
    "    adata, \n",
    "    adata, \n",
    "    batch_key=batch_key, \n",
    "    label_key=label_key, \n",
    "    embed='latent',\n",
    "    ari_=True,\n",
    "    nmi_=True,\n",
    "    silhouette_=True,\n",
    "    graph_conn_=True,\n",
    "    isolated_labels_asw_=True,\n",
    "    verbose=True,\n",
    ")"
   ]
  },
  {
   "cell_type": "code",
   "execution_count": 16,
   "id": "10540018-82b2-48ad-a73b-f25c9cb54e32",
   "metadata": {},
   "outputs": [
    {
     "data": {
      "text/html": [
       "<div>\n",
       "<style scoped>\n",
       "    .dataframe tbody tr th:only-of-type {\n",
       "        vertical-align: middle;\n",
       "    }\n",
       "\n",
       "    .dataframe tbody tr th {\n",
       "        vertical-align: top;\n",
       "    }\n",
       "\n",
       "    .dataframe thead th {\n",
       "        text-align: right;\n",
       "    }\n",
       "</style>\n",
       "<table border=\"1\" class=\"dataframe\">\n",
       "  <thead>\n",
       "    <tr style=\"text-align: right;\">\n",
       "      <th></th>\n",
       "      <th>0</th>\n",
       "    </tr>\n",
       "  </thead>\n",
       "  <tbody>\n",
       "    <tr>\n",
       "      <th>NMI_cluster/label</th>\n",
       "      <td>0.386303</td>\n",
       "    </tr>\n",
       "    <tr>\n",
       "      <th>ARI_cluster/label</th>\n",
       "      <td>0.000432</td>\n",
       "    </tr>\n",
       "    <tr>\n",
       "      <th>ASW_label</th>\n",
       "      <td>0.542877</td>\n",
       "    </tr>\n",
       "    <tr>\n",
       "      <th>ASW_label/batch</th>\n",
       "      <td>0.931413</td>\n",
       "    </tr>\n",
       "    <tr>\n",
       "      <th>PCR_batch</th>\n",
       "      <td>NaN</td>\n",
       "    </tr>\n",
       "    <tr>\n",
       "      <th>cell_cycle_conservation</th>\n",
       "      <td>NaN</td>\n",
       "    </tr>\n",
       "    <tr>\n",
       "      <th>isolated_label_F1</th>\n",
       "      <td>NaN</td>\n",
       "    </tr>\n",
       "    <tr>\n",
       "      <th>isolated_label_silhouette</th>\n",
       "      <td>0.487664</td>\n",
       "    </tr>\n",
       "    <tr>\n",
       "      <th>graph_conn</th>\n",
       "      <td>0.024654</td>\n",
       "    </tr>\n",
       "    <tr>\n",
       "      <th>kBET</th>\n",
       "      <td>NaN</td>\n",
       "    </tr>\n",
       "    <tr>\n",
       "      <th>iLISI</th>\n",
       "      <td>NaN</td>\n",
       "    </tr>\n",
       "    <tr>\n",
       "      <th>cLISI</th>\n",
       "      <td>NaN</td>\n",
       "    </tr>\n",
       "    <tr>\n",
       "      <th>hvg_overlap</th>\n",
       "      <td>NaN</td>\n",
       "    </tr>\n",
       "    <tr>\n",
       "      <th>trajectory</th>\n",
       "      <td>NaN</td>\n",
       "    </tr>\n",
       "  </tbody>\n",
       "</table>\n",
       "</div>"
      ],
      "text/plain": [
       "                                  0\n",
       "NMI_cluster/label          0.386303\n",
       "ARI_cluster/label          0.000432\n",
       "ASW_label                  0.542877\n",
       "ASW_label/batch            0.931413\n",
       "PCR_batch                       NaN\n",
       "cell_cycle_conservation         NaN\n",
       "isolated_label_F1               NaN\n",
       "isolated_label_silhouette  0.487664\n",
       "graph_conn                 0.024654\n",
       "kBET                            NaN\n",
       "iLISI                           NaN\n",
       "cLISI                           NaN\n",
       "hvg_overlap                     NaN\n",
       "trajectory                      NaN"
      ]
     },
     "execution_count": 16,
     "metadata": {},
     "output_type": "execute_result"
    }
   ],
   "source": [
    "metrics"
   ]
  },
  {
   "cell_type": "code",
   "execution_count": 22,
   "id": "5c9d6061-612f-4239-9c08-a7e70d060083",
   "metadata": {},
   "outputs": [],
   "source": [
    "mean_integ_metrics = np.mean([metrics[0][i] for i in ['graph_conn', 'ASW_label/batch']])\n",
    "mean_bio_metrics = np.mean([metrics[0][i] for i in ['ASW_label', 'NMI_cluster/label', 'ARI_cluster/label', 'isolated_label_silhouette']])"
   ]
  },
  {
   "cell_type": "code",
   "execution_count": 23,
   "id": "84c0e40d-6981-4eec-84d5-c0ce0651c40b",
   "metadata": {},
   "outputs": [],
   "source": [
    "overall_score = 0.4*mean_integ_metrics + 0.6*mean_bio_metrics"
   ]
  },
  {
   "cell_type": "code",
   "execution_count": 24,
   "id": "f3cbc1e2-5ed8-4142-8d4a-9822cf3ea018",
   "metadata": {},
   "outputs": [],
   "source": [
    "metrics.loc['batch', 0] = mean_integ_metrics\n",
    "metrics.loc['bio', 0] = mean_bio_metrics\n",
    "metrics.loc['overall', 0] = overall_score"
   ]
  },
  {
   "cell_type": "code",
   "execution_count": 25,
   "id": "6f7c1fbc-405a-48de-bc19-26078a9e8aa4",
   "metadata": {},
   "outputs": [
    {
     "data": {
      "text/html": [
       "<div>\n",
       "<style scoped>\n",
       "    .dataframe tbody tr th:only-of-type {\n",
       "        vertical-align: middle;\n",
       "    }\n",
       "\n",
       "    .dataframe tbody tr th {\n",
       "        vertical-align: top;\n",
       "    }\n",
       "\n",
       "    .dataframe thead th {\n",
       "        text-align: right;\n",
       "    }\n",
       "</style>\n",
       "<table border=\"1\" class=\"dataframe\">\n",
       "  <thead>\n",
       "    <tr style=\"text-align: right;\">\n",
       "      <th></th>\n",
       "      <th>0</th>\n",
       "    </tr>\n",
       "  </thead>\n",
       "  <tbody>\n",
       "    <tr>\n",
       "      <th>NMI_cluster/label</th>\n",
       "      <td>0.386303</td>\n",
       "    </tr>\n",
       "    <tr>\n",
       "      <th>ARI_cluster/label</th>\n",
       "      <td>0.000432</td>\n",
       "    </tr>\n",
       "    <tr>\n",
       "      <th>ASW_label</th>\n",
       "      <td>0.542877</td>\n",
       "    </tr>\n",
       "    <tr>\n",
       "      <th>ASW_label/batch</th>\n",
       "      <td>0.931413</td>\n",
       "    </tr>\n",
       "    <tr>\n",
       "      <th>PCR_batch</th>\n",
       "      <td>NaN</td>\n",
       "    </tr>\n",
       "    <tr>\n",
       "      <th>cell_cycle_conservation</th>\n",
       "      <td>NaN</td>\n",
       "    </tr>\n",
       "    <tr>\n",
       "      <th>isolated_label_F1</th>\n",
       "      <td>NaN</td>\n",
       "    </tr>\n",
       "    <tr>\n",
       "      <th>isolated_label_silhouette</th>\n",
       "      <td>0.487664</td>\n",
       "    </tr>\n",
       "    <tr>\n",
       "      <th>graph_conn</th>\n",
       "      <td>0.024654</td>\n",
       "    </tr>\n",
       "    <tr>\n",
       "      <th>kBET</th>\n",
       "      <td>NaN</td>\n",
       "    </tr>\n",
       "    <tr>\n",
       "      <th>iLISI</th>\n",
       "      <td>NaN</td>\n",
       "    </tr>\n",
       "    <tr>\n",
       "      <th>cLISI</th>\n",
       "      <td>NaN</td>\n",
       "    </tr>\n",
       "    <tr>\n",
       "      <th>hvg_overlap</th>\n",
       "      <td>NaN</td>\n",
       "    </tr>\n",
       "    <tr>\n",
       "      <th>trajectory</th>\n",
       "      <td>NaN</td>\n",
       "    </tr>\n",
       "    <tr>\n",
       "      <th>batch</th>\n",
       "      <td>0.478033</td>\n",
       "    </tr>\n",
       "    <tr>\n",
       "      <th>bio</th>\n",
       "      <td>0.354319</td>\n",
       "    </tr>\n",
       "    <tr>\n",
       "      <th>overall</th>\n",
       "      <td>0.403805</td>\n",
       "    </tr>\n",
       "  </tbody>\n",
       "</table>\n",
       "</div>"
      ],
      "text/plain": [
       "                                  0\n",
       "NMI_cluster/label          0.386303\n",
       "ARI_cluster/label          0.000432\n",
       "ASW_label                  0.542877\n",
       "ASW_label/batch            0.931413\n",
       "PCR_batch                       NaN\n",
       "cell_cycle_conservation         NaN\n",
       "isolated_label_F1               NaN\n",
       "isolated_label_silhouette  0.487664\n",
       "graph_conn                 0.024654\n",
       "kBET                            NaN\n",
       "iLISI                           NaN\n",
       "cLISI                           NaN\n",
       "hvg_overlap                     NaN\n",
       "trajectory                      NaN\n",
       "batch                      0.478033\n",
       "bio                        0.354319\n",
       "overall                    0.403805"
      ]
     },
     "execution_count": 25,
     "metadata": {},
     "output_type": "execute_result"
    }
   ],
   "source": [
    "metrics"
   ]
  },
  {
   "cell_type": "code",
   "execution_count": null,
   "id": "3bae6add-1cb8-437e-b360-0f5bb6157e7e",
   "metadata": {},
   "outputs": [],
   "source": []
  }
 ],
 "metadata": {
  "kernelspec": {
   "display_name": "Python 3 (ipykernel)",
   "language": "python",
   "name": "python3"
  },
  "language_info": {
   "codemirror_mode": {
    "name": "ipython",
    "version": 3
   },
   "file_extension": ".py",
   "mimetype": "text/x-python",
   "name": "python",
   "nbconvert_exporter": "python",
   "pygments_lexer": "ipython3",
   "version": "3.10.12"
  }
 },
 "nbformat": 4,
 "nbformat_minor": 5
}
