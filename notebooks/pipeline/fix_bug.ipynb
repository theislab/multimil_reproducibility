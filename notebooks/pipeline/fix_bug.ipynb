{
 "cells": [
  {
   "cell_type": "code",
   "execution_count": 8,
   "id": "99f9f793-171c-4671-9c99-b15f4fd6c26e",
   "metadata": {},
   "outputs": [],
   "source": [
    "import scanpy as sc\n",
    "import pandas as pd\n",
    "import decoupler as dc\n",
    "import numpy as np\n",
    "from pprint import pprint\n",
    "\n",
    "from sklearn.metrics import classification_report\n",
    "from sklearn.ensemble import RandomForestClassifier"
   ]
  },
  {
   "cell_type": "code",
   "execution_count": 3,
   "id": "277af0fe-f573-4af8-9639-c43771640eae",
   "metadata": {},
   "outputs": [
    {
     "name": "stderr",
     "output_type": "stream",
     "text": [
      "/lustre/groups/ml01/workspace/anastasia.litinetskaya/mambaforge/envs/differential-gene-expression/lib/python3.9/site-packages/anndata/__init__.py:51: FutureWarning: `anndata.read` is deprecated, use `anndata.read_h5ad` instead. `ad.read` will be removed in mid 2024.\n",
      "  warnings.warn(\n"
     ]
    },
    {
     "data": {
      "text/plain": [
       "AnnData object with n_obs × n_vars = 450214 × 30\n",
       "    obs: \"3'_or_5'\", 'BMI', 'age_or_mean_of_age_range', 'age_range', 'anatomical_region_ccf_score', 'ancestry', 'ann_coarse_for_GWAS_and_modeling', 'ann_finest_level', 'ann_level_1', 'ann_level_2', 'ann_level_3', 'ann_level_4', 'ann_level_5', 'assay', 'cause_of_death', 'cell_type', 'core_or_extension', 'dataset', 'development_stage', 'disease', 'donor_id', 'fresh_or_frozen', 'log10_total_counts', 'lung_condition', 'mixed_ancestry', 'original_ann_level_1', 'original_ann_level_2', 'original_ann_level_3', 'original_ann_level_4', 'original_ann_level_5', 'original_ann_nonharmonized', 'reannotation_type', 'sample', 'scanvi_label', 'sequencing_platform', 'sex', 'smoking_status', 'study', 'subject_type', 'suspension_type', 'tissue', 'tissue_coarse_unharmonized', 'tissue_detailed_unharmonized', 'tissue_dissociation_protocol', 'tissue_level_2', 'tissue_level_3', 'tissue_sampling_method', 'total_counts', 'transf_ann_level_1_label', 'transf_ann_level_1_uncert', 'transf_ann_level_2_label', 'transf_ann_level_2_uncert', 'transf_ann_level_3_label', 'transf_ann_level_3_uncert', 'transf_ann_level_4_label', 'transf_ann_level_4_uncert', 'transf_ann_level_5_label', 'transf_ann_level_5_uncert', 'lung_condition_coarse', 'split0', 'split1', 'split2', 'split3', 'split4', 'ann_level_1_label_final', 'ann_level_2_label_final', 'ann_level_3_label_final', 'ann_level_4_label_final', 'ann_level_5_label_final'\n",
       "    uns: 'ann_level_1_label_final_colors', 'ann_level_2_label_final_colors', 'ann_level_3_label_final_colors', 'ann_level_4_label_final_colors', 'ann_level_5_label_final_colors'\n",
       "    obsm: 'X_umap', 'X_umap_og'"
      ]
     },
     "execution_count": 3,
     "metadata": {},
     "output_type": "execute_result"
    }
   ],
   "source": [
    "adata = sc.read('../../pipeline/data/pp/hlca_healthy_ipf_embed_balanced_final.h5ad')\n",
    "adata"
   ]
  },
  {
   "cell_type": "code",
   "execution_count": 4,
   "id": "86870820-3c08-4bf0-bf3e-bde74628d641",
   "metadata": {},
   "outputs": [],
   "source": [
    "condition_key = 'lung_condition_coarse'\n",
    "sample_key = 'sample'\n",
    "label_key = 'ann_level_3_label_final'"
   ]
  },
  {
   "cell_type": "code",
   "execution_count": 5,
   "id": "6ae44afd-03c5-4eae-a73c-01bc294b164a",
   "metadata": {},
   "outputs": [],
   "source": [
    "adata.obs[condition_key] = adata.obs[condition_key].astype('category')\n",
    "adata.obs[sample_key] = adata.obs[sample_key].astype('category')\n",
    "adata.obs[label_key] = adata.obs[label_key].astype('category')"
   ]
  },
  {
   "cell_type": "code",
   "execution_count": 18,
   "id": "f675c7e2-3dfc-4e95-8e0c-6b5b6951aafa",
   "metadata": {},
   "outputs": [],
   "source": [
    "adata.obs[sample_key] = adata.obs[sample_key].astype(str)\n",
    "\n",
    "rename_dict = {name: number for number, name in enumerate(np.unique(adata.obs[condition_key]))}\n",
    "ct_to_keep = list(np.unique(adata.obs[label_key]))\n",
    "standartize = True"
   ]
  },
  {
   "cell_type": "code",
   "execution_count": 22,
   "id": "039799ed-b3dc-48f9-8546-5b3501c0dbd0",
   "metadata": {},
   "outputs": [],
   "source": [
    "celltype = 'h'\n",
    "ct = 3\n",
    "donor = 4\n",
    "sample = 4"
   ]
  },
  {
   "cell_type": "code",
   "execution_count": 25,
   "id": "74f376f5-b6bf-4b8c-88f7-98ef7d8bf684",
   "metadata": {},
   "outputs": [
    {
     "data": {
      "text/plain": [
       "{'h': 3, 4: 4, 'count': 0}"
      ]
     },
     "execution_count": 25,
     "metadata": {},
     "output_type": "execute_result"
    }
   ],
   "source": [
    "dict([(celltype, ct), (donor, sample), ('count', 0)])"
   ]
  },
  {
   "cell_type": "code",
   "execution_count": 62,
   "id": "d484da1c-3d51-4695-9132-c3a7bb92e086",
   "metadata": {},
   "outputs": [],
   "source": [
    "def create_frequency_dataset(adata, celltype, donor, condition, standartize, rename_dict, ct_to_keep):\n",
    "    missing_ct = list(set(ct_to_keep) - set(adata.obs[celltype]))\n",
    "    df = adata.obs[[celltype, donor]].groupby([celltype, donor]).size().reset_index(name='count')\n",
    "\n",
    "    unique_samples = np.unique(adata.obs[donor])\n",
    "    missing_df = {celltype: [], donor: [], 'count': []}\n",
    "    for ct in missing_ct:\n",
    "        for sample in unique_samples:\n",
    "            missing_df[celltype].append(ct)\n",
    "            missing_df[donor].append(sample)\n",
    "            missing_df['count'].append(0)\n",
    "    missing_df = dict(missing_df)\n",
    "    missing_df = pd.DataFrame(missing_df)\n",
    "\n",
    "    df = pd.concat([df, missing_df])\n",
    "    df = df.reset_index()\n",
    "    \n",
    "    X = []\n",
    "    y = []\n",
    "\n",
    "    for sample in df[donor].unique():\n",
    "        df_sample = df[df[donor] == sample]\n",
    "        df_sample = df_sample.sort_values(celltype)\n",
    "        X.append(df_sample['count'].values)\n",
    "        y.append(rename_dict[adata[adata.obs[donor] == sample].obs[condition][0]])\n",
    "\n",
    "    X = np.array(X)\n",
    "    y = np.array(y)\n",
    "\n",
    "    # drop donors with less than 10 cells in total\n",
    "    idx = np.argwhere(np.sum(X, axis=1) <= 300)\n",
    "    X = np.delete(X, idx, axis=0)\n",
    "    y = np.delete(y, idx)\n",
    "    \n",
    "    if standartize is True:\n",
    "        X = (X - np.mean(X, axis=0)) / np.std(X, axis=0)\n",
    "    \n",
    "    return X, y"
   ]
  },
  {
   "cell_type": "code",
   "execution_count": 67,
   "id": "6e7e6114-089c-411a-81e9-cdcd67d774cb",
   "metadata": {},
   "outputs": [
    {
     "name": "stderr",
     "output_type": "stream",
     "text": [
      "/tmp/ipykernel_2646409/855697280.py:3: FutureWarning: The default of observed=False is deprecated and will be changed to True in a future version of pandas. Pass observed=False to retain current behavior or observed=True to adopt the future default and silence this warning.\n",
      "  df = adata.obs[[celltype, donor]].groupby([celltype, donor]).size().reset_index(name='count')\n",
      "/tmp/ipykernel_2646409/855697280.py:15: FutureWarning: The behavior of DataFrame concatenation with empty or all-NA entries is deprecated. In a future version, this will no longer exclude empty or all-NA columns when determining the result dtypes. To retain the old behavior, exclude the relevant entries before the concat operation.\n",
      "  df = pd.concat([df, missing_df])\n",
      "/tmp/ipykernel_2646409/855697280.py:25: FutureWarning: Series.__getitem__ treating keys as positions is deprecated. In a future version, integer keys will always be treated as labels (consistent with DataFrame behavior). To access a value by position, use `ser.iloc[pos]`\n",
      "  y.append(rename_dict[adata[adata.obs[donor] == sample].obs[condition][0]])\n"
     ]
    },
    {
     "name": "stdout",
     "output_type": "stream",
     "text": [
      "Train shapes:\n",
      "x.shape = (110, 25)\n",
      "y.shape = (110,)\n"
     ]
    },
    {
     "name": "stderr",
     "output_type": "stream",
     "text": [
      "/tmp/ipykernel_2646409/855697280.py:3: FutureWarning: The default of observed=False is deprecated and will be changed to True in a future version of pandas. Pass observed=False to retain current behavior or observed=True to adopt the future default and silence this warning.\n",
      "  df = adata.obs[[celltype, donor]].groupby([celltype, donor]).size().reset_index(name='count')\n",
      "/tmp/ipykernel_2646409/855697280.py:25: FutureWarning: Series.__getitem__ treating keys as positions is deprecated. In a future version, integer keys will always be treated as labels (consistent with DataFrame behavior). To access a value by position, use `ser.iloc[pos]`\n",
      "  y.append(rename_dict[adata[adata.obs[donor] == sample].obs[condition][0]])\n"
     ]
    },
    {
     "name": "stdout",
     "output_type": "stream",
     "text": [
      "Val shapes:\n",
      "x_val.shape = (18, 25)\n",
      "y_val.shape = (18,)\n"
     ]
    },
    {
     "name": "stderr",
     "output_type": "stream",
     "text": [
      "/tmp/ipykernel_2646409/855697280.py:36: RuntimeWarning: invalid value encountered in divide\n",
      "  X = (X - np.mean(X, axis=0)) / np.std(X, axis=0)\n"
     ]
    }
   ],
   "source": [
    "i = 4\n",
    " \n",
    "train = adata[adata.obs[f'split{i}'] == 'train'].copy()\n",
    "val = adata[adata.obs[f'split{i}'] == 'val'].copy()\n",
    "#train data\n",
    "x, y = create_frequency_dataset(\n",
    "    train,\n",
    "    celltype=label_key,\n",
    "    donor=sample_key,\n",
    "    condition=condition_key,\n",
    "    standartize=standartize,\n",
    "    rename_dict=rename_dict,\n",
    "    ct_to_keep=ct_to_keep,\n",
    ")\n",
    "print(\"Train shapes:\")\n",
    "print(f\"x.shape = {x.shape}\")\n",
    "print(f\"y.shape = {y.shape}\")\n",
    "#val data\n",
    "x_val, y_val = create_frequency_dataset(\n",
    "    val,\n",
    "    celltype=label_key,\n",
    "    donor=sample_key,\n",
    "    condition=condition_key,\n",
    "    standartize=standartize,\n",
    "    rename_dict=rename_dict,\n",
    "    ct_to_keep=ct_to_keep,\n",
    ")\n",
    "print(\"Val shapes:\")\n",
    "print(f\"x_val.shape = {x_val.shape}\")\n",
    "print(f\"y_val.shape = {y_val.shape}\")"
   ]
  },
  {
   "cell_type": "code",
   "execution_count": null,
   "id": "9bca8f4a-7ce6-4391-a6a8-00092680bdd5",
   "metadata": {},
   "outputs": [],
   "source": []
  }
 ],
 "metadata": {
  "kernelspec": {
   "display_name": "Python 3 (ipykernel)",
   "language": "python",
   "name": "python3"
  },
  "language_info": {
   "codemirror_mode": {
    "name": "ipython",
    "version": 3
   },
   "file_extension": ".py",
   "mimetype": "text/x-python",
   "name": "python",
   "nbconvert_exporter": "python",
   "pygments_lexer": "ipython3",
   "version": "3.10.12"
  }
 },
 "nbformat": 4,
 "nbformat_minor": 5
}
