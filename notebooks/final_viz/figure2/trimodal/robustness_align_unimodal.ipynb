{
 "cells": [
  {
   "cell_type": "code",
   "execution_count": 1,
   "id": "701f97a4-3a61-4212-bb6c-fdd369a3e2d8",
   "metadata": {},
   "outputs": [],
   "source": [
    "x=1"
   ]
  },
  {
   "cell_type": "code",
   "execution_count": 2,
   "id": "61176dc7",
   "metadata": {},
   "outputs": [],
   "source": [
    "import warnings\n",
    "warnings.simplefilter(action='ignore', category=FutureWarning)\n",
    "\n",
    "import random\n",
    "import pandas as pd\n",
    "from matplotlib import pyplot as plt\n",
    "import os\n",
    "\n",
    "random.seed(123)"
   ]
  },
  {
   "cell_type": "code",
   "execution_count": 3,
   "id": "874ded38",
   "metadata": {},
   "outputs": [],
   "source": [
    "rootdir = '/lustre/groups/ml01/workspace/anastasia.litinetskaya/experiments/integration/trimodal/not_marginal_mmd/'"
   ]
  },
  {
   "cell_type": "code",
   "execution_count": 4,
   "id": "02e38487",
   "metadata": {},
   "outputs": [],
   "source": [
    "results = {}\n",
    "\n",
    "for subdir, dirs, files in os.walk(rootdir):\n",
    "    for file in files:\n",
    "        filepath = subdir + os.sep + file\n",
    "        if filepath.endswith(\"metrics.csv\"):\n",
    "            n_features = subdir.split('/')[-1].split('-')[0]\n",
    "            name = filepath.split('/')[-1][:-12]\n",
    "            df = pd.read_csv(filepath)\n",
    "            df = df.set_index('Unnamed: 0')\n",
    "            if name not in results:\n",
    "                results[name] = {}\n",
    "            results[name][n_features] = df['0']['overall']"
   ]
  },
  {
   "cell_type": "code",
   "execution_count": 5,
   "id": "8212e4aa",
   "metadata": {},
   "outputs": [
    {
     "data": {
      "text/html": [
       "<div>\n",
       "<style scoped>\n",
       "    .dataframe tbody tr th:only-of-type {\n",
       "        vertical-align: middle;\n",
       "    }\n",
       "\n",
       "    .dataframe tbody tr th {\n",
       "        vertical-align: top;\n",
       "    }\n",
       "\n",
       "    .dataframe thead th {\n",
       "        text-align: right;\n",
       "    }\n",
       "</style>\n",
       "<table border=\"1\" class=\"dataframe\">\n",
       "  <thead>\n",
       "    <tr style=\"text-align: right;\">\n",
       "      <th></th>\n",
       "      <th>reference_CITE-seq_query</th>\n",
       "      <th>reference_snRNA-seq_query</th>\n",
       "      <th>train</th>\n",
       "      <th>reference_ATAC-seq_query</th>\n",
       "      <th>reference_query</th>\n",
       "      <th>reference_scRNA-seq_query</th>\n",
       "      <th>reference_multiome_query</th>\n",
       "    </tr>\n",
       "  </thead>\n",
       "  <tbody>\n",
       "    <tr>\n",
       "      <th>marginal</th>\n",
       "      <td>0.747717</td>\n",
       "      <td>0.743667</td>\n",
       "      <td>0.759303</td>\n",
       "      <td>0.747575</td>\n",
       "      <td>0.753552</td>\n",
       "      <td>0.759151</td>\n",
       "      <td>0.751158</td>\n",
       "    </tr>\n",
       "    <tr>\n",
       "      <th>not_marginal_mmd3</th>\n",
       "      <td>0.752707</td>\n",
       "      <td>0.716481</td>\n",
       "      <td>0.763617</td>\n",
       "      <td>0.656811</td>\n",
       "      <td>0.706823</td>\n",
       "      <td>0.715818</td>\n",
       "      <td>0.763041</td>\n",
       "    </tr>\n",
       "  </tbody>\n",
       "</table>\n",
       "</div>"
      ],
      "text/plain": [
       "                   reference_CITE-seq_query  reference_snRNA-seq_query  \\\n",
       "marginal                           0.747717                   0.743667   \n",
       "not_marginal_mmd3                  0.752707                   0.716481   \n",
       "\n",
       "                      train  reference_ATAC-seq_query  reference_query  \\\n",
       "marginal           0.759303                  0.747575         0.753552   \n",
       "not_marginal_mmd3  0.763617                  0.656811         0.706823   \n",
       "\n",
       "                   reference_scRNA-seq_query  reference_multiome_query  \n",
       "marginal                            0.759151                  0.751158  \n",
       "not_marginal_mmd3                   0.715818                  0.763041  "
      ]
     },
     "execution_count": 5,
     "metadata": {},
     "output_type": "execute_result"
    }
   ],
   "source": [
    "df = pd.DataFrame(results)\n",
    "df = df.sort_index()\n",
    "df"
   ]
  },
  {
   "cell_type": "code",
   "execution_count": 6,
   "id": "e1a3329c",
   "metadata": {},
   "outputs": [],
   "source": [
    "df = df[['train', \n",
    "         'reference_CITE-seq_query', \n",
    "         'reference_multiome_query', \n",
    "         'reference_scRNA-seq_query', \n",
    "         'reference_ATAC-seq_query',\n",
    "         'reference_snRNA-seq_query']]"
   ]
  },
  {
   "cell_type": "code",
   "execution_count": 7,
   "id": "b859c486",
   "metadata": {},
   "outputs": [],
   "source": [
    "df = df.rename(columns={\n",
    "    'reference_CITE-seq_query': 'CITE-seq mapping', \n",
    "    'reference_snRNA-seq_query': 'snRNA-seq mapping', \n",
    "    'train': 'reference building',\n",
    "    'reference_ATAC-seq_query': 'ATAC-seq mapping', \n",
    "    'reference_scRNA-seq_query': 'scRNA-seq mapping', \n",
    "    'reference_multiome_query': 'multiome mapping'\n",
    "})"
   ]
  },
  {
   "cell_type": "code",
   "execution_count": 8,
   "id": "15710ea0",
   "metadata": {},
   "outputs": [],
   "source": [
    "df = df.rename(index={\n",
    "    'marginal': 'marginal MMD',\n",
    "    'not_marginal_mmd3': 'not marginal MMD'\n",
    "})"
   ]
  },
  {
   "cell_type": "code",
   "execution_count": 9,
   "id": "3c59f788",
   "metadata": {},
   "outputs": [
    {
     "data": {
      "image/png": "[encoded data removed]",
      "text/plain": [
       "<Figure size 640x480 with 1 Axes>"
      ]
     },
     "metadata": {},
     "output_type": "display_data"
    }
   ],
   "source": [
    "ax = df.T.plot(kind='bar', rot=90, zorder=3, color=[\"black\", \"#00a8cc\"])\n",
    "ax.legend(loc='center left', bbox_to_anchor=(1.0, 0.5))\n",
    "ax.grid(zorder=0)\n",
    "plt.savefig('figures/robustness_mmd.svg', bbox_inches='tight')"
   ]
  },
  {
   "cell_type": "code",
   "execution_count": null,
   "id": "a2a37756",
   "metadata": {},
   "outputs": [],
   "source": []
  }
 ],
 "metadata": {
  "kernelspec": {
   "display_name": "Python 3 (ipykernel)",
   "language": "python",
   "name": "python3"
  },
  "language_info": {
   "codemirror_mode": {
    "name": "ipython",
    "version": 3
   },
   "file_extension": ".py",
   "mimetype": "text/x-python",
   "name": "python",
   "nbconvert_exporter": "python",
   "pygments_lexer": "ipython3",
   "version": "3.10.12"
  }
 },
 "nbformat": 4,
 "nbformat_minor": 5
}
