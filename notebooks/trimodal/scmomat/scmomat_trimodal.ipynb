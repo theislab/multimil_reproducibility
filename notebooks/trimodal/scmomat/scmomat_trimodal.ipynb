{
 "cells": [
  {
   "cell_type": "code",
   "execution_count": 1,
   "metadata": {},
   "outputs": [],
   "source": [
    "#Python == 3.8.17\n",
    "#numpy == 1.24.3\n",
    "#torch >= 1.11.0\n",
    "#scipy == 1.10.1\n",
    "#sklearn >= 0.22.1\n",
    "#matplotlib == 3.7.1\n",
    "#umap >= 0.5.2\n",
    "#leidenalg >= 0.9.1\n",
    "#pandas == 1.5.3\n",
    "#adjustText >= 0.7.3 "
   ]
  },
  {
   "cell_type": "code",
   "execution_count": 2,
   "metadata": {},
   "outputs": [
    {
     "name": "stderr",
     "output_type": "stream",
     "text": [
      "/Users/maiia.shulman/anaconda3/envs/scmomat/lib/python3.8/site-packages/umap/distances.py:1063: NumbaDeprecationWarning: The 'nopython' keyword argument was not supplied to the 'numba.jit' decorator. The implicit default value for this argument is currently False, but it will be changed to True in Numba 0.59.0. See https://numba.readthedocs.io/en/stable/reference/deprecation.html#deprecation-of-object-mode-fall-back-behaviour-when-using-jit for details.\n",
      "  @numba.jit()\n",
      "/Users/maiia.shulman/anaconda3/envs/scmomat/lib/python3.8/site-packages/umap/distances.py:1071: NumbaDeprecationWarning: The 'nopython' keyword argument was not supplied to the 'numba.jit' decorator. The implicit default value for this argument is currently False, but it will be changed to True in Numba 0.59.0. See https://numba.readthedocs.io/en/stable/reference/deprecation.html#deprecation-of-object-mode-fall-back-behaviour-when-using-jit for details.\n",
      "  @numba.jit()\n",
      "/Users/maiia.shulman/anaconda3/envs/scmomat/lib/python3.8/site-packages/umap/distances.py:1086: NumbaDeprecationWarning: The 'nopython' keyword argument was not supplied to the 'numba.jit' decorator. The implicit default value for this argument is currently False, but it will be changed to True in Numba 0.59.0. See https://numba.readthedocs.io/en/stable/reference/deprecation.html#deprecation-of-object-mode-fall-back-behaviour-when-using-jit for details.\n",
      "  @numba.jit()\n",
      "/Users/maiia.shulman/anaconda3/envs/scmomat/lib/python3.8/site-packages/tqdm/auto.py:21: TqdmWarning: IProgress not found. Please update jupyter and ipywidgets. See https://ipywidgets.readthedocs.io/en/stable/user_install.html\n",
      "  from .autonotebook import tqdm as notebook_tqdm\n",
      "/Users/maiia.shulman/anaconda3/envs/scmomat/lib/python3.8/site-packages/umap/umap_.py:660: NumbaDeprecationWarning: The 'nopython' keyword argument was not supplied to the 'numba.jit' decorator. The implicit default value for this argument is currently False, but it will be changed to True in Numba 0.59.0. See https://numba.readthedocs.io/en/stable/reference/deprecation.html#deprecation-of-object-mode-fall-back-behaviour-when-using-jit for details.\n",
      "  @numba.jit()\n"
     ]
    }
   ],
   "source": [
    "import sys, os\n",
    "\n",
    "import numpy as np\n",
    "from umap import UMAP\n",
    "import time\n",
    "import torch\n",
    "import matplotlib.pyplot as plt\n",
    "import pandas as pd  \n",
    "import scipy.sparse as sp\n",
    "import episcanpy\n",
    "import scanpy as sc\n",
    "import anndata as ad\n",
    "\n",
    "import scmomat \n",
    "\n",
    "plt.rcParams[\"font.size\"] = 10"
   ]
  },
  {
   "cell_type": "markdown",
   "metadata": {},
   "source": [
    "## Read the data"
   ]
  },
  {
   "cell_type": "code",
   "execution_count": 3,
   "metadata": {},
   "outputs": [
    {
     "data": {
      "text/plain": [
       "AnnData object with n_obs × n_vars = 69249 × 129921\n",
       "    obs: 'GEX_pct_counts_mt', 'GEX_n_counts', 'GEX_n_genes', 'GEX_size_factors', 'GEX_phase', 'ATAC_nCount_peaks', 'ATAC_atac_fragments', 'ATAC_reads_in_peaks_frac', 'ATAC_blacklist_fraction', 'ATAC_nucleosome_signal', 'cell_type', 'batch', 'ATAC_pseudotime_order', 'GEX_pseudotime_order', 'Samplename', 'Site', 'DonorNumber', 'Modality', 'VendorLot', 'DonorID', 'DonorAge', 'DonorBMI', 'DonorBloodType', 'DonorRace', 'Ethnicity', 'DonorGender', 'QCMeds', 'DonorSmoker'\n",
       "    var: 'feature_types', 'gene_id'\n",
       "    uns: 'ATAC_gene_activity_var_names', 'dataset_id', 'genome', 'organism'\n",
       "    obsm: 'ATAC_gene_activity', 'ATAC_lsi_full', 'ATAC_lsi_red', 'ATAC_umap', 'GEX_X_pca', 'GEX_X_umap'\n",
       "    layers: 'counts'"
      ]
     },
     "execution_count": 3,
     "metadata": {},
     "output_type": "execute_result"
    }
   ],
   "source": [
    "multiom = ad.read_h5ad(\"GSE194122_openproblems_neurips2021_multiome_BMMC_processed.h5ad\")\n",
    "multiom"
   ]
  },
  {
   "cell_type": "code",
   "execution_count": 4,
   "metadata": {},
   "outputs": [
    {
     "data": {
      "text/plain": [
       "AnnData object with n_obs × n_vars = 32469 × 129921\n",
       "    obs: 'GEX_pct_counts_mt', 'GEX_n_counts', 'GEX_n_genes', 'GEX_size_factors', 'GEX_phase', 'ATAC_nCount_peaks', 'ATAC_atac_fragments', 'ATAC_reads_in_peaks_frac', 'ATAC_blacklist_fraction', 'ATAC_nucleosome_signal', 'cell_type', 'batch', 'ATAC_pseudotime_order', 'GEX_pseudotime_order', 'Samplename', 'Site', 'DonorNumber', 'Modality', 'VendorLot', 'DonorID', 'DonorAge', 'DonorBMI', 'DonorBloodType', 'DonorRace', 'Ethnicity', 'DonorGender', 'QCMeds', 'DonorSmoker'\n",
       "    var: 'feature_types', 'gene_id'\n",
       "    uns: 'ATAC_gene_activity_var_names', 'dataset_id', 'genome', 'organism'\n",
       "    obsm: 'ATAC_gene_activity', 'ATAC_lsi_full', 'ATAC_lsi_red', 'ATAC_umap', 'GEX_X_pca', 'GEX_X_umap'\n",
       "    layers: 'counts'"
      ]
     },
     "execution_count": 4,
     "metadata": {},
     "output_type": "execute_result"
    }
   ],
   "source": [
    "multiom = multiom[multiom.obs['Site'].isin(['site1', 'site2'])].copy() #select site1 and site2 as a reference\n",
    "multiom"
   ]
  },
  {
   "cell_type": "code",
   "execution_count": 5,
   "metadata": {},
   "outputs": [
    {
     "data": {
      "text/plain": [
       "(AnnData object with n_obs × n_vars = 32469 × 13431\n",
       "     obs: 'GEX_pct_counts_mt', 'GEX_n_counts', 'GEX_n_genes', 'GEX_size_factors', 'GEX_phase', 'ATAC_nCount_peaks', 'ATAC_atac_fragments', 'ATAC_reads_in_peaks_frac', 'ATAC_blacklist_fraction', 'ATAC_nucleosome_signal', 'cell_type', 'batch', 'ATAC_pseudotime_order', 'GEX_pseudotime_order', 'Samplename', 'Site', 'DonorNumber', 'Modality', 'VendorLot', 'DonorID', 'DonorAge', 'DonorBMI', 'DonorBloodType', 'DonorRace', 'Ethnicity', 'DonorGender', 'QCMeds', 'DonorSmoker'\n",
       "     var: 'feature_types', 'gene_id'\n",
       "     uns: 'ATAC_gene_activity_var_names', 'dataset_id', 'genome', 'organism'\n",
       "     obsm: 'ATAC_gene_activity', 'ATAC_lsi_full', 'ATAC_lsi_red', 'ATAC_umap', 'GEX_X_pca', 'GEX_X_umap'\n",
       "     layers: 'counts',\n",
       " AnnData object with n_obs × n_vars = 32469 × 116490\n",
       "     obs: 'GEX_pct_counts_mt', 'GEX_n_counts', 'GEX_n_genes', 'GEX_size_factors', 'GEX_phase', 'ATAC_nCount_peaks', 'ATAC_atac_fragments', 'ATAC_reads_in_peaks_frac', 'ATAC_blacklist_fraction', 'ATAC_nucleosome_signal', 'cell_type', 'batch', 'ATAC_pseudotime_order', 'GEX_pseudotime_order', 'Samplename', 'Site', 'DonorNumber', 'Modality', 'VendorLot', 'DonorID', 'DonorAge', 'DonorBMI', 'DonorBloodType', 'DonorRace', 'Ethnicity', 'DonorGender', 'QCMeds', 'DonorSmoker'\n",
       "     var: 'feature_types', 'gene_id'\n",
       "     uns: 'ATAC_gene_activity_var_names', 'dataset_id', 'genome', 'organism'\n",
       "     obsm: 'ATAC_gene_activity', 'ATAC_lsi_full', 'ATAC_lsi_red', 'ATAC_umap', 'GEX_X_pca', 'GEX_X_umap'\n",
       "     layers: 'counts')"
      ]
     },
     "execution_count": 5,
     "metadata": {},
     "output_type": "execute_result"
    }
   ],
   "source": [
    "atac_multiom = multiom[:, multiom.var['feature_types'] == 'ATAC'].copy()\n",
    "rna_multiom = multiom[:, multiom.var['feature_types'] == 'GEX'].copy()\n",
    "rna_multiom, atac_multiom"
   ]
  },
  {
   "cell_type": "code",
   "execution_count": 6,
   "metadata": {},
   "outputs": [],
   "source": [
    "assert np.sum(rna_multiom.obs_names != atac_multiom.obs_names) == 0 #we make sure that cells are the same in multiome data"
   ]
  },
  {
   "cell_type": "code",
   "execution_count": 7,
   "metadata": {},
   "outputs": [
    {
     "data": {
      "text/plain": [
       "AnnData object with n_obs × n_vars = 90261 × 14087\n",
       "    obs: 'GEX_n_genes_by_counts', 'GEX_pct_counts_mt', 'GEX_size_factors', 'GEX_phase', 'ADT_n_antibodies_by_counts', 'ADT_total_counts', 'ADT_iso_count', 'cell_type', 'batch', 'ADT_pseudotime_order', 'GEX_pseudotime_order', 'Samplename', 'Site', 'DonorNumber', 'Modality', 'VendorLot', 'DonorID', 'DonorAge', 'DonorBMI', 'DonorBloodType', 'DonorRace', 'Ethnicity', 'DonorGender', 'QCMeds', 'DonorSmoker', 'is_train'\n",
       "    var: 'feature_types', 'gene_id'\n",
       "    uns: 'dataset_id', 'genome', 'organism'\n",
       "    obsm: 'ADT_X_pca', 'ADT_X_umap', 'ADT_isotype_controls', 'GEX_X_pca', 'GEX_X_umap'\n",
       "    layers: 'counts'"
      ]
     },
     "execution_count": 7,
     "metadata": {},
     "output_type": "execute_result"
    }
   ],
   "source": [
    "cite = ad.read_h5ad(\"GSE194122_openproblems_neurips2021_cite_BMMC_processed.h5ad\")\n",
    "cite"
   ]
  },
  {
   "cell_type": "code",
   "execution_count": 8,
   "metadata": {},
   "outputs": [
    {
     "data": {
      "text/plain": [
       "AnnData object with n_obs × n_vars = 41482 × 14087\n",
       "    obs: 'GEX_n_genes_by_counts', 'GEX_pct_counts_mt', 'GEX_size_factors', 'GEX_phase', 'ADT_n_antibodies_by_counts', 'ADT_total_counts', 'ADT_iso_count', 'cell_type', 'batch', 'ADT_pseudotime_order', 'GEX_pseudotime_order', 'Samplename', 'Site', 'DonorNumber', 'Modality', 'VendorLot', 'DonorID', 'DonorAge', 'DonorBMI', 'DonorBloodType', 'DonorRace', 'Ethnicity', 'DonorGender', 'QCMeds', 'DonorSmoker', 'is_train'\n",
       "    var: 'feature_types', 'gene_id'\n",
       "    uns: 'dataset_id', 'genome', 'organism'\n",
       "    obsm: 'ADT_X_pca', 'ADT_X_umap', 'ADT_isotype_controls', 'GEX_X_pca', 'GEX_X_umap'\n",
       "    layers: 'counts'"
      ]
     },
     "execution_count": 8,
     "metadata": {},
     "output_type": "execute_result"
    }
   ],
   "source": [
    "cite = cite[cite.obs['Site'].isin(['site1', 'site2'])].copy() #select site1 and site2 as a reference\n",
    "cite"
   ]
  },
  {
   "cell_type": "code",
   "execution_count": 9,
   "metadata": {},
   "outputs": [
    {
     "data": {
      "text/plain": [
       "(AnnData object with n_obs × n_vars = 41482 × 134\n",
       "     obs: 'GEX_n_genes_by_counts', 'GEX_pct_counts_mt', 'GEX_size_factors', 'GEX_phase', 'ADT_n_antibodies_by_counts', 'ADT_total_counts', 'ADT_iso_count', 'cell_type', 'batch', 'ADT_pseudotime_order', 'GEX_pseudotime_order', 'Samplename', 'Site', 'DonorNumber', 'Modality', 'VendorLot', 'DonorID', 'DonorAge', 'DonorBMI', 'DonorBloodType', 'DonorRace', 'Ethnicity', 'DonorGender', 'QCMeds', 'DonorSmoker', 'is_train'\n",
       "     var: 'feature_types', 'gene_id'\n",
       "     uns: 'dataset_id', 'genome', 'organism'\n",
       "     obsm: 'ADT_X_pca', 'ADT_X_umap', 'ADT_isotype_controls', 'GEX_X_pca', 'GEX_X_umap'\n",
       "     layers: 'counts',\n",
       " AnnData object with n_obs × n_vars = 41482 × 13953\n",
       "     obs: 'GEX_n_genes_by_counts', 'GEX_pct_counts_mt', 'GEX_size_factors', 'GEX_phase', 'ADT_n_antibodies_by_counts', 'ADT_total_counts', 'ADT_iso_count', 'cell_type', 'batch', 'ADT_pseudotime_order', 'GEX_pseudotime_order', 'Samplename', 'Site', 'DonorNumber', 'Modality', 'VendorLot', 'DonorID', 'DonorAge', 'DonorBMI', 'DonorBloodType', 'DonorRace', 'Ethnicity', 'DonorGender', 'QCMeds', 'DonorSmoker', 'is_train'\n",
       "     var: 'feature_types', 'gene_id'\n",
       "     uns: 'dataset_id', 'genome', 'organism'\n",
       "     obsm: 'ADT_X_pca', 'ADT_X_umap', 'ADT_isotype_controls', 'GEX_X_pca', 'GEX_X_umap'\n",
       "     layers: 'counts')"
      ]
     },
     "execution_count": 9,
     "metadata": {},
     "output_type": "execute_result"
    }
   ],
   "source": [
    "adt_cite = cite[:, cite.var['feature_types'] == 'ADT'].copy()\n",
    "rna_cite = cite[:, cite.var['feature_types'] == 'GEX'].copy()\n",
    "adt_cite, rna_cite"
   ]
  },
  {
   "cell_type": "code",
   "execution_count": 10,
   "metadata": {},
   "outputs": [],
   "source": [
    "assert np.sum(rna_cite.obs_names != adt_cite.obs_names) == 0 #we make sure that cells are the same in cite data"
   ]
  },
  {
   "cell_type": "code",
   "execution_count": 11,
   "metadata": {},
   "outputs": [],
   "source": [
    "def update_obs_column(\n",
    "    adata, obs_column_name, suffix, how=\"right\", new_obs_column_name=None\n",
    "):\n",
    "    if new_obs_column_name is None:\n",
    "        new_obs_column_name = f\"new_{obs_column_name}\"\n",
    "    # otherwise can't use + operator with categorical columns\n",
    "    adata.obs[obs_column_name] = adata.obs[obs_column_name].astype(\"str\").copy()\n",
    "    # create new column in .obs\n",
    "    if how == \"right\":\n",
    "        adata.obs[new_obs_column_name] = f\"_{suffix}\"\n",
    "        adata.obs[new_obs_column_name] = (\n",
    "            adata.obs[obs_column_name] + adata.obs[new_obs_column_name]\n",
    "        )\n",
    "    else:\n",
    "        adata.obs[new_obs_column_name] = f\"{suffix}_\"\n",
    "        adata.obs[new_obs_column_name] = (\n",
    "            adata.obs[new_obs_column_name] + adata.obs[obs_column_name]\n",
    "        )\n",
    "    return adata"
   ]
  },
  {
   "cell_type": "code",
   "execution_count": 12,
   "metadata": {},
   "outputs": [],
   "source": [
    "rna_multiom = update_obs_column(rna_multiom, \"batch\", \"_rna_multiome\")\n",
    "atac_multiom = update_obs_column(atac_multiom, \"batch\", \"_atac_multiome\")\n",
    "rna_cite = update_obs_column(rna_cite, \"batch\", \"_rna_cite\")\n",
    "adt_cite = update_obs_column(adt_cite,  \"batch\", \"_adt_cite\")"
   ]
  },
  {
   "cell_type": "markdown",
   "metadata": {},
   "source": [
    "## Concatenate RNA"
   ]
  },
  {
   "cell_type": "code",
   "execution_count": 13,
   "metadata": {},
   "outputs": [
    {
     "data": {
      "text/plain": [
       "AnnData object with n_obs × n_vars = 73951 × 12059\n",
       "    obs: 'GEX_pct_counts_mt', 'GEX_n_counts', 'GEX_n_genes', 'GEX_size_factors', 'GEX_phase', 'ATAC_nCount_peaks', 'ATAC_atac_fragments', 'ATAC_reads_in_peaks_frac', 'ATAC_blacklist_fraction', 'ATAC_nucleosome_signal', 'cell_type', 'batch', 'ATAC_pseudotime_order', 'GEX_pseudotime_order', 'Samplename', 'Site', 'DonorNumber', 'Modality', 'VendorLot', 'DonorID', 'DonorAge', 'DonorBMI', 'DonorBloodType', 'DonorRace', 'Ethnicity', 'DonorGender', 'QCMeds', 'DonorSmoker', 'new_batch', 'GEX_n_genes_by_counts', 'ADT_n_antibodies_by_counts', 'ADT_total_counts', 'ADT_iso_count', 'ADT_pseudotime_order', 'is_train', 'concat_key'\n",
       "    var: 'feature_types', 'gene_id-0', 'gene_id-1'\n",
       "    obsm: 'GEX_X_pca', 'GEX_X_umap'\n",
       "    layers: 'counts'"
      ]
     },
     "execution_count": 13,
     "metadata": {},
     "output_type": "execute_result"
    }
   ],
   "source": [
    "rna = rna_multiom.concatenate(rna_cite, batch_key='concat_key', index_unique=None)\n",
    "rna"
   ]
  },
  {
   "cell_type": "markdown",
   "metadata": {},
   "source": [
    "## Map ATAC peaks to genes"
   ]
  },
  {
   "cell_type": "code",
   "execution_count": 14,
   "metadata": {},
   "outputs": [],
   "source": [
    "# map atac peaks to genes\n",
    "atac_multiom.var.index = atac_multiom.var.index.map(lambda x: x.replace(\"-\", \":\", 1))\n",
    "atac_multiom = episcanpy.tl.geneactivity(atac_multiom, gtf_file=\"gencode.v41.chr_patch_hapl_scaff.annotation.gtf\")"
   ]
  },
  {
   "cell_type": "code",
   "execution_count": 15,
   "metadata": {},
   "outputs": [],
   "source": [
    "atac_multiom = atac_multiom[:, ~atac_multiom.var.index.duplicated()]"
   ]
  },
  {
   "cell_type": "code",
   "execution_count": 16,
   "metadata": {},
   "outputs": [],
   "source": [
    "#atac_multiom.write_h5ad(\"atac_genes.h5ad\")"
   ]
  },
  {
   "cell_type": "markdown",
   "metadata": {},
   "source": [
    "##  Load dataset\n",
    "Make sure that the dataset get stored in a dictionary (`counts` in the script), with the item:\n",
    "* `nbatches`: total number of batches\n",
    "* `feats_name`: a dictionary storing the feature names for different modalities, e.g. `{\"rna\": np.array([aaaa, bbbb,...]), \"atac\": np.array([ccc, ddd, ...]), \"protein\": np.array([eee, fff, ...])}`\n",
    "* `modality 1` (e.g. `rna` in the example below): a `list` store all data matrices correspond to modality 1, a element correspond to one batch, elements are ordered in the list following the ordering of batches. **The batches that does not have count matrix in corresponding modality is inserted `None` as placeholder**\n",
    "* `modality 2` (e.g. `atac` in the example below): requirement the same as above.\n",
    "* `modality 3` (e.g. `protein`): requirement the same as above.\n",
    "* ...\n",
    "\n",
    "#### Note:\n",
    "* The number of item in the `feats_name` should match the number of modalities in `counts`. \n",
    "* The length of lists in `modality 1`, `modality 2`, `modality 3`, etc should have the same length, which is equal to `nbatches`. (missing matrices are denoted as `None` as explained above). **The matrices must be ordered according to the batch ID in each list,** so that scMoMaT can detact parallel sequenced batches.\n",
    "* The data matrix in each modality (each list) should have the same set of features. You can do thie by 1. using the intersection of all genes/proteins in different batches; 2. Remap the chromatin regions according to the peaks of one batch. \n",
    "* The data matrix is of the shape `(ncells, nfeatures)`, and preprocessed with `utils.preprocess()` function.\n",
    "\n",
    "One example template is shown as below, note that the features of data matrices are matched in advance. The connection matrix (`GxR.npz`) that is used to generate pseudo-count is also provided in advance (used the code in folder `calc_pseudo_count/calc_pseudo_count.R`). Feel free to modify on the template to use your dataset.\n"
   ]
  },
  {
   "cell_type": "code",
   "execution_count": 17,
   "metadata": {},
   "outputs": [],
   "source": [
    "genes = np.array(rna.var.index.tolist())"
   ]
  },
  {
   "cell_type": "code",
   "execution_count": 18,
   "metadata": {},
   "outputs": [],
   "source": [
    "regions = np.array(atac_multiom.var.index.tolist())"
   ]
  },
  {
   "cell_type": "code",
   "execution_count": 19,
   "metadata": {},
   "outputs": [],
   "source": [
    "proteins = np.array(adt_cite.var.index.tolist())"
   ]
  },
  {
   "cell_type": "code",
   "execution_count": 20,
   "metadata": {},
   "outputs": [],
   "source": [
    "feats_name = {\"rna\": genes, \"atac\": regions, \"proteins\": proteins}"
   ]
  },
  {
   "cell_type": "code",
   "execution_count": 21,
   "metadata": {},
   "outputs": [],
   "source": [
    "batches_cite = list(set(adt_cite.obs.batch.unique()).union(rna[rna.obs.Modality == \"cite\"].obs.batch.unique()))"
   ]
  },
  {
   "cell_type": "code",
   "execution_count": 22,
   "metadata": {},
   "outputs": [],
   "source": [
    "batches_multiome = list(set(atac_multiom.obs.batch.unique()).union(rna[rna.obs.Modality == \"multiome\"].obs.batch.unique()))"
   ]
  },
  {
   "cell_type": "code",
   "execution_count": 23,
   "metadata": {},
   "outputs": [],
   "source": [
    "n_batches = len(batches_cite) + len(batches_multiome)"
   ]
  },
  {
   "cell_type": "code",
   "execution_count": 24,
   "metadata": {},
   "outputs": [],
   "source": [
    "counts_atacs = []\n",
    "counts_rnas = []\n",
    "counts_adts = []\n",
    "\n",
    "for batch in batches_multiome:\n",
    "    # process rna\n",
    "    rna_index = rna[(rna.obs.batch == batch) & (rna.obs.Modality == \"multiome\")].obs.index\n",
    "    rna_batch = np.array(rna[rna.obs.index.isin(rna_index)].X.todense())\n",
    "    if len(rna_batch) > 0:\n",
    "        rna_batch = scmomat.preprocess(rna_batch, modality = \"RNA\", log = False)\n",
    "        counts_rnas.append(rna_batch)\n",
    "    else:\n",
    "        counts_rnas.append(None)\n",
    "    # process atac\n",
    "    atac_batch = atac_multiom[atac_multiom.obs.index.isin(rna_index)].X   \n",
    "    if len(atac_batch) > 0:\n",
    "        atac_batch = scmomat.preprocess(atac_batch, modality = \"ATAC\")\n",
    "        counts_atacs.append(atac_batch)\n",
    "    else:\n",
    "        counts_atacs.append(None)\n",
    "    counts_adts.append(None)\n",
    "\n",
    "for batch in batches_cite:\n",
    "    # process rna\n",
    "    rna_index = rna[(rna.obs.batch == batch) & (rna.obs.Modality == \"cite\")].obs.index\n",
    "    rna_batch = np.array(rna[rna.obs.index.isin(rna_index)].X.todense())\n",
    "    if len(rna_batch) > 0:\n",
    "        rna_batch = scmomat.preprocess(rna_batch, modality = \"RNA\", log = False)\n",
    "        counts_rnas.append(rna_batch)\n",
    "    else:\n",
    "        counts_rnas.append(None)\n",
    "    # process adt\n",
    "    adt_batch = np.array(adt_cite[adt_cite.obs.index.isin(rna_index)].X.todense())\n",
    "    if len(adt_batch) > 0:\n",
    "        adt_batch = scmomat.preprocess(adt_batch, modality = \"protein\")\n",
    "        counts_adts.append(adt_batch)\n",
    "    else:\n",
    "        counts_adts.append(None)\n",
    "    counts_atacs.append(None)"
   ]
  },
  {
   "cell_type": "code",
   "execution_count": 25,
   "metadata": {},
   "outputs": [],
   "source": [
    "counts = {\"feats_name\": feats_name, \"nbatches\": n_batches, \"rna\":counts_rnas, \"atac\": counts_atacs, \"proteins\": counts_adts}"
   ]
  },
  {
   "cell_type": "code",
   "execution_count": 26,
   "metadata": {},
   "outputs": [
    {
     "data": {
      "text/plain": [
       "(1, 31907)"
      ]
     },
     "execution_count": 26,
     "metadata": {},
     "output_type": "execute_result"
    }
   ],
   "source": [
    "num_features = atac_multiom[0].shape\n",
    "num_features"
   ]
  },
  {
   "cell_type": "markdown",
   "metadata": {},
   "source": [
    "## Training scMoMaT\n",
    "The hyper-parameter includes `lamb` for weight lambda in the objective function, `K` for the number of latent dimensions. The default parameter (`lamb = 0.001`, `K = 30`) works for most of the real datasets."
   ]
  },
  {
   "cell_type": "code",
   "execution_count": 27,
   "metadata": {},
   "outputs": [
    {
     "name": "stdout",
     "output_type": "stream",
     "text": [
      "Input sanity check...\n",
      "Finished.\n",
      "Epoch 1, Validating Loss: 896.9611\n",
      "\t loss reconstruction: 0.89546\n",
      "\t loss regularization: 1.50000\n",
      "Epoch 100, Validating Loss: 792.9504\n",
      "\t loss reconstruction: 0.79294\n",
      "\t loss regularization: 0.00552\n",
      "Epoch 200, Validating Loss: 784.4417\n",
      "\t loss reconstruction: 0.78426\n",
      "\t loss regularization: 0.18491\n",
      "Epoch 300, Validating Loss: 755.1906\n",
      "\t loss reconstruction: 0.75401\n",
      "\t loss regularization: 1.18458\n",
      "Epoch 400, Validating Loss: 728.8849\n",
      "\t loss reconstruction: 0.72861\n",
      "\t loss regularization: 0.27096\n",
      "Epoch 500, Validating Loss: 717.1113\n",
      "\t loss reconstruction: 0.71665\n",
      "\t loss regularization: 0.45717\n",
      "Epoch 600, Validating Loss: 701.9874\n",
      "\t loss reconstruction: 0.70153\n",
      "\t loss regularization: 0.45300\n",
      "Epoch 700, Validating Loss: 693.2838\n",
      "\t loss reconstruction: 0.69302\n",
      "\t loss regularization: 0.26489\n",
      "Epoch 800, Validating Loss: 689.0240\n",
      "\t loss reconstruction: 0.68875\n",
      "\t loss regularization: 0.27421\n",
      "Epoch 900, Validating Loss: 685.8439\n",
      "\t loss reconstruction: 0.68557\n",
      "\t loss regularization: 0.27061\n",
      "Epoch 1000, Validating Loss: 683.1456\n",
      "\t loss reconstruction: 0.68284\n",
      "\t loss regularization: 0.30782\n",
      "Epoch 1100, Validating Loss: 680.4380\n",
      "\t loss reconstruction: 0.68017\n",
      "\t loss regularization: 0.26876\n",
      "Epoch 1200, Validating Loss: 678.1429\n",
      "\t loss reconstruction: 0.67781\n",
      "\t loss regularization: 0.33583\n",
      "Epoch 1300, Validating Loss: 676.1069\n",
      "\t loss reconstruction: 0.67578\n",
      "\t loss regularization: 0.33154\n",
      "Epoch 1400, Validating Loss: 673.9861\n",
      "\t loss reconstruction: 0.67361\n",
      "\t loss regularization: 0.37356\n",
      "Epoch 1500, Validating Loss: 672.3913\n",
      "\t loss reconstruction: 0.67208\n",
      "\t loss regularization: 0.30644\n",
      "Epoch 1600, Validating Loss: 671.1382\n",
      "\t loss reconstruction: 0.67075\n",
      "\t loss regularization: 0.39188\n",
      "Epoch 1700, Validating Loss: 669.7201\n",
      "\t loss reconstruction: 0.66940\n",
      "\t loss regularization: 0.31745\n",
      "Epoch 1800, Validating Loss: 668.2836\n",
      "\t loss reconstruction: 0.66791\n",
      "\t loss regularization: 0.37081\n",
      "Epoch 1900, Validating Loss: 667.2375\n",
      "\t loss reconstruction: 0.66693\n",
      "\t loss regularization: 0.30962\n",
      "Epoch 2000, Validating Loss: 665.8956\n",
      "\t loss reconstruction: 0.66553\n",
      "\t loss regularization: 0.36310\n",
      "Epoch 2100, Validating Loss: 665.1044\n",
      "\t loss reconstruction: 0.66475\n",
      "\t loss regularization: 0.35213\n",
      "Epoch 2200, Validating Loss: 664.1674\n",
      "\t loss reconstruction: 0.66380\n",
      "\t loss regularization: 0.36432\n",
      "Epoch 2300, Validating Loss: 663.1721\n",
      "\t loss reconstruction: 0.66276\n",
      "\t loss regularization: 0.40811\n",
      "Epoch 2400, Validating Loss: 662.4736\n",
      "\t loss reconstruction: 0.66217\n",
      "\t loss regularization: 0.30148\n",
      "Epoch 2500, Validating Loss: 661.5654\n",
      "\t loss reconstruction: 0.66121\n",
      "\t loss regularization: 0.35051\n",
      "Epoch 2600, Validating Loss: 660.8963\n",
      "\t loss reconstruction: 0.66056\n",
      "\t loss regularization: 0.33490\n",
      "Epoch 2700, Validating Loss: 660.2214\n",
      "\t loss reconstruction: 0.65992\n",
      "\t loss regularization: 0.30530\n",
      "Epoch 2800, Validating Loss: 659.6815\n",
      "\t loss reconstruction: 0.65934\n",
      "\t loss regularization: 0.34095\n",
      "Epoch 2900, Validating Loss: 659.0637\n",
      "\t loss reconstruction: 0.65872\n",
      "\t loss regularization: 0.34696\n",
      "Epoch 3000, Validating Loss: 658.6743\n",
      "\t loss reconstruction: 0.65836\n",
      "\t loss regularization: 0.31711\n",
      "Epoch 3100, Validating Loss: 658.3403\n",
      "\t loss reconstruction: 0.65801\n",
      "\t loss regularization: 0.33034\n",
      "Epoch 3200, Validating Loss: 657.3699\n",
      "\t loss reconstruction: 0.65709\n",
      "\t loss regularization: 0.28086\n",
      "Epoch 3300, Validating Loss: 657.0975\n",
      "\t loss reconstruction: 0.65681\n",
      "\t loss regularization: 0.29007\n",
      "Epoch 3400, Validating Loss: 656.7783\n",
      "\t loss reconstruction: 0.65650\n",
      "\t loss regularization: 0.28214\n",
      "Epoch 3500, Validating Loss: 656.0899\n",
      "\t loss reconstruction: 0.65580\n",
      "\t loss regularization: 0.29289\n",
      "Epoch 3600, Validating Loss: 655.8131\n",
      "\t loss reconstruction: 0.65553\n",
      "\t loss regularization: 0.28586\n",
      "Epoch 3700, Validating Loss: 655.3678\n",
      "\t loss reconstruction: 0.65507\n",
      "\t loss regularization: 0.29478\n",
      "Epoch 3800, Validating Loss: 655.1170\n",
      "\t loss reconstruction: 0.65483\n",
      "\t loss regularization: 0.28359\n",
      "Epoch 3900, Validating Loss: 654.6810\n",
      "\t loss reconstruction: 0.65439\n",
      "\t loss regularization: 0.28824\n",
      "Epoch 4000, Validating Loss: 654.2163\n",
      "\t loss reconstruction: 0.65395\n",
      "\t loss regularization: 0.26657\n",
      "running time: 136182.87024998665\n"
     ]
    },
    {
     "data": {
      "image/png": "[encoded data removed]",
      "text/plain": [
       "<Figure size 640x480 with 1 Axes>"
      ]
     },
     "metadata": {},
     "output_type": "display_data"
    }
   ],
   "source": [
    "#------------------------------------------------------------------------------------------------------------------------------------\n",
    "# NOTE: Number of latent dimensions, key hyper-parameter, 20~30 works for most of the cases.\n",
    "K = 25\n",
    "#------------------------------------------------------------------------------------------------------------------------------------\n",
    "# NOTE: Here we list other parameters in the function for illustration purpose, most of these parameters are set as default value.\n",
    "# weight on regularization term, default value\n",
    "lamb = 0.001 \n",
    "# number of total iterations, default value\n",
    "T = 4000\n",
    "# print the result after each ``interval'' iterations, default value\n",
    "interval = 100\n",
    "# batch size for each iteraction, default value\n",
    "batch_size = 0.1\n",
    "# learning rate, default value\n",
    "lr = 1e-2\n",
    "# random seed, default value\n",
    "seed = 0\n",
    "# running device, can be CPU or GPU\n",
    "device = torch.device(\"cuda:0\" if torch.cuda.is_available() else \"cpu\")\n",
    "\n",
    "#------------------------------------------------------------------------------------------------------------------------------------\n",
    "\n",
    "start_time = time.time()\n",
    "model = scmomat.scmomat_model(counts = counts, K = K, batch_size = batch_size, interval = interval, lr = lr, lamb = lamb, seed = seed, device = device)\n",
    "losses = model.train_func(T = T)\n",
    "end_time = time.time()\n",
    "print(\"running time: \" + str(end_time - start_time))\n",
    "\n",
    "# Plot loss function\n",
    "x = np.linspace(0, T, int(T/interval)+1)\n",
    "plt.plot(x, losses)\n",
    "\n",
    "zs = model.extract_cell_factors()\n",
    "rnas_names = []\n",
    "\n",
    "for batch in batches_multiome:\n",
    "    rnas_names.extend(rna[(rna.obs.batch == batch) & (rna.obs.Modality == \"multiome\")].obs.index.tolist())\n",
    "for batch in batches_cite:\n",
    "    rnas_names.extend(rna[(rna.obs.batch == batch) & (rna.obs.Modality == \"cite\")].obs.index.tolist())\n",
    "\n",
    "pd.DataFrame(np.concatenate(zs, axis=0), index=rnas_names).to_csv(\"momat_integrated.csv\")"
   ]
  }
 ],
 "metadata": {
  "kernelspec": {
   "display_name": "scmomat",
   "language": "python",
   "name": "scmomat"
  },
  "language_info": {
   "codemirror_mode": {
    "name": "ipython",
    "version": 3
   },
   "file_extension": ".py",
   "mimetype": "text/x-python",
   "name": "python",
   "nbconvert_exporter": "python",
   "pygments_lexer": "ipython3",
   "version": "3.8.17"
  },
  "vscode": {
   "interpreter": {
    "hash": "45166c4437bf877467c8f578fcaa02d4df8c3903a57f8a090f9b09764b7d2844"
   }
  }
 },
 "nbformat": 4,
 "nbformat_minor": 4
}
