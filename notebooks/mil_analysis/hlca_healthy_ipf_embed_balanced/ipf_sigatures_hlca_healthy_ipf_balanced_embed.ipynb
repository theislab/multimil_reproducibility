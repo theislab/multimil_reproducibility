{
 "cells": [
  {
   "cell_type": "code",
   "execution_count": null,
   "id": "501e9630-3fcd-402b-8ace-5b6c4f2471b6",
   "metadata": {},
   "outputs": [],
   "source": [
    "x=1"
   ]
  },
  {
   "cell_type": "code",
   "execution_count": 1,
   "id": "21a31bba-d011-4997-b193-e4bd6e371962",
   "metadata": {},
   "outputs": [],
   "source": [
    "import scanpy as sc\n",
    "import numpy as np\n",
    "import pandas as pd\n",
    "import seaborn as sns\n",
    "from matplotlib import pyplot as plt"
   ]
  },
  {
   "cell_type": "code",
   "execution_count": 2,
   "id": "eb042c67-2573-472b-8ef9-3a55a28da921",
   "metadata": {},
   "outputs": [
    {
     "data": {
      "text/plain": [
       "AnnData object with n_obs × n_vars = 2149684 × 2000\n",
       "    obs: \"3'_or_5'\", 'BMI', 'age_or_mean_of_age_range', 'age_range', 'anatomical_region_ccf_score', 'ancestry', 'ann_coarse_for_GWAS_and_modeling', 'ann_finest_level', 'ann_level_1', 'ann_level_2', 'ann_level_3', 'ann_level_4', 'ann_level_5', 'assay', 'cause_of_death', 'cell_type', 'core_or_extension', 'dataset', 'development_stage', 'disease', 'donor_id', 'fresh_or_frozen', 'log10_total_counts', 'lung_condition', 'mixed_ancestry', 'original_ann_level_1', 'original_ann_level_2', 'original_ann_level_3', 'original_ann_level_4', 'original_ann_level_5', 'original_ann_nonharmonized', 'reannotation_type', 'sample', 'scanvi_label', 'sequencing_platform', 'sex', 'smoking_status', 'study', 'subject_type', 'suspension_type', 'tissue', 'tissue_coarse_unharmonized', 'tissue_detailed_unharmonized', 'tissue_dissociation_protocol', 'tissue_level_2', 'tissue_level_3', 'tissue_sampling_method', 'total_counts', 'transf_ann_level_1_label', 'transf_ann_level_1_uncert', 'transf_ann_level_2_label', 'transf_ann_level_2_uncert', 'transf_ann_level_3_label', 'transf_ann_level_3_uncert', 'transf_ann_level_4_label', 'transf_ann_level_4_uncert', 'transf_ann_level_5_label', 'transf_ann_level_5_uncert', 'lung_condition_coarse', 'split0', 'split1', 'split2', 'split3', 'split4'\n",
       "    var: 'means', 'variances', 'residual_variances', 'highly_variable_rank', 'highly_variable_nbatches', 'highly_variable_intersection', 'highly_variable'\n",
       "    uns: 'hvg'"
      ]
     },
     "execution_count": 2,
     "metadata": {},
     "output_type": "execute_result"
    }
   ],
   "source": [
    "hlca = sc.read('../../../snakemake/hlca/5fold/hlca_hyperparam/data/pp/hlca_hvg_pearson.h5ad')\n",
    "hlca"
   ]
  },
  {
   "cell_type": "code",
   "execution_count": 3,
   "id": "c098a81b-6f85-4cfa-816a-e0a7be5f5335",
   "metadata": {},
   "outputs": [],
   "source": [
    "sc.pp.normalize_total(hlca, target_sum=1e4)"
   ]
  },
  {
   "cell_type": "code",
   "execution_count": 4,
   "id": "48c645e0-90a7-406f-8476-c7773375a3ff",
   "metadata": {},
   "outputs": [],
   "source": [
    "sc.pp.log1p(hlca)"
   ]
  },
  {
   "cell_type": "code",
   "execution_count": 5,
   "id": "d0ef011d-9001-4310-82a9-0ffa40848f0d",
   "metadata": {},
   "outputs": [],
   "source": [
    "macrophages_genes = {\n",
    "    'SPP1': 'ENSG00000118785',\n",
    "    'LIPA': 'ENSG00000107798',\n",
    "    'LPL': 'ENSG00000175445',\n",
    "    'FDX1': 'ENSG00000137714',\n",
    "    'SPARC': 'ENSG00000113140',\n",
    "    'MATK': 'ENSG00000007264',\n",
    "    'GPC4': 'ENSG00000076716',\n",
    "    'PALLD': 'ENSG00000129116',\n",
    "    'MMP7': 'ENSG00000137673',\n",
    "    'MMP9': 'ENSG00000100985',\n",
    "    'CHIT1': 'ENSG00000133063',\n",
    "    'CSTK': 'ENSG00000143387',\n",
    "    'CHI3L1': 'ENSG00000133048',\n",
    "    'CSF1': 'ENSG00000184371',\n",
    "    'FCMR': 'ENSG00000162894',\n",
    "    'TIMP3': 'ENSG00000100234',\n",
    "    'COL22A1': 'ENSG00000169436',\n",
    "    'SIGLEC15': 'ENSG00000197046',\n",
    "    'CCL2': 'ENSG00000108691',\n",
    "}"
   ]
  },
  {
   "cell_type": "code",
   "execution_count": 6,
   "id": "6ef33828-a4ba-41ba-a4f4-e081cd3999a0",
   "metadata": {},
   "outputs": [
    {
     "data": {
      "text/plain": [
       "Index(['ENSG00000175899', 'ENSG00000179869', 'ENSG00000167972',\n",
       "       'ENSG00000154262', 'ENSG00000141338', 'ENSG00000085563',\n",
       "       'ENSG00000006071', 'ENSG00000154175', 'ENSG00000099204',\n",
       "       'ENSG00000072818',\n",
       "       ...\n",
       "       'ENSG00000283056', 'ENSG00000004838', 'ENSG00000130844',\n",
       "       'ENSG00000151789', 'ENSG00000176083', 'ENSG00000174255',\n",
       "       'ENSG00000124203', 'ENSG00000187498', 'ENSG00000157554',\n",
       "       'ENSG00000159167'],\n",
       "      dtype='object', name='ensembl_id', length=2000)"
      ]
     },
     "execution_count": 6,
     "metadata": {},
     "output_type": "execute_result"
    }
   ],
   "source": [
    "hlca.var_names"
   ]
  },
  {
   "cell_type": "code",
   "execution_count": 2,
   "id": "07e3b35e-e7fb-473c-8d02-5e715130e0e1",
   "metadata": {},
   "outputs": [
    {
     "data": {
      "text/plain": [
       "AnnData object with n_obs × n_vars = 450214 × 30\n",
       "    obs: \"3'_or_5'\", 'BMI', 'age_or_mean_of_age_range', 'age_range', 'anatomical_region_ccf_score', 'ancestry', 'ann_coarse_for_GWAS_and_modeling', 'ann_finest_level', 'ann_level_1', 'ann_level_2', 'ann_level_3', 'ann_level_4', 'ann_level_5', 'assay', 'cause_of_death', 'cell_type', 'core_or_extension', 'dataset', 'development_stage', 'disease', 'donor_id', 'fresh_or_frozen', 'log10_total_counts', 'lung_condition', 'mixed_ancestry', 'original_ann_level_1', 'original_ann_level_2', 'original_ann_level_3', 'original_ann_level_4', 'original_ann_level_5', 'original_ann_nonharmonized', 'reannotation_type', 'sample', 'scanvi_label', 'sequencing_platform', 'sex', 'smoking_status', 'study', 'subject_type', 'suspension_type', 'tissue', 'tissue_coarse_unharmonized', 'tissue_detailed_unharmonized', 'tissue_dissociation_protocol', 'tissue_level_2', 'tissue_level_3', 'tissue_sampling_method', 'total_counts', 'transf_ann_level_1_label', 'transf_ann_level_1_uncert', 'transf_ann_level_2_label', 'transf_ann_level_2_uncert', 'transf_ann_level_3_label', 'transf_ann_level_3_uncert', 'transf_ann_level_4_label', 'transf_ann_level_4_uncert', 'transf_ann_level_5_label', 'transf_ann_level_5_uncert', 'lung_condition_coarse', 'split0', 'split1', 'split2', 'split3', 'split4', 'group', 'cell_attn_0', 'cell_attn_1', 'cell_attn_2', 'cell_attn_3', 'cell_attn_4'\n",
       "    obsm: 'latent_0', 'latent_1', 'latent_2', 'latent_3', 'latent_4'"
      ]
     },
     "execution_count": 2,
     "metadata": {},
     "output_type": "execute_result"
    }
   ],
   "source": [
    "adata = sc.read('../data/multigrate_mil/hlca_healthy_ipf_embed_balanced/b2e8c62cf5_adata_both.h5ad')\n",
    "adata"
   ]
  },
  {
   "cell_type": "code",
   "execution_count": 8,
   "id": "12a45dc9-c29e-438c-b625-9bc5e2905d5b",
   "metadata": {},
   "outputs": [],
   "source": [
    "adata.obs['cell_attn'] = np.mean(adata.obs[['cell_attn_0', 'cell_attn_1', 'cell_attn_2', 'cell_attn_3', 'cell_attn_4']], axis=1)"
   ]
  },
  {
   "cell_type": "code",
   "execution_count": 9,
   "id": "ccd3670a-f64c-4bf1-b23c-bf75cb89c0e7",
   "metadata": {},
   "outputs": [
    {
     "data": {
      "text/plain": [
       "AnnData object with n_obs × n_vars = 239952 × 30\n",
       "    obs: \"3'_or_5'\", 'BMI', 'age_or_mean_of_age_range', 'age_range', 'anatomical_region_ccf_score', 'ancestry', 'ann_coarse_for_GWAS_and_modeling', 'ann_finest_level', 'ann_level_1', 'ann_level_2', 'ann_level_3', 'ann_level_4', 'ann_level_5', 'assay', 'cause_of_death', 'cell_type', 'core_or_extension', 'dataset', 'development_stage', 'disease', 'donor_id', 'fresh_or_frozen', 'log10_total_counts', 'lung_condition', 'mixed_ancestry', 'original_ann_level_1', 'original_ann_level_2', 'original_ann_level_3', 'original_ann_level_4', 'original_ann_level_5', 'original_ann_nonharmonized', 'reannotation_type', 'sample', 'scanvi_label', 'sequencing_platform', 'sex', 'smoking_status', 'study', 'subject_type', 'suspension_type', 'tissue', 'tissue_coarse_unharmonized', 'tissue_detailed_unharmonized', 'tissue_dissociation_protocol', 'tissue_level_2', 'tissue_level_3', 'tissue_sampling_method', 'total_counts', 'transf_ann_level_1_label', 'transf_ann_level_1_uncert', 'transf_ann_level_2_label', 'transf_ann_level_2_uncert', 'transf_ann_level_3_label', 'transf_ann_level_3_uncert', 'transf_ann_level_4_label', 'transf_ann_level_4_uncert', 'transf_ann_level_5_label', 'transf_ann_level_5_uncert', 'lung_condition_coarse', 'split0', 'split1', 'split2', 'split3', 'split4', 'group', 'cell_attn_0', 'cell_attn_1', 'cell_attn_2', 'cell_attn_3', 'cell_attn_4', 'cell_attn'\n",
       "    obsm: 'latent_0', 'latent_1', 'latent_2', 'latent_3', 'latent_4'"
      ]
     },
     "execution_count": 9,
     "metadata": {},
     "output_type": "execute_result"
    }
   ],
   "source": [
    "ipf = adata[adata.obs['lung_condition_coarse'] == 'IPF'].copy()\n",
    "ipf"
   ]
  },
  {
   "cell_type": "code",
   "execution_count": 10,
   "id": "b0a1c6db-6874-4706-ad79-fc2850d5a51c",
   "metadata": {},
   "outputs": [
    {
     "data": {
      "text/plain": [
       "0.015133967623114586"
      ]
     },
     "execution_count": 10,
     "metadata": {},
     "output_type": "execute_result"
    }
   ],
   "source": [
    "threshold_idx = int(len(ipf) * 0.9)\n",
    "threshold_value = sorted(ipf.obs['cell_attn'])[threshold_idx]\n",
    "threshold_value"
   ]
  },
  {
   "cell_type": "code",
   "execution_count": 11,
   "id": "7314c8ac-3f11-4c2c-b61d-f1f1f1fcb50f",
   "metadata": {},
   "outputs": [
    {
     "data": {
      "text/plain": [
       "View of AnnData object with n_obs × n_vars = 23996 × 30\n",
       "    obs: \"3'_or_5'\", 'BMI', 'age_or_mean_of_age_range', 'age_range', 'anatomical_region_ccf_score', 'ancestry', 'ann_coarse_for_GWAS_and_modeling', 'ann_finest_level', 'ann_level_1', 'ann_level_2', 'ann_level_3', 'ann_level_4', 'ann_level_5', 'assay', 'cause_of_death', 'cell_type', 'core_or_extension', 'dataset', 'development_stage', 'disease', 'donor_id', 'fresh_or_frozen', 'log10_total_counts', 'lung_condition', 'mixed_ancestry', 'original_ann_level_1', 'original_ann_level_2', 'original_ann_level_3', 'original_ann_level_4', 'original_ann_level_5', 'original_ann_nonharmonized', 'reannotation_type', 'sample', 'scanvi_label', 'sequencing_platform', 'sex', 'smoking_status', 'study', 'subject_type', 'suspension_type', 'tissue', 'tissue_coarse_unharmonized', 'tissue_detailed_unharmonized', 'tissue_dissociation_protocol', 'tissue_level_2', 'tissue_level_3', 'tissue_sampling_method', 'total_counts', 'transf_ann_level_1_label', 'transf_ann_level_1_uncert', 'transf_ann_level_2_label', 'transf_ann_level_2_uncert', 'transf_ann_level_3_label', 'transf_ann_level_3_uncert', 'transf_ann_level_4_label', 'transf_ann_level_4_uncert', 'transf_ann_level_5_label', 'transf_ann_level_5_uncert', 'lung_condition_coarse', 'split0', 'split1', 'split2', 'split3', 'split4', 'group', 'cell_attn_0', 'cell_attn_1', 'cell_attn_2', 'cell_attn_3', 'cell_attn_4', 'cell_attn'\n",
       "    obsm: 'latent_0', 'latent_1', 'latent_2', 'latent_3', 'latent_4'"
      ]
     },
     "execution_count": 11,
     "metadata": {},
     "output_type": "execute_result"
    }
   ],
   "source": [
    "ipf_top = ipf[ipf.obs['cell_attn'] >= threshold_value]\n",
    "ipf_top"
   ]
  },
  {
   "cell_type": "code",
   "execution_count": 12,
   "id": "8f58fbf0-d440-4677-865f-693836a4c7eb",
   "metadata": {},
   "outputs": [
    {
     "data": {
      "text/plain": [
       "AnnData object with n_obs × n_vars = 239952 × 2000\n",
       "    obs: \"3'_or_5'\", 'BMI', 'age_or_mean_of_age_range', 'age_range', 'anatomical_region_ccf_score', 'ancestry', 'ann_coarse_for_GWAS_and_modeling', 'ann_finest_level', 'ann_level_1', 'ann_level_2', 'ann_level_3', 'ann_level_4', 'ann_level_5', 'assay', 'cause_of_death', 'cell_type', 'core_or_extension', 'dataset', 'development_stage', 'disease', 'donor_id', 'fresh_or_frozen', 'log10_total_counts', 'lung_condition', 'mixed_ancestry', 'original_ann_level_1', 'original_ann_level_2', 'original_ann_level_3', 'original_ann_level_4', 'original_ann_level_5', 'original_ann_nonharmonized', 'reannotation_type', 'sample', 'scanvi_label', 'sequencing_platform', 'sex', 'smoking_status', 'study', 'subject_type', 'suspension_type', 'tissue', 'tissue_coarse_unharmonized', 'tissue_detailed_unharmonized', 'tissue_dissociation_protocol', 'tissue_level_2', 'tissue_level_3', 'tissue_sampling_method', 'total_counts', 'transf_ann_level_1_label', 'transf_ann_level_1_uncert', 'transf_ann_level_2_label', 'transf_ann_level_2_uncert', 'transf_ann_level_3_label', 'transf_ann_level_3_uncert', 'transf_ann_level_4_label', 'transf_ann_level_4_uncert', 'transf_ann_level_5_label', 'transf_ann_level_5_uncert', 'lung_condition_coarse', 'split0', 'split1', 'split2', 'split3', 'split4'\n",
       "    var: 'means', 'variances', 'residual_variances', 'highly_variable_rank', 'highly_variable_nbatches', 'highly_variable_intersection', 'highly_variable'\n",
       "    uns: 'hvg', 'log1p'"
      ]
     },
     "execution_count": 12,
     "metadata": {},
     "output_type": "execute_result"
    }
   ],
   "source": [
    "ipf_genes = hlca[ipf.obs_names].copy()\n",
    "ipf_genes"
   ]
  },
  {
   "cell_type": "code",
   "execution_count": 13,
   "id": "2f622981-cab5-4118-b03b-11f40073b468",
   "metadata": {},
   "outputs": [
    {
     "data": {
      "text/plain": [
       "AnnData object with n_obs × n_vars = 23996 × 2000\n",
       "    obs: \"3'_or_5'\", 'BMI', 'age_or_mean_of_age_range', 'age_range', 'anatomical_region_ccf_score', 'ancestry', 'ann_coarse_for_GWAS_and_modeling', 'ann_finest_level', 'ann_level_1', 'ann_level_2', 'ann_level_3', 'ann_level_4', 'ann_level_5', 'assay', 'cause_of_death', 'cell_type', 'core_or_extension', 'dataset', 'development_stage', 'disease', 'donor_id', 'fresh_or_frozen', 'log10_total_counts', 'lung_condition', 'mixed_ancestry', 'original_ann_level_1', 'original_ann_level_2', 'original_ann_level_3', 'original_ann_level_4', 'original_ann_level_5', 'original_ann_nonharmonized', 'reannotation_type', 'sample', 'scanvi_label', 'sequencing_platform', 'sex', 'smoking_status', 'study', 'subject_type', 'suspension_type', 'tissue', 'tissue_coarse_unharmonized', 'tissue_detailed_unharmonized', 'tissue_dissociation_protocol', 'tissue_level_2', 'tissue_level_3', 'tissue_sampling_method', 'total_counts', 'transf_ann_level_1_label', 'transf_ann_level_1_uncert', 'transf_ann_level_2_label', 'transf_ann_level_2_uncert', 'transf_ann_level_3_label', 'transf_ann_level_3_uncert', 'transf_ann_level_4_label', 'transf_ann_level_4_uncert', 'transf_ann_level_5_label', 'transf_ann_level_5_uncert', 'lung_condition_coarse', 'split0', 'split1', 'split2', 'split3', 'split4'\n",
       "    var: 'means', 'variances', 'residual_variances', 'highly_variable_rank', 'highly_variable_nbatches', 'highly_variable_intersection', 'highly_variable'\n",
       "    uns: 'hvg', 'log1p'"
      ]
     },
     "execution_count": 13,
     "metadata": {},
     "output_type": "execute_result"
    }
   ],
   "source": [
    "ipf_top_genes = hlca[ipf_top.obs_names].copy()\n",
    "ipf_top_genes"
   ]
  },
  {
   "cell_type": "code",
   "execution_count": 14,
   "id": "722eea9c-8069-456e-9d55-b2788c25befa",
   "metadata": {},
   "outputs": [
    {
     "data": {
      "text/plain": [
       "AnnData object with n_obs × n_vars = 104045 × 2000\n",
       "    obs: \"3'_or_5'\", 'BMI', 'age_or_mean_of_age_range', 'age_range', 'anatomical_region_ccf_score', 'ancestry', 'ann_coarse_for_GWAS_and_modeling', 'ann_finest_level', 'ann_level_1', 'ann_level_2', 'ann_level_3', 'ann_level_4', 'ann_level_5', 'assay', 'cause_of_death', 'cell_type', 'core_or_extension', 'dataset', 'development_stage', 'disease', 'donor_id', 'fresh_or_frozen', 'log10_total_counts', 'lung_condition', 'mixed_ancestry', 'original_ann_level_1', 'original_ann_level_2', 'original_ann_level_3', 'original_ann_level_4', 'original_ann_level_5', 'original_ann_nonharmonized', 'reannotation_type', 'sample', 'scanvi_label', 'sequencing_platform', 'sex', 'smoking_status', 'study', 'subject_type', 'suspension_type', 'tissue', 'tissue_coarse_unharmonized', 'tissue_detailed_unharmonized', 'tissue_dissociation_protocol', 'tissue_level_2', 'tissue_level_3', 'tissue_sampling_method', 'total_counts', 'transf_ann_level_1_label', 'transf_ann_level_1_uncert', 'transf_ann_level_2_label', 'transf_ann_level_2_uncert', 'transf_ann_level_3_label', 'transf_ann_level_3_uncert', 'transf_ann_level_4_label', 'transf_ann_level_4_uncert', 'transf_ann_level_5_label', 'transf_ann_level_5_uncert', 'lung_condition_coarse', 'split0', 'split1', 'split2', 'split3', 'split4'\n",
       "    var: 'means', 'variances', 'residual_variances', 'highly_variable_rank', 'highly_variable_nbatches', 'highly_variable_intersection', 'highly_variable'\n",
       "    uns: 'hvg', 'log1p'"
      ]
     },
     "execution_count": 14,
     "metadata": {},
     "output_type": "execute_result"
    }
   ],
   "source": [
    "ipf_genes_macrophages = ipf_genes[ipf_genes.obs['transf_ann_level_3_label'] == 'Macrophages'].copy()\n",
    "ipf_genes_macrophages"
   ]
  },
  {
   "cell_type": "code",
   "execution_count": 15,
   "id": "effaef93-b752-4513-9533-e821bf4e8c91",
   "metadata": {},
   "outputs": [
    {
     "data": {
      "text/plain": [
       "AnnData object with n_obs × n_vars = 18834 × 2000\n",
       "    obs: \"3'_or_5'\", 'BMI', 'age_or_mean_of_age_range', 'age_range', 'anatomical_region_ccf_score', 'ancestry', 'ann_coarse_for_GWAS_and_modeling', 'ann_finest_level', 'ann_level_1', 'ann_level_2', 'ann_level_3', 'ann_level_4', 'ann_level_5', 'assay', 'cause_of_death', 'cell_type', 'core_or_extension', 'dataset', 'development_stage', 'disease', 'donor_id', 'fresh_or_frozen', 'log10_total_counts', 'lung_condition', 'mixed_ancestry', 'original_ann_level_1', 'original_ann_level_2', 'original_ann_level_3', 'original_ann_level_4', 'original_ann_level_5', 'original_ann_nonharmonized', 'reannotation_type', 'sample', 'scanvi_label', 'sequencing_platform', 'sex', 'smoking_status', 'study', 'subject_type', 'suspension_type', 'tissue', 'tissue_coarse_unharmonized', 'tissue_detailed_unharmonized', 'tissue_dissociation_protocol', 'tissue_level_2', 'tissue_level_3', 'tissue_sampling_method', 'total_counts', 'transf_ann_level_1_label', 'transf_ann_level_1_uncert', 'transf_ann_level_2_label', 'transf_ann_level_2_uncert', 'transf_ann_level_3_label', 'transf_ann_level_3_uncert', 'transf_ann_level_4_label', 'transf_ann_level_4_uncert', 'transf_ann_level_5_label', 'transf_ann_level_5_uncert', 'lung_condition_coarse', 'split0', 'split1', 'split2', 'split3', 'split4'\n",
       "    var: 'means', 'variances', 'residual_variances', 'highly_variable_rank', 'highly_variable_nbatches', 'highly_variable_intersection', 'highly_variable'\n",
       "    uns: 'hvg', 'log1p'"
      ]
     },
     "execution_count": 15,
     "metadata": {},
     "output_type": "execute_result"
    }
   ],
   "source": [
    "ipf_top_genes_macrophages = ipf_top_genes[ipf_top_genes.obs['transf_ann_level_3_label'] == 'Macrophages'].copy()\n",
    "ipf_top_genes_macrophages"
   ]
  },
  {
   "cell_type": "code",
   "execution_count": 16,
   "id": "4116ef3d-c2ed-49ee-8df2-04b6ce7dbf18",
   "metadata": {},
   "outputs": [
    {
     "name": "stdout",
     "output_type": "stream",
     "text": [
      "WARNING: genes are not in var_names and ignored: ['ENSG00000137714', 'ENSG00000076716', 'ENSG00000169436', 'ENSG00000197046']\n"
     ]
    }
   ],
   "source": [
    "sc.tl.score_genes(ipf_top_genes_macrophages, gene_list=list(macrophages_genes.values()))"
   ]
  },
  {
   "cell_type": "code",
   "execution_count": 17,
   "id": "ff79b214-966b-4368-9c16-849a7f130a97",
   "metadata": {},
   "outputs": [
    {
     "name": "stdout",
     "output_type": "stream",
     "text": [
      "WARNING: genes are not in var_names and ignored: ['ENSG00000137714', 'ENSG00000076716', 'ENSG00000169436', 'ENSG00000197046']\n"
     ]
    }
   ],
   "source": [
    "sc.tl.score_genes(ipf_genes_macrophages, gene_list=list(macrophages_genes.values()))"
   ]
  },
  {
   "cell_type": "code",
   "execution_count": 18,
   "id": "55856455-7ea5-4bd9-b68a-50c0530d9c2c",
   "metadata": {},
   "outputs": [
    {
     "name": "stderr",
     "output_type": "stream",
     "text": [
      "/tmp/ipykernel_1711577/283609184.py:2: SettingWithCopyWarning: \n",
      "A value is trying to be set on a copy of a slice from a DataFrame.\n",
      "Try using .loc[row_indexer,col_indexer] = value instead\n",
      "\n",
      "See the caveats in the documentation: https://pandas.pydata.org/pandas-docs/stable/user_guide/indexing.html#returning-a-view-versus-a-copy\n",
      "  df1.loc[:, 'group'] = 'top 10% cells'\n",
      "/tmp/ipykernel_1711577/283609184.py:4: SettingWithCopyWarning: \n",
      "A value is trying to be set on a copy of a slice from a DataFrame.\n",
      "Try using .loc[row_indexer,col_indexer] = value instead\n",
      "\n",
      "See the caveats in the documentation: https://pandas.pydata.org/pandas-docs/stable/user_guide/indexing.html#returning-a-view-versus-a-copy\n",
      "  df2.loc[:, 'group'] = 'all cells'\n"
     ]
    },
    {
     "data": {
      "text/html": [
       "<div>\n",
       "<style scoped>\n",
       "    .dataframe tbody tr th:only-of-type {\n",
       "        vertical-align: middle;\n",
       "    }\n",
       "\n",
       "    .dataframe tbody tr th {\n",
       "        vertical-align: top;\n",
       "    }\n",
       "\n",
       "    .dataframe thead th {\n",
       "        text-align: right;\n",
       "    }\n",
       "</style>\n",
       "<table border=\"1\" class=\"dataframe\">\n",
       "  <thead>\n",
       "    <tr style=\"text-align: right;\">\n",
       "      <th></th>\n",
       "      <th>score</th>\n",
       "      <th>group</th>\n",
       "    </tr>\n",
       "  </thead>\n",
       "  <tbody>\n",
       "    <tr>\n",
       "      <th>SC09_AACGTTGAGTCTCAAC_reyfman_disease</th>\n",
       "      <td>0.132057</td>\n",
       "      <td>top 10% cells</td>\n",
       "    </tr>\n",
       "    <tr>\n",
       "      <th>157I-b_ATAGACCCAATGTAAG_adams</th>\n",
       "      <td>-0.436622</td>\n",
       "      <td>top 10% cells</td>\n",
       "    </tr>\n",
       "    <tr>\n",
       "      <th>210CO_TCGGGACGTTTAAGCC_adams</th>\n",
       "      <td>0.041684</td>\n",
       "      <td>top 10% cells</td>\n",
       "    </tr>\n",
       "    <tr>\n",
       "      <th>SC19_TTAACTCCACTTCTGC_reyfman_disease</th>\n",
       "      <td>0.105603</td>\n",
       "      <td>top 10% cells</td>\n",
       "    </tr>\n",
       "    <tr>\n",
       "      <th>158I-b_TGGGCGTAGATGTGTA_adams</th>\n",
       "      <td>-0.524814</td>\n",
       "      <td>top 10% cells</td>\n",
       "    </tr>\n",
       "    <tr>\n",
       "      <th>...</th>\n",
       "      <td>...</td>\n",
       "      <td>...</td>\n",
       "    </tr>\n",
       "    <tr>\n",
       "      <th>ILD61-2_TAAGTGCAGGACATTA_haberman</th>\n",
       "      <td>1.176785</td>\n",
       "      <td>all cells</td>\n",
       "    </tr>\n",
       "    <tr>\n",
       "      <th>228I-b_CGGACACTCAGGCAAG_adams</th>\n",
       "      <td>-0.070169</td>\n",
       "      <td>all cells</td>\n",
       "    </tr>\n",
       "    <tr>\n",
       "      <th>135I-b_CTAACTTTCTCAACTT_adams</th>\n",
       "      <td>-0.089926</td>\n",
       "      <td>all cells</td>\n",
       "    </tr>\n",
       "    <tr>\n",
       "      <th>F00431_GTCACAACAGTCCTTC_haberman</th>\n",
       "      <td>-0.335261</td>\n",
       "      <td>all cells</td>\n",
       "    </tr>\n",
       "    <tr>\n",
       "      <th>145I-a_GTCGTAACAGTAGAGC_adams</th>\n",
       "      <td>-0.250385</td>\n",
       "      <td>all cells</td>\n",
       "    </tr>\n",
       "  </tbody>\n",
       "</table>\n",
       "<p>122879 rows × 2 columns</p>\n",
       "</div>"
      ],
      "text/plain": [
       "                                          score          group\n",
       "SC09_AACGTTGAGTCTCAAC_reyfman_disease  0.132057  top 10% cells\n",
       "157I-b_ATAGACCCAATGTAAG_adams         -0.436622  top 10% cells\n",
       "210CO_TCGGGACGTTTAAGCC_adams           0.041684  top 10% cells\n",
       "SC19_TTAACTCCACTTCTGC_reyfman_disease  0.105603  top 10% cells\n",
       "158I-b_TGGGCGTAGATGTGTA_adams         -0.524814  top 10% cells\n",
       "...                                         ...            ...\n",
       "ILD61-2_TAAGTGCAGGACATTA_haberman      1.176785      all cells\n",
       "228I-b_CGGACACTCAGGCAAG_adams         -0.070169      all cells\n",
       "135I-b_CTAACTTTCTCAACTT_adams         -0.089926      all cells\n",
       "F00431_GTCACAACAGTCCTTC_haberman      -0.335261      all cells\n",
       "145I-a_GTCGTAACAGTAGAGC_adams         -0.250385      all cells\n",
       "\n",
       "[122879 rows x 2 columns]"
      ]
     },
     "execution_count": 18,
     "metadata": {},
     "output_type": "execute_result"
    }
   ],
   "source": [
    "df1 = ipf_top_genes_macrophages.obs[['score']]\n",
    "df1.loc[:, 'group'] = 'top 10% cells'\n",
    "df2 = ipf_genes_macrophages.obs[['score']]\n",
    "df2.loc[:, 'group'] = 'all cells'\n",
    "df = pd.concat([df1, df2])\n",
    "df"
   ]
  },
  {
   "cell_type": "code",
   "execution_count": 23,
   "id": "454f0ac4-dd0e-445c-8870-0e71483e9b65",
   "metadata": {},
   "outputs": [
    {
     "data": {
      "text/plain": [
       "-0.07087845053941706"
      ]
     },
     "execution_count": 23,
     "metadata": {},
     "output_type": "execute_result"
    }
   ],
   "source": [
    "df1['score'].mean()"
   ]
  },
  {
   "cell_type": "code",
   "execution_count": 24,
   "id": "7c6f328c-c958-4f30-88d5-86e5e782dbd7",
   "metadata": {},
   "outputs": [
    {
     "data": {
      "text/plain": [
       "0.06478730028352866"
      ]
     },
     "execution_count": 24,
     "metadata": {},
     "output_type": "execute_result"
    }
   ],
   "source": [
    "df2['score'].mean()"
   ]
  },
  {
   "cell_type": "code",
   "execution_count": 19,
   "id": "a3dfb105-4381-4211-a620-31fb8276743f",
   "metadata": {},
   "outputs": [
    {
     "data": {
      "image/png": "[encoded data removed]",
      "text/plain": [
       "<Figure size 640x480 with 1 Axes>"
      ]
     },
     "metadata": {},
     "output_type": "display_data"
    }
   ],
   "source": [
    "sns.violinplot(x=\"group\", y=\"score\", data=df, palette=\"Pastel1\")\n",
    "plt.show()"
   ]
  },
  {
   "cell_type": "code",
   "execution_count": 20,
   "id": "4f79fffc-5372-4281-b240-1328218c94d8",
   "metadata": {},
   "outputs": [
    {
     "data": {
      "image/png": "[encoded data removed]",
      "text/plain": [
       "<Figure size 640x480 with 1 Axes>"
      ]
     },
     "metadata": {},
     "output_type": "display_data"
    }
   ],
   "source": [
    "sns.boxplot( y=df2[\"score\"] );\n",
    "plt.show()"
   ]
  },
  {
   "cell_type": "code",
   "execution_count": null,
   "id": "9de04ac4-594a-4a58-a05c-14679d458970",
   "metadata": {},
   "outputs": [],
   "source": []
  },
  {
   "cell_type": "markdown",
   "id": "f74bc198-a867-42a3-8789-cef8a8693ba7",
   "metadata": {},
   "source": [
    "# other"
   ]
  },
  {
   "cell_type": "code",
   "execution_count": 20,
   "id": "db3c4600-38d4-4cba-b672-fcd65120b5d1",
   "metadata": {},
   "outputs": [
    {
     "data": {
      "text/plain": [
       "AnnData object with n_obs × n_vars = 450214 × 2000\n",
       "    obs: \"3'_or_5'\", 'BMI', 'age_or_mean_of_age_range', 'age_range', 'anatomical_region_ccf_score', 'ancestry', 'ann_coarse_for_GWAS_and_modeling', 'ann_finest_level', 'ann_level_1', 'ann_level_2', 'ann_level_3', 'ann_level_4', 'ann_level_5', 'assay', 'cause_of_death', 'cell_type', 'core_or_extension', 'dataset', 'development_stage', 'disease', 'donor_id', 'fresh_or_frozen', 'log10_total_counts', 'lung_condition', 'mixed_ancestry', 'original_ann_level_1', 'original_ann_level_2', 'original_ann_level_3', 'original_ann_level_4', 'original_ann_level_5', 'original_ann_nonharmonized', 'reannotation_type', 'sample', 'scanvi_label', 'sequencing_platform', 'sex', 'smoking_status', 'study', 'subject_type', 'suspension_type', 'tissue', 'tissue_coarse_unharmonized', 'tissue_detailed_unharmonized', 'tissue_dissociation_protocol', 'tissue_level_2', 'tissue_level_3', 'tissue_sampling_method', 'total_counts', 'transf_ann_level_1_label', 'transf_ann_level_1_uncert', 'transf_ann_level_2_label', 'transf_ann_level_2_uncert', 'transf_ann_level_3_label', 'transf_ann_level_3_uncert', 'transf_ann_level_4_label', 'transf_ann_level_4_uncert', 'transf_ann_level_5_label', 'transf_ann_level_5_uncert', 'lung_condition_coarse', 'split0', 'split1', 'split2', 'split3', 'split4', 'cell_attn'\n",
       "    var: 'means', 'variances', 'residual_variances', 'highly_variable_rank', 'highly_variable_nbatches', 'highly_variable_intersection', 'highly_variable'\n",
       "    uns: 'hvg', 'log1p'"
      ]
     },
     "execution_count": 20,
     "metadata": {},
     "output_type": "execute_result"
    }
   ],
   "source": [
    "adata_genes = hlca[adata.obs_names].copy()\n",
    "adata_genes.obs['cell_attn'] = adata[adata_genes.obs_names].obs['cell_attn']\n",
    "adata_genes"
   ]
  },
  {
   "cell_type": "code",
   "execution_count": 21,
   "id": "0d6d14dc-ce0c-4ed9-95c3-7e60c7ad07be",
   "metadata": {},
   "outputs": [
    {
     "data": {
      "text/plain": [
       "AnnData object with n_obs × n_vars = 138736 × 2000\n",
       "    obs: \"3'_or_5'\", 'BMI', 'age_or_mean_of_age_range', 'age_range', 'anatomical_region_ccf_score', 'ancestry', 'ann_coarse_for_GWAS_and_modeling', 'ann_finest_level', 'ann_level_1', 'ann_level_2', 'ann_level_3', 'ann_level_4', 'ann_level_5', 'assay', 'cause_of_death', 'cell_type', 'core_or_extension', 'dataset', 'development_stage', 'disease', 'donor_id', 'fresh_or_frozen', 'log10_total_counts', 'lung_condition', 'mixed_ancestry', 'original_ann_level_1', 'original_ann_level_2', 'original_ann_level_3', 'original_ann_level_4', 'original_ann_level_5', 'original_ann_nonharmonized', 'reannotation_type', 'sample', 'scanvi_label', 'sequencing_platform', 'sex', 'smoking_status', 'study', 'subject_type', 'suspension_type', 'tissue', 'tissue_coarse_unharmonized', 'tissue_detailed_unharmonized', 'tissue_dissociation_protocol', 'tissue_level_2', 'tissue_level_3', 'tissue_sampling_method', 'total_counts', 'transf_ann_level_1_label', 'transf_ann_level_1_uncert', 'transf_ann_level_2_label', 'transf_ann_level_2_uncert', 'transf_ann_level_3_label', 'transf_ann_level_3_uncert', 'transf_ann_level_4_label', 'transf_ann_level_4_uncert', 'transf_ann_level_5_label', 'transf_ann_level_5_uncert', 'lung_condition_coarse', 'split0', 'split1', 'split2', 'split3', 'split4', 'cell_attn'\n",
       "    var: 'means', 'variances', 'residual_variances', 'highly_variable_rank', 'highly_variable_nbatches', 'highly_variable_intersection', 'highly_variable'\n",
       "    uns: 'hvg', 'log1p'"
      ]
     },
     "execution_count": 21,
     "metadata": {},
     "output_type": "execute_result"
    }
   ],
   "source": [
    "adata_genes_macrophages = adata_genes[adata_genes.obs['transf_ann_level_3_label'] == 'Macrophages'].copy()\n",
    "adata_genes_macrophages"
   ]
  },
  {
   "cell_type": "code",
   "execution_count": 16,
   "id": "bd60cdb6-a83b-4a6d-a21b-1a3929c39c1a",
   "metadata": {},
   "outputs": [],
   "source": [
    "# gs = []\n",
    "# for g in macrophages_genes:\n",
    "#     if macrophages_genes[g] in adata_genes_macrophages.var_names:\n",
    "#         gs.append(macrophages_genes[g])"
   ]
  },
  {
   "cell_type": "code",
   "execution_count": 17,
   "id": "a7a0571f-765f-4d98-b9e5-a5be5b1e2b48",
   "metadata": {},
   "outputs": [],
   "source": [
    "# adata_genes_macrophages = adata_genes_macrophages[:, gs].copy()\n",
    "# adata_genes_macrophages"
   ]
  },
  {
   "cell_type": "code",
   "execution_count": 22,
   "id": "562f47bd-0f8e-49d8-b273-62a22517d6b6",
   "metadata": {},
   "outputs": [
    {
     "name": "stdout",
     "output_type": "stream",
     "text": [
      "WARNING: genes are not in var_names and ignored: ['ENSG00000137714', 'ENSG00000076716', 'ENSG00000169436', 'ENSG00000197046']\n"
     ]
    }
   ],
   "source": [
    "sc.tl.score_genes(adata_genes_macrophages, gene_list=list(macrophages_genes.values()))"
   ]
  },
  {
   "cell_type": "code",
   "execution_count": null,
   "id": "d9b40dc9-5660-4177-a103-bcbe30ee89de",
   "metadata": {},
   "outputs": [],
   "source": [
    "adata_genes_macrophages.X = np.multiply(adata_genes_macrophages.X, np.array(adata_genes_macrophages.obs['cell_attn']).reshape(-1, 1))"
   ]
  },
  {
   "cell_type": "code",
   "execution_count": null,
   "id": "ca645509-3caa-4ddd-96bf-e574218190ab",
   "metadata": {},
   "outputs": [],
   "source": [
    "sc.tl.score_genes(adata_genes_macrophages, gene_list=list(macrophages_genes.values()), score_name = 'score_2')"
   ]
  },
  {
   "cell_type": "code",
   "execution_count": null,
   "id": "49573374-1ac4-4cd4-99e2-0f30f9e520d3",
   "metadata": {},
   "outputs": [],
   "source": []
  },
  {
   "cell_type": "code",
   "execution_count": null,
   "id": "7740da2b-01e5-4bb0-9621-83a630ad1f5e",
   "metadata": {},
   "outputs": [],
   "source": []
  }
 ],
 "metadata": {
  "kernelspec": {
   "display_name": "Python 3 (ipykernel)",
   "language": "python",
   "name": "python3"
  },
  "language_info": {
   "codemirror_mode": {
    "name": "ipython",
    "version": 3
   },
   "file_extension": ".py",
   "mimetype": "text/x-python",
   "name": "python",
   "nbconvert_exporter": "python",
   "pygments_lexer": "ipython3",
   "version": "3.10.12"
  }
 },
 "nbformat": 4,
 "nbformat_minor": 5
}
