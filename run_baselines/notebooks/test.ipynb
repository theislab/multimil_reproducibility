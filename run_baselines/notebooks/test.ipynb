{
 "cells": [
  {
   "cell_type": "code",
   "execution_count": 23,
   "id": "3938d46e-0e78-4628-9811-ef8238406d3d",
   "metadata": {
    "tags": []
   },
   "outputs": [],
   "source": [
    "import pandas as pd\n",
    "import json"
   ]
  },
  {
   "cell_type": "code",
   "execution_count": 42,
   "id": "155c1adf-31cf-43cb-9fcc-887e30849b01",
   "metadata": {
    "tags": []
   },
   "outputs": [
    {
     "data": {
      "text/html": [
       "<div>\n",
       "<style scoped>\n",
       "    .dataframe tbody tr th:only-of-type {\n",
       "        vertical-align: middle;\n",
       "    }\n",
       "\n",
       "    .dataframe tbody tr th {\n",
       "        vertical-align: top;\n",
       "    }\n",
       "\n",
       "    .dataframe thead th {\n",
       "        text-align: right;\n",
       "    }\n",
       "</style>\n",
       "<table border=\"1\" class=\"dataframe\">\n",
       "  <thead>\n",
       "    <tr style=\"text-align: right;\">\n",
       "      <th></th>\n",
       "      <th>Unnamed: 0</th>\n",
       "      <th>params</th>\n",
       "      <th>hash</th>\n",
       "      <th>method</th>\n",
       "      <th>task</th>\n",
       "      <th>input1</th>\n",
       "      <th>input2</th>\n",
       "      <th>label_key</th>\n",
       "      <th>batch_key</th>\n",
       "      <th>condition_key</th>\n",
       "      <th>sample_key</th>\n",
       "      <th>n_splits</th>\n",
       "    </tr>\n",
       "  </thead>\n",
       "  <tbody>\n",
       "    <tr>\n",
       "      <th>0</th>\n",
       "      <td>0</td>\n",
       "      <td>{'kl': 0.1, 'lr': 0.001, 'rna_indices_end': 20...</td>\n",
       "      <td>f7dbdc7756</td>\n",
       "      <td>multigrate</td>\n",
       "      <td>hlca_small</td>\n",
       "      <td>data/hlca_small.h5ad</td>\n",
       "      <td>NaN</td>\n",
       "      <td>transf_ann_level_3_label</td>\n",
       "      <td>study</td>\n",
       "      <td>lung_condition_coarse</td>\n",
       "      <td>sample</td>\n",
       "      <td>2</td>\n",
       "    </tr>\n",
       "    <tr>\n",
       "      <th>1</th>\n",
       "      <td>1</td>\n",
       "      <td>{'kl': 0.1, 'lr': 0.01, 'rna_indices_end': 200...</td>\n",
       "      <td>acb2d01678</td>\n",
       "      <td>multigrate</td>\n",
       "      <td>hlca_small</td>\n",
       "      <td>data/hlca_small.h5ad</td>\n",
       "      <td>NaN</td>\n",
       "      <td>transf_ann_level_3_label</td>\n",
       "      <td>study</td>\n",
       "      <td>lung_condition_coarse</td>\n",
       "      <td>sample</td>\n",
       "      <td>2</td>\n",
       "    </tr>\n",
       "    <tr>\n",
       "      <th>2</th>\n",
       "      <td>2</td>\n",
       "      <td>{'kl': 0.01, 'lr': 0.001, 'rna_indices_end': 2...</td>\n",
       "      <td>551f6ed504</td>\n",
       "      <td>multigrate</td>\n",
       "      <td>hlca_small</td>\n",
       "      <td>data/hlca_small.h5ad</td>\n",
       "      <td>NaN</td>\n",
       "      <td>transf_ann_level_3_label</td>\n",
       "      <td>study</td>\n",
       "      <td>lung_condition_coarse</td>\n",
       "      <td>sample</td>\n",
       "      <td>2</td>\n",
       "    </tr>\n",
       "    <tr>\n",
       "      <th>3</th>\n",
       "      <td>3</td>\n",
       "      <td>{'kl': 0.01, 'lr': 0.01, 'rna_indices_end': 20...</td>\n",
       "      <td>95bdb7fb63</td>\n",
       "      <td>multigrate</td>\n",
       "      <td>hlca_small</td>\n",
       "      <td>data/hlca_small.h5ad</td>\n",
       "      <td>NaN</td>\n",
       "      <td>transf_ann_level_3_label</td>\n",
       "      <td>study</td>\n",
       "      <td>lung_condition_coarse</td>\n",
       "      <td>sample</td>\n",
       "      <td>2</td>\n",
       "    </tr>\n",
       "  </tbody>\n",
       "</table>\n",
       "</div>"
      ],
      "text/plain": [
       "   Unnamed: 0                                             params        hash   \n",
       "0           0  {'kl': 0.1, 'lr': 0.001, 'rna_indices_end': 20...  f7dbdc7756  \\\n",
       "1           1  {'kl': 0.1, 'lr': 0.01, 'rna_indices_end': 200...  acb2d01678   \n",
       "2           2  {'kl': 0.01, 'lr': 0.001, 'rna_indices_end': 2...  551f6ed504   \n",
       "3           3  {'kl': 0.01, 'lr': 0.01, 'rna_indices_end': 20...  95bdb7fb63   \n",
       "\n",
       "       method        task                input1  input2   \n",
       "0  multigrate  hlca_small  data/hlca_small.h5ad     NaN  \\\n",
       "1  multigrate  hlca_small  data/hlca_small.h5ad     NaN   \n",
       "2  multigrate  hlca_small  data/hlca_small.h5ad     NaN   \n",
       "3  multigrate  hlca_small  data/hlca_small.h5ad     NaN   \n",
       "\n",
       "                  label_key batch_key          condition_key sample_key   \n",
       "0  transf_ann_level_3_label     study  lung_condition_coarse     sample  \\\n",
       "1  transf_ann_level_3_label     study  lung_condition_coarse     sample   \n",
       "2  transf_ann_level_3_label     study  lung_condition_coarse     sample   \n",
       "3  transf_ann_level_3_label     study  lung_condition_coarse     sample   \n",
       "\n",
       "   n_splits  \n",
       "0         2  \n",
       "1         2  \n",
       "2         2  \n",
       "3         2  "
      ]
     },
     "execution_count": 42,
     "metadata": {},
     "output_type": "execute_result"
    }
   ],
   "source": [
    "df = pd.read_csv('../data/tasks.tsv', sep='\\t')\n",
    "df"
   ]
  },
  {
   "cell_type": "code",
   "execution_count": 43,
   "id": "da2e7a10-fa55-48c7-8f76-2c2a86c6082f",
   "metadata": {
    "tags": []
   },
   "outputs": [
    {
     "data": {
      "text/plain": [
       "'{\\'kl\\': 0.1, \\'lr\\': 0.001, \\'rna_indices_end\\': 2000, \\'categorical_covariate_keys\\': \"[\\'sample\\', \\'study\\', \\'lung_condition_coarse\\']\", \\'z_dim\\': 16, \\'attn_dim\\': 16, \\'class_loss_coef\\': 1.0, \\'cond_dim\\': 16, \\'seed\\': 0, \\'batch_size\\': 256, \\'train_max_epochs\\': 2, \\'train_save_checkpoint_every_n_epochs\\': 2, \\'query_max_epochs\\': 2, \\'query_save_checkpoint_every_n_epochs\\': 2, \\'subset_umap\\': 20000, \\'umap_colors\\': \"[\\'lung_condition_coarse\\', \\'transf_ann_level_1_label\\', \\'transf_ann_level_2_label\\', \\'transf_ann_level_3_label\\', \\'study\\']\"}'"
      ]
     },
     "execution_count": 43,
     "metadata": {},
     "output_type": "execute_result"
    }
   ],
   "source": [
    "df = df.loc[0, 'params']\n",
    "df"
   ]
  },
  {
   "cell_type": "code",
   "execution_count": 47,
   "id": "d596bf9d-2911-45d7-a33f-b5c37a89a3b4",
   "metadata": {
    "tags": []
   },
   "outputs": [
    {
     "data": {
      "text/plain": [
       "\"['sample', 'study', 'lung_condition_coarse']\""
      ]
     },
     "execution_count": 47,
     "metadata": {},
     "output_type": "execute_result"
    }
   ],
   "source": [
    "ast.literal_eval(df)['categorical_covariate_keys']"
   ]
  },
  {
   "cell_type": "code",
   "execution_count": 48,
   "id": "07453b3d-7b57-46b8-b922-6f58a71c00ec",
   "metadata": {
    "tags": []
   },
   "outputs": [
    {
     "data": {
      "text/plain": [
       "['sample', 'study', 'lung_condition_coarse']"
      ]
     },
     "execution_count": 48,
     "metadata": {},
     "output_type": "execute_result"
    }
   ],
   "source": [
    "ast.literal_eval(df)['categorical_covariate_keys'].strip('][').replace('\\'', '').replace('\\\"', '').split(', ')"
   ]
  },
  {
   "cell_type": "code",
   "execution_count": 30,
   "id": "63f75ae1-497a-4ad9-b584-be0c14b630a1",
   "metadata": {
    "tags": []
   },
   "outputs": [
    {
     "data": {
      "text/plain": [
       "'{\"kl\": 0.1, \"lr\": 0.001, \"organize_params\": \"{}\", \"subset_umap\": 20000, \"umap_colors\": \"[\"lung_condition_coarse\", \"transf_ann_level_1_label\", \"transf_ann_level_2_label\", \"transf_ann_level_3_label\", \"study\"]\"}'"
      ]
     },
     "execution_count": 30,
     "metadata": {},
     "output_type": "execute_result"
    }
   ],
   "source": [
    "df"
   ]
  },
  {
   "cell_type": "code",
   "execution_count": 34,
   "id": "8b748e1f-8d31-4658-90ac-520c96fcc584",
   "metadata": {
    "tags": []
   },
   "outputs": [],
   "source": [
    "df = df.replace(\"\\'\", \"\\\"\")"
   ]
  },
  {
   "cell_type": "code",
   "execution_count": 35,
   "id": "3c84c423-a50c-41ee-ac6e-535e96f97287",
   "metadata": {
    "tags": []
   },
   "outputs": [
    {
     "ename": "JSONDecodeError",
     "evalue": "Expecting ',' delimiter: line 1 column 91 (char 90)",
     "output_type": "error",
     "traceback": [
      "\u001b[0;31m---------------------------------------------------------------------------\u001b[0m",
      "\u001b[0;31mJSONDecodeError\u001b[0m                           Traceback (most recent call last)",
      "Cell \u001b[0;32mIn[35], line 1\u001b[0m\n\u001b[0;32m----> 1\u001b[0m method_params \u001b[38;5;241m=\u001b[39m \u001b[43mjson\u001b[49m\u001b[38;5;241;43m.\u001b[39;49m\u001b[43mloads\u001b[49m\u001b[43m(\u001b[49m\u001b[43mdf\u001b[49m\u001b[43m)\u001b[49m \u001b[38;5;66;03m# this is dict\u001b[39;00m\n",
      "File \u001b[0;32m~/mambaforge/envs/sc/lib/python3.10/json/__init__.py:346\u001b[0m, in \u001b[0;36mloads\u001b[0;34m(s, cls, object_hook, parse_float, parse_int, parse_constant, object_pairs_hook, **kw)\u001b[0m\n\u001b[1;32m    341\u001b[0m     s \u001b[38;5;241m=\u001b[39m s\u001b[38;5;241m.\u001b[39mdecode(detect_encoding(s), \u001b[38;5;124m'\u001b[39m\u001b[38;5;124msurrogatepass\u001b[39m\u001b[38;5;124m'\u001b[39m)\n\u001b[1;32m    343\u001b[0m \u001b[38;5;28;01mif\u001b[39;00m (\u001b[38;5;28mcls\u001b[39m \u001b[38;5;129;01mis\u001b[39;00m \u001b[38;5;28;01mNone\u001b[39;00m \u001b[38;5;129;01mand\u001b[39;00m object_hook \u001b[38;5;129;01mis\u001b[39;00m \u001b[38;5;28;01mNone\u001b[39;00m \u001b[38;5;129;01mand\u001b[39;00m\n\u001b[1;32m    344\u001b[0m         parse_int \u001b[38;5;129;01mis\u001b[39;00m \u001b[38;5;28;01mNone\u001b[39;00m \u001b[38;5;129;01mand\u001b[39;00m parse_float \u001b[38;5;129;01mis\u001b[39;00m \u001b[38;5;28;01mNone\u001b[39;00m \u001b[38;5;129;01mand\u001b[39;00m\n\u001b[1;32m    345\u001b[0m         parse_constant \u001b[38;5;129;01mis\u001b[39;00m \u001b[38;5;28;01mNone\u001b[39;00m \u001b[38;5;129;01mand\u001b[39;00m object_pairs_hook \u001b[38;5;129;01mis\u001b[39;00m \u001b[38;5;28;01mNone\u001b[39;00m \u001b[38;5;129;01mand\u001b[39;00m \u001b[38;5;129;01mnot\u001b[39;00m kw):\n\u001b[0;32m--> 346\u001b[0m     \u001b[38;5;28;01mreturn\u001b[39;00m \u001b[43m_default_decoder\u001b[49m\u001b[38;5;241;43m.\u001b[39;49m\u001b[43mdecode\u001b[49m\u001b[43m(\u001b[49m\u001b[43ms\u001b[49m\u001b[43m)\u001b[49m\n\u001b[1;32m    347\u001b[0m \u001b[38;5;28;01mif\u001b[39;00m \u001b[38;5;28mcls\u001b[39m \u001b[38;5;129;01mis\u001b[39;00m \u001b[38;5;28;01mNone\u001b[39;00m:\n\u001b[1;32m    348\u001b[0m     \u001b[38;5;28mcls\u001b[39m \u001b[38;5;241m=\u001b[39m JSONDecoder\n",
      "File \u001b[0;32m~/mambaforge/envs/sc/lib/python3.10/json/decoder.py:337\u001b[0m, in \u001b[0;36mJSONDecoder.decode\u001b[0;34m(self, s, _w)\u001b[0m\n\u001b[1;32m    332\u001b[0m \u001b[38;5;28;01mdef\u001b[39;00m \u001b[38;5;21mdecode\u001b[39m(\u001b[38;5;28mself\u001b[39m, s, _w\u001b[38;5;241m=\u001b[39mWHITESPACE\u001b[38;5;241m.\u001b[39mmatch):\n\u001b[1;32m    333\u001b[0m \u001b[38;5;250m    \u001b[39m\u001b[38;5;124;03m\"\"\"Return the Python representation of ``s`` (a ``str`` instance\u001b[39;00m\n\u001b[1;32m    334\u001b[0m \u001b[38;5;124;03m    containing a JSON document).\u001b[39;00m\n\u001b[1;32m    335\u001b[0m \n\u001b[1;32m    336\u001b[0m \u001b[38;5;124;03m    \"\"\"\u001b[39;00m\n\u001b[0;32m--> 337\u001b[0m     obj, end \u001b[38;5;241m=\u001b[39m \u001b[38;5;28;43mself\u001b[39;49m\u001b[38;5;241;43m.\u001b[39;49m\u001b[43mraw_decode\u001b[49m\u001b[43m(\u001b[49m\u001b[43ms\u001b[49m\u001b[43m,\u001b[49m\u001b[43m \u001b[49m\u001b[43midx\u001b[49m\u001b[38;5;241;43m=\u001b[39;49m\u001b[43m_w\u001b[49m\u001b[43m(\u001b[49m\u001b[43ms\u001b[49m\u001b[43m,\u001b[49m\u001b[43m \u001b[49m\u001b[38;5;241;43m0\u001b[39;49m\u001b[43m)\u001b[49m\u001b[38;5;241;43m.\u001b[39;49m\u001b[43mend\u001b[49m\u001b[43m(\u001b[49m\u001b[43m)\u001b[49m\u001b[43m)\u001b[49m\n\u001b[1;32m    338\u001b[0m     end \u001b[38;5;241m=\u001b[39m _w(s, end)\u001b[38;5;241m.\u001b[39mend()\n\u001b[1;32m    339\u001b[0m     \u001b[38;5;28;01mif\u001b[39;00m end \u001b[38;5;241m!=\u001b[39m \u001b[38;5;28mlen\u001b[39m(s):\n",
      "File \u001b[0;32m~/mambaforge/envs/sc/lib/python3.10/json/decoder.py:353\u001b[0m, in \u001b[0;36mJSONDecoder.raw_decode\u001b[0;34m(self, s, idx)\u001b[0m\n\u001b[1;32m    344\u001b[0m \u001b[38;5;250m\u001b[39m\u001b[38;5;124;03m\"\"\"Decode a JSON document from ``s`` (a ``str`` beginning with\u001b[39;00m\n\u001b[1;32m    345\u001b[0m \u001b[38;5;124;03ma JSON document) and return a 2-tuple of the Python\u001b[39;00m\n\u001b[1;32m    346\u001b[0m \u001b[38;5;124;03mrepresentation and the index in ``s`` where the document ended.\u001b[39;00m\n\u001b[0;32m   (...)\u001b[0m\n\u001b[1;32m    350\u001b[0m \n\u001b[1;32m    351\u001b[0m \u001b[38;5;124;03m\"\"\"\u001b[39;00m\n\u001b[1;32m    352\u001b[0m \u001b[38;5;28;01mtry\u001b[39;00m:\n\u001b[0;32m--> 353\u001b[0m     obj, end \u001b[38;5;241m=\u001b[39m \u001b[38;5;28;43mself\u001b[39;49m\u001b[38;5;241;43m.\u001b[39;49m\u001b[43mscan_once\u001b[49m\u001b[43m(\u001b[49m\u001b[43ms\u001b[49m\u001b[43m,\u001b[49m\u001b[43m \u001b[49m\u001b[43midx\u001b[49m\u001b[43m)\u001b[49m\n\u001b[1;32m    354\u001b[0m \u001b[38;5;28;01mexcept\u001b[39;00m \u001b[38;5;167;01mStopIteration\u001b[39;00m \u001b[38;5;28;01mas\u001b[39;00m err:\n\u001b[1;32m    355\u001b[0m     \u001b[38;5;28;01mraise\u001b[39;00m JSONDecodeError(\u001b[38;5;124m\"\u001b[39m\u001b[38;5;124mExpecting value\u001b[39m\u001b[38;5;124m\"\u001b[39m, s, err\u001b[38;5;241m.\u001b[39mvalue) \u001b[38;5;28;01mfrom\u001b[39;00m \u001b[38;5;28;01mNone\u001b[39;00m\n",
      "\u001b[0;31mJSONDecodeError\u001b[0m: Expecting ',' delimiter: line 1 column 91 (char 90)"
     ]
    }
   ],
   "source": [
    "method_params = json.loads(df) # this is dict"
   ]
  },
  {
   "cell_type": "code",
   "execution_count": 31,
   "id": "3919f926-201f-4ede-9ce7-9b8d8d14dc06",
   "metadata": {
    "tags": []
   },
   "outputs": [
    {
     "ename": "SyntaxError",
     "evalue": "invalid syntax. Perhaps you forgot a comma? (<unknown>, line 1)",
     "output_type": "error",
     "traceback": [
      "Traceback \u001b[0;36m(most recent call last)\u001b[0m:\n",
      "\u001b[0m  File \u001b[1;32m~/mambaforge/envs/sc/lib/python3.10/site-packages/IPython/core/interactiveshell.py:3505\u001b[0m in \u001b[1;35mrun_code\u001b[0m\n    exec(code_obj, self.user_global_ns, self.user_ns)\u001b[0m\n",
      "\u001b[0m  Cell \u001b[1;32mIn[31], line 2\u001b[0m\n    ast.literal_eval(df)\u001b[0m\n",
      "\u001b[0m  File \u001b[1;32m~/mambaforge/envs/sc/lib/python3.10/ast.py:64\u001b[0m in \u001b[1;35mliteral_eval\u001b[0m\n    node_or_string = parse(node_or_string.lstrip(\" \\t\"), mode='eval')\u001b[0m\n",
      "\u001b[0;36m  File \u001b[0;32m~/mambaforge/envs/sc/lib/python3.10/ast.py:50\u001b[0;36m in \u001b[0;35mparse\u001b[0;36m\n\u001b[0;31m    return compile(source, filename, mode, flags,\u001b[0;36m\n",
      "\u001b[0;36m  File \u001b[0;32m<unknown>:1\u001b[0;36m\u001b[0m\n\u001b[0;31m    {\"kl\": 0.1, \"lr\": 0.001, \"organize_params\": \"{}\", \"subset_umap\": 20000, \"umap_colors\": \"[\"lung_condition_coarse\", \"transf_ann_level_1_label\", \"transf_ann_level_2_label\", \"transf_ann_level_3_label\", \"study\"]\"}\u001b[0m\n\u001b[0m                                                                                           ^\u001b[0m\n\u001b[0;31mSyntaxError\u001b[0m\u001b[0;31m:\u001b[0m invalid syntax. Perhaps you forgot a comma?\n"
     ]
    }
   ],
   "source": [
    "import ast\n",
    "ast.literal_eval(df)"
   ]
  },
  {
   "cell_type": "code",
   "execution_count": 8,
   "id": "0a51ae52-bcf7-4d0a-8725-1328b1b44160",
   "metadata": {
    "tags": []
   },
   "outputs": [
    {
     "data": {
      "text/html": [
       "<div>\n",
       "<style scoped>\n",
       "    .dataframe tbody tr th:only-of-type {\n",
       "        vertical-align: middle;\n",
       "    }\n",
       "\n",
       "    .dataframe tbody tr th {\n",
       "        vertical-align: top;\n",
       "    }\n",
       "\n",
       "    .dataframe thead th {\n",
       "        text-align: right;\n",
       "    }\n",
       "</style>\n",
       "<table border=\"1\" class=\"dataframe\">\n",
       "  <thead>\n",
       "    <tr style=\"text-align: right;\">\n",
       "      <th></th>\n",
       "      <th>precision</th>\n",
       "      <th>recall</th>\n",
       "      <th>f1-score</th>\n",
       "      <th>support</th>\n",
       "      <th>split</th>\n",
       "    </tr>\n",
       "  </thead>\n",
       "  <tbody>\n",
       "    <tr>\n",
       "      <th>0</th>\n",
       "      <td>0.888889</td>\n",
       "      <td>1.000000</td>\n",
       "      <td>0.941176</td>\n",
       "      <td>8.000000</td>\n",
       "      <td>0</td>\n",
       "    </tr>\n",
       "    <tr>\n",
       "      <th>1</th>\n",
       "      <td>0.722222</td>\n",
       "      <td>1.000000</td>\n",
       "      <td>0.838710</td>\n",
       "      <td>13.000000</td>\n",
       "      <td>0</td>\n",
       "    </tr>\n",
       "    <tr>\n",
       "      <th>2</th>\n",
       "      <td>1.000000</td>\n",
       "      <td>0.684211</td>\n",
       "      <td>0.812500</td>\n",
       "      <td>19.000000</td>\n",
       "      <td>0</td>\n",
       "    </tr>\n",
       "    <tr>\n",
       "      <th>accuracy</th>\n",
       "      <td>0.850000</td>\n",
       "      <td>0.850000</td>\n",
       "      <td>0.850000</td>\n",
       "      <td>0.850000</td>\n",
       "      <td>0</td>\n",
       "    </tr>\n",
       "    <tr>\n",
       "      <th>macro avg</th>\n",
       "      <td>0.870370</td>\n",
       "      <td>0.894737</td>\n",
       "      <td>0.864129</td>\n",
       "      <td>40.000000</td>\n",
       "      <td>0</td>\n",
       "    </tr>\n",
       "    <tr>\n",
       "      <th>weighted avg</th>\n",
       "      <td>0.887500</td>\n",
       "      <td>0.850000</td>\n",
       "      <td>0.846753</td>\n",
       "      <td>40.000000</td>\n",
       "      <td>0</td>\n",
       "    </tr>\n",
       "    <tr>\n",
       "      <th>0</th>\n",
       "      <td>0.500000</td>\n",
       "      <td>0.500000</td>\n",
       "      <td>0.500000</td>\n",
       "      <td>4.000000</td>\n",
       "      <td>1</td>\n",
       "    </tr>\n",
       "    <tr>\n",
       "      <th>1</th>\n",
       "      <td>0.923077</td>\n",
       "      <td>0.857143</td>\n",
       "      <td>0.888889</td>\n",
       "      <td>14.000000</td>\n",
       "      <td>1</td>\n",
       "    </tr>\n",
       "    <tr>\n",
       "      <th>2</th>\n",
       "      <td>0.769231</td>\n",
       "      <td>0.833333</td>\n",
       "      <td>0.800000</td>\n",
       "      <td>12.000000</td>\n",
       "      <td>1</td>\n",
       "    </tr>\n",
       "    <tr>\n",
       "      <th>accuracy</th>\n",
       "      <td>0.800000</td>\n",
       "      <td>0.800000</td>\n",
       "      <td>0.800000</td>\n",
       "      <td>0.800000</td>\n",
       "      <td>1</td>\n",
       "    </tr>\n",
       "    <tr>\n",
       "      <th>macro avg</th>\n",
       "      <td>0.730769</td>\n",
       "      <td>0.730159</td>\n",
       "      <td>0.729630</td>\n",
       "      <td>30.000000</td>\n",
       "      <td>1</td>\n",
       "    </tr>\n",
       "    <tr>\n",
       "      <th>weighted avg</th>\n",
       "      <td>0.805128</td>\n",
       "      <td>0.800000</td>\n",
       "      <td>0.801481</td>\n",
       "      <td>30.000000</td>\n",
       "      <td>1</td>\n",
       "    </tr>\n",
       "    <tr>\n",
       "      <th>0</th>\n",
       "      <td>1.000000</td>\n",
       "      <td>0.250000</td>\n",
       "      <td>0.400000</td>\n",
       "      <td>4.000000</td>\n",
       "      <td>2</td>\n",
       "    </tr>\n",
       "    <tr>\n",
       "      <th>1</th>\n",
       "      <td>0.866667</td>\n",
       "      <td>0.928571</td>\n",
       "      <td>0.896552</td>\n",
       "      <td>14.000000</td>\n",
       "      <td>2</td>\n",
       "    </tr>\n",
       "    <tr>\n",
       "      <th>2</th>\n",
       "      <td>0.857143</td>\n",
       "      <td>1.000000</td>\n",
       "      <td>0.923077</td>\n",
       "      <td>12.000000</td>\n",
       "      <td>2</td>\n",
       "    </tr>\n",
       "    <tr>\n",
       "      <th>accuracy</th>\n",
       "      <td>0.866667</td>\n",
       "      <td>0.866667</td>\n",
       "      <td>0.866667</td>\n",
       "      <td>0.866667</td>\n",
       "      <td>2</td>\n",
       "    </tr>\n",
       "    <tr>\n",
       "      <th>macro avg</th>\n",
       "      <td>0.907937</td>\n",
       "      <td>0.726190</td>\n",
       "      <td>0.739876</td>\n",
       "      <td>30.000000</td>\n",
       "      <td>2</td>\n",
       "    </tr>\n",
       "    <tr>\n",
       "      <th>weighted avg</th>\n",
       "      <td>0.880635</td>\n",
       "      <td>0.866667</td>\n",
       "      <td>0.840955</td>\n",
       "      <td>30.000000</td>\n",
       "      <td>2</td>\n",
       "    </tr>\n",
       "    <tr>\n",
       "      <th>0</th>\n",
       "      <td>0.600000</td>\n",
       "      <td>1.000000</td>\n",
       "      <td>0.750000</td>\n",
       "      <td>3.000000</td>\n",
       "      <td>3</td>\n",
       "    </tr>\n",
       "    <tr>\n",
       "      <th>1</th>\n",
       "      <td>0.941176</td>\n",
       "      <td>1.000000</td>\n",
       "      <td>0.969697</td>\n",
       "      <td>16.000000</td>\n",
       "      <td>3</td>\n",
       "    </tr>\n",
       "    <tr>\n",
       "      <th>2</th>\n",
       "      <td>1.000000</td>\n",
       "      <td>0.785714</td>\n",
       "      <td>0.880000</td>\n",
       "      <td>14.000000</td>\n",
       "      <td>3</td>\n",
       "    </tr>\n",
       "    <tr>\n",
       "      <th>accuracy</th>\n",
       "      <td>0.909091</td>\n",
       "      <td>0.909091</td>\n",
       "      <td>0.909091</td>\n",
       "      <td>0.909091</td>\n",
       "      <td>3</td>\n",
       "    </tr>\n",
       "    <tr>\n",
       "      <th>macro avg</th>\n",
       "      <td>0.847059</td>\n",
       "      <td>0.928571</td>\n",
       "      <td>0.866566</td>\n",
       "      <td>33.000000</td>\n",
       "      <td>3</td>\n",
       "    </tr>\n",
       "    <tr>\n",
       "      <th>weighted avg</th>\n",
       "      <td>0.935116</td>\n",
       "      <td>0.909091</td>\n",
       "      <td>0.911671</td>\n",
       "      <td>33.000000</td>\n",
       "      <td>3</td>\n",
       "    </tr>\n",
       "    <tr>\n",
       "      <th>0</th>\n",
       "      <td>0.666667</td>\n",
       "      <td>0.800000</td>\n",
       "      <td>0.727273</td>\n",
       "      <td>5.000000</td>\n",
       "      <td>4</td>\n",
       "    </tr>\n",
       "    <tr>\n",
       "      <th>1</th>\n",
       "      <td>0.937500</td>\n",
       "      <td>0.937500</td>\n",
       "      <td>0.937500</td>\n",
       "      <td>16.000000</td>\n",
       "      <td>4</td>\n",
       "    </tr>\n",
       "    <tr>\n",
       "      <th>2</th>\n",
       "      <td>0.888889</td>\n",
       "      <td>0.800000</td>\n",
       "      <td>0.842105</td>\n",
       "      <td>10.000000</td>\n",
       "      <td>4</td>\n",
       "    </tr>\n",
       "    <tr>\n",
       "      <th>accuracy</th>\n",
       "      <td>0.870968</td>\n",
       "      <td>0.870968</td>\n",
       "      <td>0.870968</td>\n",
       "      <td>0.870968</td>\n",
       "      <td>4</td>\n",
       "    </tr>\n",
       "    <tr>\n",
       "      <th>macro avg</th>\n",
       "      <td>0.831019</td>\n",
       "      <td>0.845833</td>\n",
       "      <td>0.835626</td>\n",
       "      <td>31.000000</td>\n",
       "      <td>4</td>\n",
       "    </tr>\n",
       "    <tr>\n",
       "      <th>weighted avg</th>\n",
       "      <td>0.878136</td>\n",
       "      <td>0.870968</td>\n",
       "      <td>0.872820</td>\n",
       "      <td>31.000000</td>\n",
       "      <td>4</td>\n",
       "    </tr>\n",
       "  </tbody>\n",
       "</table>\n",
       "</div>"
      ],
      "text/plain": [
       "              precision    recall  f1-score    support  split\n",
       "0              0.888889  1.000000  0.941176   8.000000      0\n",
       "1              0.722222  1.000000  0.838710  13.000000      0\n",
       "2              1.000000  0.684211  0.812500  19.000000      0\n",
       "accuracy       0.850000  0.850000  0.850000   0.850000      0\n",
       "macro avg      0.870370  0.894737  0.864129  40.000000      0\n",
       "weighted avg   0.887500  0.850000  0.846753  40.000000      0\n",
       "0              0.500000  0.500000  0.500000   4.000000      1\n",
       "1              0.923077  0.857143  0.888889  14.000000      1\n",
       "2              0.769231  0.833333  0.800000  12.000000      1\n",
       "accuracy       0.800000  0.800000  0.800000   0.800000      1\n",
       "macro avg      0.730769  0.730159  0.729630  30.000000      1\n",
       "weighted avg   0.805128  0.800000  0.801481  30.000000      1\n",
       "0              1.000000  0.250000  0.400000   4.000000      2\n",
       "1              0.866667  0.928571  0.896552  14.000000      2\n",
       "2              0.857143  1.000000  0.923077  12.000000      2\n",
       "accuracy       0.866667  0.866667  0.866667   0.866667      2\n",
       "macro avg      0.907937  0.726190  0.739876  30.000000      2\n",
       "weighted avg   0.880635  0.866667  0.840955  30.000000      2\n",
       "0              0.600000  1.000000  0.750000   3.000000      3\n",
       "1              0.941176  1.000000  0.969697  16.000000      3\n",
       "2              1.000000  0.785714  0.880000  14.000000      3\n",
       "accuracy       0.909091  0.909091  0.909091   0.909091      3\n",
       "macro avg      0.847059  0.928571  0.866566  33.000000      3\n",
       "weighted avg   0.935116  0.909091  0.911671  33.000000      3\n",
       "0              0.666667  0.800000  0.727273   5.000000      4\n",
       "1              0.937500  0.937500  0.937500  16.000000      4\n",
       "2              0.888889  0.800000  0.842105  10.000000      4\n",
       "accuracy       0.870968  0.870968  0.870968   0.870968      4\n",
       "macro avg      0.831019  0.845833  0.835626  31.000000      4\n",
       "weighted avg   0.878136  0.870968  0.872820  31.000000      4"
      ]
     },
     "execution_count": 8,
     "metadata": {},
     "output_type": "execute_result"
    }
   ],
   "source": []
  },
  {
   "cell_type": "code",
   "execution_count": null,
   "id": "610fb38e-b54d-4f04-9d83-22c39fd9e65c",
   "metadata": {},
   "outputs": [],
   "source": []
  }
 ],
 "metadata": {
  "kernelspec": {
   "display_name": "Python 3 (ipykernel)",
   "language": "python",
   "name": "python3"
  },
  "language_info": {
   "codemirror_mode": {
    "name": "ipython",
    "version": 3
   },
   "file_extension": ".py",
   "mimetype": "text/x-python",
   "name": "python",
   "nbconvert_exporter": "python",
   "pygments_lexer": "ipython3",
   "version": "3.10.10"
  }
 },
 "nbformat": 4,
 "nbformat_minor": 5
}
