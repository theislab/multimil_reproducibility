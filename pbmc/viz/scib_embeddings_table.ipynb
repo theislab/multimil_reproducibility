{
 "cells": [
  {
   "cell_type": "code",
   "execution_count": 1,
   "id": "576f5f49-e7c6-4a13-8121-c9231aab6015",
   "metadata": {},
   "outputs": [],
   "source": [
    "x=1"
   ]
  },
  {
   "cell_type": "code",
   "execution_count": 2,
   "id": "7cbc1d22-cf09-4f43-9b80-2390c172de51",
   "metadata": {},
   "outputs": [],
   "source": [
    "import matplotlib\n",
    "import matplotlib.pyplot as plt\n",
    "import numpy as np\n",
    "import pandas as pd\n",
    "import scanpy as sc\n",
    "from anndata import AnnData\n",
    "from plottable import ColumnDefinition, Table\n",
    "from plottable.cmap import normed_cmap\n",
    "from plottable.plots import bar"
   ]
  },
  {
   "cell_type": "code",
   "execution_count": 3,
   "id": "39078380-4942-4e60-ba49-b2cf4a029924",
   "metadata": {},
   "outputs": [],
   "source": [
    "import matplotlib\n",
    "import numpy as np\n",
    "import matplotlib.pyplot as plt\n",
    "\n",
    "def cmap_map(function, cmap):\n",
    "    \"\"\" Applies function (which should operate on vectors of shape 3: [r, g, b]), on colormap cmap.\n",
    "    This routine will break any discontinuous points in a colormap.\n",
    "    \"\"\"\n",
    "    cdict = cmap._segmentdata\n",
    "    step_dict = {}\n",
    "    # Firt get the list of points where the segments start or end\n",
    "    for key in ('red', 'green', 'blue'):\n",
    "        step_dict[key] = list(map(lambda x: x[0], cdict[key]))\n",
    "    step_list = sum(step_dict.values(), [])\n",
    "    step_list = np.array(list(set(step_list)))\n",
    "    # Then compute the LUT, and apply the function to the LUT\n",
    "    reduced_cmap = lambda step : np.array(cmap(step)[0:3])\n",
    "    old_LUT = np.array(list(map(reduced_cmap, step_list)))\n",
    "    new_LUT = np.array(list(map(function, old_LUT)))\n",
    "    # Now try to make a minimal segment definition of the new LUT\n",
    "    cdict = {}\n",
    "    for i, key in enumerate(['red','green','blue']):\n",
    "        this_cdict = {}\n",
    "        for j, step in enumerate(step_list):\n",
    "            if step in step_dict[key]:\n",
    "                this_cdict[step] = new_LUT[j, i]\n",
    "            elif new_LUT[j,i] != old_LUT[j, i]:\n",
    "                this_cdict[step] = new_LUT[j, i]\n",
    "        colorvector = list(map(lambda x: x + (x[1], ), this_cdict.items()))\n",
    "        colorvector.sort()\n",
    "        cdict[key] = colorvector\n",
    "\n",
    "    return matplotlib.colors.LinearSegmentedColormap('colormap',cdict,1024)"
   ]
  },
  {
   "cell_type": "code",
   "execution_count": 4,
   "id": "43b5fe0f-deaa-4605-ab17-1c3a5d8fb567",
   "metadata": {},
   "outputs": [],
   "source": [
    "light_cmap = cmap_map(lambda x: x/2 + 0.5, matplotlib.cm.YlGnBu)"
   ]
  },
  {
   "cell_type": "code",
   "execution_count": 5,
   "id": "cb2682f8-4817-4c9b-9e14-7644e7d149dc",
   "metadata": {},
   "outputs": [
    {
     "data": {
      "text/html": [
       "<div>\n",
       "<style scoped>\n",
       "    .dataframe tbody tr th:only-of-type {\n",
       "        vertical-align: middle;\n",
       "    }\n",
       "\n",
       "    .dataframe tbody tr th {\n",
       "        vertical-align: top;\n",
       "    }\n",
       "\n",
       "    .dataframe thead th {\n",
       "        text-align: right;\n",
       "    }\n",
       "</style>\n",
       "<table border=\"1\" class=\"dataframe\">\n",
       "  <thead>\n",
       "    <tr style=\"text-align: right;\">\n",
       "      <th></th>\n",
       "      <th>ARI</th>\n",
       "      <th>NMI</th>\n",
       "      <th>Label ASW</th>\n",
       "      <th>Isolated label ASW</th>\n",
       "      <th>Batch ASW</th>\n",
       "      <th>Graph Connectivity</th>\n",
       "      <th>Bio conservation</th>\n",
       "      <th>Batch correction</th>\n",
       "      <th>Total</th>\n",
       "    </tr>\n",
       "  </thead>\n",
       "  <tbody>\n",
       "    <tr>\n",
       "      <th>Metric Type</th>\n",
       "      <td>Bio conservation</td>\n",
       "      <td>Bio conservation</td>\n",
       "      <td>Bio conservation</td>\n",
       "      <td>Bio conservation</td>\n",
       "      <td>Batch correction</td>\n",
       "      <td>Batch correction</td>\n",
       "      <td>Aggregate score</td>\n",
       "      <td>Aggregate score</td>\n",
       "      <td>Aggregate score</td>\n",
       "    </tr>\n",
       "  </tbody>\n",
       "</table>\n",
       "</div>"
      ],
      "text/plain": [
       "                          ARI               NMI         Label ASW  \\\n",
       "Metric Type  Bio conservation  Bio conservation  Bio conservation   \n",
       "\n",
       "            Isolated label ASW         Batch ASW Graph Connectivity  \\\n",
       "Metric Type   Bio conservation  Batch correction   Batch correction   \n",
       "\n",
       "            Bio conservation Batch correction            Total  \n",
       "Metric Type  Aggregate score  Aggregate score  Aggregate score  "
      ]
     },
     "execution_count": 5,
     "metadata": {},
     "output_type": "execute_result"
    }
   ],
   "source": [
    "df_type = {\n",
    "    'ARI': 'Bio conservation',\n",
    "    'NMI': 'Bio conservation',\n",
    "    'Label ASW': 'Bio conservation',\n",
    "    'Isolated label ASW': 'Bio conservation',\n",
    "    'Batch ASW': 'Batch correction',\n",
    "    'Graph Connectivity': 'Batch correction',\n",
    "    'Bio conservation': 'Aggregate score',\n",
    "    'Batch correction': 'Aggregate score',\n",
    "    'Total': 'Aggregate score',\n",
    "}\n",
    "df_type = pd.DataFrame(df_type, index=['Metric Type'])\n",
    "df_type"
   ]
  },
  {
   "cell_type": "code",
   "execution_count": 43,
   "id": "0006e0b5-4659-4993-8e54-32c9464dd8e0",
   "metadata": {},
   "outputs": [
    {
     "data": {
      "text/html": [
       "<div>\n",
       "<style scoped>\n",
       "    .dataframe tbody tr th:only-of-type {\n",
       "        vertical-align: middle;\n",
       "    }\n",
       "\n",
       "    .dataframe tbody tr th {\n",
       "        vertical-align: top;\n",
       "    }\n",
       "\n",
       "    .dataframe thead th {\n",
       "        text-align: right;\n",
       "    }\n",
       "</style>\n",
       "<table border=\"1\" class=\"dataframe\">\n",
       "  <thead>\n",
       "    <tr style=\"text-align: right;\">\n",
       "      <th></th>\n",
       "      <th>NMI_cluster/label</th>\n",
       "      <th>ARI_cluster/label</th>\n",
       "      <th>ASW_label</th>\n",
       "      <th>ASW_label/batch</th>\n",
       "      <th>isolated_label_silhouette</th>\n",
       "      <th>graph_conn</th>\n",
       "      <th>batch</th>\n",
       "      <th>bio</th>\n",
       "      <th>overall</th>\n",
       "    </tr>\n",
       "  </thead>\n",
       "  <tbody>\n",
       "    <tr>\n",
       "      <th>MultiMIL</th>\n",
       "      <td>0.767769</td>\n",
       "      <td>0.726609</td>\n",
       "      <td>0.544768</td>\n",
       "      <td>0.938194</td>\n",
       "      <td>0.560411</td>\n",
       "      <td>0.894775</td>\n",
       "      <td>0.916485</td>\n",
       "      <td>0.649889</td>\n",
       "      <td>0.756527</td>\n",
       "    </tr>\n",
       "  </tbody>\n",
       "</table>\n",
       "</div>"
      ],
      "text/plain": [
       "          NMI_cluster/label  ARI_cluster/label  ASW_label  ASW_label/batch  \\\n",
       "MultiMIL           0.767769           0.726609   0.544768         0.938194   \n",
       "\n",
       "          isolated_label_silhouette  graph_conn     batch       bio   overall  \n",
       "MultiMIL                   0.560411    0.894775  0.916485  0.649889  0.756527  "
      ]
     },
     "execution_count": 43,
     "metadata": {},
     "output_type": "execute_result"
    }
   ],
   "source": [
    "df_mtm = pd.read_csv('/lustre/groups/ml01/projects/2022_multigrate_anastasia.litinetskaya/multimil_reproducibility/pipeline/data/metrics/scib_full_pbmc/metrics_mtg1.csv', index_col=0, header=0)\n",
    "df_mtm = df_mtm.dropna()\n",
    "df_mtm = df_mtm.T\n",
    "df_mtm = df_mtm.rename(index={'0': 'MultiMIL'})\n",
    "df_mtm"
   ]
  },
  {
   "cell_type": "code",
   "execution_count": 44,
   "id": "f8894f27-fb4a-41df-9b84-b2dabbf4eee4",
   "metadata": {},
   "outputs": [
    {
     "data": {
      "text/html": [
       "<div>\n",
       "<style scoped>\n",
       "    .dataframe tbody tr th:only-of-type {\n",
       "        vertical-align: middle;\n",
       "    }\n",
       "\n",
       "    .dataframe tbody tr th {\n",
       "        vertical-align: top;\n",
       "    }\n",
       "\n",
       "    .dataframe thead th {\n",
       "        text-align: right;\n",
       "    }\n",
       "</style>\n",
       "<table border=\"1\" class=\"dataframe\">\n",
       "  <thead>\n",
       "    <tr style=\"text-align: right;\">\n",
       "      <th></th>\n",
       "      <th>NMI_cluster/label</th>\n",
       "      <th>ARI_cluster/label</th>\n",
       "      <th>ASW_label</th>\n",
       "      <th>ASW_label/batch</th>\n",
       "      <th>isolated_label_silhouette</th>\n",
       "      <th>graph_conn</th>\n",
       "      <th>batch</th>\n",
       "      <th>bio</th>\n",
       "      <th>overall</th>\n",
       "    </tr>\n",
       "  </thead>\n",
       "  <tbody>\n",
       "    <tr>\n",
       "      <th>totalVI</th>\n",
       "      <td>0.770728</td>\n",
       "      <td>0.724551</td>\n",
       "      <td>0.543193</td>\n",
       "      <td>0.943701</td>\n",
       "      <td>0.556054</td>\n",
       "      <td>0.915917</td>\n",
       "      <td>0.929809</td>\n",
       "      <td>0.648631</td>\n",
       "      <td>0.761102</td>\n",
       "    </tr>\n",
       "  </tbody>\n",
       "</table>\n",
       "</div>"
      ],
      "text/plain": [
       "         NMI_cluster/label  ARI_cluster/label  ASW_label  ASW_label/batch  \\\n",
       "totalVI           0.770728           0.724551   0.543193         0.943701   \n",
       "\n",
       "         isolated_label_silhouette  graph_conn     batch       bio   overall  \n",
       "totalVI                   0.556054    0.915917  0.929809  0.648631  0.761102  "
      ]
     },
     "execution_count": 44,
     "metadata": {},
     "output_type": "execute_result"
    }
   ],
   "source": [
    "df_totalvi = pd.read_csv('/lustre/groups/ml01/projects/2022_multigrate_anastasia.litinetskaya/multimil_reproducibility/pipeline/data/metrics/scib_full_pbmc/metrics_totalvi.csv', index_col=0, header=0)\n",
    "df_totalvi = df_totalvi.dropna()\n",
    "df_totalvi = df_totalvi.T\n",
    "df_totalvi = df_totalvi.rename(index={'0': 'totalVI'})\n",
    "df_totalvi"
   ]
  },
  {
   "cell_type": "code",
   "execution_count": 45,
   "id": "2e413c44-7a2d-4e90-9f13-974a59a6217c",
   "metadata": {},
   "outputs": [
    {
     "data": {
      "text/html": [
       "<div>\n",
       "<style scoped>\n",
       "    .dataframe tbody tr th:only-of-type {\n",
       "        vertical-align: middle;\n",
       "    }\n",
       "\n",
       "    .dataframe tbody tr th {\n",
       "        vertical-align: top;\n",
       "    }\n",
       "\n",
       "    .dataframe thead th {\n",
       "        text-align: right;\n",
       "    }\n",
       "</style>\n",
       "<table border=\"1\" class=\"dataframe\">\n",
       "  <thead>\n",
       "    <tr style=\"text-align: right;\">\n",
       "      <th></th>\n",
       "      <th>NMI_cluster/label</th>\n",
       "      <th>ARI_cluster/label</th>\n",
       "      <th>ASW_label</th>\n",
       "      <th>ASW_label/batch</th>\n",
       "      <th>isolated_label_silhouette</th>\n",
       "      <th>graph_conn</th>\n",
       "      <th>batch</th>\n",
       "      <th>bio</th>\n",
       "      <th>overall</th>\n",
       "    </tr>\n",
       "  </thead>\n",
       "  <tbody>\n",
       "    <tr>\n",
       "      <th>MultiMIL</th>\n",
       "      <td>0.767769</td>\n",
       "      <td>0.726609</td>\n",
       "      <td>0.544768</td>\n",
       "      <td>0.938194</td>\n",
       "      <td>0.560411</td>\n",
       "      <td>0.894775</td>\n",
       "      <td>0.916485</td>\n",
       "      <td>0.649889</td>\n",
       "      <td>0.756527</td>\n",
       "    </tr>\n",
       "    <tr>\n",
       "      <th>totalVI</th>\n",
       "      <td>0.770728</td>\n",
       "      <td>0.724551</td>\n",
       "      <td>0.543193</td>\n",
       "      <td>0.943701</td>\n",
       "      <td>0.556054</td>\n",
       "      <td>0.915917</td>\n",
       "      <td>0.929809</td>\n",
       "      <td>0.648631</td>\n",
       "      <td>0.761102</td>\n",
       "    </tr>\n",
       "  </tbody>\n",
       "</table>\n",
       "</div>"
      ],
      "text/plain": [
       "          NMI_cluster/label  ARI_cluster/label  ASW_label  ASW_label/batch  \\\n",
       "MultiMIL           0.767769           0.726609   0.544768         0.938194   \n",
       "totalVI            0.770728           0.724551   0.543193         0.943701   \n",
       "\n",
       "          isolated_label_silhouette  graph_conn     batch       bio   overall  \n",
       "MultiMIL                   0.560411    0.894775  0.916485  0.649889  0.756527  \n",
       "totalVI                    0.556054    0.915917  0.929809  0.648631  0.761102  "
      ]
     },
     "execution_count": 45,
     "metadata": {},
     "output_type": "execute_result"
    }
   ],
   "source": [
    "df = pd.concat([df_mtm, df_totalvi])\n",
    "df"
   ]
  },
  {
   "cell_type": "code",
   "execution_count": 46,
   "id": "8bd09098-16d6-4f22-b630-c898bd2e600d",
   "metadata": {},
   "outputs": [],
   "source": [
    "df = df.rename(columns={\n",
    "    'NMI_cluster/label': 'NMI', \n",
    "    'ARI_cluster/label': 'ARI',\n",
    "    'ASW_label': 'Label ASW',\n",
    "    'ASW_label/batch': 'Batch ASW',\n",
    "    'isolated_label_silhouette': 'Isolated label ASW',\n",
    "    'graph_conn': 'Graph Connectivity',\n",
    "})"
   ]
  },
  {
   "cell_type": "code",
   "execution_count": 47,
   "id": "06e78a91-ae2e-4f8d-bc77-204426453c7e",
   "metadata": {},
   "outputs": [
    {
     "data": {
      "text/html": [
       "<div>\n",
       "<style scoped>\n",
       "    .dataframe tbody tr th:only-of-type {\n",
       "        vertical-align: middle;\n",
       "    }\n",
       "\n",
       "    .dataframe tbody tr th {\n",
       "        vertical-align: top;\n",
       "    }\n",
       "\n",
       "    .dataframe thead th {\n",
       "        text-align: right;\n",
       "    }\n",
       "</style>\n",
       "<table border=\"1\" class=\"dataframe\">\n",
       "  <thead>\n",
       "    <tr style=\"text-align: right;\">\n",
       "      <th></th>\n",
       "      <th>NMI</th>\n",
       "      <th>ARI</th>\n",
       "      <th>Label ASW</th>\n",
       "      <th>Batch ASW</th>\n",
       "      <th>Isolated label ASW</th>\n",
       "      <th>Graph Connectivity</th>\n",
       "      <th>batch</th>\n",
       "      <th>bio</th>\n",
       "      <th>overall</th>\n",
       "      <th>Bio conservation</th>\n",
       "    </tr>\n",
       "  </thead>\n",
       "  <tbody>\n",
       "    <tr>\n",
       "      <th>MultiMIL</th>\n",
       "      <td>0.767769</td>\n",
       "      <td>0.726609</td>\n",
       "      <td>0.544768</td>\n",
       "      <td>0.938194</td>\n",
       "      <td>0.560411</td>\n",
       "      <td>0.894775</td>\n",
       "      <td>0.916485</td>\n",
       "      <td>0.649889</td>\n",
       "      <td>0.756527</td>\n",
       "      <td>0.649889</td>\n",
       "    </tr>\n",
       "    <tr>\n",
       "      <th>totalVI</th>\n",
       "      <td>0.770728</td>\n",
       "      <td>0.724551</td>\n",
       "      <td>0.543193</td>\n",
       "      <td>0.943701</td>\n",
       "      <td>0.556054</td>\n",
       "      <td>0.915917</td>\n",
       "      <td>0.929809</td>\n",
       "      <td>0.648631</td>\n",
       "      <td>0.761102</td>\n",
       "      <td>0.648631</td>\n",
       "    </tr>\n",
       "  </tbody>\n",
       "</table>\n",
       "</div>"
      ],
      "text/plain": [
       "               NMI       ARI  Label ASW  Batch ASW  Isolated label ASW  \\\n",
       "MultiMIL  0.767769  0.726609   0.544768   0.938194            0.560411   \n",
       "totalVI   0.770728  0.724551   0.543193   0.943701            0.556054   \n",
       "\n",
       "          Graph Connectivity     batch       bio   overall  Bio conservation  \n",
       "MultiMIL            0.894775  0.916485  0.649889  0.756527          0.649889  \n",
       "totalVI             0.915917  0.929809  0.648631  0.761102          0.648631  "
      ]
     },
     "execution_count": 47,
     "metadata": {},
     "output_type": "execute_result"
    }
   ],
   "source": [
    "df.loc[:, 'Bio conservation'] = np.mean([df.loc[:, 'ARI'], df.loc[:, 'NMI'], df.loc[:, 'Isolated label ASW'], df.loc[:, 'Label ASW']], axis=0)\n",
    "df"
   ]
  },
  {
   "cell_type": "code",
   "execution_count": 48,
   "id": "0cce7dd2-8a44-499b-98cc-2cf5e56dd285",
   "metadata": {},
   "outputs": [
    {
     "data": {
      "text/html": [
       "<div>\n",
       "<style scoped>\n",
       "    .dataframe tbody tr th:only-of-type {\n",
       "        vertical-align: middle;\n",
       "    }\n",
       "\n",
       "    .dataframe tbody tr th {\n",
       "        vertical-align: top;\n",
       "    }\n",
       "\n",
       "    .dataframe thead th {\n",
       "        text-align: right;\n",
       "    }\n",
       "</style>\n",
       "<table border=\"1\" class=\"dataframe\">\n",
       "  <thead>\n",
       "    <tr style=\"text-align: right;\">\n",
       "      <th></th>\n",
       "      <th>NMI</th>\n",
       "      <th>ARI</th>\n",
       "      <th>Label ASW</th>\n",
       "      <th>Batch ASW</th>\n",
       "      <th>Isolated label ASW</th>\n",
       "      <th>Graph Connectivity</th>\n",
       "      <th>batch</th>\n",
       "      <th>bio</th>\n",
       "      <th>overall</th>\n",
       "      <th>Bio conservation</th>\n",
       "      <th>Batch correction</th>\n",
       "    </tr>\n",
       "  </thead>\n",
       "  <tbody>\n",
       "    <tr>\n",
       "      <th>MultiMIL</th>\n",
       "      <td>0.767769</td>\n",
       "      <td>0.726609</td>\n",
       "      <td>0.544768</td>\n",
       "      <td>0.938194</td>\n",
       "      <td>0.560411</td>\n",
       "      <td>0.894775</td>\n",
       "      <td>0.916485</td>\n",
       "      <td>0.649889</td>\n",
       "      <td>0.756527</td>\n",
       "      <td>0.649889</td>\n",
       "      <td>0.916485</td>\n",
       "    </tr>\n",
       "    <tr>\n",
       "      <th>totalVI</th>\n",
       "      <td>0.770728</td>\n",
       "      <td>0.724551</td>\n",
       "      <td>0.543193</td>\n",
       "      <td>0.943701</td>\n",
       "      <td>0.556054</td>\n",
       "      <td>0.915917</td>\n",
       "      <td>0.929809</td>\n",
       "      <td>0.648631</td>\n",
       "      <td>0.761102</td>\n",
       "      <td>0.648631</td>\n",
       "      <td>0.929809</td>\n",
       "    </tr>\n",
       "  </tbody>\n",
       "</table>\n",
       "</div>"
      ],
      "text/plain": [
       "               NMI       ARI  Label ASW  Batch ASW  Isolated label ASW  \\\n",
       "MultiMIL  0.767769  0.726609   0.544768   0.938194            0.560411   \n",
       "totalVI   0.770728  0.724551   0.543193   0.943701            0.556054   \n",
       "\n",
       "          Graph Connectivity     batch       bio   overall  Bio conservation  \\\n",
       "MultiMIL            0.894775  0.916485  0.649889  0.756527          0.649889   \n",
       "totalVI             0.915917  0.929809  0.648631  0.761102          0.648631   \n",
       "\n",
       "          Batch correction  \n",
       "MultiMIL          0.916485  \n",
       "totalVI           0.929809  "
      ]
     },
     "execution_count": 48,
     "metadata": {},
     "output_type": "execute_result"
    }
   ],
   "source": [
    "df.loc[:, 'Batch correction'] = np.mean([df.loc[:, 'Batch ASW'], df.loc[:, 'Graph Connectivity']], axis=0)\n",
    "df"
   ]
  },
  {
   "cell_type": "code",
   "execution_count": 49,
   "id": "2a58d3fb-c274-4e8a-a79f-ee700ddef59d",
   "metadata": {},
   "outputs": [],
   "source": [
    "df = df.drop(['batch', 'bio', 'overall'], axis=1)"
   ]
  },
  {
   "cell_type": "code",
   "execution_count": 50,
   "id": "2f041838-d1c8-455d-8974-dd517e150464",
   "metadata": {},
   "outputs": [],
   "source": [
    "df.loc[:, 'Total'] = 0.6 * df.loc[:, 'Bio conservation'] + 0.4 * df.loc[:, 'Batch correction']"
   ]
  },
  {
   "cell_type": "code",
   "execution_count": 51,
   "id": "78df9d4b-4fce-4cbb-bef1-cbfa0244e844",
   "metadata": {},
   "outputs": [],
   "source": [
    "df = pd.concat([df, df_type])"
   ]
  },
  {
   "cell_type": "code",
   "execution_count": 52,
   "id": "fc48d507-6824-4a8a-b560-f9d5d939bee5",
   "metadata": {},
   "outputs": [],
   "source": [
    "score_cols = df.columns[df.loc['Metric Type'] == 'Aggregate score']\n",
    "other_cols = df.columns[df.loc['Metric Type'] != 'Aggregate score']"
   ]
  },
  {
   "cell_type": "code",
   "execution_count": 53,
   "id": "b11f2a65-1745-48fe-81a9-aa93911b4f54",
   "metadata": {},
   "outputs": [],
   "source": [
    "plot_df = df.drop('Metric Type', axis=0)"
   ]
  },
  {
   "cell_type": "code",
   "execution_count": 54,
   "id": "89a2b754-bf37-4f2e-ace9-1156307231a8",
   "metadata": {},
   "outputs": [],
   "source": [
    "plot_df = plot_df.sort_values(by=\"Total\", ascending=False).astype(np.float64)"
   ]
  },
  {
   "cell_type": "code",
   "execution_count": 55,
   "id": "66dea3e1-5311-481e-b5f1-a8d135b3a685",
   "metadata": {},
   "outputs": [],
   "source": [
    "plot_df[\"Method\"] = plot_df.index"
   ]
  },
  {
   "cell_type": "code",
   "execution_count": 56,
   "id": "12812fba-1612-4baa-8c58-1815ebdf3b2d",
   "metadata": {},
   "outputs": [],
   "source": [
    "column_definitions = [\n",
    "    ColumnDefinition(\"Method\", width=1.5, textprops={\"ha\": \"left\", \"weight\": \"bold\"}),\n",
    "]"
   ]
  },
  {
   "cell_type": "code",
   "execution_count": 57,
   "id": "7df2a300-0fbe-4c0a-ae1e-54c504a570e8",
   "metadata": {},
   "outputs": [],
   "source": [
    "df = df.loc[:, ['NMI', 'ARI', 'Label ASW', 'Isolated label ASW', 'Batch ASW', 'Graph Connectivity', 'Bio conservation', 'Batch correction', 'Total']]"
   ]
  },
  {
   "cell_type": "code",
   "execution_count": 58,
   "id": "28f6dc29-e6e0-437f-9f90-079533ac9936",
   "metadata": {},
   "outputs": [],
   "source": [
    "plot_df = plot_df.loc[:, ['NMI', 'ARI', 'Label ASW', 'Isolated label ASW', 'Batch ASW', 'Graph Connectivity', 'Bio conservation', 'Batch correction', 'Total', 'Method']]"
   ]
  },
  {
   "cell_type": "code",
   "execution_count": 59,
   "id": "b027a735-fe64-4cd1-b414-17c10c43c957",
   "metadata": {},
   "outputs": [],
   "source": [
    "cmap_fn = lambda col_data: normed_cmap(col_data, cmap=matplotlib.cm.PRGn, num_stds=2.5)\n",
    "\n",
    "# Circles for the metric values\n",
    "column_definitions += [\n",
    "    ColumnDefinition(\n",
    "        col,\n",
    "        title=col.replace(\" \", \"\\n\", 1),\n",
    "        width=1,\n",
    "        textprops={\n",
    "            \"ha\": \"center\",\n",
    "            \"bbox\": {\"boxstyle\": \"circle\", \"pad\": 0.25},\n",
    "        },\n",
    "        cmap=cmap_fn(plot_df[col]),\n",
    "        group=df.loc['Metric Type', col],\n",
    "        formatter=\"{:.2f}\",\n",
    "    )\n",
    "    for i, col in enumerate(other_cols)\n",
    "]"
   ]
  },
  {
   "cell_type": "code",
   "execution_count": 60,
   "id": "b90cdbee-f543-43d8-8029-d4bfbacd3f51",
   "metadata": {},
   "outputs": [],
   "source": [
    "cmap_fn = lambda col_data: normed_cmap(col_data, cmap=light_cmap, num_stds=2.5)\n",
    "\n",
    "# Bars for the aggregate scores\n",
    "column_definitions += [\n",
    "    ColumnDefinition(\n",
    "        col,\n",
    "        width=1,\n",
    "        title=col.replace(\" \", \"\\n\", 1),\n",
    "        plot_fn=bar,\n",
    "        plot_kw={\n",
    "            \"cmap\": cmap_fn(plot_df[col]),\n",
    "            \"plot_bg_bar\": False,\n",
    "            \"annotate\": True,\n",
    "            \"height\": 0.9,\n",
    "            \"formatter\": \"{:.2f}\",\n",
    "        },\n",
    "        group=df.loc['Metric Type', col],\n",
    "        border=\"left\" if i == 0 else None,\n",
    "    )\n",
    "    for i, col in enumerate(score_cols)\n",
    "]"
   ]
  },
  {
   "cell_type": "code",
   "execution_count": 61,
   "id": "f8305103-1d54-4196-98b8-a9bc4d009d8f",
   "metadata": {},
   "outputs": [
    {
     "data": {
      "image/png": "[encoded data removed]",
      "text/plain": [
       "<Figure size 1125x360 with 7 Axes>"
      ]
     },
     "metadata": {},
     "output_type": "display_data"
    }
   ],
   "source": [
    "num_embeds = len(plot_df)\n",
    "\n",
    "# Allow to manipulate text post-hoc (in illustrator)\n",
    "with matplotlib.rc_context({\"svg.fonttype\": \"none\"}):\n",
    "    fig, ax = plt.subplots(figsize=(len(df.columns) * 1.25, 3 + 0.3 * num_embeds))\n",
    "    tab = Table(\n",
    "        plot_df,\n",
    "        cell_kw={\n",
    "            \"linewidth\": 0,\n",
    "            \"edgecolor\": \"k\",\n",
    "        },\n",
    "        column_definitions=column_definitions,\n",
    "        ax=ax,\n",
    "        row_dividers=True,\n",
    "        footer_divider=True,\n",
    "        textprops={\"fontsize\": 9, \"ha\": \"center\"},\n",
    "        row_divider_kw={\"linewidth\": 1, \"linestyle\": (0, (1, 5))},\n",
    "        col_label_divider_kw={\"linewidth\": 1, \"linestyle\": \"-\"},\n",
    "        column_border_kw={\"linewidth\": 1, \"linestyle\": \"-\"},\n",
    "        index_col=\"Method\",\n",
    "    ).autoset_fontcolors(colnames=plot_df.columns)\n",
    "\n",
    "plt.savefig('figures/scib_table_pbmc_full_mtm_totalvi.svg', bbox_inches='tight')\n",
    "\n",
    "plt.show()"
   ]
  },
  {
   "cell_type": "code",
   "execution_count": null,
   "id": "0aa33f32-ce90-490f-a4c2-24354dc272f6",
   "metadata": {},
   "outputs": [],
   "source": []
  }
 ],
 "metadata": {
  "kernelspec": {
   "display_name": "Python 3 (ipykernel)",
   "language": "python",
   "name": "python3"
  },
  "language_info": {
   "codemirror_mode": {
    "name": "ipython",
    "version": 3
   },
   "file_extension": ".py",
   "mimetype": "text/x-python",
   "name": "python",
   "nbconvert_exporter": "python",
   "pygments_lexer": "ipython3",
   "version": "3.10.12"
  }
 },
 "nbformat": 4,
 "nbformat_minor": 5
}
