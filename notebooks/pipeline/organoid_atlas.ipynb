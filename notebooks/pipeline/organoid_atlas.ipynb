{
 "cells": [
  {
   "cell_type": "code",
   "execution_count": 2,
   "id": "f52fc88e-8a23-4f87-8c89-8a4aa20159b1",
   "metadata": {},
   "outputs": [],
   "source": [
    "x=1"
   ]
  },
  {
   "cell_type": "code",
   "execution_count": 3,
   "id": "46c07364-51bf-4c36-9e2e-07cac8e45e0b",
   "metadata": {},
   "outputs": [],
   "source": [
    "import scanpy as sc\n",
    "import numpy as np\n",
    "import random"
   ]
  },
  {
   "cell_type": "code",
   "execution_count": 3,
   "id": "2c124a8c-1a8e-4d8c-b7a9-4b6bdecae738",
   "metadata": {},
   "outputs": [
    {
     "data": {
      "text/plain": [
       "AnnData object with n_obs × n_vars = 1770578 × 36842 backed at '../data/raw/230620_10_updated_manual_annotation.h5ad'\n",
       "    obs: 'assay_sc', 'assay_differentiation', 'assay_type_differentiation', 'bio_sample', 'cell_line', 'cell_type', 'development_stage', 'disease', 'ethnicity', 'gm', 'id', 'individual', 'organ', 'organism', 'sex', 'state_exact', 'sample_source', 'source_doi', 'suspension_type_original', 'tech_sample', 'treatment', 'assay_sc_original', 'cell_line_original', 'cell_type_original', 'development_stage_original', 'disease_original', 'ethnicity_original', 'organ_original', 'organism_original', 'sex_original', 'suspension_type', 'obs_names_original', 'organoid_age_days', 'publication', 'doi', 'batch', 'n_genes_by_counts', 'log1p_n_genes_by_counts', 'total_counts', 'log1p_total_counts', 'total_counts_mt', 'log1p_total_counts_mt', 'pct_counts_mt', 'leiden_pca_unintegrated_1', 'leiden_pca_unintegrated_80', 'leiden_pca_rss_1', 'leiden_pca_rss_80', 'snapseed_pca_unintegrated_level_1', 'snapseed_pca_unintegrated_level_2', 'snapseed_pca_unintegrated_level_3', 'snapseed_pca_unintegrated_level_4', 'snapseed_pca_unintegrated_level_5', 'snapseed_pca_unintegrated_level_12', 'snapseed_pca_unintegrated_level_123', 'snapseed_pca_unintegrated_level_1234', 'snapseed_pca_unintegrated_level_12345', 'snapseed_pca_rss_level_1', 'snapseed_pca_rss_level_2', 'snapseed_pca_rss_level_3', 'snapseed_pca_rss_level_4', 'snapseed_pca_rss_level_5', 'snapseed_pca_rss_level_12', 'snapseed_pca_rss_level_123', 'snapseed_pca_rss_level_1234', 'snapseed_pca_rss_level_12345', 'leiden_scpoli_1', 'leiden_scpoli_80', 'snapseed_scpoli_level_1', 'snapseed_scpoli_level_2', 'snapseed_scpoli_level_3', 'snapseed_scpoli_level_4', 'snapseed_scpoli_level_5', 'snapseed_scpoli_level_12', 'snapseed_scpoli_level_123', 'snapseed_scpoli_level_1234', 'snapseed_scpoli_level_12345', 'ECM_raw', 'ROCK_inhibitor_raw', 'BMP_activator_raw', 'TGF_B_activator_raw', 'TGF_B_inhibitor_raw', 'BMP_inhibitor_raw', 'WNT_activator_raw', 'WNT_inhibitor_raw', 'EGF_raw', 'FGF2_raw', 'FGF8_raw', 'SHH_agonist_raw', 'RA_raw', 'MEK_ERK_inhibitor_raw', 'Notch_inhibitor_raw', 'manual_annot_ct', 'manual_annot_ct_fine', 'manual_annot_region', 'annot_level_1', 'annot_level_2', 'annot_level_3', 'annot_level_4', 'annot_region'\n",
       "    var: 'ensembl', 'gene_symbol', 'mt', 'n_cells_by_counts', 'mean_counts', 'log1p_mean_counts', 'pct_dropout_by_counts', 'total_counts', 'log1p_total_counts', 'gene_length', 'highly_variable', 'highly_variable_rank', 'means', 'variances', 'variances_norm', 'highly_variable_nbatches'\n",
       "    uns: 'hvg', 'knn_pca_rss', 'knn_pca_unintegrated', 'knn_scpoli', 'log1p'\n",
       "    obsm: 'X_benchmark_aggr_scpoli_level1', 'X_benchmark_aggr_scpoli_level123', 'X_benchmark_scanvi_level1', 'X_benchmark_scanvi_level12', 'X_benchmark_scanvi_level123', 'X_benchmark_scpoli_level1', 'X_benchmark_scpoli_level12', 'X_benchmark_scpoli_level123', 'X_benchmark_scvi', 'X_pca_rss', 'X_pca_unintegrated', 'X_rss', 'X_scpoli', 'X_umap_benchmark_aggr_scpoli_level1', 'X_umap_benchmark_aggr_scpoli_level123', 'X_umap_pca_rss', 'X_umap_pca_unintegrated', 'X_umap_scpoli'\n",
       "    layers: 'counts', 'counts_lengthnorm', 'lognorm'\n",
       "    obsp: 'knn_pca_rss_connectivities', 'knn_pca_rss_distances', 'knn_pca_unintegrated_connectivities', 'knn_pca_unintegrated_distances', 'knn_scpoli_connectivities', 'knn_scpoli_distances'"
      ]
     },
     "execution_count": 3,
     "metadata": {},
     "output_type": "execute_result"
    }
   ],
   "source": [
    "adata = sc.read('../data/raw/230620_10_updated_manual_annotation.h5ad', backed='r')\n",
    "adata"
   ]
  },
  {
   "cell_type": "code",
   "execution_count": 36,
   "id": "524e509f-1402-46e7-b8c3-fb08e83b8346",
   "metadata": {},
   "outputs": [
    {
     "data": {
      "text/plain": [
       "AnnData object with n_obs × n_vars = 1770578 × 10\n",
       "    obs: 'assay_sc', 'assay_differentiation', 'assay_type_differentiation', 'bio_sample', 'cell_line', 'cell_type', 'development_stage', 'disease', 'ethnicity', 'gm', 'id', 'individual', 'organ', 'organism', 'sex', 'state_exact', 'sample_source', 'source_doi', 'suspension_type_original', 'tech_sample', 'treatment', 'assay_sc_original', 'cell_line_original', 'cell_type_original', 'development_stage_original', 'disease_original', 'ethnicity_original', 'organ_original', 'organism_original', 'sex_original', 'suspension_type', 'obs_names_original', 'organoid_age_days', 'publication', 'doi', 'batch', 'n_genes_by_counts', 'log1p_n_genes_by_counts', 'total_counts', 'log1p_total_counts', 'total_counts_mt', 'log1p_total_counts_mt', 'pct_counts_mt', 'leiden_pca_unintegrated_1', 'leiden_pca_unintegrated_80', 'leiden_pca_rss_1', 'leiden_pca_rss_80', 'snapseed_pca_unintegrated_level_1', 'snapseed_pca_unintegrated_level_2', 'snapseed_pca_unintegrated_level_3', 'snapseed_pca_unintegrated_level_4', 'snapseed_pca_unintegrated_level_5', 'snapseed_pca_unintegrated_level_12', 'snapseed_pca_unintegrated_level_123', 'snapseed_pca_unintegrated_level_1234', 'snapseed_pca_unintegrated_level_12345', 'snapseed_pca_rss_level_1', 'snapseed_pca_rss_level_2', 'snapseed_pca_rss_level_3', 'snapseed_pca_rss_level_4', 'snapseed_pca_rss_level_5', 'snapseed_pca_rss_level_12', 'snapseed_pca_rss_level_123', 'snapseed_pca_rss_level_1234', 'snapseed_pca_rss_level_12345', 'leiden_scpoli_1', 'leiden_scpoli_80', 'snapseed_scpoli_level_1', 'snapseed_scpoli_level_2', 'snapseed_scpoli_level_3', 'snapseed_scpoli_level_4', 'snapseed_scpoli_level_5', 'snapseed_scpoli_level_12', 'snapseed_scpoli_level_123', 'snapseed_scpoli_level_1234', 'snapseed_scpoli_level_12345', 'ECM_raw', 'ROCK_inhibitor_raw', 'BMP_activator_raw', 'TGF_B_activator_raw', 'TGF_B_inhibitor_raw', 'BMP_inhibitor_raw', 'WNT_activator_raw', 'WNT_inhibitor_raw', 'EGF_raw', 'FGF2_raw', 'FGF8_raw', 'SHH_agonist_raw', 'RA_raw', 'MEK_ERK_inhibitor_raw', 'Notch_inhibitor_raw', 'manual_annot_ct', 'manual_annot_ct_fine', 'manual_annot_region', 'annot_level_1', 'annot_level_2', 'annot_level_3', 'annot_level_4', 'annot_region'\n",
       "    obsm: 'X_umap'"
      ]
     },
     "execution_count": 36,
     "metadata": {},
     "output_type": "execute_result"
    }
   ],
   "source": [
    "adata_ = sc.AnnData(adata.obsm['X_scpoli'], obs=adata.obs)\n",
    "adata_.obsm['X_umap'] = adata.obsm['X_umap_scpoli']\n",
    "adata_"
   ]
  },
  {
   "cell_type": "code",
   "execution_count": 37,
   "id": "60d8cf27-8bde-4ed2-aa22-66251a19a60d",
   "metadata": {},
   "outputs": [
    {
     "data": {
      "text/plain": [
       "assay_type_differentiation\n",
       "guided      70\n",
       "unguided    11\n",
       "Name: count, dtype: int64"
      ]
     },
     "execution_count": 37,
     "metadata": {},
     "output_type": "execute_result"
    }
   ],
   "source": [
    "adata_.obs[['assay_type_differentiation', 'id']].drop_duplicates().value_counts('assay_type_differentiation')"
   ]
  },
  {
   "cell_type": "code",
   "execution_count": 38,
   "id": "2a48deda-3f9f-480e-8ab1-d9f2f056b9fb",
   "metadata": {},
   "outputs": [
    {
     "data": {
      "text/plain": [
       "70"
      ]
     },
     "execution_count": 38,
     "metadata": {},
     "output_type": "execute_result"
    }
   ],
   "source": [
    "guided_samples = np.unique(adata_[adata_.obs['assay_type_differentiation'] == 'guided'].obs['id'])\n",
    "len(guided_samples)"
   ]
  },
  {
   "cell_type": "code",
   "execution_count": 39,
   "id": "dffdde18-9474-4b27-9bc1-a24bf590f9b6",
   "metadata": {},
   "outputs": [],
   "source": [
    "keep_guided_samples = random.sample(list(guided_samples), 11)"
   ]
  },
  {
   "cell_type": "code",
   "execution_count": 40,
   "id": "995d820b-28b6-4e89-89b2-d7182c5bc286",
   "metadata": {},
   "outputs": [
    {
     "data": {
      "text/plain": [
       "View of AnnData object with n_obs × n_vars = 444132 × 10\n",
       "    obs: 'assay_sc', 'assay_differentiation', 'assay_type_differentiation', 'bio_sample', 'cell_line', 'cell_type', 'development_stage', 'disease', 'ethnicity', 'gm', 'id', 'individual', 'organ', 'organism', 'sex', 'state_exact', 'sample_source', 'source_doi', 'suspension_type_original', 'tech_sample', 'treatment', 'assay_sc_original', 'cell_line_original', 'cell_type_original', 'development_stage_original', 'disease_original', 'ethnicity_original', 'organ_original', 'organism_original', 'sex_original', 'suspension_type', 'obs_names_original', 'organoid_age_days', 'publication', 'doi', 'batch', 'n_genes_by_counts', 'log1p_n_genes_by_counts', 'total_counts', 'log1p_total_counts', 'total_counts_mt', 'log1p_total_counts_mt', 'pct_counts_mt', 'leiden_pca_unintegrated_1', 'leiden_pca_unintegrated_80', 'leiden_pca_rss_1', 'leiden_pca_rss_80', 'snapseed_pca_unintegrated_level_1', 'snapseed_pca_unintegrated_level_2', 'snapseed_pca_unintegrated_level_3', 'snapseed_pca_unintegrated_level_4', 'snapseed_pca_unintegrated_level_5', 'snapseed_pca_unintegrated_level_12', 'snapseed_pca_unintegrated_level_123', 'snapseed_pca_unintegrated_level_1234', 'snapseed_pca_unintegrated_level_12345', 'snapseed_pca_rss_level_1', 'snapseed_pca_rss_level_2', 'snapseed_pca_rss_level_3', 'snapseed_pca_rss_level_4', 'snapseed_pca_rss_level_5', 'snapseed_pca_rss_level_12', 'snapseed_pca_rss_level_123', 'snapseed_pca_rss_level_1234', 'snapseed_pca_rss_level_12345', 'leiden_scpoli_1', 'leiden_scpoli_80', 'snapseed_scpoli_level_1', 'snapseed_scpoli_level_2', 'snapseed_scpoli_level_3', 'snapseed_scpoli_level_4', 'snapseed_scpoli_level_5', 'snapseed_scpoli_level_12', 'snapseed_scpoli_level_123', 'snapseed_scpoli_level_1234', 'snapseed_scpoli_level_12345', 'ECM_raw', 'ROCK_inhibitor_raw', 'BMP_activator_raw', 'TGF_B_activator_raw', 'TGF_B_inhibitor_raw', 'BMP_inhibitor_raw', 'WNT_activator_raw', 'WNT_inhibitor_raw', 'EGF_raw', 'FGF2_raw', 'FGF8_raw', 'SHH_agonist_raw', 'RA_raw', 'MEK_ERK_inhibitor_raw', 'Notch_inhibitor_raw', 'manual_annot_ct', 'manual_annot_ct_fine', 'manual_annot_region', 'annot_level_1', 'annot_level_2', 'annot_level_3', 'annot_level_4', 'annot_region'\n",
       "    obsm: 'X_umap'"
      ]
     },
     "execution_count": 40,
     "metadata": {},
     "output_type": "execute_result"
    }
   ],
   "source": [
    "adata_ = adata_[(adata_.obs['id'].isin(keep_guided_samples)) | (adata_.obs['assay_type_differentiation'] == 'unguided')]\n",
    "adata_"
   ]
  },
  {
   "cell_type": "code",
   "execution_count": 41,
   "id": "47e45a7b-445f-4ff3-9662-4d9950950990",
   "metadata": {},
   "outputs": [
    {
     "data": {
      "text/plain": [
       "assay_type_differentiation\n",
       "guided      11\n",
       "unguided    11\n",
       "Name: count, dtype: int64"
      ]
     },
     "execution_count": 41,
     "metadata": {},
     "output_type": "execute_result"
    }
   ],
   "source": [
    "adata_.obs[['assay_type_differentiation', 'id']].drop_duplicates().value_counts('assay_type_differentiation')"
   ]
  },
  {
   "cell_type": "code",
   "execution_count": 42,
   "id": "2a77c006-cdc8-4ab8-ae1e-ba1906065723",
   "metadata": {},
   "outputs": [],
   "source": [
    "from sklearn.model_selection import KFold"
   ]
  },
  {
   "cell_type": "code",
   "execution_count": 43,
   "id": "4c6c4918-44dd-4d71-b25d-dbbf2cb3f8c8",
   "metadata": {},
   "outputs": [],
   "source": [
    "kf = KFold(n_splits=5, random_state=1, shuffle=True)"
   ]
  },
  {
   "cell_type": "code",
   "execution_count": 44,
   "id": "0782e20f-99f7-4785-9d50-4e76cc05ccd3",
   "metadata": {},
   "outputs": [
    {
     "data": {
      "text/plain": [
       "array(['homosapiens_arcuatenucleusofhypothalamus_2021_dropseq_huangweikai_003_d10_1016_j_stem_2021_04_006',\n",
       "       'homosapiens_brain_2019_10x3v2_kantonsabina_001_d10_1038_s41586_019_1654_9',\n",
       "       'homosapiens_brain_2020_quartzseq_sawadatomoyo_005_d10_1038_s41380_020_0844_z',\n",
       "       'homosapiens_brain_2020_quartzseq_sawadatomoyo_006_d10_1038_s41380_020_0844_z',\n",
       "       'homosapiens_brain_2020_quartzseq_sawadatomoyo_007_d10_1038_s41380_020_0844_z',\n",
       "       'homosapiens_brain_2020_quartzseq_sawadatomoyo_008_d10_1038_s41380_020_0844_z',\n",
       "       'homosapiens_brain_2021_10x3v3_samarasingheranmala_001_d10_1038_s41593_021_00906_5',\n",
       "       'homosapiens_brain_2022_10x3v2_uzquianoana_012_d10_1016_j_cell_2022_09_010',\n",
       "       'homosapiens_brain_2022_10x3v2_uzquianoana_013_d10_1016_j_cell_2022_09_010',\n",
       "       'homosapiens_brain_2022_10x3v3_fleckjonassimon_001_d10_1038_s41586_022_05279_8',\n",
       "       'homosapiens_brain_2022_10x3v3_hezhisong_001_d10_1038_s41592_021_01344_8',\n",
       "       'homosapiens_brain_2022_10x3v3_hezhisong_002_d10_1038_s41592_021_01344_8',\n",
       "       'homosapiens_brain_2022_10x3v3_hezhisong_003_d10_1038_s41592_021_01344_8',\n",
       "       'homosapiens_cerebralcortex_2019_10x3v2_trujillocleber_003_d10_1016_j_stem_2019_08_002',\n",
       "       'homosapiens_cerebralcortex_2019_bdrhapsodywholetranscriptomeanalysis_yoonsejin_002_d10_1038_s41592_018_0255_0',\n",
       "       'homosapiens_cerebralcortex_2019_bdrhapsodywholetranscriptomeanalysis_yoonsejin_003_d10_1038_s41592_018_0255_0',\n",
       "       'homosapiens_cerebralcortex_2021_citeseq(samplemultiplexing)_bowleskathryn_003_d10_1016_j_cell_2021_07_003',\n",
       "       'homosapiens_telencephalon_2022_10x3v3_paulsenbruna_003_d10_1038_s41586_021_04358_6',\n",
       "       'homosapiens_telencephalon_2022_10x3v3_paulsenbruna_012_d10_1038_s41586_021_04358_6',\n",
       "       'homosapiens_telencephalon_2022_10x3v3_paulsenbruna_014_d10_1038_s41586_021_04358_6',\n",
       "       'homosapiens_telencephalon_2022_10x3v3_uzquianoana_002_d10_1016_j_cell_2022_09_010',\n",
       "       'homosapiens_telencephalon_2022_10x3v3_uzquianoana_004_d10_1016_j_cell_2022_09_010'],\n",
       "      dtype=object)"
      ]
     },
     "execution_count": 44,
     "metadata": {},
     "output_type": "execute_result"
    }
   ],
   "source": [
    "samples = np.unique(adata_.obs['id'])\n",
    "samples"
   ]
  },
  {
   "cell_type": "code",
   "execution_count": 45,
   "id": "dcbdf7b7-feb4-4ec4-b566-9ead246ab908",
   "metadata": {},
   "outputs": [
    {
     "name": "stderr",
     "output_type": "stream",
     "text": [
      "/tmp/ipykernel_237646/387549997.py:7: ImplicitModificationWarning: Trying to modify attribute `.obs` of view, initializing view as actual.\n",
      "  adata_.obs[f'split_{i}'] = np.nan\n"
     ]
    }
   ],
   "source": [
    "train_test_sizes = []\n",
    "i = 0\n",
    "\n",
    "for train_index, val_index in kf.split(samples):\n",
    "    train_samples = samples[train_index]\n",
    "    val_samples = samples[val_index]\n",
    "    adata_.obs[f'split_{i}'] = np.nan\n",
    "    adata_.obs.loc[adata_.obs['id'].isin(train_samples), f'split_{i}'] = 'train'\n",
    "    adata_.obs.loc[adata_.obs['id'].isin(val_samples), f'split_{i}'] = 'val'\n",
    "    adata_train = adata_[adata_.obs[f'split_{i}'] == 'train'].copy()\n",
    "    adata_test = adata_[adata_.obs[f'split_{i}'] == 'val'].copy()\n",
    "    train_conditions = set(adata_train.obs['assay_type_differentiation'].cat.categories)\n",
    "    test_conditions = set(adata_test.obs['assay_type_differentiation'].cat.categories)\n",
    "    if not test_conditions.issubset(train_conditions):\n",
    "        continue\n",
    "    i += 1\n",
    "    train_test_sizes.append((len(adata_train), len(adata_test)))"
   ]
  },
  {
   "cell_type": "code",
   "execution_count": 46,
   "id": "d01fb7a9-2e18-4228-8c99-cab198fdea53",
   "metadata": {},
   "outputs": [
    {
     "data": {
      "text/plain": [
       "[(344901, 99231),\n",
       " (413819, 30313),\n",
       " (322541, 121591),\n",
       " (356684, 87448),\n",
       " (338583, 105549)]"
      ]
     },
     "execution_count": 46,
     "metadata": {},
     "output_type": "execute_result"
    }
   ],
   "source": [
    "train_test_sizes"
   ]
  },
  {
   "cell_type": "code",
   "execution_count": 47,
   "id": "395133b5-1f28-4797-9c5f-f95ba7a517eb",
   "metadata": {},
   "outputs": [
    {
     "data": {
      "text/plain": [
       "AnnData object with n_obs × n_vars = 444132 × 10\n",
       "    obs: 'assay_sc', 'assay_differentiation', 'assay_type_differentiation', 'bio_sample', 'cell_line', 'cell_type', 'development_stage', 'disease', 'ethnicity', 'gm', 'id', 'individual', 'organ', 'organism', 'sex', 'state_exact', 'sample_source', 'source_doi', 'suspension_type_original', 'tech_sample', 'treatment', 'assay_sc_original', 'cell_line_original', 'cell_type_original', 'development_stage_original', 'disease_original', 'ethnicity_original', 'organ_original', 'organism_original', 'sex_original', 'suspension_type', 'obs_names_original', 'organoid_age_days', 'publication', 'doi', 'batch', 'n_genes_by_counts', 'log1p_n_genes_by_counts', 'total_counts', 'log1p_total_counts', 'total_counts_mt', 'log1p_total_counts_mt', 'pct_counts_mt', 'leiden_pca_unintegrated_1', 'leiden_pca_unintegrated_80', 'leiden_pca_rss_1', 'leiden_pca_rss_80', 'snapseed_pca_unintegrated_level_1', 'snapseed_pca_unintegrated_level_2', 'snapseed_pca_unintegrated_level_3', 'snapseed_pca_unintegrated_level_4', 'snapseed_pca_unintegrated_level_5', 'snapseed_pca_unintegrated_level_12', 'snapseed_pca_unintegrated_level_123', 'snapseed_pca_unintegrated_level_1234', 'snapseed_pca_unintegrated_level_12345', 'snapseed_pca_rss_level_1', 'snapseed_pca_rss_level_2', 'snapseed_pca_rss_level_3', 'snapseed_pca_rss_level_4', 'snapseed_pca_rss_level_5', 'snapseed_pca_rss_level_12', 'snapseed_pca_rss_level_123', 'snapseed_pca_rss_level_1234', 'snapseed_pca_rss_level_12345', 'leiden_scpoli_1', 'leiden_scpoli_80', 'snapseed_scpoli_level_1', 'snapseed_scpoli_level_2', 'snapseed_scpoli_level_3', 'snapseed_scpoli_level_4', 'snapseed_scpoli_level_5', 'snapseed_scpoli_level_12', 'snapseed_scpoli_level_123', 'snapseed_scpoli_level_1234', 'snapseed_scpoli_level_12345', 'ECM_raw', 'ROCK_inhibitor_raw', 'BMP_activator_raw', 'TGF_B_activator_raw', 'TGF_B_inhibitor_raw', 'BMP_inhibitor_raw', 'WNT_activator_raw', 'WNT_inhibitor_raw', 'EGF_raw', 'FGF2_raw', 'FGF8_raw', 'SHH_agonist_raw', 'RA_raw', 'MEK_ERK_inhibitor_raw', 'Notch_inhibitor_raw', 'manual_annot_ct', 'manual_annot_ct_fine', 'manual_annot_region', 'annot_level_1', 'annot_level_2', 'annot_level_3', 'annot_level_4', 'annot_region', 'split_0', 'split_1', 'split_2', 'split_3', 'split_4'\n",
       "    obsm: 'X_umap'"
      ]
     },
     "execution_count": 47,
     "metadata": {},
     "output_type": "execute_result"
    }
   ],
   "source": [
    "adata_"
   ]
  },
  {
   "cell_type": "code",
   "execution_count": 48,
   "id": "85fce124-a4e0-42aa-961c-b9a9b284ca1d",
   "metadata": {},
   "outputs": [],
   "source": [
    "adata_.write('../data/organoid_atlas_subset.h5ad')"
   ]
  },
  {
   "cell_type": "code",
   "execution_count": 4,
   "id": "42b4934e-b66c-4235-b2fd-3712db7414e3",
   "metadata": {},
   "outputs": [
    {
     "data": {
      "text/plain": [
       "AnnData object with n_obs × n_vars = 444132 × 10\n",
       "    obs: 'assay_sc', 'assay_differentiation', 'assay_type_differentiation', 'bio_sample', 'cell_line', 'cell_type', 'development_stage', 'disease', 'ethnicity', 'gm', 'id', 'individual', 'organ', 'organism', 'sex', 'state_exact', 'sample_source', 'source_doi', 'suspension_type_original', 'tech_sample', 'treatment', 'assay_sc_original', 'cell_line_original', 'cell_type_original', 'development_stage_original', 'disease_original', 'ethnicity_original', 'organ_original', 'organism_original', 'sex_original', 'suspension_type', 'obs_names_original', 'organoid_age_days', 'publication', 'doi', 'batch', 'n_genes_by_counts', 'log1p_n_genes_by_counts', 'total_counts', 'log1p_total_counts', 'total_counts_mt', 'log1p_total_counts_mt', 'pct_counts_mt', 'leiden_pca_unintegrated_1', 'leiden_pca_unintegrated_80', 'leiden_pca_rss_1', 'leiden_pca_rss_80', 'snapseed_pca_unintegrated_level_1', 'snapseed_pca_unintegrated_level_2', 'snapseed_pca_unintegrated_level_3', 'snapseed_pca_unintegrated_level_4', 'snapseed_pca_unintegrated_level_5', 'snapseed_pca_unintegrated_level_12', 'snapseed_pca_unintegrated_level_123', 'snapseed_pca_unintegrated_level_1234', 'snapseed_pca_unintegrated_level_12345', 'snapseed_pca_rss_level_1', 'snapseed_pca_rss_level_2', 'snapseed_pca_rss_level_3', 'snapseed_pca_rss_level_4', 'snapseed_pca_rss_level_5', 'snapseed_pca_rss_level_12', 'snapseed_pca_rss_level_123', 'snapseed_pca_rss_level_1234', 'snapseed_pca_rss_level_12345', 'leiden_scpoli_1', 'leiden_scpoli_80', 'snapseed_scpoli_level_1', 'snapseed_scpoli_level_2', 'snapseed_scpoli_level_3', 'snapseed_scpoli_level_4', 'snapseed_scpoli_level_5', 'snapseed_scpoli_level_12', 'snapseed_scpoli_level_123', 'snapseed_scpoli_level_1234', 'snapseed_scpoli_level_12345', 'ECM_raw', 'ROCK_inhibitor_raw', 'BMP_activator_raw', 'TGF_B_activator_raw', 'TGF_B_inhibitor_raw', 'BMP_inhibitor_raw', 'WNT_activator_raw', 'WNT_inhibitor_raw', 'EGF_raw', 'FGF2_raw', 'FGF8_raw', 'SHH_agonist_raw', 'RA_raw', 'MEK_ERK_inhibitor_raw', 'Notch_inhibitor_raw', 'manual_annot_ct', 'manual_annot_ct_fine', 'manual_annot_region', 'annot_level_1', 'annot_level_2', 'annot_level_3', 'annot_level_4', 'annot_region', 'split_0', 'split_1', 'split_2', 'split_3', 'split_4'\n",
       "    obsm: 'X_umap'"
      ]
     },
     "execution_count": 4,
     "metadata": {},
     "output_type": "execute_result"
    }
   ],
   "source": [
    "adata_ = sc.read('../data/organoid_atlas_subset.h5ad')\n",
    "adata_"
   ]
  },
  {
   "cell_type": "code",
   "execution_count": 6,
   "id": "0b9e5f5a-7747-4896-8186-17475d008fc2",
   "metadata": {},
   "outputs": [],
   "source": [
    "adata_.obs = adata_.obs.rename(\n",
    "    columns={\n",
    "        'split_0': 'split0',\n",
    "        'split_1': 'split1',\n",
    "        'split_2': 'split2',\n",
    "        'split_3': 'split3',\n",
    "        'split_4': 'split4'\n",
    "    }\n",
    ")"
   ]
  },
  {
   "cell_type": "code",
   "execution_count": 7,
   "id": "a7c79a19-469d-4ec9-bd6a-45de8427dda8",
   "metadata": {},
   "outputs": [
    {
     "data": {
      "text/plain": [
       "AnnData object with n_obs × n_vars = 444132 × 10\n",
       "    obs: 'assay_sc', 'assay_differentiation', 'assay_type_differentiation', 'bio_sample', 'cell_line', 'cell_type', 'development_stage', 'disease', 'ethnicity', 'gm', 'id', 'individual', 'organ', 'organism', 'sex', 'state_exact', 'sample_source', 'source_doi', 'suspension_type_original', 'tech_sample', 'treatment', 'assay_sc_original', 'cell_line_original', 'cell_type_original', 'development_stage_original', 'disease_original', 'ethnicity_original', 'organ_original', 'organism_original', 'sex_original', 'suspension_type', 'obs_names_original', 'organoid_age_days', 'publication', 'doi', 'batch', 'n_genes_by_counts', 'log1p_n_genes_by_counts', 'total_counts', 'log1p_total_counts', 'total_counts_mt', 'log1p_total_counts_mt', 'pct_counts_mt', 'leiden_pca_unintegrated_1', 'leiden_pca_unintegrated_80', 'leiden_pca_rss_1', 'leiden_pca_rss_80', 'snapseed_pca_unintegrated_level_1', 'snapseed_pca_unintegrated_level_2', 'snapseed_pca_unintegrated_level_3', 'snapseed_pca_unintegrated_level_4', 'snapseed_pca_unintegrated_level_5', 'snapseed_pca_unintegrated_level_12', 'snapseed_pca_unintegrated_level_123', 'snapseed_pca_unintegrated_level_1234', 'snapseed_pca_unintegrated_level_12345', 'snapseed_pca_rss_level_1', 'snapseed_pca_rss_level_2', 'snapseed_pca_rss_level_3', 'snapseed_pca_rss_level_4', 'snapseed_pca_rss_level_5', 'snapseed_pca_rss_level_12', 'snapseed_pca_rss_level_123', 'snapseed_pca_rss_level_1234', 'snapseed_pca_rss_level_12345', 'leiden_scpoli_1', 'leiden_scpoli_80', 'snapseed_scpoli_level_1', 'snapseed_scpoli_level_2', 'snapseed_scpoli_level_3', 'snapseed_scpoli_level_4', 'snapseed_scpoli_level_5', 'snapseed_scpoli_level_12', 'snapseed_scpoli_level_123', 'snapseed_scpoli_level_1234', 'snapseed_scpoli_level_12345', 'ECM_raw', 'ROCK_inhibitor_raw', 'BMP_activator_raw', 'TGF_B_activator_raw', 'TGF_B_inhibitor_raw', 'BMP_inhibitor_raw', 'WNT_activator_raw', 'WNT_inhibitor_raw', 'EGF_raw', 'FGF2_raw', 'FGF8_raw', 'SHH_agonist_raw', 'RA_raw', 'MEK_ERK_inhibitor_raw', 'Notch_inhibitor_raw', 'manual_annot_ct', 'manual_annot_ct_fine', 'manual_annot_region', 'annot_level_1', 'annot_level_2', 'annot_level_3', 'annot_level_4', 'annot_region', 'split0', 'split1', 'split2', 'split3', 'split4'\n",
       "    obsm: 'X_umap'"
      ]
     },
     "execution_count": 7,
     "metadata": {},
     "output_type": "execute_result"
    }
   ],
   "source": [
    "adata_"
   ]
  },
  {
   "cell_type": "code",
   "execution_count": 8,
   "id": "ad582a1a-2564-4a85-99b2-d44d76ed5839",
   "metadata": {},
   "outputs": [],
   "source": [
    "adata_.write('../data/organoid_atlas_subset.h5ad')"
   ]
  },
  {
   "cell_type": "code",
   "execution_count": null,
   "id": "1966fcf0-b525-42b9-a417-82688e93993b",
   "metadata": {},
   "outputs": [],
   "source": []
  }
 ],
 "metadata": {
  "kernelspec": {
   "display_name": "Python 3 (ipykernel)",
   "language": "python",
   "name": "python3"
  },
  "language_info": {
   "codemirror_mode": {
    "name": "ipython",
    "version": 3
   },
   "file_extension": ".py",
   "mimetype": "text/x-python",
   "name": "python",
   "nbconvert_exporter": "python",
   "pygments_lexer": "ipython3",
   "version": "3.10.14"
  }
 },
 "nbformat": 4,
 "nbformat_minor": 5
}
