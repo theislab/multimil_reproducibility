{
 "cells": [
  {
   "cell_type": "code",
   "execution_count": 1,
   "id": "209de3f1-61fa-439d-a896-332baaf862d9",
   "metadata": {},
   "outputs": [],
   "source": [
    "x=1"
   ]
  },
  {
   "cell_type": "code",
   "execution_count": 2,
   "id": "4a79db17-8854-4e6e-93d9-399e0eb7017a",
   "metadata": {},
   "outputs": [],
   "source": [
    "import scanpy as sc"
   ]
  },
  {
   "cell_type": "code",
   "execution_count": 3,
   "id": "3bdeff21-194c-495f-920e-ae6ec027c3b0",
   "metadata": {},
   "outputs": [
    {
     "data": {
      "text/plain": [
       "AnnData object with n_obs × n_vars = 362426 × 2192\n",
       "    obs: 'sample_id', 'n_genes', 'n_genes_by_counts', 'total_counts', 'total_counts_mt', 'pct_counts_mt', 'full_clustering', 'initial_clustering', 'Resample', 'Collection_Day', 'Sex', 'Age_interval', 'Swab_result', 'Status', 'Smoker', 'Status_on_day_collection', 'Status_on_day_collection_summary', 'Days_from_onset', 'Site', 'time_after_LPS', 'Worst_Clinical_Status', 'Outcome', 'patient_id', 'split0', 'split1', 'split2', 'split3', 'split4', 'group', 'size_factors', '_scvi_batch'\n",
       "    var: 'modality'\n",
       "    uns: 'Site_colors', 'Status_on_day_collection_summary_colors', '_scvi_manager_uuid', '_scvi_uuid', 'full_clustering_colors', 'initial_clustering_colors', 'modality_lengths', 'neighbors', 'patient_id_colors', 'umap'\n",
       "    obsm: 'X_umap', '_scvi_extra_categorical_covs', 'latent'\n",
       "    layers: 'counts'\n",
       "    obsp: 'connectivities', 'distances'"
      ]
     },
     "execution_count": 3,
     "metadata": {},
     "output_type": "execute_result"
    }
   ],
   "source": [
    "adata_clean = sc.read('../../../pipeline/data/pp/mtg3_clean_healthy_covid_embed.h5ad')\n",
    "adata_clean"
   ]
  },
  {
   "cell_type": "code",
   "execution_count": 4,
   "id": "f5292a0e-a7ff-436b-b4c5-45313f1df8e3",
   "metadata": {},
   "outputs": [
    {
     "data": {
      "text/plain": [
       "AnnData object with n_obs × n_vars = 365712 × 2192\n",
       "    obs: 'sample_id', 'n_genes', 'n_genes_by_counts', 'total_counts', 'total_counts_mt', 'pct_counts_mt', 'full_clustering', 'initial_clustering', 'Resample', 'Collection_Day', 'Sex', 'Age_interval', 'Swab_result', 'Status', 'Smoker', 'Status_on_day_collection', 'Status_on_day_collection_summary', 'Days_from_onset', 'Site', 'time_after_LPS', 'Worst_Clinical_Status', 'Outcome', 'patient_id', 'split0', 'split1', 'split2', 'split3', 'split4', 'group', 'size_factors', '_scvi_batch'\n",
       "    var: 'modality'\n",
       "    uns: 'Site_colors', 'Status_on_day_collection_summary_colors', '_scvi_manager_uuid', '_scvi_uuid', 'initial_clustering_colors', 'modality_lengths', 'neighbors', 'umap'\n",
       "    obsm: 'X_umap', '_scvi_extra_categorical_covs', 'latent'\n",
       "    layers: 'counts'\n",
       "    obsp: 'connectivities', 'distances'"
      ]
     },
     "execution_count": 4,
     "metadata": {},
     "output_type": "execute_result"
    }
   ],
   "source": [
    "adata = sc.read('../../../pipeline/data/pp/pbmc_healthy_covid_3cond_balanced_multigrate.h5ad')\n",
    "adata"
   ]
  },
  {
   "cell_type": "code",
   "execution_count": 7,
   "id": "66753107-3e0e-4f0b-b52c-23d2e29a6562",
   "metadata": {},
   "outputs": [
    {
     "data": {
      "text/plain": [
       "AnnData object with n_obs × n_vars = 362426 × 16\n",
       "    obs: 'sample_id', 'n_genes', 'n_genes_by_counts', 'total_counts', 'total_counts_mt', 'pct_counts_mt', 'full_clustering', 'initial_clustering', 'Resample', 'Collection_Day', 'Sex', 'Age_interval', 'Swab_result', 'Status', 'Smoker', 'Status_on_day_collection', 'Status_on_day_collection_summary', 'Days_from_onset', 'Site', 'time_after_LPS', 'Worst_Clinical_Status', 'Outcome', 'patient_id', 'split0', 'split1', 'split2', 'split3', 'split4', 'group', 'size_factors', '_scvi_batch'\n",
       "    obsm: 'X_umap'"
      ]
     },
     "execution_count": 7,
     "metadata": {},
     "output_type": "execute_result"
    }
   ],
   "source": [
    "tmp = sc.AnnData(adata_clean.obsm['latent'])\n",
    "tmp.obs_names = adata_clean.obs_names\n",
    "tmp.obs = tmp.obs.join(adata.obs)\n",
    "tmp.obsm['X_umap'] = adata[tmp.obs_names].obsm['X_umap']\n",
    "tmp"
   ]
  },
  {
   "cell_type": "code",
   "execution_count": 8,
   "id": "174dea5f-33c6-4f3e-abf6-16f9b38b20a9",
   "metadata": {},
   "outputs": [
    {
     "data": {
      "text/plain": [
       "covid_index\n",
       "AAACCTGAGACCACGA-newcastle65    Healthy\n",
       "AAACCTGAGATGTCGG-newcastle65    Healthy\n",
       "AAACCTGAGGCGATAC-newcastle65    Healthy\n",
       "AAACCTGAGTACACCT-newcastle65    Healthy\n",
       "AAACCTGAGTGAATTG-newcastle65    Healthy\n",
       "                                 ...   \n",
       "BGCV15_TTTGTCAAGGCGATAC-1        Severe\n",
       "BGCV15_TTTGTCACAAGCCATT-1       Healthy\n",
       "BGCV15_TTTGTCACAGACACTT-1          Mild\n",
       "BGCV15_TTTGTCAGTTACGGAG-1          Mild\n",
       "BGCV15_TTTGTCATCGAATGGG-1        Severe\n",
       "Name: Status_on_day_collection_summary, Length: 362426, dtype: category\n",
       "Categories (3, object): ['Healthy', 'Mild', 'Severe']"
      ]
     },
     "execution_count": 8,
     "metadata": {},
     "output_type": "execute_result"
    }
   ],
   "source": [
    "tmp.obs['Status_on_day_collection_summary']"
   ]
  },
  {
   "cell_type": "code",
   "execution_count": 9,
   "id": "e31431af-0c0b-45a9-a6e9-3270afa5fc2a",
   "metadata": {},
   "outputs": [],
   "source": [
    "tmp.write('../../../pipeline/data/pp/mtg3_clean_healthy_covid_3_cond_embed.h5ad')"
   ]
  },
  {
   "cell_type": "code",
   "execution_count": null,
   "id": "427f8101-7a8d-41d5-9918-9bb4d4df0db0",
   "metadata": {},
   "outputs": [],
   "source": []
  }
 ],
 "metadata": {
  "kernelspec": {
   "display_name": "Python 3 (ipykernel)",
   "language": "python",
   "name": "python3"
  },
  "language_info": {
   "codemirror_mode": {
    "name": "ipython",
    "version": 3
   },
   "file_extension": ".py",
   "mimetype": "text/x-python",
   "name": "python",
   "nbconvert_exporter": "python",
   "pygments_lexer": "ipython3",
   "version": "3.10.12"
  }
 },
 "nbformat": 4,
 "nbformat_minor": 5
}
