{
 "cells": [
  {
   "cell_type": "code",
   "execution_count": 1,
   "id": "5499bd2f-608b-47b5-8328-b8592f374092",
   "metadata": {},
   "outputs": [],
   "source": [
    "x=1"
   ]
  },
  {
   "cell_type": "code",
   "execution_count": 13,
   "id": "3938d46e-0e78-4628-9811-ef8238406d3d",
   "metadata": {
    "tags": []
   },
   "outputs": [],
   "source": [
    "from matplotlib import pyplot as plt\n",
    "import pandas as pd\n",
    "import numpy as np\n",
    "import multigrate as mtg\n",
    "import multimil as mtm\n",
    "import scanpy as sc\n",
    "import ast\n",
    "import anndata as ad\n",
    "import yaml\n",
    "from pprint import pprint"
   ]
  },
  {
   "cell_type": "code",
   "execution_count": 3,
   "id": "84509a01-cbc9-4315-b290-ecb47b284940",
   "metadata": {},
   "outputs": [],
   "source": [
    "import warnings\n",
    "warnings.filterwarnings('ignore')"
   ]
  },
  {
   "cell_type": "code",
   "execution_count": null,
   "id": "2f7c2937-4583-470d-94a2-1e5c60da9af6",
   "metadata": {},
   "outputs": [],
   "source": []
  },
  {
   "cell_type": "code",
   "execution_count": 29,
   "id": "53e658c8-1b6a-4966-9df4-193e45d74a57",
   "metadata": {},
   "outputs": [
    {
     "data": {
      "text/html": [
       "<div>\n",
       "<style scoped>\n",
       "    .dataframe tbody tr th:only-of-type {\n",
       "        vertical-align: middle;\n",
       "    }\n",
       "\n",
       "    .dataframe tbody tr th {\n",
       "        vertical-align: top;\n",
       "    }\n",
       "\n",
       "    .dataframe thead th {\n",
       "        text-align: right;\n",
       "    }\n",
       "</style>\n",
       "<table border=\"1\" class=\"dataframe\">\n",
       "  <thead>\n",
       "    <tr style=\"text-align: right;\">\n",
       "      <th></th>\n",
       "      <th>hash</th>\n",
       "      <th>accuracy</th>\n",
       "      <th>best_params</th>\n",
       "      <th>best_epoch</th>\n",
       "      <th>best_query_epoch</th>\n",
       "      <th>accuracies</th>\n",
       "      <th>method</th>\n",
       "      <th>task</th>\n",
       "    </tr>\n",
       "  </thead>\n",
       "  <tbody>\n",
       "    <tr>\n",
       "      <th>0</th>\n",
       "      <td>515f8e447b</td>\n",
       "      <td>0.653763</td>\n",
       "      <td>{'norm': 0, 'epochs': 30, 'lr': 1e-05, 'batch_...</td>\n",
       "      <td>NaN</td>\n",
       "      <td>NaN</td>\n",
       "      <td>[0.7426241502051016, 0.5974395448079659, 0.603...</td>\n",
       "      <td>gex_nn</td>\n",
       "      <td>hlca_healthy_ipf_embed_balanced</td>\n",
       "    </tr>\n",
       "    <tr>\n",
       "      <th>1</th>\n",
       "      <td>7cd18299c8</td>\n",
       "      <td>0.764306</td>\n",
       "      <td>{'norm': 0}</td>\n",
       "      <td>NaN</td>\n",
       "      <td>NaN</td>\n",
       "      <td>[0.7695709717461179, 0.7917755075649813, 0.689...</td>\n",
       "      <td>gex_rf</td>\n",
       "      <td>hlca_healthy_ipf_embed_balanced</td>\n",
       "    </tr>\n",
       "    <tr>\n",
       "      <th>2</th>\n",
       "      <td>b2e8c62cf5</td>\n",
       "      <td>0.992275</td>\n",
       "      <td>{'lr': 0.001, 'rna_indices_end': 30, 'categori...</td>\n",
       "      <td>39.0</td>\n",
       "      <td>NaN</td>\n",
       "      <td>[0.9864115021332216, 0.9981378507694296, 0.828...</td>\n",
       "      <td>multigrate_mil</td>\n",
       "      <td>hlca_healthy_ipf_embed_balanced</td>\n",
       "    </tr>\n",
       "    <tr>\n",
       "      <th>3</th>\n",
       "      <td>abf12259c5</td>\n",
       "      <td>0.836561</td>\n",
       "      <td>{'norm': 0, 'epochs': 200, 'lr': 0.001, 'batch...</td>\n",
       "      <td>NaN</td>\n",
       "      <td>NaN</td>\n",
       "      <td>[0.9655172413793104, 0.9285714285714286, 0.653...</td>\n",
       "      <td>pb_nn</td>\n",
       "      <td>hlca_healthy_ipf_embed_balanced</td>\n",
       "    </tr>\n",
       "    <tr>\n",
       "      <th>4</th>\n",
       "      <td>1f19733338</td>\n",
       "      <td>0.805682</td>\n",
       "      <td>{'norm': 0}</td>\n",
       "      <td>NaN</td>\n",
       "      <td>NaN</td>\n",
       "      <td>[0.7931034482758621, 0.8571428571428571, 0.692...</td>\n",
       "      <td>pb_rf</td>\n",
       "      <td>hlca_healthy_ipf_embed_balanced</td>\n",
       "    </tr>\n",
       "  </tbody>\n",
       "</table>\n",
       "</div>"
      ],
      "text/plain": [
       "         hash  accuracy                                        best_params  \\\n",
       "0  515f8e447b  0.653763  {'norm': 0, 'epochs': 30, 'lr': 1e-05, 'batch_...   \n",
       "1  7cd18299c8  0.764306                                        {'norm': 0}   \n",
       "2  b2e8c62cf5  0.992275  {'lr': 0.001, 'rna_indices_end': 30, 'categori...   \n",
       "3  abf12259c5  0.836561  {'norm': 0, 'epochs': 200, 'lr': 0.001, 'batch...   \n",
       "4  1f19733338  0.805682                                        {'norm': 0}   \n",
       "\n",
       "   best_epoch  best_query_epoch  \\\n",
       "0         NaN               NaN   \n",
       "1         NaN               NaN   \n",
       "2        39.0               NaN   \n",
       "3         NaN               NaN   \n",
       "4         NaN               NaN   \n",
       "\n",
       "                                          accuracies          method  \\\n",
       "0  [0.7426241502051016, 0.5974395448079659, 0.603...          gex_nn   \n",
       "1  [0.7695709717461179, 0.7917755075649813, 0.689...          gex_rf   \n",
       "2  [0.9864115021332216, 0.9981378507694296, 0.828...  multigrate_mil   \n",
       "3  [0.9655172413793104, 0.9285714285714286, 0.653...           pb_nn   \n",
       "4  [0.7931034482758621, 0.8571428571428571, 0.692...           pb_rf   \n",
       "\n",
       "                              task  \n",
       "0  hlca_healthy_ipf_embed_balanced  \n",
       "1  hlca_healthy_ipf_embed_balanced  \n",
       "2  hlca_healthy_ipf_embed_balanced  \n",
       "3  hlca_healthy_ipf_embed_balanced  \n",
       "4  hlca_healthy_ipf_embed_balanced  "
      ]
     },
     "execution_count": 29,
     "metadata": {},
     "output_type": "execute_result"
    }
   ],
   "source": [
    "df = pd.read_csv('../data/reports/best.tsv', sep='\\t', index_col=None)\n",
    "df"
   ]
  },
  {
   "cell_type": "code",
   "execution_count": 25,
   "id": "06b7284d-930f-4f59-96e1-8547b8be8619",
   "metadata": {},
   "outputs": [
    {
     "data": {
      "text/html": [
       "<div>\n",
       "<style scoped>\n",
       "    .dataframe tbody tr th:only-of-type {\n",
       "        vertical-align: middle;\n",
       "    }\n",
       "\n",
       "    .dataframe tbody tr th {\n",
       "        vertical-align: top;\n",
       "    }\n",
       "\n",
       "    .dataframe thead th {\n",
       "        text-align: right;\n",
       "    }\n",
       "</style>\n",
       "<table border=\"1\" class=\"dataframe\">\n",
       "  <thead>\n",
       "    <tr style=\"text-align: right;\">\n",
       "      <th></th>\n",
       "      <th>hash</th>\n",
       "      <th>accuracy</th>\n",
       "      <th>best_params</th>\n",
       "      <th>best_epoch</th>\n",
       "      <th>best_query_epoch</th>\n",
       "      <th>accuracies</th>\n",
       "      <th>method</th>\n",
       "      <th>task</th>\n",
       "    </tr>\n",
       "  </thead>\n",
       "  <tbody>\n",
       "    <tr>\n",
       "      <th>2</th>\n",
       "      <td>b2e8c62cf5</td>\n",
       "      <td>0.992275</td>\n",
       "      <td>{'lr': 0.001, 'rna_indices_end': 30, 'categori...</td>\n",
       "      <td>39.0</td>\n",
       "      <td>NaN</td>\n",
       "      <td>[0.9864115021332216, 0.9981378507694296, 0.828...</td>\n",
       "      <td>multigrate_mil</td>\n",
       "      <td>hlca_healthy_ipf_embed_balanced</td>\n",
       "    </tr>\n",
       "  </tbody>\n",
       "</table>\n",
       "</div>"
      ],
      "text/plain": [
       "         hash  accuracy                                        best_params  \\\n",
       "2  b2e8c62cf5  0.992275  {'lr': 0.001, 'rna_indices_end': 30, 'categori...   \n",
       "\n",
       "   best_epoch  best_query_epoch  \\\n",
       "2        39.0               NaN   \n",
       "\n",
       "                                          accuracies          method  \\\n",
       "2  [0.9864115021332216, 0.9981378507694296, 0.828...  multigrate_mil   \n",
       "\n",
       "                              task  \n",
       "2  hlca_healthy_ipf_embed_balanced  "
      ]
     },
     "execution_count": 25,
     "metadata": {},
     "output_type": "execute_result"
    }
   ],
   "source": [
    "method = 'multigrate_mil'\n",
    "task = 'hlca_healthy_ipf_embed_balanced'\n",
    "df_best = df[(df['task'] == task) & (df['method'] == method)]\n",
    "df_best"
   ]
  },
  {
   "cell_type": "code",
   "execution_count": 26,
   "id": "d6975ee8-1b47-41ac-9e9f-341c1ed29ccd",
   "metadata": {},
   "outputs": [],
   "source": [
    "assert(len(df_best) == 1)"
   ]
  },
  {
   "cell_type": "code",
   "execution_count": null,
   "id": "f6f89d21-0a3e-404c-8863-f9602d8ad819",
   "metadata": {},
   "outputs": [],
   "source": []
  }
 ],
 "metadata": {
  "kernelspec": {
   "display_name": "Python 3 (ipykernel)",
   "language": "python",
   "name": "python3"
  },
  "language_info": {
   "codemirror_mode": {
    "name": "ipython",
    "version": 3
   },
   "file_extension": ".py",
   "mimetype": "text/x-python",
   "name": "python",
   "nbconvert_exporter": "python",
   "pygments_lexer": "ipython3",
   "version": "3.10.12"
  }
 },
 "nbformat": 4,
 "nbformat_minor": 5
}
