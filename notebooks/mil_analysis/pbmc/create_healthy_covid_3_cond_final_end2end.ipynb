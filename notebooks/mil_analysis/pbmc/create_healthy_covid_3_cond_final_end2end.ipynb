{
 "cells": [
  {
   "cell_type": "code",
   "execution_count": 1,
   "id": "f37d5906-b5b4-45f6-a76f-c4c7cf182515",
   "metadata": {},
   "outputs": [],
   "source": [
    "x=1"
   ]
  },
  {
   "cell_type": "code",
   "execution_count": 14,
   "id": "bb4443a6-55b1-4ba6-b9b6-f56f43e148c9",
   "metadata": {},
   "outputs": [],
   "source": [
    "import scanpy as sc\n",
    "import numpy as np"
   ]
  },
  {
   "cell_type": "code",
   "execution_count": 4,
   "id": "fc041129-4cc3-4843-b8da-f5520c5c3a92",
   "metadata": {},
   "outputs": [
    {
     "data": {
      "text/plain": [
       "AnnData object with n_obs × n_vars = 362426 × 16\n",
       "    obs: 'sample_id', 'n_genes', 'n_genes_by_counts', 'total_counts', 'total_counts_mt', 'pct_counts_mt', 'full_clustering', 'initial_clustering', 'Resample', 'Collection_Day', 'Sex', 'Age_interval', 'Swab_result', 'Status', 'Smoker', 'Status_on_day_collection', 'Status_on_day_collection_summary', 'Days_from_onset', 'Site', 'time_after_LPS', 'Worst_Clinical_Status', 'Outcome', 'patient_id', 'split0', 'split1', 'split2', 'split3', 'split4', 'group', 'size_factors', '_scvi_batch', 'Status_on_day_collection_summary_cont'\n",
       "    obsm: 'X_umap'"
      ]
     },
     "execution_count": 4,
     "metadata": {},
     "output_type": "execute_result"
    }
   ],
   "source": [
    "adata_embed = sc.read('../../../pipeline/data/pp/mtg3_clean_healthy_covid_3_cond_embed_reg.h5ad')\n",
    "adata_embed"
   ]
  },
  {
   "cell_type": "code",
   "execution_count": 5,
   "id": "0920ce52-19c7-4e56-a126-c6c1186388c6",
   "metadata": {},
   "outputs": [
    {
     "data": {
      "text/plain": [
       "AnnData object with n_obs × n_vars = 647366 × 2000\n",
       "    obs: 'sample_id', 'n_genes', 'n_genes_by_counts', 'total_counts', 'total_counts_mt', 'pct_counts_mt', 'full_clustering', 'initial_clustering', 'Resample', 'Collection_Day', 'Sex', 'Age_interval', 'Swab_result', 'Status', 'Smoker', 'Status_on_day_collection', 'Status_on_day_collection_summary', 'Days_from_onset', 'Site', 'time_after_LPS', 'Worst_Clinical_Status', 'Outcome', 'patient_id', 'split0', 'split1', 'split2', 'split3', 'split4'\n",
       "    var: 'feature_types', 'means', 'variances', 'residual_variances', 'highly_variable_rank', 'highly_variable_nbatches', 'highly_variable_intersection', 'highly_variable'\n",
       "    uns: 'hvg', 'leiden', 'neighbors', 'pca', 'umap'\n",
       "    obsm: 'X_pca', 'X_pca_harmony', 'X_umap'\n",
       "    layers: 'counts'"
      ]
     },
     "execution_count": 5,
     "metadata": {},
     "output_type": "execute_result"
    }
   ],
   "source": [
    "rna = sc.read('../../../pipeline/data/pp/pbmc_full_rna.h5ad')\n",
    "rna"
   ]
  },
  {
   "cell_type": "code",
   "execution_count": 6,
   "id": "7c3c31a6-15df-4541-a8a2-d34934969f9e",
   "metadata": {},
   "outputs": [
    {
     "data": {
      "text/plain": [
       "AnnData object with n_obs × n_vars = 647366 × 192\n",
       "    obs: 'sample_id', 'n_genes', 'n_genes_by_counts', 'total_counts', 'total_counts_mt', 'pct_counts_mt', 'full_clustering', 'initial_clustering', 'Resample', 'Collection_Day', 'Sex', 'Age_interval', 'Swab_result', 'Status', 'Smoker', 'Status_on_day_collection', 'Status_on_day_collection_summary', 'Days_from_onset', 'Site', 'time_after_LPS', 'Worst_Clinical_Status', 'Outcome', 'patient_id', 'split0', 'split1', 'split2', 'split3', 'split4'\n",
       "    var: 'feature_types'\n",
       "    uns: 'hvg', 'leiden', 'neighbors', 'pca', 'umap'\n",
       "    obsm: 'X_pca', 'X_pca_harmony', 'X_umap'\n",
       "    layers: 'counts'"
      ]
     },
     "execution_count": 6,
     "metadata": {},
     "output_type": "execute_result"
    }
   ],
   "source": [
    "adt = sc.read('../../../pipeline/data/pp/pbmc_full_adt.h5ad')\n",
    "adt"
   ]
  },
  {
   "cell_type": "code",
   "execution_count": 8,
   "id": "29f81b47-c8c2-48d9-a4fa-f4a1da32a700",
   "metadata": {},
   "outputs": [],
   "source": [
    "rna = rna[adata_embed.obs_names].copy()\n",
    "adt = adt[adata_embed.obs_names].copy()"
   ]
  },
  {
   "cell_type": "code",
   "execution_count": 11,
   "id": "30ce66e2-dfb7-40e8-9d80-587abd57b1d4",
   "metadata": {},
   "outputs": [
    {
     "data": {
      "text/plain": [
       "AnnData object with n_obs × n_vars = 362426 × 2000\n",
       "    obs: 'sample_id', 'n_genes', 'n_genes_by_counts', 'total_counts', 'total_counts_mt', 'pct_counts_mt', 'full_clustering', 'initial_clustering', 'Resample', 'Collection_Day', 'Sex', 'Age_interval', 'Swab_result', 'Status', 'Smoker', 'Status_on_day_collection', 'Status_on_day_collection_summary', 'Days_from_onset', 'Site', 'time_after_LPS', 'Worst_Clinical_Status', 'Outcome', 'patient_id', 'split0', 'split1', 'split2', 'split3', 'split4'\n",
       "    var: 'feature_types', 'means', 'variances', 'residual_variances', 'highly_variable_rank', 'highly_variable_nbatches', 'highly_variable_intersection', 'highly_variable'\n",
       "    uns: 'hvg', 'leiden', 'neighbors', 'pca', 'umap'\n",
       "    obsm: 'X_pca', 'X_pca_harmony', 'X_umap'\n",
       "    layers: 'counts'"
      ]
     },
     "execution_count": 11,
     "metadata": {},
     "output_type": "execute_result"
    }
   ],
   "source": [
    "rna"
   ]
  },
  {
   "cell_type": "code",
   "execution_count": 12,
   "id": "2e74c849-1b24-441f-8223-a4c862eca559",
   "metadata": {},
   "outputs": [
    {
     "data": {
      "text/plain": [
       "AnnData object with n_obs × n_vars = 362426 × 192\n",
       "    obs: 'sample_id', 'n_genes', 'n_genes_by_counts', 'total_counts', 'total_counts_mt', 'pct_counts_mt', 'full_clustering', 'initial_clustering', 'Resample', 'Collection_Day', 'Sex', 'Age_interval', 'Swab_result', 'Status', 'Smoker', 'Status_on_day_collection', 'Status_on_day_collection_summary', 'Days_from_onset', 'Site', 'time_after_LPS', 'Worst_Clinical_Status', 'Outcome', 'patient_id', 'split0', 'split1', 'split2', 'split3', 'split4'\n",
       "    var: 'feature_types'\n",
       "    uns: 'hvg', 'leiden', 'neighbors', 'pca', 'umap'\n",
       "    obsm: 'X_pca', 'X_pca_harmony', 'X_umap'\n",
       "    layers: 'counts'"
      ]
     },
     "execution_count": 12,
     "metadata": {},
     "output_type": "execute_result"
    }
   ],
   "source": [
    "adt"
   ]
  },
  {
   "cell_type": "code",
   "execution_count": 20,
   "id": "5ef2e890-8f21-4124-b437-e13f2cd5d419",
   "metadata": {},
   "outputs": [],
   "source": [
    "rna.obs['Status_on_day_collection_summary'] = adata_embed.obs['Status_on_day_collection_summary']\n",
    "adt.obs['Status_on_day_collection_summary'] = adata_embed.obs['Status_on_day_collection_summary']"
   ]
  },
  {
   "cell_type": "code",
   "execution_count": 21,
   "id": "eefdedcd-60cb-44ec-95a8-9d672849d0ed",
   "metadata": {},
   "outputs": [],
   "source": [
    "rna.write('../../../pipeline/data/pp/pbmc_healthy_covid_3_cond_reg_end2end_rna.h5ad')\n",
    "adt.write('../../../pipeline/data/pp/pbmc_healthy_covid_3_cond_reg_end2end_adt.h5ad')"
   ]
  },
  {
   "cell_type": "code",
   "execution_count": null,
   "id": "871cf61d-ab05-4c21-a153-b2c735a82419",
   "metadata": {},
   "outputs": [],
   "source": []
  }
 ],
 "metadata": {
  "kernelspec": {
   "display_name": "Python 3 (ipykernel)",
   "language": "python",
   "name": "python3"
  },
  "language_info": {
   "codemirror_mode": {
    "name": "ipython",
    "version": 3
   },
   "file_extension": ".py",
   "mimetype": "text/x-python",
   "name": "python",
   "nbconvert_exporter": "python",
   "pygments_lexer": "ipython3",
   "version": "3.10.12"
  }
 },
 "nbformat": 4,
 "nbformat_minor": 5
}
