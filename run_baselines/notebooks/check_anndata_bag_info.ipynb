{
 "cells": [
  {
   "cell_type": "code",
   "execution_count": 1,
   "id": "fadd7817-1a1f-444b-a57a-7720a3a9b098",
   "metadata": {
    "tags": []
   },
   "outputs": [],
   "source": [
    "import scanpy as sc"
   ]
  },
  {
   "cell_type": "code",
   "execution_count": 15,
   "id": "13dc46d5-2884-4a12-9a6e-dc018d397d34",
   "metadata": {
    "tags": []
   },
   "outputs": [
    {
     "data": {
      "text/plain": [
       "AnnData object with n_obs × n_vars = 20000 × 30\n",
       "    obs: \"3'_or_5'\", 'BMI', 'age_or_mean_of_age_range', 'age_range', 'anatomical_region_ccf_score', 'ancestry', 'ann_coarse_for_GWAS_and_modeling', 'ann_finest_level', 'ann_level_1', 'ann_level_2', 'ann_level_3', 'ann_level_4', 'ann_level_5', 'assay', 'cause_of_death', 'cell_type', 'core_or_extension', 'dataset', 'development_stage', 'disease', 'donor_id', 'fresh_or_frozen', 'log10_total_counts', 'lung_condition', 'mixed_ancestry', 'original_ann_level_1', 'original_ann_level_2', 'original_ann_level_3', 'original_ann_level_4', 'original_ann_level_5', 'original_ann_nonharmonized', 'reannotation_type', 'sample', 'scanvi_label', 'sequencing_platform', 'sex', 'smoking_status', 'study', 'subject_type', 'suspension_type', 'tissue', 'tissue_coarse_unharmonized', 'tissue_detailed_unharmonized', 'tissue_dissociation_protocol', 'tissue_level_2', 'tissue_level_3', 'tissue_sampling_method', 'total_counts', 'transf_ann_level_1_label', 'transf_ann_level_1_uncert', 'transf_ann_level_2_label', 'transf_ann_level_2_uncert', 'transf_ann_level_3_label', 'transf_ann_level_3_uncert', 'transf_ann_level_4_label', 'transf_ann_level_4_uncert', 'transf_ann_level_5_label', 'transf_ann_level_5_uncert', 'lung_condition_coarse', 'split0', 'split1', 'split2', 'split3', 'split4', 'group', 'size_factors', '_scvi_batch', 'cell_attn', 'predicted_lung_condition_coarse'\n",
       "    var: 'modality'\n",
       "    uns: '_scvi_manager_uuid', '_scvi_uuid', 'bag_classification_predictions_lung_condition_coarse', 'bag_classification_true_lung_condition_coarse', 'bag_info', 'bag_predicted_lung_condition_coarse'\n",
       "    obsm: '_scvi_extra_categorical_covs', 'classification_predictions_lung_condition_coarse', 'latent'"
      ]
     },
     "execution_count": 15,
     "metadata": {},
     "output_type": "execute_result"
    }
   ],
   "source": [
    "adata = sc.read('../../../../../Downloads/train_anndata.h5ad')\n",
    "adata"
   ]
  },
  {
   "cell_type": "code",
   "execution_count": 18,
   "id": "f9ed8f50-76e0-4e96-b42d-eef571bd23bc",
   "metadata": {
    "tags": []
   },
   "outputs": [
    {
     "data": {
      "text/plain": [
       "1769"
      ]
     },
     "execution_count": 18,
     "metadata": {},
     "output_type": "execute_result"
    }
   ],
   "source": [
    "len(adata.uns['bag_info'].keys())"
   ]
  },
  {
   "cell_type": "code",
   "execution_count": 20,
   "id": "106c6cc0-605f-47fc-ac91-d6f3d03756bb",
   "metadata": {
    "scrolled": true,
    "tags": []
   },
   "outputs": [
    {
     "data": {
      "text/plain": [
       "array(['222C_ATTATCCAGTAATCCC_adams', '222C_CTGCCTAGTGTGGCTC_adams',\n",
       "       '222C_TGCGGGTGTTGTTTGG_adams', '222C_CGAATGTAGTCTCCTC_adams',\n",
       "       '222C_CGTTGGGGTAAAGGAG_adams', '222C_ACCCACTGTGGGTCAA_adams',\n",
       "       '222C_CATCCACAGTAGCGGT_adams', '222C_GACGGCTGTCTGCCAG_adams',\n",
       "       '222C_CGGACTGCACAACGTT_adams', '222C_AGACGTTCATATACGC_adams',\n",
       "       '222C_GAATAAGTCTACCTGC_adams', '222C_GCTGCAGGTCTAGCCG_adams',\n",
       "       '222C_TTCTACACACAGCCCA_adams', '222C_AGTCTTTGTACGAAAT_adams',\n",
       "       '222C_CCTCAGTTCGGTGTTA_adams', '222C_ATGCGATCAATCTACG_adams',\n",
       "       '222C_TTTCCTCGTCTCGTTC_adams', '222C_TCAATCTAGCTAGTGG_adams',\n",
       "       '222C_GCACTCTCATACAGCT_adams', '222C_CATGACAGTAGGACAC_adams',\n",
       "       '222C_ACATGGTCACCGATAT_adams', '222C_GAACATCAGTACCGGA_adams',\n",
       "       '222C_CTCATTATCGTATCAG_adams', '222C_GTAGGCCAGAGACTTA_adams',\n",
       "       '222C_TGCCCATTCATCGGAT_adams', '222C_CAGATCAGTCACTGGC_adams',\n",
       "       '222C_CTAAGACCAGCTTAAC_adams', '222C_TGCGCAGCACTGCCAG_adams',\n",
       "       '222C_CTTAACTAGTGGTAAT_adams', '222C_TACGGATCACGGTGTC_adams',\n",
       "       '222C_AGGCCACCAAGCCCAC_adams', '222C_TTCTCCTAGGCAGGTT_adams',\n",
       "       '222C_AAGGAGCCAAGACGTG_adams', '222C_GGGCACTCAGACAAAT_adams',\n",
       "       '222C_TCGTAGAAGCACCGCT_adams', '222C_CTCGGGATCAAAGACA_adams',\n",
       "       '222C_GTCACAAAGCCACCTG_adams', '222C_GGAACTTTCCTACAGA_adams',\n",
       "       '222C_CTAGCCTTCGGCGCAT_adams', '222C_CATCAGACAATAGCGG_adams',\n",
       "       '222C_GGCGACTAGAGTAATC_adams', '222C_GGCTGGTAGCTGATAA_adams',\n",
       "       '222C_GAATGAATCGCAGGCT_adams', '222C_AAAGATGAGGTGTGGT_adams',\n",
       "       '222C_ATGGGAGTCTGTCTCG_adams', '222C_TCCCGATTCAGAGCTT_adams',\n",
       "       '222C_CGTGTCTCAACTTGAC_adams', '222C_GAATAAGAGGTGCTAG_adams',\n",
       "       '222C_GATCGTACATGGTTGG_adams', '222C_GCTGCAGCAAGACGTG_adams',\n",
       "       '222C_GACTACATCTTACCTA_adams', '222C_GCTGCGACAGACTCGC_adams',\n",
       "       '222C_AGAATAGCAAGTTAAG_adams', '222C_ACCAGTACATTCCTCG_adams',\n",
       "       '222C_GTGCATAAGAGAACAG_adams', '222C_ATGAGGGAGGTGCTAG_adams',\n",
       "       '222C_AGGCCACTCTGCCCTA_adams', '222C_CAAGATCCAAATACAG_adams',\n",
       "       '222C_GTTTCTAAGGCCCTCA_adams', '222C_GCGCGATTCCGCGGTA_adams',\n",
       "       '222C_ACGGGTCAGTGCCAGA_adams', '222C_CTTAACTGTCTTGTCC_adams',\n",
       "       '222C_ACTTACTGTTTAAGCC_adams', '222C_CCATTCGCAGCTTAAC_adams',\n",
       "       '222C_TTAACTCTCTTCGAGA_adams', '222C_CTGAAGTTCAGCAACT_adams',\n",
       "       '222C_CTCACACTCCCTTGTG_adams', '222C_TGCCCTACACTTCGAA_adams',\n",
       "       '222C_CAGCCGACAATAGCGG_adams', '222C_CAGCCGACACATCCAA_adams',\n",
       "       '222C_CACACAAAGCCACTAT_adams', '222C_ACACTGAAGGAATGGA_adams',\n",
       "       '222C_CTACATTTCCAAGTAC_adams', '222C_GTCTTCGAGGATCGCA_adams',\n",
       "       '222C_ATTTCTGAGCTGAACG_adams', '222C_CTTGGCTGTCGGCATC_adams',\n",
       "       '222C_GGCGTGTTCGGAAACG_adams', '222C_ACGGCCAGTGAGGGTT_adams',\n",
       "       '222C_CCGTGGAGTGAAAGAG_adams', '222C_GGGAGATGTACCGGCT_adams',\n",
       "       '222C_GACAGAGGTATATGAG_adams', '222C_ACTGAGTAGCGTTCCG_adams',\n",
       "       '222C_CGCGGTAGTTTGTGTG_adams', '222C_ACTTACTTCGCACTCT_adams',\n",
       "       '222C_CACACCTAGTTGTAGA_adams', '222C_GAACATCCATCTGGTA_adams',\n",
       "       '222C_CGATGGCAGGCGATAC_adams', '222C_TCTATTGCAATAACGA_adams',\n",
       "       '222C_TTGACTTAGGTTCCTA_adams', '222C_GGACAAGAGGCCATAG_adams',\n",
       "       '222C_ACGAGCCAGAATGTTG_adams', '222C_CTAGCCTCACCCATTC_adams',\n",
       "       '222C_AAATGCCTCGAATCCA_adams', '222C_TGGACGCTCGTCCGTT_adams',\n",
       "       '222C_GCACATAAGAAGGTGA_adams', '222C_GAAATGAAGCCACCTG_adams',\n",
       "       '222C_GCGCAGTTCACAATGC_adams', '222C_GAACATCTCGTGGTCG_adams',\n",
       "       '222C_CCTAAAGCAAGTCATC_adams', '222C_GTGGGTCTCACTTCAT_adams',\n",
       "       '222C_ACACCGGTCTACTCAT_adams', '222C_TCTTCGGGTCAGAGGT_adams',\n",
       "       '222C_AGGTCCGGTCGAATCT_adams', '222C_TGTTCCGCAGGTCGTC_adams',\n",
       "       '222C_GGTGCGTAGAGGTTGC_adams', '222C_AGCTCTCAGCTAACAA_adams',\n",
       "       '222C_GTCATTTGTCTGCGGT_adams', '222C_CACAGGCTCGAATGGG_adams',\n",
       "       '222C_CACATAGAGAATAGGG_adams', '222C_CCACTACCAAGGTTTC_adams',\n",
       "       '222C_GTTAAGCGTCTGATCA_adams', '222C_ACGATACCACAAGTAA_adams',\n",
       "       '222C_CAGCTAAGTGTGCGTC_adams', '222C_CAGCGACTCTCTAAGG_adams',\n",
       "       '222C_AGCATACAGTCTCAAC_adams', '222C_AGACGTTTCGGCGCTA_adams',\n",
       "       '222C_GATCAGTCACGGACAA_adams', '222C_CAGGTGCCAATGCCAT_adams',\n",
       "       '222C_CCTTCCCAGTTACGGG_adams', '222C_GTTCGGGTCTCTGCTG_adams',\n",
       "       '222C_GAATGAAAGTACGATA_adams', '222C_TGGCTGGTCCCAACGG_adams',\n",
       "       '222C_CTACATTAGCCCAGCT_adams', '222C_ACGGGCTGTCAGCTAT_adams',\n",
       "       '222C_GTAGGCCCATGCTGGC_adams', '222C_TTTGTCATCGTCTGCT_adams',\n",
       "       '222C_AAACGGGCAATGGAAT_adams', '222C_TAGGCATAGGCTAGCA_adams',\n",
       "       '222C_TGGTTCCTCAGAAATG_adams', '222C_GTGCTTCGTAATAGCA_adams',\n",
       "       '222C_ATAACGCCATCGATTG_adams', '222C_CTCGGAGAGAATGTTG_adams',\n",
       "       '222C_CGCTATCAGCCATCGC_adams', '222C_TTGGAACTCAATCACG_adams',\n",
       "       '222C_ACTGTCCGTGTGGTTT_adams', '222C_ACGATGTGTTGTGGAG_adams',\n",
       "       '222C_GGCGACTGTTGTTTGG_adams', '222C_TCATTACAGTGGTCCC_adams',\n",
       "       '222C_GCGACCATCGTAGGAG_adams', '222C_ACTTTCATCCTTTCTC_adams',\n",
       "       '222C_TGTATTCGTGTCCTCT_adams', '222C_CACAGTATCAGTTAGC_adams',\n",
       "       '222C_CATGCCTCATATACGC_adams', '222C_AAAGATGCAGTTCCCT_adams',\n",
       "       '222C_GTACTCCAGCGGCTTC_adams', '222C_CTTACCGTCTGGTGTA_adams',\n",
       "       '222C_ACTGAGTTCTACTCAT_adams', '222C_TCGGTAACACAACGTT_adams',\n",
       "       '222C_TGCTACCGTGGACGAT_adams', '222C_CGACTTCTCTAGAGTC_adams',\n",
       "       '222C_GAATGAACAGTCACTA_adams', '222C_ACTGTCCAGCATCATC_adams',\n",
       "       '222C_AAGGAGCTCGGAATCT_adams', '222C_CGGACTGAGCATGGCA_adams',\n",
       "       '222C_GATCGTAAGCGCCTTG_adams', '222C_CCTCAGTGTTCGTCTC_adams',\n",
       "       '222C_CAGCAGCTCGATCCCT_adams', '222C_TGCCAAATCGTTTAGG_adams',\n",
       "       '222C_TCCCGATAGTGGGTTG_adams', '222C_AGAGCGATCCTAGGGC_adams',\n",
       "       '222C_TGTATTCGTGACCAAG_adams', '222C_TGATTTCAGCTGAAAT_adams',\n",
       "       '222C_TGACTTTGTAATAGCA_adams', '222C_AGTTGGTTCGCCTGAG_adams',\n",
       "       '222C_TCGCGAGGTAACGTTC_adams', '222C_TTCCCAGTCTCCCTGA_adams',\n",
       "       '222C_TTAGGCATCCTAGGGC_adams', '222C_CTCTACGAGTGTTGAA_adams',\n",
       "       '222C_GGGAATGGTAAGGGAA_adams', '222C_GTCTCGTAGTGCCAGA_adams',\n",
       "       '222C_GAAGCAGTCTCTGTCG_adams', '222C_TTTACTGAGTTAGCGG_adams',\n",
       "       '222C_GGGACCTTCAGCTCGG_adams', '222C_GTGCAGCCACCGTTGG_adams',\n",
       "       '222C_ACTGCTCAGCATGGCA_adams', '222C_ATCATCTTCGTATCAG_adams',\n",
       "       '222C_GGGTCTGGTTTAGGAA_adams', '222C_GCGCGATAGATGTCGG_adams',\n",
       "       '222C_AGCATACCATTACCTT_adams', '222C_CTACGTCCAGTCTTCC_adams',\n",
       "       '222C_GGGCACTGTTCCAACA_adams', '222C_CAGCCGATCCGAATGT_adams',\n",
       "       '222C_GTGTTAGAGCTAGCCC_adams', '222C_AAAGATGTCTGGAGCC_adams',\n",
       "       '222C_GCAGCCATCCATGAAC_adams', '222C_TTTGCGCAGAGTGAGA_adams',\n",
       "       '222C_GATGCTACATTGAGCT_adams', '222C_TCACGAATCCCTCTTT_adams',\n",
       "       '222C_AGTCTTTGTATCAGTC_adams', '222C_CAGCGACCAGCTGCAC_adams',\n",
       "       '222C_TTTGTCAAGAATTGTG_adams', '222C_GCTGCTTGTCTTGATG_adams',\n",
       "       '222C_GTGCTTCAGTTGTAGA_adams', '222C_CGTAGGCCAAGTTAAG_adams',\n",
       "       '222C_CACACTCAGCCGCCTA_adams', '222C_CCGGGATCATCATCCC_adams',\n",
       "       '222C_TCTGAGATCGTGGTCG_adams', '222C_GACTGCGAGTCTCAAC_adams',\n",
       "       '222C_AGTGTCAAGATCCGAG_adams', '222C_CAGTAACCAGTGACAG_adams',\n",
       "       '222C_CGGACACCATTCGACA_adams', '222C_GCTTCCAGTCAACATC_adams',\n",
       "       '222C_GACGCGTGTGCGCTTG_adams', '222C_CATTCGCCAGGGATTG_adams',\n",
       "       '222C_TACGGGCCACTACAGT_adams', '222C_GTAACTGGTCCAACTA_adams',\n",
       "       '222C_CTGAAACCACACCGCA_adams', '222C_CATGCCTCATCCCATC_adams',\n",
       "       '222C_CGACCTTTCAACGCTA_adams', '222C_TCATTTGCAACTGCTA_adams',\n",
       "       '222C_CTCGGAGCAACGCACC_adams', '222C_CCTTCCCTCCGTCATC_adams',\n",
       "       '222C_TGACAACAGACGCTTT_adams', '222C_GGAACTTAGCTAACAA_adams',\n",
       "       '222C_CTCTACGTCATTTGGG_adams', '222C_TGACAACGTCCCTACT_adams',\n",
       "       '222C_CCCTCCTAGTGAACAT_adams', '222C_AATCGGTCAGCTGCTG_adams',\n",
       "       '222C_GTGCATAAGCGCTCCA_adams', '222C_CTCACACGTACCGCTG_adams',\n",
       "       '222C_AGGCCACAGTCGCCGT_adams', '222C_CGATTGAAGAGGGCTT_adams',\n",
       "       '222C_AATCGGTGTTCATGGT_adams', '222C_CCAGCGAGTAAGTGTA_adams',\n",
       "       '222C_GATCTAGAGCCTTGAT_adams', '222C_CGGACTGTCGATAGAA_adams',\n",
       "       '222C_CGAATGTAGTCCGTAT_adams', '222C_GGCTGGTGTAAAGGAG_adams',\n",
       "       '222C_ATGTGTGTCCCATTAT_adams', '222C_GTGCATACAGCGAACA_adams',\n",
       "       '222C_GCTGCAGAGGACGAAA_adams', '222C_CATCAAGTCTTGCCGT_adams',\n",
       "       '222C_TTTGCGCGTGTCCTCT_adams', '222C_CGCGGTATCGGATGGA_adams',\n",
       "       '222C_TGACAACCACTTACGA_adams', '222C_TATCTCAGTTTCGCTC_adams',\n",
       "       '222C_TCAGGTATCAGGTTCA_adams', '222C_TGCTGCTGTGTAATGA_adams',\n",
       "       '222C_TATGCCCCACAGAGGT_adams', '222C_CACAGTACACGAAAGC_adams',\n",
       "       '222C_CTTTGCGCACAGTCGC_adams', '222C_GAAATGAGTTGGTTTG_adams',\n",
       "       '222C_GTCACGGTCCGCGTTT_adams', '222C_GGGTCTGGTTGAACTC_adams',\n",
       "       '222C_CACACTCGTGATGATA_adams', '222C_CCAGCGACAACCGCCA_adams',\n",
       "       '222C_AGATCTGAGGGTTTCT_adams', '222C_CCGGGATGTCAATGTC_adams',\n",
       "       '222C_GAAATGATCGTCTGAA_adams', '222C_CAGCGACCAAACCCAT_adams',\n",
       "       '222C_TGAGCATCAGGAATGC_adams', '222C_TCACGAAGTCCTCTTG_adams',\n",
       "       '222C_CTAACTTCACAGACTT_adams', '222C_ACATGGTCAAACTGCT_adams',\n",
       "       '222C_TTCTACATCAACACAC_adams', '222C_AACGTTGAGTAGGCCA_adams'],\n",
       "      dtype=object)"
      ]
     },
     "execution_count": 20,
     "metadata": {},
     "output_type": "execute_result"
    }
   ],
   "source": [
    "adata.uns['bag_info']['bag_0']"
   ]
  },
  {
   "cell_type": "code",
   "execution_count": 21,
   "id": "5cee9769-d1f2-4761-88e4-da75738a2e6b",
   "metadata": {
    "tags": []
   },
   "outputs": [
    {
     "data": {
      "text/plain": [
       "AnnData object with n_obs × n_vars = 62925 × 30\n",
       "    obs: \"3'_or_5'\", 'BMI', 'age_or_mean_of_age_range', 'age_range', 'anatomical_region_ccf_score', 'ancestry', 'ann_coarse_for_GWAS_and_modeling', 'ann_finest_level', 'ann_level_1', 'ann_level_2', 'ann_level_3', 'ann_level_4', 'ann_level_5', 'assay', 'cause_of_death', 'cell_type', 'core_or_extension', 'dataset', 'development_stage', 'disease', 'donor_id', 'fresh_or_frozen', 'log10_total_counts', 'lung_condition', 'mixed_ancestry', 'original_ann_level_1', 'original_ann_level_2', 'original_ann_level_3', 'original_ann_level_4', 'original_ann_level_5', 'original_ann_nonharmonized', 'reannotation_type', 'sample', 'scanvi_label', 'sequencing_platform', 'sex', 'smoking_status', 'study', 'subject_type', 'suspension_type', 'tissue', 'tissue_coarse_unharmonized', 'tissue_detailed_unharmonized', 'tissue_dissociation_protocol', 'tissue_level_2', 'tissue_level_3', 'tissue_sampling_method', 'total_counts', 'transf_ann_level_1_label', 'transf_ann_level_1_uncert', 'transf_ann_level_2_label', 'transf_ann_level_2_uncert', 'transf_ann_level_3_label', 'transf_ann_level_3_uncert', 'transf_ann_level_4_label', 'transf_ann_level_4_uncert', 'transf_ann_level_5_label', 'transf_ann_level_5_uncert', 'lung_condition_coarse', 'split0', 'split1', 'split2', 'split3', 'split4', 'group', 'size_factors', '_scvi_batch', 'cell_attn', 'predicted_lung_condition_coarse'\n",
       "    var: 'modality'\n",
       "    uns: '_scvi_manager_uuid', '_scvi_uuid', 'bag_classification_predictions_lung_condition_coarse', 'bag_classification_true_lung_condition_coarse', 'bag_info', 'bag_predicted_lung_condition_coarse'\n",
       "    obsm: '_scvi_extra_categorical_covs', 'classification_predictions_lung_condition_coarse', 'latent'"
      ]
     },
     "execution_count": 21,
     "metadata": {},
     "output_type": "execute_result"
    }
   ],
   "source": [
    "adata = sc.read('../../../../../Downloads/epoch=1-step=3022_query_anndata.h5ad')\n",
    "adata"
   ]
  },
  {
   "cell_type": "code",
   "execution_count": 22,
   "id": "de727e34-351f-4d78-b7f6-1fd8ca481834",
   "metadata": {
    "tags": []
   },
   "outputs": [
    {
     "data": {
      "text/plain": [
       "260"
      ]
     },
     "execution_count": 22,
     "metadata": {},
     "output_type": "execute_result"
    }
   ],
   "source": [
    "len(adata.uns['bag_info'].keys())"
   ]
  },
  {
   "cell_type": "code",
   "execution_count": 23,
   "id": "27c4ddd5-e9f2-46c6-9c84-e5a7087a66f3",
   "metadata": {
    "tags": []
   },
   "outputs": [
    {
     "data": {
      "text/plain": [
       "array(['081C_GGCAATTAGGCCCTCA_adams', '081C_ATCATGGGTCGTGGCT_adams',\n",
       "       '081C_GGACATTCATGCGCAC_adams', '081C_ATTACTCGTCTAAAGA_adams',\n",
       "       '081C_CATTCGCCAGCATGAG_adams', '081C_GGAAAGCTCGAGCCCA_adams',\n",
       "       '081C_CTGTTTATCACATGCA_adams', '081C_CCGTACTAGGCTCAGA_adams',\n",
       "       '081C_GATCGATAGTGGAGAA_adams', '081C_CATATGGAGTGGTCCC_adams',\n",
       "       '081C_AAGGCAGAGAGGTAGA_adams', '081C_AGGCCGTCACGCTTTC_adams',\n",
       "       '081C_GCAAACTGTTCTGAAC_adams', '081C_TATCTCAAGCAGCGTA_adams',\n",
       "       '081C_GATTCAGAGAAGGACA_adams', '081C_TAGGCATGTAACGACG_adams',\n",
       "       '081C_TGCTGCTTCGCGATCG_adams', '081C_GGGTCTGGTTCTCATT_adams',\n",
       "       '081C_AAGGTTCCATGAGCGA_adams', '081C_GAGGTGATCTGCCCTA_adams',\n",
       "       '081C_CCTACACTCTGACCTC_adams', '081C_GATCTAGTCCACGTTC_adams',\n",
       "       '081C_CGGGTCAGTGCAGACA_adams', '081C_ATAACGCTCCTCATTA_adams',\n",
       "       '081C_CTCAGAACAATCGGTT_adams', '081C_CTAGCCTGTGCCTGGT_adams',\n",
       "       '081C_CGCCAAGAGGCGTACA_adams', '081C_GGACATTCACACGCTG_adams',\n",
       "       '081C_CACCTTGCATACTCTT_adams', '081C_CTCGAAACATTGGTAC_adams',\n",
       "       '081C_TGTATTCTCGCCAGCA_adams', '081C_CTGAAGTAGACACGAC_adams',\n",
       "       '081C_AAACGGGCATCTACGA_adams', '081C_AAGGCAGAGACATAAC_adams',\n",
       "       '081C_CGGACACTCGAATCCA_adams', '081C_CATCGGGCAAACTGCT_adams',\n",
       "       '081C_TACCTATGTGTGACGA_adams', '081C_CAGAGAGGTCCATCCT_adams',\n",
       "       '081C_GGGCACTAGGTCATCT_adams', '081C_CTGCTGTTCGCCAAAT_adams',\n",
       "       '081C_GCAGTTACACTTGGAT_adams', '081C_TTTGTCAGTGGTACAG_adams',\n",
       "       '081C_CCATTCGTCTACTATC_adams', '081C_GGAATAATCGGTGTCG_adams',\n",
       "       '081C_GTGCTTCCAGGAACGT_adams', '081C_TGTGTTTCAGGTGCCT_adams',\n",
       "       '081C_TTGAACGAGTCCTCCT_adams', '081C_ACACCCTAGCACCGCT_adams',\n",
       "       '081C_GCATGTACATCAGTCA_adams', '081C_CGTAGGCCACATTCGA_adams',\n",
       "       '081C_GGCGACTAGTTCGCAT_adams', '081C_GTTAAGCAGATCACGG_adams',\n",
       "       '081C_AGTTGGTAGCTAACTC_adams', '081C_CACACTCAGATCTGAA_adams',\n",
       "       '081C_GAAACTCCAACGATGG_adams', '081C_GGCTGGTGTACATGTC_adams',\n",
       "       '081C_GACTAACCACCATGTA_adams', '081C_AACTTTCGTCATTAGC_adams',\n",
       "       '081C_TGCGTGGGTTGAACTC_adams', '081C_TCTGGAATCGGCGCAT_adams',\n",
       "       '081C_GTTAAGCCACCGGAAA_adams', '081C_TCGCGAGAGATTACCC_adams',\n",
       "       '081C_CTCGTACTCAGCTGGC_adams', '081C_TACTCGCGTCGTGGCT_adams',\n",
       "       '081C_CGTTAGAGTCACAAGG_adams', '081C_CTAGTGAGTAGCGCAA_adams',\n",
       "       '081C_AAACGGGCAGTATCTG_adams', '081C_ATCATCTTCCGAGCCA_adams',\n",
       "       '081C_AAGTCTGCACTTAAGC_adams', '081C_ATGCGATCAGCCTTTC_adams',\n",
       "       '081C_GGAACTTTCCGTAGGC_adams', '081C_AAGGCAGGTATCACCA_adams',\n",
       "       '081C_GGGCATCTCTATGTGG_adams', '081C_TTAGTTCAGTACGACG_adams',\n",
       "       '081C_TGCGCAGAGCTAGTCT_adams', '081C_GCGCAACCATGGGACA_adams',\n",
       "       '081C_TTAGGCATCTCTAGGA_adams', '081C_AGTTGGTCATGATCCA_adams',\n",
       "       '081C_CAGCAGCTCCTTGGTC_adams', '081C_ACAGCTACAGTGAGTG_adams',\n",
       "       '081C_AGGTCATCATCGATTG_adams', '081C_TCAATCTCATTAACCG_adams',\n",
       "       '081C_CAAGTTGAGAATCTCC_adams', '081C_TTATGCTTCCTCCTAG_adams',\n",
       "       '081C_TCAGCTCGTATAGGTA_adams', '081C_TTGCGTCGTTCAACCA_adams',\n",
       "       '081C_CGTTAGAAGCACACAG_adams', '081C_TGTGTTTAGTGTTTGC_adams',\n",
       "       '081C_ACTGTCCTCACGGTTA_adams', '081C_AACTGGTTCGGCTACG_adams',\n",
       "       '081C_GCACATAAGTAGATGT_adams', '081C_GTGAAGGCATGCCTAA_adams',\n",
       "       '081C_CACCAGGAGTTAACGA_adams', '081C_CAGCTAAGTTGCCTCT_adams',\n",
       "       '081C_AGAATAGTCTCAACTT_adams', '081C_CTCGGAGGTCTACCTC_adams',\n",
       "       '081C_TACCTATCACAGACAG_adams', '081C_CAGAGAGTCTCTTATG_adams',\n",
       "       '081C_GATCGATCATGTAGTC_adams', '081C_TTTCCTCCAGAAGCAC_adams',\n",
       "       '081C_GGATTACCATCCTTGC_adams', '081C_CATCAGACATAAAGGT_adams',\n",
       "       '081C_AACTTTCCAGTCGATT_adams', '081C_TGCTGCTAGGCGACAT_adams',\n",
       "       '081C_CTTAGGACAGTCAGAG_adams', '081C_TCGCGAGGTGCTTCTC_adams',\n",
       "       '081C_ACGGGCTCATTTGCCC_adams', '081C_TCAGGATGTATCACCA_adams',\n",
       "       '081C_TTATGCTGTGTAATGA_adams', '081C_CCTTACGTCACATGCA_adams',\n",
       "       '081C_ACAGCTAGTGTCAATC_adams', '081C_ATAGACCAGCTCTCGG_adams',\n",
       "       '081C_ATGCGATTCAGATAAG_adams', '081C_CATGCCTAGCCGCCTA_adams',\n",
       "       '081C_TTATGCTTCGGCCGAT_adams', '081C_AGGTCCGTCTGCTGCT_adams',\n",
       "       '081C_ATAAGAGCAGCATGAG_adams', '081C_GTGCTTCTCCGTACAA_adams',\n",
       "       '081C_GCAGCCAAGTAACCCT_adams', '081C_CGGACACAGTCTCGGC_adams',\n",
       "       '081C_GTGCTTCAGCCGGTAA_adams', '081C_GATGAGGTCTCGATGA_adams',\n",
       "       '081C_TTGACTTAGTCCATAC_adams', '081C_ATAAGAGTCAGTGTTG_adams',\n",
       "       '081C_CGATCGGGTCTAGTCA_adams', '081C_CCATGTCGTCCGAATT_adams',\n",
       "       '081C_CGTTGGGTCGAACTGT_adams', '081C_AAACCTGCAGACACTT_adams',\n",
       "       '081C_AACTTTCTCATAACCG_adams', '081C_AACGTTGCAGTGACAG_adams',\n",
       "       '081C_ACGTCAACAGATCCAT_adams', '081C_GAGCAGACACATCCGG_adams',\n",
       "       '081C_ATAACGCAGCAATCTC_adams', '081C_CCGTACTTCTGGCGAC_adams',\n",
       "       '081C_AGAGTGGAGGGCTTGA_adams', '081C_GTGGGTCAGTTGAGAT_adams',\n",
       "       '081C_TGCGGGTTCCCTCTTT_adams', '081C_CGGAGTCTCTCTTATG_adams',\n",
       "       '081C_CATCAAGGTCAGAATA_adams', '081C_ACATGGTAGATGAGAG_adams',\n",
       "       '081C_GGCTCGACATCCGGGT_adams', '081C_CAGTAACTCTCCCTGA_adams',\n",
       "       '081C_ATCCACCCATCGATTG_adams', '081C_CTCACACAGAACTCGG_adams',\n",
       "       '081C_CACACTCAGAGCCCAA_adams', '081C_CTGTTTATCGTAGATC_adams',\n",
       "       '081C_TCTCTAACAGAAGCAC_adams', '081C_GTGCGGTGTAGCGTAG_adams',\n",
       "       '081C_ATCATCTGTTCCACGG_adams', '081C_CACATTTTCACGATGT_adams',\n",
       "       '081C_GAGGTGAAGGATGGTC_adams', '081C_ACTGATGAGCGTTGCC_adams',\n",
       "       '081C_TCACAAGGTGATAAGT_adams', '081C_CTTGGCTAGATGCGAC_adams',\n",
       "       '081C_GAAATGAAGGGATGGG_adams', '081C_CTAACTTCACGGCGTT_adams',\n",
       "       '081C_TGCCCATAGACGCTTT_adams', '081C_TGGCCAGCATTTCAGG_adams',\n",
       "       '081C_TTTCCTCGTGTGACCC_adams', '081C_ACACCGGGTACTTAGC_adams',\n",
       "       '081C_CTGATCCGTCAGATAA_adams', '081C_GCTGGGTGTTGCCTCT_adams',\n",
       "       '081C_ACACCGGTCTCTAAGG_adams', '081C_CAGTCCTTCCTCGCAT_adams',\n",
       "       '081C_TATCAGGCAGCATACT_adams', '081C_GCAAACTGTAGTAGTA_adams',\n",
       "       '081C_CGTCAGGCAAGCGCTC_adams', '081C_CGGAGTCTCTATCGCC_adams',\n",
       "       '081C_TGAGAGGGTTGCCTCT_adams', '081C_AAGCCGCGTAGGACAC_adams',\n",
       "       '081C_CCTTTCTTCGATCCCT_adams', '081C_TGGTTAGTCACCACCT_adams',\n",
       "       '081C_CACACAATCCGCGTTT_adams', '081C_CTGATCCGTAAGCACG_adams',\n",
       "       '081C_GGCCGATTCATAACCG_adams', '081C_CCTTCCCCATATGAGA_adams',\n",
       "       '081C_AGTTGGTGTAATTGGA_adams', '081C_CACAGTAGTTGTCTTT_adams',\n",
       "       '081C_TCAATCTAGCACCGCT_adams', '081C_CACATTTAGCCCAGCT_adams',\n",
       "       '081C_CCTTCGATCAACGCTA_adams', '081C_GGCAATTCATGGGACA_adams',\n",
       "       '081C_GGAATAAGTCTCCATC_adams', '081C_TGGGCGTGTACAGCAG_adams',\n",
       "       '081C_TACTTGTTCTAACCGA_adams', '081C_GTCGGGTAGCCTCGTG_adams',\n",
       "       '081C_ACATCAGGTACTCGCG_adams', '081C_GCGACCACACGTCAGC_adams',\n",
       "       '081C_ATAGACCTCCTTGACC_adams', '081C_TACGGGCTCGCCAAAT_adams',\n",
       "       '081C_TTGTAGGGTTCCGGCA_adams', '081C_TTCTCAATCTCGGACG_adams',\n",
       "       '081C_ACCTTTAGTAGATTAG_adams', '081C_CTACACCGTACAGTGG_adams',\n",
       "       '081C_CTCAGAAAGCACGCCT_adams', '081C_CGTAGCGGTCCAGTAT_adams',\n",
       "       '081C_GTACTCCCAAACGCGA_adams', '081C_GAAGCAGAGCGATTCT_adams',\n",
       "       '081C_TGCTGCTGTATCAGTC_adams', '081C_TGCTGCTAGATCCTGT_adams',\n",
       "       '081C_AAGGAGCGTTGATTCG_adams', '081C_AGAGCGAGTACCGCTG_adams',\n",
       "       '081C_CGTAGCGAGGTGCAAC_adams', '081C_TGACTTTGTTCTGAAC_adams',\n",
       "       '081C_GTGCGGTTCACATGCA_adams', '081C_TGATTTCTCACTATTC_adams',\n",
       "       '081C_GGGTCTGAGATAGTCA_adams', '081C_TCGGGACAGAAGGTTT_adams',\n",
       "       '081C_GGATTACAGTTCGCAT_adams', '081C_ACGATGTTCTTGTATC_adams',\n",
       "       '081C_TACTTGTTCGGTGTTA_adams', '081C_ACGGAGAAGGACAGAA_adams',\n",
       "       '081C_CGTGAGCGTCAAACTC_adams', '081C_CGTCTACTCGTCTGAA_adams',\n",
       "       '081C_GAAATGAGTATTAGCC_adams', '081C_TACCTATGTGAGTGAC_adams',\n",
       "       '081C_CAAGATCGTTCCAACA_adams', '081C_CTCGTCAAGCACACAG_adams',\n",
       "       '081C_ACATACGTCGCCTGTT_adams', '081C_TGATTTCTCGTGTAGT_adams',\n",
       "       '081C_ACGGAGACAGTTAACC_adams', '081C_CCCAGTTAGTCCTCCT_adams',\n",
       "       '081C_TGTGTTTGTGCCTGTG_adams', '081C_CTCTACGCACTCTGTC_adams',\n",
       "       '081C_TCTATTGTCGCGGATC_adams', '081C_CGTGTAATCGTACGGC_adams',\n",
       "       '081C_CTACGTCCAAACGTGG_adams', '081C_ACGCAGCGTCTCTTTA_adams',\n",
       "       '081C_CTTAGGATCGGAAATA_adams', '081C_CTGGTCTCAATGGAAT_adams',\n",
       "       '081C_AATCGGTCATTGTGCA_adams', '081C_CACTCCAGTCCCTTGT_adams',\n",
       "       '081C_TCATTTGGTGTTTGTG_adams', '081C_TTAGTTCGTGCGATAG_adams',\n",
       "       '081C_AGAGTGGGTTTGACTG_adams', '081C_GACCTGGGTGGTTTCA_adams',\n",
       "       '081C_TGAAAGAGTCCAGTGC_adams', '081C_CTTAACTAGTCTTGCA_adams',\n",
       "       '081C_GTAACGTTCACCACCT_adams', '081C_AGATTGCTCTGTTGAG_adams',\n",
       "       '081C_CGGCTAGTCTTGAGGT_adams', '081C_AAAGCAATCTAACTGG_adams',\n",
       "       '081C_GTCACGGGTCTACCTC_adams', '081C_TCGTAGACAGTATGCT_adams',\n",
       "       '081C_AGAATAGCAGATGGGT_adams', '081C_TAGTGGTCAGGGTACA_adams',\n",
       "       '081C_ATAAGAGTCCACGTGG_adams', '081C_CTTAACTCATTCCTGC_adams',\n",
       "       '081C_AAAGATGGTCATTAGC_adams', '081C_AACCATGTCGGAAACG_adams',\n",
       "       '081C_TTTCCTCGTAGAGCTG_adams', '081C_TTGCCGTCACCGGAAA_adams',\n",
       "       '081C_GTCGGGTCACACAGAG_adams', '081C_AGGCCGTGTGGTCCGT_adams',\n",
       "       '081C_ATGAGGGTCCTGCAGG_adams', '081C_GGTGAAGTCATCATTC_adams'],\n",
       "      dtype=object)"
      ]
     },
     "execution_count": 23,
     "metadata": {},
     "output_type": "execute_result"
    }
   ],
   "source": [
    "adata.uns['bag_info']['bag_0']"
   ]
  },
  {
   "cell_type": "code",
   "execution_count": null,
   "id": "663337d4-c48f-4c7d-9f3b-d90982315368",
   "metadata": {},
   "outputs": [],
   "source": []
  }
 ],
 "metadata": {
  "kernelspec": {
   "display_name": "Python 3 (ipykernel)",
   "language": "python",
   "name": "python3"
  },
  "language_info": {
   "codemirror_mode": {
    "name": "ipython",
    "version": 3
   },
   "file_extension": ".py",
   "mimetype": "text/x-python",
   "name": "python",
   "nbconvert_exporter": "python",
   "pygments_lexer": "ipython3",
   "version": "3.10.10"
  }
 },
 "nbformat": 4,
 "nbformat_minor": 5
}
