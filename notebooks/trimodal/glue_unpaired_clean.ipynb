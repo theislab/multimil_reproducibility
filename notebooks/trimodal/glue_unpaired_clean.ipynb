{
 "cells": [
  {
   "cell_type": "code",
   "execution_count": 4,
   "id": "712eb5f5-719c-4e38-83d6-1967ef31c41a",
   "metadata": {},
   "outputs": [],
   "source": [
    "x=1"
   ]
  },
  {
   "cell_type": "code",
   "execution_count": 5,
   "id": "23b90d7c-ea7d-4d58-8ff8-b443d8a43cfb",
   "metadata": {},
   "outputs": [],
   "source": [
    "import anndata as ad\n",
    "import numpy as np\n",
    "import scanpy as sc\n",
    "import json"
   ]
  },
  {
   "cell_type": "markdown",
   "id": "a224a634-710a-4107-94cc-544a64fccc0e",
   "metadata": {},
   "source": [
    "# unpaired output"
   ]
  },
  {
   "cell_type": "code",
   "execution_count": 6,
   "id": "fdf6041a-4046-41c7-8755-6e9f0c11bad7",
   "metadata": {},
   "outputs": [
    {
     "name": "stderr",
     "output_type": "stream",
     "text": [
      "/lustre/groups/ml01/workspace/anastasia.litinetskaya/mambaforge/envs/sc/lib/python3.10/site-packages/anndata/_core/anndata.py:117: ImplicitModificationWarning: Transforming to str index.\n",
      "  warnings.warn(\"Transforming to str index.\", ImplicitModificationWarning)\n",
      "/lustre/groups/ml01/workspace/anastasia.litinetskaya/mambaforge/envs/sc/lib/python3.10/site-packages/anndata/_core/anndata.py:1830: UserWarning: Observation names are not unique. To make them unique, call `.obs_names_make_unique`.\n",
      "  utils.warn_names_duplicates(\"obs\")\n"
     ]
    },
    {
     "data": {
      "text/plain": [
       "AnnData object with n_obs × n_vars = 147902 × 0\n",
       "    obs: 'GEX_pct_counts_mt', 'GEX_size_factors', 'GEX_phase', 'cell_type', 'batch', 'GEX_pseudotime_order', 'Samplename', 'Site', 'DonorNumber', 'Modality', 'VendorLot', 'DonorID', 'DonorAge', 'DonorBMI', 'DonorBloodType', 'DonorRace', 'Ethnicity', 'DonorGender', 'QCMeds', 'DonorSmoker', 'new_batch', 'balancing_weight', 'assay'\n",
       "    uns: 'Samplename_colors', 'assay_colors', 'cell_type_colors', 'neighbors', 'umap'\n",
       "    obsm: 'GEX_X_pca', 'GEX_X_umap', 'X_glue', 'X_umap'\n",
       "    layers: 'counts'\n",
       "    obsp: 'connectivities', 'distances'"
      ]
     },
     "execution_count": 6,
     "metadata": {},
     "output_type": "execute_result"
    }
   ],
   "source": [
    "adata = sc.read('/lustre/groups/ml01/workspace/anastasia.litinetskaya/notebooks/snakemake/trimodal/data/glue_trimodal_unpaired_integrated_highly_var.h5ad')\n",
    "adata"
   ]
  },
  {
   "cell_type": "code",
   "execution_count": 4,
   "id": "54a93693-dd69-4df4-bb82-7d7fbb77e1c1",
   "metadata": {},
   "outputs": [
    {
     "data": {
      "text/plain": [
       "dict_keys(['cite_ct_l1_map', 'cite_ct_l2_map', 'multi_ct_l1_map', 'multi_ct_l2_map'])"
      ]
     },
     "execution_count": 4,
     "metadata": {},
     "output_type": "execute_result"
    }
   ],
   "source": [
    "with open('/lustre/groups/ml01/workspace/anastasia.litinetskaya/trimodal_suppl_benchmarks_data/trimodal/cellttype_harmonize.json', 'r') as f:\n",
    "    harmonized_celltypes = json.load(f)\n",
    "harmonized_celltypes.keys()"
   ]
  },
  {
   "cell_type": "code",
   "execution_count": 5,
   "id": "e963a52d-67b1-49ac-8b8a-2fb455c68e31",
   "metadata": {},
   "outputs": [
    {
     "data": {
      "text/plain": [
       "TAGTTGTCACCCTCAC-1-s1d1    multiome\n",
       "CTATGGCCATAACGGG-1-s1d1    multiome\n",
       "CCGCACACAGGTTAAA-1-s1d1    multiome\n",
       "TCATTTGGTAATGGAA-1-s1d1    multiome\n",
       "ACCACATAGGTGTCCA-1-s1d1    multiome\n",
       "                             ...   \n",
       "TCCGGGAGTTGGGTTT-1-s2d5        cite\n",
       "TTGGATGAGGTGCCAA-1-s2d5        cite\n",
       "ACAGAAACACAGCGCT-1-s2d5        cite\n",
       "CACACAAGTCTAATCG-1-s2d5        cite\n",
       "GTCCACTAGCTACGTT-1-s2d5        cite\n",
       "Name: Modality, Length: 147902, dtype: category\n",
       "Categories (2, object): ['cite', 'multiome']"
      ]
     },
     "execution_count": 5,
     "metadata": {},
     "output_type": "execute_result"
    }
   ],
   "source": [
    "adata.obs['Modality']"
   ]
  },
  {
   "cell_type": "code",
   "execution_count": 6,
   "id": "07a0c6e6-c601-48d5-b803-1ac517e5138b",
   "metadata": {},
   "outputs": [
    {
     "data": {
      "text/plain": [
       "GCATTAGCATAAGCGG-1-s1d1    Naive CD20+ B IGKC+\n",
       "TACAGGTGTTAGAGTA-1-s1d1             CD14+ Mono\n",
       "AGGATCTAGGTCTACT-1-s1d1    Naive CD20+ B IGKC+\n",
       "GTAGAAAGTGACACAG-1-s1d1                    HSC\n",
       "TCCGAAAAGGATCATA-1-s1d1           Reticulocyte\n",
       "                                  ...         \n",
       "TCCGGGAGTTGGGTTT-1-s2d5                     NK\n",
       "TTGGATGAGGTGCCAA-1-s2d5            NK CD158e1+\n",
       "ACAGAAACACAGCGCT-1-s2d5    Naive CD20+ B IGKC+\n",
       "CACACAAGTCTAATCG-1-s2d5           CD4+ T naive\n",
       "GTCCACTAGCTACGTT-1-s2d5           CD4+ T naive\n",
       "Name: cell_type, Length: 82964, dtype: category\n",
       "Categories (48, object): ['B1 B', 'B1 B IGKC+', 'B1 B IGKC-', 'CD4+ T CD314+ CD45RA+', ..., 'dnT', 'gdT CD158b+', 'gdT TCRVD2+', 'pDC']"
      ]
     },
     "execution_count": 6,
     "metadata": {},
     "output_type": "execute_result"
    }
   ],
   "source": [
    "adata.obs['cell_type'][adata.obs['Modality'].isin(['cite'])]"
   ]
  },
  {
   "cell_type": "code",
   "execution_count": 7,
   "id": "b4607bff-d260-4a58-91fb-8258c32efc70",
   "metadata": {},
   "outputs": [
    {
     "data": {
      "text/plain": [
       "TAGTTGTCACCCTCAC-1-s1d1    Naive CD20+ B\n",
       "CTATGGCCATAACGGG-1-s1d1       CD14+ Mono\n",
       "CCGCACACAGGTTAAA-1-s1d1           CD8+ T\n",
       "TCATTTGGTAATGGAA-1-s1d1           CD8+ T\n",
       "ACCACATAGGTGTCCA-1-s1d1       CD16+ Mono\n",
       "                               ...      \n",
       "TCGTGCTTCGTTACAA-6-s2d5               NK\n",
       "TGTGGAGCAGGTTAAA-6-s2d5       CD16+ Mono\n",
       "TTCGCAACATGATTGT-6-s2d5           CD8+ T\n",
       "AAGTAGCCATGTGGGA-6-s2d5               NK\n",
       "CTCACTCAGCCTTAAA-6-s2d5       CD14+ Mono\n",
       "Name: cell_type, Length: 64938, dtype: category\n",
       "Categories (48, object): ['B1 B', 'B1 B IGKC+', 'B1 B IGKC-', 'CD4+ T CD314+ CD45RA+', ..., 'dnT', 'gdT CD158b+', 'gdT TCRVD2+', 'pDC']"
      ]
     },
     "execution_count": 7,
     "metadata": {},
     "output_type": "execute_result"
    }
   ],
   "source": [
    "adata.obs['cell_type'][adata.obs['Modality'].isin(['multiome'])]"
   ]
  },
  {
   "cell_type": "code",
   "execution_count": 8,
   "id": "78e874f8-ca7f-430f-9a0f-e3eb2959f4cd",
   "metadata": {},
   "outputs": [],
   "source": [
    "adata.obs['l2_cell_type'] = 'test'\n",
    "multiome_mask = adata.obs['Modality'] == 'multiome'\n",
    "cite_mask = adata.obs['Modality'] == 'cite'\n",
    "adata.obs.loc[multiome_mask, 'l2_cell_type'] = adata.obs['cell_type'].loc[multiome_mask].map(harmonized_celltypes['multi_ct_l2_map'])\n",
    "adata.obs.loc[cite_mask, 'l2_cell_type'] = adata.obs['cell_type'].loc[cite_mask].map(harmonized_celltypes['cite_ct_l2_map'])"
   ]
  },
  {
   "cell_type": "code",
   "execution_count": 9,
   "id": "03030923-964c-448b-b959-00cc4b88adea",
   "metadata": {},
   "outputs": [
    {
     "data": {
      "text/plain": [
       "TAGTTGTCACCCTCAC-1-s1d1       Naive CD20+ B\n",
       "CTATGGCCATAACGGG-1-s1d1          CD14+ Mono\n",
       "CCGCACACAGGTTAAA-1-s1d1    CD8+ T activated\n",
       "TCATTTGGTAATGGAA-1-s1d1    CD8+ T activated\n",
       "ACCACATAGGTGTCCA-1-s1d1          CD16+ Mono\n",
       "                                 ...       \n",
       "TCGTGCTTCGTTACAA-6-s2d5                  NK\n",
       "TGTGGAGCAGGTTAAA-6-s2d5          CD16+ Mono\n",
       "TTCGCAACATGATTGT-6-s2d5    CD8+ T activated\n",
       "AAGTAGCCATGTGGGA-6-s2d5                  NK\n",
       "CTCACTCAGCCTTAAA-6-s2d5          CD14+ Mono\n",
       "Name: l2_cell_type, Length: 64938, dtype: object"
      ]
     },
     "execution_count": 9,
     "metadata": {},
     "output_type": "execute_result"
    }
   ],
   "source": [
    "adata.obs.loc[multiome_mask, 'l2_cell_type']"
   ]
  },
  {
   "cell_type": "code",
   "execution_count": 10,
   "id": "e73f5142-1633-44c6-ac40-b5cc22dde34e",
   "metadata": {},
   "outputs": [
    {
     "data": {
      "text/plain": [
       "GCATTAGCATAAGCGG-1-s1d1    Naive CD20+ B\n",
       "TACAGGTGTTAGAGTA-1-s1d1       CD14+ Mono\n",
       "AGGATCTAGGTCTACT-1-s1d1    Naive CD20+ B\n",
       "GTAGAAAGTGACACAG-1-s1d1              HSC\n",
       "TCCGAAAAGGATCATA-1-s1d1     Reticulocyte\n",
       "                               ...      \n",
       "TCCGGGAGTTGGGTTT-1-s2d5               NK\n",
       "TTGGATGAGGTGCCAA-1-s2d5               NK\n",
       "ACAGAAACACAGCGCT-1-s2d5    Naive CD20+ B\n",
       "CACACAAGTCTAATCG-1-s2d5     CD4+ T naive\n",
       "GTCCACTAGCTACGTT-1-s2d5     CD4+ T naive\n",
       "Name: l2_cell_type, Length: 82964, dtype: object"
      ]
     },
     "execution_count": 10,
     "metadata": {},
     "output_type": "execute_result"
    }
   ],
   "source": [
    "adata.obs.loc[cite_mask, 'l2_cell_type']"
   ]
  },
  {
   "cell_type": "code",
   "execution_count": 11,
   "id": "8cf7a01b-7705-4e78-b0bc-b89353364e1a",
   "metadata": {},
   "outputs": [
    {
     "data": {
      "text/plain": [
       "AnnData object with n_obs × n_vars = 147902 × 0\n",
       "    obs: 'GEX_pct_counts_mt', 'GEX_size_factors', 'GEX_phase', 'cell_type', 'batch', 'GEX_pseudotime_order', 'Samplename', 'Site', 'DonorNumber', 'Modality', 'VendorLot', 'DonorID', 'DonorAge', 'DonorBMI', 'DonorBloodType', 'DonorRace', 'Ethnicity', 'DonorGender', 'QCMeds', 'DonorSmoker', 'new_batch', 'balancing_weight', 'assay', 'l2_cell_type'\n",
       "    uns: 'Samplename_colors', 'assay_colors', 'cell_type_colors', 'neighbors', 'umap'\n",
       "    obsm: 'GEX_X_pca', 'GEX_X_umap', 'X_glue', 'X_umap'\n",
       "    layers: 'counts'\n",
       "    obsp: 'connectivities', 'distances'"
      ]
     },
     "execution_count": 11,
     "metadata": {},
     "output_type": "execute_result"
    }
   ],
   "source": [
    "adata"
   ]
  },
  {
   "cell_type": "code",
   "execution_count": 12,
   "id": "3cd037a7-e1b5-4819-8553-5518ee142014",
   "metadata": {},
   "outputs": [
    {
     "data": {
      "text/plain": [
       "AnnData object with n_obs × n_vars = 147902 × 0\n",
       "    obs: 'GEX_pct_counts_mt', 'GEX_size_factors', 'GEX_phase', 'cell_type', 'batch', 'GEX_pseudotime_order', 'Samplename', 'Site', 'DonorNumber', 'Modality', 'VendorLot', 'DonorID', 'DonorAge', 'DonorBMI', 'DonorBloodType', 'DonorRace', 'Ethnicity', 'DonorGender', 'QCMeds', 'DonorSmoker', 'new_batch', 'balancing_weight', 'assay', 'l2_cell_type'\n",
       "    uns: 'Samplename_colors', 'assay_colors', 'cell_type_colors', 'neighbors', 'umap'\n",
       "    obsm: 'GEX_X_pca', 'GEX_X_umap', 'X_glue', 'X_umap', 'latent'\n",
       "    layers: 'counts'\n",
       "    obsp: 'connectivities', 'distances'"
      ]
     },
     "execution_count": 12,
     "metadata": {},
     "output_type": "execute_result"
    }
   ],
   "source": [
    "adata.obsm['latent'] = adata.obsm['X_glue'].copy()\n",
    "adata"
   ]
  },
  {
   "cell_type": "code",
   "execution_count": 13,
   "id": "fff4448f-1ff3-4afa-adb1-864782ee574f",
   "metadata": {},
   "outputs": [
    {
     "data": {
      "text/plain": [
       "(147902, 50)"
      ]
     },
     "execution_count": 13,
     "metadata": {},
     "output_type": "execute_result"
    }
   ],
   "source": [
    "adata.obsm['latent'].shape"
   ]
  },
  {
   "cell_type": "code",
   "execution_count": 14,
   "id": "32de5516-2b8f-43de-98c9-b7c6e5246163",
   "metadata": {},
   "outputs": [
    {
     "data": {
      "text/plain": [
       "AnnData object with n_obs × n_vars = 147902 × 0\n",
       "    obs: 'GEX_pct_counts_mt', 'GEX_size_factors', 'GEX_phase', 'cell_type', 'batch', 'GEX_pseudotime_order', 'Samplename', 'Site', 'DonorNumber', 'Modality', 'VendorLot', 'DonorID', 'DonorAge', 'DonorBMI', 'DonorBloodType', 'DonorRace', 'Ethnicity', 'DonorGender', 'QCMeds', 'DonorSmoker', 'new_batch', 'balancing_weight', 'assay', 'l2_cell_type'\n",
       "    uns: 'Samplename_colors', 'assay_colors', 'cell_type_colors', 'neighbors', 'umap'\n",
       "    obsm: 'GEX_X_pca', 'GEX_X_umap', 'X_glue', 'X_umap', 'latent'\n",
       "    layers: 'counts'\n",
       "    obsp: 'connectivities', 'distances'"
      ]
     },
     "execution_count": 14,
     "metadata": {},
     "output_type": "execute_result"
    }
   ],
   "source": [
    "adata.write('/lustre/groups/ml01/workspace/anastasia.litinetskaya/notebooks/snakemake/trimodal/data/glue_unpaired_trimodal_integrated_clean.h5ad')\n",
    "adata"
   ]
  },
  {
   "cell_type": "code",
   "execution_count": 7,
   "id": "15d27116-d4f3-41ca-bb58-5602f6efc403",
   "metadata": {},
   "outputs": [
    {
     "name": "stderr",
     "output_type": "stream",
     "text": [
      "/lustre/groups/ml01/workspace/anastasia.litinetskaya/mambaforge/envs/sc/lib/python3.10/site-packages/anndata/_core/anndata.py:117: ImplicitModificationWarning: Transforming to str index.\n",
      "  warnings.warn(\"Transforming to str index.\", ImplicitModificationWarning)\n",
      "/lustre/groups/ml01/workspace/anastasia.litinetskaya/mambaforge/envs/sc/lib/python3.10/site-packages/anndata/_core/anndata.py:1830: UserWarning: Observation names are not unique. To make them unique, call `.obs_names_make_unique`.\n",
      "  utils.warn_names_duplicates(\"obs\")\n"
     ]
    },
    {
     "data": {
      "text/plain": [
       "AnnData object with n_obs × n_vars = 147902 × 0\n",
       "    obs: 'GEX_pct_counts_mt', 'GEX_size_factors', 'GEX_phase', 'cell_type', 'batch', 'GEX_pseudotime_order', 'Samplename', 'Site', 'DonorNumber', 'Modality', 'VendorLot', 'DonorID', 'DonorAge', 'DonorBMI', 'DonorBloodType', 'DonorRace', 'Ethnicity', 'DonorGender', 'QCMeds', 'DonorSmoker', 'new_batch', 'balancing_weight', 'assay', 'l2_cell_type'\n",
       "    uns: 'Samplename_colors', 'assay_colors', 'cell_type_colors', 'neighbors', 'umap'\n",
       "    obsm: 'GEX_X_pca', 'GEX_X_umap', 'X_glue', 'X_umap', 'latent'\n",
       "    layers: 'counts'\n",
       "    obsp: 'connectivities', 'distances'"
      ]
     },
     "execution_count": 7,
     "metadata": {},
     "output_type": "execute_result"
    }
   ],
   "source": [
    "adata = sc.read('/lustre/groups/ml01/workspace/anastasia.litinetskaya/notebooks/snakemake/trimodal/data/glue_unpaired_trimodal_integrated_clean.h5ad')\n",
    "adata"
   ]
  },
  {
   "cell_type": "code",
   "execution_count": 8,
   "id": "3c0a1440-1f39-4186-8e55-a0fc758e2541",
   "metadata": {},
   "outputs": [
    {
     "data": {
      "text/plain": [
       "TAGTTGTCACCCTCAC-1-s1d1    multiome_rna\n",
       "CTATGGCCATAACGGG-1-s1d1    multiome_rna\n",
       "CCGCACACAGGTTAAA-1-s1d1    multiome_rna\n",
       "TCATTTGGTAATGGAA-1-s1d1    multiome_rna\n",
       "ACCACATAGGTGTCCA-1-s1d1    multiome_rna\n",
       "                               ...     \n",
       "TCCGGGAGTTGGGTTT-1-s2d5        cite_adt\n",
       "TTGGATGAGGTGCCAA-1-s2d5        cite_adt\n",
       "ACAGAAACACAGCGCT-1-s2d5        cite_adt\n",
       "CACACAAGTCTAATCG-1-s2d5        cite_adt\n",
       "GTCCACTAGCTACGTT-1-s2d5        cite_adt\n",
       "Name: Modality, Length: 147902, dtype: object"
      ]
     },
     "execution_count": 8,
     "metadata": {},
     "output_type": "execute_result"
    }
   ],
   "source": [
    "adata.obs['Modality'] = adata.obs['Modality'].astype(str) + '_' + adata.obs['assay'].astype(str)\n",
    "adata.obs['Modality']"
   ]
  },
  {
   "cell_type": "code",
   "execution_count": 9,
   "id": "d4a749dc-30c3-4c8e-9003-a3ea9684958a",
   "metadata": {},
   "outputs": [],
   "source": [
    "adata.write('/lustre/groups/ml01/workspace/anastasia.litinetskaya/notebooks/snakemake/trimodal/data/glue_unpaired_trimodal_integrated_clean.h5ad')"
   ]
  },
  {
   "cell_type": "markdown",
   "id": "1dab65d7-c01a-4d64-ac41-ee9c92d53f12",
   "metadata": {},
   "source": [
    "# averaged output"
   ]
  },
  {
   "cell_type": "code",
   "execution_count": 15,
   "id": "23d48ce8-3c30-4459-acb2-322dd57398a0",
   "metadata": {},
   "outputs": [
    {
     "name": "stderr",
     "output_type": "stream",
     "text": [
      "/lustre/groups/ml01/workspace/anastasia.litinetskaya/mambaforge/envs/sc/lib/python3.10/site-packages/anndata/_core/anndata.py:117: ImplicitModificationWarning: Transforming to str index.\n",
      "  warnings.warn(\"Transforming to str index.\", ImplicitModificationWarning)\n",
      "/lustre/groups/ml01/workspace/anastasia.litinetskaya/mambaforge/envs/sc/lib/python3.10/site-packages/anndata/_core/anndata.py:1830: UserWarning: Observation names are not unique. To make them unique, call `.obs_names_make_unique`.\n",
      "  utils.warn_names_duplicates(\"obs\")\n"
     ]
    },
    {
     "data": {
      "text/plain": [
       "AnnData object with n_obs × n_vars = 147902 × 0\n",
       "    obs: 'GEX_pct_counts_mt', 'GEX_size_factors', 'GEX_phase', 'cell_type', 'batch', 'GEX_pseudotime_order', 'Samplename', 'Site', 'DonorNumber', 'Modality', 'VendorLot', 'DonorID', 'DonorAge', 'DonorBMI', 'DonorBloodType', 'DonorRace', 'Ethnicity', 'DonorGender', 'QCMeds', 'DonorSmoker', 'new_batch', 'balancing_weight', 'assay', 'l2_cell_type'\n",
       "    uns: 'Samplename_colors', 'assay_colors', 'cell_type_colors', 'neighbors', 'umap'\n",
       "    obsm: 'GEX_X_pca', 'GEX_X_umap', 'X_glue', 'X_umap', 'latent'\n",
       "    layers: 'counts'\n",
       "    obsp: 'connectivities', 'distances'"
      ]
     },
     "execution_count": 15,
     "metadata": {},
     "output_type": "execute_result"
    }
   ],
   "source": [
    "adata = sc.read('/lustre/groups/ml01/workspace/anastasia.litinetskaya/notebooks/snakemake/trimodal/data/glue_unpaired_trimodal_integrated_clean.h5ad')\n",
    "adata"
   ]
  },
  {
   "cell_type": "code",
   "execution_count": 16,
   "id": "b5a1e2ed-7e70-4d59-a357-c4572966604d",
   "metadata": {},
   "outputs": [
    {
     "data": {
      "text/plain": [
       "Index(['cite', 'multiome'], dtype='object')"
      ]
     },
     "execution_count": 16,
     "metadata": {},
     "output_type": "execute_result"
    }
   ],
   "source": [
    "adata.obs['Modality'].cat.categories"
   ]
  },
  {
   "cell_type": "code",
   "execution_count": 17,
   "id": "bb656ce4-5ca3-43f1-be4a-c254d3e5d4d3",
   "metadata": {},
   "outputs": [
    {
     "data": {
      "text/plain": [
       "Index(['adt', 'atac', 'rna'], dtype='object')"
      ]
     },
     "execution_count": 17,
     "metadata": {},
     "output_type": "execute_result"
    }
   ],
   "source": [
    "adata.obs['assay'].cat.categories"
   ]
  },
  {
   "cell_type": "code",
   "execution_count": 18,
   "id": "98b90273-adfe-46be-9f0d-a5c2d0a12476",
   "metadata": {},
   "outputs": [
    {
     "name": "stderr",
     "output_type": "stream",
     "text": [
      "/lustre/groups/ml01/workspace/anastasia.litinetskaya/mambaforge/envs/sc/lib/python3.10/site-packages/anndata/_core/anndata.py:117: ImplicitModificationWarning: Transforming to str index.\n",
      "  warnings.warn(\"Transforming to str index.\", ImplicitModificationWarning)\n"
     ]
    },
    {
     "data": {
      "text/plain": [
       "AnnData object with n_obs × n_vars = 32469 × 0\n",
       "    obs: 'GEX_pct_counts_mt', 'GEX_size_factors', 'GEX_phase', 'cell_type', 'batch', 'GEX_pseudotime_order', 'Samplename', 'Site', 'DonorNumber', 'Modality', 'VendorLot', 'DonorID', 'DonorAge', 'DonorBMI', 'DonorBloodType', 'DonorRace', 'Ethnicity', 'DonorGender', 'QCMeds', 'DonorSmoker', 'new_batch', 'balancing_weight', 'assay', 'l2_cell_type'\n",
       "    uns: 'Samplename_colors', 'assay_colors', 'cell_type_colors', 'neighbors', 'umap'\n",
       "    obsm: 'GEX_X_pca', 'GEX_X_umap', 'X_glue', 'X_umap', 'latent'\n",
       "    layers: 'counts'\n",
       "    obsp: 'connectivities', 'distances'"
      ]
     },
     "execution_count": 18,
     "metadata": {},
     "output_type": "execute_result"
    }
   ],
   "source": [
    "rna_multiome = adata[(adata.obs['Modality'] == 'multiome') & (adata.obs['assay'] == 'rna')].copy()\n",
    "rna_multiome"
   ]
  },
  {
   "cell_type": "code",
   "execution_count": 19,
   "id": "b9efff5e-2326-421e-afd0-f1f61975b906",
   "metadata": {},
   "outputs": [
    {
     "name": "stderr",
     "output_type": "stream",
     "text": [
      "/lustre/groups/ml01/workspace/anastasia.litinetskaya/mambaforge/envs/sc/lib/python3.10/site-packages/anndata/_core/anndata.py:117: ImplicitModificationWarning: Transforming to str index.\n",
      "  warnings.warn(\"Transforming to str index.\", ImplicitModificationWarning)\n"
     ]
    },
    {
     "data": {
      "text/plain": [
       "AnnData object with n_obs × n_vars = 32469 × 0\n",
       "    obs: 'GEX_pct_counts_mt', 'GEX_size_factors', 'GEX_phase', 'cell_type', 'batch', 'GEX_pseudotime_order', 'Samplename', 'Site', 'DonorNumber', 'Modality', 'VendorLot', 'DonorID', 'DonorAge', 'DonorBMI', 'DonorBloodType', 'DonorRace', 'Ethnicity', 'DonorGender', 'QCMeds', 'DonorSmoker', 'new_batch', 'balancing_weight', 'assay', 'l2_cell_type'\n",
       "    uns: 'Samplename_colors', 'assay_colors', 'cell_type_colors', 'neighbors', 'umap'\n",
       "    obsm: 'GEX_X_pca', 'GEX_X_umap', 'X_glue', 'X_umap', 'latent'\n",
       "    layers: 'counts'\n",
       "    obsp: 'connectivities', 'distances'"
      ]
     },
     "execution_count": 19,
     "metadata": {},
     "output_type": "execute_result"
    }
   ],
   "source": [
    "atac_multiome = adata[(adata.obs['Modality'] == 'multiome') & (adata.obs['assay'] == 'atac')].copy()\n",
    "atac_multiome"
   ]
  },
  {
   "cell_type": "code",
   "execution_count": 20,
   "id": "e9a550d8-9b65-4fdd-9f29-c664d0406a85",
   "metadata": {},
   "outputs": [
    {
     "data": {
      "text/plain": [
       "0"
      ]
     },
     "execution_count": 20,
     "metadata": {},
     "output_type": "execute_result"
    }
   ],
   "source": [
    "np.sum(rna_multiome.obs_names != atac_multiome.obs_names)"
   ]
  },
  {
   "cell_type": "code",
   "execution_count": 21,
   "id": "7fec5b37-83eb-405e-811c-181b93926cb9",
   "metadata": {},
   "outputs": [
    {
     "name": "stderr",
     "output_type": "stream",
     "text": [
      "/lustre/groups/ml01/workspace/anastasia.litinetskaya/mambaforge/envs/sc/lib/python3.10/site-packages/anndata/_core/anndata.py:117: ImplicitModificationWarning: Transforming to str index.\n",
      "  warnings.warn(\"Transforming to str index.\", ImplicitModificationWarning)\n"
     ]
    },
    {
     "data": {
      "text/plain": [
       "AnnData object with n_obs × n_vars = 41482 × 0\n",
       "    obs: 'GEX_pct_counts_mt', 'GEX_size_factors', 'GEX_phase', 'cell_type', 'batch', 'GEX_pseudotime_order', 'Samplename', 'Site', 'DonorNumber', 'Modality', 'VendorLot', 'DonorID', 'DonorAge', 'DonorBMI', 'DonorBloodType', 'DonorRace', 'Ethnicity', 'DonorGender', 'QCMeds', 'DonorSmoker', 'new_batch', 'balancing_weight', 'assay', 'l2_cell_type'\n",
       "    uns: 'Samplename_colors', 'assay_colors', 'cell_type_colors', 'neighbors', 'umap'\n",
       "    obsm: 'GEX_X_pca', 'GEX_X_umap', 'X_glue', 'X_umap', 'latent'\n",
       "    layers: 'counts'\n",
       "    obsp: 'connectivities', 'distances'"
      ]
     },
     "execution_count": 21,
     "metadata": {},
     "output_type": "execute_result"
    }
   ],
   "source": [
    "rna_cite = adata[(adata.obs['Modality'] == 'cite') & (adata.obs['assay'] == 'rna')].copy()\n",
    "rna_cite"
   ]
  },
  {
   "cell_type": "code",
   "execution_count": 22,
   "id": "7af3c69c-d47e-475e-afab-c4474ac268a5",
   "metadata": {},
   "outputs": [
    {
     "name": "stderr",
     "output_type": "stream",
     "text": [
      "/lustre/groups/ml01/workspace/anastasia.litinetskaya/mambaforge/envs/sc/lib/python3.10/site-packages/anndata/_core/anndata.py:117: ImplicitModificationWarning: Transforming to str index.\n",
      "  warnings.warn(\"Transforming to str index.\", ImplicitModificationWarning)\n"
     ]
    },
    {
     "data": {
      "text/plain": [
       "AnnData object with n_obs × n_vars = 41482 × 0\n",
       "    obs: 'GEX_pct_counts_mt', 'GEX_size_factors', 'GEX_phase', 'cell_type', 'batch', 'GEX_pseudotime_order', 'Samplename', 'Site', 'DonorNumber', 'Modality', 'VendorLot', 'DonorID', 'DonorAge', 'DonorBMI', 'DonorBloodType', 'DonorRace', 'Ethnicity', 'DonorGender', 'QCMeds', 'DonorSmoker', 'new_batch', 'balancing_weight', 'assay', 'l2_cell_type'\n",
       "    uns: 'Samplename_colors', 'assay_colors', 'cell_type_colors', 'neighbors', 'umap'\n",
       "    obsm: 'GEX_X_pca', 'GEX_X_umap', 'X_glue', 'X_umap', 'latent'\n",
       "    layers: 'counts'\n",
       "    obsp: 'connectivities', 'distances'"
      ]
     },
     "execution_count": 22,
     "metadata": {},
     "output_type": "execute_result"
    }
   ],
   "source": [
    "adt_cite = adata[(adata.obs['Modality'] == 'cite') & (adata.obs['assay'] == 'adt')].copy()\n",
    "adt_cite"
   ]
  },
  {
   "cell_type": "code",
   "execution_count": 23,
   "id": "fd111701-e657-4016-b24c-1a3c64ea7e10",
   "metadata": {},
   "outputs": [
    {
     "data": {
      "text/plain": [
       "0"
      ]
     },
     "execution_count": 23,
     "metadata": {},
     "output_type": "execute_result"
    }
   ],
   "source": [
    "np.sum(rna_cite.obs_names != adt_cite.obs_names)"
   ]
  },
  {
   "cell_type": "code",
   "execution_count": 24,
   "id": "2a65bf3b-68de-4fdc-ad1c-88e4a1afb416",
   "metadata": {},
   "outputs": [
    {
     "data": {
      "text/plain": [
       "AnnData object with n_obs × n_vars = 32469 × 50\n",
       "    obs: 'GEX_pct_counts_mt', 'GEX_size_factors', 'GEX_phase', 'cell_type', 'batch', 'GEX_pseudotime_order', 'Samplename', 'Site', 'DonorNumber', 'Modality', 'VendorLot', 'DonorID', 'DonorAge', 'DonorBMI', 'DonorBloodType', 'DonorRace', 'Ethnicity', 'DonorGender', 'QCMeds', 'DonorSmoker', 'new_batch', 'balancing_weight', 'assay', 'l2_cell_type'"
      ]
     },
     "execution_count": 24,
     "metadata": {},
     "output_type": "execute_result"
    }
   ],
   "source": [
    "multiome = sc.AnnData(X = 0.5*(rna_multiome.obsm['latent'] + atac_multiome.obsm['latent']), obs=rna_multiome.obs)\n",
    "multiome"
   ]
  },
  {
   "cell_type": "code",
   "execution_count": 25,
   "id": "6c0e4d95-28f3-4ee2-9e86-9794efa9b056",
   "metadata": {},
   "outputs": [],
   "source": [
    "multiome.obsm['latent'] = multiome.X.copy()"
   ]
  },
  {
   "cell_type": "code",
   "execution_count": 26,
   "id": "cbd42d36-e88b-477f-9fba-8cf637ca0816",
   "metadata": {},
   "outputs": [
    {
     "data": {
      "text/plain": [
       "AnnData object with n_obs × n_vars = 41482 × 50\n",
       "    obs: 'GEX_pct_counts_mt', 'GEX_size_factors', 'GEX_phase', 'cell_type', 'batch', 'GEX_pseudotime_order', 'Samplename', 'Site', 'DonorNumber', 'Modality', 'VendorLot', 'DonorID', 'DonorAge', 'DonorBMI', 'DonorBloodType', 'DonorRace', 'Ethnicity', 'DonorGender', 'QCMeds', 'DonorSmoker', 'new_batch', 'balancing_weight', 'assay', 'l2_cell_type'"
      ]
     },
     "execution_count": 26,
     "metadata": {},
     "output_type": "execute_result"
    }
   ],
   "source": [
    "cite = sc.AnnData(X = 0.5*(rna_cite.obsm['latent'] + adt_cite.obsm['latent']), obs=rna_cite.obs)\n",
    "cite"
   ]
  },
  {
   "cell_type": "code",
   "execution_count": 27,
   "id": "8edda846-1b15-4e98-be26-e220d53f5d34",
   "metadata": {},
   "outputs": [],
   "source": [
    "cite.obsm['latent'] = cite.X.copy()"
   ]
  },
  {
   "cell_type": "code",
   "execution_count": 28,
   "id": "d4850258-1d2e-469b-97ec-25bd540b9da2",
   "metadata": {},
   "outputs": [
    {
     "data": {
      "text/plain": [
       "AnnData object with n_obs × n_vars = 73951 × 50\n",
       "    obs: 'GEX_pct_counts_mt', 'GEX_size_factors', 'GEX_phase', 'cell_type', 'batch', 'GEX_pseudotime_order', 'Samplename', 'Site', 'DonorNumber', 'Modality', 'VendorLot', 'DonorID', 'DonorAge', 'DonorBMI', 'DonorBloodType', 'DonorRace', 'Ethnicity', 'DonorGender', 'QCMeds', 'DonorSmoker', 'new_batch', 'balancing_weight', 'assay', 'l2_cell_type'\n",
       "    obsm: 'latent'"
      ]
     },
     "execution_count": 28,
     "metadata": {},
     "output_type": "execute_result"
    }
   ],
   "source": [
    "latent = ad.concat([multiome, cite])\n",
    "latent"
   ]
  },
  {
   "cell_type": "code",
   "execution_count": 29,
   "id": "63c4652d-ef1d-468a-ab5f-b39d8b04f051",
   "metadata": {},
   "outputs": [],
   "source": [
    "latent.write('/lustre/groups/ml01/workspace/anastasia.litinetskaya/notebooks/snakemake/trimodal/data/averaged_glue_unpaired_trimodal_integrated_clean.h5ad')"
   ]
  },
  {
   "cell_type": "code",
   "execution_count": null,
   "id": "21c115a1-2418-4765-a317-891aef039047",
   "metadata": {},
   "outputs": [],
   "source": []
  }
 ],
 "metadata": {
  "kernelspec": {
   "display_name": "Python 3 (ipykernel)",
   "language": "python",
   "name": "python3"
  },
  "language_info": {
   "codemirror_mode": {
    "name": "ipython",
    "version": 3
   },
   "file_extension": ".py",
   "mimetype": "text/x-python",
   "name": "python",
   "nbconvert_exporter": "python",
   "pygments_lexer": "ipython3",
   "version": "3.10.12"
  }
 },
 "nbformat": 4,
 "nbformat_minor": 5
}
