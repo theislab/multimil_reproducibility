{
 "cells": [
  {
   "cell_type": "code",
   "execution_count": 1,
   "id": "16c7d15c-b5f5-4e2f-b3ba-fb669775036d",
   "metadata": {},
   "outputs": [],
   "source": [
    "x=1"
   ]
  },
  {
   "cell_type": "code",
   "execution_count": 2,
   "id": "5f3ef24e-ec87-4338-b390-e086268cc325",
   "metadata": {},
   "outputs": [
    {
     "data": {
      "text/html": [
       "<pre style=\"white-space:pre;overflow-x:auto;line-height:normal;font-family:Menlo,'DejaVu Sans Mono',consolas,'Courier New',monospace\"><span style=\"color: #808000; text-decoration-color: #808000; font-weight: bold\">To use sccoda or tasccoda please install ete3 with </span><span style=\"color: #008000; text-decoration-color: #008000; font-weight: bold\">pip install ete3</span>\n",
       "</pre>\n"
      ],
      "text/plain": [
       "\u001b[1;33mTo use sccoda or tasccoda please install ete3 with \u001b[0m\u001b[1;32mpip install ete3\u001b[0m\n"
      ]
     },
     "metadata": {},
     "output_type": "display_data"
    }
   ],
   "source": [
    "import warnings\n",
    "\n",
    "warnings.filterwarnings(\"ignore\")\n",
    "\n",
    "import matplotlib.pyplot as plt\n",
    "import seaborn as sns\n",
    "import decoupler as dc\n",
    "import scanpy as sc\n",
    "import pandas as pd\n",
    "import numpy as np\n",
    "import random\n",
    "import sc_toolbox\n",
    "import pertpy \n",
    "\n",
    "import rpy2.rinterface_lib.callbacks\n",
    "import anndata2ri\n",
    "import logging\n",
    "\n",
    "from rpy2.robjects import pandas2ri\n",
    "from rpy2.robjects import r\n",
    "\n",
    "sc.settings.verbosity = 0\n",
    "rpy2.rinterface_lib.callbacks.logger.setLevel(logging.ERROR)\n",
    "\n",
    "pandas2ri.activate()\n",
    "anndata2ri.activate()"
   ]
  },
  {
   "cell_type": "code",
   "execution_count": 3,
   "id": "fa89b3c7-8e7c-4ced-a86b-b18945c99531",
   "metadata": {},
   "outputs": [
    {
     "data": {
      "text/plain": [
       "AnnData object with n_obs × n_vars = 152766 × 30\n",
       "    obs: \"3'_or_5'\", 'BMI', 'age_or_mean_of_age_range', 'age_range', 'anatomical_region_ccf_score', 'ancestry', 'ann_coarse_for_GWAS_and_modeling', 'ann_finest_level', 'ann_level_1', 'ann_level_2', 'ann_level_3', 'ann_level_4', 'ann_level_5', 'assay', 'cause_of_death', 'cell_type', 'core_or_extension', 'dataset', 'development_stage', 'disease', 'donor_id', 'fresh_or_frozen', 'log10_total_counts', 'lung_condition', 'mixed_ancestry', 'original_ann_level_1', 'original_ann_level_2', 'original_ann_level_3', 'original_ann_level_4', 'original_ann_level_5', 'original_ann_nonharmonized', 'reannotation_type', 'sample', 'scanvi_label', 'sequencing_platform', 'sex', 'smoking_status', 'study', 'subject_type', 'suspension_type', 'tissue', 'tissue_coarse_unharmonized', 'tissue_detailed_unharmonized', 'tissue_dissociation_protocol', 'tissue_level_2', 'tissue_level_3', 'tissue_sampling_method', 'total_counts', 'transf_ann_level_1_label', 'transf_ann_level_1_uncert', 'transf_ann_level_2_label', 'transf_ann_level_2_uncert', 'transf_ann_level_3_label', 'transf_ann_level_3_uncert', 'transf_ann_level_4_label', 'transf_ann_level_4_uncert', 'transf_ann_level_5_label', 'transf_ann_level_5_uncert', 'lung_condition_coarse', 'split0', 'split1', 'split2', 'split3', 'split4', 'group', 'cell_attn_0', 'cell_attn_1', 'cell_attn_2', 'cell_attn_3', 'cell_attn_4', 'cell_attn'\n",
       "    obsm: 'latent_0', 'latent_1', 'latent_2', 'latent_3', 'latent_4'"
      ]
     },
     "execution_count": 3,
     "metadata": {},
     "output_type": "execute_result"
    }
   ],
   "source": [
    "adata = sc.read('../../../pipeline/data/multigrate_mil/hlca_healthy_copd_embed_balanced/1fe5654238_adata_both.h5ad')\n",
    "adata"
   ]
  },
  {
   "cell_type": "code",
   "execution_count": 15,
   "id": "e6caab18-c5f2-4a28-b3e3-ff60174a4ee2",
   "metadata": {},
   "outputs": [],
   "source": [
    "hlca = sc.read('../../../../snakemake/hlca/5fold/hlca_hyperparam/data/pp/hlca_hvg_pearson.h5ad')\n",
    "adata.obsm['counts'] = hlca[adata.obs_names].X"
   ]
  },
  {
   "cell_type": "code",
   "execution_count": 5,
   "id": "49f7e329-3939-4a87-ad49-b0805f35afd3",
   "metadata": {},
   "outputs": [],
   "source": [
    "adata.write('../../../../data_to_share/hlca_healthy_copd_subset.h5ad')"
   ]
  },
  {
   "cell_type": "code",
   "execution_count": 16,
   "id": "8ae11d86-d462-40ad-9aca-fb9f82b77ca5",
   "metadata": {},
   "outputs": [
    {
     "data": {
      "text/plain": [
       "AnnData object with n_obs × n_vars = 152766 × 30\n",
       "    obs: \"3'_or_5'\", 'BMI', 'age_or_mean_of_age_range', 'age_range', 'anatomical_region_ccf_score', 'ancestry', 'ann_coarse_for_GWAS_and_modeling', 'ann_finest_level', 'ann_level_1', 'ann_level_2', 'ann_level_3', 'ann_level_4', 'ann_level_5', 'assay', 'cause_of_death', 'cell_type', 'core_or_extension', 'dataset', 'development_stage', 'disease', 'donor_id', 'fresh_or_frozen', 'log10_total_counts', 'lung_condition', 'mixed_ancestry', 'original_ann_level_1', 'original_ann_level_2', 'original_ann_level_3', 'original_ann_level_4', 'original_ann_level_5', 'original_ann_nonharmonized', 'reannotation_type', 'sample', 'scanvi_label', 'sequencing_platform', 'sex', 'smoking_status', 'study', 'subject_type', 'suspension_type', 'tissue', 'tissue_coarse_unharmonized', 'tissue_detailed_unharmonized', 'tissue_dissociation_protocol', 'tissue_level_2', 'tissue_level_3', 'tissue_sampling_method', 'total_counts', 'transf_ann_level_1_label', 'transf_ann_level_1_uncert', 'transf_ann_level_2_label', 'transf_ann_level_2_uncert', 'transf_ann_level_3_label', 'transf_ann_level_3_uncert', 'transf_ann_level_4_label', 'transf_ann_level_4_uncert', 'transf_ann_level_5_label', 'transf_ann_level_5_uncert', 'lung_condition_coarse', 'split0', 'split1', 'split2', 'split3', 'split4', 'group', 'cell_attn_0', 'cell_attn_1', 'cell_attn_2', 'cell_attn_3', 'cell_attn_4', 'cell_attn'\n",
       "    obsm: 'counts', 'latent_0', 'latent_1', 'latent_2', 'latent_3', 'latent_4'"
      ]
     },
     "execution_count": 16,
     "metadata": {},
     "output_type": "execute_result"
    }
   ],
   "source": [
    "adata = sc.read('../../../../data_to_share/hlca_healthy_copd_subset.h5ad')\n",
    "adata"
   ]
  },
  {
   "cell_type": "code",
   "execution_count": 17,
   "id": "007044ba-9bb3-414c-b686-00c81de2c7d2",
   "metadata": {},
   "outputs": [
    {
     "data": {
      "text/plain": [
       "array([ 1.,  1.,  2., ..., 15.,  1.,  6.], dtype=float32)"
      ]
     },
     "execution_count": 17,
     "metadata": {},
     "output_type": "execute_result"
    }
   ],
   "source": [
    "adata.obsm['counts'].data"
   ]
  },
  {
   "cell_type": "code",
   "execution_count": 18,
   "id": "6b604c17-def4-426a-ae3b-9074477911bc",
   "metadata": {},
   "outputs": [
    {
     "data": {
      "text/plain": [
       "<152766x2000 sparse matrix of type '<class 'numpy.float32'>'\n",
       "\twith 46181614 stored elements in Compressed Sparse Row format>"
      ]
     },
     "execution_count": 18,
     "metadata": {},
     "output_type": "execute_result"
    }
   ],
   "source": [
    "adata.obsm['counts']"
   ]
  },
  {
   "cell_type": "code",
   "execution_count": 19,
   "id": "24e93ae2-1fc9-4a4a-ad7d-27302df9c477",
   "metadata": {},
   "outputs": [],
   "source": [
    "import rpy2.robjects as ro\n",
    "\n",
    "def run_de(adata):\n",
    "    r=ro.r\n",
    "    r.source(\"de.R\")\n",
    "    df = r.fit_model(adata)\n",
    "    return df"
   ]
  },
  {
   "cell_type": "code",
   "execution_count": 20,
   "id": "bd67c322-4eeb-4f30-ae05-c68d1bd5e05f",
   "metadata": {},
   "outputs": [
    {
     "data": {
      "text/plain": [
       "AnnData object with n_obs × n_vars = 67687 × 30\n",
       "    obs: \"3'_or_5'\", 'BMI', 'age_or_mean_of_age_range', 'age_range', 'anatomical_region_ccf_score', 'ancestry', 'ann_coarse_for_GWAS_and_modeling', 'ann_finest_level', 'ann_level_1', 'ann_level_2', 'ann_level_3', 'ann_level_4', 'ann_level_5', 'assay', 'cause_of_death', 'cell_type', 'core_or_extension', 'dataset', 'development_stage', 'disease', 'donor_id', 'fresh_or_frozen', 'log10_total_counts', 'lung_condition', 'mixed_ancestry', 'original_ann_level_1', 'original_ann_level_2', 'original_ann_level_3', 'original_ann_level_4', 'original_ann_level_5', 'original_ann_nonharmonized', 'reannotation_type', 'sample', 'scanvi_label', 'sequencing_platform', 'sex', 'smoking_status', 'study', 'subject_type', 'suspension_type', 'tissue', 'tissue_coarse_unharmonized', 'tissue_detailed_unharmonized', 'tissue_dissociation_protocol', 'tissue_level_2', 'tissue_level_3', 'tissue_sampling_method', 'total_counts', 'transf_ann_level_1_label', 'transf_ann_level_1_uncert', 'transf_ann_level_2_label', 'transf_ann_level_2_uncert', 'transf_ann_level_3_label', 'transf_ann_level_3_uncert', 'transf_ann_level_4_label', 'transf_ann_level_4_uncert', 'transf_ann_level_5_label', 'transf_ann_level_5_uncert', 'lung_condition_coarse', 'split0', 'split1', 'split2', 'split3', 'split4', 'group', 'cell_attn_0', 'cell_attn_1', 'cell_attn_2', 'cell_attn_3', 'cell_attn_4', 'cell_attn'\n",
       "    obsm: 'counts', 'latent_0', 'latent_1', 'latent_2', 'latent_3', 'latent_4'"
      ]
     },
     "execution_count": 20,
     "metadata": {},
     "output_type": "execute_result"
    }
   ],
   "source": [
    "adata_disease = adata[adata.obs['lung_condition_coarse'] == 'COPD'].copy()\n",
    "adata_disease"
   ]
  },
  {
   "cell_type": "code",
   "execution_count": 21,
   "id": "d9715677-a91d-40ff-b4fe-324b0e6eca67",
   "metadata": {},
   "outputs": [
    {
     "data": {
      "text/plain": [
       "array(['AT1', 'AT2', 'B cell lineage', 'Basal', 'Dendritic cells',\n",
       "       'EC arterial', 'EC capillary', 'EC venous', 'Fibroblasts',\n",
       "       'Innate lymphoid cell NK', 'Lymphatic EC differentiating',\n",
       "       'Lymphatic EC mature', 'Macrophages', 'Mast cells', 'Monocytes',\n",
       "       'Multiciliated lineage', 'Myofibroblasts',\n",
       "       'SM activated stress response', 'Secretory', 'T cell lineage'],\n",
       "      dtype=object)"
      ]
     },
     "execution_count": 21,
     "metadata": {},
     "output_type": "execute_result"
    }
   ],
   "source": [
    "np.unique(adata_disease.obs['transf_ann_level_3_label'])\n",
    "#['AT1', 'AT2', 'Dendritic cells', 'B cell lineage', 'EC arterial', 'EC capillary', 'EC venous']"
   ]
  },
  {
   "cell_type": "code",
   "execution_count": 22,
   "id": "e1fd9fd2-1a3f-4064-b56f-f1612aec41c7",
   "metadata": {},
   "outputs": [
    {
     "data": {
      "text/plain": [
       "array(['2_Mesothelium', '3_AT1', '3_AT2', '3_EC arterial',\n",
       "       '3_Lymphatic EC differentiating', '3_Lymphatic EC mature',\n",
       "       '3_Mast cells', '3_Myofibroblasts',\n",
       "       '3_SM activated stress response', 'AT2 proliferating',\n",
       "       'Adventitial fibroblasts', 'Alveolar fibroblasts',\n",
       "       'Alveolar macrophages', 'B cells', 'Basal resting', 'CD4 T cells',\n",
       "       'CD8 T cells', 'Classical monocytes', 'Club', 'DC1', 'DC2',\n",
       "       'Deuterosomal', 'EC aerocyte capillary', 'EC general capillary',\n",
       "       'EC venous pulmonary', 'EC venous systemic', 'Goblet',\n",
       "       'Hillock-like', 'Interstitial macrophages', 'Migratory DCs',\n",
       "       'Multiciliated', 'NK cells', 'Non-classical monocytes',\n",
       "       'Peribronchial fibroblasts', 'Pericytes', 'Plasma cells',\n",
       "       'Plasmacytoid DCs', 'Subpleural fibroblasts', 'Suprabasal',\n",
       "       'T cells proliferating', 'Transitional Club-AT2'], dtype=object)"
      ]
     },
     "execution_count": 22,
     "metadata": {},
     "output_type": "execute_result"
    }
   ],
   "source": [
    "np.unique(adata_disease.obs['transf_ann_level_4_label'])\n",
    "#['DC1', 'DC2', 'Plasmacytoid DCs', 'CD4 T cells', 'CD8 T cells', 'B cells']"
   ]
  },
  {
   "cell_type": "code",
   "execution_count": 25,
   "id": "299f0c18-4d90-4aba-8fdb-cbe77c5b3d0b",
   "metadata": {},
   "outputs": [
    {
     "name": "stdout",
     "output_type": "stream",
     "text": [
      "Processing AT1...\n",
      "(39, 802)\n",
      "[1] \"Dimensions before subsetting:\"\n",
      "[1] 802  39\n",
      "[1] \"\"\n",
      "[1] \"Dimensions after subsetting:\"\n",
      "[1] 176  39\n",
      "[1] \"\"\n",
      "Processing AT2...\n",
      "(43, 1115)\n",
      "[1] \"Dimensions before subsetting:\"\n",
      "[1] 1115   43\n",
      "[1] \"\"\n",
      "[1] \"Dimensions after subsetting:\"\n",
      "[1] 230  43\n",
      "[1] \"\"\n",
      "Processing Dendritic cells...\n",
      "(46, 1427)\n",
      "[1] \"Dimensions before subsetting:\"\n",
      "[1] 1427   46\n",
      "[1] \"\"\n",
      "[1] \"Dimensions after subsetting:\"\n",
      "[1] 481  46\n",
      "[1] \"\"\n",
      "Processing B cell lineage...\n",
      "(44, 1253)\n",
      "[1] \"Dimensions before subsetting:\"\n",
      "[1] 1253   44\n",
      "[1] \"\"\n",
      "[1] \"Dimensions after subsetting:\"\n",
      "[1] 306  44\n",
      "[1] \"\"\n",
      "Processing EC arterial...\n",
      "(24, 549)\n",
      "[1] \"Dimensions before subsetting:\"\n",
      "[1] 549  24\n",
      "[1] \"\"\n",
      "[1] \"Dimensions after subsetting:\"\n",
      "[1] 113  24\n",
      "[1] \"\"\n",
      "Processing EC capillary...\n",
      "(34, 772)\n",
      "[1] \"Dimensions before subsetting:\"\n",
      "[1] 772  34\n",
      "[1] \"\"\n",
      "[1] \"Dimensions after subsetting:\"\n",
      "[1] 60 34\n",
      "[1] \"\"\n",
      "Processing EC venous...\n",
      "(32, 653)\n",
      "[1] \"Dimensions before subsetting:\"\n",
      "[1] 653  32\n",
      "[1] \"\"\n",
      "[1] \"Dimensions after subsetting:\"\n",
      "[1] 108  32\n",
      "[1] \"\"\n",
      "Processing Macrophages...\n",
      "(47, 1739)\n",
      "[1] \"Dimensions before subsetting:\"\n",
      "[1] 1739   47\n",
      "[1] \"\"\n",
      "[1] \"Dimensions after subsetting:\"\n",
      "[1] 817  47\n",
      "[1] \"\"\n"
     ]
    }
   ],
   "source": [
    "for ct in ['AT1', 'AT2', 'Dendritic cells', 'B cell lineage', 'EC arterial', 'EC capillary', 'EC venous', 'Macrophages']:\n",
    "    print(f'Processing {ct}...')\n",
    "    adata_ct = adata[adata.obs['transf_ann_level_3_label'] == ct].copy()\n",
    "    adata_ct_disease = adata_ct[adata_ct.obs['lung_condition_coarse'] == 'COPD'].copy()\n",
    "\n",
    "    if len(adata_ct_disease) == 0:\n",
    "        continue\n",
    "    \n",
    "    threshold_idx = int(len(adata_ct_disease) * 0.9)\n",
    "    threshold_value = sorted(adata_ct_disease.obs['cell_attn'])[threshold_idx]\n",
    "    \n",
    "    adata_ct_disease.obs['group'] = 'all'\n",
    "    adata_ct_disease.obs.loc[adata_ct_disease.obs['cell_attn'] >= threshold_value, 'group'] = 'top'\n",
    "\n",
    "    # adata_ct_disease.obs['sample_group'] = adata_ct_disease.obs['sample'].astype('str') + '_' + adata_ct_disease.obs['group']\n",
    "    # adata_ct_disease.obs['sample_group'] = adata_ct_disease.obs['sample_group'].astype('category')\n",
    "\n",
    "    # samples_to_exclude = []\n",
    "    # for sample in np.unique(adata_ct_disease.obs[['sample_group']]):\n",
    "    #     sample_len = len(adata_ct_disease[adata_ct_disease.obs['sample_group'] == sample])\n",
    "    #     if sample_len < 10:\n",
    "    #         samples_to_exclude.append(sample)\n",
    "    \n",
    "    # adata_ct_disease = adata_ct_disease[~adata_ct_disease.obs['sample_group'].isin(samples_to_exclude)].copy()\n",
    "\n",
    "    #adata_ct_disease.X = adata_ct_disease.obsm['counts'].copy()\n",
    "    adata_pb = sc.AnnData(adata_ct_disease.obsm['counts'])\n",
    "    adata_pb.obs = adata_ct_disease.obs\n",
    "    adata_pb.var_names = hlca.var_names\n",
    "\n",
    "    adata_ = dc.get_pseudobulk(adata_pb, 'sample', 'group', mode='sum', min_cells=-1, min_counts=10)\n",
    "\n",
    "    adata_r = sc.AnnData(adata_.X, obs=adata_.obs[['group', 'study', 'sample']])\n",
    "    adata_r.var_names = adata_.var_names\n",
    "    adata_r.obs['sample'] = adata_r.obs['sample'].str.replace('-', '_')\n",
    "    adata_r.obs.index = adata_r.obs.index.str.replace('-', '_')\n",
    "\n",
    "    adata_r = adata_r.copy()\n",
    "\n",
    "    sc.pp.filter_genes(adata_r, min_cells=10)\n",
    "    print(adata_r.X.shape)\n",
    "    if ((adata_r.X.shape[0] == 0) or (adata_r.X.shape[1] == 0)):\n",
    "        continue\n",
    "    df = run_de(adata_r)\n",
    "\n",
    "    df = ro.conversion.rpy2py(df)\n",
    "    df.to_csv(f'de_results/level3_{ct}.csv')"
   ]
  },
  {
   "cell_type": "code",
   "execution_count": 24,
   "id": "f90f4aca-596f-4c68-92e1-63981bcf723e",
   "metadata": {},
   "outputs": [
    {
     "name": "stdout",
     "output_type": "stream",
     "text": [
      "Processing DC1...\n",
      "(29, 582)\n",
      "[1] \"Dimensions before subsetting:\"\n",
      "[1] 582  29\n",
      "[1] \"\"\n",
      "[1] \"Dimensions after subsetting:\"\n",
      "[1] 215  29\n",
      "[1] \"\"\n",
      "Processing DC2...\n",
      "(45, 1375)\n",
      "[1] \"Dimensions before subsetting:\"\n",
      "[1] 1375   45\n",
      "[1] \"\"\n",
      "[1] \"Dimensions after subsetting:\"\n",
      "[1] 459  45\n",
      "[1] \"\"\n",
      "Processing Plasmacytoid DCs...\n",
      "(30, 510)\n",
      "[1] \"Dimensions before subsetting:\"\n",
      "[1] 510  30\n",
      "[1] \"\"\n",
      "[1] \"Dimensions after subsetting:\"\n",
      "[1] 133  30\n",
      "[1] \"\"\n",
      "Processing CD4 T cells...\n",
      "(46, 1338)\n",
      "[1] \"Dimensions before subsetting:\"\n",
      "[1] 1338   46\n",
      "[1] \"\"\n",
      "[1] \"Dimensions after subsetting:\"\n",
      "[1] 386  46\n",
      "[1] \"\"\n",
      "Processing CD8 T cells...\n",
      "(45, 1418)\n",
      "[1] \"Dimensions before subsetting:\"\n",
      "[1] 1418   45\n",
      "[1] \"\"\n",
      "[1] \"Dimensions after subsetting:\"\n",
      "[1] 426  45\n",
      "[1] \"\"\n",
      "Processing B cells...\n",
      "(43, 1115)\n",
      "[1] \"Dimensions before subsetting:\"\n",
      "[1] 1115   43\n",
      "[1] \"\"\n",
      "[1] \"Dimensions after subsetting:\"\n",
      "[1] 241  43\n",
      "[1] \"\"\n"
     ]
    }
   ],
   "source": [
    "for ct in ['DC1', 'DC2', 'Plasmacytoid DCs', 'CD4 T cells', 'CD8 T cells', 'B cells']:\n",
    "    print(f'Processing {ct}...')\n",
    "    adata_ct = adata[adata.obs['transf_ann_level_4_label'] == ct].copy()\n",
    "    adata_ct_disease = adata_ct[adata_ct.obs['lung_condition_coarse'] == 'COPD'].copy()\n",
    "\n",
    "    if len(adata_ct_disease) == 0:\n",
    "        continue\n",
    "    \n",
    "    threshold_idx = int(len(adata_ct_disease) * 0.9)\n",
    "    threshold_value = sorted(adata_ct_disease.obs['cell_attn'])[threshold_idx]\n",
    "    \n",
    "    adata_ct_disease.obs['group'] = 'all'\n",
    "    adata_ct_disease.obs.loc[adata_ct_disease.obs['cell_attn'] >= threshold_value, 'group'] = 'top'\n",
    "\n",
    "    # adata_ct_disease.obs['sample_group'] = adata_ct_disease.obs['sample'].astype('str') + '_' + adata_ct_disease.obs['group']\n",
    "    # adata_ct_disease.obs['sample_group'] = adata_ct_disease.obs['sample_group'].astype('category')\n",
    "\n",
    "    # samples_to_exclude = []\n",
    "    # for sample in np.unique(adata_ct_disease.obs[['sample_group']]):\n",
    "    #     sample_len = len(adata_ct_disease[adata_ct_disease.obs['sample_group'] == sample])\n",
    "    #     if sample_len < 10:\n",
    "    #         samples_to_exclude.append(sample)\n",
    "    \n",
    "    # adata_ct_disease = adata_ct_disease[~adata_ct_disease.obs['sample_group'].isin(samples_to_exclude)].copy()\n",
    "\n",
    "    #adata_ct_disease.X = adata_ct_disease.obsm['counts'].copy()\n",
    "    adata_pb = sc.AnnData(adata_ct_disease.obsm['counts'])\n",
    "    adata_pb.obs = adata_ct_disease.obs\n",
    "    adata_pb.var_names = hlca.var_names\n",
    "\n",
    "    adata_ = dc.get_pseudobulk(adata_pb, 'sample', 'group', mode='sum', min_cells=-1, min_counts=10)\n",
    "\n",
    "    adata_r = sc.AnnData(adata_.X, obs=adata_.obs[['group', 'study', 'sample']])\n",
    "    adata_r.var_names = adata_.var_names\n",
    "    adata_r.obs['sample'] = adata_r.obs['sample'].str.replace('-', '_')\n",
    "    adata_r.obs.index = adata_r.obs.index.str.replace('-', '_')\n",
    "\n",
    "    adata_r = adata_r.copy()\n",
    "\n",
    "    sc.pp.filter_genes(adata_r, min_cells=10)\n",
    "    print(adata_r.X.shape)\n",
    "    if ((adata_r.X.shape[0] == 0) or (adata_r.X.shape[1] == 0)):\n",
    "        continue\n",
    "    df = run_de(adata_r)\n",
    "\n",
    "    df = ro.conversion.rpy2py(df)\n",
    "    df.to_csv(f'de_results/level4_{ct}.csv')"
   ]
  },
  {
   "cell_type": "code",
   "execution_count": null,
   "id": "d7177b8d-d884-40b1-9ccb-9a50041b3cbc",
   "metadata": {},
   "outputs": [],
   "source": []
  }
 ],
 "metadata": {
  "kernelspec": {
   "display_name": "Python 3 (ipykernel)",
   "language": "python",
   "name": "python3"
  },
  "language_info": {
   "codemirror_mode": {
    "name": "ipython",
    "version": 3
   },
   "file_extension": ".py",
   "mimetype": "text/x-python",
   "name": "python",
   "nbconvert_exporter": "python",
   "pygments_lexer": "ipython3",
   "version": "3.9.18"
  }
 },
 "nbformat": 4,
 "nbformat_minor": 5
}
