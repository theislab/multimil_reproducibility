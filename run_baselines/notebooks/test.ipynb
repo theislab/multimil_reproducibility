{
 "cells": [
  {
   "cell_type": "code",
   "execution_count": 1,
   "id": "5499bd2f-608b-47b5-8328-b8592f374092",
   "metadata": {},
   "outputs": [],
   "source": [
    "x=1"
   ]
  },
  {
   "cell_type": "code",
   "execution_count": 6,
   "id": "3938d46e-0e78-4628-9811-ef8238406d3d",
   "metadata": {
    "tags": []
   },
   "outputs": [],
   "source": [
    "from matplotlib import pyplot as plt\n",
    "import pandas as pd\n",
    "import numpy as np\n",
    "import multigrate as mtg\n",
    "import multimil as mtm\n",
    "import scanpy as sc\n",
    "import ast\n",
    "import anndata as ad\n",
    "import yaml"
   ]
  },
  {
   "cell_type": "code",
   "execution_count": 3,
   "id": "84509a01-cbc9-4315-b290-ecb47b284940",
   "metadata": {},
   "outputs": [],
   "source": [
    "import warnings\n",
    "warnings.filterwarnings('ignore')"
   ]
  },
  {
   "cell_type": "code",
   "execution_count": 4,
   "id": "53e658c8-1b6a-4966-9df4-193e45d74a57",
   "metadata": {},
   "outputs": [
    {
     "data": {
      "text/html": [
       "<div>\n",
       "<style scoped>\n",
       "    .dataframe tbody tr th:only-of-type {\n",
       "        vertical-align: middle;\n",
       "    }\n",
       "\n",
       "    .dataframe tbody tr th {\n",
       "        vertical-align: top;\n",
       "    }\n",
       "\n",
       "    .dataframe thead th {\n",
       "        text-align: right;\n",
       "    }\n",
       "</style>\n",
       "<table border=\"1\" class=\"dataframe\">\n",
       "  <thead>\n",
       "    <tr style=\"text-align: right;\">\n",
       "      <th></th>\n",
       "      <th>Unnamed: 1</th>\n",
       "      <th>hash</th>\n",
       "      <th>accuracy</th>\n",
       "      <th>best_params</th>\n",
       "      <th>best_epoch</th>\n",
       "      <th>best_query_epoch</th>\n",
       "      <th>accuracies</th>\n",
       "      <th>task</th>\n",
       "    </tr>\n",
       "  </thead>\n",
       "  <tbody>\n",
       "    <tr>\n",
       "      <th>hlca_healthy_ipf_embed_balanced</th>\n",
       "      <td>gex_nn</td>\n",
       "      <td>515f8e447b</td>\n",
       "      <td>0.653763</td>\n",
       "      <td>{'norm': 0, 'epochs': 30, 'lr': 1e-05, 'batch_...</td>\n",
       "      <td>NaN</td>\n",
       "      <td>NaN</td>\n",
       "      <td>[0.7426241502051016, 0.5974395448079659, 0.603...</td>\n",
       "      <td>hlca_healthy_ipf_embed_balanced</td>\n",
       "    </tr>\n",
       "    <tr>\n",
       "      <th>hlca_healthy_ipf_embed_balanced</th>\n",
       "      <td>gex_rf</td>\n",
       "      <td>7cd18299c8</td>\n",
       "      <td>0.764306</td>\n",
       "      <td>{'norm': 0}</td>\n",
       "      <td>NaN</td>\n",
       "      <td>NaN</td>\n",
       "      <td>[0.7695709717461179, 0.7917755075649813, 0.689...</td>\n",
       "      <td>hlca_healthy_ipf_embed_balanced</td>\n",
       "    </tr>\n",
       "    <tr>\n",
       "      <th>hlca_healthy_ipf_embed_balanced</th>\n",
       "      <td>multigrate_mil</td>\n",
       "      <td>b2e8c62cf5</td>\n",
       "      <td>0.992275</td>\n",
       "      <td>{'lr': 0.001, 'rna_indices_end': 30, 'categori...</td>\n",
       "      <td>39.0</td>\n",
       "      <td>NaN</td>\n",
       "      <td>[0.9864115021332216, 0.9981378507694296, 0.828...</td>\n",
       "      <td>hlca_healthy_ipf_embed_balanced</td>\n",
       "    </tr>\n",
       "    <tr>\n",
       "      <th>hlca_healthy_ipf_embed_balanced</th>\n",
       "      <td>pb_nn</td>\n",
       "      <td>abf12259c5</td>\n",
       "      <td>0.836561</td>\n",
       "      <td>{'norm': 0, 'epochs': 200, 'lr': 0.001, 'batch...</td>\n",
       "      <td>NaN</td>\n",
       "      <td>NaN</td>\n",
       "      <td>[0.9655172413793104, 0.9285714285714286, 0.653...</td>\n",
       "      <td>hlca_healthy_ipf_embed_balanced</td>\n",
       "    </tr>\n",
       "    <tr>\n",
       "      <th>hlca_healthy_ipf_embed_balanced</th>\n",
       "      <td>pb_rf</td>\n",
       "      <td>1f19733338</td>\n",
       "      <td>0.805682</td>\n",
       "      <td>{'norm': 0}</td>\n",
       "      <td>NaN</td>\n",
       "      <td>NaN</td>\n",
       "      <td>[0.7931034482758621, 0.8571428571428571, 0.692...</td>\n",
       "      <td>hlca_healthy_ipf_embed_balanced</td>\n",
       "    </tr>\n",
       "  </tbody>\n",
       "</table>\n",
       "</div>"
      ],
      "text/plain": [
       "                                     Unnamed: 1        hash  accuracy  \\\n",
       "hlca_healthy_ipf_embed_balanced          gex_nn  515f8e447b  0.653763   \n",
       "hlca_healthy_ipf_embed_balanced          gex_rf  7cd18299c8  0.764306   \n",
       "hlca_healthy_ipf_embed_balanced  multigrate_mil  b2e8c62cf5  0.992275   \n",
       "hlca_healthy_ipf_embed_balanced           pb_nn  abf12259c5  0.836561   \n",
       "hlca_healthy_ipf_embed_balanced           pb_rf  1f19733338  0.805682   \n",
       "\n",
       "                                                                       best_params  \\\n",
       "hlca_healthy_ipf_embed_balanced  {'norm': 0, 'epochs': 30, 'lr': 1e-05, 'batch_...   \n",
       "hlca_healthy_ipf_embed_balanced                                        {'norm': 0}   \n",
       "hlca_healthy_ipf_embed_balanced  {'lr': 0.001, 'rna_indices_end': 30, 'categori...   \n",
       "hlca_healthy_ipf_embed_balanced  {'norm': 0, 'epochs': 200, 'lr': 0.001, 'batch...   \n",
       "hlca_healthy_ipf_embed_balanced                                        {'norm': 0}   \n",
       "\n",
       "                                 best_epoch  best_query_epoch  \\\n",
       "hlca_healthy_ipf_embed_balanced         NaN               NaN   \n",
       "hlca_healthy_ipf_embed_balanced         NaN               NaN   \n",
       "hlca_healthy_ipf_embed_balanced        39.0               NaN   \n",
       "hlca_healthy_ipf_embed_balanced         NaN               NaN   \n",
       "hlca_healthy_ipf_embed_balanced         NaN               NaN   \n",
       "\n",
       "                                                                        accuracies  \\\n",
       "hlca_healthy_ipf_embed_balanced  [0.7426241502051016, 0.5974395448079659, 0.603...   \n",
       "hlca_healthy_ipf_embed_balanced  [0.7695709717461179, 0.7917755075649813, 0.689...   \n",
       "hlca_healthy_ipf_embed_balanced  [0.9864115021332216, 0.9981378507694296, 0.828...   \n",
       "hlca_healthy_ipf_embed_balanced  [0.9655172413793104, 0.9285714285714286, 0.653...   \n",
       "hlca_healthy_ipf_embed_balanced  [0.7931034482758621, 0.8571428571428571, 0.692...   \n",
       "\n",
       "                                                            task  \n",
       "hlca_healthy_ipf_embed_balanced  hlca_healthy_ipf_embed_balanced  \n",
       "hlca_healthy_ipf_embed_balanced  hlca_healthy_ipf_embed_balanced  \n",
       "hlca_healthy_ipf_embed_balanced  hlca_healthy_ipf_embed_balanced  \n",
       "hlca_healthy_ipf_embed_balanced  hlca_healthy_ipf_embed_balanced  \n",
       "hlca_healthy_ipf_embed_balanced  hlca_healthy_ipf_embed_balanced  "
      ]
     },
     "execution_count": 4,
     "metadata": {},
     "output_type": "execute_result"
    }
   ],
   "source": [
    "df = pd.read_csv('../data/reports/best.tsv', sep='\\t', index_col=0)\n",
    "df"
   ]
  },
  {
   "cell_type": "code",
   "execution_count": 9,
   "id": "1af8ea95-a789-4974-ad72-40d22b4a7104",
   "metadata": {},
   "outputs": [],
   "source": [
    "with open(\"../config.yaml\", \"r\") as stream:\n",
    "    config = yaml.safe_load(stream)"
   ]
  },
  {
   "cell_type": "code",
   "execution_count": 10,
   "id": "1cca059f-a019-4030-9d9e-ea11ac123f18",
   "metadata": {},
   "outputs": [
    {
     "data": {
      "text/plain": [
       "{'TASKS': {'hlca_healthy_ipf_embed_balanced': {'input1': 'data/hlca_healthy_ipf_embed_balanced.h5ad',\n",
       "   'input2': None,\n",
       "   'label_key': 'transf_ann_level_3_label',\n",
       "   'batch_key': 'study',\n",
       "   'condition_key': 'lung_condition_coarse',\n",
       "   'sample_key': 'sample',\n",
       "   'n_splits': 5,\n",
       "   'methods': {'multigrate_mil': 'params/hlca_healthy_ipf_embed_balanced/multigrate_mil.tsv',\n",
       "    'pb_rf': 'params/hlca_healthy_ipf_embed_balanced/pb_rf.tsv',\n",
       "    'pb_nn': 'params/hlca_healthy_ipf_embed_balanced/pb_nn.tsv',\n",
       "    'gex_nn': 'params/hlca_healthy_ipf_embed_balanced/gex_nn.tsv',\n",
       "    'gex_rf': 'params/hlca_healthy_ipf_embed_balanced/gex_rf.tsv'}}}}"
      ]
     },
     "execution_count": 10,
     "metadata": {},
     "output_type": "execute_result"
    }
   ],
   "source": [
    "config"
   ]
  },
  {
   "cell_type": "code",
   "execution_count": 11,
   "id": "7b1fd0ff-1fc3-4ca5-aac9-3eee5ddfece9",
   "metadata": {},
   "outputs": [
    {
     "data": {
      "text/plain": [
       "AnnData object with n_obs × n_vars = 450214 × 30\n",
       "    obs: \"3'_or_5'\", 'BMI', 'age_or_mean_of_age_range', 'age_range', 'anatomical_region_ccf_score', 'ancestry', 'ann_coarse_for_GWAS_and_modeling', 'ann_finest_level', 'ann_level_1', 'ann_level_2', 'ann_level_3', 'ann_level_4', 'ann_level_5', 'assay', 'cause_of_death', 'cell_type', 'core_or_extension', 'dataset', 'development_stage', 'disease', 'donor_id', 'fresh_or_frozen', 'log10_total_counts', 'lung_condition', 'mixed_ancestry', 'original_ann_level_1', 'original_ann_level_2', 'original_ann_level_3', 'original_ann_level_4', 'original_ann_level_5', 'original_ann_nonharmonized', 'reannotation_type', 'sample', 'scanvi_label', 'sequencing_platform', 'sex', 'smoking_status', 'study', 'subject_type', 'suspension_type', 'tissue', 'tissue_coarse_unharmonized', 'tissue_detailed_unharmonized', 'tissue_dissociation_protocol', 'tissue_level_2', 'tissue_level_3', 'tissue_sampling_method', 'total_counts', 'transf_ann_level_1_label', 'transf_ann_level_1_uncert', 'transf_ann_level_2_label', 'transf_ann_level_2_uncert', 'transf_ann_level_3_label', 'transf_ann_level_3_uncert', 'transf_ann_level_4_label', 'transf_ann_level_4_uncert', 'transf_ann_level_5_label', 'transf_ann_level_5_uncert', 'lung_condition_coarse', 'split0', 'split1', 'split2', 'split3', 'split4', 'group', 'cell_attn_0', 'cell_attn_1', 'cell_attn_2', 'cell_attn_3', 'cell_attn_4'\n",
       "    obsm: 'latent_0', 'latent_1', 'latent_2', 'latent_3', 'latent_4'"
      ]
     },
     "execution_count": 11,
     "metadata": {},
     "output_type": "execute_result"
    }
   ],
   "source": [
    "adata = sc.read('../data/multigrate_mil/hlca_healthy_ipf_embed_balanced/b2e8c62cf5_adata_both.h5ad')\n",
    "adata"
   ]
  },
  {
   "cell_type": "code",
   "execution_count": null,
   "id": "f6f89d21-0a3e-404c-8863-f9602d8ad819",
   "metadata": {},
   "outputs": [],
   "source": []
  }
 ],
 "metadata": {
  "kernelspec": {
   "display_name": "Python 3 (ipykernel)",
   "language": "python",
   "name": "python3"
  },
  "language_info": {
   "codemirror_mode": {
    "name": "ipython",
    "version": 3
   },
   "file_extension": ".py",
   "mimetype": "text/x-python",
   "name": "python",
   "nbconvert_exporter": "python",
   "pygments_lexer": "ipython3",
   "version": "3.10.12"
  }
 },
 "nbformat": 4,
 "nbformat_minor": 5
}
