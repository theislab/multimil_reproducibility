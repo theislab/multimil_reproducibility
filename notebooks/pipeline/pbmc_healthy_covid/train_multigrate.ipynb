{
 "cells": [
  {
   "cell_type": "code",
   "execution_count": 16,
   "id": "f03a7906-fea6-4295-aa67-d88fbc2c7a9c",
   "metadata": {},
   "outputs": [],
   "source": [
    "import scanpy as sc\n",
    "import multigrate as mtg"
   ]
  },
  {
   "cell_type": "code",
   "execution_count": 17,
   "id": "8fe1d864-25d8-4924-988d-0ddee6200ab6",
   "metadata": {},
   "outputs": [
    {
     "data": {
      "text/plain": [
       "AnnData object with n_obs × n_vars = 624325 × 2000\n",
       "    obs: 'sample_id', 'n_genes', 'n_genes_by_counts', 'total_counts', 'total_counts_mt', 'pct_counts_mt', 'full_clustering', 'initial_clustering', 'Resample', 'Collection_Day', 'Sex', 'Age_interval', 'Swab_result', 'Status', 'Smoker', 'Status_on_day_collection', 'Status_on_day_collection_summary', 'Days_from_onset', 'Site', 'time_after_LPS', 'Worst_Clinical_Status', 'Outcome', 'patient_id', 'split0', 'split1', 'split2', 'split3', 'split4'\n",
       "    var: 'feature_types', 'means', 'variances', 'residual_variances', 'highly_variable_rank', 'highly_variable_nbatches', 'highly_variable_intersection', 'highly_variable'\n",
       "    uns: 'hvg', 'leiden', 'neighbors', 'pca', 'umap'\n",
       "    obsm: 'X_pca', 'X_pca_harmony', 'X_umap'\n",
       "    layers: 'counts'"
      ]
     },
     "execution_count": 17,
     "metadata": {},
     "output_type": "execute_result"
    }
   ],
   "source": [
    "rna = sc.read('/lustre/groups/ml01/projects/2022_multigrate_anastasia.litinetskaya/multimil_reproducibility/pipeline/data/pp/pbmc_healthy_covid_rna.h5ad')\n",
    "rna"
   ]
  },
  {
   "cell_type": "code",
   "execution_count": 3,
   "id": "05a14f87-2671-4464-bf3a-4a47ba45572c",
   "metadata": {},
   "outputs": [
    {
     "data": {
      "text/plain": [
       "array([1., 9., 2., ..., 7., 3., 7.], dtype=float32)"
      ]
     },
     "execution_count": 3,
     "metadata": {},
     "output_type": "execute_result"
    }
   ],
   "source": [
    "rna.X.data"
   ]
  },
  {
   "cell_type": "code",
   "execution_count": 4,
   "id": "573b80cf-0e4f-4d59-9ebe-c91d5f3e2559",
   "metadata": {},
   "outputs": [
    {
     "data": {
      "text/plain": [
       "AnnData object with n_obs × n_vars = 624325 × 192\n",
       "    obs: 'sample_id', 'n_genes', 'n_genes_by_counts', 'total_counts', 'total_counts_mt', 'pct_counts_mt', 'full_clustering', 'initial_clustering', 'Resample', 'Collection_Day', 'Sex', 'Age_interval', 'Swab_result', 'Status', 'Smoker', 'Status_on_day_collection', 'Status_on_day_collection_summary', 'Days_from_onset', 'Site', 'time_after_LPS', 'Worst_Clinical_Status', 'Outcome', 'patient_id', 'split0', 'split1', 'split2', 'split3', 'split4'\n",
       "    var: 'feature_types'\n",
       "    uns: 'hvg', 'leiden', 'neighbors', 'pca', 'umap'\n",
       "    obsm: 'X_pca', 'X_pca_harmony', 'X_umap'\n",
       "    layers: 'counts'"
      ]
     },
     "execution_count": 4,
     "metadata": {},
     "output_type": "execute_result"
    }
   ],
   "source": [
    "adt = sc.read('../../../pipeline/data/pp/pbmc_healthy_covid_adt.h5ad')\n",
    "adt"
   ]
  },
  {
   "cell_type": "code",
   "execution_count": 5,
   "id": "9b7ce21a-ca1e-4161-8802-3fd242d74bdd",
   "metadata": {},
   "outputs": [
    {
     "data": {
      "text/plain": [
       "array([0.16182648, 0.4232845 , 0.80181926, ..., 1.3309513 , 1.3929683 ,\n",
       "       1.9186018 ], dtype=float32)"
      ]
     },
     "execution_count": 5,
     "metadata": {},
     "output_type": "execute_result"
    }
   ],
   "source": [
    "adt.X.data"
   ]
  },
  {
   "cell_type": "code",
   "execution_count": 6,
   "id": "4c447cd6-9a50-43ba-b850-00805063a1e7",
   "metadata": {},
   "outputs": [
    {
     "data": {
      "text/plain": [
       "AnnData object with n_obs × n_vars = 624325 × 2192\n",
       "    obs: 'sample_id', 'n_genes', 'n_genes_by_counts', 'total_counts', 'total_counts_mt', 'pct_counts_mt', 'full_clustering', 'initial_clustering', 'Resample', 'Collection_Day', 'Sex', 'Age_interval', 'Swab_result', 'Status', 'Smoker', 'Status_on_day_collection', 'Status_on_day_collection_summary', 'Days_from_onset', 'Site', 'time_after_LPS', 'Worst_Clinical_Status', 'Outcome', 'patient_id', 'split0', 'split1', 'split2', 'split3', 'split4', 'group'\n",
       "    var: 'modality'\n",
       "    uns: 'modality_lengths'\n",
       "    layers: 'counts'"
      ]
     },
     "execution_count": 6,
     "metadata": {},
     "output_type": "execute_result"
    }
   ],
   "source": [
    "adata = mtg.data.organize_multiome_anndatas(\n",
    "     adatas = [[rna], [adt]],\n",
    ")\n",
    "adata"
   ]
  },
  {
   "cell_type": "code",
   "execution_count": 7,
   "id": "f9000498-c049-40cc-99ef-220de23ac574",
   "metadata": {},
   "outputs": [
    {
     "name": "stderr",
     "output_type": "stream",
     "text": [
      "No GPU/TPU found, falling back to CPU. (Set TF_CPP_MIN_LOG_LEVEL=0 and rerun for more info.)\n",
      "/lustre/groups/ml01/workspace/anastasia.litinetskaya/mambaforge/envs/multimil/lib/python3.10/site-packages/scvi/data/fields/_layer_field.py:90: UserWarning: adata.X does not contain unnormalized count data. Are you sure this is what you want?\n",
      "  warnings.warn(\n"
     ]
    }
   ],
   "source": [
    "mtg.model.MultiVAE.setup_anndata(\n",
    "    adata,\n",
    "    rna_indices_end=2000,\n",
    "    categorical_covariate_keys=[\n",
    "        \"Site\",\n",
    "        \"patient_id\",\n",
    "      ])"
   ]
  },
  {
   "cell_type": "code",
   "execution_count": 8,
   "id": "009e764f-face-4426-8664-a5bbe270c857",
   "metadata": {},
   "outputs": [],
   "source": [
    "vae = mtg.model.MultiVAE(\n",
    "    adata, \n",
    "    losses=[\n",
    "        \"nb\", \"mse\"\n",
    "    ],\n",
    "    loss_coefs={\n",
    "        \"kl\": 0.01,\n",
    "    },\n",
    "    cond_dim=16,\n",
    "    z_dim=16,\n",
    ")"
   ]
  },
  {
   "cell_type": "code",
   "execution_count": null,
   "id": "0d2ab959-894b-43f9-a834-184fe1b13c5e",
   "metadata": {},
   "outputs": [
    {
     "name": "stderr",
     "output_type": "stream",
     "text": [
      "/lustre/groups/ml01/workspace/anastasia.litinetskaya/mambaforge/envs/multimil/lib/python3.10/site-packages/lightning_fabric/plugins/environments/slurm.py:165: PossibleUserWarning: The `srun` command is available on your system but is not used. HINT: If your intention is to run Lightning on SLURM, prepend your python command with `srun` like so: srun python3.10 /lustre/groups/ml01/workspace/anastasia.litinets ...\n",
      "  rank_zero_warn(\n",
      "GPU available: True (cuda), used: True\n",
      "TPU available: False, using: 0 TPU cores\n",
      "IPU available: False, using: 0 IPUs\n",
      "HPU available: False, using: 0 HPUs\n",
      "/lustre/groups/ml01/workspace/anastasia.litinetskaya/mambaforge/envs/multimil/lib/python3.10/site-packages/lightning_fabric/plugins/environments/slurm.py:165: PossibleUserWarning: The `srun` command is available on your system but is not used. HINT: If your intention is to run Lightning on SLURM, prepend your python command with `srun` like so: srun python3.10 /lustre/groups/ml01/workspace/anastasia.litinets ...\n",
      "  rank_zero_warn(\n",
      "You are using a CUDA device ('NVIDIA A100-PCIE-40GB MIG 3g.20gb') that has Tensor Cores. To properly utilize them, you should set `torch.set_float32_matmul_precision('medium' | 'high')` which will trade-off precision for performance. For more details, read https://pytorch.org/docs/stable/generated/torch.set_float32_matmul_precision.html#torch.set_float32_matmul_precision\n",
      "/lustre/groups/ml01/workspace/anastasia.litinetskaya/mambaforge/envs/multimil/lib/python3.10/site-packages/pytorch_lightning/callbacks/model_checkpoint.py:613: UserWarning: Checkpoint directory /lustre/groups/ml01/projects/2022_multigrate_anastasia.litinetskaya/multimil_reproducibility/notebooks/pipeline/pbmc_healthy_covid/scvi_log/lightning_logs/version_1/checkpoints exists and is not empty.\n",
      "  rank_zero_warn(f\"Checkpoint directory {dirpath} exists and is not empty.\")\n",
      "LOCAL_RANK: 0 - CUDA_VISIBLE_DEVICES: [MIG-830c8b75-b7fb-562e-94eb-933eb50d368a]\n"
     ]
    },
    {
     "name": "stdout",
     "output_type": "stream",
     "text": [
      "Epoch 125/200:  62%|██████▏   | 124/200 [1:02:12<29:43, 23.47s/it, loss=830, v_num=1] "
     ]
    }
   ],
   "source": [
    "vae.train(lr=1e-4)"
   ]
  },
  {
   "cell_type": "code",
   "execution_count": null,
   "id": "71798ffa-1531-42fb-a143-a67162feeec7",
   "metadata": {},
   "outputs": [],
   "source": [
    "vae.plot_losses()"
   ]
  },
  {
   "cell_type": "code",
   "execution_count": null,
   "id": "ec401906-522b-4990-a1d2-754b5c7217ab",
   "metadata": {},
   "outputs": [],
   "source": [
    "vae.get_latent_representation()\n",
    "adata"
   ]
  },
  {
   "cell_type": "code",
   "execution_count": null,
   "id": "865f0dc0-3d54-475a-a02c-693ab08b579a",
   "metadata": {},
   "outputs": [],
   "source": [
    "sc.pp.neighbors(adata, use_rep='latent')\n",
    "sc.tl.umap(adata)"
   ]
  },
  {
   "cell_type": "code",
   "execution_count": null,
   "id": "18545cc8-219e-4e8e-83e8-9b74cf75c5dc",
   "metadata": {},
   "outputs": [],
   "source": [
    "sc.pl.umap(\n",
    "    adata, \n",
    "    color=[\n",
    "      \"Status_on_day_collection_summary\",\n",
    "      \"Site\",\n",
    "      \"initial_clustering\"\n",
    "    ],\n",
    "    ncols=1,\n",
    "    frameon=False\n",
    ")"
   ]
  },
  {
   "cell_type": "code",
   "execution_count": null,
   "id": "3f42f58b-81e8-4373-b694-a796b6592025",
   "metadata": {},
   "outputs": [],
   "source": [
    "adata.write('../../../pipeline/data/pp/pbmc_healthy_covid_multigrate.h5ad')"
   ]
  },
  {
   "cell_type": "code",
   "execution_count": null,
   "id": "413739cf-5990-49c3-8248-b06bd744859e",
   "metadata": {},
   "outputs": [],
   "source": [
    "vae.save('model/', overwrite=True)"
   ]
  },
  {
   "cell_type": "code",
   "execution_count": null,
   "id": "91c5de9a-b3d6-4129-8e61-c5b205228b28",
   "metadata": {},
   "outputs": [],
   "source": []
  }
 ],
 "metadata": {
  "kernelspec": {
   "display_name": "Python 3 (ipykernel)",
   "language": "python",
   "name": "python3"
  },
  "language_info": {
   "codemirror_mode": {
    "name": "ipython",
    "version": 3
   },
   "file_extension": ".py",
   "mimetype": "text/x-python",
   "name": "python",
   "nbconvert_exporter": "python",
   "pygments_lexer": "ipython3",
   "version": "3.9.15"
  }
 },
 "nbformat": 4,
 "nbformat_minor": 5
}
