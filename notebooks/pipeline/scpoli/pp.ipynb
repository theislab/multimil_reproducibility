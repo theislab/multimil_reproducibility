{
 "cells": [
  {
   "cell_type": "code",
   "execution_count": 1,
   "id": "a0ffa57a-434b-4ac3-99d2-0ca680389abe",
   "metadata": {},
   "outputs": [],
   "source": [
    "x=1"
   ]
  },
  {
   "cell_type": "code",
   "execution_count": 2,
   "id": "dab635a6-6a0d-410e-879a-d4a7c6aeb598",
   "metadata": {},
   "outputs": [],
   "source": [
    "import random\n",
    "import scanpy as sc\n",
    "import numpy as np\n",
    "from sklearn.model_selection import KFold"
   ]
  },
  {
   "cell_type": "code",
   "execution_count": 3,
   "id": "25001996-9da0-492f-95ef-83252ee16f24",
   "metadata": {},
   "outputs": [
    {
     "name": "stderr",
     "output_type": "stream",
     "text": [
      "/lustre/groups/ml01/workspace/anastasia.litinetskaya/mambaforge/envs/multimil/lib/python3.10/site-packages/anndata/_core/anndata.py:1830: UserWarning: Observation names are not unique. To make them unique, call `.obs_names_make_unique`.\n",
      "  utils.warn_names_duplicates(\"obs\")\n"
     ]
    },
    {
     "data": {
      "text/plain": [
       "AnnData object with n_obs × n_vars = 1000000 × 30\n",
       "    obs: 'dataset', 'sample_ID_czi', 'subject_ID_czi', 'cell_type_ontology_term_id', 'cell_type', 'total_counts_lisa', 'batch_czi', 'assay_ontology_term_id', 'assay', 'development_stage_ontology_term_id', 'development_stage', 'disease_ontology_term_id', 'disease', 'ethnicity_ontology_term_id', 'ethnicity', 'organism_ontology_term_id', 'organism', 'sex_ontology_term_id', 'sex', 'tissue_ontology_term_id', 'tissue', 'cell_type_for_integration', 'sample_ID_lataq', 'batch', 'batch_clean'\n",
       "    uns: 'cell_type_colors', 'dataset_colors', 'neighbors', 'umap'\n",
       "    obsm: 'X_umap'\n",
       "    obsp: 'connectivities', 'distances'"
      ]
     },
     "execution_count": 3,
     "metadata": {},
     "output_type": "execute_result"
    }
   ],
   "source": [
    "# read in the data\n",
    "# integrated latent space has to be stored in .X\n",
    "adata = sc.read('../../../pipeline_mil/data/raw/pbmc_latent_cell.h5ad')\n",
    "adata"
   ]
  },
  {
   "cell_type": "markdown",
   "id": "00b12c13-922f-4cdd-add0-ff3580edb791",
   "metadata": {},
   "source": [
    "# subset data"
   ]
  },
  {
   "cell_type": "code",
   "execution_count": 4,
   "id": "87d62418-599c-4817-9d8b-193c11907968",
   "metadata": {},
   "outputs": [],
   "source": [
    "condition_key = 'disease' # what to predict\n",
    "sample_key = 'sample_ID_lataq' # donors or samples\n",
    "conditions_to_exclude = ['influenza', 'respiratory system disease', 'CD3-CD28-stimulated'] # leave empty if you want to include all conditions\n",
    "n_samples_per_condition = 190 # if subsetting the data to have balanced classes, set to the min number of samples per condition"
   ]
  },
  {
   "cell_type": "code",
   "execution_count": 5,
   "id": "2317b395-556d-403a-abfe-e99832a9dd3b",
   "metadata": {},
   "outputs": [
    {
     "data": {
      "text/plain": [
       "COVID-19                        476668\n",
       "normal                          398207\n",
       "systemic lupus erythematosus    118301\n",
       "influenza                         3764\n",
       "respiratory system disease        1879\n",
       "CD3-CD28-stimulated               1181\n",
       "Name: disease, dtype: int64"
      ]
     },
     "execution_count": 5,
     "metadata": {},
     "output_type": "execute_result"
    }
   ],
   "source": [
    "adata.obs[condition_key].value_counts()"
   ]
  },
  {
   "cell_type": "code",
   "execution_count": 6,
   "id": "21d6df26-f012-4855-88a6-02b43e71112d",
   "metadata": {},
   "outputs": [
    {
     "data": {
      "text/html": [
       "<div>\n",
       "<style scoped>\n",
       "    .dataframe tbody tr th:only-of-type {\n",
       "        vertical-align: middle;\n",
       "    }\n",
       "\n",
       "    .dataframe tbody tr th {\n",
       "        vertical-align: top;\n",
       "    }\n",
       "\n",
       "    .dataframe thead th {\n",
       "        text-align: right;\n",
       "    }\n",
       "</style>\n",
       "<table border=\"1\" class=\"dataframe\">\n",
       "  <thead>\n",
       "    <tr style=\"text-align: right;\">\n",
       "      <th></th>\n",
       "      <th>sample_ID_lataq</th>\n",
       "    </tr>\n",
       "    <tr>\n",
       "      <th>disease</th>\n",
       "      <th></th>\n",
       "    </tr>\n",
       "  </thead>\n",
       "  <tbody>\n",
       "    <tr>\n",
       "      <th>CD3-CD28-stimulated</th>\n",
       "      <td>2</td>\n",
       "    </tr>\n",
       "    <tr>\n",
       "      <th>COVID-19</th>\n",
       "      <td>818</td>\n",
       "    </tr>\n",
       "    <tr>\n",
       "      <th>influenza</th>\n",
       "      <td>17</td>\n",
       "    </tr>\n",
       "    <tr>\n",
       "      <th>normal</th>\n",
       "      <td>1343</td>\n",
       "    </tr>\n",
       "    <tr>\n",
       "      <th>respiratory system disease</th>\n",
       "      <td>5</td>\n",
       "    </tr>\n",
       "    <tr>\n",
       "      <th>systemic lupus erythematosus</th>\n",
       "      <td>190</td>\n",
       "    </tr>\n",
       "  </tbody>\n",
       "</table>\n",
       "</div>"
      ],
      "text/plain": [
       "                              sample_ID_lataq\n",
       "disease                                      \n",
       "CD3-CD28-stimulated                         2\n",
       "COVID-19                                  818\n",
       "influenza                                  17\n",
       "normal                                   1343\n",
       "respiratory system disease                  5\n",
       "systemic lupus erythematosus              190"
      ]
     },
     "execution_count": 6,
     "metadata": {},
     "output_type": "execute_result"
    }
   ],
   "source": [
    "adata.obs[[condition_key, sample_key]].drop_duplicates().groupby(condition_key).agg('count')"
   ]
  },
  {
   "cell_type": "code",
   "execution_count": 7,
   "id": "87876a2f-3255-45b7-bdae-a6aef4261ceb",
   "metadata": {},
   "outputs": [
    {
     "name": "stderr",
     "output_type": "stream",
     "text": [
      "/lustre/groups/ml01/workspace/anastasia.litinetskaya/mambaforge/envs/multimil/lib/python3.10/site-packages/anndata/_core/anndata.py:1830: UserWarning: Observation names are not unique. To make them unique, call `.obs_names_make_unique`.\n",
      "  utils.warn_names_duplicates(\"obs\")\n"
     ]
    },
    {
     "data": {
      "text/plain": [
       "AnnData object with n_obs × n_vars = 993176 × 30\n",
       "    obs: 'dataset', 'sample_ID_czi', 'subject_ID_czi', 'cell_type_ontology_term_id', 'cell_type', 'total_counts_lisa', 'batch_czi', 'assay_ontology_term_id', 'assay', 'development_stage_ontology_term_id', 'development_stage', 'disease_ontology_term_id', 'disease', 'ethnicity_ontology_term_id', 'ethnicity', 'organism_ontology_term_id', 'organism', 'sex_ontology_term_id', 'sex', 'tissue_ontology_term_id', 'tissue', 'cell_type_for_integration', 'sample_ID_lataq', 'batch', 'batch_clean'\n",
       "    uns: 'cell_type_colors', 'dataset_colors', 'neighbors', 'umap'\n",
       "    obsm: 'X_umap'\n",
       "    obsp: 'connectivities', 'distances'"
      ]
     },
     "execution_count": 7,
     "metadata": {},
     "output_type": "execute_result"
    }
   ],
   "source": [
    "adata = adata[~adata.obs[condition_key].isin(conditions_to_exclude)].copy()\n",
    "adata"
   ]
  },
  {
   "cell_type": "code",
   "execution_count": 8,
   "id": "018b555a-d014-4232-9eef-f47c6c1c1056",
   "metadata": {},
   "outputs": [
    {
     "data": {
      "text/plain": [
       "570"
      ]
     },
     "execution_count": 8,
     "metadata": {},
     "output_type": "execute_result"
    }
   ],
   "source": [
    "# do not execute this cell if you want to keep all samples\n",
    "random.seed(123)\n",
    "samples_to_keep = []\n",
    "\n",
    "for cond in np.unique(adata.obs[condition_key]):\n",
    "    cond_samples = adata[adata.obs[condition_key] == cond].obs[sample_key].drop_duplicates()\n",
    "    cond_samples_to_keep = random.sample(list(cond_samples), n_samples_per_condition)\n",
    "    samples_to_keep.extend(cond_samples_to_keep)\n",
    "len(samples_to_keep)"
   ]
  },
  {
   "cell_type": "code",
   "execution_count": 9,
   "id": "c946d4aa-fbcd-4bdc-b302-e5a1ed942fd8",
   "metadata": {},
   "outputs": [
    {
     "name": "stderr",
     "output_type": "stream",
     "text": [
      "/lustre/groups/ml01/workspace/anastasia.litinetskaya/mambaforge/envs/multimil/lib/python3.10/site-packages/anndata/_core/anndata.py:1830: UserWarning: Observation names are not unique. To make them unique, call `.obs_names_make_unique`.\n",
      "  utils.warn_names_duplicates(\"obs\")\n"
     ]
    },
    {
     "data": {
      "text/plain": [
       "AnnData object with n_obs × n_vars = 278357 × 30\n",
       "    obs: 'dataset', 'sample_ID_czi', 'subject_ID_czi', 'cell_type_ontology_term_id', 'cell_type', 'total_counts_lisa', 'batch_czi', 'assay_ontology_term_id', 'assay', 'development_stage_ontology_term_id', 'development_stage', 'disease_ontology_term_id', 'disease', 'ethnicity_ontology_term_id', 'ethnicity', 'organism_ontology_term_id', 'organism', 'sex_ontology_term_id', 'sex', 'tissue_ontology_term_id', 'tissue', 'cell_type_for_integration', 'sample_ID_lataq', 'batch', 'batch_clean'\n",
       "    uns: 'cell_type_colors', 'dataset_colors', 'neighbors', 'umap'\n",
       "    obsm: 'X_umap'\n",
       "    obsp: 'connectivities', 'distances'"
      ]
     },
     "execution_count": 9,
     "metadata": {},
     "output_type": "execute_result"
    }
   ],
   "source": [
    "# do not execute this cell if you want to keep all samples\n",
    "adata = adata[adata.obs[sample_key].isin(samples_to_keep)].copy()\n",
    "adata"
   ]
  },
  {
   "cell_type": "markdown",
   "id": "ad3ae49c-57e9-4974-9dbe-694c9d5c2f76",
   "metadata": {},
   "source": [
    "# add splits"
   ]
  },
  {
   "cell_type": "code",
   "execution_count": 10,
   "id": "aa8e95b3-8ff5-40cc-abff-162bcd2753c9",
   "metadata": {},
   "outputs": [],
   "source": [
    "n_splits = 5 # or 3"
   ]
  },
  {
   "cell_type": "code",
   "execution_count": 11,
   "id": "27716406-2c5c-440d-85c6-5375704ba5ae",
   "metadata": {},
   "outputs": [
    {
     "name": "stderr",
     "output_type": "stream",
     "text": [
      "/lustre/groups/ml01/workspace/anastasia.litinetskaya/mambaforge/envs/multimil/lib/python3.10/site-packages/anndata/_core/anndata.py:1830: UserWarning: Observation names are not unique. To make them unique, call `.obs_names_make_unique`.\n",
      "  utils.warn_names_duplicates(\"obs\")\n",
      "/lustre/groups/ml01/workspace/anastasia.litinetskaya/mambaforge/envs/multimil/lib/python3.10/site-packages/anndata/_core/anndata.py:1830: UserWarning: Observation names are not unique. To make them unique, call `.obs_names_make_unique`.\n",
      "  utils.warn_names_duplicates(\"obs\")\n",
      "/lustre/groups/ml01/workspace/anastasia.litinetskaya/mambaforge/envs/multimil/lib/python3.10/site-packages/anndata/_core/anndata.py:1830: UserWarning: Observation names are not unique. To make them unique, call `.obs_names_make_unique`.\n",
      "  utils.warn_names_duplicates(\"obs\")\n",
      "/lustre/groups/ml01/workspace/anastasia.litinetskaya/mambaforge/envs/multimil/lib/python3.10/site-packages/anndata/_core/anndata.py:1830: UserWarning: Observation names are not unique. To make them unique, call `.obs_names_make_unique`.\n",
      "  utils.warn_names_duplicates(\"obs\")\n",
      "/lustre/groups/ml01/workspace/anastasia.litinetskaya/mambaforge/envs/multimil/lib/python3.10/site-packages/anndata/_core/anndata.py:1830: UserWarning: Observation names are not unique. To make them unique, call `.obs_names_make_unique`.\n",
      "  utils.warn_names_duplicates(\"obs\")\n"
     ]
    },
    {
     "data": {
      "text/plain": [
       "[(222769, 55588),\n",
       " (222075, 56282),\n",
       " (221436, 56921),\n",
       " (221802, 56555),\n",
       " (225346, 53011)]"
      ]
     },
     "execution_count": 11,
     "metadata": {},
     "output_type": "execute_result"
    }
   ],
   "source": [
    "train_val_sizes = []\n",
    "samples = np.unique(adata.obs[sample_key])\n",
    "kf = KFold(n_splits=n_splits, random_state=1, shuffle=True)\n",
    "\n",
    "for i, (train_index, val_index) in enumerate(kf.split(samples)):\n",
    "    train_samples = samples[train_index]\n",
    "    val_samples = samples[val_index]\n",
    "    adata.obs[f'split{i}'] = np.nan\n",
    "    adata.obs.loc[adata.obs[sample_key].isin(train_samples), f'split{i}'] = 'train'\n",
    "    adata.obs.loc[adata.obs[sample_key].isin(val_samples), f'split{i}'] = 'val'\n",
    "    adata_train = adata[adata.obs[f'split{i}'] == 'train'].copy()\n",
    "    adata_val = adata[adata.obs[f'split{i}'] == 'val'].copy()\n",
    "    train_conditions = set(adata_train.obs[condition_key].cat.categories)\n",
    "    val_conditions = set(adata_val.obs[condition_key].cat.categories)\n",
    "    assert val_conditions.issubset(train_conditions) # check that all conditions in the validation set are also in the training set\n",
    "    train_val_sizes.append((len(adata_train), len(adata_val)))\n",
    "    adata.obs[f'split{i}'] = adata.obs[f'split{i}'].astype('category')\n",
    "\n",
    "train_val_sizes"
   ]
  },
  {
   "cell_type": "code",
   "execution_count": 12,
   "id": "c094aaca-8589-492d-99ce-4a3189b626f2",
   "metadata": {},
   "outputs": [],
   "source": [
    "adata.obs_names_make_unique()"
   ]
  },
  {
   "cell_type": "code",
   "execution_count": 13,
   "id": "5a74114c-8c42-498f-9e09-8162f5765b6f",
   "metadata": {},
   "outputs": [],
   "source": [
    "# this will be the input to the model\n",
    "adata.write('../../../pipeline_mil/data/pp/scpoli_covid_lupus_healthy_balanced.h5ad')"
   ]
  },
  {
   "cell_type": "code",
   "execution_count": null,
   "id": "d6d50af4-bce3-4c5f-b89a-57dbdf43042c",
   "metadata": {},
   "outputs": [],
   "source": []
  }
 ],
 "metadata": {
  "kernelspec": {
   "display_name": "Python 3 (ipykernel)",
   "language": "python",
   "name": "python3"
  },
  "language_info": {
   "codemirror_mode": {
    "name": "ipython",
    "version": 3
   },
   "file_extension": ".py",
   "mimetype": "text/x-python",
   "name": "python",
   "nbconvert_exporter": "python",
   "pygments_lexer": "ipython3",
   "version": "3.10.12"
  }
 },
 "nbformat": 4,
 "nbformat_minor": 5
}
