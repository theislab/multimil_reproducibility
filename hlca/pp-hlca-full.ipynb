{
 "cells": [
  {
   "cell_type": "code",
   "execution_count": 1,
   "id": "727bf863",
   "metadata": {
    "editable": true,
    "slideshow": {
     "slide_type": ""
    },
    "tags": []
   },
   "outputs": [],
   "source": [
    "x=1"
   ]
  },
  {
   "cell_type": "code",
   "execution_count": 2,
   "id": "537ee16e",
   "metadata": {},
   "outputs": [],
   "source": [
    "import random\n",
    "import scanpy as sc\n",
    "import numpy as np\n",
    "from sklearn.model_selection import KFold"
   ]
  },
  {
   "cell_type": "code",
   "execution_count": 3,
   "id": "f3aa5865",
   "metadata": {
    "scrolled": true
   },
   "outputs": [
    {
     "data": {
      "text/plain": [
       "AnnData object with n_obs × n_vars = 2282447 × 59586 backed at '/lustre/groups/ml01/projects/2022_multigrate_anastasia.litinetskaya/snakemake/hyperparam/data/raw/HLCA_full_v1.1_to_share.h5ad'\n",
       "    obs: \"3'_or_5'\", 'BMI', 'age_or_mean_of_age_range', 'age_range', 'anatomical_region_ccf_score', 'ancestry', 'ann_coarse_for_GWAS_and_modeling', 'ann_finest_level', 'ann_level_1', 'ann_level_2', 'ann_level_3', 'ann_level_4', 'ann_level_5', 'assay', 'cause_of_death', 'cell_type', 'core_or_extension', 'dataset', 'development_stage', 'disease', 'donor_id', 'fresh_or_frozen', 'log10_total_counts', 'lung_condition', 'mixed_ancestry', 'original_ann_level_1', 'original_ann_level_2', 'original_ann_level_3', 'original_ann_level_4', 'original_ann_level_5', 'original_ann_nonharmonized', 'reannotation_type', 'sample', 'scanvi_label', 'sequencing_platform', 'sex', 'smoking_status', 'study', 'subject_type', 'suspension_type', 'tissue', 'tissue_coarse_unharmonized', 'tissue_detailed_unharmonized', 'tissue_dissociation_protocol', 'tissue_level_2', 'tissue_level_3', 'tissue_sampling_method', 'total_counts', 'transf_ann_level_1_label', 'transf_ann_level_1_uncert', 'transf_ann_level_2_label', 'transf_ann_level_2_uncert', 'transf_ann_level_3_label', 'transf_ann_level_3_uncert', 'transf_ann_level_4_label', 'transf_ann_level_4_uncert', 'transf_ann_level_5_label', 'transf_ann_level_5_uncert'\n",
       "    var: 'original_gene_symbols', 'ensembl_id', 'gene_symbol', 'ensembl_id_geneversion'\n",
       "    uns: 'ann_finest_level_colors', 'ann_level_2_colors', 'log1p', 'neighbors', 'schema_version', 'title', 'umap'\n",
       "    obsm: 'X_scanvi_emb', 'X_umap'\n",
       "    layers: 'counts', 'soupX'\n",
       "    obsp: 'connectivities', 'distances'"
      ]
     },
     "execution_count": 3,
     "metadata": {},
     "output_type": "execute_result"
    }
   ],
   "source": [
    "adata = sc.read('/lustre/groups/ml01/projects/2022_multigrate_anastasia.litinetskaya/snakemake/hyperparam/data/raw/HLCA_full_v1.1_to_share.h5ad', backed='r')\n",
    "adata"
   ]
  },
  {
   "cell_type": "code",
   "execution_count": 4,
   "id": "a71779e3",
   "metadata": {},
   "outputs": [
    {
     "data": {
      "text/plain": [
       "AnnData object with n_obs × n_vars = 2282447 × 59586\n",
       "    obs: \"3'_or_5'\", 'BMI', 'age_or_mean_of_age_range', 'age_range', 'anatomical_region_ccf_score', 'ancestry', 'ann_coarse_for_GWAS_and_modeling', 'ann_finest_level', 'ann_level_1', 'ann_level_2', 'ann_level_3', 'ann_level_4', 'ann_level_5', 'assay', 'cause_of_death', 'cell_type', 'core_or_extension', 'dataset', 'development_stage', 'disease', 'donor_id', 'fresh_or_frozen', 'log10_total_counts', 'lung_condition', 'mixed_ancestry', 'original_ann_level_1', 'original_ann_level_2', 'original_ann_level_3', 'original_ann_level_4', 'original_ann_level_5', 'original_ann_nonharmonized', 'reannotation_type', 'sample', 'scanvi_label', 'sequencing_platform', 'sex', 'smoking_status', 'study', 'subject_type', 'suspension_type', 'tissue', 'tissue_coarse_unharmonized', 'tissue_detailed_unharmonized', 'tissue_dissociation_protocol', 'tissue_level_2', 'tissue_level_3', 'tissue_sampling_method', 'total_counts', 'transf_ann_level_1_label', 'transf_ann_level_1_uncert', 'transf_ann_level_2_label', 'transf_ann_level_2_uncert', 'transf_ann_level_3_label', 'transf_ann_level_3_uncert', 'transf_ann_level_4_label', 'transf_ann_level_4_uncert', 'transf_ann_level_5_label', 'transf_ann_level_5_uncert'"
      ]
     },
     "execution_count": 4,
     "metadata": {},
     "output_type": "execute_result"
    }
   ],
   "source": [
    "tmp = sc.AnnData(adata.layers['counts'])\n",
    "tmp.obs = adata.obs\n",
    "tmp.var_names = adata.var_names\n",
    "adata = tmp\n",
    "del tmp\n",
    "adata"
   ]
  },
  {
   "cell_type": "markdown",
   "id": "e024dc3f",
   "metadata": {},
   "source": [
    "# get rid of celltypes"
   ]
  },
  {
   "cell_type": "code",
   "execution_count": 5,
   "id": "146363e9",
   "metadata": {},
   "outputs": [
    {
     "data": {
      "text/plain": [
       "AnnData object with n_obs × n_vars = 2250578 × 59586\n",
       "    obs: \"3'_or_5'\", 'BMI', 'age_or_mean_of_age_range', 'age_range', 'anatomical_region_ccf_score', 'ancestry', 'ann_coarse_for_GWAS_and_modeling', 'ann_finest_level', 'ann_level_1', 'ann_level_2', 'ann_level_3', 'ann_level_4', 'ann_level_5', 'assay', 'cause_of_death', 'cell_type', 'core_or_extension', 'dataset', 'development_stage', 'disease', 'donor_id', 'fresh_or_frozen', 'log10_total_counts', 'lung_condition', 'mixed_ancestry', 'original_ann_level_1', 'original_ann_level_2', 'original_ann_level_3', 'original_ann_level_4', 'original_ann_level_5', 'original_ann_nonharmonized', 'reannotation_type', 'sample', 'scanvi_label', 'sequencing_platform', 'sex', 'smoking_status', 'study', 'subject_type', 'suspension_type', 'tissue', 'tissue_coarse_unharmonized', 'tissue_detailed_unharmonized', 'tissue_dissociation_protocol', 'tissue_level_2', 'tissue_level_3', 'tissue_sampling_method', 'total_counts', 'transf_ann_level_1_label', 'transf_ann_level_1_uncert', 'transf_ann_level_2_label', 'transf_ann_level_2_uncert', 'transf_ann_level_3_label', 'transf_ann_level_3_uncert', 'transf_ann_level_4_label', 'transf_ann_level_4_uncert', 'transf_ann_level_5_label', 'transf_ann_level_5_uncert'"
      ]
     },
     "execution_count": 5,
     "metadata": {},
     "output_type": "execute_result"
    }
   ],
   "source": [
    "adata = adata[~adata.obs['transf_ann_level_3_label'].isin(['2_Hematopoietic stem cells', '2_Mesothelium', '2_Smooth muscle', 'Rare'])].copy()\n",
    "adata"
   ]
  },
  {
   "cell_type": "markdown",
   "id": "15b48fd3",
   "metadata": {},
   "source": [
    "# clean conditions"
   ]
  },
  {
   "cell_type": "code",
   "execution_count": 6,
   "id": "de479ddb",
   "metadata": {},
   "outputs": [],
   "source": [
    "condition_simplifier = {\n",
    "        \"Healthy (tumor adjacent)\": \"Healthy\",\n",
    "        \"Large Cell Carcinoma\": \"Carcinoma\",\n",
    "        \"Lung adenocarcinoma\": \"Carcinoma\",\n",
    "        \"Pleiomorphic Carcinoma\": \"Carcinoma\",\n",
    "        \"Squamous Cell Carcinoma\": \"Carcinoma\",\n",
    "        \"HP\": \"ILD\",\n",
    "        \"Myositis-associated ILD\": \"ILD\",\n",
    "        \"NSIP\": \"ILD\",\n",
    "        \"Systemic sclerosis-associated ILD\" : \"ILD\",\n",
    "    }"
   ]
  },
  {
   "cell_type": "code",
   "execution_count": 7,
   "id": "26f6509c",
   "metadata": {},
   "outputs": [
    {
     "data": {
      "text/plain": [
       "Index(['CF', 'COPD', 'COVID-19', 'COVID-19 moderate', 'COVID-19 severe',\n",
       "       'Chronic rhinitis', 'End-stage lung fibrosis, unknown etiology',\n",
       "       'Healthy', 'ILD', 'IPF', 'Carcinoma', 'Lymphangioleiomyomatosis',\n",
       "       'Pneumonia non-COVID', 'Sarcoidosis',\n",
       "       'anti-CD3 anti-CD28 antibody stimulated'],\n",
       "      dtype='object')"
      ]
     },
     "execution_count": 7,
     "metadata": {},
     "output_type": "execute_result"
    }
   ],
   "source": [
    "adata.obs['lung_condition_coarse'] = adata.obs['lung_condition'].replace(condition_simplifier)\n",
    "adata.obs['lung_condition_coarse'].cat.categories"
   ]
  },
  {
   "cell_type": "code",
   "execution_count": 8,
   "id": "0dddc1f2",
   "metadata": {},
   "outputs": [
    {
     "data": {
      "text/plain": [
       "Healthy                                      429\n",
       "COVID-19                                      73\n",
       "IPF                                           67\n",
       "Carcinoma                                     44\n",
       "COPD                                          24\n",
       "CF                                            22\n",
       "ILD                                           22\n",
       "Chronic rhinitis                              18\n",
       "Pneumonia non-COVID                           13\n",
       "COVID-19 severe                                6\n",
       "End-stage lung fibrosis, unknown etiology      4\n",
       "COVID-19 moderate                              3\n",
       "Lymphangioleiomyomatosis                       2\n",
       "Sarcoidosis                                    2\n",
       "anti-CD3 anti-CD28 antibody stimulated         2\n",
       "Name: lung_condition_coarse, dtype: int64"
      ]
     },
     "execution_count": 8,
     "metadata": {},
     "output_type": "execute_result"
    }
   ],
   "source": [
    "adata.obs[['lung_condition_coarse', 'sample']].drop_duplicates()['lung_condition_coarse'].value_counts()"
   ]
  },
  {
   "cell_type": "code",
   "execution_count": 9,
   "id": "25b0aae3",
   "metadata": {},
   "outputs": [],
   "source": [
    "conditions_to_exclude = [\n",
    "    \"End-stage lung fibrosis, unknown etiology\",\n",
    "    \"Lymphangioleiomyomatosis\",\n",
    "    \"Sarcoidosis\",\n",
    "    \"anti-CD3 anti-CD28 antibody stimulated\",\n",
    "]"
   ]
  },
  {
   "cell_type": "code",
   "execution_count": 10,
   "id": "b60916ac",
   "metadata": {
    "scrolled": true
   },
   "outputs": [
    {
     "data": {
      "text/plain": [
       "AnnData object with n_obs × n_vars = 2212137 × 59586\n",
       "    obs: \"3'_or_5'\", 'BMI', 'age_or_mean_of_age_range', 'age_range', 'anatomical_region_ccf_score', 'ancestry', 'ann_coarse_for_GWAS_and_modeling', 'ann_finest_level', 'ann_level_1', 'ann_level_2', 'ann_level_3', 'ann_level_4', 'ann_level_5', 'assay', 'cause_of_death', 'cell_type', 'core_or_extension', 'dataset', 'development_stage', 'disease', 'donor_id', 'fresh_or_frozen', 'log10_total_counts', 'lung_condition', 'mixed_ancestry', 'original_ann_level_1', 'original_ann_level_2', 'original_ann_level_3', 'original_ann_level_4', 'original_ann_level_5', 'original_ann_nonharmonized', 'reannotation_type', 'sample', 'scanvi_label', 'sequencing_platform', 'sex', 'smoking_status', 'study', 'subject_type', 'suspension_type', 'tissue', 'tissue_coarse_unharmonized', 'tissue_detailed_unharmonized', 'tissue_dissociation_protocol', 'tissue_level_2', 'tissue_level_3', 'tissue_sampling_method', 'total_counts', 'transf_ann_level_1_label', 'transf_ann_level_1_uncert', 'transf_ann_level_2_label', 'transf_ann_level_2_uncert', 'transf_ann_level_3_label', 'transf_ann_level_3_uncert', 'transf_ann_level_4_label', 'transf_ann_level_4_uncert', 'transf_ann_level_5_label', 'transf_ann_level_5_uncert', 'lung_condition_coarse'"
      ]
     },
     "execution_count": 10,
     "metadata": {},
     "output_type": "execute_result"
    }
   ],
   "source": [
    "adata = adata[~adata.obs['lung_condition_coarse'].isin(conditions_to_exclude)].copy()\n",
    "adata"
   ]
  },
  {
   "cell_type": "markdown",
   "id": "23026b3a",
   "metadata": {},
   "source": [
    "# check what is our query"
   ]
  },
  {
   "cell_type": "code",
   "execution_count": 11,
   "id": "e9fb82a6",
   "metadata": {},
   "outputs": [
    {
     "data": {
      "text/plain": [
       "AAGGTTCGTGCTAGCC_8_liao     Zhang_2021\n",
       "GGACAAGTCGTGACAT_9_liao     Zhang_2021\n",
       "CCATTCGAGCTCCTCT_7_liao     Zhang_2021\n",
       "GGTGCGTGTGTAATGA_8_liao     Zhang_2021\n",
       "GCGCAACGTGGACGAT_7_liao     Zhang_2021\n",
       "                               ...    \n",
       "TTCTCCTTCCTTCAAT_13_liao    Zhang_2021\n",
       "GGGCATCCATACCATG_9_liao     Zhang_2021\n",
       "CGGAGCTTCCAGAGGA_8_liao     Zhang_2021\n",
       "CCCAGTTGTTACGGAG_13_liao    Zhang_2021\n",
       "GTTCTCGTCTGGCGAC_8_liao     Zhang_2021\n",
       "Name: study, Length: 43316, dtype: category\n",
       "Categories (1, object): ['Zhang_2021']"
      ]
     },
     "execution_count": 11,
     "metadata": {},
     "output_type": "execute_result"
    }
   ],
   "source": [
    "adata[adata.obs['lung_condition'].isin(['COVID-19 moderate', 'COVID-19 severe'])].obs['study']"
   ]
  },
  {
   "cell_type": "code",
   "execution_count": 12,
   "id": "b63bb46b",
   "metadata": {},
   "outputs": [
    {
     "data": {
      "text/plain": [
       "AAGGTTCGTGCTAGCC_8_liao       COVID-19 severe\n",
       "GGACAAGTCGTGACAT_9_liao       COVID-19 severe\n",
       "CCATTCGAGCTCCTCT_7_liao     COVID-19 moderate\n",
       "GGTGCGTGTGTAATGA_8_liao       COVID-19 severe\n",
       "GGGTCTGTCTAACTGG_2_liao               Healthy\n",
       "                                  ...        \n",
       "GGGCATCCATACCATG_9_liao       COVID-19 severe\n",
       "CGGAGCTTCCAGAGGA_8_liao       COVID-19 severe\n",
       "CCCAGTTGTTACGGAG_13_liao      COVID-19 severe\n",
       "GAAGCAGGTTAAAGTG_2_liao               Healthy\n",
       "GTTCTCGTCTGGCGAC_8_liao       COVID-19 severe\n",
       "Name: lung_condition, Length: 62453, dtype: category\n",
       "Categories (3, object): ['COVID-19 moderate', 'COVID-19 severe', 'Healthy']"
      ]
     },
     "execution_count": 12,
     "metadata": {},
     "output_type": "execute_result"
    }
   ],
   "source": [
    "adata[adata.obs['dataset'] == 'Zhang_2021'].obs['lung_condition']"
   ]
  },
  {
   "cell_type": "code",
   "execution_count": 22,
   "id": "186c9094",
   "metadata": {},
   "outputs": [],
   "source": [
    "adata.write('/lustre/groups/ml01/projects/2022_multigrate_anastasia.litinetskaya/snakemake/hyperparam/data/pp/hlca.h5ad')"
   ]
  },
  {
   "cell_type": "markdown",
   "id": "21f77340",
   "metadata": {},
   "source": [
    "# pearson hvg"
   ]
  },
  {
   "cell_type": "code",
   "execution_count": 13,
   "id": "a42e1505",
   "metadata": {},
   "outputs": [],
   "source": [
    "sc.experimental.pp.highly_variable_genes(\n",
    "    adata, flavor=\"pearson_residuals\", n_top_genes=2000, batch_key='dataset',\n",
    ")"
   ]
  },
  {
   "cell_type": "code",
   "execution_count": 14,
   "id": "cfc80c6e",
   "metadata": {},
   "outputs": [
    {
     "data": {
      "text/plain": [
       "AnnData object with n_obs × n_vars = 2212137 × 2000\n",
       "    obs: \"3'_or_5'\", 'BMI', 'age_or_mean_of_age_range', 'age_range', 'anatomical_region_ccf_score', 'ancestry', 'ann_coarse_for_GWAS_and_modeling', 'ann_finest_level', 'ann_level_1', 'ann_level_2', 'ann_level_3', 'ann_level_4', 'ann_level_5', 'assay', 'cause_of_death', 'cell_type', 'core_or_extension', 'dataset', 'development_stage', 'disease', 'donor_id', 'fresh_or_frozen', 'log10_total_counts', 'lung_condition', 'mixed_ancestry', 'original_ann_level_1', 'original_ann_level_2', 'original_ann_level_3', 'original_ann_level_4', 'original_ann_level_5', 'original_ann_nonharmonized', 'reannotation_type', 'sample', 'scanvi_label', 'sequencing_platform', 'sex', 'smoking_status', 'study', 'subject_type', 'suspension_type', 'tissue', 'tissue_coarse_unharmonized', 'tissue_detailed_unharmonized', 'tissue_dissociation_protocol', 'tissue_level_2', 'tissue_level_3', 'tissue_sampling_method', 'total_counts', 'transf_ann_level_1_label', 'transf_ann_level_1_uncert', 'transf_ann_level_2_label', 'transf_ann_level_2_uncert', 'transf_ann_level_3_label', 'transf_ann_level_3_uncert', 'transf_ann_level_4_label', 'transf_ann_level_4_uncert', 'transf_ann_level_5_label', 'transf_ann_level_5_uncert', 'lung_condition_coarse'\n",
       "    var: 'means', 'variances', 'residual_variances', 'highly_variable_rank', 'highly_variable_nbatches', 'highly_variable_intersection', 'highly_variable'\n",
       "    uns: 'hvg'"
      ]
     },
     "execution_count": 14,
     "metadata": {},
     "output_type": "execute_result"
    }
   ],
   "source": [
    "adata_pearson = adata[:, adata.var['highly_variable']].copy()\n",
    "adata_pearson"
   ]
  },
  {
   "cell_type": "markdown",
   "id": "38fddaf7",
   "metadata": {},
   "source": [
    "## separate query"
   ]
  },
  {
   "cell_type": "code",
   "execution_count": 16,
   "id": "21ca0de5",
   "metadata": {},
   "outputs": [],
   "source": [
    "adata_pearson_query = adata_pearson[adata_pearson.obs['dataset'] == 'Zhang_2021'].copy()\n",
    "adata_pearson = adata_pearson[adata_pearson.obs['dataset'] != 'Zhang_2021'].copy()"
   ]
  },
  {
   "cell_type": "markdown",
   "id": "bf86a4e0",
   "metadata": {},
   "source": [
    "## create splits"
   ]
  },
  {
   "cell_type": "code",
   "execution_count": 17,
   "id": "995c2aa5",
   "metadata": {},
   "outputs": [
    {
     "data": {
      "text/plain": [
       "709"
      ]
     },
     "execution_count": 17,
     "metadata": {},
     "output_type": "execute_result"
    }
   ],
   "source": [
    "samples = adata_pearson.obs['sample'].cat.categories.values\n",
    "len(samples)"
   ]
  },
  {
   "cell_type": "code",
   "execution_count": 18,
   "id": "49c9e3fb",
   "metadata": {},
   "outputs": [],
   "source": [
    "kf = KFold(n_splits=5, random_state=1, shuffle=True)"
   ]
  },
  {
   "cell_type": "code",
   "execution_count": 19,
   "id": "beb87079",
   "metadata": {},
   "outputs": [
    {
     "name": "stdout",
     "output_type": "stream",
     "text": [
      "{'IPF', 'COPD', 'Carcinoma', 'CF', 'Chronic rhinitis', 'Healthy', 'COVID-19', 'ILD', 'Pneumonia non-COVID'}\n",
      "{'IPF', 'COPD', 'Carcinoma', 'CF', 'Chronic rhinitis', 'Healthy', 'COVID-19', 'ILD', 'Pneumonia non-COVID'}\n",
      "{'IPF', 'COPD', 'Carcinoma', 'CF', 'Chronic rhinitis', 'Healthy', 'COVID-19', 'ILD', 'Pneumonia non-COVID'}\n",
      "{'IPF', 'COPD', 'Carcinoma', 'CF', 'Chronic rhinitis', 'Healthy', 'COVID-19', 'ILD', 'Pneumonia non-COVID'}\n",
      "{'IPF', 'COPD', 'Carcinoma', 'CF', 'Chronic rhinitis', 'Healthy', 'COVID-19', 'ILD', 'Pneumonia non-COVID'}\n",
      "{'IPF', 'COPD', 'Carcinoma', 'CF', 'Chronic rhinitis', 'Healthy', 'COVID-19', 'ILD', 'Pneumonia non-COVID'}\n",
      "{'IPF', 'COPD', 'Carcinoma', 'CF', 'Chronic rhinitis', 'Healthy', 'COVID-19', 'ILD', 'Pneumonia non-COVID'}\n",
      "{'IPF', 'COPD', 'Carcinoma', 'CF', 'Chronic rhinitis', 'Healthy', 'COVID-19', 'ILD', 'Pneumonia non-COVID'}\n",
      "{'IPF', 'COPD', 'Carcinoma', 'CF', 'Chronic rhinitis', 'Healthy', 'COVID-19', 'ILD', 'Pneumonia non-COVID'}\n",
      "{'IPF', 'COPD', 'Carcinoma', 'CF', 'Chronic rhinitis', 'Healthy', 'COVID-19', 'ILD', 'Pneumonia non-COVID'}\n"
     ]
    }
   ],
   "source": [
    "train_test_sizes = []\n",
    "\n",
    "for i, (train_index, test_index) in enumerate(kf.split(samples)):\n",
    "    train_samples = samples[train_index]\n",
    "    test_samples = samples[test_index]\n",
    "    adata_pearson.obs.loc[adata_pearson.obs['sample'].isin(train_samples), f'split{i}'] = 'train'\n",
    "    adata_pearson.obs.loc[adata_pearson.obs['sample'].isin(test_samples), f'split{i}'] = 'val'\n",
    "    adata_train = adata_pearson[adata_pearson.obs[f'split{i}'] == 'train'].copy()\n",
    "    adata_test = adata_pearson[adata_pearson.obs[f'split{i}'] == 'val'].copy()\n",
    "    train_conditions = set(adata_train.obs['lung_condition_coarse'].cat.categories)\n",
    "    test_conditions = set(adata_test.obs['lung_condition_coarse'].cat.categories)\n",
    "    print(train_conditions)\n",
    "    print(test_conditions)\n",
    "    assert test_conditions.issubset(train_conditions)\n",
    "    train_test_sizes.append((len(adata_train), len(adata_test)))"
   ]
  },
  {
   "cell_type": "code",
   "execution_count": 20,
   "id": "cdcca5dd",
   "metadata": {},
   "outputs": [
    {
     "name": "stdout",
     "output_type": "stream",
     "text": [
      "[(1733726, 415958), (1751019, 398665), (1666343, 483341), (1730932, 418752), (1716716, 432968)]\n"
     ]
    }
   ],
   "source": [
    "print(train_test_sizes)"
   ]
  },
  {
   "cell_type": "code",
   "execution_count": 21,
   "id": "16170672",
   "metadata": {},
   "outputs": [],
   "source": [
    "adata_pearson.write('/lustre/groups/ml01/projects/2022_multigrate_anastasia.litinetskaya/snakemake/hyperparam/data/pp/hlca_hvg_pearson.h5ad')\n",
    "adata_pearson_query.write('/lustre/groups/ml01/projects/2022_multigrate_anastasia.litinetskaya/snakemake/hyperparam/data/pp/hlca_hvg_pearson_query.h5ad')"
   ]
  },
  {
   "cell_type": "markdown",
   "id": "ef16d45b",
   "metadata": {},
   "source": [
    "# hvg"
   ]
  },
  {
   "cell_type": "code",
   "execution_count": 3,
   "id": "0ea69bb9",
   "metadata": {},
   "outputs": [],
   "source": [
    "adata = sc.read('/lustre/groups/ml01/projects/2022_multigrate_anastasia.litinetskaya/snakemake/hyperparam/data/pp/hlca.h5ad')"
   ]
  },
  {
   "cell_type": "code",
   "execution_count": 4,
   "id": "0a980472",
   "metadata": {},
   "outputs": [],
   "source": [
    "adata.layers['counts'] = adata.X.copy()"
   ]
  },
  {
   "cell_type": "code",
   "execution_count": 5,
   "id": "3765dc67",
   "metadata": {},
   "outputs": [],
   "source": [
    "sc.pp.normalize_total(adata, target_sum=1e4)\n",
    "sc.pp.log1p(adata)"
   ]
  },
  {
   "cell_type": "code",
   "execution_count": 6,
   "id": "8f64922b",
   "metadata": {
    "scrolled": true
   },
   "outputs": [
    {
     "name": "stderr",
     "output_type": "stream",
     "text": [
      "/lustre/groups/ml01/workspace/anastasia.litinetskaya/miniconda3/envs/multimil/lib/python3.10/site-packages/scanpy/preprocessing/_highly_variable_genes.py:478: FutureWarning: The frame.append method is deprecated and will be removed from pandas in a future version. Use pandas.concat instead.\n",
      "  hvg = hvg.append(missing_hvg, ignore_index=True)\n",
      "/lustre/groups/ml01/workspace/anastasia.litinetskaya/miniconda3/envs/multimil/lib/python3.10/site-packages/scanpy/preprocessing/_highly_variable_genes.py:478: FutureWarning: The frame.append method is deprecated and will be removed from pandas in a future version. Use pandas.concat instead.\n",
      "  hvg = hvg.append(missing_hvg, ignore_index=True)\n",
      "/lustre/groups/ml01/workspace/anastasia.litinetskaya/miniconda3/envs/multimil/lib/python3.10/site-packages/scanpy/preprocessing/_highly_variable_genes.py:478: FutureWarning: The frame.append method is deprecated and will be removed from pandas in a future version. Use pandas.concat instead.\n",
      "  hvg = hvg.append(missing_hvg, ignore_index=True)\n",
      "/lustre/groups/ml01/workspace/anastasia.litinetskaya/miniconda3/envs/multimil/lib/python3.10/site-packages/scanpy/preprocessing/_highly_variable_genes.py:478: FutureWarning: The frame.append method is deprecated and will be removed from pandas in a future version. Use pandas.concat instead.\n",
      "  hvg = hvg.append(missing_hvg, ignore_index=True)\n",
      "/lustre/groups/ml01/workspace/anastasia.litinetskaya/miniconda3/envs/multimil/lib/python3.10/site-packages/scanpy/preprocessing/_highly_variable_genes.py:478: FutureWarning: The frame.append method is deprecated and will be removed from pandas in a future version. Use pandas.concat instead.\n",
      "  hvg = hvg.append(missing_hvg, ignore_index=True)\n",
      "/lustre/groups/ml01/workspace/anastasia.litinetskaya/miniconda3/envs/multimil/lib/python3.10/site-packages/scanpy/preprocessing/_highly_variable_genes.py:478: FutureWarning: The frame.append method is deprecated and will be removed from pandas in a future version. Use pandas.concat instead.\n",
      "  hvg = hvg.append(missing_hvg, ignore_index=True)\n",
      "/lustre/groups/ml01/workspace/anastasia.litinetskaya/miniconda3/envs/multimil/lib/python3.10/site-packages/scanpy/preprocessing/_highly_variable_genes.py:478: FutureWarning: The frame.append method is deprecated and will be removed from pandas in a future version. Use pandas.concat instead.\n",
      "  hvg = hvg.append(missing_hvg, ignore_index=True)\n",
      "/lustre/groups/ml01/workspace/anastasia.litinetskaya/miniconda3/envs/multimil/lib/python3.10/site-packages/scanpy/preprocessing/_highly_variable_genes.py:478: FutureWarning: The frame.append method is deprecated and will be removed from pandas in a future version. Use pandas.concat instead.\n",
      "  hvg = hvg.append(missing_hvg, ignore_index=True)\n",
      "/lustre/groups/ml01/workspace/anastasia.litinetskaya/miniconda3/envs/multimil/lib/python3.10/site-packages/scanpy/preprocessing/_highly_variable_genes.py:478: FutureWarning: The frame.append method is deprecated and will be removed from pandas in a future version. Use pandas.concat instead.\n",
      "  hvg = hvg.append(missing_hvg, ignore_index=True)\n",
      "/lustre/groups/ml01/workspace/anastasia.litinetskaya/miniconda3/envs/multimil/lib/python3.10/site-packages/scanpy/preprocessing/_highly_variable_genes.py:478: FutureWarning: The frame.append method is deprecated and will be removed from pandas in a future version. Use pandas.concat instead.\n",
      "  hvg = hvg.append(missing_hvg, ignore_index=True)\n",
      "/lustre/groups/ml01/workspace/anastasia.litinetskaya/miniconda3/envs/multimil/lib/python3.10/site-packages/scanpy/preprocessing/_highly_variable_genes.py:478: FutureWarning: The frame.append method is deprecated and will be removed from pandas in a future version. Use pandas.concat instead.\n",
      "  hvg = hvg.append(missing_hvg, ignore_index=True)\n",
      "/lustre/groups/ml01/workspace/anastasia.litinetskaya/miniconda3/envs/multimil/lib/python3.10/site-packages/scanpy/preprocessing/_highly_variable_genes.py:478: FutureWarning: The frame.append method is deprecated and will be removed from pandas in a future version. Use pandas.concat instead.\n",
      "  hvg = hvg.append(missing_hvg, ignore_index=True)\n",
      "/lustre/groups/ml01/workspace/anastasia.litinetskaya/miniconda3/envs/multimil/lib/python3.10/site-packages/scanpy/preprocessing/_highly_variable_genes.py:478: FutureWarning: The frame.append method is deprecated and will be removed from pandas in a future version. Use pandas.concat instead.\n",
      "  hvg = hvg.append(missing_hvg, ignore_index=True)\n",
      "/lustre/groups/ml01/workspace/anastasia.litinetskaya/miniconda3/envs/multimil/lib/python3.10/site-packages/scanpy/preprocessing/_highly_variable_genes.py:478: FutureWarning: The frame.append method is deprecated and will be removed from pandas in a future version. Use pandas.concat instead.\n",
      "  hvg = hvg.append(missing_hvg, ignore_index=True)\n",
      "/lustre/groups/ml01/workspace/anastasia.litinetskaya/miniconda3/envs/multimil/lib/python3.10/site-packages/scanpy/preprocessing/_highly_variable_genes.py:478: FutureWarning: The frame.append method is deprecated and will be removed from pandas in a future version. Use pandas.concat instead.\n",
      "  hvg = hvg.append(missing_hvg, ignore_index=True)\n",
      "/lustre/groups/ml01/workspace/anastasia.litinetskaya/miniconda3/envs/multimil/lib/python3.10/site-packages/scanpy/preprocessing/_highly_variable_genes.py:478: FutureWarning: The frame.append method is deprecated and will be removed from pandas in a future version. Use pandas.concat instead.\n",
      "  hvg = hvg.append(missing_hvg, ignore_index=True)\n",
      "/lustre/groups/ml01/workspace/anastasia.litinetskaya/miniconda3/envs/multimil/lib/python3.10/site-packages/scanpy/preprocessing/_highly_variable_genes.py:478: FutureWarning: The frame.append method is deprecated and will be removed from pandas in a future version. Use pandas.concat instead.\n",
      "  hvg = hvg.append(missing_hvg, ignore_index=True)\n",
      "/lustre/groups/ml01/workspace/anastasia.litinetskaya/miniconda3/envs/multimil/lib/python3.10/site-packages/scanpy/preprocessing/_highly_variable_genes.py:478: FutureWarning: The frame.append method is deprecated and will be removed from pandas in a future version. Use pandas.concat instead.\n",
      "  hvg = hvg.append(missing_hvg, ignore_index=True)\n",
      "/lustre/groups/ml01/workspace/anastasia.litinetskaya/miniconda3/envs/multimil/lib/python3.10/site-packages/scanpy/preprocessing/_highly_variable_genes.py:478: FutureWarning: The frame.append method is deprecated and will be removed from pandas in a future version. Use pandas.concat instead.\n",
      "  hvg = hvg.append(missing_hvg, ignore_index=True)\n",
      "/lustre/groups/ml01/workspace/anastasia.litinetskaya/miniconda3/envs/multimil/lib/python3.10/site-packages/scanpy/preprocessing/_highly_variable_genes.py:478: FutureWarning: The frame.append method is deprecated and will be removed from pandas in a future version. Use pandas.concat instead.\n",
      "  hvg = hvg.append(missing_hvg, ignore_index=True)\n",
      "/lustre/groups/ml01/workspace/anastasia.litinetskaya/miniconda3/envs/multimil/lib/python3.10/site-packages/scanpy/preprocessing/_highly_variable_genes.py:478: FutureWarning: The frame.append method is deprecated and will be removed from pandas in a future version. Use pandas.concat instead.\n",
      "  hvg = hvg.append(missing_hvg, ignore_index=True)\n",
      "/lustre/groups/ml01/workspace/anastasia.litinetskaya/miniconda3/envs/multimil/lib/python3.10/site-packages/scanpy/preprocessing/_highly_variable_genes.py:478: FutureWarning: The frame.append method is deprecated and will be removed from pandas in a future version. Use pandas.concat instead.\n",
      "  hvg = hvg.append(missing_hvg, ignore_index=True)\n",
      "/lustre/groups/ml01/workspace/anastasia.litinetskaya/miniconda3/envs/multimil/lib/python3.10/site-packages/scanpy/preprocessing/_highly_variable_genes.py:478: FutureWarning: The frame.append method is deprecated and will be removed from pandas in a future version. Use pandas.concat instead.\n",
      "  hvg = hvg.append(missing_hvg, ignore_index=True)\n",
      "/lustre/groups/ml01/workspace/anastasia.litinetskaya/miniconda3/envs/multimil/lib/python3.10/site-packages/scanpy/preprocessing/_highly_variable_genes.py:478: FutureWarning: The frame.append method is deprecated and will be removed from pandas in a future version. Use pandas.concat instead.\n",
      "  hvg = hvg.append(missing_hvg, ignore_index=True)\n"
     ]
    },
    {
     "name": "stderr",
     "output_type": "stream",
     "text": [
      "/lustre/groups/ml01/workspace/anastasia.litinetskaya/miniconda3/envs/multimil/lib/python3.10/site-packages/scanpy/preprocessing/_highly_variable_genes.py:478: FutureWarning: The frame.append method is deprecated and will be removed from pandas in a future version. Use pandas.concat instead.\n",
      "  hvg = hvg.append(missing_hvg, ignore_index=True)\n",
      "/lustre/groups/ml01/workspace/anastasia.litinetskaya/miniconda3/envs/multimil/lib/python3.10/site-packages/scanpy/preprocessing/_highly_variable_genes.py:478: FutureWarning: The frame.append method is deprecated and will be removed from pandas in a future version. Use pandas.concat instead.\n",
      "  hvg = hvg.append(missing_hvg, ignore_index=True)\n",
      "/lustre/groups/ml01/workspace/anastasia.litinetskaya/miniconda3/envs/multimil/lib/python3.10/site-packages/scanpy/preprocessing/_highly_variable_genes.py:478: FutureWarning: The frame.append method is deprecated and will be removed from pandas in a future version. Use pandas.concat instead.\n",
      "  hvg = hvg.append(missing_hvg, ignore_index=True)\n",
      "/lustre/groups/ml01/workspace/anastasia.litinetskaya/miniconda3/envs/multimil/lib/python3.10/site-packages/scanpy/preprocessing/_highly_variable_genes.py:478: FutureWarning: The frame.append method is deprecated and will be removed from pandas in a future version. Use pandas.concat instead.\n",
      "  hvg = hvg.append(missing_hvg, ignore_index=True)\n",
      "/lustre/groups/ml01/workspace/anastasia.litinetskaya/miniconda3/envs/multimil/lib/python3.10/site-packages/scanpy/preprocessing/_highly_variable_genes.py:478: FutureWarning: The frame.append method is deprecated and will be removed from pandas in a future version. Use pandas.concat instead.\n",
      "  hvg = hvg.append(missing_hvg, ignore_index=True)\n",
      "/lustre/groups/ml01/workspace/anastasia.litinetskaya/miniconda3/envs/multimil/lib/python3.10/site-packages/scanpy/preprocessing/_highly_variable_genes.py:478: FutureWarning: The frame.append method is deprecated and will be removed from pandas in a future version. Use pandas.concat instead.\n",
      "  hvg = hvg.append(missing_hvg, ignore_index=True)\n",
      "/lustre/groups/ml01/workspace/anastasia.litinetskaya/miniconda3/envs/multimil/lib/python3.10/site-packages/scanpy/preprocessing/_highly_variable_genes.py:478: FutureWarning: The frame.append method is deprecated and will be removed from pandas in a future version. Use pandas.concat instead.\n",
      "  hvg = hvg.append(missing_hvg, ignore_index=True)\n",
      "/lustre/groups/ml01/workspace/anastasia.litinetskaya/miniconda3/envs/multimil/lib/python3.10/site-packages/scanpy/preprocessing/_highly_variable_genes.py:478: FutureWarning: The frame.append method is deprecated and will be removed from pandas in a future version. Use pandas.concat instead.\n",
      "  hvg = hvg.append(missing_hvg, ignore_index=True)\n",
      "/lustre/groups/ml01/workspace/anastasia.litinetskaya/miniconda3/envs/multimil/lib/python3.10/site-packages/scanpy/preprocessing/_highly_variable_genes.py:478: FutureWarning: The frame.append method is deprecated and will be removed from pandas in a future version. Use pandas.concat instead.\n",
      "  hvg = hvg.append(missing_hvg, ignore_index=True)\n",
      "/lustre/groups/ml01/workspace/anastasia.litinetskaya/miniconda3/envs/multimil/lib/python3.10/site-packages/scanpy/preprocessing/_highly_variable_genes.py:478: FutureWarning: The frame.append method is deprecated and will be removed from pandas in a future version. Use pandas.concat instead.\n",
      "  hvg = hvg.append(missing_hvg, ignore_index=True)\n",
      "/lustre/groups/ml01/workspace/anastasia.litinetskaya/miniconda3/envs/multimil/lib/python3.10/site-packages/scanpy/preprocessing/_highly_variable_genes.py:478: FutureWarning: The frame.append method is deprecated and will be removed from pandas in a future version. Use pandas.concat instead.\n",
      "  hvg = hvg.append(missing_hvg, ignore_index=True)\n",
      "/lustre/groups/ml01/workspace/anastasia.litinetskaya/miniconda3/envs/multimil/lib/python3.10/site-packages/scanpy/preprocessing/_highly_variable_genes.py:478: FutureWarning: The frame.append method is deprecated and will be removed from pandas in a future version. Use pandas.concat instead.\n",
      "  hvg = hvg.append(missing_hvg, ignore_index=True)\n",
      "/lustre/groups/ml01/workspace/anastasia.litinetskaya/miniconda3/envs/multimil/lib/python3.10/site-packages/scanpy/preprocessing/_highly_variable_genes.py:478: FutureWarning: The frame.append method is deprecated and will be removed from pandas in a future version. Use pandas.concat instead.\n",
      "  hvg = hvg.append(missing_hvg, ignore_index=True)\n",
      "/lustre/groups/ml01/workspace/anastasia.litinetskaya/miniconda3/envs/multimil/lib/python3.10/site-packages/scanpy/preprocessing/_highly_variable_genes.py:478: FutureWarning: The frame.append method is deprecated and will be removed from pandas in a future version. Use pandas.concat instead.\n",
      "  hvg = hvg.append(missing_hvg, ignore_index=True)\n",
      "/lustre/groups/ml01/workspace/anastasia.litinetskaya/miniconda3/envs/multimil/lib/python3.10/site-packages/scanpy/preprocessing/_highly_variable_genes.py:478: FutureWarning: The frame.append method is deprecated and will be removed from pandas in a future version. Use pandas.concat instead.\n",
      "  hvg = hvg.append(missing_hvg, ignore_index=True)\n",
      "/lustre/groups/ml01/workspace/anastasia.litinetskaya/miniconda3/envs/multimil/lib/python3.10/site-packages/scanpy/preprocessing/_highly_variable_genes.py:478: FutureWarning: The frame.append method is deprecated and will be removed from pandas in a future version. Use pandas.concat instead.\n",
      "  hvg = hvg.append(missing_hvg, ignore_index=True)\n",
      "/lustre/groups/ml01/workspace/anastasia.litinetskaya/miniconda3/envs/multimil/lib/python3.10/site-packages/scanpy/preprocessing/_highly_variable_genes.py:478: FutureWarning: The frame.append method is deprecated and will be removed from pandas in a future version. Use pandas.concat instead.\n",
      "  hvg = hvg.append(missing_hvg, ignore_index=True)\n",
      "/lustre/groups/ml01/workspace/anastasia.litinetskaya/miniconda3/envs/multimil/lib/python3.10/site-packages/scanpy/preprocessing/_highly_variable_genes.py:478: FutureWarning: The frame.append method is deprecated and will be removed from pandas in a future version. Use pandas.concat instead.\n",
      "  hvg = hvg.append(missing_hvg, ignore_index=True)\n",
      "/lustre/groups/ml01/workspace/anastasia.litinetskaya/miniconda3/envs/multimil/lib/python3.10/site-packages/scanpy/preprocessing/_highly_variable_genes.py:478: FutureWarning: The frame.append method is deprecated and will be removed from pandas in a future version. Use pandas.concat instead.\n",
      "  hvg = hvg.append(missing_hvg, ignore_index=True)\n",
      "/lustre/groups/ml01/workspace/anastasia.litinetskaya/miniconda3/envs/multimil/lib/python3.10/site-packages/scanpy/preprocessing/_highly_variable_genes.py:478: FutureWarning: The frame.append method is deprecated and will be removed from pandas in a future version. Use pandas.concat instead.\n",
      "  hvg = hvg.append(missing_hvg, ignore_index=True)\n",
      "/lustre/groups/ml01/workspace/anastasia.litinetskaya/miniconda3/envs/multimil/lib/python3.10/site-packages/scanpy/preprocessing/_highly_variable_genes.py:478: FutureWarning: The frame.append method is deprecated and will be removed from pandas in a future version. Use pandas.concat instead.\n",
      "  hvg = hvg.append(missing_hvg, ignore_index=True)\n",
      "/lustre/groups/ml01/workspace/anastasia.litinetskaya/miniconda3/envs/multimil/lib/python3.10/site-packages/scanpy/preprocessing/_highly_variable_genes.py:478: FutureWarning: The frame.append method is deprecated and will be removed from pandas in a future version. Use pandas.concat instead.\n",
      "  hvg = hvg.append(missing_hvg, ignore_index=True)\n",
      "/lustre/groups/ml01/workspace/anastasia.litinetskaya/miniconda3/envs/multimil/lib/python3.10/site-packages/scanpy/preprocessing/_highly_variable_genes.py:478: FutureWarning: The frame.append method is deprecated and will be removed from pandas in a future version. Use pandas.concat instead.\n",
      "  hvg = hvg.append(missing_hvg, ignore_index=True)\n"
     ]
    }
   ],
   "source": [
    "sc.pp.highly_variable_genes(\n",
    "    adata, n_top_genes=2000, batch_key='dataset'\n",
    ")"
   ]
  },
  {
   "cell_type": "code",
   "execution_count": 7,
   "id": "c4d7cb53",
   "metadata": {},
   "outputs": [
    {
     "data": {
      "text/plain": [
       "AnnData object with n_obs × n_vars = 2212137 × 2000\n",
       "    obs: \"3'_or_5'\", 'BMI', 'age_or_mean_of_age_range', 'age_range', 'anatomical_region_ccf_score', 'ancestry', 'ann_coarse_for_GWAS_and_modeling', 'ann_finest_level', 'ann_level_1', 'ann_level_2', 'ann_level_3', 'ann_level_4', 'ann_level_5', 'assay', 'cause_of_death', 'cell_type', 'core_or_extension', 'dataset', 'development_stage', 'disease', 'donor_id', 'fresh_or_frozen', 'log10_total_counts', 'lung_condition', 'mixed_ancestry', 'original_ann_level_1', 'original_ann_level_2', 'original_ann_level_3', 'original_ann_level_4', 'original_ann_level_5', 'original_ann_nonharmonized', 'reannotation_type', 'sample', 'scanvi_label', 'sequencing_platform', 'sex', 'smoking_status', 'study', 'subject_type', 'suspension_type', 'tissue', 'tissue_coarse_unharmonized', 'tissue_detailed_unharmonized', 'tissue_dissociation_protocol', 'tissue_level_2', 'tissue_level_3', 'tissue_sampling_method', 'total_counts', 'transf_ann_level_1_label', 'transf_ann_level_1_uncert', 'transf_ann_level_2_label', 'transf_ann_level_2_uncert', 'transf_ann_level_3_label', 'transf_ann_level_3_uncert', 'transf_ann_level_4_label', 'transf_ann_level_4_uncert', 'transf_ann_level_5_label', 'transf_ann_level_5_uncert', 'lung_condition_coarse'\n",
       "    var: 'means', 'variances', 'residual_variances', 'highly_variable_rank', 'highly_variable_nbatches', 'highly_variable_intersection', 'highly_variable', 'dispersions', 'dispersions_norm'\n",
       "    uns: 'hvg', 'log1p'\n",
       "    layers: 'counts'"
      ]
     },
     "execution_count": 7,
     "metadata": {},
     "output_type": "execute_result"
    }
   ],
   "source": [
    "adata_hvg = adata[:, adata.var['highly_variable']].copy()\n",
    "adata_hvg"
   ]
  },
  {
   "cell_type": "code",
   "execution_count": 8,
   "id": "511bb24d",
   "metadata": {},
   "outputs": [],
   "source": [
    "adata_hvg.X = adata_hvg.layers['counts'].copy()\n",
    "del adata_hvg.layers"
   ]
  },
  {
   "cell_type": "markdown",
   "id": "d121791d",
   "metadata": {},
   "source": [
    "## separate query"
   ]
  },
  {
   "cell_type": "code",
   "execution_count": 9,
   "id": "f193beee",
   "metadata": {},
   "outputs": [],
   "source": [
    "adata_hvg_query = adata_hvg[adata_hvg.obs['dataset'] == 'Zhang_2021'].copy()\n",
    "adata_hvg = adata_hvg[adata_hvg.obs['dataset'] != 'Zhang_2021'].copy()"
   ]
  },
  {
   "cell_type": "markdown",
   "id": "cf6700a3",
   "metadata": {},
   "source": [
    "## add same splits"
   ]
  },
  {
   "cell_type": "code",
   "execution_count": 10,
   "id": "773ef7fb",
   "metadata": {},
   "outputs": [
    {
     "data": {
      "text/plain": [
       "AnnData object with n_obs × n_vars = 2149684 × 2000\n",
       "    obs: \"3'_or_5'\", 'BMI', 'age_or_mean_of_age_range', 'age_range', 'anatomical_region_ccf_score', 'ancestry', 'ann_coarse_for_GWAS_and_modeling', 'ann_finest_level', 'ann_level_1', 'ann_level_2', 'ann_level_3', 'ann_level_4', 'ann_level_5', 'assay', 'cause_of_death', 'cell_type', 'core_or_extension', 'dataset', 'development_stage', 'disease', 'donor_id', 'fresh_or_frozen', 'log10_total_counts', 'lung_condition', 'mixed_ancestry', 'original_ann_level_1', 'original_ann_level_2', 'original_ann_level_3', 'original_ann_level_4', 'original_ann_level_5', 'original_ann_nonharmonized', 'reannotation_type', 'sample', 'scanvi_label', 'sequencing_platform', 'sex', 'smoking_status', 'study', 'subject_type', 'suspension_type', 'tissue', 'tissue_coarse_unharmonized', 'tissue_detailed_unharmonized', 'tissue_dissociation_protocol', 'tissue_level_2', 'tissue_level_3', 'tissue_sampling_method', 'total_counts', 'transf_ann_level_1_label', 'transf_ann_level_1_uncert', 'transf_ann_level_2_label', 'transf_ann_level_2_uncert', 'transf_ann_level_3_label', 'transf_ann_level_3_uncert', 'transf_ann_level_4_label', 'transf_ann_level_4_uncert', 'transf_ann_level_5_label', 'transf_ann_level_5_uncert', 'lung_condition_coarse', 'split0', 'split1', 'split2', 'split3', 'split4'\n",
       "    var: 'means', 'variances', 'residual_variances', 'highly_variable_rank', 'highly_variable_nbatches', 'highly_variable_intersection', 'highly_variable'\n",
       "    uns: 'hvg'"
      ]
     },
     "execution_count": 10,
     "metadata": {},
     "output_type": "execute_result"
    }
   ],
   "source": [
    "adata_pearson = sc.read('/lustre/groups/ml01/projects/2022_multigrate_anastasia.litinetskaya/snakemake/hyperparam/data/pp/hlca_hvg_pearson.h5ad')\n",
    "adata_pearson"
   ]
  },
  {
   "cell_type": "code",
   "execution_count": 11,
   "id": "22427df2",
   "metadata": {},
   "outputs": [],
   "source": [
    "adata_hvg.obs = adata_hvg.obs.join(adata_pearson.obs[[f'split{i}' for i in range(5)]])"
   ]
  },
  {
   "cell_type": "code",
   "execution_count": 12,
   "id": "fb6e95ad",
   "metadata": {},
   "outputs": [],
   "source": [
    "adata_hvg.write('/lustre/groups/ml01/projects/2022_multigrate_anastasia.litinetskaya/snakemake/hyperparam/data/pp/hlca_hvg.h5ad')\n",
    "adata_hvg_query.write('/lustre/groups/ml01/projects/2022_multigrate_anastasia.litinetskaya/snakemake/hyperparam/data/pp/hlca_hvg_query.h5ad')"
   ]
  },
  {
   "cell_type": "markdown",
   "id": "75e42bd0",
   "metadata": {},
   "source": [
    "# downsample Healthy"
   ]
  },
  {
   "cell_type": "markdown",
   "id": "1bdb66e1",
   "metadata": {},
   "source": [
    "## pearson hvg"
   ]
  },
  {
   "cell_type": "code",
   "execution_count": 13,
   "id": "935b047d",
   "metadata": {},
   "outputs": [
    {
     "data": {
      "text/plain": [
       "AnnData object with n_obs × n_vars = 2149684 × 2000\n",
       "    obs: \"3'_or_5'\", 'BMI', 'age_or_mean_of_age_range', 'age_range', 'anatomical_region_ccf_score', 'ancestry', 'ann_coarse_for_GWAS_and_modeling', 'ann_finest_level', 'ann_level_1', 'ann_level_2', 'ann_level_3', 'ann_level_4', 'ann_level_5', 'assay', 'cause_of_death', 'cell_type', 'core_or_extension', 'dataset', 'development_stage', 'disease', 'donor_id', 'fresh_or_frozen', 'log10_total_counts', 'lung_condition', 'mixed_ancestry', 'original_ann_level_1', 'original_ann_level_2', 'original_ann_level_3', 'original_ann_level_4', 'original_ann_level_5', 'original_ann_nonharmonized', 'reannotation_type', 'sample', 'scanvi_label', 'sequencing_platform', 'sex', 'smoking_status', 'study', 'subject_type', 'suspension_type', 'tissue', 'tissue_coarse_unharmonized', 'tissue_detailed_unharmonized', 'tissue_dissociation_protocol', 'tissue_level_2', 'tissue_level_3', 'tissue_sampling_method', 'total_counts', 'transf_ann_level_1_label', 'transf_ann_level_1_uncert', 'transf_ann_level_2_label', 'transf_ann_level_2_uncert', 'transf_ann_level_3_label', 'transf_ann_level_3_uncert', 'transf_ann_level_4_label', 'transf_ann_level_4_uncert', 'transf_ann_level_5_label', 'transf_ann_level_5_uncert', 'lung_condition_coarse', 'split0', 'split1', 'split2', 'split3', 'split4'\n",
       "    var: 'means', 'variances', 'residual_variances', 'highly_variable_rank', 'highly_variable_nbatches', 'highly_variable_intersection', 'highly_variable'\n",
       "    uns: 'hvg'"
      ]
     },
     "execution_count": 13,
     "metadata": {},
     "output_type": "execute_result"
    }
   ],
   "source": [
    "adata = sc.read('/lustre/groups/ml01/projects/2022_multigrate_anastasia.litinetskaya/snakemake/hyperparam/data/pp/hlca_hvg_pearson.h5ad')\n",
    "adata"
   ]
  },
  {
   "cell_type": "code",
   "execution_count": 14,
   "id": "77600509",
   "metadata": {},
   "outputs": [],
   "source": [
    "condition = 'lung_condition_coarse'\n",
    "sample = 'sample'"
   ]
  },
  {
   "cell_type": "code",
   "execution_count": 15,
   "id": "2852eb5f",
   "metadata": {},
   "outputs": [
    {
     "data": {
      "text/html": [
       "<div>\n",
       "<style scoped>\n",
       "    .dataframe tbody tr th:only-of-type {\n",
       "        vertical-align: middle;\n",
       "    }\n",
       "\n",
       "    .dataframe tbody tr th {\n",
       "        vertical-align: top;\n",
       "    }\n",
       "\n",
       "    .dataframe thead th {\n",
       "        text-align: right;\n",
       "    }\n",
       "</style>\n",
       "<table border=\"1\" class=\"dataframe\">\n",
       "  <thead>\n",
       "    <tr style=\"text-align: right;\">\n",
       "      <th></th>\n",
       "      <th>sample</th>\n",
       "    </tr>\n",
       "    <tr>\n",
       "      <th>lung_condition_coarse</th>\n",
       "      <th></th>\n",
       "    </tr>\n",
       "  </thead>\n",
       "  <tbody>\n",
       "    <tr>\n",
       "      <th>CF</th>\n",
       "      <td>22</td>\n",
       "    </tr>\n",
       "    <tr>\n",
       "      <th>COPD</th>\n",
       "      <td>24</td>\n",
       "    </tr>\n",
       "    <tr>\n",
       "      <th>COVID-19</th>\n",
       "      <td>73</td>\n",
       "    </tr>\n",
       "    <tr>\n",
       "      <th>Chronic rhinitis</th>\n",
       "      <td>18</td>\n",
       "    </tr>\n",
       "    <tr>\n",
       "      <th>Healthy</th>\n",
       "      <td>426</td>\n",
       "    </tr>\n",
       "    <tr>\n",
       "      <th>ILD</th>\n",
       "      <td>22</td>\n",
       "    </tr>\n",
       "    <tr>\n",
       "      <th>IPF</th>\n",
       "      <td>67</td>\n",
       "    </tr>\n",
       "    <tr>\n",
       "      <th>Carcinoma</th>\n",
       "      <td>44</td>\n",
       "    </tr>\n",
       "    <tr>\n",
       "      <th>Pneumonia non-COVID</th>\n",
       "      <td>13</td>\n",
       "    </tr>\n",
       "  </tbody>\n",
       "</table>\n",
       "</div>"
      ],
      "text/plain": [
       "                       sample\n",
       "lung_condition_coarse        \n",
       "CF                         22\n",
       "COPD                       24\n",
       "COVID-19                   73\n",
       "Chronic rhinitis           18\n",
       "Healthy                   426\n",
       "ILD                        22\n",
       "IPF                        67\n",
       "Carcinoma                  44\n",
       "Pneumonia non-COVID        13"
      ]
     },
     "execution_count": 15,
     "metadata": {},
     "output_type": "execute_result"
    }
   ],
   "source": [
    "adata.obs[[condition, sample]].drop_duplicates().groupby(condition).count()"
   ]
  },
  {
   "cell_type": "code",
   "execution_count": 16,
   "id": "b710f52e",
   "metadata": {},
   "outputs": [
    {
     "data": {
      "text/plain": [
       "426"
      ]
     },
     "execution_count": 16,
     "metadata": {},
     "output_type": "execute_result"
    }
   ],
   "source": [
    "healthy_samples = list(adata[adata.obs[condition] == 'Healthy'].obs[sample].cat.categories)\n",
    "len(healthy_samples)"
   ]
  },
  {
   "cell_type": "code",
   "execution_count": 17,
   "id": "5292aa61",
   "metadata": {},
   "outputs": [],
   "source": [
    "subsamples = random.sample(healthy_samples, 85)"
   ]
  },
  {
   "cell_type": "code",
   "execution_count": 18,
   "id": "9027ecb5",
   "metadata": {},
   "outputs": [
    {
     "data": {
      "text/plain": [
       "AnnData object with n_obs × n_vars = 1107292 × 2000\n",
       "    obs: \"3'_or_5'\", 'BMI', 'age_or_mean_of_age_range', 'age_range', 'anatomical_region_ccf_score', 'ancestry', 'ann_coarse_for_GWAS_and_modeling', 'ann_finest_level', 'ann_level_1', 'ann_level_2', 'ann_level_3', 'ann_level_4', 'ann_level_5', 'assay', 'cause_of_death', 'cell_type', 'core_or_extension', 'dataset', 'development_stage', 'disease', 'donor_id', 'fresh_or_frozen', 'log10_total_counts', 'lung_condition', 'mixed_ancestry', 'original_ann_level_1', 'original_ann_level_2', 'original_ann_level_3', 'original_ann_level_4', 'original_ann_level_5', 'original_ann_nonharmonized', 'reannotation_type', 'sample', 'scanvi_label', 'sequencing_platform', 'sex', 'smoking_status', 'study', 'subject_type', 'suspension_type', 'tissue', 'tissue_coarse_unharmonized', 'tissue_detailed_unharmonized', 'tissue_dissociation_protocol', 'tissue_level_2', 'tissue_level_3', 'tissue_sampling_method', 'total_counts', 'transf_ann_level_1_label', 'transf_ann_level_1_uncert', 'transf_ann_level_2_label', 'transf_ann_level_2_uncert', 'transf_ann_level_3_label', 'transf_ann_level_3_uncert', 'transf_ann_level_4_label', 'transf_ann_level_4_uncert', 'transf_ann_level_5_label', 'transf_ann_level_5_uncert', 'lung_condition_coarse', 'split0', 'split1', 'split2', 'split3', 'split4'\n",
       "    var: 'means', 'variances', 'residual_variances', 'highly_variable_rank', 'highly_variable_nbatches', 'highly_variable_intersection', 'highly_variable'\n",
       "    uns: 'hvg'"
      ]
     },
     "execution_count": 18,
     "metadata": {},
     "output_type": "execute_result"
    }
   ],
   "source": [
    "adata = adata[(adata.obs[condition] != 'Healthy') | (adata.obs[sample].isin(subsamples))].copy()\n",
    "adata"
   ]
  },
  {
   "cell_type": "code",
   "execution_count": 19,
   "id": "fef1cd20",
   "metadata": {},
   "outputs": [
    {
     "data": {
      "text/html": [
       "<div>\n",
       "<style scoped>\n",
       "    .dataframe tbody tr th:only-of-type {\n",
       "        vertical-align: middle;\n",
       "    }\n",
       "\n",
       "    .dataframe tbody tr th {\n",
       "        vertical-align: top;\n",
       "    }\n",
       "\n",
       "    .dataframe thead th {\n",
       "        text-align: right;\n",
       "    }\n",
       "</style>\n",
       "<table border=\"1\" class=\"dataframe\">\n",
       "  <thead>\n",
       "    <tr style=\"text-align: right;\">\n",
       "      <th></th>\n",
       "      <th>sample</th>\n",
       "    </tr>\n",
       "    <tr>\n",
       "      <th>lung_condition_coarse</th>\n",
       "      <th></th>\n",
       "    </tr>\n",
       "  </thead>\n",
       "  <tbody>\n",
       "    <tr>\n",
       "      <th>CF</th>\n",
       "      <td>22</td>\n",
       "    </tr>\n",
       "    <tr>\n",
       "      <th>COPD</th>\n",
       "      <td>24</td>\n",
       "    </tr>\n",
       "    <tr>\n",
       "      <th>COVID-19</th>\n",
       "      <td>73</td>\n",
       "    </tr>\n",
       "    <tr>\n",
       "      <th>Chronic rhinitis</th>\n",
       "      <td>18</td>\n",
       "    </tr>\n",
       "    <tr>\n",
       "      <th>Healthy</th>\n",
       "      <td>85</td>\n",
       "    </tr>\n",
       "    <tr>\n",
       "      <th>ILD</th>\n",
       "      <td>22</td>\n",
       "    </tr>\n",
       "    <tr>\n",
       "      <th>IPF</th>\n",
       "      <td>67</td>\n",
       "    </tr>\n",
       "    <tr>\n",
       "      <th>Carcinoma</th>\n",
       "      <td>44</td>\n",
       "    </tr>\n",
       "    <tr>\n",
       "      <th>Pneumonia non-COVID</th>\n",
       "      <td>13</td>\n",
       "    </tr>\n",
       "  </tbody>\n",
       "</table>\n",
       "</div>"
      ],
      "text/plain": [
       "                       sample\n",
       "lung_condition_coarse        \n",
       "CF                         22\n",
       "COPD                       24\n",
       "COVID-19                   73\n",
       "Chronic rhinitis           18\n",
       "Healthy                    85\n",
       "ILD                        22\n",
       "IPF                        67\n",
       "Carcinoma                  44\n",
       "Pneumonia non-COVID        13"
      ]
     },
     "execution_count": 19,
     "metadata": {},
     "output_type": "execute_result"
    }
   ],
   "source": [
    "adata.obs[[condition, sample]].drop_duplicates().groupby(condition).count()"
   ]
  },
  {
   "cell_type": "code",
   "execution_count": 20,
   "id": "f89a38e7",
   "metadata": {},
   "outputs": [],
   "source": [
    "adata.write('/lustre/groups/ml01/projects/2022_multigrate_anastasia.litinetskaya/snakemake/hyperparam/data/pp/hlca_hvg_pearson_subsampled.h5ad')"
   ]
  },
  {
   "cell_type": "markdown",
   "id": "253b3425",
   "metadata": {},
   "source": [
    "## not pearson hvg with same samples"
   ]
  },
  {
   "cell_type": "code",
   "execution_count": 13,
   "id": "7e9dd329",
   "metadata": {},
   "outputs": [
    {
     "data": {
      "text/plain": [
       "AnnData object with n_obs × n_vars = 1107292 × 2000\n",
       "    obs: \"3'_or_5'\", 'BMI', 'age_or_mean_of_age_range', 'age_range', 'anatomical_region_ccf_score', 'ancestry', 'ann_coarse_for_GWAS_and_modeling', 'ann_finest_level', 'ann_level_1', 'ann_level_2', 'ann_level_3', 'ann_level_4', 'ann_level_5', 'assay', 'cause_of_death', 'cell_type', 'core_or_extension', 'dataset', 'development_stage', 'disease', 'donor_id', 'fresh_or_frozen', 'log10_total_counts', 'lung_condition', 'mixed_ancestry', 'original_ann_level_1', 'original_ann_level_2', 'original_ann_level_3', 'original_ann_level_4', 'original_ann_level_5', 'original_ann_nonharmonized', 'reannotation_type', 'sample', 'scanvi_label', 'sequencing_platform', 'sex', 'smoking_status', 'study', 'subject_type', 'suspension_type', 'tissue', 'tissue_coarse_unharmonized', 'tissue_detailed_unharmonized', 'tissue_dissociation_protocol', 'tissue_level_2', 'tissue_level_3', 'tissue_sampling_method', 'total_counts', 'transf_ann_level_1_label', 'transf_ann_level_1_uncert', 'transf_ann_level_2_label', 'transf_ann_level_2_uncert', 'transf_ann_level_3_label', 'transf_ann_level_3_uncert', 'transf_ann_level_4_label', 'transf_ann_level_4_uncert', 'transf_ann_level_5_label', 'transf_ann_level_5_uncert', 'lung_condition_coarse', 'split0', 'split1', 'split2', 'split3', 'split4'\n",
       "    var: 'means', 'variances', 'residual_variances', 'highly_variable_rank', 'highly_variable_nbatches', 'highly_variable_intersection', 'highly_variable'\n",
       "    uns: 'hvg'"
      ]
     },
     "execution_count": 13,
     "metadata": {},
     "output_type": "execute_result"
    }
   ],
   "source": [
    "adata_pearson = sc.read('/lustre/groups/ml01/projects/2022_multigrate_anastasia.litinetskaya/snakemake/hyperparam/data/pp/hlca_hvg_pearson_subsampled.h5ad')\n",
    "adata_pearson"
   ]
  },
  {
   "cell_type": "code",
   "execution_count": 14,
   "id": "e5fcc2e1",
   "metadata": {},
   "outputs": [
    {
     "data": {
      "text/plain": [
       "AnnData object with n_obs × n_vars = 2149684 × 2000\n",
       "    obs: \"3'_or_5'\", 'BMI', 'age_or_mean_of_age_range', 'age_range', 'anatomical_region_ccf_score', 'ancestry', 'ann_coarse_for_GWAS_and_modeling', 'ann_finest_level', 'ann_level_1', 'ann_level_2', 'ann_level_3', 'ann_level_4', 'ann_level_5', 'assay', 'cause_of_death', 'cell_type', 'core_or_extension', 'dataset', 'development_stage', 'disease', 'donor_id', 'fresh_or_frozen', 'log10_total_counts', 'lung_condition', 'mixed_ancestry', 'original_ann_level_1', 'original_ann_level_2', 'original_ann_level_3', 'original_ann_level_4', 'original_ann_level_5', 'original_ann_nonharmonized', 'reannotation_type', 'sample', 'scanvi_label', 'sequencing_platform', 'sex', 'smoking_status', 'study', 'subject_type', 'suspension_type', 'tissue', 'tissue_coarse_unharmonized', 'tissue_detailed_unharmonized', 'tissue_dissociation_protocol', 'tissue_level_2', 'tissue_level_3', 'tissue_sampling_method', 'total_counts', 'transf_ann_level_1_label', 'transf_ann_level_1_uncert', 'transf_ann_level_2_label', 'transf_ann_level_2_uncert', 'transf_ann_level_3_label', 'transf_ann_level_3_uncert', 'transf_ann_level_4_label', 'transf_ann_level_4_uncert', 'transf_ann_level_5_label', 'transf_ann_level_5_uncert', 'lung_condition_coarse', 'split0', 'split1', 'split2', 'split3', 'split4'\n",
       "    var: 'means', 'variances', 'residual_variances', 'highly_variable_rank', 'highly_variable_nbatches', 'highly_variable_intersection', 'highly_variable', 'dispersions', 'dispersions_norm'\n",
       "    uns: 'hvg', 'log1p'"
      ]
     },
     "execution_count": 14,
     "metadata": {},
     "output_type": "execute_result"
    }
   ],
   "source": [
    "adata = sc.read('/lustre/groups/ml01/projects/2022_multigrate_anastasia.litinetskaya/snakemake/hyperparam/data/pp/hlca_hvg.h5ad')\n",
    "adata"
   ]
  },
  {
   "cell_type": "code",
   "execution_count": 15,
   "id": "ef20900d",
   "metadata": {},
   "outputs": [
    {
     "data": {
      "text/plain": [
       "AnnData object with n_obs × n_vars = 1107292 × 2000\n",
       "    obs: \"3'_or_5'\", 'BMI', 'age_or_mean_of_age_range', 'age_range', 'anatomical_region_ccf_score', 'ancestry', 'ann_coarse_for_GWAS_and_modeling', 'ann_finest_level', 'ann_level_1', 'ann_level_2', 'ann_level_3', 'ann_level_4', 'ann_level_5', 'assay', 'cause_of_death', 'cell_type', 'core_or_extension', 'dataset', 'development_stage', 'disease', 'donor_id', 'fresh_or_frozen', 'log10_total_counts', 'lung_condition', 'mixed_ancestry', 'original_ann_level_1', 'original_ann_level_2', 'original_ann_level_3', 'original_ann_level_4', 'original_ann_level_5', 'original_ann_nonharmonized', 'reannotation_type', 'sample', 'scanvi_label', 'sequencing_platform', 'sex', 'smoking_status', 'study', 'subject_type', 'suspension_type', 'tissue', 'tissue_coarse_unharmonized', 'tissue_detailed_unharmonized', 'tissue_dissociation_protocol', 'tissue_level_2', 'tissue_level_3', 'tissue_sampling_method', 'total_counts', 'transf_ann_level_1_label', 'transf_ann_level_1_uncert', 'transf_ann_level_2_label', 'transf_ann_level_2_uncert', 'transf_ann_level_3_label', 'transf_ann_level_3_uncert', 'transf_ann_level_4_label', 'transf_ann_level_4_uncert', 'transf_ann_level_5_label', 'transf_ann_level_5_uncert', 'lung_condition_coarse', 'split0', 'split1', 'split2', 'split3', 'split4'\n",
       "    var: 'means', 'variances', 'residual_variances', 'highly_variable_rank', 'highly_variable_nbatches', 'highly_variable_intersection', 'highly_variable', 'dispersions', 'dispersions_norm'\n",
       "    uns: 'hvg', 'log1p'"
      ]
     },
     "execution_count": 15,
     "metadata": {},
     "output_type": "execute_result"
    }
   ],
   "source": [
    "adata = adata[adata_pearson.obs_names].copy()\n",
    "adata"
   ]
  },
  {
   "cell_type": "code",
   "execution_count": 17,
   "id": "d9f6815e",
   "metadata": {},
   "outputs": [],
   "source": [
    "condition = 'lung_condition_coarse'\n",
    "sample = 'sample'"
   ]
  },
  {
   "cell_type": "code",
   "execution_count": 18,
   "id": "a1d54737",
   "metadata": {},
   "outputs": [
    {
     "data": {
      "text/html": [
       "<div>\n",
       "<style scoped>\n",
       "    .dataframe tbody tr th:only-of-type {\n",
       "        vertical-align: middle;\n",
       "    }\n",
       "\n",
       "    .dataframe tbody tr th {\n",
       "        vertical-align: top;\n",
       "    }\n",
       "\n",
       "    .dataframe thead th {\n",
       "        text-align: right;\n",
       "    }\n",
       "</style>\n",
       "<table border=\"1\" class=\"dataframe\">\n",
       "  <thead>\n",
       "    <tr style=\"text-align: right;\">\n",
       "      <th></th>\n",
       "      <th>sample</th>\n",
       "    </tr>\n",
       "    <tr>\n",
       "      <th>lung_condition_coarse</th>\n",
       "      <th></th>\n",
       "    </tr>\n",
       "  </thead>\n",
       "  <tbody>\n",
       "    <tr>\n",
       "      <th>CF</th>\n",
       "      <td>22</td>\n",
       "    </tr>\n",
       "    <tr>\n",
       "      <th>COPD</th>\n",
       "      <td>24</td>\n",
       "    </tr>\n",
       "    <tr>\n",
       "      <th>COVID-19</th>\n",
       "      <td>73</td>\n",
       "    </tr>\n",
       "    <tr>\n",
       "      <th>Chronic rhinitis</th>\n",
       "      <td>18</td>\n",
       "    </tr>\n",
       "    <tr>\n",
       "      <th>Healthy</th>\n",
       "      <td>85</td>\n",
       "    </tr>\n",
       "    <tr>\n",
       "      <th>ILD</th>\n",
       "      <td>22</td>\n",
       "    </tr>\n",
       "    <tr>\n",
       "      <th>IPF</th>\n",
       "      <td>67</td>\n",
       "    </tr>\n",
       "    <tr>\n",
       "      <th>Carcinoma</th>\n",
       "      <td>44</td>\n",
       "    </tr>\n",
       "    <tr>\n",
       "      <th>Pneumonia non-COVID</th>\n",
       "      <td>13</td>\n",
       "    </tr>\n",
       "  </tbody>\n",
       "</table>\n",
       "</div>"
      ],
      "text/plain": [
       "                       sample\n",
       "lung_condition_coarse        \n",
       "CF                         22\n",
       "COPD                       24\n",
       "COVID-19                   73\n",
       "Chronic rhinitis           18\n",
       "Healthy                    85\n",
       "ILD                        22\n",
       "IPF                        67\n",
       "Carcinoma                  44\n",
       "Pneumonia non-COVID        13"
      ]
     },
     "execution_count": 18,
     "metadata": {},
     "output_type": "execute_result"
    }
   ],
   "source": [
    "adata.obs[[condition, sample]].drop_duplicates().groupby(condition).count()"
   ]
  },
  {
   "cell_type": "code",
   "execution_count": 19,
   "id": "8cf32351",
   "metadata": {},
   "outputs": [],
   "source": [
    "adata.write('/lustre/groups/ml01/projects/2022_multigrate_anastasia.litinetskaya/snakemake/hyperparam/data/pp/hlca_hvg_subsampled.h5ad')"
   ]
  },
  {
   "cell_type": "markdown",
   "id": "205397ea",
   "metadata": {},
   "source": [
    "# check how many samples per condition in each train/val split for downsampled"
   ]
  },
  {
   "cell_type": "code",
   "execution_count": 6,
   "id": "c0145026",
   "metadata": {},
   "outputs": [],
   "source": [
    "condition = 'lung_condition_coarse'\n",
    "sample = 'sample'"
   ]
  },
  {
   "cell_type": "code",
   "execution_count": 3,
   "id": "fd52925f",
   "metadata": {},
   "outputs": [
    {
     "data": {
      "text/plain": [
       "AnnData object with n_obs × n_vars = 1107292 × 2000\n",
       "    obs: \"3'_or_5'\", 'BMI', 'age_or_mean_of_age_range', 'age_range', 'anatomical_region_ccf_score', 'ancestry', 'ann_coarse_for_GWAS_and_modeling', 'ann_finest_level', 'ann_level_1', 'ann_level_2', 'ann_level_3', 'ann_level_4', 'ann_level_5', 'assay', 'cause_of_death', 'cell_type', 'core_or_extension', 'dataset', 'development_stage', 'disease', 'donor_id', 'fresh_or_frozen', 'log10_total_counts', 'lung_condition', 'mixed_ancestry', 'original_ann_level_1', 'original_ann_level_2', 'original_ann_level_3', 'original_ann_level_4', 'original_ann_level_5', 'original_ann_nonharmonized', 'reannotation_type', 'sample', 'scanvi_label', 'sequencing_platform', 'sex', 'smoking_status', 'study', 'subject_type', 'suspension_type', 'tissue', 'tissue_coarse_unharmonized', 'tissue_detailed_unharmonized', 'tissue_dissociation_protocol', 'tissue_level_2', 'tissue_level_3', 'tissue_sampling_method', 'total_counts', 'transf_ann_level_1_label', 'transf_ann_level_1_uncert', 'transf_ann_level_2_label', 'transf_ann_level_2_uncert', 'transf_ann_level_3_label', 'transf_ann_level_3_uncert', 'transf_ann_level_4_label', 'transf_ann_level_4_uncert', 'transf_ann_level_5_label', 'transf_ann_level_5_uncert', 'lung_condition_coarse', 'split0', 'split1', 'split2', 'split3', 'split4'\n",
       "    var: 'means', 'variances', 'residual_variances', 'highly_variable_rank', 'highly_variable_nbatches', 'highly_variable_intersection', 'highly_variable'\n",
       "    uns: 'hvg'"
      ]
     },
     "execution_count": 3,
     "metadata": {},
     "output_type": "execute_result"
    }
   ],
   "source": [
    "adata = sc.read('/lustre/groups/ml01/projects/2022_multigrate_anastasia.litinetskaya/snakemake/hyperparam/data/pp/hlca_hvg_pearson_subsampled.h5ad')\n",
    "adata"
   ]
  },
  {
   "cell_type": "code",
   "execution_count": 8,
   "id": "f9a3243c",
   "metadata": {},
   "outputs": [
    {
     "name": "stdout",
     "output_type": "stream",
     "text": [
      "train\n",
      "                       sample\n",
      "lung_condition_coarse        \n",
      "CF                         19\n",
      "COPD                       16\n",
      "COVID-19                   60\n",
      "Chronic rhinitis           14\n",
      "Healthy                    67\n",
      "ILD                        19\n",
      "IPF                        48\n",
      "Carcinoma                  38\n",
      "Pneumonia non-COVID        11\n",
      "val\n",
      "                       sample\n",
      "lung_condition_coarse        \n",
      "CF                          3\n",
      "COPD                        8\n",
      "COVID-19                   13\n",
      "Chronic rhinitis            4\n",
      "Healthy                    18\n",
      "ILD                         3\n",
      "IPF                        19\n",
      "Carcinoma                   6\n",
      "Pneumonia non-COVID         2\n",
      "=========\n",
      "train\n",
      "                       sample\n",
      "lung_condition_coarse        \n",
      "CF                         18\n",
      "COPD                       20\n",
      "COVID-19                   59\n",
      "Chronic rhinitis           15\n",
      "Healthy                    58\n",
      "ILD                        15\n",
      "IPF                        55\n",
      "Carcinoma                  39\n",
      "Pneumonia non-COVID        12\n",
      "val\n",
      "                       sample\n",
      "lung_condition_coarse        \n",
      "CF                          4\n",
      "COPD                        4\n",
      "COVID-19                   14\n",
      "Chronic rhinitis            3\n",
      "Healthy                    27\n",
      "ILD                         7\n",
      "IPF                        12\n",
      "Carcinoma                   5\n",
      "Pneumonia non-COVID         1\n",
      "=========\n",
      "train\n",
      "                       sample\n",
      "lung_condition_coarse        \n",
      "CF                         18\n",
      "COPD                       20\n",
      "COVID-19                   59\n",
      "Chronic rhinitis           14\n",
      "Healthy                    72\n",
      "ILD                        18\n",
      "IPF                        55\n",
      "Carcinoma                  37\n",
      "Pneumonia non-COVID        10\n",
      "val\n",
      "                       sample\n",
      "lung_condition_coarse        \n",
      "CF                          4\n",
      "COPD                        4\n",
      "COVID-19                   14\n",
      "Chronic rhinitis            4\n",
      "Healthy                    13\n",
      "ILD                         4\n",
      "IPF                        12\n",
      "Carcinoma                   7\n",
      "Pneumonia non-COVID         3\n",
      "=========\n",
      "train\n",
      "                       sample\n",
      "lung_condition_coarse        \n",
      "CF                         15\n",
      "COPD                       21\n",
      "COVID-19                   57\n",
      "Chronic rhinitis           16\n",
      "Healthy                    72\n",
      "ILD                        19\n",
      "IPF                        53\n",
      "Carcinoma                  29\n",
      "Pneumonia non-COVID        10\n",
      "val\n",
      "                       sample\n",
      "lung_condition_coarse        \n",
      "CF                          7\n",
      "COPD                        3\n",
      "COVID-19                   16\n",
      "Chronic rhinitis            2\n",
      "Healthy                    13\n",
      "ILD                         3\n",
      "IPF                        14\n",
      "Carcinoma                  15\n",
      "Pneumonia non-COVID         3\n",
      "=========\n",
      "train\n",
      "                       sample\n",
      "lung_condition_coarse        \n",
      "CF                         18\n",
      "COPD                       19\n",
      "COVID-19                   57\n",
      "Chronic rhinitis           13\n",
      "Healthy                    71\n",
      "ILD                        17\n",
      "IPF                        57\n",
      "Carcinoma                  33\n",
      "Pneumonia non-COVID         9\n",
      "val\n",
      "                       sample\n",
      "lung_condition_coarse        \n",
      "CF                          4\n",
      "COPD                        5\n",
      "COVID-19                   16\n",
      "Chronic rhinitis            5\n",
      "Healthy                    14\n",
      "ILD                         5\n",
      "IPF                        10\n",
      "Carcinoma                  11\n",
      "Pneumonia non-COVID         4\n",
      "=========\n"
     ]
    }
   ],
   "source": [
    "for i in range(5):\n",
    "    train = adata[adata.obs[f'split{i}'] == 'train'].obs[[condition, sample]].drop_duplicates().groupby(condition).count()\n",
    "    val = adata[adata.obs[f'split{i}'] == 'val'].obs[[condition, sample]].drop_duplicates().groupby(condition).count()\n",
    "    print('train')\n",
    "    print(train)\n",
    "    print('val')\n",
    "    print(val)\n",
    "    print('=========')"
   ]
  },
  {
   "cell_type": "markdown",
   "id": "90b03195",
   "metadata": {},
   "source": [
    "# save object with scanVI embeds"
   ]
  },
  {
   "cell_type": "code",
   "execution_count": 4,
   "id": "af73aef4",
   "metadata": {},
   "outputs": [
    {
     "data": {
      "text/plain": [
       "AnnData object with n_obs × n_vars = 2282447 × 59586 backed at '/lustre/groups/ml01/projects/2022_multigrate_anastasia.litinetskaya/snakemake/hyperparam/data/raw/HLCA_full_v1.1_to_share.h5ad'\n",
       "    obs: \"3'_or_5'\", 'BMI', 'age_or_mean_of_age_range', 'age_range', 'anatomical_region_ccf_score', 'ancestry', 'ann_coarse_for_GWAS_and_modeling', 'ann_finest_level', 'ann_level_1', 'ann_level_2', 'ann_level_3', 'ann_level_4', 'ann_level_5', 'assay', 'cause_of_death', 'cell_type', 'core_or_extension', 'dataset', 'development_stage', 'disease', 'donor_id', 'fresh_or_frozen', 'log10_total_counts', 'lung_condition', 'mixed_ancestry', 'original_ann_level_1', 'original_ann_level_2', 'original_ann_level_3', 'original_ann_level_4', 'original_ann_level_5', 'original_ann_nonharmonized', 'reannotation_type', 'sample', 'scanvi_label', 'sequencing_platform', 'sex', 'smoking_status', 'study', 'subject_type', 'suspension_type', 'tissue', 'tissue_coarse_unharmonized', 'tissue_detailed_unharmonized', 'tissue_dissociation_protocol', 'tissue_level_2', 'tissue_level_3', 'tissue_sampling_method', 'total_counts', 'transf_ann_level_1_label', 'transf_ann_level_1_uncert', 'transf_ann_level_2_label', 'transf_ann_level_2_uncert', 'transf_ann_level_3_label', 'transf_ann_level_3_uncert', 'transf_ann_level_4_label', 'transf_ann_level_4_uncert', 'transf_ann_level_5_label', 'transf_ann_level_5_uncert'\n",
       "    var: 'original_gene_symbols', 'ensembl_id', 'gene_symbol', 'ensembl_id_geneversion'\n",
       "    uns: 'ann_finest_level_colors', 'ann_level_2_colors', 'log1p', 'neighbors', 'schema_version', 'title', 'umap'\n",
       "    obsm: 'X_scanvi_emb', 'X_umap'\n",
       "    layers: 'counts', 'soupX'\n",
       "    obsp: 'connectivities', 'distances'"
      ]
     },
     "execution_count": 4,
     "metadata": {},
     "output_type": "execute_result"
    }
   ],
   "source": [
    "adata"
   ]
  },
  {
   "cell_type": "code",
   "execution_count": 5,
   "id": "c969abe8",
   "metadata": {},
   "outputs": [
    {
     "data": {
      "text/plain": [
       "AnnData object with n_obs × n_vars = 2282447 × 30\n",
       "    obs: \"3'_or_5'\", 'BMI', 'age_or_mean_of_age_range', 'age_range', 'anatomical_region_ccf_score', 'ancestry', 'ann_coarse_for_GWAS_and_modeling', 'ann_finest_level', 'ann_level_1', 'ann_level_2', 'ann_level_3', 'ann_level_4', 'ann_level_5', 'assay', 'cause_of_death', 'cell_type', 'core_or_extension', 'dataset', 'development_stage', 'disease', 'donor_id', 'fresh_or_frozen', 'log10_total_counts', 'lung_condition', 'mixed_ancestry', 'original_ann_level_1', 'original_ann_level_2', 'original_ann_level_3', 'original_ann_level_4', 'original_ann_level_5', 'original_ann_nonharmonized', 'reannotation_type', 'sample', 'scanvi_label', 'sequencing_platform', 'sex', 'smoking_status', 'study', 'subject_type', 'suspension_type', 'tissue', 'tissue_coarse_unharmonized', 'tissue_detailed_unharmonized', 'tissue_dissociation_protocol', 'tissue_level_2', 'tissue_level_3', 'tissue_sampling_method', 'total_counts', 'transf_ann_level_1_label', 'transf_ann_level_1_uncert', 'transf_ann_level_2_label', 'transf_ann_level_2_uncert', 'transf_ann_level_3_label', 'transf_ann_level_3_uncert', 'transf_ann_level_4_label', 'transf_ann_level_4_uncert', 'transf_ann_level_5_label', 'transf_ann_level_5_uncert'"
      ]
     },
     "execution_count": 5,
     "metadata": {},
     "output_type": "execute_result"
    }
   ],
   "source": [
    "tmp = sc.AnnData(adata.obsm['X_scanvi_emb'])\n",
    "tmp.obs = adata.obs\n",
    "adata = tmp\n",
    "del tmp\n",
    "adata"
   ]
  },
  {
   "cell_type": "markdown",
   "id": "bd94b288",
   "metadata": {},
   "source": [
    "## get rid of celltypes"
   ]
  },
  {
   "cell_type": "code",
   "execution_count": 6,
   "id": "1e4e1d54",
   "metadata": {},
   "outputs": [
    {
     "data": {
      "text/plain": [
       "AnnData object with n_obs × n_vars = 2250578 × 30\n",
       "    obs: \"3'_or_5'\", 'BMI', 'age_or_mean_of_age_range', 'age_range', 'anatomical_region_ccf_score', 'ancestry', 'ann_coarse_for_GWAS_and_modeling', 'ann_finest_level', 'ann_level_1', 'ann_level_2', 'ann_level_3', 'ann_level_4', 'ann_level_5', 'assay', 'cause_of_death', 'cell_type', 'core_or_extension', 'dataset', 'development_stage', 'disease', 'donor_id', 'fresh_or_frozen', 'log10_total_counts', 'lung_condition', 'mixed_ancestry', 'original_ann_level_1', 'original_ann_level_2', 'original_ann_level_3', 'original_ann_level_4', 'original_ann_level_5', 'original_ann_nonharmonized', 'reannotation_type', 'sample', 'scanvi_label', 'sequencing_platform', 'sex', 'smoking_status', 'study', 'subject_type', 'suspension_type', 'tissue', 'tissue_coarse_unharmonized', 'tissue_detailed_unharmonized', 'tissue_dissociation_protocol', 'tissue_level_2', 'tissue_level_3', 'tissue_sampling_method', 'total_counts', 'transf_ann_level_1_label', 'transf_ann_level_1_uncert', 'transf_ann_level_2_label', 'transf_ann_level_2_uncert', 'transf_ann_level_3_label', 'transf_ann_level_3_uncert', 'transf_ann_level_4_label', 'transf_ann_level_4_uncert', 'transf_ann_level_5_label', 'transf_ann_level_5_uncert'"
      ]
     },
     "execution_count": 6,
     "metadata": {},
     "output_type": "execute_result"
    }
   ],
   "source": [
    "adata = adata[~adata.obs['transf_ann_level_3_label'].isin(['2_Hematopoietic stem cells', '2_Mesothelium', '2_Smooth muscle', 'Rare'])].copy()\n",
    "adata"
   ]
  },
  {
   "cell_type": "markdown",
   "id": "e47b7c9a",
   "metadata": {},
   "source": [
    "## clean conditions"
   ]
  },
  {
   "cell_type": "code",
   "execution_count": 7,
   "id": "f7881c08",
   "metadata": {},
   "outputs": [],
   "source": [
    "condition_simplifier = {\n",
    "        \"Healthy (tumor adjacent)\": \"Healthy\",\n",
    "        \"Large Cell Carcinoma\": \"Carcinoma\",\n",
    "        \"Lung adenocarcinoma\": \"Carcinoma\",\n",
    "        \"Pleiomorphic Carcinoma\": \"Carcinoma\",\n",
    "        \"Squamous Cell Carcinoma\": \"Carcinoma\",\n",
    "        \"HP\": \"ILD\",\n",
    "        \"Myositis-associated ILD\": \"ILD\",\n",
    "        \"NSIP\": \"ILD\",\n",
    "        \"Systemic sclerosis-associated ILD\" : \"ILD\",\n",
    "    }"
   ]
  },
  {
   "cell_type": "code",
   "execution_count": 8,
   "id": "b5447c86",
   "metadata": {},
   "outputs": [
    {
     "data": {
      "text/plain": [
       "Index(['CF', 'COPD', 'COVID-19', 'COVID-19 moderate', 'COVID-19 severe',\n",
       "       'Chronic rhinitis', 'End-stage lung fibrosis, unknown etiology',\n",
       "       'Healthy', 'ILD', 'IPF', 'Carcinoma', 'Lymphangioleiomyomatosis',\n",
       "       'Pneumonia non-COVID', 'Sarcoidosis',\n",
       "       'anti-CD3 anti-CD28 antibody stimulated'],\n",
       "      dtype='object')"
      ]
     },
     "execution_count": 8,
     "metadata": {},
     "output_type": "execute_result"
    }
   ],
   "source": [
    "adata.obs['lung_condition_coarse'] = adata.obs['lung_condition'].replace(condition_simplifier)\n",
    "adata.obs['lung_condition_coarse'].cat.categories"
   ]
  },
  {
   "cell_type": "code",
   "execution_count": 9,
   "id": "dd4ca316",
   "metadata": {},
   "outputs": [
    {
     "data": {
      "text/plain": [
       "Healthy                                      429\n",
       "COVID-19                                      73\n",
       "IPF                                           67\n",
       "Carcinoma                                     44\n",
       "COPD                                          24\n",
       "CF                                            22\n",
       "ILD                                           22\n",
       "Chronic rhinitis                              18\n",
       "Pneumonia non-COVID                           13\n",
       "COVID-19 severe                                6\n",
       "End-stage lung fibrosis, unknown etiology      4\n",
       "COVID-19 moderate                              3\n",
       "Lymphangioleiomyomatosis                       2\n",
       "Sarcoidosis                                    2\n",
       "anti-CD3 anti-CD28 antibody stimulated         2\n",
       "Name: lung_condition_coarse, dtype: int64"
      ]
     },
     "execution_count": 9,
     "metadata": {},
     "output_type": "execute_result"
    }
   ],
   "source": [
    "adata.obs[['lung_condition_coarse', 'sample']].drop_duplicates()['lung_condition_coarse'].value_counts()"
   ]
  },
  {
   "cell_type": "code",
   "execution_count": 10,
   "id": "d3edf4ec",
   "metadata": {},
   "outputs": [],
   "source": [
    "conditions_to_exclude = [\n",
    "    \"End-stage lung fibrosis, unknown etiology\",\n",
    "    \"Lymphangioleiomyomatosis\",\n",
    "    \"Sarcoidosis\",\n",
    "    \"anti-CD3 anti-CD28 antibody stimulated\",\n",
    "]"
   ]
  },
  {
   "cell_type": "code",
   "execution_count": 11,
   "id": "cd6619bf",
   "metadata": {
    "scrolled": true
   },
   "outputs": [
    {
     "data": {
      "text/plain": [
       "AnnData object with n_obs × n_vars = 2212137 × 30\n",
       "    obs: \"3'_or_5'\", 'BMI', 'age_or_mean_of_age_range', 'age_range', 'anatomical_region_ccf_score', 'ancestry', 'ann_coarse_for_GWAS_and_modeling', 'ann_finest_level', 'ann_level_1', 'ann_level_2', 'ann_level_3', 'ann_level_4', 'ann_level_5', 'assay', 'cause_of_death', 'cell_type', 'core_or_extension', 'dataset', 'development_stage', 'disease', 'donor_id', 'fresh_or_frozen', 'log10_total_counts', 'lung_condition', 'mixed_ancestry', 'original_ann_level_1', 'original_ann_level_2', 'original_ann_level_3', 'original_ann_level_4', 'original_ann_level_5', 'original_ann_nonharmonized', 'reannotation_type', 'sample', 'scanvi_label', 'sequencing_platform', 'sex', 'smoking_status', 'study', 'subject_type', 'suspension_type', 'tissue', 'tissue_coarse_unharmonized', 'tissue_detailed_unharmonized', 'tissue_dissociation_protocol', 'tissue_level_2', 'tissue_level_3', 'tissue_sampling_method', 'total_counts', 'transf_ann_level_1_label', 'transf_ann_level_1_uncert', 'transf_ann_level_2_label', 'transf_ann_level_2_uncert', 'transf_ann_level_3_label', 'transf_ann_level_3_uncert', 'transf_ann_level_4_label', 'transf_ann_level_4_uncert', 'transf_ann_level_5_label', 'transf_ann_level_5_uncert', 'lung_condition_coarse'"
      ]
     },
     "execution_count": 11,
     "metadata": {},
     "output_type": "execute_result"
    }
   ],
   "source": [
    "adata = adata[~adata.obs['lung_condition_coarse'].isin(conditions_to_exclude)].copy()\n",
    "adata"
   ]
  },
  {
   "cell_type": "markdown",
   "id": "e6ea3b27",
   "metadata": {},
   "source": [
    "## add splits"
   ]
  },
  {
   "cell_type": "markdown",
   "id": "e1d313f1",
   "metadata": {},
   "source": [
    "## separate query"
   ]
  },
  {
   "cell_type": "code",
   "execution_count": 12,
   "id": "99670695",
   "metadata": {},
   "outputs": [],
   "source": [
    "adata_query = adata[adata.obs['dataset'] == 'Zhang_2021'].copy()\n",
    "adata = adata[adata.obs['dataset'] != 'Zhang_2021'].copy()"
   ]
  },
  {
   "cell_type": "markdown",
   "id": "ee1f8415",
   "metadata": {},
   "source": [
    "## add same splits"
   ]
  },
  {
   "cell_type": "code",
   "execution_count": 13,
   "id": "a56e5a99",
   "metadata": {},
   "outputs": [
    {
     "data": {
      "text/plain": [
       "AnnData object with n_obs × n_vars = 2149684 × 2000\n",
       "    obs: \"3'_or_5'\", 'BMI', 'age_or_mean_of_age_range', 'age_range', 'anatomical_region_ccf_score', 'ancestry', 'ann_coarse_for_GWAS_and_modeling', 'ann_finest_level', 'ann_level_1', 'ann_level_2', 'ann_level_3', 'ann_level_4', 'ann_level_5', 'assay', 'cause_of_death', 'cell_type', 'core_or_extension', 'dataset', 'development_stage', 'disease', 'donor_id', 'fresh_or_frozen', 'log10_total_counts', 'lung_condition', 'mixed_ancestry', 'original_ann_level_1', 'original_ann_level_2', 'original_ann_level_3', 'original_ann_level_4', 'original_ann_level_5', 'original_ann_nonharmonized', 'reannotation_type', 'sample', 'scanvi_label', 'sequencing_platform', 'sex', 'smoking_status', 'study', 'subject_type', 'suspension_type', 'tissue', 'tissue_coarse_unharmonized', 'tissue_detailed_unharmonized', 'tissue_dissociation_protocol', 'tissue_level_2', 'tissue_level_3', 'tissue_sampling_method', 'total_counts', 'transf_ann_level_1_label', 'transf_ann_level_1_uncert', 'transf_ann_level_2_label', 'transf_ann_level_2_uncert', 'transf_ann_level_3_label', 'transf_ann_level_3_uncert', 'transf_ann_level_4_label', 'transf_ann_level_4_uncert', 'transf_ann_level_5_label', 'transf_ann_level_5_uncert', 'lung_condition_coarse', 'split0', 'split1', 'split2', 'split3', 'split4'\n",
       "    var: 'means', 'variances', 'residual_variances', 'highly_variable_rank', 'highly_variable_nbatches', 'highly_variable_intersection', 'highly_variable'\n",
       "    uns: 'hvg'"
      ]
     },
     "execution_count": 13,
     "metadata": {},
     "output_type": "execute_result"
    }
   ],
   "source": [
    "adata_pearson = sc.read('/lustre/groups/ml01/projects/2022_multigrate_anastasia.litinetskaya/snakemake/hyperparam/data/pp/hlca_hvg_pearson.h5ad')\n",
    "adata_pearson"
   ]
  },
  {
   "cell_type": "code",
   "execution_count": 14,
   "id": "c307b8df",
   "metadata": {},
   "outputs": [],
   "source": [
    "adata.obs = adata.obs.join(adata_pearson.obs[[f'split{i}' for i in range(5)]])"
   ]
  },
  {
   "cell_type": "code",
   "execution_count": 15,
   "id": "01bc340e",
   "metadata": {},
   "outputs": [],
   "source": [
    "adata.write('/lustre/groups/ml01/projects/2022_multigrate_anastasia.litinetskaya/snakemake/hyperparam/data/pp/hlca_embed.h5ad')\n",
    "adata_query.write('/lustre/groups/ml01/projects/2022_multigrate_anastasia.litinetskaya/snakemake/hyperparam/data/pp/hlca_embed_query.h5ad')"
   ]
  },
  {
   "cell_type": "code",
   "execution_count": null,
   "id": "c6a707f3",
   "metadata": {},
   "outputs": [],
   "source": []
  }
 ],
 "metadata": {
  "kernelspec": {
   "display_name": "Python 3 (ipykernel)",
   "language": "python",
   "name": "python3"
  },
  "language_info": {
   "codemirror_mode": {
    "name": "ipython",
    "version": 3
   },
   "file_extension": ".py",
   "mimetype": "text/x-python",
   "name": "python",
   "nbconvert_exporter": "python",
   "pygments_lexer": "ipython3",
   "version": "3.10.12"
  }
 },
 "nbformat": 4,
 "nbformat_minor": 5
}
