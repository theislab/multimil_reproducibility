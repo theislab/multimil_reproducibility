{
 "cells": [
  {
   "cell_type": "code",
   "execution_count": 1,
   "id": "6988a47b-5580-4c0c-b827-e3893639b7e5",
   "metadata": {},
   "outputs": [],
   "source": [
    "x=2"
   ]
  },
  {
   "cell_type": "code",
   "execution_count": 2,
   "id": "3c004fcb-cea8-407c-ab9b-206d231b52dc",
   "metadata": {
    "tags": []
   },
   "outputs": [],
   "source": [
    "%load_ext autoreload\n",
    "%autoreload 2"
   ]
  },
  {
   "cell_type": "code",
   "execution_count": 3,
   "id": "5753fedf-dca6-4a33-b930-77ba7db90783",
   "metadata": {
    "tags": []
   },
   "outputs": [
    {
     "name": "stderr",
     "output_type": "stream",
     "text": [
      "[rank: 0] Global seed set to 0\n"
     ]
    }
   ],
   "source": [
    "import scanpy as sc\n",
    "import pandas as pd\n",
    "import multigrate as mtg\n",
    "import multimil as mtm\n",
    "from pathlib import Path\n",
    "import shutil\n",
    "\n",
    "from matplotlib import pyplot as plt\n",
    "import scanpy as sc\n",
    "import pandas as pd\n",
    "import anndata as ad\n",
    "import os\n",
    "import random\n",
    "import torch\n",
    "import scvi\n",
    "import numpy as np"
   ]
  },
  {
   "cell_type": "code",
   "execution_count": 63,
   "id": "38a25615-c031-43a1-9faa-31f58f592331",
   "metadata": {
    "tags": []
   },
   "outputs": [
    {
     "data": {
      "text/plain": [
       "AnnData object with n_obs × n_vars = 362426 × 16\n",
       "    obs: 'sample_id', 'n_genes', 'n_genes_by_counts', 'total_counts', 'total_counts_mt', 'pct_counts_mt', 'full_clustering', 'initial_clustering', 'Resample', 'Collection_Day', 'Sex', 'Age_interval', 'Swab_result', 'Status', 'Smoker', 'Status_on_day_collection', 'Status_on_day_collection_summary', 'Days_from_onset', 'Site', 'time_after_LPS', 'Worst_Clinical_Status', 'Outcome', 'patient_id', 'split0', 'split1', 'split2', 'split3', 'split4', 'group', 'size_factors', '_scvi_batch'\n",
       "    obsm: 'X_umap'"
      ]
     },
     "execution_count": 63,
     "metadata": {},
     "output_type": "execute_result"
    }
   ],
   "source": [
    "adata = sc.read('../../pipeline/data/pp/mtg3_clean_healthy_covid_3_cond_embed.h5ad')\n",
    "adata"
   ]
  },
  {
   "cell_type": "code",
   "execution_count": 64,
   "id": "fb0952ab-d1a9-495b-9956-0d79676f18eb",
   "metadata": {},
   "outputs": [],
   "source": [
    "adata.obs['Status_on_day_collection_summary_cont'] = adata.obs['Status_on_day_collection_summary'].copy()\n",
    "adata.obs['Status_on_day_collection_summary_cont'] = adata.obs['Status_on_day_collection_summary_cont'].str.replace('Healthy', '0')\n",
    "adata.obs['Status_on_day_collection_summary_cont'] = adata.obs['Status_on_day_collection_summary_cont'].str.replace('Mild', '1')\n",
    "adata.obs['Status_on_day_collection_summary_cont'] = adata.obs['Status_on_day_collection_summary_cont'].str.replace('Severe', '2')\n",
    "adata.obs['Status_on_day_collection_summary_cont'] = adata.obs['Status_on_day_collection_summary_cont'].astype(float)"
   ]
  },
  {
   "cell_type": "code",
   "execution_count": 65,
   "id": "861197f8-510b-4b08-b00f-bf0b7ac8d258",
   "metadata": {},
   "outputs": [
    {
     "data": {
      "text/plain": [
       "AnnData object with n_obs × n_vars = 362426 × 16\n",
       "    obs: 'sample_id', 'n_genes', 'n_genes_by_counts', 'total_counts', 'total_counts_mt', 'pct_counts_mt', 'full_clustering', 'initial_clustering', 'Resample', 'Collection_Day', 'Sex', 'Age_interval', 'Swab_result', 'Status', 'Smoker', 'Status_on_day_collection', 'Status_on_day_collection_summary', 'Days_from_onset', 'Site', 'time_after_LPS', 'Worst_Clinical_Status', 'Outcome', 'patient_id', 'split0', 'split1', 'split2', 'split3', 'split4', 'group', 'size_factors', '_scvi_batch', 'Status_on_day_collection_summary_cont'\n",
       "    obsm: 'X_umap'"
      ]
     },
     "execution_count": 65,
     "metadata": {},
     "output_type": "execute_result"
    }
   ],
   "source": [
    "adata"
   ]
  },
  {
   "cell_type": "code",
   "execution_count": 66,
   "id": "fd5b7faa-fe84-47b8-88e8-3baaa883531d",
   "metadata": {
    "tags": []
   },
   "outputs": [
    {
     "name": "stderr",
     "output_type": "stream",
     "text": [
      "/tmp/ipykernel_3258110/3981741654.py:1: UserWarning: Column `.obs['group']` will be overwritten. Please save the original data in another column if needed.\n",
      "  adata = mtg.data.organize_multiome_anndatas(\n"
     ]
    }
   ],
   "source": [
    "adata = mtg.data.organize_multiome_anndatas(\n",
    "            adatas = [[adata]],\n",
    "        )"
   ]
  },
  {
   "cell_type": "code",
   "execution_count": 67,
   "id": "912b32be-8b25-47d9-a34e-b11e6e778e44",
   "metadata": {},
   "outputs": [],
   "source": [
    "query = adata[adata.obs[f\"split0\"] == \"val\"].copy()\n",
    "adata = adata[adata.obs[f\"split0\"] == \"train\"].copy()"
   ]
  },
  {
   "cell_type": "code",
   "execution_count": 68,
   "id": "dbd912ea-44f7-42a7-b44c-74a102d7f8db",
   "metadata": {},
   "outputs": [],
   "source": [
    "idx = adata.obs['patient_id'].sort_values().index\n",
    "adata = adata[idx].copy()"
   ]
  },
  {
   "cell_type": "code",
   "execution_count": 69,
   "id": "5a22f493-acd2-4fa3-9549-a19592f254cd",
   "metadata": {
    "tags": []
   },
   "outputs": [
    {
     "name": "stderr",
     "output_type": "stream",
     "text": [
      "/lustre/groups/ml01/workspace/anastasia.litinetskaya/mambaforge/envs/multimil/lib/python3.10/site-packages/scvi/data/fields/_layer_field.py:90: UserWarning: adata.X does not contain unnormalized count data. Are you sure this is what you want?\n",
      "  warnings.warn(\n"
     ]
    }
   ],
   "source": [
    "mtm.model.MILClassifier.setup_anndata(\n",
    "    adata, \n",
    "    rna_indices_end=16,\n",
    "    categorical_covariate_keys=['patient_id', 'Status_on_day_collection_summary'],\n",
    ")"
   ]
  },
  {
   "cell_type": "code",
   "execution_count": 70,
   "id": "18548cf7-8c22-470f-a195-618d903de10d",
   "metadata": {
    "tags": []
   },
   "outputs": [
    {
     "name": "stdout",
     "output_type": "stream",
     "text": [
      "The order for Status_on_day_collection_summary ordinal classes is: Index(['Healthy', 'Mild', 'Severe'], dtype='object'). If you need to change the order, please rerun setup_anndata and specify the correct order with the `ordinal_regression_order` parameter.\n"
     ]
    }
   ],
   "source": [
    "mil = mtm.model.MILClassifier(\n",
    "            adata,\n",
    "            # classification=['Status_on_day_collection_summary'],\n",
    "            ordinal_regression=['Status_on_day_collection_summary'],\n",
    "            # regression=['Status_on_day_collection_summary_cont'],\n",
    "            patient_label='patient_id',\n",
    "            # class_loss_coef=1.0,\n",
    "            z_dim=16,\n",
    "        )"
   ]
  },
  {
   "cell_type": "code",
   "execution_count": 71,
   "id": "de4e9a6f-f387-4d12-b836-9159299185cb",
   "metadata": {},
   "outputs": [
    {
     "data": {
      "text/plain": [
       "MILClassifierTorch(\n",
       "  (vae): MultiVAETorch(\n",
       "    (cont_covariate_embeddings): Embedding(0, 16)\n",
       "    (cont_covariate_curves): GeneralizedSigmoid()\n",
       "    (encoder_0): MLP(\n",
       "      (mlp): FCLayers(\n",
       "        (fc_layers): Sequential(\n",
       "          (Layer 0): Sequential(\n",
       "            (0): Linear(in_features=16, out_features=128, bias=True)\n",
       "            (1): None\n",
       "            (2): LayerNorm((128,), eps=1e-05, elementwise_affine=False)\n",
       "            (3): LeakyReLU(negative_slope=0.01)\n",
       "            (4): Dropout(p=0.2, inplace=False)\n",
       "          )\n",
       "          (Layer 1): Sequential(\n",
       "            (0): Linear(in_features=128, out_features=16, bias=True)\n",
       "            (1): None\n",
       "            (2): LayerNorm((16,), eps=1e-05, elementwise_affine=False)\n",
       "            (3): LeakyReLU(negative_slope=0.01)\n",
       "            (4): Dropout(p=0.2, inplace=False)\n",
       "          )\n",
       "        )\n",
       "      )\n",
       "    )\n",
       "    (decoder_0): Decoder(\n",
       "      (decoder): MLP(\n",
       "        (mlp): FCLayers(\n",
       "          (fc_layers): Sequential(\n",
       "            (Layer 0): Sequential(\n",
       "              (0): Linear(in_features=16, out_features=128, bias=True)\n",
       "              (1): None\n",
       "              (2): LayerNorm((128,), eps=1e-05, elementwise_affine=False)\n",
       "              (3): LeakyReLU(negative_slope=0.01)\n",
       "              (4): Dropout(p=0.2, inplace=False)\n",
       "            )\n",
       "            (Layer 1): Sequential(\n",
       "              (0): Linear(in_features=128, out_features=128, bias=True)\n",
       "              (1): None\n",
       "              (2): LayerNorm((128,), eps=1e-05, elementwise_affine=False)\n",
       "              (3): LeakyReLU(negative_slope=0.01)\n",
       "              (4): Dropout(p=0.2, inplace=False)\n",
       "            )\n",
       "          )\n",
       "        )\n",
       "      )\n",
       "      (recon_decoder): Linear(in_features=128, out_features=16, bias=True)\n",
       "    )\n",
       "    (mu_0): Linear(in_features=16, out_features=16, bias=True)\n",
       "    (logvar_0): Linear(in_features=16, out_features=16, bias=True)\n",
       "  )\n",
       "  (cell_level_aggregator): Sequential(\n",
       "    (0): MLP(\n",
       "      (mlp): FCLayers(\n",
       "        (fc_layers): Sequential(\n",
       "          (Layer 0): Sequential(\n",
       "            (0): Linear(in_features=16, out_features=16, bias=True)\n",
       "            (1): None\n",
       "            (2): LayerNorm((16,), eps=1e-05, elementwise_affine=False)\n",
       "            (3): LeakyReLU(negative_slope=0.01)\n",
       "            (4): Dropout(p=0.2, inplace=False)\n",
       "          )\n",
       "        )\n",
       "      )\n",
       "    )\n",
       "    (1): Aggregator(\n",
       "      (attention_V): Sequential(\n",
       "        (0): Linear(in_features=16, out_features=16, bias=True)\n",
       "        (1): Tanh()\n",
       "        (2): Identity()\n",
       "      )\n",
       "      (attention_U): Sequential(\n",
       "        (0): Linear(in_features=16, out_features=16, bias=True)\n",
       "        (1): Sigmoid()\n",
       "        (2): Identity()\n",
       "      )\n",
       "      (attention_weights): Linear(in_features=16, out_features=1, bias=False)\n",
       "      (dropout_attn): Identity()\n",
       "    )\n",
       "  )\n",
       "  (classifiers): ModuleList()\n",
       "  (regressors): ModuleList(\n",
       "    (0): Sequential(\n",
       "      (0): MLP(\n",
       "        (mlp): FCLayers(\n",
       "          (fc_layers): Sequential(\n",
       "            (Layer 0): Sequential(\n",
       "              (0): Linear(in_features=16, out_features=128, bias=True)\n",
       "              (1): None\n",
       "              (2): LayerNorm((128,), eps=1e-05, elementwise_affine=False)\n",
       "              (3): LeakyReLU(negative_slope=0.01)\n",
       "              (4): Dropout(p=0.2, inplace=False)\n",
       "            )\n",
       "          )\n",
       "        )\n",
       "      )\n",
       "      (1): Linear(in_features=128, out_features=1, bias=True)\n",
       "    )\n",
       "  )\n",
       ")"
      ]
     },
     "execution_count": 71,
     "metadata": {},
     "output_type": "execute_result"
    }
   ],
   "source": [
    "mil.module"
   ]
  },
  {
   "cell_type": "code",
   "execution_count": 72,
   "id": "86f03489-3b5f-4627-9809-6c626a85da9c",
   "metadata": {},
   "outputs": [],
   "source": [
    "for classifier in mil.module.classifiers:\n",
    "    print(torch.linalg.norm(classifier[0].mlp.fc_layers[0][0].weight, 2))"
   ]
  },
  {
   "cell_type": "code",
   "execution_count": 11,
   "id": "42c72577-9e19-4778-8359-ecdff2a9746b",
   "metadata": {
    "scrolled": true
   },
   "outputs": [
    {
     "name": "stderr",
     "output_type": "stream",
     "text": [
      "/lustre/groups/ml01/workspace/anastasia.litinetskaya/code/multimil/multimil/model/_mil.py:367: UserWarning: Setting early_stopping_monitor to 'regression_loss_validation' and early_stopping_mode to 'min' as regression is used.\n",
      "  warnings.warn(\"Setting early_stopping_monitor to 'regression_loss_validation' and early_stopping_mode to 'min' as regression is used.\")\n",
      "/lustre/groups/ml01/workspace/anastasia.litinetskaya/mambaforge/envs/multimil/lib/python3.10/site-packages/lightning_fabric/plugins/environments/slurm.py:165: PossibleUserWarning: The `srun` command is available on your system but is not used. HINT: If your intention is to run Lightning on SLURM, prepend your python command with `srun` like so: srun python3.10 /lustre/groups/ml01/workspace/anastasia.litinets ...\n",
      "  rank_zero_warn(\n",
      "GPU available: True (cuda), used: True\n",
      "TPU available: False, using: 0 TPU cores\n",
      "IPU available: False, using: 0 IPUs\n",
      "HPU available: False, using: 0 HPUs\n",
      "/lustre/groups/ml01/workspace/anastasia.litinetskaya/mambaforge/envs/multimil/lib/python3.10/site-packages/lightning_fabric/plugins/environments/slurm.py:165: PossibleUserWarning: The `srun` command is available on your system but is not used. HINT: If your intention is to run Lightning on SLURM, prepend your python command with `srun` like so: srun python3.10 /lustre/groups/ml01/workspace/anastasia.litinets ...\n",
      "  rank_zero_warn(\n",
      "You are using a CUDA device ('NVIDIA A100-PCIE-40GB MIG 3g.20gb') that has Tensor Cores. To properly utilize them, you should set `torch.set_float32_matmul_precision('medium' | 'high')` which will trade-off precision for performance. For more details, read https://pytorch.org/docs/stable/generated/torch.set_float32_matmul_precision.html#torch.set_float32_matmul_precision\n",
      "/lustre/groups/ml01/workspace/anastasia.litinetskaya/mambaforge/envs/multimil/lib/python3.10/site-packages/pytorch_lightning/callbacks/model_checkpoint.py:613: UserWarning: Checkpoint directory /lustre/groups/ml01/projects/2022_multigrate_anastasia.litinetskaya/multimil_reproducibility/notebooks/mil_analysis/scvi_log/lightning_logs/version_1/checkpoints exists and is not empty.\n",
      "  rank_zero_warn(f\"Checkpoint directory {dirpath} exists and is not empty.\")\n",
      "LOCAL_RANK: 0 - CUDA_VISIBLE_DEVICES: [MIG-cef187a2-b5cb-57f2-8043-b227920cedf8]\n"
     ]
    },
    {
     "name": "stdout",
     "output_type": "stream",
     "text": [
      "Epoch 2/2: 100%|██████████| 2/2 [00:10<00:00,  5.07s/it, loss=0.632, v_num=1]"
     ]
    },
    {
     "name": "stderr",
     "output_type": "stream",
     "text": [
      "`Trainer.fit` stopped: `max_epochs=2` reached.\n"
     ]
    },
    {
     "name": "stdout",
     "output_type": "stream",
     "text": [
      "Epoch 2/2: 100%|██████████| 2/2 [00:10<00:00,  5.46s/it, loss=0.632, v_num=1]\n"
     ]
    }
   ],
   "source": [
    "mil.train(\n",
    "    lr=1e-5,\n",
    "    batch_size=512, \n",
    "    max_epochs=2,\n",
    "    # path_to_checkpoints='./checkpoints/',\n",
    "    # save_checkpoint_every_n_epochs=2,\n",
    "    # early_stopping_monitor='regression_loss_validation',\n",
    ")"
   ]
  },
  {
   "cell_type": "code",
   "execution_count": 12,
   "id": "5f1c7ebf-d3f0-4950-86aa-77517bcc1556",
   "metadata": {},
   "outputs": [
    {
     "data": {
      "image/png": "[encoded data removed]",
      "text/plain": [
       "<Figure size 1500x1000 with 4 Axes>"
      ]
     },
     "metadata": {},
     "output_type": "display_data"
    }
   ],
   "source": [
    "mil.plot_losses()"
   ]
  },
  {
   "cell_type": "code",
   "execution_count": 15,
   "id": "51c34064-f418-46eb-b862-157268012734",
   "metadata": {},
   "outputs": [],
   "source": [
    "mil.get_model_output(batch_size=512)"
   ]
  },
  {
   "cell_type": "code",
   "execution_count": 16,
   "id": "1d8ee8f0-c82d-442f-b85b-088e7836968f",
   "metadata": {},
   "outputs": [
    {
     "data": {
      "text/plain": [
       "AnnData object with n_obs × n_vars = 309468 × 16\n",
       "    obs: 'sample_id', 'n_genes', 'n_genes_by_counts', 'total_counts', 'total_counts_mt', 'pct_counts_mt', 'full_clustering', 'initial_clustering', 'Resample', 'Collection_Day', 'Sex', 'Age_interval', 'Swab_result', 'Status', 'Smoker', 'Status_on_day_collection', 'Status_on_day_collection_summary', 'Days_from_onset', 'Site', 'time_after_LPS', 'Worst_Clinical_Status', 'Outcome', 'patient_id', 'split0', 'split1', 'split2', 'split3', 'split4', 'group', 'size_factors', '_scvi_batch', 'Status_on_day_collection_summary_cont', 'cell_attn', 'bags'\n",
       "    var: 'modality'\n",
       "    uns: 'modality_lengths', '_scvi_uuid', '_scvi_manager_uuid', 'bag_regression_true', 'bag_regression_predictions'\n",
       "    obsm: '_scvi_extra_categorical_covs', '_scvi_extra_continuous_covs', 'latent', 'regression_predictions'"
      ]
     },
     "execution_count": 16,
     "metadata": {},
     "output_type": "execute_result"
    }
   ],
   "source": [
    "adata"
   ]
  },
  {
   "cell_type": "code",
   "execution_count": 19,
   "id": "a7bb2fd9-290e-41c8-b38b-f9ab12d4924b",
   "metadata": {},
   "outputs": [
    {
     "data": {
      "text/plain": [
       "array(['Status_on_day_collection_summary_cont'], dtype=object)"
      ]
     },
     "execution_count": 19,
     "metadata": {},
     "output_type": "execute_result"
    }
   ],
   "source": [
    "mil.adata_manager.get_state_registry('extra_continuous_covs')['columns']"
   ]
  },
  {
   "cell_type": "code",
   "execution_count": 46,
   "id": "596a027c-11b5-4dc8-a57f-806a566f2f30",
   "metadata": {},
   "outputs": [],
   "source": [
    "idx = query.obs['patient_id'].sort_values().index\n",
    "query = query[idx].copy()"
   ]
  },
  {
   "cell_type": "code",
   "execution_count": 47,
   "id": "ec96d646-d28f-4b64-b65d-3752fae8a658",
   "metadata": {},
   "outputs": [
    {
     "name": "stderr",
     "output_type": "stream",
     "text": [
      "/lustre/groups/ml01/workspace/anastasia.litinetskaya/mambaforge/envs/multimil/lib/python3.10/site-packages/scvi/data/fields/_layer_field.py:90: UserWarning: adata.X does not contain unnormalized count data. Are you sure this is what you want?\n",
      "  warnings.warn(\n"
     ]
    },
    {
     "name": "stdout",
     "output_type": "stream",
     "text": [
      "The order for Status_on_day_collection_summary ordinal classes is: Index(['Healthy', 'Mild', 'Severe'], dtype='object'). If you need to change the order, please rerun setup_anndata and specify the correct order with the `ordinal_regression_order` parameter.\n"
     ]
    },
    {
     "name": "stderr",
     "output_type": "stream",
     "text": [
      "/lustre/groups/ml01/workspace/anastasia.litinetskaya/mambaforge/envs/multimil/lib/python3.10/site-packages/scvi/data/fields/_layer_field.py:90: UserWarning: adata.X does not contain unnormalized count data. Are you sure this is what you want?\n",
      "  warnings.warn(\n",
      "/lustre/groups/ml01/workspace/anastasia.litinetskaya/mambaforge/envs/multimil/lib/python3.10/site-packages/scvi/data/fields/_layer_field.py:90: UserWarning: adata.X does not contain unnormalized count data. Are you sure this is what you want?\n",
      "  warnings.warn(\n"
     ]
    }
   ],
   "source": [
    "new_model = mtm.model.MILClassifier.load_query_data(query, reference_model=mil)"
   ]
  },
  {
   "cell_type": "code",
   "execution_count": 49,
   "id": "a5eeb9eb-27d4-418a-934d-9a8ac6496f44",
   "metadata": {},
   "outputs": [
    {
     "name": "stderr",
     "output_type": "stream",
     "text": [
      "/lustre/groups/ml01/workspace/anastasia.litinetskaya/mambaforge/envs/multimil/lib/python3.10/site-packages/scvi/data/fields/_layer_field.py:90: UserWarning: adata.X does not contain unnormalized count data. Are you sure this is what you want?\n",
      "  warnings.warn(\n"
     ]
    }
   ],
   "source": [
    "new_model.is_trained_ = True\n",
    "new_model.get_model_output(query, batch_size=512)"
   ]
  },
  {
   "cell_type": "code",
   "execution_count": 50,
   "id": "6a78bb63-240e-42de-9aa8-3b403f44f158",
   "metadata": {},
   "outputs": [
    {
     "data": {
      "text/plain": [
       "AnnData object with n_obs × n_vars = 52958 × 16\n",
       "    obs: 'sample_id', 'n_genes', 'n_genes_by_counts', 'total_counts', 'total_counts_mt', 'pct_counts_mt', 'full_clustering', 'initial_clustering', 'Resample', 'Collection_Day', 'Sex', 'Age_interval', 'Swab_result', 'Status', 'Smoker', 'Status_on_day_collection', 'Status_on_day_collection_summary', 'Days_from_onset', 'Site', 'time_after_LPS', 'Worst_Clinical_Status', 'Outcome', 'patient_id', 'split0', 'split1', 'split2', 'split3', 'split4', 'group', 'size_factors', '_scvi_batch', 'cell_attn', 'bags', 'predicted_Status_on_day_collection_summary'\n",
       "    var: 'modality'\n",
       "    uns: 'modality_lengths', '_scvi_uuid', '_scvi_manager_uuid', 'bag_ord_regression_true_Status_on_day_collection_summary', 'bag_ord_regression_predictions_Status_on_day_collection_summary', 'bag_predicted_Status_on_day_collection_summary'\n",
       "    obsm: '_scvi_extra_categorical_covs', 'latent', 'ord_regression_predictions_Status_on_day_collection_summary'"
      ]
     },
     "execution_count": 50,
     "metadata": {},
     "output_type": "execute_result"
    }
   ],
   "source": [
    "query"
   ]
  },
  {
   "cell_type": "code",
   "execution_count": 51,
   "id": "490fccba-6e1a-4f8a-b4af-ceea9c2cab42",
   "metadata": {},
   "outputs": [],
   "source": [
    "condition = 'Status_on_day_collection_summary'"
   ]
  },
  {
   "cell_type": "code",
   "execution_count": 53,
   "id": "aef878da-3692-4521-9612-704918d07e75",
   "metadata": {},
   "outputs": [
    {
     "name": "stderr",
     "output_type": "stream",
     "text": [
      "/lustre/groups/ml01/workspace/anastasia.litinetskaya/mambaforge/envs/multimil/lib/python3.10/site-packages/sklearn/metrics/_classification.py:1469: UndefinedMetricWarning: Precision and F-score are ill-defined and being set to 0.0 in labels with no predicted samples. Use `zero_division` parameter to control this behavior.\n",
      "  _warn_prf(average, modifier, msg_start, len(result))\n",
      "/lustre/groups/ml01/workspace/anastasia.litinetskaya/mambaforge/envs/multimil/lib/python3.10/site-packages/sklearn/metrics/_classification.py:1469: UndefinedMetricWarning: Precision and F-score are ill-defined and being set to 0.0 in labels with no predicted samples. Use `zero_division` parameter to control this behavior.\n",
      "  _warn_prf(average, modifier, msg_start, len(result))\n",
      "/lustre/groups/ml01/workspace/anastasia.litinetskaya/mambaforge/envs/multimil/lib/python3.10/site-packages/sklearn/metrics/_classification.py:1469: UndefinedMetricWarning: Precision and F-score are ill-defined and being set to 0.0 in labels with no predicted samples. Use `zero_division` parameter to control this behavior.\n",
      "  _warn_prf(average, modifier, msg_start, len(result))\n"
     ]
    }
   ],
   "source": [
    "from sklearn.metrics import classification_report\n",
    "report = classification_report(query.obs[condition], query.obs[f\"predicted_{condition}\"], output_dict=True)"
   ]
  },
  {
   "cell_type": "code",
   "execution_count": 54,
   "id": "6abcedf5-fe63-41dd-967b-342ac5bf71e4",
   "metadata": {},
   "outputs": [
    {
     "data": {
      "text/plain": [
       "{'Healthy': {'precision': 0.30456431535269707,\n",
       "  'recall': 0.07401431884642533,\n",
       "  'f1-score': 0.11908818041697088,\n",
       "  'support': 19834.0},\n",
       " 'Mild': {'precision': 0.474863932859695,\n",
       "  'recall': 1.0,\n",
       "  'f1-score': 0.6439427018043016,\n",
       "  'support': 22859.0},\n",
       " 'Severe': {'precision': 0.0,\n",
       "  'recall': 0.0,\n",
       "  'f1-score': 0.0,\n",
       "  'support': 10265.0},\n",
       " 'accuracy': 0.4593640243211602,\n",
       " 'macro avg': {'precision': 0.2598094160707974,\n",
       "  'recall': 0.35800477294880845,\n",
       "  'f1-score': 0.2543436274070908,\n",
       "  'support': 52958.0},\n",
       " 'weighted avg': {'precision': 0.3190385451101847,\n",
       "  'recall': 0.4593640243211602,\n",
       "  'f1-score': 0.3225552549366428,\n",
       "  'support': 52958.0}}"
      ]
     },
     "execution_count": 54,
     "metadata": {},
     "output_type": "execute_result"
    }
   ],
   "source": [
    "report"
   ]
  },
  {
   "cell_type": "code",
   "execution_count": null,
   "id": "cb81be3c-dfef-47b2-a57d-9b12c090f9d1",
   "metadata": {},
   "outputs": [],
   "source": []
  }
 ],
 "metadata": {
  "kernelspec": {
   "display_name": "Python 3 (ipykernel)",
   "language": "python",
   "name": "python3"
  },
  "language_info": {
   "codemirror_mode": {
    "name": "ipython",
    "version": 3
   },
   "file_extension": ".py",
   "mimetype": "text/x-python",
   "name": "python",
   "nbconvert_exporter": "python",
   "pygments_lexer": "ipython3",
   "version": "3.9.15"
  }
 },
 "nbformat": 4,
 "nbformat_minor": 5
}
