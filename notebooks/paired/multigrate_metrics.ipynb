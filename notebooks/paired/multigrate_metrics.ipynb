{
 "cells": [
  {
   "cell_type": "code",
   "execution_count": 1,
   "id": "57adc427",
   "metadata": {
    "scrolled": true
   },
   "outputs": [
    {
     "name": "stderr",
     "output_type": "stream",
     "text": [
      "During startup - Warning message:\n",
      "Setting LC_CTYPE failed, using \"C\" \n"
     ]
    }
   ],
   "source": [
    "import warnings\n",
    "warnings.simplefilter(action='ignore', category=FutureWarning)\n",
    "\n",
    "import scanpy as sc\n",
    "import scib"
   ]
  },
  {
   "cell_type": "markdown",
   "id": "bcd036ba",
   "metadata": {},
   "source": [
    "# Hao"
   ]
  },
  {
   "cell_type": "code",
   "execution_count": 2,
   "id": "8911fc5e",
   "metadata": {},
   "outputs": [
    {
     "data": {
      "text/plain": [
       "AnnData object with n_obs × n_vars = 149926 × 4228\n",
       "    obs: 'nCount_ADT', 'nFeature_ADT', 'nCount_RNA', 'nFeature_RNA', 'orig.ident', 'lane', 'donor', 'time', 'celltype.l1', 'celltype.l2', 'celltype.l3', 'Phase', 'Batch', 'n_genes', 'n_genes_by_counts', 'log1p_n_genes_by_counts', 'total_counts', 'log1p_total_counts', 'total_counts_mt', 'log1p_total_counts_mt', 'pct_counts_mt', 'group', 'size_factors', '_scvi_batch', '_scvi_labels'\n",
       "    uns: 'Batch_colors', '_scvi', 'celltype.l2_colors', 'neighbors', 'umap'\n",
       "    obsm: 'X_umap', '_scvi_extra_categoricals', '_scvi_extra_continuous', 'latent'\n",
       "    obsp: 'connectivities', 'distances'"
      ]
     },
     "execution_count": 2,
     "metadata": {},
     "output_type": "execute_result"
    }
   ],
   "source": [
    "latent = sc.read('../multigrate/multigrate_hao.h5ad')\n",
    "latent"
   ]
  },
  {
   "cell_type": "code",
   "execution_count": 3,
   "id": "3ed9e84f",
   "metadata": {},
   "outputs": [
    {
     "name": "stdout",
     "output_type": "stream",
     "text": [
      "NMI...\n",
      "ARI...\n",
      "Silhouette score...\n",
      "Isolated labels ASW...\n",
      "Graph connectivity...\n"
     ]
    },
    {
     "data": {
      "text/html": [
       "<div>\n",
       "<style scoped>\n",
       "    .dataframe tbody tr th:only-of-type {\n",
       "        vertical-align: middle;\n",
       "    }\n",
       "\n",
       "    .dataframe tbody tr th {\n",
       "        vertical-align: top;\n",
       "    }\n",
       "\n",
       "    .dataframe thead th {\n",
       "        text-align: right;\n",
       "    }\n",
       "</style>\n",
       "<table border=\"1\" class=\"dataframe\">\n",
       "  <thead>\n",
       "    <tr style=\"text-align: right;\">\n",
       "      <th></th>\n",
       "      <th>0</th>\n",
       "    </tr>\n",
       "  </thead>\n",
       "  <tbody>\n",
       "    <tr>\n",
       "      <th>NMI_cluster/label</th>\n",
       "      <td>0.836174</td>\n",
       "    </tr>\n",
       "    <tr>\n",
       "      <th>ARI_cluster/label</th>\n",
       "      <td>0.798786</td>\n",
       "    </tr>\n",
       "    <tr>\n",
       "      <th>ASW_label</th>\n",
       "      <td>0.654312</td>\n",
       "    </tr>\n",
       "    <tr>\n",
       "      <th>ASW_label/batch</th>\n",
       "      <td>0.891315</td>\n",
       "    </tr>\n",
       "    <tr>\n",
       "      <th>PCR_batch</th>\n",
       "      <td>NaN</td>\n",
       "    </tr>\n",
       "    <tr>\n",
       "      <th>cell_cycle_conservation</th>\n",
       "      <td>NaN</td>\n",
       "    </tr>\n",
       "    <tr>\n",
       "      <th>isolated_label_F1</th>\n",
       "      <td>NaN</td>\n",
       "    </tr>\n",
       "    <tr>\n",
       "      <th>isolated_label_silhouette</th>\n",
       "      <td>0.545461</td>\n",
       "    </tr>\n",
       "    <tr>\n",
       "      <th>graph_conn</th>\n",
       "      <td>0.950743</td>\n",
       "    </tr>\n",
       "    <tr>\n",
       "      <th>kBET</th>\n",
       "      <td>NaN</td>\n",
       "    </tr>\n",
       "    <tr>\n",
       "      <th>iLISI</th>\n",
       "      <td>NaN</td>\n",
       "    </tr>\n",
       "    <tr>\n",
       "      <th>cLISI</th>\n",
       "      <td>NaN</td>\n",
       "    </tr>\n",
       "    <tr>\n",
       "      <th>hvg_overlap</th>\n",
       "      <td>NaN</td>\n",
       "    </tr>\n",
       "    <tr>\n",
       "      <th>trajectory</th>\n",
       "      <td>NaN</td>\n",
       "    </tr>\n",
       "  </tbody>\n",
       "</table>\n",
       "</div>"
      ],
      "text/plain": [
       "                                  0\n",
       "NMI_cluster/label          0.836174\n",
       "ARI_cluster/label          0.798786\n",
       "ASW_label                  0.654312\n",
       "ASW_label/batch            0.891315\n",
       "PCR_batch                       NaN\n",
       "cell_cycle_conservation         NaN\n",
       "isolated_label_F1               NaN\n",
       "isolated_label_silhouette  0.545461\n",
       "graph_conn                 0.950743\n",
       "kBET                            NaN\n",
       "iLISI                           NaN\n",
       "cLISI                           NaN\n",
       "hvg_overlap                     NaN\n",
       "trajectory                      NaN"
      ]
     },
     "execution_count": 3,
     "metadata": {},
     "output_type": "execute_result"
    }
   ],
   "source": [
    "metrics = scib.metrics.metrics(\n",
    "    latent, \n",
    "    latent, \n",
    "    batch_key='Batch', \n",
    "    label_key='celltype.l2', \n",
    "    embed='latent',\n",
    "    ari_=True,\n",
    "    nmi_=True,\n",
    "    silhouette_=True,\n",
    "    graph_conn_=True,\n",
    "    isolated_labels_asw_=True,\n",
    ")\n",
    "metrics"
   ]
  },
  {
   "cell_type": "code",
   "execution_count": 4,
   "id": "aeb7d0e8",
   "metadata": {},
   "outputs": [],
   "source": [
    "metrics.to_csv('metrics_multigrate_hao.csv')"
   ]
  },
  {
   "cell_type": "markdown",
   "id": "1645de8c",
   "metadata": {},
   "source": [
    "# NeurIPS multiome"
   ]
  },
  {
   "cell_type": "code",
   "execution_count": 5,
   "id": "a30ec87b",
   "metadata": {},
   "outputs": [
    {
     "data": {
      "text/plain": [
       "AnnData object with n_obs × n_vars = 69249 × 44002\n",
       "    obs: 'GEX_pct_counts_mt', 'GEX_n_counts', 'GEX_n_genes', 'GEX_size_factors', 'GEX_phase', 'ATAC_nCount_peaks', 'ATAC_atac_fragments', 'ATAC_reads_in_peaks_frac', 'ATAC_blacklist_fraction', 'ATAC_nucleosome_signal', 'cell_type', 'batch', 'ATAC_pseudotime_order', 'GEX_pseudotime_order', 'Samplename', 'Site', 'DonorNumber', 'Modality', 'VendorLot', 'DonorID', 'DonorAge', 'DonorBMI', 'DonorBloodType', 'DonorRace', 'Ethnicity', 'DonorGender', 'QCMeds', 'DonorSmoker', 'group', 'size_factors', '_scvi_batch', '_scvi_labels'\n",
       "    uns: '_scvi', 'batch_colors', 'cell_type_colors', 'neighbors', 'umap'\n",
       "    obsm: 'X_umap', '_scvi_extra_categoricals', '_scvi_extra_continuous', 'latent'\n",
       "    obsp: 'connectivities', 'distances'"
      ]
     },
     "execution_count": 5,
     "metadata": {},
     "output_type": "execute_result"
    }
   ],
   "source": [
    "latent = sc.read('../multigrate/multigrate_neurips_multiome.h5ad')\n",
    "latent"
   ]
  },
  {
   "cell_type": "code",
   "execution_count": 6,
   "id": "2f9fe780",
   "metadata": {},
   "outputs": [
    {
     "name": "stdout",
     "output_type": "stream",
     "text": [
      "NMI...\n",
      "ARI...\n",
      "Silhouette score...\n",
      "Isolated labels ASW...\n",
      "Graph connectivity...\n"
     ]
    },
    {
     "data": {
      "text/html": [
       "<div>\n",
       "<style scoped>\n",
       "    .dataframe tbody tr th:only-of-type {\n",
       "        vertical-align: middle;\n",
       "    }\n",
       "\n",
       "    .dataframe tbody tr th {\n",
       "        vertical-align: top;\n",
       "    }\n",
       "\n",
       "    .dataframe thead th {\n",
       "        text-align: right;\n",
       "    }\n",
       "</style>\n",
       "<table border=\"1\" class=\"dataframe\">\n",
       "  <thead>\n",
       "    <tr style=\"text-align: right;\">\n",
       "      <th></th>\n",
       "      <th>0</th>\n",
       "    </tr>\n",
       "  </thead>\n",
       "  <tbody>\n",
       "    <tr>\n",
       "      <th>NMI_cluster/label</th>\n",
       "      <td>0.759771</td>\n",
       "    </tr>\n",
       "    <tr>\n",
       "      <th>ARI_cluster/label</th>\n",
       "      <td>0.658101</td>\n",
       "    </tr>\n",
       "    <tr>\n",
       "      <th>ASW_label</th>\n",
       "      <td>0.603824</td>\n",
       "    </tr>\n",
       "    <tr>\n",
       "      <th>ASW_label/batch</th>\n",
       "      <td>0.835437</td>\n",
       "    </tr>\n",
       "    <tr>\n",
       "      <th>PCR_batch</th>\n",
       "      <td>NaN</td>\n",
       "    </tr>\n",
       "    <tr>\n",
       "      <th>cell_cycle_conservation</th>\n",
       "      <td>NaN</td>\n",
       "    </tr>\n",
       "    <tr>\n",
       "      <th>isolated_label_F1</th>\n",
       "      <td>NaN</td>\n",
       "    </tr>\n",
       "    <tr>\n",
       "      <th>isolated_label_silhouette</th>\n",
       "      <td>0.532891</td>\n",
       "    </tr>\n",
       "    <tr>\n",
       "      <th>graph_conn</th>\n",
       "      <td>0.952599</td>\n",
       "    </tr>\n",
       "    <tr>\n",
       "      <th>kBET</th>\n",
       "      <td>NaN</td>\n",
       "    </tr>\n",
       "    <tr>\n",
       "      <th>iLISI</th>\n",
       "      <td>NaN</td>\n",
       "    </tr>\n",
       "    <tr>\n",
       "      <th>cLISI</th>\n",
       "      <td>NaN</td>\n",
       "    </tr>\n",
       "    <tr>\n",
       "      <th>hvg_overlap</th>\n",
       "      <td>NaN</td>\n",
       "    </tr>\n",
       "    <tr>\n",
       "      <th>trajectory</th>\n",
       "      <td>NaN</td>\n",
       "    </tr>\n",
       "  </tbody>\n",
       "</table>\n",
       "</div>"
      ],
      "text/plain": [
       "                                  0\n",
       "NMI_cluster/label          0.759771\n",
       "ARI_cluster/label          0.658101\n",
       "ASW_label                  0.603824\n",
       "ASW_label/batch            0.835437\n",
       "PCR_batch                       NaN\n",
       "cell_cycle_conservation         NaN\n",
       "isolated_label_F1               NaN\n",
       "isolated_label_silhouette  0.532891\n",
       "graph_conn                 0.952599\n",
       "kBET                            NaN\n",
       "iLISI                           NaN\n",
       "cLISI                           NaN\n",
       "hvg_overlap                     NaN\n",
       "trajectory                      NaN"
      ]
     },
     "execution_count": 6,
     "metadata": {},
     "output_type": "execute_result"
    }
   ],
   "source": [
    "metrics = scib.metrics.metrics(\n",
    "    latent, \n",
    "    latent, \n",
    "    batch_key='batch', \n",
    "    label_key='cell_type', \n",
    "    embed='latent',\n",
    "    ari_=True,\n",
    "    nmi_=True,\n",
    "    silhouette_=True,\n",
    "    graph_conn_=True,\n",
    "    isolated_labels_asw_=True,\n",
    ")\n",
    "metrics"
   ]
  },
  {
   "cell_type": "code",
   "execution_count": 7,
   "id": "70680e1c",
   "metadata": {},
   "outputs": [],
   "source": [
    "metrics.to_csv('metrics_multigrate_neurips_multiome.csv')"
   ]
  },
  {
   "cell_type": "markdown",
   "id": "d849e79c",
   "metadata": {},
   "source": [
    "# NeurIPS CITE-seq"
   ]
  },
  {
   "cell_type": "code",
   "execution_count": 8,
   "id": "7999a7c5",
   "metadata": {},
   "outputs": [
    {
     "data": {
      "text/plain": [
       "AnnData object with n_obs × n_vars = 90261 × 4134\n",
       "    obs: 'GEX_n_genes_by_counts', 'GEX_pct_counts_mt', 'GEX_size_factors', 'GEX_phase', 'ADT_n_antibodies_by_counts', 'ADT_total_counts', 'ADT_iso_count', 'cell_type', 'batch', 'ADT_pseudotime_order', 'GEX_pseudotime_order', 'Samplename', 'Site', 'DonorNumber', 'Modality', 'VendorLot', 'DonorID', 'DonorAge', 'DonorBMI', 'DonorBloodType', 'DonorRace', 'Ethnicity', 'DonorGender', 'QCMeds', 'DonorSmoker', 'is_train', 'group', 'size_factors', '_scvi_batch', '_scvi_labels'\n",
       "    uns: '_scvi', 'batch_colors', 'cell_type_colors', 'neighbors', 'umap'\n",
       "    obsm: 'X_umap', '_scvi_extra_categoricals', '_scvi_extra_continuous', 'latent'\n",
       "    obsp: 'connectivities', 'distances'"
      ]
     },
     "execution_count": 8,
     "metadata": {},
     "output_type": "execute_result"
    }
   ],
   "source": [
    "latent = sc.read('../multigrate/multigrate_neurips_cite.h5ad')\n",
    "latent"
   ]
  },
  {
   "cell_type": "code",
   "execution_count": 9,
   "id": "f7f84397",
   "metadata": {},
   "outputs": [
    {
     "name": "stdout",
     "output_type": "stream",
     "text": [
      "NMI...\n",
      "ARI...\n",
      "Silhouette score...\n",
      "Isolated labels ASW...\n",
      "Graph connectivity...\n"
     ]
    },
    {
     "data": {
      "text/html": [
       "<div>\n",
       "<style scoped>\n",
       "    .dataframe tbody tr th:only-of-type {\n",
       "        vertical-align: middle;\n",
       "    }\n",
       "\n",
       "    .dataframe tbody tr th {\n",
       "        vertical-align: top;\n",
       "    }\n",
       "\n",
       "    .dataframe thead th {\n",
       "        text-align: right;\n",
       "    }\n",
       "</style>\n",
       "<table border=\"1\" class=\"dataframe\">\n",
       "  <thead>\n",
       "    <tr style=\"text-align: right;\">\n",
       "      <th></th>\n",
       "      <th>0</th>\n",
       "    </tr>\n",
       "  </thead>\n",
       "  <tbody>\n",
       "    <tr>\n",
       "      <th>NMI_cluster/label</th>\n",
       "      <td>0.792750</td>\n",
       "    </tr>\n",
       "    <tr>\n",
       "      <th>ARI_cluster/label</th>\n",
       "      <td>0.740740</td>\n",
       "    </tr>\n",
       "    <tr>\n",
       "      <th>ASW_label</th>\n",
       "      <td>0.607309</td>\n",
       "    </tr>\n",
       "    <tr>\n",
       "      <th>ASW_label/batch</th>\n",
       "      <td>0.818657</td>\n",
       "    </tr>\n",
       "    <tr>\n",
       "      <th>PCR_batch</th>\n",
       "      <td>NaN</td>\n",
       "    </tr>\n",
       "    <tr>\n",
       "      <th>cell_cycle_conservation</th>\n",
       "      <td>NaN</td>\n",
       "    </tr>\n",
       "    <tr>\n",
       "      <th>isolated_label_F1</th>\n",
       "      <td>NaN</td>\n",
       "    </tr>\n",
       "    <tr>\n",
       "      <th>isolated_label_silhouette</th>\n",
       "      <td>0.491202</td>\n",
       "    </tr>\n",
       "    <tr>\n",
       "      <th>graph_conn</th>\n",
       "      <td>0.909775</td>\n",
       "    </tr>\n",
       "    <tr>\n",
       "      <th>kBET</th>\n",
       "      <td>NaN</td>\n",
       "    </tr>\n",
       "    <tr>\n",
       "      <th>iLISI</th>\n",
       "      <td>NaN</td>\n",
       "    </tr>\n",
       "    <tr>\n",
       "      <th>cLISI</th>\n",
       "      <td>NaN</td>\n",
       "    </tr>\n",
       "    <tr>\n",
       "      <th>hvg_overlap</th>\n",
       "      <td>NaN</td>\n",
       "    </tr>\n",
       "    <tr>\n",
       "      <th>trajectory</th>\n",
       "      <td>NaN</td>\n",
       "    </tr>\n",
       "  </tbody>\n",
       "</table>\n",
       "</div>"
      ],
      "text/plain": [
       "                                  0\n",
       "NMI_cluster/label          0.792750\n",
       "ARI_cluster/label          0.740740\n",
       "ASW_label                  0.607309\n",
       "ASW_label/batch            0.818657\n",
       "PCR_batch                       NaN\n",
       "cell_cycle_conservation         NaN\n",
       "isolated_label_F1               NaN\n",
       "isolated_label_silhouette  0.491202\n",
       "graph_conn                 0.909775\n",
       "kBET                            NaN\n",
       "iLISI                           NaN\n",
       "cLISI                           NaN\n",
       "hvg_overlap                     NaN\n",
       "trajectory                      NaN"
      ]
     },
     "execution_count": 9,
     "metadata": {},
     "output_type": "execute_result"
    }
   ],
   "source": [
    "metrics = scib.metrics.metrics(\n",
    "    latent, \n",
    "    latent, \n",
    "    batch_key='batch', \n",
    "    label_key='cell_type', \n",
    "    embed='latent',\n",
    "    ari_=True,\n",
    "    nmi_=True,\n",
    "    silhouette_=True,\n",
    "    graph_conn_=True,\n",
    "    isolated_labels_asw_=True,\n",
    ")\n",
    "metrics"
   ]
  },
  {
   "cell_type": "code",
   "execution_count": 10,
   "id": "a22301dd",
   "metadata": {},
   "outputs": [],
   "source": [
    "metrics.to_csv('metrics_multigrate_neurips_cite.csv')"
   ]
  },
  {
   "cell_type": "markdown",
   "id": "dee7fc1f",
   "metadata": {},
   "source": [
    "# 10x"
   ]
  },
  {
   "cell_type": "code",
   "execution_count": 11,
   "id": "269bc1c0",
   "metadata": {},
   "outputs": [
    {
     "data": {
      "text/plain": [
       "AnnData object with n_obs × n_vars = 10000 × 44086\n",
       "    obs: 'cell_type', 'group', 'size_factors', '_scvi_batch', '_scvi_labels'\n",
       "    uns: '_scvi', 'cell_type_colors', 'neighbors', 'umap'\n",
       "    obsm: 'X_umap', '_scvi_extra_continuous', 'latent'\n",
       "    layers: 'binary', 'count', 'cpm_norm', 'tf-idf'\n",
       "    obsp: 'connectivities', 'distances'"
      ]
     },
     "execution_count": 11,
     "metadata": {},
     "output_type": "execute_result"
    }
   ],
   "source": [
    "latent = sc.read('../multigrate/multigrate_10x_multiome.h5ad')\n",
    "latent"
   ]
  },
  {
   "cell_type": "code",
   "execution_count": 12,
   "id": "b2103257",
   "metadata": {},
   "outputs": [
    {
     "name": "stderr",
     "output_type": "stream",
     "text": [
      "/tmp/ipykernel_241937/2843794883.py:3: FutureWarning: Slicing a positional slice with .loc is not supported, and will raise TypeError in a future version.  Use .loc with labels or .iloc with positions instead.\n",
      "  latent.obs.loc[:3000, 'batch'] = '1'\n"
     ]
    }
   ],
   "source": [
    "# fake batches, will ignore later\n",
    "latent.obs['batch'] = '0'\n",
    "latent.obs.loc[:3000, 'batch'] = '1'"
   ]
  },
  {
   "cell_type": "code",
   "execution_count": 13,
   "id": "96829036",
   "metadata": {
    "scrolled": true
   },
   "outputs": [
    {
     "name": "stdout",
     "output_type": "stream",
     "text": [
      "NMI...\n",
      "ARI...\n",
      "Silhouette score...\n",
      "Isolated labels ASW...\n",
      "Graph connectivity...\n"
     ]
    },
    {
     "data": {
      "text/html": [
       "<div>\n",
       "<style scoped>\n",
       "    .dataframe tbody tr th:only-of-type {\n",
       "        vertical-align: middle;\n",
       "    }\n",
       "\n",
       "    .dataframe tbody tr th {\n",
       "        vertical-align: top;\n",
       "    }\n",
       "\n",
       "    .dataframe thead th {\n",
       "        text-align: right;\n",
       "    }\n",
       "</style>\n",
       "<table border=\"1\" class=\"dataframe\">\n",
       "  <thead>\n",
       "    <tr style=\"text-align: right;\">\n",
       "      <th></th>\n",
       "      <th>0</th>\n",
       "    </tr>\n",
       "  </thead>\n",
       "  <tbody>\n",
       "    <tr>\n",
       "      <th>NMI_cluster/label</th>\n",
       "      <td>0.799170</td>\n",
       "    </tr>\n",
       "    <tr>\n",
       "      <th>ARI_cluster/label</th>\n",
       "      <td>0.744534</td>\n",
       "    </tr>\n",
       "    <tr>\n",
       "      <th>ASW_label</th>\n",
       "      <td>0.674276</td>\n",
       "    </tr>\n",
       "    <tr>\n",
       "      <th>ASW_label/batch</th>\n",
       "      <td>0.950534</td>\n",
       "    </tr>\n",
       "    <tr>\n",
       "      <th>PCR_batch</th>\n",
       "      <td>NaN</td>\n",
       "    </tr>\n",
       "    <tr>\n",
       "      <th>cell_cycle_conservation</th>\n",
       "      <td>NaN</td>\n",
       "    </tr>\n",
       "    <tr>\n",
       "      <th>isolated_label_F1</th>\n",
       "      <td>NaN</td>\n",
       "    </tr>\n",
       "    <tr>\n",
       "      <th>isolated_label_silhouette</th>\n",
       "      <td>0.552052</td>\n",
       "    </tr>\n",
       "    <tr>\n",
       "      <th>graph_conn</th>\n",
       "      <td>0.987826</td>\n",
       "    </tr>\n",
       "    <tr>\n",
       "      <th>kBET</th>\n",
       "      <td>NaN</td>\n",
       "    </tr>\n",
       "    <tr>\n",
       "      <th>iLISI</th>\n",
       "      <td>NaN</td>\n",
       "    </tr>\n",
       "    <tr>\n",
       "      <th>cLISI</th>\n",
       "      <td>NaN</td>\n",
       "    </tr>\n",
       "    <tr>\n",
       "      <th>hvg_overlap</th>\n",
       "      <td>NaN</td>\n",
       "    </tr>\n",
       "    <tr>\n",
       "      <th>trajectory</th>\n",
       "      <td>NaN</td>\n",
       "    </tr>\n",
       "  </tbody>\n",
       "</table>\n",
       "</div>"
      ],
      "text/plain": [
       "                                  0\n",
       "NMI_cluster/label          0.799170\n",
       "ARI_cluster/label          0.744534\n",
       "ASW_label                  0.674276\n",
       "ASW_label/batch            0.950534\n",
       "PCR_batch                       NaN\n",
       "cell_cycle_conservation         NaN\n",
       "isolated_label_F1               NaN\n",
       "isolated_label_silhouette  0.552052\n",
       "graph_conn                 0.987826\n",
       "kBET                            NaN\n",
       "iLISI                           NaN\n",
       "cLISI                           NaN\n",
       "hvg_overlap                     NaN\n",
       "trajectory                      NaN"
      ]
     },
     "execution_count": 13,
     "metadata": {},
     "output_type": "execute_result"
    }
   ],
   "source": [
    "metrics = scib.metrics.metrics(\n",
    "    latent, \n",
    "    latent, \n",
    "    batch_key='batch', \n",
    "    label_key='cell_type', \n",
    "    embed='latent',\n",
    "    ari_=True,\n",
    "    nmi_=True,\n",
    "    silhouette_=True,\n",
    "    graph_conn_=True,\n",
    "    isolated_labels_asw_=True,\n",
    ")\n",
    "metrics"
   ]
  },
  {
   "cell_type": "code",
   "execution_count": 14,
   "id": "a4413307",
   "metadata": {},
   "outputs": [],
   "source": [
    "metrics.to_csv('metrics_multigrate_10x.csv')"
   ]
  },
  {
   "cell_type": "code",
   "execution_count": null,
   "id": "68d245ad",
   "metadata": {},
   "outputs": [],
   "source": []
  }
 ],
 "metadata": {
  "kernelspec": {
   "display_name": "Python 3 (ipykernel)",
   "language": "python",
   "name": "python3"
  },
  "language_info": {
   "codemirror_mode": {
    "name": "ipython",
    "version": 3
   },
   "file_extension": ".py",
   "mimetype": "text/x-python",
   "name": "python",
   "nbconvert_exporter": "python",
   "pygments_lexer": "ipython3",
   "version": "3.10.12"
  }
 },
 "nbformat": 4,
 "nbformat_minor": 5
}
