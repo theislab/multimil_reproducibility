{
 "cells": [
  {
   "cell_type": "code",
   "execution_count": 1,
   "metadata": {},
   "outputs": [
    {
     "name": "stderr",
     "output_type": "stream",
     "text": [
      "During startup - Warning message:\n",
      "Setting LC_CTYPE failed, using \"C\" \n"
     ]
    }
   ],
   "source": [
    "import warnings\n",
    "warnings.filterwarnings('ignore')\n",
    "warnings.simplefilter('ignore')\n",
    "\n",
    "import scanpy as sc\n",
    "import anndata as ad\n",
    "import numpy as np\n",
    "import pandas as pd\n",
    "import scipy\n",
    "import scipy.io\n",
    "\n",
    "import seaborn as sns\n",
    "import matplotlib.pyplot as plt\n",
    "\n",
    "from rpy2.robjects import r\n",
    "from rpy2.robjects import pandas2ri\n",
    "\n",
    "import anndata2ri\n",
    "\n",
    "pandas2ri.activate()\n",
    "anndata2ri.activate()\n",
    "\n",
    "%load_ext rpy2.ipython"
   ]
  },
  {
   "cell_type": "code",
   "execution_count": 2,
   "metadata": {
    "scrolled": true
   },
   "outputs": [
    {
     "name": "stdout",
     "output_type": "stream",
     "text": [
      "\n",
      "    WARNING: The R package \"reticulate\" does not\n",
      "    consider that it could be called from a Python process. This\n",
      "    results in a quasi-obligatory segfault when rpy2 is evaluating\n",
      "    R code using it. On the hand, rpy2 is accounting for the\n",
      "    fact that it might already be running embedded in a Python\n",
      "    process. This is why:\n",
      "    - Python -> rpy2 -> R -> reticulate: crashes\n",
      "    - R -> reticulate -> Python -> rpy2: works\n",
      "\n",
      "    The issue with reticulate is tracked here:\n",
      "    https://github.com/rstudio/reticulate/issues/208\n",
      "    "
     ]
    }
   ],
   "source": [
    "%%R\n",
    "suppressPackageStartupMessages({\n",
    "    library(SingleCellExperiment)\n",
    "    library(Seurat)\n",
    "    library(Signac)\n",
    "})"
   ]
  },
  {
   "cell_type": "markdown",
   "metadata": {},
   "source": [
    "# Expressions"
   ]
  },
  {
   "cell_type": "code",
   "execution_count": 3,
   "metadata": {},
   "outputs": [
    {
     "data": {
      "text/plain": [
       "AnnData object with n_obs × n_vars = 10000 × 4000\n",
       "    obs: 'cell_type'\n",
       "    layers: 'count'"
      ]
     },
     "execution_count": 3,
     "metadata": {},
     "output_type": "execute_result"
    }
   ],
   "source": [
    "rna = sc.read('../../../data/10xpbmc10k-2020/expressions_hvg.h5ad')\n",
    "rna"
   ]
  },
  {
   "cell_type": "code",
   "execution_count": 4,
   "metadata": {},
   "outputs": [],
   "source": [
    "adata_ = ad.AnnData(rna.layers['count'])\n",
    "adata_.obs_names = rna.obs_names\n",
    "adata_.var_names = rna.var_names\n",
    "adata_.obs['cell_type'] = rna.obs['cell_type']"
   ]
  },
  {
   "cell_type": "code",
   "execution_count": 5,
   "metadata": {},
   "outputs": [
    {
     "name": "stdout",
     "output_type": "stream",
     "text": [
      "An object of class Seurat \n",
      "4000 features across 10000 samples within 1 assay \n",
      "Active assay: originalexp (4000 features, 0 variable features)\n"
     ]
    }
   ],
   "source": [
    "%%R -i adata_\n",
    "rna = as.Seurat(adata_, counts='X', data=NULL)\n",
    "rna"
   ]
  },
  {
   "cell_type": "markdown",
   "metadata": {},
   "source": [
    "# Peaks"
   ]
  },
  {
   "cell_type": "code",
   "execution_count": 6,
   "metadata": {},
   "outputs": [
    {
     "data": {
      "text/plain": [
       "AnnData object with n_obs × n_vars = 10000 × 40086\n",
       "    obs: 'cell_type'\n",
       "    layers: 'binary', 'cpm_norm', 'tf-idf'"
      ]
     },
     "execution_count": 6,
     "metadata": {},
     "output_type": "execute_result"
    }
   ],
   "source": [
    "atac = sc.read('../../../data/10xpbmc10k-2020/peaks.h5ad')\n",
    "atac"
   ]
  },
  {
   "cell_type": "code",
   "execution_count": 7,
   "metadata": {},
   "outputs": [],
   "source": [
    "adata_ = ad.AnnData(atac.layers['binary'])\n",
    "adata_.obs_names = atac.obs_names\n",
    "adata_.var_names = atac.var_names\n",
    "adata_.obs['cell_type'] = atac.obs['cell_type']"
   ]
  },
  {
   "cell_type": "code",
   "execution_count": 8,
   "metadata": {},
   "outputs": [
    {
     "name": "stdout",
     "output_type": "stream",
     "text": [
      "An object of class Seurat \n",
      "40086 features across 10000 samples within 1 assay \n",
      "Active assay: originalexp (40086 features, 0 variable features)\n"
     ]
    }
   ],
   "source": [
    "%%R -i adata_\n",
    "peaks = as.Seurat(adata_, counts='X', data=NULL)\n",
    "peaks"
   ]
  },
  {
   "cell_type": "markdown",
   "metadata": {},
   "source": [
    "# Run Seurat v4 WNN\n",
    "Following https://satijalab.org/seurat/v4.0/weighted_nearest_neighbor_analysis.html."
   ]
  },
  {
   "cell_type": "code",
   "execution_count": 10,
   "metadata": {
    "scrolled": true
   },
   "outputs": [
    {
     "name": "stderr",
     "output_type": "stream",
     "text": [
      "R[write to console]: Renaming default assay from originalexp to RNA\n",
      "\n"
     ]
    },
    {
     "name": "stdout",
     "output_type": "stream",
     "text": [
      "[1] \"Preprocessing RNA...\"\n"
     ]
    }
   ],
   "source": [
    "%%R\n",
    "rna <- RenameAssays(rna, originalexp=\"RNA\")\n",
    "bm <- rna\n",
    "bm[[\"ATAC\"]] <- CreateAssayObject(counts = peaks@assays$originalexp@counts)\n",
    "\n",
    "print('Preprocessing RNA...')\n",
    "DefaultAssay(bm) <- \"RNA\"\n",
    "bm <- SCTransform(bm, variable.features.n = 4000, verbose=FALSE)\n",
    "bm <- RunPCA(bm, verbose=FALSE)"
   ]
  },
  {
   "cell_type": "code",
   "execution_count": 11,
   "metadata": {},
   "outputs": [
    {
     "name": "stdout",
     "output_type": "stream",
     "text": [
      "[1] \"Preprocessing ATAC...\"\n"
     ]
    }
   ],
   "source": [
    "%%R\n",
    "print('Preprocessing ATAC...')\n",
    "DefaultAssay(bm) <- \"ATAC\"\n",
    "bm <- RunTFIDF(bm, verbose=FALSE)\n",
    "bm <- FindTopFeatures(bm, min.cutoff = 'q0', verbose=FALSE)\n",
    "bm <- RunSVD(bm, verbose=FALSE)"
   ]
  },
  {
   "cell_type": "code",
   "execution_count": 13,
   "metadata": {
    "scrolled": true
   },
   "outputs": [
    {
     "name": "stderr",
     "output_type": "stream",
     "text": [
      "R[write to console]: Error in x$.self$finalize() : attempt to apply non-function\n",
      "\n",
      "R[write to console]: Error in x$.self$finalize() : attempt to apply non-function\n",
      "\n"
     ]
    }
   ],
   "source": [
    "%%R\n",
    "bm <- FindMultiModalNeighbors(bm, reduction.list = list(\"pca\", \"lsi\"), \n",
    "                              dims.list = list(1:50, 2:50), modality.weight.name = \"RNA.weight\", verbose=FALSE)\n",
    "\n",
    "bm <- RunSPCA(bm, assay = 'SCT', graph = 'wsnn', npcs = 20, verbose=FALSE)"
   ]
  },
  {
   "cell_type": "code",
   "execution_count": 14,
   "metadata": {},
   "outputs": [],
   "source": [
    "%%R -o spca\n",
    "spca = Embeddings(object = bm[[\"spca\"]])"
   ]
  },
  {
   "cell_type": "code",
   "execution_count": 15,
   "metadata": {},
   "outputs": [
    {
     "data": {
      "text/plain": [
       "AnnData object with n_obs × n_vars = 10000 × 20\n",
       "    obs: 'cell_type'"
      ]
     },
     "execution_count": 15,
     "metadata": {},
     "output_type": "execute_result"
    }
   ],
   "source": [
    "adata = sc.AnnData(spca)\n",
    "adata.obs = adata_.obs\n",
    "adata"
   ]
  },
  {
   "cell_type": "code",
   "execution_count": 16,
   "metadata": {},
   "outputs": [],
   "source": [
    "%%R -o wnn\n",
    "wnn <- as.data.frame(summary(bm@graphs$wknn))"
   ]
  },
  {
   "cell_type": "code",
   "execution_count": 17,
   "metadata": {},
   "outputs": [],
   "source": [
    "wnn['i'] = wnn['i'] - 1\n",
    "wnn['j'] = wnn['j'] - 1"
   ]
  },
  {
   "cell_type": "code",
   "execution_count": 18,
   "metadata": {},
   "outputs": [],
   "source": [
    "adata.obsp['wnn_connectivities'] = scipy.sparse.coo_matrix((wnn['x'], (wnn['i'], wnn['j'])))\n",
    "adata.obsp['wnn_connectivities'] = scipy.sparse.csr_matrix(adata.obsp['wnn_connectivities'])"
   ]
  },
  {
   "cell_type": "code",
   "execution_count": 19,
   "metadata": {},
   "outputs": [],
   "source": [
    "adata.write('10x-seurat.h5ad')"
   ]
  },
  {
   "cell_type": "markdown",
   "metadata": {},
   "source": [
    "# Visualize results"
   ]
  },
  {
   "cell_type": "code",
   "execution_count": 20,
   "metadata": {},
   "outputs": [],
   "source": [
    "sc.pp.neighbors(adata)\n",
    "adata.obsp['connectivities'] = adata.obsp['wnn_connectivities'].copy()\n",
    "# delete distances to make sure we are not using anything calculated with sc.pp.neighbors()\n",
    "del adata.obsp['distances']\n",
    "sc.tl.umap(adata)"
   ]
  },
  {
   "cell_type": "code",
   "execution_count": 22,
   "metadata": {},
   "outputs": [
    {
     "name": "stdout",
     "output_type": "stream",
     "text": [
      "WARNING: saving figure to file figures/umap10x-seurat.png\n"
     ]
    },
    {
     "data": {
      "image/png": "[encoded data removed]",
      "text/plain": [
       "<Figure size 432x288 with 1 Axes>"
      ]
     },
     "metadata": {},
     "output_type": "display_data"
    }
   ],
   "source": [
    "sc.pl.umap(adata, color=['cell_type'], ncols=1, frameon=False, save='10x-seurat.png')"
   ]
  },
  {
   "cell_type": "code",
   "execution_count": 23,
   "metadata": {},
   "outputs": [
    {
     "name": "stdout",
     "output_type": "stream",
     "text": [
      "R version 4.1.3 (2022-03-10)\n",
      "Platform: x86_64-conda-linux-gnu (64-bit)\n",
      "Running under: CentOS Linux 7 (Core)\n",
      "\n",
      "Matrix products: default\n",
      "BLAS/LAPACK: /lustre/groups/ml01/workspace/anastasia.litinetskaya/miniconda3/envs/bridge/lib/libopenblasp-r0.3.20.so\n",
      "\n",
      "locale:\n",
      " [1] LC_CTYPE=C                 LC_NUMERIC=C              \n",
      " [3] LC_TIME=en_US.UTF-8        LC_COLLATE=en_US.UTF-8    \n",
      " [5] LC_MONETARY=en_US.UTF-8    LC_MESSAGES=en_US.UTF-8   \n",
      " [7] LC_PAPER=en_US.UTF-8       LC_NAME=C                 \n",
      " [9] LC_ADDRESS=C               LC_TELEPHONE=C            \n",
      "[11] LC_MEASUREMENT=en_US.UTF-8 LC_IDENTIFICATION=C       \n",
      "\n",
      "attached base packages:\n",
      "[1] stats4    tools     stats     graphics  grDevices utils     datasets \n",
      "[8] methods   base     \n",
      "\n",
      "other attached packages:\n",
      " [1] Matrix_1.4-1                Signac_1.7.0               \n",
      " [3] sp_1.5-0                    SeuratObject_4.1.0         \n",
      " [5] Seurat_4.1.1.9001           SingleCellExperiment_1.16.0\n",
      " [7] SummarizedExperiment_1.24.0 Biobase_2.54.0             \n",
      " [9] GenomicRanges_1.46.1        GenomeInfoDb_1.30.0        \n",
      "[11] IRanges_2.28.0              S4Vectors_0.32.3           \n",
      "[13] BiocGenerics_0.40.0         MatrixGenerics_1.6.0       \n",
      "[15] matrixStats_0.62.0         \n",
      "\n",
      "loaded via a namespace (and not attached):\n",
      "  [1] Rtsne_0.16             colorspace_2.0-3       deldir_1.0-6          \n",
      "  [4] ellipsis_0.3.2         ggridges_0.5.3         XVector_0.34.0        \n",
      "  [7] RcppHNSW_0.4.1         spatstat.data_2.2-0    leiden_0.4.2          \n",
      " [10] listenv_0.8.0          ggrepel_0.9.1          RSpectra_0.16-1       \n",
      " [13] fansi_1.0.3            codetools_0.2-18       splines_4.1.3         \n",
      " [16] RcppRoll_0.3.0         polyclip_1.10-0        jsonlite_1.8.0        \n",
      " [19] Rsamtools_2.10.0       ica_1.0-3              cluster_2.1.3         \n",
      " [22] png_0.1-7              rgeos_0.5-9            uwot_0.1.11           \n",
      " [25] spatstat.sparse_2.1-1  shiny_1.7.2            sctransform_0.3.3     \n",
      " [28] compiler_4.1.3         httr_1.4.3             assertthat_0.2.1      \n",
      " [31] fastmap_1.1.0          lazyeval_0.2.2         cli_3.3.0             \n",
      " [34] later_1.2.0            htmltools_0.5.3        igraph_1.3.1          \n",
      " [37] gtable_0.3.0           glue_1.6.2             GenomeInfoDbData_1.2.7\n",
      " [40] RANN_2.6.1             reshape2_1.4.4         dplyr_1.0.9           \n",
      " [43] fastmatch_1.1-3        Rcpp_1.0.9             scattermore_0.8       \n",
      " [46] Biostrings_2.62.0      vctrs_0.4.1            nlme_3.1-158          \n",
      " [49] progressr_0.10.1       lmtest_0.9-40          spatstat.random_2.2-0 \n",
      " [52] stringr_1.4.0          globals_0.15.1         mime_0.12             \n",
      " [55] miniUI_0.1.1.1         lifecycle_1.0.1        irlba_2.3.5           \n",
      " [58] goftest_1.2-3          future_1.27.0          zlibbioc_1.40.0       \n",
      " [61] MASS_7.3-58            zoo_1.8-10             scales_1.2.0          \n",
      " [64] spatstat.core_2.4-4    spatstat.utils_2.3-1   promises_1.2.0.1      \n",
      " [67] parallel_4.1.3         RColorBrewer_1.1-3     reticulate_1.25       \n",
      " [70] pbapply_1.5-0          gridExtra_2.3          ggplot2_3.3.6         \n",
      " [73] rpart_4.1.16           stringi_1.7.8          fastDummies_1.6.3     \n",
      " [76] BiocParallel_1.28.3    rlang_1.0.4            pkgconfig_2.0.3       \n",
      " [79] bitops_1.0-7           lattice_0.20-45        tensor_1.5            \n",
      " [82] ROCR_1.0-11            purrr_0.3.4            patchwork_1.1.1       \n",
      " [85] htmlwidgets_1.5.4      cowplot_1.1.1          tidyselect_1.1.2      \n",
      " [88] parallelly_1.32.1      RcppAnnoy_0.0.19       plyr_1.8.7            \n",
      " [91] magrittr_2.0.3         R6_2.5.1               generics_0.1.3        \n",
      " [94] DelayedArray_0.20.0    DBI_1.1.3              mgcv_1.8-40           \n",
      " [97] pillar_1.8.0           fitdistrplus_1.1-8     abind_1.4-5           \n",
      "[100] survival_3.3-1         RCurl_1.98-1.7         tibble_3.1.8          \n",
      "[103] future.apply_1.9.0     crayon_1.5.1           KernSmooth_2.23-20    \n",
      "[106] utf8_1.2.2             spatstat.geom_2.4-0    plotly_4.10.0         \n",
      "[109] grid_4.1.3             data.table_1.14.2      digest_0.6.29         \n",
      "[112] xtable_1.8-4           tidyr_1.2.0            httpuv_1.6.5          \n",
      "[115] munsell_0.5.0          viridisLite_0.4.0     \n"
     ]
    }
   ],
   "source": [
    "%%R\n",
    "sessionInfo()"
   ]
  },
  {
   "cell_type": "code",
   "execution_count": null,
   "metadata": {},
   "outputs": [],
   "source": []
  }
 ],
 "metadata": {
  "kernelspec": {
   "display_name": "Python 3 (ipykernel)",
   "language": "python",
   "name": "python3"
  },
  "language_info": {
   "codemirror_mode": {
    "name": "ipython",
    "version": 3
   },
   "file_extension": ".py",
   "mimetype": "text/x-python",
   "name": "python",
   "nbconvert_exporter": "python",
   "pygments_lexer": "ipython3",
   "version": "3.10.12"
  }
 },
 "nbformat": 4,
 "nbformat_minor": 4
}
