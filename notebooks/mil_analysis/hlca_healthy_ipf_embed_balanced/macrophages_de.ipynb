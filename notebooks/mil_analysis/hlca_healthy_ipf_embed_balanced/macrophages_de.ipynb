{
 "cells": [
  {
   "cell_type": "code",
   "execution_count": 1,
   "id": "4ebb0e91-e466-426e-a179-5471234cf36b",
   "metadata": {},
   "outputs": [],
   "source": [
    "x=1"
   ]
  },
  {
   "cell_type": "code",
   "execution_count": null,
   "id": "2d607809-a3be-427e-a807-913520cea00c",
   "metadata": {},
   "outputs": [],
   "source": [
    "import warnings\n",
    "\n",
    "warnings.filterwarnings(\"ignore\")\n",
    "\n",
    "import matplotlib.pyplot as plt\n",
    "import seaborn as sns\n",
    "import decoupler as dc\n",
    "import scanpy as sc\n",
    "import pandas as pd\n",
    "import numpy as np\n",
    "import random\n",
    "import sc_toolbox\n",
    "import pertpy \n",
    "\n",
    "import rpy2.rinterface_lib.callbacks\n",
    "import anndata2ri\n",
    "import logging\n",
    "\n",
    "from rpy2.robjects import pandas2ri\n",
    "from rpy2.robjects import r\n",
    "\n",
    "sc.settings.verbosity = 0\n",
    "rpy2.rinterface_lib.callbacks.logger.setLevel(logging.ERROR)\n",
    "\n",
    "pandas2ri.activate()\n",
    "anndata2ri.activate()\n",
    "\n",
    "%load_ext rpy2.ipython"
   ]
  },
  {
   "cell_type": "code",
   "execution_count": null,
   "id": "ee377ea5-fa7d-48ab-8212-016e335e14df",
   "metadata": {},
   "outputs": [],
   "source": [
    "%%R\n",
    "library(edgeR)\n",
    "library(MAST)"
   ]
  },
  {
   "cell_type": "code",
   "execution_count": null,
   "id": "d23fdb23-0ac1-4e51-a7d1-6cfad00f5e5a",
   "metadata": {},
   "outputs": [],
   "source": [
    "macrophages = sc.read('../../../pipeline/data/analysis/hlca_healthy_ipf_embed_balanced/macrophages.h5ad')\n",
    "macrophages"
   ]
  },
  {
   "cell_type": "code",
   "execution_count": null,
   "id": "9e270bfe-169f-45bb-b0d4-c991587805f0",
   "metadata": {},
   "outputs": [],
   "source": [
    "ipf_macrophages = macrophages[macrophages.obs['lung_condition_coarse'] == 'IPF'].copy()\n",
    "ipf_macrophages"
   ]
  },
  {
   "cell_type": "code",
   "execution_count": null,
   "id": "ed90a388-06dd-4e36-888f-5f1f088e0c9c",
   "metadata": {},
   "outputs": [],
   "source": [
    "threshold_idx = int(len(ipf_macrophages) * 0.9)\n",
    "threshold_value = sorted(ipf_macrophages.obs['cell_attn'])[threshold_idx]\n",
    "threshold_value"
   ]
  },
  {
   "cell_type": "code",
   "execution_count": null,
   "id": "ffefe1e0-5e40-4ffb-84e6-4f9efa62a4b2",
   "metadata": {},
   "outputs": [],
   "source": [
    "ipf_macrophages.obs['group'] = 'all'\n",
    "ipf_macrophages.obs.loc[ipf_macrophages.obs['cell_attn'] >= threshold_value, 'group'] = 'top'"
   ]
  },
  {
   "cell_type": "code",
   "execution_count": null,
   "id": "9f0ce52f-e2a7-4bc3-a966-f39c251f206a",
   "metadata": {},
   "outputs": [],
   "source": [
    "ipf_macrophages.obs['group'].value_counts()"
   ]
  },
  {
   "cell_type": "code",
   "execution_count": null,
   "id": "08254196-6856-4089-8194-81fd61be663a",
   "metadata": {},
   "outputs": [],
   "source": [
    "ipf_macrophages.obs['sample_group'] = ipf_macrophages.obs['sample'].astype('str') + '_' + ipf_macrophages.obs['group']\n",
    "ipf_macrophages.obs['sample_group'] = ipf_macrophages.obs['sample_group'].astype('category')"
   ]
  },
  {
   "cell_type": "code",
   "execution_count": null,
   "id": "d71fa8b0-dd98-4872-b140-4e96703729e3",
   "metadata": {},
   "outputs": [],
   "source": [
    "ipf_macrophages"
   ]
  },
  {
   "cell_type": "code",
   "execution_count": null,
   "id": "873c4437-e388-4da9-b4c4-58d61c32ec37",
   "metadata": {},
   "outputs": [],
   "source": [
    "samples_to_exclude = []\n",
    "for sample in np.unique(ipf_macrophages.obs[['sample_group']]):\n",
    "    sample_len = len(ipf_macrophages[ipf_macrophages.obs['sample_group'] == sample])\n",
    "    if sample_len < 10:\n",
    "        samples_to_exclude.append(sample)"
   ]
  },
  {
   "cell_type": "code",
   "execution_count": null,
   "id": "6fca2601-9651-4317-84ad-cb6ca12b6678",
   "metadata": {},
   "outputs": [],
   "source": [
    "samples_to_exclude"
   ]
  },
  {
   "cell_type": "code",
   "execution_count": null,
   "id": "74d3e2fc-415e-4c05-8a1e-28091ad093a4",
   "metadata": {},
   "outputs": [],
   "source": [
    "ipf_macrophages = ipf_macrophages[~ipf_macrophages.obs['sample_group'].isin(samples_to_exclude)].copy()\n",
    "ipf_macrophages"
   ]
  },
  {
   "cell_type": "code",
   "execution_count": null,
   "id": "b48d5893-f5ee-4f48-a381-8c42fe6242bd",
   "metadata": {},
   "outputs": [],
   "source": [
    "hlca = sc.read('../../../../snakemake/hlca/5fold/hlca_hyperparam/data/pp/hlca_hvg_pearson.h5ad')\n",
    "hlca"
   ]
  },
  {
   "cell_type": "code",
   "execution_count": null,
   "id": "df2cc158-8868-41bf-b269-2e4a005e950c",
   "metadata": {},
   "outputs": [],
   "source": [
    "hlca.X.data"
   ]
  },
  {
   "cell_type": "code",
   "execution_count": null,
   "id": "13be3328-9586-4ed1-9fd4-16f2d9b6bdcf",
   "metadata": {},
   "outputs": [],
   "source": [
    "ipf_macrophages.obsm['counts'] = hlca[ipf_macrophages.obs_names].X\n",
    "ipf_macrophages"
   ]
  },
  {
   "cell_type": "code",
   "execution_count": null,
   "id": "6686fb79-15b8-4fd7-86a4-a222f407f72a",
   "metadata": {},
   "outputs": [],
   "source": [
    "ipf_macrophages.X = ipf_macrophages.obsm['counts'].copy()\n",
    "ipf_macrophages.X.data"
   ]
  },
  {
   "cell_type": "code",
   "execution_count": null,
   "id": "d7ce8590-9ae1-4ab8-a03e-3e95eb936207",
   "metadata": {},
   "outputs": [],
   "source": [
    "len(np.unique(ipf_macrophages.obs['sample_group']))"
   ]
  },
  {
   "cell_type": "code",
   "execution_count": null,
   "id": "581ae3d2-725f-422a-b775-a02dcf7b8299",
   "metadata": {},
   "outputs": [],
   "source": [
    "adata_ = dc.get_pseudobulk(ipf_macrophages, 'sample', 'group', mode='sum', min_cells=-1, min_counts=-1)\n",
    "adata_                            "
   ]
  },
  {
   "cell_type": "code",
   "execution_count": null,
   "id": "2ded4b94-b05c-4c08-9042-4026d135ca38",
   "metadata": {},
   "outputs": [],
   "source": [
    "adata_.layers['counts'] = adata_.X.copy()"
   ]
  },
  {
   "cell_type": "code",
   "execution_count": null,
   "id": "5efe5e2e-cd66-4719-8e73-d73fb3fdbfd1",
   "metadata": {},
   "outputs": [],
   "source": [
    "sc.pp.normalize_total(adata_, target_sum=1e4)\n",
    "sc.pp.log1p(adata_)\n",
    "sc.pp.pca(adata_)"
   ]
  },
  {
   "cell_type": "code",
   "execution_count": null,
   "id": "4c2a4c32-9142-4b35-8745-b2fd871c4df7",
   "metadata": {},
   "outputs": [],
   "source": [
    "adata_.obs[\"lib_size\"] = np.sum(adata_.layers[\"counts\"], axis=1)\n",
    "adata_.obs[\"log_lib_size\"] = np.log(adata_.obs[\"lib_size\"])"
   ]
  },
  {
   "cell_type": "code",
   "execution_count": null,
   "id": "5a7d4e61-5a56-470d-83ef-4e83f6083295",
   "metadata": {
    "scrolled": true
   },
   "outputs": [],
   "source": [
    "sc.pl.pca(adata_, color=['study', 'lib_size', 'log_lib_size', 'group', \"3'_or_5'\"], ncols=1, size=300, frameon=False)"
   ]
  },
  {
   "cell_type": "code",
   "execution_count": null,
   "id": "71af5355-4364-4b42-9afe-77f3dcc9e2d7",
   "metadata": {},
   "outputs": [],
   "source": [
    "%%R\n",
    "fit_model <- function(adata_){\n",
    "    # create an edgeR object with counts and grouping factor\n",
    "    y <- DGEList(assay(adata_, \"X\"), group = colData(adata_)$group)\n",
    "    # filter out genes with low counts\n",
    "    print(\"Dimensions before subsetting:\")\n",
    "    print(dim(y))\n",
    "    print(\"\")\n",
    "    keep <- filterByExpr(y)\n",
    "    y <- y[keep, , keep.lib.sizes=FALSE]\n",
    "    print(\"Dimensions after subsetting:\")\n",
    "    print(dim(y))\n",
    "    print(\"\")\n",
    "    # normalize\n",
    "    y <- calcNormFactors(y)\n",
    "    # will add study covariate to the design matrix as there are still some batch effects\n",
    "    group <- colData(adata_)$group\n",
    "    replicate <- colData(adata_)$sample\n",
    "    study <- colData(adata_)$study\n",
    "    # create a design matrix: here we have multiple donors so also consider that in the design matrix\n",
    "    design <- model.matrix(~ 0 + group + replicate)\n",
    "    # estimate dispersion\n",
    "    y <- estimateDisp(y, design = design)\n",
    "    # fit the model\n",
    "    fit <- glmQLFit(y, design)\n",
    "    return(list(\"fit\"=fit, \"design\"=design, \"y\"=y))\n",
    "}"
   ]
  },
  {
   "cell_type": "code",
   "execution_count": null,
   "id": "aa789e17-3e76-4f50-be9c-51143cba358f",
   "metadata": {
    "scrolled": true
   },
   "outputs": [],
   "source": [
    "adata_.X = adata_.layers['counts'].copy()\n",
    "adata_.X"
   ]
  },
  {
   "cell_type": "code",
   "execution_count": null,
   "id": "12f6f259-790c-4887-a472-272d0ab43187",
   "metadata": {},
   "outputs": [],
   "source": [
    "macro = sc.AnnData(adata_.X, obs=adata_.obs[['group', 'sample_group', 'study', 'sample']])\n",
    "macro.var_names = adata_.var_names\n",
    "macro.obs['sample'] = macro.obs['sample'].str.replace('-', '_')\n",
    "macro"
   ]
  },
  {
   "cell_type": "code",
   "execution_count": null,
   "id": "ac275251-2d58-416f-a2e8-0552b50dcc82",
   "metadata": {},
   "outputs": [],
   "source": [
    "macro = macro.copy()\n",
    "macro"
   ]
  },
  {
   "cell_type": "code",
   "execution_count": null,
   "id": "12caa8c1-5e7a-4b4b-a127-ef4a564fee0e",
   "metadata": {},
   "outputs": [],
   "source": [
    "%%time\n",
    "%%R -i macro\n",
    "outs <-fit_model(macro)"
   ]
  },
  {
   "cell_type": "code",
   "execution_count": null,
   "id": "58216e30-3a50-4fb2-9e61-9da026dad72f",
   "metadata": {},
   "outputs": [],
   "source": [
    "%%R\n",
    "fit <- outs$fit\n",
    "y <- outs$y"
   ]
  },
  {
   "cell_type": "code",
   "execution_count": null,
   "id": "62b24fdb-22cc-4c7c-abff-dc17dcbfd966",
   "metadata": {},
   "outputs": [],
   "source": [
    "%%R\n",
    "plotMDS(y, col=ifelse(y$samples$group == \"all\", \"red\", \"blue\"))"
   ]
  },
  {
   "cell_type": "code",
   "execution_count": null,
   "id": "8c758bab-189e-4c58-a9bf-f0696a71236e",
   "metadata": {},
   "outputs": [],
   "source": [
    "%%R\n",
    "plotBCV(y)"
   ]
  },
  {
   "cell_type": "code",
   "execution_count": null,
   "id": "505fb6d3-6f81-4a14-aab1-efcd17404771",
   "metadata": {
    "scrolled": true
   },
   "outputs": [],
   "source": [
    "%%R\n",
    "colnames(y$design)"
   ]
  },
  {
   "cell_type": "code",
   "execution_count": null,
   "id": "a2d59cda-8dae-4e74-89a3-3b9c22ac8f55",
   "metadata": {},
   "outputs": [],
   "source": [
    "%%R -o tt\n",
    "myContrast <- makeContrasts(\"grouptop - groupall\", levels = y$design)\n",
    "qlf <- glmQLFTest(fit, contrast=myContrast)\n",
    "# get all of the DE genes and calculate Benjamini-Hochberg adjusted FDR\n",
    "tt <- topTags(qlf, n = Inf)\n",
    "tt <- tt$table"
   ]
  },
  {
   "cell_type": "code",
   "execution_count": null,
   "id": "4eb5858b-3ac1-4fce-9c16-1619244d50a0",
   "metadata": {},
   "outputs": [],
   "source": [
    "tt.shape"
   ]
  },
  {
   "cell_type": "code",
   "execution_count": null,
   "id": "4dd455dc-e8e3-4e5c-bf19-4dee52f278a4",
   "metadata": {},
   "outputs": [],
   "source": [
    "tt[:5]"
   ]
  },
  {
   "cell_type": "code",
   "execution_count": null,
   "id": "e4692c44-a3a6-4824-a985-5827f13d249c",
   "metadata": {},
   "outputs": [],
   "source": [
    "%%R\n",
    "plotSmear(qlf, de.tags = rownames(tt)[which(tt$FDR<0.01)])"
   ]
  },
  {
   "cell_type": "code",
   "execution_count": null,
   "id": "f76799f1-1ee2-461a-aa99-f85fa9c12cfc",
   "metadata": {
    "scrolled": true
   },
   "outputs": [],
   "source": [
    "tt_sign = tt[tt['FDR'] < 0.01]\n",
    "tt_sign"
   ]
  },
  {
   "cell_type": "code",
   "execution_count": null,
   "id": "ca34b654-f356-4df7-bfb9-fe3751c762fb",
   "metadata": {
    "scrolled": true
   },
   "outputs": [],
   "source": [
    "up_genes = list(tt_sign[tt_sign['logFC'] > 1.5].index)\n",
    "len(up_genes)"
   ]
  },
  {
   "cell_type": "code",
   "execution_count": null,
   "id": "b1229945-fb07-4989-899a-29ef45dff9a2",
   "metadata": {},
   "outputs": [],
   "source": [
    "macrophages_genes = {\n",
    "    'SPP1': 'ENSG00000118785',\n",
    "    'LIPA': 'ENSG00000107798',\n",
    "    'LPL': 'ENSG00000175445',\n",
    "    'FDX1': 'ENSG00000137714',\n",
    "    'SPARC': 'ENSG00000113140',\n",
    "    'MATK': 'ENSG00000007264',\n",
    "    'GPC4': 'ENSG00000076716',\n",
    "    'PALLD': 'ENSG00000129116',\n",
    "    'MMP7': 'ENSG00000137673',\n",
    "    'MMP9': 'ENSG00000100985',\n",
    "    'CHIT1': 'ENSG00000133063',\n",
    "    'CSTK': 'ENSG00000143387',\n",
    "    'CHI3L1': 'ENSG00000133048',\n",
    "    'CSF1': 'ENSG00000184371',\n",
    "    'FCMR': 'ENSG00000162894',\n",
    "    'TIMP3': 'ENSG00000100234',\n",
    "    'COL22A1': 'ENSG00000169436',\n",
    "    'SIGLEC15': 'ENSG00000197046',\n",
    "    'CCL2': 'ENSG00000108691',\n",
    "}"
   ]
  },
  {
   "cell_type": "code",
   "execution_count": null,
   "id": "04be6fa3-9db9-473a-99c5-66e1765c621d",
   "metadata": {},
   "outputs": [],
   "source": [
    "len(up_genes)"
   ]
  },
  {
   "cell_type": "code",
   "execution_count": null,
   "id": "d375a32d-4d84-4fd4-8d3b-20fc96d8d366",
   "metadata": {},
   "outputs": [],
   "source": [
    "len(set(up_genes).intersection(set(macrophages_genes.values())))"
   ]
  },
  {
   "cell_type": "code",
   "execution_count": null,
   "id": "eb6b8cff-1a8c-42c8-936a-ac28f0e75e85",
   "metadata": {
    "scrolled": true
   },
   "outputs": [],
   "source": [
    "set(up_genes) - set(macrophages_genes.values())"
   ]
  },
  {
   "cell_type": "markdown",
   "id": "678470ed-c04b-485d-8170-bb7eb0a119b5",
   "metadata": {},
   "source": [
    "{\n",
    "     'ENSG00000026751', SLAMF7\n",
    "     'ENSG00000102962', CCL22\n",
    "     'ENSG00000110092', CCND1\n",
    "     'ENSG00000122224', LY9\n",
    "     'ENSG00000125735', TNFSF14\n",
    "     'ENSG00000130513', GDF15\n",
    "     'ENSG00000138080', EMILIN1\n",
    "     'ENSG00000142173', COL6A2\n",
    "     'ENSG00000143320', CRABP2\n",
    "     'ENSG00000148773', MKI67\n",
    "     'ENSG00000151789', ZNF385D\n",
    "     'ENSG00000159674', SPON2\n",
    "     'ENSG00000164949', GEM\n",
    "     'ENSG00000167779', IGFBP2\n",
    "     'ENSG00000177469', CAVIN1\n",
    "     'ENSG00000262406', MMP12\n",
    "}"
   ]
  },
  {
   "cell_type": "code",
   "execution_count": null,
   "id": "865b7325-f821-4ca9-9fe6-2cd8bc48f533",
   "metadata": {},
   "outputs": [],
   "source": [
    "tt.to_csv('macrophages_top.csv')"
   ]
  },
  {
   "cell_type": "code",
   "execution_count": null,
   "id": "9018db2e-08c4-41f2-987c-4f4b659b78ea",
   "metadata": {},
   "outputs": [],
   "source": [
    "missig_up_genes = {\n",
    "    'ENSG00000069482': 'GAL', \n",
    "    # https://erj.ersjournals.com/content/erj/early/2018/08/09/13993003.00564-2018.full.pdf,\n",
    "    # flavonoid compound that attenuates inflammatory damage and prevents EMT (ath with epithelial cells) in BLM-induced PF mice\n",
    "    # <- macrophages are not eputhelial though\n",
    "    # https://www.mdpi.com/1420-3049/27/5/1481\n",
    "    # not sure\n",
    "    'ENSG00000102962': 'CCL22',\n",
    "    # https://pubmed.ncbi.nlm.nih.gov/19715610/ also not sure\n",
    "    'ENSG00000143320': 'CRABP2',\n",
    "    # yes in other cell types https://www.ncbi.nlm.nih.gov/pmc/articles/PMC9141193/\n",
    "}"
   ]
  },
  {
   "cell_type": "code",
   "execution_count": null,
   "id": "f42914ea-38f9-41a8-80c6-9eed186a4c34",
   "metadata": {},
   "outputs": [],
   "source": [
    "down_genes = list(tt_sign[tt_sign['logFC'] < 0].index)\n",
    "down_genes"
   ]
  },
  {
   "cell_type": "code",
   "execution_count": null,
   "id": "80edc935-dba7-44b9-b49a-5d0ddf7ec224",
   "metadata": {},
   "outputs": [],
   "source": [
    "len(set(down_genes).intersection(set(macrophages_genes.values())))"
   ]
  },
  {
   "cell_type": "code",
   "execution_count": null,
   "id": "e2aca870-37e3-45fc-ab43-c5724a8180f9",
   "metadata": {},
   "outputs": [],
   "source": [
    "ipf_macrophages"
   ]
  },
  {
   "cell_type": "code",
   "execution_count": null,
   "id": "27596f22-fed2-405d-b032-b5cf77dca676",
   "metadata": {
    "scrolled": true
   },
   "outputs": [],
   "source": [
    "# CCR4 = ENSG00000183813\n",
    "sc.pl.umap(ipf_macrophages, color=['ENSG00000183813', 'cell_attn', 'profibrotic_score', 'leiden', 'group'], ncols=1, frameon=False,)"
   ]
  },
  {
   "cell_type": "code",
   "execution_count": null,
   "id": "1220fd20-e9e1-4f2d-894c-c0325c86d812",
   "metadata": {},
   "outputs": [],
   "source": []
  },
  {
   "cell_type": "code",
   "execution_count": null,
   "id": "dd624fe8-39a7-4afc-ac4d-bcc7f3b437cf",
   "metadata": {},
   "outputs": [],
   "source": [
    "import matplotlib_venn"
   ]
  },
  {
   "cell_type": "code",
   "execution_count": null,
   "id": "e2b0e679-0353-4544-890a-eef163df6eb5",
   "metadata": {},
   "outputs": [],
   "source": [
    "matplotlib_venn.venn2(subsets = (10, 16, 9), set_labels = ('Profibrotic signature', 'Upregulated DE genes (high cell attention vs rest)'))"
   ]
  },
  {
   "cell_type": "markdown",
   "id": "6158ea9d-a0a5-4df8-9676-a52f9a15e72c",
   "metadata": {},
   "source": [
    "# cluster 12 vs rest of high attention cells"
   ]
  },
  {
   "cell_type": "code",
   "execution_count": null,
   "id": "f23b0ebc-fc28-43e0-899e-4c3bd2f1fbf9",
   "metadata": {},
   "outputs": [],
   "source": [
    "ipf_macrophages"
   ]
  },
  {
   "cell_type": "code",
   "execution_count": null,
   "id": "ea679055-3bb5-4806-bf66-2448055bee4d",
   "metadata": {},
   "outputs": [],
   "source": [
    "ipf_macrophages.obs['group'] = 'rest'\n",
    "ipf_macrophages.obs.loc[ipf_macrophages.obs['leiden'] == '12', 'group'] = 'leiden12'"
   ]
  },
  {
   "cell_type": "code",
   "execution_count": null,
   "id": "22af7d5e-9ec2-43d5-a972-43e3d9cef6d5",
   "metadata": {},
   "outputs": [],
   "source": [
    "ipf_macrophages.obs['group'].value_counts()"
   ]
  },
  {
   "cell_type": "code",
   "execution_count": null,
   "id": "3d6a55e3-2bc6-42f0-acb7-0b10dd310d4b",
   "metadata": {},
   "outputs": [],
   "source": [
    "ipf_macrophages.obs['sample_group'] = ipf_macrophages.obs['sample'].astype('str') + '_' + ipf_macrophages.obs['group']\n",
    "ipf_macrophages.obs['sample_group'] = ipf_macrophages.obs['sample_group'].astype('category')"
   ]
  },
  {
   "cell_type": "code",
   "execution_count": null,
   "id": "37ecc46c-8cc0-4931-88e1-160d8b1a293f",
   "metadata": {},
   "outputs": [],
   "source": [
    "ipf_macrophages"
   ]
  },
  {
   "cell_type": "code",
   "execution_count": null,
   "id": "071bb730-c5fd-4227-a3d3-a3c63317bf0e",
   "metadata": {
    "scrolled": true
   },
   "outputs": [],
   "source": [
    "samples_to_exclude = []\n",
    "for sample in np.unique(ipf_macrophages.obs[['sample_group']]):\n",
    "    sample_len = len(ipf_macrophages[ipf_macrophages.obs['sample_group'] == sample])\n",
    "    if sample_len < 10:\n",
    "        samples_to_exclude.append(sample)"
   ]
  },
  {
   "cell_type": "code",
   "execution_count": null,
   "id": "7f039f4f-60d9-48c2-b0eb-9d8654e6e15e",
   "metadata": {},
   "outputs": [],
   "source": [
    "samples_to_exclude"
   ]
  },
  {
   "cell_type": "code",
   "execution_count": null,
   "id": "c5316d9c-e02a-4c05-baf7-60ec33d3fe44",
   "metadata": {
    "scrolled": true
   },
   "outputs": [],
   "source": [
    "ipf_macrophages = ipf_macrophages[~ipf_macrophages.obs['sample_group'].isin(samples_to_exclude)].copy()\n",
    "ipf_macrophages"
   ]
  },
  {
   "cell_type": "code",
   "execution_count": null,
   "id": "50094032-f08f-427e-bd6d-122271c84e6a",
   "metadata": {},
   "outputs": [],
   "source": [
    "ipf_macrophages.X.data"
   ]
  },
  {
   "cell_type": "code",
   "execution_count": null,
   "id": "1d7db84b-19e7-4aea-9726-c70d45b40f0f",
   "metadata": {},
   "outputs": [],
   "source": [
    "ipf_macrophages.X = ipf_macrophages.obsm['counts'].copy()\n",
    "ipf_macrophages.X.data"
   ]
  },
  {
   "cell_type": "code",
   "execution_count": null,
   "id": "a8f72fc9-162c-41fa-8cc5-53ba0038a221",
   "metadata": {},
   "outputs": [],
   "source": [
    "len(np.unique(ipf_macrophages.obs['sample_group']))"
   ]
  },
  {
   "cell_type": "code",
   "execution_count": null,
   "id": "0eb2b782-e83d-4d68-a4c5-26c55e59adc8",
   "metadata": {},
   "outputs": [],
   "source": [
    "adata_ = dc.get_pseudobulk(ipf_macrophages, 'sample', 'group', mode='sum', min_cells=-1, min_counts=-1)\n",
    "adata_                            "
   ]
  },
  {
   "cell_type": "code",
   "execution_count": null,
   "id": "b8ee93a6-c0fe-470a-8bd2-352cb684d2fd",
   "metadata": {},
   "outputs": [],
   "source": [
    "adata_.layers['counts'] = adata_.X.copy()"
   ]
  },
  {
   "cell_type": "code",
   "execution_count": null,
   "id": "71edcf29-41b7-40b5-b1a7-64dda042f228",
   "metadata": {},
   "outputs": [],
   "source": [
    "macro = sc.AnnData(adata_.X, obs=adata_.obs[['group', 'sample_group', 'study', 'sample']])\n",
    "macro.var_names = adata_.var_names\n",
    "macro.obs['sample'] = macro.obs['sample'].str.replace('-', '_')\n",
    "macro"
   ]
  },
  {
   "cell_type": "code",
   "execution_count": null,
   "id": "9c7ff40d-f1e5-4655-8dcb-364382d110e2",
   "metadata": {},
   "outputs": [],
   "source": [
    "macro = macro.copy()\n",
    "macro"
   ]
  },
  {
   "cell_type": "code",
   "execution_count": null,
   "id": "12d0c0bd-75ed-488b-8ca8-0fa12c35fa78",
   "metadata": {},
   "outputs": [],
   "source": [
    "%%time\n",
    "%%R -i macro\n",
    "outs <-fit_model(macro)"
   ]
  },
  {
   "cell_type": "code",
   "execution_count": null,
   "id": "d2ed4b2d-203b-4713-8997-119749085107",
   "metadata": {},
   "outputs": [],
   "source": [
    "%%R\n",
    "fit <- outs$fit\n",
    "y <- outs$y"
   ]
  },
  {
   "cell_type": "code",
   "execution_count": null,
   "id": "ca94d73b-aa38-4a86-8bf8-89da22422c47",
   "metadata": {},
   "outputs": [],
   "source": [
    "%%R\n",
    "plotMDS(y, col=ifelse(y$samples$group == \"rest\", \"red\", \"blue\"))"
   ]
  },
  {
   "cell_type": "code",
   "execution_count": null,
   "id": "fe956266-9044-4324-9a6f-f788c0138347",
   "metadata": {},
   "outputs": [],
   "source": [
    "%%R\n",
    "plotBCV(y)"
   ]
  },
  {
   "cell_type": "code",
   "execution_count": null,
   "id": "9dd4c7ca-a6d9-4356-b63e-f853d0605fb9",
   "metadata": {
    "scrolled": true
   },
   "outputs": [],
   "source": [
    "%%R\n",
    "colnames(y$design)"
   ]
  },
  {
   "cell_type": "code",
   "execution_count": null,
   "id": "293be88a-cb5b-4019-96fc-073f299c8944",
   "metadata": {},
   "outputs": [],
   "source": [
    "%%R -o tt\n",
    "myContrast <- makeContrasts(\"groupleiden12 - grouprest\", levels = y$design)\n",
    "qlf <- glmQLFTest(fit, contrast=myContrast)\n",
    "# get all of the DE genes and calculate Benjamini-Hochberg adjusted FDR\n",
    "tt <- topTags(qlf, n = Inf)\n",
    "tt <- tt$table"
   ]
  },
  {
   "cell_type": "code",
   "execution_count": null,
   "id": "7a4755fd-62ac-4029-b945-968a1ae83311",
   "metadata": {},
   "outputs": [],
   "source": [
    "tt.shape"
   ]
  },
  {
   "cell_type": "code",
   "execution_count": null,
   "id": "f6c13a2e-1d90-4369-b320-60191bc2b172",
   "metadata": {},
   "outputs": [],
   "source": [
    "tt[:5]"
   ]
  },
  {
   "cell_type": "code",
   "execution_count": null,
   "id": "033c18b5-9487-445b-8045-33c937bd2276",
   "metadata": {},
   "outputs": [],
   "source": [
    "%%R\n",
    "plotSmear(qlf, de.tags = rownames(tt)[which(tt$FDR<0.05)])"
   ]
  },
  {
   "cell_type": "code",
   "execution_count": null,
   "id": "5127119f-121e-43de-967d-be0cb19c936b",
   "metadata": {},
   "outputs": [],
   "source": [
    "tt_sign = tt[tt['FDR'] < 0.05]\n",
    "tt_sign"
   ]
  },
  {
   "cell_type": "code",
   "execution_count": null,
   "id": "ed51ffae-77bd-49b4-bc3c-e19a1ff7bb7f",
   "metadata": {},
   "outputs": [],
   "source": [
    "tt_sign.sort_values(by='logFC')[-10:]"
   ]
  },
  {
   "cell_type": "code",
   "execution_count": null,
   "id": "eb8e1edb-dd67-4653-b739-e71a36f1016e",
   "metadata": {},
   "outputs": [],
   "source": [
    "# these guys are proliferating macrophages I think\n",
    "up_genes = {\n",
    "    'ENSG00000131747': 'TOP2A', #\n",
    "    'ENSG00000148773': 'MKI67', #\n",
    "}"
   ]
  },
  {
   "cell_type": "code",
   "execution_count": null,
   "id": "d71458cb-04f7-4943-823e-1c6836805f9a",
   "metadata": {},
   "outputs": [],
   "source": [
    "sc.pp.normalize_total(ipf_macrophages, target_sum=1e4)\n",
    "sc.pp.log1p(ipf_macrophages)"
   ]
  },
  {
   "cell_type": "code",
   "execution_count": null,
   "id": "2531a701-89bf-4435-a993-8e63d7473060",
   "metadata": {},
   "outputs": [],
   "source": [
    "ipf_macrophages"
   ]
  },
  {
   "cell_type": "code",
   "execution_count": null,
   "id": "8ee428bb-8f97-476e-b51e-84dd6b380ea0",
   "metadata": {},
   "outputs": [],
   "source": [
    "# SPP1 https://pubmed.ncbi.nlm.nih.gov/31221805/\n",
    "sc.pl.umap(ipf_macrophages, color=['leiden', 'lung_condition_coarse', 'ENSG00000118785'], ncols=1, frameon=False)"
   ]
  },
  {
   "cell_type": "code",
   "execution_count": null,
   "id": "da30a39d-5c72-41d9-9f1d-d795ab0b311b",
   "metadata": {},
   "outputs": [],
   "source": [
    "tt.to_csv('macrophages_leiden12.csv')"
   ]
  },
  {
   "cell_type": "code",
   "execution_count": null,
   "id": "a515c84c-34b2-4e87-9d9c-ce66adcd1a5d",
   "metadata": {},
   "outputs": [],
   "source": []
  }
 ],
 "metadata": {
  "kernelspec": {
   "display_name": "Python 3 (ipykernel)",
   "language": "python",
   "name": "python3"
  },
  "language_info": {
   "codemirror_mode": {
    "name": "ipython",
    "version": 3
   },
   "file_extension": ".py",
   "mimetype": "text/x-python",
   "name": "python",
   "nbconvert_exporter": "python",
   "pygments_lexer": "ipython3",
   "version": "3.10.12"
  }
 },
 "nbformat": 4,
 "nbformat_minor": 5
}
