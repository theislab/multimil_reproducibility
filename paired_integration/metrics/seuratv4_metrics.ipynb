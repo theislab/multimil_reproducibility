{
 "cells": [
  {
   "cell_type": "code",
   "execution_count": 1,
   "id": "57adc427",
   "metadata": {
    "scrolled": true
   },
   "outputs": [
    {
     "name": "stderr",
     "output_type": "stream",
     "text": [
      "During startup - Warning message:\n",
      "Setting LC_CTYPE failed, using \"C\" \n"
     ]
    }
   ],
   "source": [
    "import warnings\n",
    "warnings.simplefilter(action='ignore', category=FutureWarning)\n",
    "\n",
    "import scanpy as sc\n",
    "import scib"
   ]
  },
  {
   "cell_type": "markdown",
   "id": "bcd036ba",
   "metadata": {},
   "source": [
    "# NeurIPS CITE"
   ]
  },
  {
   "cell_type": "code",
   "execution_count": 2,
   "id": "8911fc5e",
   "metadata": {},
   "outputs": [
    {
     "data": {
      "text/plain": [
       "AnnData object with n_obs × n_vars = 90261 × 20\n",
       "    obs: 'cell_type', 'batch'\n",
       "    obsp: 'wnn_connectivities'"
      ]
     },
     "execution_count": 2,
     "metadata": {},
     "output_type": "execute_result"
    }
   ],
   "source": [
    "latent = sc.read('../neurips-cite-seurat.h5ad')\n",
    "latent"
   ]
  },
  {
   "cell_type": "code",
   "execution_count": 3,
   "id": "9555f939",
   "metadata": {},
   "outputs": [
    {
     "name": "stderr",
     "output_type": "stream",
     "text": [
      "/lustre/groups/ml01/workspace/anastasia.litinetskaya/miniconda3/envs/muon/lib/python3.9/site-packages/tqdm/auto.py:22: TqdmWarning: IProgress not found. Please update jupyter and ipywidgets. See https://ipywidgets.readthedocs.io/en/stable/user_install.html\n",
      "  from .autonotebook import tqdm as notebook_tqdm\n"
     ]
    }
   ],
   "source": [
    "latent.obsm['latent'] = latent.X.copy()\n",
    "sc.pp.neighbors(latent)\n",
    "latent.obsp['connectivities'] = latent.obsp['wnn_connectivities'].copy()\n",
    "# delete distances to make sure we are not using anything calculated with sc.pp.neighbors()\n",
    "del latent.obsp['distances']"
   ]
  },
  {
   "cell_type": "code",
   "execution_count": 4,
   "id": "3ed9e84f",
   "metadata": {},
   "outputs": [
    {
     "name": "stdout",
     "output_type": "stream",
     "text": [
      "NMI...\n",
      "ARI...\n",
      "Silhouette score...\n",
      "Isolated labels ASW...\n",
      "Graph connectivity...\n"
     ]
    },
    {
     "data": {
      "text/html": [
       "<div>\n",
       "<style scoped>\n",
       "    .dataframe tbody tr th:only-of-type {\n",
       "        vertical-align: middle;\n",
       "    }\n",
       "\n",
       "    .dataframe tbody tr th {\n",
       "        vertical-align: top;\n",
       "    }\n",
       "\n",
       "    .dataframe thead th {\n",
       "        text-align: right;\n",
       "    }\n",
       "</style>\n",
       "<table border=\"1\" class=\"dataframe\">\n",
       "  <thead>\n",
       "    <tr style=\"text-align: right;\">\n",
       "      <th></th>\n",
       "      <th>0</th>\n",
       "    </tr>\n",
       "  </thead>\n",
       "  <tbody>\n",
       "    <tr>\n",
       "      <th>NMI_cluster/label</th>\n",
       "      <td>0.759189</td>\n",
       "    </tr>\n",
       "    <tr>\n",
       "      <th>ARI_cluster/label</th>\n",
       "      <td>0.655493</td>\n",
       "    </tr>\n",
       "    <tr>\n",
       "      <th>ASW_label</th>\n",
       "      <td>0.573505</td>\n",
       "    </tr>\n",
       "    <tr>\n",
       "      <th>ASW_label/batch</th>\n",
       "      <td>0.798508</td>\n",
       "    </tr>\n",
       "    <tr>\n",
       "      <th>PCR_batch</th>\n",
       "      <td>NaN</td>\n",
       "    </tr>\n",
       "    <tr>\n",
       "      <th>cell_cycle_conservation</th>\n",
       "      <td>NaN</td>\n",
       "    </tr>\n",
       "    <tr>\n",
       "      <th>isolated_label_F1</th>\n",
       "      <td>NaN</td>\n",
       "    </tr>\n",
       "    <tr>\n",
       "      <th>isolated_label_silhouette</th>\n",
       "      <td>0.508281</td>\n",
       "    </tr>\n",
       "    <tr>\n",
       "      <th>graph_conn</th>\n",
       "      <td>0.915899</td>\n",
       "    </tr>\n",
       "    <tr>\n",
       "      <th>kBET</th>\n",
       "      <td>NaN</td>\n",
       "    </tr>\n",
       "    <tr>\n",
       "      <th>iLISI</th>\n",
       "      <td>NaN</td>\n",
       "    </tr>\n",
       "    <tr>\n",
       "      <th>cLISI</th>\n",
       "      <td>NaN</td>\n",
       "    </tr>\n",
       "    <tr>\n",
       "      <th>hvg_overlap</th>\n",
       "      <td>NaN</td>\n",
       "    </tr>\n",
       "    <tr>\n",
       "      <th>trajectory</th>\n",
       "      <td>NaN</td>\n",
       "    </tr>\n",
       "  </tbody>\n",
       "</table>\n",
       "</div>"
      ],
      "text/plain": [
       "                                  0\n",
       "NMI_cluster/label          0.759189\n",
       "ARI_cluster/label          0.655493\n",
       "ASW_label                  0.573505\n",
       "ASW_label/batch            0.798508\n",
       "PCR_batch                       NaN\n",
       "cell_cycle_conservation         NaN\n",
       "isolated_label_F1               NaN\n",
       "isolated_label_silhouette  0.508281\n",
       "graph_conn                 0.915899\n",
       "kBET                            NaN\n",
       "iLISI                           NaN\n",
       "cLISI                           NaN\n",
       "hvg_overlap                     NaN\n",
       "trajectory                      NaN"
      ]
     },
     "execution_count": 4,
     "metadata": {},
     "output_type": "execute_result"
    }
   ],
   "source": [
    "metrics = scib.metrics.metrics(\n",
    "    latent, \n",
    "    latent, \n",
    "    batch_key='batch', \n",
    "    label_key='cell_type', \n",
    "    embed='latent',\n",
    "    ari_=True,\n",
    "    nmi_=True,\n",
    "    silhouette_=True,\n",
    "    graph_conn_=True,\n",
    "    isolated_labels_asw_=True,\n",
    ")\n",
    "metrics"
   ]
  },
  {
   "cell_type": "code",
   "execution_count": 5,
   "id": "aeb7d0e8",
   "metadata": {},
   "outputs": [],
   "source": [
    "metrics.to_csv('metrics_wnn_neurips_cite.csv')"
   ]
  },
  {
   "cell_type": "markdown",
   "id": "1645de8c",
   "metadata": {},
   "source": [
    "# NeurIPS multiome"
   ]
  },
  {
   "cell_type": "code",
   "execution_count": 6,
   "id": "a30ec87b",
   "metadata": {},
   "outputs": [
    {
     "data": {
      "text/plain": [
       "AnnData object with n_obs × n_vars = 69249 × 20\n",
       "    obs: 'cell_type', 'batch'\n",
       "    obsp: 'wnn_connectivities'"
      ]
     },
     "execution_count": 6,
     "metadata": {},
     "output_type": "execute_result"
    }
   ],
   "source": [
    "latent = sc.read('../neurips-multiome-seurat.h5ad')\n",
    "latent"
   ]
  },
  {
   "cell_type": "code",
   "execution_count": 7,
   "id": "a3832240",
   "metadata": {},
   "outputs": [],
   "source": [
    "latent.obsm['latent'] = latent.X.copy()\n",
    "sc.pp.neighbors(latent)\n",
    "latent.obsp['connectivities'] = latent.obsp['wnn_connectivities'].copy()\n",
    "# delete distances to make sure we are not using anything calculated with sc.pp.neighbors()\n",
    "del latent.obsp['distances']"
   ]
  },
  {
   "cell_type": "code",
   "execution_count": 8,
   "id": "2f9fe780",
   "metadata": {},
   "outputs": [
    {
     "name": "stdout",
     "output_type": "stream",
     "text": [
      "NMI...\n",
      "ARI...\n",
      "Silhouette score...\n",
      "Isolated labels ASW...\n",
      "Graph connectivity...\n"
     ]
    },
    {
     "data": {
      "text/html": [
       "<div>\n",
       "<style scoped>\n",
       "    .dataframe tbody tr th:only-of-type {\n",
       "        vertical-align: middle;\n",
       "    }\n",
       "\n",
       "    .dataframe tbody tr th {\n",
       "        vertical-align: top;\n",
       "    }\n",
       "\n",
       "    .dataframe thead th {\n",
       "        text-align: right;\n",
       "    }\n",
       "</style>\n",
       "<table border=\"1\" class=\"dataframe\">\n",
       "  <thead>\n",
       "    <tr style=\"text-align: right;\">\n",
       "      <th></th>\n",
       "      <th>0</th>\n",
       "    </tr>\n",
       "  </thead>\n",
       "  <tbody>\n",
       "    <tr>\n",
       "      <th>NMI_cluster/label</th>\n",
       "      <td>0.770050</td>\n",
       "    </tr>\n",
       "    <tr>\n",
       "      <th>ARI_cluster/label</th>\n",
       "      <td>0.670767</td>\n",
       "    </tr>\n",
       "    <tr>\n",
       "      <th>ASW_label</th>\n",
       "      <td>0.590048</td>\n",
       "    </tr>\n",
       "    <tr>\n",
       "      <th>ASW_label/batch</th>\n",
       "      <td>0.805851</td>\n",
       "    </tr>\n",
       "    <tr>\n",
       "      <th>PCR_batch</th>\n",
       "      <td>NaN</td>\n",
       "    </tr>\n",
       "    <tr>\n",
       "      <th>cell_cycle_conservation</th>\n",
       "      <td>NaN</td>\n",
       "    </tr>\n",
       "    <tr>\n",
       "      <th>isolated_label_F1</th>\n",
       "      <td>NaN</td>\n",
       "    </tr>\n",
       "    <tr>\n",
       "      <th>isolated_label_silhouette</th>\n",
       "      <td>0.394926</td>\n",
       "    </tr>\n",
       "    <tr>\n",
       "      <th>graph_conn</th>\n",
       "      <td>0.970181</td>\n",
       "    </tr>\n",
       "    <tr>\n",
       "      <th>kBET</th>\n",
       "      <td>NaN</td>\n",
       "    </tr>\n",
       "    <tr>\n",
       "      <th>iLISI</th>\n",
       "      <td>NaN</td>\n",
       "    </tr>\n",
       "    <tr>\n",
       "      <th>cLISI</th>\n",
       "      <td>NaN</td>\n",
       "    </tr>\n",
       "    <tr>\n",
       "      <th>hvg_overlap</th>\n",
       "      <td>NaN</td>\n",
       "    </tr>\n",
       "    <tr>\n",
       "      <th>trajectory</th>\n",
       "      <td>NaN</td>\n",
       "    </tr>\n",
       "  </tbody>\n",
       "</table>\n",
       "</div>"
      ],
      "text/plain": [
       "                                  0\n",
       "NMI_cluster/label          0.770050\n",
       "ARI_cluster/label          0.670767\n",
       "ASW_label                  0.590048\n",
       "ASW_label/batch            0.805851\n",
       "PCR_batch                       NaN\n",
       "cell_cycle_conservation         NaN\n",
       "isolated_label_F1               NaN\n",
       "isolated_label_silhouette  0.394926\n",
       "graph_conn                 0.970181\n",
       "kBET                            NaN\n",
       "iLISI                           NaN\n",
       "cLISI                           NaN\n",
       "hvg_overlap                     NaN\n",
       "trajectory                      NaN"
      ]
     },
     "execution_count": 8,
     "metadata": {},
     "output_type": "execute_result"
    }
   ],
   "source": [
    "metrics = scib.metrics.metrics(\n",
    "    latent, \n",
    "    latent, \n",
    "    batch_key='batch', \n",
    "    label_key='cell_type', \n",
    "    embed='latent',\n",
    "    ari_=True,\n",
    "    nmi_=True,\n",
    "    silhouette_=True,\n",
    "    graph_conn_=True,\n",
    "    isolated_labels_asw_=True,\n",
    ")\n",
    "metrics"
   ]
  },
  {
   "cell_type": "code",
   "execution_count": 9,
   "id": "70680e1c",
   "metadata": {},
   "outputs": [],
   "source": [
    "metrics.to_csv('metrics_wnn_neurips_multiome.csv')"
   ]
  },
  {
   "cell_type": "markdown",
   "id": "dee7fc1f",
   "metadata": {},
   "source": [
    "# 10x"
   ]
  },
  {
   "cell_type": "code",
   "execution_count": 10,
   "id": "269bc1c0",
   "metadata": {},
   "outputs": [
    {
     "data": {
      "text/plain": [
       "AnnData object with n_obs × n_vars = 10000 × 20\n",
       "    obs: 'cell_type'\n",
       "    obsp: 'wnn_connectivities'"
      ]
     },
     "execution_count": 10,
     "metadata": {},
     "output_type": "execute_result"
    }
   ],
   "source": [
    "latent = sc.read('../Seuratv4/10x-seurat.h5ad')\n",
    "latent"
   ]
  },
  {
   "cell_type": "code",
   "execution_count": 11,
   "id": "b2103257",
   "metadata": {},
   "outputs": [
    {
     "name": "stderr",
     "output_type": "stream",
     "text": [
      "/tmp/ipykernel_209310/2843794883.py:3: FutureWarning: Slicing a positional slice with .loc is not supported, and will raise TypeError in a future version.  Use .loc with labels or .iloc with positions instead.\n",
      "  latent.obs.loc[:3000, 'batch'] = '1'\n"
     ]
    }
   ],
   "source": [
    "# fake batches, will ignore later\n",
    "latent.obs['batch'] = '0'\n",
    "latent.obs.loc[:3000, 'batch'] = '1'"
   ]
  },
  {
   "cell_type": "code",
   "execution_count": 12,
   "id": "81a9c78a",
   "metadata": {},
   "outputs": [
    {
     "name": "stderr",
     "output_type": "stream",
     "text": [
      "/lustre/groups/ml01/workspace/anastasia.litinetskaya/miniconda3/envs/muon/lib/python3.9/site-packages/tqdm/auto.py:22: TqdmWarning: IProgress not found. Please update jupyter and ipywidgets. See https://ipywidgets.readthedocs.io/en/stable/user_install.html\n",
      "  from .autonotebook import tqdm as notebook_tqdm\n"
     ]
    }
   ],
   "source": [
    "latent.obsm['latent'] = latent.X.copy()\n",
    "sc.pp.neighbors(latent)\n",
    "latent.obsp['connectivities'] = latent.obsp['wnn_connectivities'].copy()\n",
    "# delete distances to make sure we are not using anything calculated with sc.pp.neighbors()\n",
    "del latent.obsp['distances']"
   ]
  },
  {
   "cell_type": "code",
   "execution_count": 13,
   "id": "96829036",
   "metadata": {
    "scrolled": true
   },
   "outputs": [
    {
     "name": "stdout",
     "output_type": "stream",
     "text": [
      "NMI...\n",
      "ARI...\n",
      "Silhouette score...\n",
      "Isolated labels ASW...\n",
      "Graph connectivity...\n"
     ]
    },
    {
     "data": {
      "text/html": [
       "<div>\n",
       "<style scoped>\n",
       "    .dataframe tbody tr th:only-of-type {\n",
       "        vertical-align: middle;\n",
       "    }\n",
       "\n",
       "    .dataframe tbody tr th {\n",
       "        vertical-align: top;\n",
       "    }\n",
       "\n",
       "    .dataframe thead th {\n",
       "        text-align: right;\n",
       "    }\n",
       "</style>\n",
       "<table border=\"1\" class=\"dataframe\">\n",
       "  <thead>\n",
       "    <tr style=\"text-align: right;\">\n",
       "      <th></th>\n",
       "      <th>0</th>\n",
       "    </tr>\n",
       "  </thead>\n",
       "  <tbody>\n",
       "    <tr>\n",
       "      <th>NMI_cluster/label</th>\n",
       "      <td>0.816870</td>\n",
       "    </tr>\n",
       "    <tr>\n",
       "      <th>ARI_cluster/label</th>\n",
       "      <td>0.749073</td>\n",
       "    </tr>\n",
       "    <tr>\n",
       "      <th>ASW_label</th>\n",
       "      <td>0.605977</td>\n",
       "    </tr>\n",
       "    <tr>\n",
       "      <th>ASW_label/batch</th>\n",
       "      <td>0.968760</td>\n",
       "    </tr>\n",
       "    <tr>\n",
       "      <th>PCR_batch</th>\n",
       "      <td>NaN</td>\n",
       "    </tr>\n",
       "    <tr>\n",
       "      <th>cell_cycle_conservation</th>\n",
       "      <td>NaN</td>\n",
       "    </tr>\n",
       "    <tr>\n",
       "      <th>isolated_label_F1</th>\n",
       "      <td>NaN</td>\n",
       "    </tr>\n",
       "    <tr>\n",
       "      <th>isolated_label_silhouette</th>\n",
       "      <td>0.579861</td>\n",
       "    </tr>\n",
       "    <tr>\n",
       "      <th>graph_conn</th>\n",
       "      <td>0.974883</td>\n",
       "    </tr>\n",
       "    <tr>\n",
       "      <th>kBET</th>\n",
       "      <td>NaN</td>\n",
       "    </tr>\n",
       "    <tr>\n",
       "      <th>iLISI</th>\n",
       "      <td>NaN</td>\n",
       "    </tr>\n",
       "    <tr>\n",
       "      <th>cLISI</th>\n",
       "      <td>NaN</td>\n",
       "    </tr>\n",
       "    <tr>\n",
       "      <th>hvg_overlap</th>\n",
       "      <td>NaN</td>\n",
       "    </tr>\n",
       "    <tr>\n",
       "      <th>trajectory</th>\n",
       "      <td>NaN</td>\n",
       "    </tr>\n",
       "  </tbody>\n",
       "</table>\n",
       "</div>"
      ],
      "text/plain": [
       "                                  0\n",
       "NMI_cluster/label          0.816870\n",
       "ARI_cluster/label          0.749073\n",
       "ASW_label                  0.605977\n",
       "ASW_label/batch            0.968760\n",
       "PCR_batch                       NaN\n",
       "cell_cycle_conservation         NaN\n",
       "isolated_label_F1               NaN\n",
       "isolated_label_silhouette  0.579861\n",
       "graph_conn                 0.974883\n",
       "kBET                            NaN\n",
       "iLISI                           NaN\n",
       "cLISI                           NaN\n",
       "hvg_overlap                     NaN\n",
       "trajectory                      NaN"
      ]
     },
     "execution_count": 13,
     "metadata": {},
     "output_type": "execute_result"
    }
   ],
   "source": [
    "metrics = scib.metrics.metrics(\n",
    "    latent, \n",
    "    latent, \n",
    "    batch_key='batch', \n",
    "    label_key='cell_type', \n",
    "    embed='latent',\n",
    "    ari_=True,\n",
    "    nmi_=True,\n",
    "    silhouette_=True,\n",
    "    graph_conn_=True,\n",
    "    isolated_labels_asw_=True,\n",
    ")\n",
    "metrics"
   ]
  },
  {
   "cell_type": "code",
   "execution_count": 14,
   "id": "a4413307",
   "metadata": {},
   "outputs": [],
   "source": [
    "metrics.to_csv('metrics_wnn_10x.csv')"
   ]
  },
  {
   "cell_type": "markdown",
   "id": "d849e79c",
   "metadata": {},
   "source": [
    "# Hao CITE-seq"
   ]
  },
  {
   "cell_type": "code",
   "execution_count": 15,
   "id": "7999a7c5",
   "metadata": {},
   "outputs": [
    {
     "data": {
      "text/plain": [
       "AnnData object with n_obs × n_vars = 149926 × 20\n",
       "    obs: 'cell_type', 'batch'\n",
       "    obsp: 'wnn_connectivities'"
      ]
     },
     "execution_count": 15,
     "metadata": {},
     "output_type": "execute_result"
    }
   ],
   "source": [
    "latent = sc.read('../Seuratv4/hao-seurat.h5ad')\n",
    "latent"
   ]
  },
  {
   "cell_type": "code",
   "execution_count": 16,
   "id": "f8b0d1cc",
   "metadata": {},
   "outputs": [],
   "source": [
    "latent.obsm['latent'] = latent.X.copy()\n",
    "sc.pp.neighbors(latent)\n",
    "latent.obsp['connectivities'] = latent.obsp['wnn_connectivities'].copy()\n",
    "# delete distances to make sure we are not using anything calculated with sc.pp.neighbors()\n",
    "del latent.obsp['distances']"
   ]
  },
  {
   "cell_type": "code",
   "execution_count": 17,
   "id": "f7f84397",
   "metadata": {},
   "outputs": [
    {
     "name": "stdout",
     "output_type": "stream",
     "text": [
      "NMI...\n",
      "ARI...\n",
      "Silhouette score...\n",
      "Isolated labels ASW...\n",
      "Graph connectivity...\n"
     ]
    },
    {
     "data": {
      "text/html": [
       "<div>\n",
       "<style scoped>\n",
       "    .dataframe tbody tr th:only-of-type {\n",
       "        vertical-align: middle;\n",
       "    }\n",
       "\n",
       "    .dataframe tbody tr th {\n",
       "        vertical-align: top;\n",
       "    }\n",
       "\n",
       "    .dataframe thead th {\n",
       "        text-align: right;\n",
       "    }\n",
       "</style>\n",
       "<table border=\"1\" class=\"dataframe\">\n",
       "  <thead>\n",
       "    <tr style=\"text-align: right;\">\n",
       "      <th></th>\n",
       "      <th>0</th>\n",
       "    </tr>\n",
       "  </thead>\n",
       "  <tbody>\n",
       "    <tr>\n",
       "      <th>NMI_cluster/label</th>\n",
       "      <td>0.841681</td>\n",
       "    </tr>\n",
       "    <tr>\n",
       "      <th>ARI_cluster/label</th>\n",
       "      <td>0.710358</td>\n",
       "    </tr>\n",
       "    <tr>\n",
       "      <th>ASW_label</th>\n",
       "      <td>0.571911</td>\n",
       "    </tr>\n",
       "    <tr>\n",
       "      <th>ASW_label/batch</th>\n",
       "      <td>0.877684</td>\n",
       "    </tr>\n",
       "    <tr>\n",
       "      <th>PCR_batch</th>\n",
       "      <td>NaN</td>\n",
       "    </tr>\n",
       "    <tr>\n",
       "      <th>cell_cycle_conservation</th>\n",
       "      <td>NaN</td>\n",
       "    </tr>\n",
       "    <tr>\n",
       "      <th>isolated_label_F1</th>\n",
       "      <td>NaN</td>\n",
       "    </tr>\n",
       "    <tr>\n",
       "      <th>isolated_label_silhouette</th>\n",
       "      <td>0.560389</td>\n",
       "    </tr>\n",
       "    <tr>\n",
       "      <th>graph_conn</th>\n",
       "      <td>0.983990</td>\n",
       "    </tr>\n",
       "    <tr>\n",
       "      <th>kBET</th>\n",
       "      <td>NaN</td>\n",
       "    </tr>\n",
       "    <tr>\n",
       "      <th>iLISI</th>\n",
       "      <td>NaN</td>\n",
       "    </tr>\n",
       "    <tr>\n",
       "      <th>cLISI</th>\n",
       "      <td>NaN</td>\n",
       "    </tr>\n",
       "    <tr>\n",
       "      <th>hvg_overlap</th>\n",
       "      <td>NaN</td>\n",
       "    </tr>\n",
       "    <tr>\n",
       "      <th>trajectory</th>\n",
       "      <td>NaN</td>\n",
       "    </tr>\n",
       "  </tbody>\n",
       "</table>\n",
       "</div>"
      ],
      "text/plain": [
       "                                  0\n",
       "NMI_cluster/label          0.841681\n",
       "ARI_cluster/label          0.710358\n",
       "ASW_label                  0.571911\n",
       "ASW_label/batch            0.877684\n",
       "PCR_batch                       NaN\n",
       "cell_cycle_conservation         NaN\n",
       "isolated_label_F1               NaN\n",
       "isolated_label_silhouette  0.560389\n",
       "graph_conn                 0.983990\n",
       "kBET                            NaN\n",
       "iLISI                           NaN\n",
       "cLISI                           NaN\n",
       "hvg_overlap                     NaN\n",
       "trajectory                      NaN"
      ]
     },
     "execution_count": 17,
     "metadata": {},
     "output_type": "execute_result"
    }
   ],
   "source": [
    "metrics = scib.metrics.metrics(\n",
    "    latent, \n",
    "    latent, \n",
    "    batch_key='batch', \n",
    "    label_key='cell_type', \n",
    "    embed='latent',\n",
    "    ari_=True,\n",
    "    nmi_=True,\n",
    "    silhouette_=True,\n",
    "    graph_conn_=True,\n",
    "    isolated_labels_asw_=True,\n",
    ")\n",
    "metrics"
   ]
  },
  {
   "cell_type": "code",
   "execution_count": 18,
   "id": "a22301dd",
   "metadata": {},
   "outputs": [],
   "source": [
    "metrics.to_csv('metrics_wnn_hao.csv')"
   ]
  },
  {
   "cell_type": "code",
   "execution_count": null,
   "id": "68d245ad",
   "metadata": {},
   "outputs": [],
   "source": []
  }
 ],
 "metadata": {
  "kernelspec": {
   "display_name": "Python 3 (ipykernel)",
   "language": "python",
   "name": "python3"
  },
  "language_info": {
   "codemirror_mode": {
    "name": "ipython",
    "version": 3
   },
   "file_extension": ".py",
   "mimetype": "text/x-python",
   "name": "python",
   "nbconvert_exporter": "python",
   "pygments_lexer": "ipython3",
   "version": "3.10.12"
  }
 },
 "nbformat": 4,
 "nbformat_minor": 5
}
