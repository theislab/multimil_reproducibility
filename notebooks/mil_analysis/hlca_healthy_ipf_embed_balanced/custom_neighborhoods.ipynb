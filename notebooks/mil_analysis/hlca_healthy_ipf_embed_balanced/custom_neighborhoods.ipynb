{
 "cells": [
  {
   "cell_type": "code",
   "execution_count": 35,
   "id": "ca0e4ba0-703b-4993-98c6-256da0339448",
   "metadata": {},
   "outputs": [],
   "source": [
    "import scanpy as sc\n",
    "import numpy as np\n",
    "import random"
   ]
  },
  {
   "cell_type": "code",
   "execution_count": 111,
   "id": "2f7de0f7-b497-4b64-9c96-fbabb18fbae2",
   "metadata": {},
   "outputs": [
    {
     "data": {
      "text/plain": [
       "AnnData object with n_obs × n_vars = 10000 × 30\n",
       "    obs: \"3'_or_5'\", 'BMI', 'age_or_mean_of_age_range', 'age_range', 'anatomical_region_ccf_score', 'ancestry', 'ann_coarse_for_GWAS_and_modeling', 'ann_finest_level', 'ann_level_1', 'ann_level_2', 'ann_level_3', 'ann_level_4', 'ann_level_5', 'assay', 'cause_of_death', 'cell_type', 'core_or_extension', 'dataset', 'development_stage', 'disease', 'donor_id', 'fresh_or_frozen', 'log10_total_counts', 'lung_condition', 'mixed_ancestry', 'original_ann_level_1', 'original_ann_level_2', 'original_ann_level_3', 'original_ann_level_4', 'original_ann_level_5', 'original_ann_nonharmonized', 'reannotation_type', 'sample', 'scanvi_label', 'sequencing_platform', 'sex', 'smoking_status', 'study', 'subject_type', 'suspension_type', 'tissue', 'tissue_coarse_unharmonized', 'tissue_detailed_unharmonized', 'tissue_dissociation_protocol', 'tissue_level_2', 'tissue_level_3', 'tissue_sampling_method', 'total_counts', 'transf_ann_level_1_label', 'transf_ann_level_1_uncert', 'transf_ann_level_2_label', 'transf_ann_level_2_uncert', 'transf_ann_level_3_label', 'transf_ann_level_3_uncert', 'transf_ann_level_4_label', 'transf_ann_level_4_uncert', 'transf_ann_level_5_label', 'transf_ann_level_5_uncert', 'lung_condition_coarse', 'split0', 'split1', 'split2', 'split3', 'split4', 'group', 'cell_attn_0', 'cell_attn_1', 'cell_attn_2', 'cell_attn_3', 'cell_attn_4', 'cell_attn', 'SEACell'\n",
       "    uns: 'neighbors', 'transf_ann_level_3_label_colors', 'umap'\n",
       "    obsm: 'X', 'X_umap', 'latent_0', 'latent_1', 'latent_2', 'latent_3', 'latent_4'\n",
       "    obsp: 'connectivities', 'distances'"
      ]
     },
     "execution_count": 111,
     "metadata": {},
     "output_type": "execute_result"
    }
   ],
   "source": [
    "ipf = sc.read('../../../pipeline/data/analysis/hlca_healthy_ipf_embed_balanced/ipf_random_subset10k_seacells.h5ad')\n",
    "ipf"
   ]
  },
  {
   "cell_type": "code",
   "execution_count": 112,
   "id": "8dc64a60-a1ed-4b8e-b7ce-afca7d67a5a9",
   "metadata": {},
   "outputs": [],
   "source": [
    "sc.pp.neighbors(ipf, use_rep='X', n_neighbors=50)"
   ]
  },
  {
   "cell_type": "code",
   "execution_count": 113,
   "id": "718cca69-7cbe-42a7-89b6-f799241adf1f",
   "metadata": {},
   "outputs": [
    {
     "data": {
      "text/plain": [
       "<10000x10000 sparse matrix of type '<class 'numpy.float32'>'\n",
       "\twith 698708 stored elements in Compressed Sparse Row format>"
      ]
     },
     "execution_count": 113,
     "metadata": {},
     "output_type": "execute_result"
    }
   ],
   "source": [
    "ipf.obsp['connectivities']"
   ]
  },
  {
   "cell_type": "code",
   "execution_count": 138,
   "id": "a5c76df8-418d-4dd8-ac3d-c2f3d3177555",
   "metadata": {},
   "outputs": [],
   "source": [
    "n_meta_cells = 200"
   ]
  },
  {
   "cell_type": "code",
   "execution_count": 139,
   "id": "0d7a9de1-9672-4205-a4b9-a3d138df7a4f",
   "metadata": {},
   "outputs": [
    {
     "data": {
      "text/plain": [
       "[(6456, 'GCCAAATCATGACGGA_IPF1_tsukui'),\n",
       " (7478, 'CGACTTCAGCTTATCG_IPF2_tsukui'),\n",
       " (5340, '209I-a_GTGCAGCGTCTCTTTA_adams'),\n",
       " (7590, 'AACTCAGTCTGTTGAG_IPF1_tsukui'),\n",
       " (185, 'ILD59-1_TCAGGTACACATTTCT_haberman')]"
      ]
     },
     "execution_count": 139,
     "metadata": {},
     "output_type": "execute_result"
    }
   ],
   "source": [
    "meta_cells_idx = random.sample(list(enumerate(ipf.obs_names)), n_meta_cells)\n",
    "meta_cells_idx[:5]"
   ]
  },
  {
   "cell_type": "code",
   "execution_count": 140,
   "id": "e8709010-2ac7-4bab-87d3-d127c3df01ad",
   "metadata": {},
   "outputs": [
    {
     "data": {
      "text/plain": [
       "[6456, 7478, 5340, 7590, 185]"
      ]
     },
     "execution_count": 140,
     "metadata": {},
     "output_type": "execute_result"
    }
   ],
   "source": [
    "indices = [t[0] for t in meta_cells_idx]\n",
    "indices[:5]"
   ]
  },
  {
   "cell_type": "code",
   "execution_count": 141,
   "id": "c4414df1-0b60-4d06-9e87-bc19bf7a0ddc",
   "metadata": {},
   "outputs": [
    {
     "data": {
      "text/plain": [
       "<8246x8246 sparse matrix of type '<class 'numpy.float32'>'\n",
       "\twith 514046 stored elements in Compressed Sparse Row format>"
      ]
     },
     "execution_count": 141,
     "metadata": {},
     "output_type": "execute_result"
    }
   ],
   "source": [
    "conn = ipf.obsp['connectivities']\n",
    "conn    "
   ]
  },
  {
   "cell_type": "code",
   "execution_count": 142,
   "id": "e32e2f15-9a79-4473-9adf-8c072cf99778",
   "metadata": {},
   "outputs": [],
   "source": [
    "ipf.obs['metacells'] = np.nan\n",
    "for i, idx in enumerate(indices):\n",
    "    tmp = conn[idx, :]\n",
    "    nonzero_idx = np.where(tmp.A != 0)[1]\n",
    "    neighbor_cells_names = list(ipf.obs.iloc[nonzero_idx].index)\n",
    "    ipf.obs.loc[neighbor_cells_names, 'metacells'] = f'metacell-{i}'"
   ]
  },
  {
   "cell_type": "code",
   "execution_count": 143,
   "id": "bc9df0bd-8d92-4741-9a8a-958aeb417c11",
   "metadata": {},
   "outputs": [
    {
     "data": {
      "text/plain": [
       "AnnData object with n_obs × n_vars = 6374 × 30\n",
       "    obs: \"3'_or_5'\", 'BMI', 'age_or_mean_of_age_range', 'age_range', 'anatomical_region_ccf_score', 'ancestry', 'ann_coarse_for_GWAS_and_modeling', 'ann_finest_level', 'ann_level_1', 'ann_level_2', 'ann_level_3', 'ann_level_4', 'ann_level_5', 'assay', 'cause_of_death', 'cell_type', 'core_or_extension', 'dataset', 'development_stage', 'disease', 'donor_id', 'fresh_or_frozen', 'log10_total_counts', 'lung_condition', 'mixed_ancestry', 'original_ann_level_1', 'original_ann_level_2', 'original_ann_level_3', 'original_ann_level_4', 'original_ann_level_5', 'original_ann_nonharmonized', 'reannotation_type', 'sample', 'scanvi_label', 'sequencing_platform', 'sex', 'smoking_status', 'study', 'subject_type', 'suspension_type', 'tissue', 'tissue_coarse_unharmonized', 'tissue_detailed_unharmonized', 'tissue_dissociation_protocol', 'tissue_level_2', 'tissue_level_3', 'tissue_sampling_method', 'total_counts', 'transf_ann_level_1_label', 'transf_ann_level_1_uncert', 'transf_ann_level_2_label', 'transf_ann_level_2_uncert', 'transf_ann_level_3_label', 'transf_ann_level_3_uncert', 'transf_ann_level_4_label', 'transf_ann_level_4_uncert', 'transf_ann_level_5_label', 'transf_ann_level_5_uncert', 'lung_condition_coarse', 'split0', 'split1', 'split2', 'split3', 'split4', 'group', 'cell_attn_0', 'cell_attn_1', 'cell_attn_2', 'cell_attn_3', 'cell_attn_4', 'cell_attn', 'SEACell', 'metacells'\n",
       "    uns: 'neighbors', 'transf_ann_level_3_label_colors', 'umap'\n",
       "    obsm: 'X', 'X_umap', 'latent_0', 'latent_1', 'latent_2', 'latent_3', 'latent_4'\n",
       "    obsp: 'connectivities', 'distances'"
      ]
     },
     "execution_count": 143,
     "metadata": {},
     "output_type": "execute_result"
    }
   ],
   "source": [
    "ipf = ipf[~ipf.obs['metacells'].isna()].copy()\n",
    "ipf"
   ]
  },
  {
   "cell_type": "code",
   "execution_count": 144,
   "id": "eeaa9e6b-037e-43a5-b17d-e1a7a26757cd",
   "metadata": {},
   "outputs": [
    {
     "data": {
      "text/plain": [
       "metacells\n",
       "metacell-0      11\n",
       "metacell-1       2\n",
       "metacell-10     16\n",
       "metacell-100    57\n",
       "metacell-101    32\n",
       "                ..\n",
       "metacell-95     13\n",
       "metacell-96     15\n",
       "metacell-97     15\n",
       "metacell-98     20\n",
       "metacell-99     50\n",
       "Name: count, Length: 199, dtype: int64"
      ]
     },
     "execution_count": 144,
     "metadata": {},
     "output_type": "execute_result"
    }
   ],
   "source": [
    "ipf.obs[['metacells']].groupby('metacells').value_counts()"
   ]
  },
  {
   "cell_type": "code",
   "execution_count": 145,
   "id": "96352b8f-1f8f-410c-a73f-ff6e2292d5bd",
   "metadata": {},
   "outputs": [
    {
     "data": {
      "text/plain": [
       "1"
      ]
     },
     "execution_count": 145,
     "metadata": {},
     "output_type": "execute_result"
    }
   ],
   "source": [
    "np.min(ipf.obs[['metacells']].groupby('metacells').value_counts())"
   ]
  },
  {
   "cell_type": "code",
   "execution_count": null,
   "id": "15ed6943-42cc-4850-b320-0f6220a8263e",
   "metadata": {},
   "outputs": [],
   "source": []
  }
 ],
 "metadata": {
  "kernelspec": {
   "display_name": "Python 3 (ipykernel)",
   "language": "python",
   "name": "python3"
  },
  "language_info": {
   "codemirror_mode": {
    "name": "ipython",
    "version": 3
   },
   "file_extension": ".py",
   "mimetype": "text/x-python",
   "name": "python",
   "nbconvert_exporter": "python",
   "pygments_lexer": "ipython3",
   "version": "3.8.18"
  }
 },
 "nbformat": 4,
 "nbformat_minor": 5
}
