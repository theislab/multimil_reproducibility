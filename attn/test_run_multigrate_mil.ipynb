{
 "cells": [
  {
   "cell_type": "code",
   "execution_count": 9,
   "id": "3c004fcb-cea8-407c-ab9b-206d231b52dc",
   "metadata": {
    "tags": []
   },
   "outputs": [
    {
     "name": "stdout",
     "output_type": "stream",
     "text": [
      "The autoreload extension is already loaded. To reload it, use:\n",
      "  %reload_ext autoreload\n"
     ]
    }
   ],
   "source": [
    "%load_ext autoreload\n",
    "%autoreload 2"
   ]
  },
  {
   "cell_type": "code",
   "execution_count": 10,
   "id": "5753fedf-dca6-4a33-b930-77ba7db90783",
   "metadata": {
    "tags": []
   },
   "outputs": [],
   "source": [
    "import scanpy as sc\n",
    "import pandas as pd\n",
    "import multigrate as mtg\n",
    "import multimil as mtm\n",
    "from pathlib import Path\n",
    "import shutil\n",
    "\n",
    "from matplotlib import pyplot as plt\n",
    "import scanpy as sc\n",
    "import pandas as pd\n",
    "import anndata as ad\n",
    "import os\n",
    "import random\n",
    "import torch\n",
    "import scvi"
   ]
  },
  {
   "cell_type": "code",
   "execution_count": 11,
   "id": "38a25615-c031-43a1-9faa-31f58f592331",
   "metadata": {
    "tags": []
   },
   "outputs": [
    {
     "data": {
      "text/plain": [
       "View of AnnData object with n_obs × n_vars = 10000 × 30\n",
       "    obs: \"3'_or_5'\", 'BMI', 'age_or_mean_of_age_range', 'age_range', 'anatomical_region_ccf_score', 'ancestry', 'ann_coarse_for_GWAS_and_modeling', 'ann_finest_level', 'ann_level_1', 'ann_level_2', 'ann_level_3', 'ann_level_4', 'ann_level_5', 'assay', 'cause_of_death', 'cell_type', 'core_or_extension', 'dataset', 'development_stage', 'disease', 'donor_id', 'fresh_or_frozen', 'log10_total_counts', 'lung_condition', 'mixed_ancestry', 'original_ann_level_1', 'original_ann_level_2', 'original_ann_level_3', 'original_ann_level_4', 'original_ann_level_5', 'original_ann_nonharmonized', 'reannotation_type', 'sample', 'scanvi_label', 'sequencing_platform', 'sex', 'smoking_status', 'study', 'subject_type', 'suspension_type', 'tissue', 'tissue_coarse_unharmonized', 'tissue_detailed_unharmonized', 'tissue_dissociation_protocol', 'tissue_level_2', 'tissue_level_3', 'tissue_sampling_method', 'total_counts', 'transf_ann_level_1_label', 'transf_ann_level_1_uncert', 'transf_ann_level_2_label', 'transf_ann_level_2_uncert', 'transf_ann_level_3_label', 'transf_ann_level_3_uncert', 'transf_ann_level_4_label', 'transf_ann_level_4_uncert', 'transf_ann_level_5_label', 'transf_ann_level_5_uncert', 'lung_condition_coarse', 'split0', 'split1', 'split2', 'split3', 'split4', 'group', 'size_factors', '_scvi_batch', 'cell_attn', 'predicted_lung_condition_coarse'\n",
       "    var: 'modality'\n",
       "    uns: '_scvi_manager_uuid', '_scvi_uuid', 'bag_classification_predictions_lung_condition_coarse', 'bag_classification_true_lung_condition_coarse', 'bag_info', 'bag_predicted_lung_condition_coarse', 'modality_lengths'\n",
       "    obsm: '_scvi_extra_categorical_covs', 'classification_predictions_lung_condition_coarse', 'latent'"
      ]
     },
     "execution_count": 11,
     "metadata": {},
     "output_type": "execute_result"
    }
   ],
   "source": [
    "adata = sc.read('../run_baselines/data/multigrate_mil/41301bf6a3/0/checkpoints/train_anndata.h5ad')\n",
    "adata = adata[:10000]\n",
    "adata"
   ]
  },
  {
   "cell_type": "code",
   "execution_count": 12,
   "id": "5652374f-a8e8-45ff-be3a-e47f7c03487f",
   "metadata": {
    "tags": []
   },
   "outputs": [],
   "source": [
    "idx = adata.obs['sample'].sort_values().index\n",
    "adata = adata[idx].copy()"
   ]
  },
  {
   "cell_type": "code",
   "execution_count": 13,
   "id": "fd5b7faa-fe84-47b8-88e8-3baaa883531d",
   "metadata": {
    "tags": []
   },
   "outputs": [
    {
     "name": "stderr",
     "output_type": "stream",
     "text": [
      "/var/folders/1x/nfj7mxy55r330tyqqx68ysx87pnt4y/T/ipykernel_5837/3981741654.py:1: UserWarning: Column `.obs['group']` will be overwritten. Please save the original data in another column if needed.\n",
      "  adata = mtg.data.organize_multiome_anndatas(\n"
     ]
    }
   ],
   "source": [
    "adata = mtg.data.organize_multiome_anndatas(\n",
    "            adatas = [[adata]],\n",
    "        )"
   ]
  },
  {
   "cell_type": "code",
   "execution_count": 14,
   "id": "aeec3ec6-157c-4266-968e-51283d6c6b80",
   "metadata": {
    "tags": []
   },
   "outputs": [
    {
     "data": {
      "text/plain": [
       "AnnData object with n_obs × n_vars = 10000 × 30\n",
       "    obs: \"3'_or_5'\", 'BMI', 'age_or_mean_of_age_range', 'age_range', 'anatomical_region_ccf_score', 'ancestry', 'ann_coarse_for_GWAS_and_modeling', 'ann_finest_level', 'ann_level_1', 'ann_level_2', 'ann_level_3', 'ann_level_4', 'ann_level_5', 'assay', 'cause_of_death', 'cell_type', 'core_or_extension', 'dataset', 'development_stage', 'disease', 'donor_id', 'fresh_or_frozen', 'log10_total_counts', 'lung_condition', 'mixed_ancestry', 'original_ann_level_1', 'original_ann_level_2', 'original_ann_level_3', 'original_ann_level_4', 'original_ann_level_5', 'original_ann_nonharmonized', 'reannotation_type', 'sample', 'scanvi_label', 'sequencing_platform', 'sex', 'smoking_status', 'study', 'subject_type', 'suspension_type', 'tissue', 'tissue_coarse_unharmonized', 'tissue_detailed_unharmonized', 'tissue_dissociation_protocol', 'tissue_level_2', 'tissue_level_3', 'tissue_sampling_method', 'total_counts', 'transf_ann_level_1_label', 'transf_ann_level_1_uncert', 'transf_ann_level_2_label', 'transf_ann_level_2_uncert', 'transf_ann_level_3_label', 'transf_ann_level_3_uncert', 'transf_ann_level_4_label', 'transf_ann_level_4_uncert', 'transf_ann_level_5_label', 'transf_ann_level_5_uncert', 'lung_condition_coarse', 'split0', 'split1', 'split2', 'split3', 'split4', 'group', 'size_factors', '_scvi_batch', 'cell_attn', 'predicted_lung_condition_coarse'\n",
       "    var: 'modality'\n",
       "    uns: 'modality_lengths'"
      ]
     },
     "execution_count": 14,
     "metadata": {},
     "output_type": "execute_result"
    }
   ],
   "source": [
    "adata"
   ]
  },
  {
   "cell_type": "code",
   "execution_count": null,
   "id": "5a22f493-acd2-4fa3-9549-a19592f254cd",
   "metadata": {
    "tags": []
   },
   "outputs": [],
   "source": [
    "mtm.model.MILClassifier.setup_anndata(\n",
    "    adata, \n",
    "    rna_indices_end=30,\n",
    "    categorical_covariate_keys=['sample', 'lung_condition_coarse'],\n",
    ")"
   ]
  },
  {
   "cell_type": "code",
   "execution_count": 8,
   "id": "18548cf7-8c22-470f-a195-618d903de10d",
   "metadata": {
    "tags": []
   },
   "outputs": [
    {
     "ename": "ValueError",
     "evalue": "Please set up your AnnData with MILClassifier.setup_anndata first.",
     "output_type": "error",
     "traceback": [
      "\u001b[0;31m---------------------------------------------------------------------------\u001b[0m",
      "\u001b[0;31mValueError\u001b[0m                                Traceback (most recent call last)",
      "Cell \u001b[0;32mIn[8], line 1\u001b[0m\n\u001b[0;32m----> 1\u001b[0m mil \u001b[38;5;241m=\u001b[39m \u001b[43mmtm\u001b[49m\u001b[38;5;241;43m.\u001b[39;49m\u001b[43mmodel\u001b[49m\u001b[38;5;241;43m.\u001b[39;49m\u001b[43mMILClassifier\u001b[49m\u001b[43m(\u001b[49m\n\u001b[1;32m      2\u001b[0m \u001b[43m            \u001b[49m\u001b[43madata\u001b[49m\u001b[43m,\u001b[49m\u001b[43m \u001b[49m\n\u001b[1;32m      3\u001b[0m \u001b[43m            \u001b[49m\u001b[43mclassification\u001b[49m\u001b[38;5;241;43m=\u001b[39;49m\u001b[43m[\u001b[49m\n\u001b[1;32m      4\u001b[0m \u001b[43m                \u001b[49m\u001b[38;5;124;43m'\u001b[39;49m\u001b[38;5;124;43mlung_condition_coarse\u001b[39;49m\u001b[38;5;124;43m'\u001b[39;49m\n\u001b[1;32m      5\u001b[0m \u001b[43m            \u001b[49m\u001b[43m]\u001b[49m\u001b[43m,\u001b[49m\n\u001b[1;32m      6\u001b[0m \u001b[43m            \u001b[49m\u001b[43mpatient_label\u001b[49m\u001b[38;5;241;43m=\u001b[39;49m\u001b[38;5;124;43m'\u001b[39;49m\u001b[38;5;124;43msample\u001b[39;49m\u001b[38;5;124;43m'\u001b[39;49m\u001b[43m,\u001b[49m\n\u001b[1;32m      7\u001b[0m \u001b[43m        \u001b[49m\u001b[43m)\u001b[49m\n",
      "File \u001b[0;32m~/Documents/code/multimil/multimil/model/_mil.py:90\u001b[0m, in \u001b[0;36mMILClassifier.__init__\u001b[0;34m(self, adata, patient_label, classification, regression, ordinal_regression, patient_batch_size, integrate_on, condition_encoders, condition_decoders, normalization, n_layers_encoders, n_layers_decoders, n_hidden_encoders, n_hidden_decoders, add_patient_to_classifier, hierarchical_attn, z_dim, losses, dropout, cond_dim, kernel_type, loss_coefs, scoring, attn_dim, n_layers_cell_aggregator, n_layers_cov_aggregator, n_layers_classifier, n_layers_regressor, n_layers_mlp_attn, n_layers_cont_embed, n_hidden_cell_aggregator, n_hidden_cov_aggregator, n_hidden_classifier, n_hidden_cont_embed, n_hidden_mlp_attn, n_hidden_regressor, attention_dropout, class_loss_coef, regression_loss_coef, reg_coef, regularize_cell_attn, regularize_cov_attn, cont_cov_type, drop_attn, mmd, patient_in_vae, aggr, cov_aggr, activation, initialization, weighted_class_loss, anneal_class_loss)\u001b[0m\n\u001b[1;32m     35\u001b[0m \u001b[38;5;28;01mdef\u001b[39;00m \u001b[38;5;21m__init__\u001b[39m(\n\u001b[1;32m     36\u001b[0m     \u001b[38;5;28mself\u001b[39m,\n\u001b[1;32m     37\u001b[0m     adata,\n\u001b[0;32m   (...)\u001b[0m\n\u001b[1;32m     88\u001b[0m     anneal_class_loss\u001b[38;5;241m=\u001b[39m\u001b[38;5;28;01mFalse\u001b[39;00m,\n\u001b[1;32m     89\u001b[0m ):\n\u001b[0;32m---> 90\u001b[0m     \u001b[38;5;28;43msuper\u001b[39;49m\u001b[43m(\u001b[49m\u001b[43m)\u001b[49m\u001b[38;5;241;43m.\u001b[39;49m\u001b[38;5;21;43m__init__\u001b[39;49m\u001b[43m(\u001b[49m\u001b[43madata\u001b[49m\u001b[43m)\u001b[49m\n\u001b[1;32m     91\u001b[0m     \u001b[38;5;28mprint\u001b[39m(\u001b[38;5;124m'\u001b[39m\u001b[38;5;124minitializing\u001b[39m\u001b[38;5;124m'\u001b[39m)\n\u001b[1;32m     92\u001b[0m     modality_lengths \u001b[38;5;241m=\u001b[39m [adata\u001b[38;5;241m.\u001b[39muns[\u001b[38;5;124m\"\u001b[39m\u001b[38;5;124mmodality_lengths\u001b[39m\u001b[38;5;124m\"\u001b[39m][key] \u001b[38;5;28;01mfor\u001b[39;00m key \u001b[38;5;129;01min\u001b[39;00m \u001b[38;5;28msorted\u001b[39m(adata\u001b[38;5;241m.\u001b[39muns[\u001b[38;5;124m\"\u001b[39m\u001b[38;5;124mmodality_lengths\u001b[39m\u001b[38;5;124m\"\u001b[39m]\u001b[38;5;241m.\u001b[39mkeys())]\n",
      "File \u001b[0;32m~/mambaforge/envs/multigrate/lib/python3.10/site-packages/scvi/model/base/_base_model.py:82\u001b[0m, in \u001b[0;36mBaseModelClass.__init__\u001b[0;34m(self, adata)\u001b[0m\n\u001b[1;32m     80\u001b[0m \u001b[38;5;28;01mif\u001b[39;00m adata \u001b[38;5;129;01mis\u001b[39;00m \u001b[38;5;129;01mnot\u001b[39;00m \u001b[38;5;28;01mNone\u001b[39;00m:\n\u001b[1;32m     81\u001b[0m     \u001b[38;5;28mself\u001b[39m\u001b[38;5;241m.\u001b[39m_adata \u001b[38;5;241m=\u001b[39m adata\n\u001b[0;32m---> 82\u001b[0m     \u001b[38;5;28mself\u001b[39m\u001b[38;5;241m.\u001b[39m_adata_manager \u001b[38;5;241m=\u001b[39m \u001b[38;5;28;43mself\u001b[39;49m\u001b[38;5;241;43m.\u001b[39;49m\u001b[43m_get_most_recent_anndata_manager\u001b[49m\u001b[43m(\u001b[49m\n\u001b[1;32m     83\u001b[0m \u001b[43m        \u001b[49m\u001b[43madata\u001b[49m\u001b[43m,\u001b[49m\u001b[43m \u001b[49m\u001b[43mrequired\u001b[49m\u001b[38;5;241;43m=\u001b[39;49m\u001b[38;5;28;43;01mTrue\u001b[39;49;00m\n\u001b[1;32m     84\u001b[0m \u001b[43m    \u001b[49m\u001b[43m)\u001b[49m\n\u001b[1;32m     85\u001b[0m     \u001b[38;5;28mself\u001b[39m\u001b[38;5;241m.\u001b[39m_register_manager_for_instance(\u001b[38;5;28mself\u001b[39m\u001b[38;5;241m.\u001b[39madata_manager)\n\u001b[1;32m     86\u001b[0m     \u001b[38;5;66;03m# Suffix registry instance variable with _ to include it when saving the model.\u001b[39;00m\n",
      "File \u001b[0;32m~/mambaforge/envs/multigrate/lib/python3.10/site-packages/scvi/model/base/_base_model.py:244\u001b[0m, in \u001b[0;36mBaseModelClass._get_most_recent_anndata_manager\u001b[0;34m(cls, adata, required)\u001b[0m\n\u001b[1;32m    242\u001b[0m \u001b[38;5;28;01mif\u001b[39;00m _SCVI_UUID_KEY \u001b[38;5;129;01mnot\u001b[39;00m \u001b[38;5;129;01min\u001b[39;00m adata\u001b[38;5;241m.\u001b[39muns:\n\u001b[1;32m    243\u001b[0m     \u001b[38;5;28;01mif\u001b[39;00m required:\n\u001b[0;32m--> 244\u001b[0m         \u001b[38;5;28;01mraise\u001b[39;00m \u001b[38;5;167;01mValueError\u001b[39;00m(\n\u001b[1;32m    245\u001b[0m             \u001b[38;5;124mf\u001b[39m\u001b[38;5;124m\"\u001b[39m\u001b[38;5;124mPlease set up your AnnData with \u001b[39m\u001b[38;5;132;01m{\u001b[39;00m\u001b[38;5;28mcls\u001b[39m\u001b[38;5;241m.\u001b[39m\u001b[38;5;18m__name__\u001b[39m\u001b[38;5;132;01m}\u001b[39;00m\u001b[38;5;124m.setup_anndata first.\u001b[39m\u001b[38;5;124m\"\u001b[39m\n\u001b[1;32m    246\u001b[0m         )\n\u001b[1;32m    247\u001b[0m     \u001b[38;5;28;01mreturn\u001b[39;00m \u001b[38;5;28;01mNone\u001b[39;00m\n\u001b[1;32m    249\u001b[0m adata_id \u001b[38;5;241m=\u001b[39m adata\u001b[38;5;241m.\u001b[39muns[_SCVI_UUID_KEY]\n",
      "\u001b[0;31mValueError\u001b[0m: Please set up your AnnData with MILClassifier.setup_anndata first."
     ]
    }
   ],
   "source": [
    "mil = mtm.model.MILClassifier(\n",
    "            adata, \n",
    "            classification=[\n",
    "                'lung_condition_coarse'\n",
    "            ],\n",
    "            patient_label='sample',\n",
    "        )"
   ]
  },
  {
   "cell_type": "code",
   "execution_count": null,
   "id": "42c72577-9e19-4778-8359-ecdff2a9746b",
   "metadata": {},
   "outputs": [],
   "source": []
  }
 ],
 "metadata": {
  "kernelspec": {
   "display_name": "Python 3 (ipykernel)",
   "language": "python",
   "name": "python3"
  },
  "language_info": {
   "codemirror_mode": {
    "name": "ipython",
    "version": 3
   },
   "file_extension": ".py",
   "mimetype": "text/x-python",
   "name": "python",
   "nbconvert_exporter": "python",
   "pygments_lexer": "ipython3",
   "version": "3.10.10"
  }
 },
 "nbformat": 4,
 "nbformat_minor": 5
}
