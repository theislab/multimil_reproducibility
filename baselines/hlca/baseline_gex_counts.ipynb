{
 "cells": [
  {
   "cell_type": "code",
   "execution_count": 1,
   "id": "7602fe54-85fd-4422-8c50-4b9ae0958125",
   "metadata": {},
   "outputs": [],
   "source": [
    "x=1"
   ]
  },
  {
   "cell_type": "code",
   "execution_count": 2,
   "id": "c6e8ca09",
   "metadata": {},
   "outputs": [],
   "source": [
    "import scanpy as sc\n",
    "import pandas as pd"
   ]
  },
  {
   "cell_type": "code",
   "execution_count": 3,
   "id": "52a7bb2b",
   "metadata": {},
   "outputs": [],
   "source": [
    "patient = 'donor_id'\n",
    "condition = 'lung_condition_coarse'\n",
    "n_splits = 5"
   ]
  },
  {
   "cell_type": "code",
   "execution_count": 4,
   "id": "3867d917",
   "metadata": {},
   "outputs": [
    {
     "data": {
      "text/plain": [
       "AnnData object with n_obs × n_vars = 2149684 × 2000\n",
       "    obs: \"3'_or_5'\", 'BMI', 'age_or_mean_of_age_range', 'age_range', 'anatomical_region_ccf_score', 'ancestry', 'ann_coarse_for_GWAS_and_modeling', 'ann_finest_level', 'ann_level_1', 'ann_level_2', 'ann_level_3', 'ann_level_4', 'ann_level_5', 'assay', 'cause_of_death', 'cell_type', 'core_or_extension', 'dataset', 'development_stage', 'disease', 'donor_id', 'fresh_or_frozen', 'log10_total_counts', 'lung_condition', 'mixed_ancestry', 'original_ann_level_1', 'original_ann_level_2', 'original_ann_level_3', 'original_ann_level_4', 'original_ann_level_5', 'original_ann_nonharmonized', 'reannotation_type', 'sample', 'scanvi_label', 'sequencing_platform', 'sex', 'smoking_status', 'study', 'subject_type', 'suspension_type', 'tissue', 'tissue_coarse_unharmonized', 'tissue_detailed_unharmonized', 'tissue_dissociation_protocol', 'tissue_level_2', 'tissue_level_3', 'tissue_sampling_method', 'total_counts', 'transf_ann_level_1_label', 'transf_ann_level_1_uncert', 'transf_ann_level_2_label', 'transf_ann_level_2_uncert', 'transf_ann_level_3_label', 'transf_ann_level_3_uncert', 'transf_ann_level_4_label', 'transf_ann_level_4_uncert', 'transf_ann_level_5_label', 'transf_ann_level_5_uncert', 'lung_condition_coarse', 'split0', 'split1', 'split2', 'split3', 'split4'\n",
       "    var: 'means', 'variances', 'residual_variances', 'highly_variable_rank', 'highly_variable_nbatches', 'highly_variable_intersection', 'highly_variable'\n",
       "    uns: 'hvg'"
      ]
     },
     "execution_count": 4,
     "metadata": {},
     "output_type": "execute_result"
    }
   ],
   "source": [
    "adata = sc.read('/lustre/groups/ml01/projects/2022_multigrate_anastasia.litinetskaya/snakemake/hlca/5fold/hlca_hyperparam/data/pp/hlca_hvg_pearson.h5ad')\n",
    "adata"
   ]
  },
  {
   "cell_type": "code",
   "execution_count": 5,
   "id": "3ecce0d6-d455-4b7e-a2e5-9e2285a8f35b",
   "metadata": {},
   "outputs": [
    {
     "data": {
      "text/plain": [
       "array([1., 5., 1., ..., 1., 2., 3.], dtype=float32)"
      ]
     },
     "execution_count": 5,
     "metadata": {},
     "output_type": "execute_result"
    }
   ],
   "source": [
    "adata.X.data"
   ]
  },
  {
   "cell_type": "markdown",
   "id": "4b947b3d-5362-4b32-82c8-ec33703d67f3",
   "metadata": {},
   "source": [
    "# Random forest"
   ]
  },
  {
   "cell_type": "code",
   "execution_count": 7,
   "id": "94286873",
   "metadata": {},
   "outputs": [],
   "source": [
    "from sklearn.ensemble import RandomForestClassifier"
   ]
  },
  {
   "cell_type": "code",
   "execution_count": 8,
   "id": "a32ffa03-cd0e-4546-8fdc-327c07aceaaa",
   "metadata": {},
   "outputs": [
    {
     "data": {
      "text/plain": [
       "{'CF': 0,\n",
       " 'COPD': 1,\n",
       " 'COVID-19': 2,\n",
       " 'Carcinoma': 3,\n",
       " 'Chronic rhinitis': 4,\n",
       " 'Healthy': 5,\n",
       " 'ILD': 6,\n",
       " 'IPF': 7,\n",
       " 'Pneumonia non-COVID': 8}"
      ]
     },
     "execution_count": 8,
     "metadata": {},
     "output_type": "execute_result"
    }
   ],
   "source": [
    "adata.obs[condition] = adata.obs[condition].astype('category')\n",
    "rename_dict = {name: number for number, name in enumerate(sorted(list(adata.obs[condition].cat.categories)))}\n",
    "rename_dict"
   ]
  },
  {
   "cell_type": "code",
   "execution_count": 9,
   "id": "7d4a0015",
   "metadata": {},
   "outputs": [
    {
     "name": "stdout",
     "output_type": "stream",
     "text": [
      "Processing split = 0...\n",
      "Train shapes:\n",
      "x.shape = (1733726, 2000)\n",
      "y.shape = (1733726,)\n",
      "Val shapes:\n",
      "x_val.shape = (415958, 2000)\n",
      "y_val.shape = (415958,)\n",
      "Train accuracy = 0.9861719787325102.\n",
      "class report\n",
      "              precision    recall  f1-score        support\n",
      "0              0.286445  0.228106  0.253968     982.000000\n",
      "1              0.581154  0.371824  0.453499   24681.000000\n",
      "2              0.740586  0.826728  0.781290   36134.000000\n",
      "3              0.558565  0.695205  0.619439   11867.000000\n",
      "4              0.929354  0.800510  0.860134    6672.000000\n",
      "5              0.783435  0.921518  0.846885  243457.000000\n",
      "6              0.210013  0.258778  0.231859    8316.000000\n",
      "7              0.719248  0.371795  0.490197   78979.000000\n",
      "8              0.553621  0.124025  0.202651    4870.000000\n",
      "accuracy       0.743669  0.743669  0.743669       0.743669\n",
      "macro avg      0.595824  0.510943  0.526658  415958.000000\n",
      "weighted avg   0.736120  0.743669  0.722605  415958.000000\n",
      "Val accuracy = 0.7436688319493795.\n",
      "===========================\n",
      "Processing split = 1...\n",
      "Train shapes:\n",
      "x.shape = (1751019, 2000)\n",
      "y.shape = (1751019,)\n",
      "Val shapes:\n",
      "x_val.shape = (398665, 2000)\n",
      "y_val.shape = (398665,)\n",
      "Train accuracy = 0.9861709096246243.\n",
      "class report\n",
      "              precision    recall  f1-score       support\n",
      "0              0.411419  0.398656  0.404937    1934.00000\n",
      "1              0.303267  0.465714  0.367332    8750.00000\n",
      "2              0.793601  0.683538  0.734469   52831.00000\n",
      "3              0.533758  0.370993  0.437735   16941.00000\n",
      "4              0.729290  0.819164  0.771619    3611.00000\n",
      "5              0.791571  0.911680  0.847390  247293.00000\n",
      "6              0.648955  0.067343  0.122024   27204.00000\n",
      "7              0.665800  0.562615  0.609874   39599.00000\n",
      "8              0.095861  0.175299  0.123944     502.00000\n",
      "accuracy       0.752140  0.752140  0.752140       0.75214\n",
      "macro avg      0.552613  0.495000  0.491036  398665.00000\n",
      "weighted avg   0.744658  0.752140  0.727648  398665.00000\n",
      "Val accuracy = 0.7521402681449337.\n",
      "===========================\n",
      "Processing split = 2...\n",
      "Train shapes:\n",
      "x.shape = (1666343, 2000)\n",
      "y.shape = (1666343,)\n",
      "Val shapes:\n",
      "x_val.shape = (483341, 2000)\n",
      "y_val.shape = (483341,)\n",
      "Train accuracy = 0.9865939965541308.\n",
      "class report\n",
      "              precision    recall  f1-score        support\n",
      "0              0.565448  0.165703  0.256298    7091.000000\n",
      "1              0.117144  0.476049  0.188021    4029.000000\n",
      "2              0.792665  0.700483  0.743728   70253.000000\n",
      "3              0.638546  0.536951  0.583358   25317.000000\n",
      "4              0.952346  0.679176  0.792892    7621.000000\n",
      "5              0.784179  0.872095  0.825804  292263.000000\n",
      "6              0.503687  0.126824  0.202629   23158.000000\n",
      "7              0.469467  0.430918  0.449367   45779.000000\n",
      "8              0.683110  0.279438  0.396628    7830.000000\n",
      "accuracy       0.725796  0.725796  0.725796       0.725796\n",
      "macro avg      0.611843  0.474182  0.493192  483341.000000\n",
      "weighted avg   0.726783  0.725796  0.714521  483341.000000\n",
      "Val accuracy = 0.7257960735795226.\n",
      "===========================\n",
      "Processing split = 3...\n",
      "Train shapes:\n",
      "x.shape = (1730932, 2000)\n",
      "y.shape = (1730932,)\n",
      "Val shapes:\n",
      "x_val.shape = (418752, 2000)\n",
      "y_val.shape = (418752,)\n",
      "Train accuracy = 0.9854436800521338.\n",
      "class report\n",
      "              precision    recall  f1-score       support\n",
      "0              0.444410  0.427880  0.435988    3307.00000\n",
      "1              0.453590  0.378338  0.412561   14828.00000\n",
      "2              0.828229  0.839130  0.833644   56754.00000\n",
      "3              0.785885  0.761826  0.773668   33677.00000\n",
      "4              0.314939  0.566038  0.404704    2067.00000\n",
      "5              0.843122  0.897109  0.869278  250246.00000\n",
      "6              0.459258  0.279549  0.347547   12581.00000\n",
      "7              0.658661  0.546173  0.597166   41778.00000\n",
      "8              0.263364  0.057484  0.094370    3514.00000\n",
      "accuracy       0.794050  0.794050  0.794050       0.79405\n",
      "macro avg      0.561273  0.528170  0.529881  418752.00000\n",
      "weighted avg   0.782150  0.794050  0.785546  418752.00000\n",
      "Val accuracy = 0.7940499388659636.\n",
      "===========================\n",
      "Processing split = 4...\n",
      "Train shapes:\n",
      "x.shape = (1716716, 2000)\n",
      "y.shape = (1716716,)\n",
      "Val shapes:\n",
      "x_val.shape = (432968, 2000)\n",
      "y_val.shape = (432968,)\n",
      "Train accuracy = 0.9854134288956357.\n",
      "class report\n",
      "              precision    recall  f1-score        support\n",
      "0              0.260383  0.077972  0.120007    4181.000000\n",
      "1              0.582739  0.397688  0.472750   15399.000000\n",
      "2              0.825815  0.798730  0.812047   77627.000000\n",
      "3              0.745971  0.485930  0.588505   25907.000000\n",
      "4              0.951142  0.677208  0.791133    8854.000000\n",
      "5              0.775434  0.930180  0.845787  240749.000000\n",
      "6              0.348599  0.148310  0.208089   11240.000000\n",
      "7              0.580710  0.446166  0.504624   33817.000000\n",
      "8              0.901151  0.201000  0.328688   15194.000000\n",
      "accuracy       0.763999  0.763999  0.763999       0.763999\n",
      "macro avg      0.663549  0.462576  0.519070  432968.000000\n",
      "weighted avg   0.752592  0.763999  0.741602  432968.000000\n",
      "Val accuracy = 0.7639987250789897.\n",
      "===========================\n",
      "Mean validation accuracy across 5 CV splits for a random forest model = 0.7559307675237579.\n",
      "Mean validation weighted avg across 5 CV splits for a random forest model = 0.7383843744739677.\n"
     ]
    }
   ],
   "source": [
    "val_accuracies = []\n",
    "val_avg = []\n",
    "for i in range(n_splits):\n",
    "    print(f'Processing split = {i}...')\n",
    "    #df = adata.obs[[f'split{i}', patient]].drop_duplicates()\n",
    "    #train = list(df[df[f'split{i}'] == 'train'][patient])\n",
    "    #val = list(df[df[f'split{i}'] == 'val'][patient])\n",
    "    # train data\n",
    "    x = pd.DataFrame(adata[adata.obs[f'split{i}'] == 'train'].X.A).to_numpy()\n",
    "    num_of_classes = len(adata.obs[condition].cat.categories)\n",
    "    y = adata[adata.obs[f'split{i}'] == 'train'].obs[condition].cat.rename_categories(rename_dict)\n",
    "    y = y.to_numpy()\n",
    "    print(\"Train shapes:\")\n",
    "    print(f\"x.shape = {x.shape}\")\n",
    "    print(f\"y.shape = {y.shape}\")\n",
    "    # val data\n",
    "    x_val = pd.DataFrame(adata[adata.obs[f'split{i}'] == 'val'].X.A).to_numpy()\n",
    "    y_val = adata[adata.obs[f'split{i}'] == 'val'].obs[condition].cat.rename_categories(rename_dict)\n",
    "    y_val = y_val.to_numpy()\n",
    "    print(\"Val shapes:\")\n",
    "    print(f\"x_val.shape = {x_val.shape}\")\n",
    "    print(f\"y_val.shape = {y_val.shape}\")\n",
    "    # fit\n",
    "    X = x\n",
    "    Y = y\n",
    "    clf = RandomForestClassifier(n_estimators=5)\n",
    "    clf.fit(X, Y)\n",
    "    print(f'Train accuracy = {np.sum(clf.predict(X) == Y)/len(Y)}.')\n",
    "    y_pred = clf.predict(x_val)\n",
    "    val_accuracy = np.sum(y_pred == y_val)/len(y_val)\n",
    "    \n",
    "    df = classification_report(y_val, y_pred, output_dict=True)\n",
    "    df = pd.DataFrame(df).T\n",
    "    print('class report')\n",
    "    print(df)\n",
    "    \n",
    "    val_accuracies.append(df[\"f1-score\"][\"accuracy\"])\n",
    "    val_avg.append(df[\"f1-score\"][\"weighted avg\"])\n",
    "    \n",
    "    val_accuracy = df[\"f1-score\"][\"accuracy\"]\n",
    "    \n",
    "    print(f'Val accuracy = {val_accuracy}.')\n",
    "    print('===========================')\n",
    "\n",
    "\n",
    "print(f\"Mean validation accuracy across 5 CV splits for a random forest model = {np.mean(np.array(val_accuracies))}.\")\n",
    "print(f\"Mean validation weighted avg across 5 CV splits for a random forest model = {np.mean(np.array(val_avg))}.\")\n"
   ]
  },
  {
   "cell_type": "code",
   "execution_count": null,
   "id": "25557299",
   "metadata": {},
   "outputs": [],
   "source": []
  }
 ],
 "metadata": {
  "kernelspec": {
   "display_name": "Python 3 (ipykernel)",
   "language": "python",
   "name": "python3"
  },
  "language_info": {
   "codemirror_mode": {
    "name": "ipython",
    "version": 3
   },
   "file_extension": ".py",
   "mimetype": "text/x-python",
   "name": "python",
   "nbconvert_exporter": "python",
   "pygments_lexer": "ipython3",
   "version": "3.10.12"
  }
 },
 "nbformat": 4,
 "nbformat_minor": 5
}
