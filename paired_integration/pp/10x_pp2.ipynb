{
 "cells": [
  {
   "cell_type": "code",
   "execution_count": 131,
   "id": "d87ce766",
   "metadata": {},
   "outputs": [],
   "source": [
    "import scanpy as sc\n",
    "import numpy as np\n",
    "import episcanpy as epi\n",
    "import matplotlib.pyplot as plt\n",
    "import pandas as pd"
   ]
  },
  {
   "cell_type": "markdown",
   "id": "05818ebd",
   "metadata": {},
   "source": [
    "# 10x mutiome"
   ]
  },
  {
   "cell_type": "code",
   "execution_count": 25,
   "id": "9ef3de30",
   "metadata": {},
   "outputs": [
    {
     "data": {
      "text/plain": [
       "AnnData object with n_obs × n_vars = 10000 × 4000\n",
       "    obs: 'cell_type'\n",
       "    layers: 'count'"
      ]
     },
     "execution_count": 25,
     "metadata": {},
     "output_type": "execute_result"
    }
   ],
   "source": [
    "rna = sc.read('/home/icb/litinetskaya/multigrate/data/10xpbmc10k-2020/expressions_hvg.h5ad')\n",
    "rna"
   ]
  },
  {
   "cell_type": "code",
   "execution_count": 26,
   "id": "09664596",
   "metadata": {},
   "outputs": [
    {
     "data": {
      "text/plain": [
       "7.1491437"
      ]
     },
     "execution_count": 26,
     "metadata": {},
     "output_type": "execute_result"
    }
   ],
   "source": [
    "np.max(rna.X)"
   ]
  },
  {
   "cell_type": "code",
   "execution_count": 28,
   "id": "d7fee74f",
   "metadata": {},
   "outputs": [
    {
     "data": {
      "text/plain": [
       "844.0"
      ]
     },
     "execution_count": 28,
     "metadata": {},
     "output_type": "execute_result"
    }
   ],
   "source": [
    "np.max(rna.layers['count'])"
   ]
  },
  {
   "cell_type": "code",
   "execution_count": 27,
   "id": "d1a80dec",
   "metadata": {},
   "outputs": [
    {
     "data": {
      "text/plain": [
       "AnnData object with n_obs × n_vars = 10000 × 40086\n",
       "    obs: 'cell_type'\n",
       "    layers: 'binary'"
      ]
     },
     "execution_count": 27,
     "metadata": {},
     "output_type": "execute_result"
    }
   ],
   "source": [
    "atac = sc.read('/home/icb/litinetskaya/multigrate/data/10xpbmc10k-2020/peaks.h5ad')\n",
    "atac"
   ]
  },
  {
   "cell_type": "code",
   "execution_count": 29,
   "id": "394e0942",
   "metadata": {},
   "outputs": [
    {
     "data": {
      "text/plain": [
       "1.0"
      ]
     },
     "execution_count": 29,
     "metadata": {},
     "output_type": "execute_result"
    }
   ],
   "source": [
    "np.max(atac.layers['binary'])"
   ]
  },
  {
   "cell_type": "code",
   "execution_count": 30,
   "id": "c79d61d1",
   "metadata": {},
   "outputs": [
    {
     "data": {
      "text/plain": [
       "2.6131697"
      ]
     },
     "execution_count": 30,
     "metadata": {},
     "output_type": "execute_result"
    }
   ],
   "source": [
    "np.max(atac.X)"
   ]
  },
  {
   "cell_type": "code",
   "execution_count": 31,
   "id": "69171fa6",
   "metadata": {},
   "outputs": [
    {
     "data": {
      "text/plain": [
       "AnnData object with n_obs × n_vars = 10000 × 40086\n",
       "    obs: 'cell_type'\n",
       "    layers: 'binary', 'cpm_norm', 'tf-idf'"
      ]
     },
     "execution_count": 31,
     "metadata": {},
     "output_type": "execute_result"
    }
   ],
   "source": [
    "atac.layers['cpm_norm'] = atac.X.copy()\n",
    "atac.X = atac.layers['binary'].copy()\n",
    "epi.pp.tfidf(atac)\n",
    "atac"
   ]
  },
  {
   "cell_type": "code",
   "execution_count": 32,
   "id": "f3d55e5c",
   "metadata": {},
   "outputs": [
    {
     "data": {
      "text/plain": [
       "(1.0, 2.6131697, 0.0023486267)"
      ]
     },
     "execution_count": 32,
     "metadata": {},
     "output_type": "execute_result"
    }
   ],
   "source": [
    "np.max(atac.layers['binary']), np.max(atac.layers['cpm_norm']), np.max(atac.layers['tf-idf'])"
   ]
  },
  {
   "cell_type": "code",
   "execution_count": 33,
   "id": "3ca95242",
   "metadata": {},
   "outputs": [
    {
     "data": {
      "text/plain": [
       "0"
      ]
     },
     "execution_count": 33,
     "metadata": {},
     "output_type": "execute_result"
    }
   ],
   "source": [
    "np.sum(atac.obs_names != rna.obs_names)"
   ]
  },
  {
   "cell_type": "code",
   "execution_count": 34,
   "id": "0ff8fa3e",
   "metadata": {},
   "outputs": [
    {
     "data": {
      "text/plain": [
       "(array([3.41667057e+08, 0.00000000e+00, 0.00000000e+00, 0.00000000e+00,\n",
       "        0.00000000e+00, 0.00000000e+00, 0.00000000e+00, 0.00000000e+00,\n",
       "        0.00000000e+00, 5.91929430e+07]),\n",
       " array([0. , 0.1, 0.2, 0.3, 0.4, 0.5, 0.6, 0.7, 0.8, 0.9, 1. ],\n",
       "       dtype=float32),\n",
       " <BarContainer object of 10 artists>)"
      ]
     },
     "execution_count": 34,
     "metadata": {},
     "output_type": "execute_result"
    },
    {
     "data": {
      "image/png": "[encoded data removed]",
      "text/plain": [
       "<Figure size 432x288 with 1 Axes>"
      ]
     },
     "metadata": {
      "needs_background": "light"
     },
     "output_type": "display_data"
    }
   ],
   "source": [
    "plt.hist(atac.layers['binary'].A.flatten())"
   ]
  },
  {
   "cell_type": "code",
   "execution_count": 35,
   "id": "d76e4697",
   "metadata": {},
   "outputs": [
    {
     "data": {
      "text/plain": [
       "(array([3.41667057e+08, 3.00230000e+04, 7.33418700e+06, 3.95129330e+07,\n",
       "        9.38859000e+06, 1.59657800e+06, 6.99861000e+05, 3.47865000e+05,\n",
       "        1.72871000e+05, 1.10035000e+05]),\n",
       " array([0.        , 0.26131696, 0.5226339 , 0.7839509 , 1.0452678 ,\n",
       "        1.3065848 , 1.5679018 , 1.8292187 , 2.0905356 , 2.3518527 ,\n",
       "        2.6131697 ], dtype=float32),\n",
       " <BarContainer object of 10 artists>)"
      ]
     },
     "execution_count": 35,
     "metadata": {},
     "output_type": "execute_result"
    },
    {
     "data": {
      "image/png": "[encoded data removed]",
      "text/plain": [
       "<Figure size 432x288 with 1 Axes>"
      ]
     },
     "metadata": {
      "needs_background": "light"
     },
     "output_type": "display_data"
    }
   ],
   "source": [
    "plt.hist(atac.layers['cpm_norm'].A.flatten())"
   ]
  },
  {
   "cell_type": "code",
   "execution_count": 36,
   "id": "754a8ced",
   "metadata": {},
   "outputs": [
    {
     "data": {
      "text/plain": [
       "(array([3.92036957e+08, 7.89650500e+06, 5.94910000e+05, 1.94019000e+05,\n",
       "        7.62590000e+04, 3.37130000e+04, 1.68350000e+04, 7.64400000e+03,\n",
       "        2.79700000e+03, 3.61000000e+02]),\n",
       " array([0.        , 0.00023486, 0.00046973, 0.00070459, 0.00093945,\n",
       "        0.00117431, 0.00140918, 0.00164404, 0.0018789 , 0.00211376,\n",
       "        0.00234863], dtype=float32),\n",
       " <BarContainer object of 10 artists>)"
      ]
     },
     "execution_count": 36,
     "metadata": {},
     "output_type": "execute_result"
    },
    {
     "data": {
      "image/png": "[encoded data removed]",
      "text/plain": [
       "<Figure size 432x288 with 1 Axes>"
      ]
     },
     "metadata": {
      "needs_background": "light"
     },
     "output_type": "display_data"
    }
   ],
   "source": [
    "plt.hist(atac.layers['tf-idf'].A.flatten())"
   ]
  },
  {
   "cell_type": "code",
   "execution_count": 37,
   "id": "5f50f958",
   "metadata": {},
   "outputs": [],
   "source": [
    "rna.write('/storage/groups/ml01/projects/2021_multimil_anastasia.litinetskaya/10xpbmc10k-2020/expressions_hvg.h5ad')"
   ]
  },
  {
   "cell_type": "code",
   "execution_count": 38,
   "id": "6fca335e",
   "metadata": {},
   "outputs": [],
   "source": [
    "atac.write('/storage/groups/ml01/projects/2021_multimil_anastasia.litinetskaya/10xpbmc10k-2020/peaks.h5ad')"
   ]
  },
  {
   "cell_type": "code",
   "execution_count": null,
   "id": "4b9d8a0a",
   "metadata": {},
   "outputs": [],
   "source": []
  }
 ],
 "metadata": {
  "kernelspec": {
   "display_name": "Python 3 (ipykernel)",
   "language": "python",
   "name": "python3"
  },
  "language_info": {
   "codemirror_mode": {
    "name": "ipython",
    "version": 3
   },
   "file_extension": ".py",
   "mimetype": "text/x-python",
   "name": "python",
   "nbconvert_exporter": "python",
   "pygments_lexer": "ipython3",
   "version": "3.10.12"
  }
 },
 "nbformat": 4,
 "nbformat_minor": 5
}
