{
 "cells": [
  {
   "cell_type": "code",
   "execution_count": 1,
   "id": "6988a47b-5580-4c0c-b827-e3893639b7e5",
   "metadata": {},
   "outputs": [],
   "source": [
    "x=2"
   ]
  },
  {
   "cell_type": "code",
   "execution_count": 2,
   "id": "3c004fcb-cea8-407c-ab9b-206d231b52dc",
   "metadata": {
    "tags": []
   },
   "outputs": [],
   "source": [
    "%load_ext autoreload\n",
    "%autoreload 2"
   ]
  },
  {
   "cell_type": "code",
   "execution_count": 17,
   "id": "5753fedf-dca6-4a33-b930-77ba7db90783",
   "metadata": {
    "tags": []
   },
   "outputs": [],
   "source": [
    "import scanpy as sc\n",
    "import pandas as pd\n",
    "import multigrate as mtg\n",
    "import multimil as mtm\n",
    "from pathlib import Path\n",
    "import shutil\n",
    "\n",
    "from matplotlib import pyplot as plt\n",
    "import scanpy as sc\n",
    "import pandas as pd\n",
    "import anndata as ad\n",
    "import os\n",
    "import random\n",
    "import torch\n",
    "import scvi\n",
    "import numpy as np"
   ]
  },
  {
   "cell_type": "code",
   "execution_count": 4,
   "id": "38a25615-c031-43a1-9faa-31f58f592331",
   "metadata": {
    "tags": []
   },
   "outputs": [
    {
     "data": {
      "text/plain": [
       "AnnData object with n_obs × n_vars = 438582 × 30\n",
       "    obs: \"3'_or_5'\", 'BMI', 'age_or_mean_of_age_range', 'age_range', 'anatomical_region_ccf_score', 'ancestry', 'ann_coarse_for_GWAS_and_modeling', 'ann_finest_level', 'ann_level_1', 'ann_level_2', 'ann_level_3', 'ann_level_4', 'ann_level_5', 'assay', 'cause_of_death', 'cell_type', 'core_or_extension', 'dataset', 'development_stage', 'disease', 'donor_id', 'fresh_or_frozen', 'log10_total_counts', 'lung_condition', 'mixed_ancestry', 'original_ann_level_1', 'original_ann_level_2', 'original_ann_level_3', 'original_ann_level_4', 'original_ann_level_5', 'original_ann_nonharmonized', 'reannotation_type', 'sample', 'scanvi_label', 'sequencing_platform', 'sex', 'smoking_status', 'study', 'subject_type', 'suspension_type', 'tissue', 'tissue_coarse_unharmonized', 'tissue_detailed_unharmonized', 'tissue_dissociation_protocol', 'tissue_level_2', 'tissue_level_3', 'tissue_sampling_method', 'total_counts', 'transf_ann_level_1_label', 'transf_ann_level_1_uncert', 'transf_ann_level_2_label', 'transf_ann_level_2_uncert', 'transf_ann_level_3_label', 'transf_ann_level_3_uncert', 'transf_ann_level_4_label', 'transf_ann_level_4_uncert', 'transf_ann_level_5_label', 'transf_ann_level_5_uncert', 'lung_condition_coarse', 'split0', 'split1', 'split2', 'split3', 'split4', 'group', 'size_factors', '_scvi_batch', 'cell_attn', 'predicted_lung_condition_coarse'\n",
       "    var: 'modality'\n",
       "    uns: '_scvi_manager_uuid', '_scvi_uuid', 'bag_classification_predictions_lung_condition_coarse', 'bag_classification_true_lung_condition_coarse', 'bag_info', 'bag_predicted_lung_condition_coarse', 'modality_lengths'\n",
       "    obsm: '_scvi_extra_categorical_covs', 'classification_predictions_lung_condition_coarse', 'latent'"
      ]
     },
     "execution_count": 4,
     "metadata": {},
     "output_type": "execute_result"
    }
   ],
   "source": [
    "adata = sc.read('../run_baselines/data/multigrate_mil/41301bf6a3/0/checkpoints/train_anndata.h5ad')\n",
    "adata"
   ]
  },
  {
   "cell_type": "code",
   "execution_count": 5,
   "id": "5652374f-a8e8-45ff-be3a-e47f7c03487f",
   "metadata": {
    "tags": []
   },
   "outputs": [],
   "source": [
    "idx = adata.obs['sample'].sort_values().index\n",
    "adata = adata[idx].copy()"
   ]
  },
  {
   "cell_type": "code",
   "execution_count": 6,
   "id": "fd5b7faa-fe84-47b8-88e8-3baaa883531d",
   "metadata": {
    "tags": []
   },
   "outputs": [
    {
     "name": "stderr",
     "output_type": "stream",
     "text": [
      "/tmp/ipykernel_2758079/3981741654.py:1: UserWarning: Column `.obs['group']` will be overwritten. Please save the original data in another column if needed.\n",
      "  adata = mtg.data.organize_multiome_anndatas(\n"
     ]
    }
   ],
   "source": [
    "adata = mtg.data.organize_multiome_anndatas(\n",
    "            adatas = [[adata]],\n",
    "        )"
   ]
  },
  {
   "cell_type": "code",
   "execution_count": 7,
   "id": "aeec3ec6-157c-4266-968e-51283d6c6b80",
   "metadata": {
    "tags": []
   },
   "outputs": [
    {
     "data": {
      "text/plain": [
       "AnnData object with n_obs × n_vars = 438582 × 30\n",
       "    obs: \"3'_or_5'\", 'BMI', 'age_or_mean_of_age_range', 'age_range', 'anatomical_region_ccf_score', 'ancestry', 'ann_coarse_for_GWAS_and_modeling', 'ann_finest_level', 'ann_level_1', 'ann_level_2', 'ann_level_3', 'ann_level_4', 'ann_level_5', 'assay', 'cause_of_death', 'cell_type', 'core_or_extension', 'dataset', 'development_stage', 'disease', 'donor_id', 'fresh_or_frozen', 'log10_total_counts', 'lung_condition', 'mixed_ancestry', 'original_ann_level_1', 'original_ann_level_2', 'original_ann_level_3', 'original_ann_level_4', 'original_ann_level_5', 'original_ann_nonharmonized', 'reannotation_type', 'sample', 'scanvi_label', 'sequencing_platform', 'sex', 'smoking_status', 'study', 'subject_type', 'suspension_type', 'tissue', 'tissue_coarse_unharmonized', 'tissue_detailed_unharmonized', 'tissue_dissociation_protocol', 'tissue_level_2', 'tissue_level_3', 'tissue_sampling_method', 'total_counts', 'transf_ann_level_1_label', 'transf_ann_level_1_uncert', 'transf_ann_level_2_label', 'transf_ann_level_2_uncert', 'transf_ann_level_3_label', 'transf_ann_level_3_uncert', 'transf_ann_level_4_label', 'transf_ann_level_4_uncert', 'transf_ann_level_5_label', 'transf_ann_level_5_uncert', 'lung_condition_coarse', 'split0', 'split1', 'split2', 'split3', 'split4', 'group', 'size_factors', '_scvi_batch', 'cell_attn', 'predicted_lung_condition_coarse'\n",
       "    var: 'modality'\n",
       "    uns: 'modality_lengths'"
      ]
     },
     "execution_count": 7,
     "metadata": {},
     "output_type": "execute_result"
    }
   ],
   "source": [
    "adata"
   ]
  },
  {
   "cell_type": "code",
   "execution_count": 8,
   "id": "5a22f493-acd2-4fa3-9549-a19592f254cd",
   "metadata": {
    "tags": []
   },
   "outputs": [
    {
     "name": "stderr",
     "output_type": "stream",
     "text": [
      "No GPU/TPU found, falling back to CPU. (Set TF_CPP_MIN_LOG_LEVEL=0 and rerun for more info.)\n",
      "/lustre/groups/ml01/workspace/anastasia.litinetskaya/mambaforge/envs/multimil/lib/python3.10/site-packages/scvi/data/fields/_layer_field.py:90: UserWarning: adata.X does not contain unnormalized count data. Are you sure this is what you want?\n",
      "  warnings.warn(\n"
     ]
    }
   ],
   "source": [
    "mtm.model.MILClassifier.setup_anndata(\n",
    "    adata, \n",
    "    rna_indices_end=30,\n",
    "    categorical_covariate_keys=['sample', 'lung_condition_coarse'],\n",
    ")"
   ]
  },
  {
   "cell_type": "code",
   "execution_count": 9,
   "id": "18548cf7-8c22-470f-a195-618d903de10d",
   "metadata": {
    "tags": []
   },
   "outputs": [],
   "source": [
    "mil = mtm.model.MILClassifier(\n",
    "            adata, \n",
    "            classification=[\n",
    "                'lung_condition_coarse'\n",
    "            ],\n",
    "            patient_label='sample',\n",
    "            class_loss_coef=1.0,\n",
    "            z_dim=30,\n",
    "        )"
   ]
  },
  {
   "cell_type": "code",
   "execution_count": 10,
   "id": "42c72577-9e19-4778-8359-ecdff2a9746b",
   "metadata": {},
   "outputs": [
    {
     "name": "stderr",
     "output_type": "stream",
     "text": [
      "/lustre/groups/ml01/workspace/anastasia.litinetskaya/mambaforge/envs/multimil/lib/python3.10/site-packages/lightning_fabric/plugins/environments/slurm.py:165: PossibleUserWarning: The `srun` command is available on your system but is not used. HINT: If your intention is to run Lightning on SLURM, prepend your python command with `srun` like so: srun python3.10 /lustre/groups/ml01/workspace/anastasia.litinets ...\n",
      "  rank_zero_warn(\n",
      "GPU available: True (cuda), used: True\n",
      "TPU available: False, using: 0 TPU cores\n",
      "IPU available: False, using: 0 IPUs\n",
      "HPU available: False, using: 0 HPUs\n",
      "/lustre/groups/ml01/workspace/anastasia.litinetskaya/mambaforge/envs/multimil/lib/python3.10/site-packages/lightning_fabric/plugins/environments/slurm.py:165: PossibleUserWarning: The `srun` command is available on your system but is not used. HINT: If your intention is to run Lightning on SLURM, prepend your python command with `srun` like so: srun python3.10 /lustre/groups/ml01/workspace/anastasia.litinets ...\n",
      "  rank_zero_warn(\n",
      "/lustre/groups/ml01/workspace/anastasia.litinetskaya/mambaforge/envs/multimil/lib/python3.10/site-packages/pytorch_lightning/callbacks/model_checkpoint.py:613: UserWarning: Checkpoint directory /lustre/groups/ml01/projects/2022_multigrate_anastasia.litinetskaya/multimil_reproducibility/attn/scvi_log/lightning_logs/version_1/checkpoints exists and is not empty.\n",
      "  rank_zero_warn(f\"Checkpoint directory {dirpath} exists and is not empty.\")\n",
      "LOCAL_RANK: 0 - CUDA_VISIBLE_DEVICES: [0]\n"
     ]
    },
    {
     "name": "stdout",
     "output_type": "stream",
     "text": [
      "Epoch 2/2: 100%|██████████| 2/2 [00:30<00:00, 14.11s/it, loss=0.225, v_num=1]"
     ]
    },
    {
     "name": "stderr",
     "output_type": "stream",
     "text": [
      "`Trainer.fit` stopped: `max_epochs=2` reached.\n"
     ]
    },
    {
     "name": "stdout",
     "output_type": "stream",
     "text": [
      "Epoch 2/2: 100%|██████████| 2/2 [00:30<00:00, 15.45s/it, loss=0.225, v_num=1]\n"
     ]
    }
   ],
   "source": [
    "mil.train(\n",
    "    lr=1e-4,\n",
    "    batch_size=512, \n",
    "    max_epochs=2,\n",
    ")"
   ]
  },
  {
   "cell_type": "code",
   "execution_count": 14,
   "id": "93010179-215f-4ecd-b998-4cb72a114d73",
   "metadata": {
    "scrolled": true
   },
   "outputs": [
    {
     "name": "stdout",
     "output_type": "stream",
     "text": [
      "\u001b[34mINFO    \u001b[0m Input AnnData not setup with scvi-tools. attempting to transfer AnnData setup                             \n"
     ]
    },
    {
     "name": "stderr",
     "output_type": "stream",
     "text": [
      "/lustre/groups/ml01/workspace/anastasia.litinetskaya/mambaforge/envs/multimil/lib/python3.10/site-packages/scvi/data/fields/_layer_field.py:90: UserWarning: adata.X does not contain unnormalized count data. Are you sure this is what you want?\n",
      "  warnings.warn(\n"
     ]
    }
   ],
   "source": [
    "mil.get_model_output(batch_size=512)"
   ]
  },
  {
   "cell_type": "code",
   "execution_count": 15,
   "id": "9c99c87c-4bdc-41a5-9811-f78abace71e3",
   "metadata": {},
   "outputs": [
    {
     "data": {
      "text/plain": [
       "222C_ATTATCCAGTAATCCC_adams       0\n",
       "222C_TCAACGATCCGCAAGC_adams       0\n",
       "222C_ATTACTCTCCAAATGC_adams       0\n",
       "222C_GGCAATTAGTACACCT_adams       0\n",
       "222C_CATCAGAGTACCTACA_adams       0\n",
       "                               ... \n",
       "muc9832_TAACTTTTAGTC_mayr      3293\n",
       "muc9832_GCCGCCAGGTTG_mayr      3293\n",
       "muc9832_CTCCAAGGCGGC_mayr      3293\n",
       "muc9832_CTCTTTTGAAGC_mayr      3293\n",
       "muc9832_TGTTCATACCTC_mayr      3293\n",
       "Name: bags, Length: 438582, dtype: int64"
      ]
     },
     "execution_count": 15,
     "metadata": {},
     "output_type": "execute_result"
    }
   ],
   "source": [
    "adata.obs['bags']"
   ]
  },
  {
   "cell_type": "code",
   "execution_count": null,
   "id": "66394253-3990-4581-9a3a-44d9cb7eb108",
   "metadata": {},
   "outputs": [],
   "source": []
  },
  {
   "cell_type": "code",
   "execution_count": null,
   "id": "f6fb36b9-58d8-4fac-b5ca-a1361173a621",
   "metadata": {},
   "outputs": [],
   "source": []
  },
  {
   "cell_type": "code",
   "execution_count": null,
   "id": "79f3f8ca-e1fa-45b8-8808-dd7b349b3185",
   "metadata": {},
   "outputs": [],
   "source": []
  }
 ],
 "metadata": {
  "kernelspec": {
   "display_name": "Python 3 (ipykernel)",
   "language": "python",
   "name": "python3"
  },
  "language_info": {
   "codemirror_mode": {
    "name": "ipython",
    "version": 3
   },
   "file_extension": ".py",
   "mimetype": "text/x-python",
   "name": "python",
   "nbconvert_exporter": "python",
   "pygments_lexer": "ipython3",
   "version": "3.10.12"
  }
 },
 "nbformat": 4,
 "nbformat_minor": 5
}
