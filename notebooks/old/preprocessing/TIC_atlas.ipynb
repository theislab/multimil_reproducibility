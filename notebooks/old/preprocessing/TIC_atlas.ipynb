{
 "cells": [
  {
   "cell_type": "code",
   "execution_count": 1,
   "id": "false-distribution",
   "metadata": {},
   "outputs": [
    {
     "name": "stderr",
     "output_type": "stream",
     "text": [
      "Global seed set to 0\n"
     ]
    }
   ],
   "source": [
    "import scanpy as sc\n",
    "import numpy as np\n",
    "import pandas as pd\n",
    "import random # we don't fix seed here so can use to re sample test patients"
   ]
  },
  {
   "cell_type": "code",
   "execution_count": 2,
   "id": "alert-account",
   "metadata": {},
   "outputs": [
    {
     "name": "stderr",
     "output_type": "stream",
     "text": [
      "Global seed set to 0\n"
     ]
    }
   ],
   "source": [
    "# if want to change global seed to sth else\n",
    "seed = 0\n",
    "settings.seed = seed"
   ]
  },
  {
   "cell_type": "markdown",
   "id": "normal-simulation",
   "metadata": {
    "tags": []
   },
   "source": [
    "### Read, prep and train/test split"
   ]
  },
  {
   "cell_type": "code",
   "execution_count": null,
   "id": "human-marketplace",
   "metadata": {},
   "outputs": [],
   "source": [
    "# rna.h5ad is full dataset, change to rna_test.h5ad for a smaller subset\n",
    "RNA = sc.read('data/TICAtlas.h5ad')\n",
    "adata.obs['patient'] = adata.obs['patient'].astype(\"category\")\n",
    "adata.obs['gender'] = adata.obs['gender'].astype(\"category\")\n",
    "adata.obs['subtype'] = adata.obs['subtype'].astype(\"category\")\n",
    "adata.obs['cell_type'] = adata.obs['cell_type'].astype(\"category\")\n",
    "adata.obs['source'] = adata.obs['source'].astype(\"category\")\n",
    "number_of_test_patients = 15\n",
    "patients = list(adata.obs['patient'].cat.categories)\n",
    "test_patient_ids = random.sample(patients, number_of_test_patients)\n",
    "adata[adata.obs.patient.isin(test_patient_ids)].obs[['subtype', 'patient']].drop_duplicates().groupby('subtype').count() # check class distribution for test set\n",
    "adata_test = adata[adata.obs.patient.isin(test_patient_ids)].copy()\n",
    "adata = adata[~adata.obs.patient.isin(test_patient_ids)].copy()\n",
    "adata_test.obs.split = [\"test\"]\n",
    "adata.obs.split = [\"train\"]\n",
    "assert (len(set(adata.obs.subtype.unique()).intersection(adata_test.obs.subtype.unique())) == len(adata_test.obs.subtype.unique()))\n",
    "adata = adata.concatenate(adata_test)\n",
    "sc.pp.highly_variable_genes(adata, n_top_genes=4000, inplace=True)\n",
    "adata = adata[:,adata.var.highly_variable]\n",
    "adata.raw.X[:,adata.var.highly_variable]\n",
    "adata.rename_categories(\"batch\", [\"train\", \"test\"])\n",
    "adata.obs.split = adata.obs.batch \n",
    "adata.write(\"./data/TICatlas_prep.h5ad\")              \n",
    "              "
   ]
  }
 ],
 "metadata": {
  "kernelspec": {
   "display_name": "Python 3",
   "language": "python",
   "name": "python3"
  },
  "language_info": {
   "codemirror_mode": {
    "name": "ipython",
    "version": 3
   },
   "file_extension": ".py",
   "mimetype": "text/x-python",
   "name": "python",
   "nbconvert_exporter": "python",
   "pygments_lexer": "ipython3",
   "version": "3.8.12"
  }
 },
 "nbformat": 4,
 "nbformat_minor": 5
}
