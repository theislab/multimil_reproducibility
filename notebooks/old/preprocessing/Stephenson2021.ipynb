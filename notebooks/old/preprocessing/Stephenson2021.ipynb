{
 "cells": [
  {
   "cell_type": "code",
   "execution_count": 1,
   "id": "d37958eb",
   "metadata": {},
   "outputs": [],
   "source": [
    "import scanpy as sc\n",
    "import numpy as np\n",
    "import pandas as pd\n",
    "import random # we don't fix seed here so can use to re sample test patients"
   ]
  },
  {
   "cell_type": "code",
   "execution_count": 2,
   "id": "b00d284c",
   "metadata": {},
   "outputs": [
    {
     "name": "stderr",
     "output_type": "stream",
     "text": [
      "Global seed set to 0\n",
      "Global seed set to 0\n"
     ]
    }
   ],
   "source": [
    "# if want to change global seed to sth else\n",
    "seed = 0\n",
    "from scvi._settings import settings\n",
    "settings.seed = seed"
   ]
  },
  {
   "cell_type": "markdown",
   "id": "82ac6d0f",
   "metadata": {},
   "source": [
    "# Download data"
   ]
  },
  {
   "cell_type": "code",
   "execution_count": 3,
   "id": "a15aeb13",
   "metadata": {},
   "outputs": [
    {
     "name": "stdout",
     "output_type": "stream",
     "text": [
      "--2022-02-04 15:32:42--  https://covid19.cog.sanger.ac.uk/submissions/release1/haniffa21.processed.h5ad\n",
      "Resolving covid19.cog.sanger.ac.uk (covid19.cog.sanger.ac.uk)... 193.62.203.61, 193.62.203.62, 193.62.203.63\n",
      "Connecting to covid19.cog.sanger.ac.uk (covid19.cog.sanger.ac.uk)|193.62.203.61|:443... connected.\n",
      "WARNING: cannot verify covid19.cog.sanger.ac.uk's certificate, issued by '/C=US/O=Let\\'s Encrypt/CN=R3':\n",
      "  Issued certificate has expired.\n",
      "HTTP request sent, awaiting response... 200 OK\n",
      "Length: 7187322881 (6.7G) [application/x-hdf]\n",
      "Saving to: 'haniffa21.processed.h5ad'\n",
      "\n",
      "100%[====================================>] 7,187,322,881 10.1MB/s   in 7m 35s \n",
      "\n",
      "2022-02-04 15:40:17 (15.1 MB/s) - 'haniffa21.processed.h5ad' saved [7187322881/7187322881]\n",
      "\n"
     ]
    }
   ],
   "source": [
    "!wget --no-check-certificate https://covid19.cog.sanger.ac.uk/submissions/release1/haniffa21.processed.h5ad "
   ]
  },
  {
   "cell_type": "code",
   "execution_count": 4,
   "id": "8995991d",
   "metadata": {},
   "outputs": [
    {
     "data": {
      "text/plain": [
       "AnnData object with n_obs × n_vars = 647366 × 24929\n",
       "    obs: 'sample_id', 'n_genes', 'n_genes_by_counts', 'total_counts', 'total_counts_mt', 'pct_counts_mt', 'full_clustering', 'initial_clustering', 'Resample', 'Collection_Day', 'Sex', 'Age_interval', 'Swab_result', 'Status', 'Smoker', 'Status_on_day_collection', 'Status_on_day_collection_summary', 'Days_from_onset', 'Site', 'time_after_LPS', 'Worst_Clinical_Status', 'Outcome', 'patient_id'\n",
       "    var: 'feature_types'\n",
       "    uns: 'hvg', 'leiden', 'neighbors', 'pca', 'umap'\n",
       "    obsm: 'X_pca', 'X_pca_harmony', 'X_umap'\n",
       "    layers: 'raw'"
      ]
     },
     "execution_count": 4,
     "metadata": {},
     "output_type": "execute_result"
    }
   ],
   "source": [
    "adata = sc.read('haniffa21.processed.h5ad')\n",
    "adata"
   ]
  },
  {
   "cell_type": "code",
   "execution_count": 5,
   "id": "74fd554d",
   "metadata": {},
   "outputs": [
    {
     "name": "stdout",
     "output_type": "stream",
     "text": [
      "--2022-02-04 15:40:32--  https://static-content.springer.com/esm/art%3A10.1038%2Fs41591-021-01329-2/MediaObjects/41591_2021_1329_MOESM3_ESM.xlsx\n",
      "Resolving static-content.springer.com (static-content.springer.com)... 151.101.112.95\n",
      "Connecting to static-content.springer.com (static-content.springer.com)|151.101.112.95|:443... connected.\n",
      "HTTP request sent, awaiting response... 200 OK\n",
      "Length: 12855042 (12M) [application/octet-stream]\n",
      "Saving to: '41591_2021_1329_MOESM3_ESM.xlsx.1'\n",
      "\n",
      "100%[======================================>] 12,855,042  --.-K/s   in 0.09s   \n",
      "\n",
      "2022-02-04 15:40:32 (129 MB/s) - '41591_2021_1329_MOESM3_ESM.xlsx.1' saved [12855042/12855042]\n",
      "\n"
     ]
    }
   ],
   "source": [
    "!wget https://static-content.springer.com/esm/art%3A10.1038%2Fs41591-021-01329-2/MediaObjects/41591_2021_1329_MOESM3_ESM.xlsx"
   ]
  },
  {
   "cell_type": "code",
   "execution_count": 6,
   "id": "cc5f0cca",
   "metadata": {},
   "outputs": [
    {
     "data": {
      "text/plain": [
       "dict_keys(['Supp Table 1', 'Supp Table 2', 'Supp Table 3', 'Supp Table 4', 'Supp Table 5', 'Supp Table 6', 'Supp Table 7', 'Supp Table 8', 'Supp Table 9', 'Supp Table 10'])"
      ]
     },
     "execution_count": 6,
     "metadata": {},
     "output_type": "execute_result"
    }
   ],
   "source": [
    "dfs = pd.read_excel('41591_2021_1329_MOESM3_ESM.xlsx', sheet_name=None, header=1)\n",
    "dfs.keys()"
   ]
  },
  {
   "cell_type": "code",
   "execution_count": 7,
   "id": "e64bb4ba",
   "metadata": {},
   "outputs": [
    {
     "data": {
      "text/html": [
       "<div>\n",
       "<style scoped>\n",
       "    .dataframe tbody tr th:only-of-type {\n",
       "        vertical-align: middle;\n",
       "    }\n",
       "\n",
       "    .dataframe tbody tr th {\n",
       "        vertical-align: top;\n",
       "    }\n",
       "\n",
       "    .dataframe thead th {\n",
       "        text-align: right;\n",
       "    }\n",
       "</style>\n",
       "<table border=\"1\" class=\"dataframe\">\n",
       "  <thead>\n",
       "    <tr style=\"text-align: right;\">\n",
       "      <th></th>\n",
       "      <th>Sample ID</th>\n",
       "      <th>Resample</th>\n",
       "      <th>Collection day</th>\n",
       "      <th>Patient ID</th>\n",
       "      <th>Age</th>\n",
       "      <th>Swab result</th>\n",
       "      <th>Status</th>\n",
       "      <th>Smoker</th>\n",
       "      <th>Status on collection day</th>\n",
       "      <th>Catergory on collection day</th>\n",
       "      <th>Status 3 days post collection</th>\n",
       "      <th>Status 7 days post collection</th>\n",
       "      <th>Days from onset</th>\n",
       "      <th>Site</th>\n",
       "      <th>Time after LPS</th>\n",
       "      <th>Worst clinical status</th>\n",
       "      <th>Outcome</th>\n",
       "    </tr>\n",
       "  </thead>\n",
       "  <tbody>\n",
       "    <tr>\n",
       "      <th>0</th>\n",
       "      <td>BGCV01_CV0025</td>\n",
       "      <td>Initial</td>\n",
       "      <td>D0</td>\n",
       "      <td>CV0025</td>\n",
       "      <td>56</td>\n",
       "      <td>Negative</td>\n",
       "      <td>Covid</td>\n",
       "      <td>Non-smoker</td>\n",
       "      <td>Ward_O2</td>\n",
       "      <td>Moderate</td>\n",
       "      <td>Home</td>\n",
       "      <td>Home</td>\n",
       "      <td>16</td>\n",
       "      <td>Cambridge</td>\n",
       "      <td>NaN</td>\n",
       "      <td>Moderate</td>\n",
       "      <td>Home</td>\n",
       "    </tr>\n",
       "    <tr>\n",
       "      <th>1</th>\n",
       "      <td>BGCV06_CV0037</td>\n",
       "      <td>Initial</td>\n",
       "      <td>D0</td>\n",
       "      <td>CV0037</td>\n",
       "      <td>38</td>\n",
       "      <td>Positive</td>\n",
       "      <td>Covid</td>\n",
       "      <td>Non-smoker</td>\n",
       "      <td>Ward_O2</td>\n",
       "      <td>Moderate</td>\n",
       "      <td>Home</td>\n",
       "      <td>Home</td>\n",
       "      <td>12</td>\n",
       "      <td>Cambridge</td>\n",
       "      <td>NaN</td>\n",
       "      <td>Moderate</td>\n",
       "      <td>Home</td>\n",
       "    </tr>\n",
       "    <tr>\n",
       "      <th>2</th>\n",
       "      <td>BGCV11_CV0050</td>\n",
       "      <td>Initial</td>\n",
       "      <td>D0</td>\n",
       "      <td>CV0050</td>\n",
       "      <td>52</td>\n",
       "      <td>Positive</td>\n",
       "      <td>Covid</td>\n",
       "      <td>Non-smoker</td>\n",
       "      <td>Ward_noO2</td>\n",
       "      <td>Mild</td>\n",
       "      <td>Ward_noO2</td>\n",
       "      <td>Ward_noO2</td>\n",
       "      <td>11</td>\n",
       "      <td>Cambridge</td>\n",
       "      <td>NaN</td>\n",
       "      <td>Mild</td>\n",
       "      <td>Not_known</td>\n",
       "    </tr>\n",
       "    <tr>\n",
       "      <th>3</th>\n",
       "      <td>BGCV02_CV0052</td>\n",
       "      <td>Initial</td>\n",
       "      <td>D0</td>\n",
       "      <td>CV0052</td>\n",
       "      <td>83</td>\n",
       "      <td>Positive</td>\n",
       "      <td>Covid</td>\n",
       "      <td>Non-smoker</td>\n",
       "      <td>Ward_O2</td>\n",
       "      <td>Moderate</td>\n",
       "      <td>Death</td>\n",
       "      <td>Death</td>\n",
       "      <td>8</td>\n",
       "      <td>Cambridge</td>\n",
       "      <td>NaN</td>\n",
       "      <td>Death</td>\n",
       "      <td>Death</td>\n",
       "    </tr>\n",
       "    <tr>\n",
       "      <th>4</th>\n",
       "      <td>BGCV11_CV0058</td>\n",
       "      <td>Initial</td>\n",
       "      <td>D0</td>\n",
       "      <td>CV0058</td>\n",
       "      <td>49</td>\n",
       "      <td>Positive</td>\n",
       "      <td>Covid</td>\n",
       "      <td>Not_known</td>\n",
       "      <td>Staff screening</td>\n",
       "      <td>Asymptomatic</td>\n",
       "      <td>Staff screening</td>\n",
       "      <td>Staff screening</td>\n",
       "      <td>0</td>\n",
       "      <td>Cambridge</td>\n",
       "      <td>NaN</td>\n",
       "      <td>Asymptomatic</td>\n",
       "      <td>Home</td>\n",
       "    </tr>\n",
       "    <tr>\n",
       "      <th>...</th>\n",
       "      <td>...</td>\n",
       "      <td>...</td>\n",
       "      <td>...</td>\n",
       "      <td>...</td>\n",
       "      <td>...</td>\n",
       "      <td>...</td>\n",
       "      <td>...</td>\n",
       "      <td>...</td>\n",
       "      <td>...</td>\n",
       "      <td>...</td>\n",
       "      <td>...</td>\n",
       "      <td>...</td>\n",
       "      <td>...</td>\n",
       "      <td>...</td>\n",
       "      <td>...</td>\n",
       "      <td>...</td>\n",
       "      <td>...</td>\n",
       "    </tr>\n",
       "    <tr>\n",
       "      <th>138</th>\n",
       "      <td>BGCV14_CV0284</td>\n",
       "      <td>Resample</td>\n",
       "      <td>D28</td>\n",
       "      <td>CV0284</td>\n",
       "      <td>63</td>\n",
       "      <td>Positive</td>\n",
       "      <td>Covid</td>\n",
       "      <td>Non-smoker</td>\n",
       "      <td>ITU_intubated</td>\n",
       "      <td>Critical</td>\n",
       "      <td>ITU_intubated</td>\n",
       "      <td>ITU_intubated</td>\n",
       "      <td>10</td>\n",
       "      <td>Cambridge</td>\n",
       "      <td>NaN</td>\n",
       "      <td>Critical</td>\n",
       "      <td>Not_known</td>\n",
       "    </tr>\n",
       "    <tr>\n",
       "      <th>139</th>\n",
       "      <td>newcastle004v2</td>\n",
       "      <td>Resample</td>\n",
       "      <td>D12</td>\n",
       "      <td>C-8821</td>\n",
       "      <td>75</td>\n",
       "      <td>Positive</td>\n",
       "      <td>Covid</td>\n",
       "      <td>Non-smoker</td>\n",
       "      <td>ITU_intubated</td>\n",
       "      <td>Critical</td>\n",
       "      <td>ITU_intubated</td>\n",
       "      <td>ITU_intubated</td>\n",
       "      <td>9</td>\n",
       "      <td>Ncl</td>\n",
       "      <td>NaN</td>\n",
       "      <td>Death</td>\n",
       "      <td>Death</td>\n",
       "    </tr>\n",
       "    <tr>\n",
       "      <th>140</th>\n",
       "      <td>newcastle21v2</td>\n",
       "      <td>Resample</td>\n",
       "      <td>D9</td>\n",
       "      <td>C-8884</td>\n",
       "      <td>71</td>\n",
       "      <td>Positive</td>\n",
       "      <td>Covid</td>\n",
       "      <td>Non-smoker</td>\n",
       "      <td>ITU_intubated</td>\n",
       "      <td>Critical</td>\n",
       "      <td>Ward_O2</td>\n",
       "      <td>Ward_O2</td>\n",
       "      <td>14</td>\n",
       "      <td>Ncl</td>\n",
       "      <td>NaN</td>\n",
       "      <td>Critical</td>\n",
       "      <td>Home</td>\n",
       "    </tr>\n",
       "    <tr>\n",
       "      <th>141</th>\n",
       "      <td>MH9143273</td>\n",
       "      <td>Resample</td>\n",
       "      <td>D7</td>\n",
       "      <td>C-8896</td>\n",
       "      <td>44</td>\n",
       "      <td>Positive</td>\n",
       "      <td>Covid</td>\n",
       "      <td>Non-smoker</td>\n",
       "      <td>ITU_intubated</td>\n",
       "      <td>Critical</td>\n",
       "      <td>ITU_intubated</td>\n",
       "      <td>ITU_intubated</td>\n",
       "      <td>6</td>\n",
       "      <td>Ncl</td>\n",
       "      <td>NaN</td>\n",
       "      <td>Critical</td>\n",
       "      <td>Home</td>\n",
       "    </tr>\n",
       "    <tr>\n",
       "      <th>142</th>\n",
       "      <td>MH8919328</td>\n",
       "      <td>Resample</td>\n",
       "      <td>D13</td>\n",
       "      <td>C-8896</td>\n",
       "      <td>44</td>\n",
       "      <td>Positive</td>\n",
       "      <td>Covid</td>\n",
       "      <td>Non-smoker</td>\n",
       "      <td>ITU_intubated</td>\n",
       "      <td>Critical</td>\n",
       "      <td>ITU_intubated</td>\n",
       "      <td>ITU_intubated</td>\n",
       "      <td>6</td>\n",
       "      <td>Ncl</td>\n",
       "      <td>NaN</td>\n",
       "      <td>Critical</td>\n",
       "      <td>Home</td>\n",
       "    </tr>\n",
       "  </tbody>\n",
       "</table>\n",
       "<p>143 rows × 17 columns</p>\n",
       "</div>"
      ],
      "text/plain": [
       "          Sample ID  Resample Collection day Patient ID  Age Swab result  \\\n",
       "0     BGCV01_CV0025   Initial             D0     CV0025   56    Negative   \n",
       "1     BGCV06_CV0037   Initial             D0     CV0037   38    Positive   \n",
       "2     BGCV11_CV0050   Initial             D0     CV0050   52    Positive   \n",
       "3     BGCV02_CV0052   Initial             D0     CV0052   83    Positive   \n",
       "4     BGCV11_CV0058   Initial             D0     CV0058   49    Positive   \n",
       "..              ...       ...            ...        ...  ...         ...   \n",
       "138   BGCV14_CV0284  Resample            D28     CV0284   63    Positive   \n",
       "139  newcastle004v2  Resample            D12     C-8821   75    Positive   \n",
       "140   newcastle21v2  Resample             D9     C-8884   71    Positive   \n",
       "141       MH9143273  Resample             D7     C-8896   44    Positive   \n",
       "142       MH8919328  Resample            D13     C-8896   44    Positive   \n",
       "\n",
       "    Status      Smoker Status on collection day Catergory on collection day  \\\n",
       "0    Covid  Non-smoker                  Ward_O2                    Moderate   \n",
       "1    Covid  Non-smoker                  Ward_O2                    Moderate   \n",
       "2    Covid  Non-smoker                Ward_noO2                        Mild   \n",
       "3    Covid  Non-smoker                  Ward_O2                    Moderate   \n",
       "4    Covid   Not_known          Staff screening                Asymptomatic   \n",
       "..     ...         ...                      ...                         ...   \n",
       "138  Covid  Non-smoker            ITU_intubated                    Critical   \n",
       "139  Covid  Non-smoker            ITU_intubated                    Critical   \n",
       "140  Covid  Non-smoker            ITU_intubated                    Critical   \n",
       "141  Covid  Non-smoker            ITU_intubated                    Critical   \n",
       "142  Covid  Non-smoker            ITU_intubated                    Critical   \n",
       "\n",
       "    Status 3 days post collection Status 7 days post collection  \\\n",
       "0                            Home                          Home   \n",
       "1                            Home                          Home   \n",
       "2                       Ward_noO2                     Ward_noO2   \n",
       "3                           Death                         Death   \n",
       "4                 Staff screening               Staff screening   \n",
       "..                            ...                           ...   \n",
       "138                 ITU_intubated                 ITU_intubated   \n",
       "139                 ITU_intubated                 ITU_intubated   \n",
       "140                       Ward_O2                       Ward_O2   \n",
       "141                 ITU_intubated                 ITU_intubated   \n",
       "142                 ITU_intubated                 ITU_intubated   \n",
       "\n",
       "    Days from onset       Site Time after LPS Worst clinical status    Outcome  \n",
       "0                16  Cambridge            NaN              Moderate       Home  \n",
       "1                12  Cambridge            NaN              Moderate       Home  \n",
       "2                11  Cambridge            NaN                  Mild  Not_known  \n",
       "3                 8  Cambridge            NaN                 Death      Death  \n",
       "4                 0  Cambridge            NaN          Asymptomatic       Home  \n",
       "..              ...        ...            ...                   ...        ...  \n",
       "138              10  Cambridge            NaN             Critical   Not_known  \n",
       "139               9        Ncl            NaN                 Death      Death  \n",
       "140              14        Ncl            NaN             Critical        Home  \n",
       "141               6        Ncl            NaN             Critical        Home  \n",
       "142               6        Ncl            NaN             Critical        Home  \n",
       "\n",
       "[143 rows x 17 columns]"
      ]
     },
     "execution_count": 7,
     "metadata": {},
     "output_type": "execute_result"
    }
   ],
   "source": [
    "df = dfs['Supp Table 2']\n",
    "df"
   ]
  },
  {
   "cell_type": "markdown",
   "id": "8f4bc5d3",
   "metadata": {},
   "source": [
    "# Clean data and merge annotations"
   ]
  },
  {
   "cell_type": "code",
   "execution_count": 8,
   "id": "4dd74953",
   "metadata": {},
   "outputs": [],
   "source": [
    "samples = [sample.split('_')[-1] for sample in df['Sample ID']]"
   ]
  },
  {
   "cell_type": "code",
   "execution_count": 9,
   "id": "488ef062",
   "metadata": {},
   "outputs": [
    {
     "data": {
      "text/plain": [
       "AnnData object with n_obs × n_vars = 647366 × 24929\n",
       "    obs: 'sample_id', 'n_genes', 'n_genes_by_counts', 'total_counts', 'total_counts_mt', 'pct_counts_mt', 'full_clustering', 'initial_clustering', 'Resample', 'Collection_Day', 'Sex', 'Age_interval', 'Swab_result', 'Status', 'Smoker', 'Status_on_day_collection', 'Status_on_day_collection_summary', 'Days_from_onset', 'Site', 'time_after_LPS', 'Worst_Clinical_Status', 'Outcome', 'patient_id'\n",
       "    var: 'feature_types'\n",
       "    uns: 'hvg', 'leiden', 'neighbors', 'pca', 'umap'\n",
       "    obsm: 'X_pca', 'X_pca_harmony', 'X_umap'\n",
       "    layers: 'raw'"
      ]
     },
     "execution_count": 9,
     "metadata": {},
     "output_type": "execute_result"
    }
   ],
   "source": [
    "adata"
   ]
  },
  {
   "cell_type": "code",
   "execution_count": 10,
   "id": "66535eaa",
   "metadata": {},
   "outputs": [
    {
     "name": "stderr",
     "output_type": "stream",
     "text": [
      "/home/icb/anastasia.litinetskaya/miniconda3/envs/multi/lib/python3.8/site-packages/pandas/core/arrays/categorical.py:2631: FutureWarning: The `inplace` parameter in pandas.Categorical.remove_unused_categories is deprecated and will be removed in a future version.\n",
      "  res = method(*args, **kwargs)\n"
     ]
    },
    {
     "data": {
      "text/plain": [
       "View of AnnData object with n_obs × n_vars = 571327 × 24929\n",
       "    obs: 'sample_id', 'n_genes', 'n_genes_by_counts', 'total_counts', 'total_counts_mt', 'pct_counts_mt', 'full_clustering', 'initial_clustering', 'Resample', 'Collection_Day', 'Sex', 'Age_interval', 'Swab_result', 'Status', 'Smoker', 'Status_on_day_collection', 'Status_on_day_collection_summary', 'Days_from_onset', 'Site', 'time_after_LPS', 'Worst_Clinical_Status', 'Outcome', 'patient_id'\n",
       "    var: 'feature_types'\n",
       "    uns: 'hvg', 'leiden', 'neighbors', 'pca', 'umap'\n",
       "    obsm: 'X_pca', 'X_pca_harmony', 'X_umap'\n",
       "    layers: 'raw'"
      ]
     },
     "execution_count": 10,
     "metadata": {},
     "output_type": "execute_result"
    }
   ],
   "source": [
    "# only take initial samples and either Covid or Healthy\n",
    "adata = adata[adata.obs['Resample'] == 'Initial']\n",
    "adata = adata[adata.obs['Status'].isin(['Covid', 'Healthy'])]\n",
    "adata"
   ]
  },
  {
   "cell_type": "code",
   "execution_count": 11,
   "id": "b854cfce",
   "metadata": {},
   "outputs": [],
   "source": [
    "assert(set(adata.obs['patient_id']).issubset(samples))"
   ]
  },
  {
   "cell_type": "code",
   "execution_count": 12,
   "id": "6512f68c",
   "metadata": {},
   "outputs": [
    {
     "data": {
      "text/html": [
       "<div>\n",
       "<style scoped>\n",
       "    .dataframe tbody tr th:only-of-type {\n",
       "        vertical-align: middle;\n",
       "    }\n",
       "\n",
       "    .dataframe tbody tr th {\n",
       "        vertical-align: top;\n",
       "    }\n",
       "\n",
       "    .dataframe thead th {\n",
       "        text-align: right;\n",
       "    }\n",
       "</style>\n",
       "<table border=\"1\" class=\"dataframe\">\n",
       "  <thead>\n",
       "    <tr style=\"text-align: right;\">\n",
       "      <th></th>\n",
       "      <th>Sample ID</th>\n",
       "      <th>Resample</th>\n",
       "      <th>Collection day</th>\n",
       "      <th>Patient ID</th>\n",
       "      <th>Age</th>\n",
       "      <th>Swab result</th>\n",
       "      <th>Status</th>\n",
       "      <th>Smoker</th>\n",
       "      <th>Status on collection day</th>\n",
       "      <th>Catergory on collection day</th>\n",
       "      <th>Status 3 days post collection</th>\n",
       "      <th>Status 7 days post collection</th>\n",
       "      <th>Days from onset</th>\n",
       "      <th>Site</th>\n",
       "      <th>Time after LPS</th>\n",
       "      <th>Worst clinical status</th>\n",
       "      <th>Outcome</th>\n",
       "    </tr>\n",
       "  </thead>\n",
       "  <tbody>\n",
       "    <tr>\n",
       "      <th>CV0025</th>\n",
       "      <td>BGCV01_CV0025</td>\n",
       "      <td>Initial</td>\n",
       "      <td>D0</td>\n",
       "      <td>CV0025</td>\n",
       "      <td>56</td>\n",
       "      <td>Negative</td>\n",
       "      <td>Covid</td>\n",
       "      <td>Non-smoker</td>\n",
       "      <td>Ward_O2</td>\n",
       "      <td>Moderate</td>\n",
       "      <td>Home</td>\n",
       "      <td>Home</td>\n",
       "      <td>16</td>\n",
       "      <td>Cambridge</td>\n",
       "      <td>NaN</td>\n",
       "      <td>Moderate</td>\n",
       "      <td>Home</td>\n",
       "    </tr>\n",
       "    <tr>\n",
       "      <th>CV0037</th>\n",
       "      <td>BGCV06_CV0037</td>\n",
       "      <td>Initial</td>\n",
       "      <td>D0</td>\n",
       "      <td>CV0037</td>\n",
       "      <td>38</td>\n",
       "      <td>Positive</td>\n",
       "      <td>Covid</td>\n",
       "      <td>Non-smoker</td>\n",
       "      <td>Ward_O2</td>\n",
       "      <td>Moderate</td>\n",
       "      <td>Home</td>\n",
       "      <td>Home</td>\n",
       "      <td>12</td>\n",
       "      <td>Cambridge</td>\n",
       "      <td>NaN</td>\n",
       "      <td>Moderate</td>\n",
       "      <td>Home</td>\n",
       "    </tr>\n",
       "    <tr>\n",
       "      <th>CV0050</th>\n",
       "      <td>BGCV11_CV0050</td>\n",
       "      <td>Initial</td>\n",
       "      <td>D0</td>\n",
       "      <td>CV0050</td>\n",
       "      <td>52</td>\n",
       "      <td>Positive</td>\n",
       "      <td>Covid</td>\n",
       "      <td>Non-smoker</td>\n",
       "      <td>Ward_noO2</td>\n",
       "      <td>Mild</td>\n",
       "      <td>Ward_noO2</td>\n",
       "      <td>Ward_noO2</td>\n",
       "      <td>11</td>\n",
       "      <td>Cambridge</td>\n",
       "      <td>NaN</td>\n",
       "      <td>Mild</td>\n",
       "      <td>Not_known</td>\n",
       "    </tr>\n",
       "    <tr>\n",
       "      <th>CV0052</th>\n",
       "      <td>BGCV02_CV0052</td>\n",
       "      <td>Initial</td>\n",
       "      <td>D0</td>\n",
       "      <td>CV0052</td>\n",
       "      <td>83</td>\n",
       "      <td>Positive</td>\n",
       "      <td>Covid</td>\n",
       "      <td>Non-smoker</td>\n",
       "      <td>Ward_O2</td>\n",
       "      <td>Moderate</td>\n",
       "      <td>Death</td>\n",
       "      <td>Death</td>\n",
       "      <td>8</td>\n",
       "      <td>Cambridge</td>\n",
       "      <td>NaN</td>\n",
       "      <td>Death</td>\n",
       "      <td>Death</td>\n",
       "    </tr>\n",
       "    <tr>\n",
       "      <th>CV0058</th>\n",
       "      <td>BGCV11_CV0058</td>\n",
       "      <td>Initial</td>\n",
       "      <td>D0</td>\n",
       "      <td>CV0058</td>\n",
       "      <td>49</td>\n",
       "      <td>Positive</td>\n",
       "      <td>Covid</td>\n",
       "      <td>Not_known</td>\n",
       "      <td>Staff screening</td>\n",
       "      <td>Asymptomatic</td>\n",
       "      <td>Staff screening</td>\n",
       "      <td>Staff screening</td>\n",
       "      <td>0</td>\n",
       "      <td>Cambridge</td>\n",
       "      <td>NaN</td>\n",
       "      <td>Asymptomatic</td>\n",
       "      <td>Home</td>\n",
       "    </tr>\n",
       "    <tr>\n",
       "      <th>...</th>\n",
       "      <td>...</td>\n",
       "      <td>...</td>\n",
       "      <td>...</td>\n",
       "      <td>...</td>\n",
       "      <td>...</td>\n",
       "      <td>...</td>\n",
       "      <td>...</td>\n",
       "      <td>...</td>\n",
       "      <td>...</td>\n",
       "      <td>...</td>\n",
       "      <td>...</td>\n",
       "      <td>...</td>\n",
       "      <td>...</td>\n",
       "      <td>...</td>\n",
       "      <td>...</td>\n",
       "      <td>...</td>\n",
       "      <td>...</td>\n",
       "    </tr>\n",
       "    <tr>\n",
       "      <th>CV0284</th>\n",
       "      <td>BGCV14_CV0284</td>\n",
       "      <td>Resample</td>\n",
       "      <td>D28</td>\n",
       "      <td>CV0284</td>\n",
       "      <td>63</td>\n",
       "      <td>Positive</td>\n",
       "      <td>Covid</td>\n",
       "      <td>Non-smoker</td>\n",
       "      <td>ITU_intubated</td>\n",
       "      <td>Critical</td>\n",
       "      <td>ITU_intubated</td>\n",
       "      <td>ITU_intubated</td>\n",
       "      <td>10</td>\n",
       "      <td>Cambridge</td>\n",
       "      <td>NaN</td>\n",
       "      <td>Critical</td>\n",
       "      <td>Not_known</td>\n",
       "    </tr>\n",
       "    <tr>\n",
       "      <th>newcastle004v2</th>\n",
       "      <td>newcastle004v2</td>\n",
       "      <td>Resample</td>\n",
       "      <td>D12</td>\n",
       "      <td>C-8821</td>\n",
       "      <td>75</td>\n",
       "      <td>Positive</td>\n",
       "      <td>Covid</td>\n",
       "      <td>Non-smoker</td>\n",
       "      <td>ITU_intubated</td>\n",
       "      <td>Critical</td>\n",
       "      <td>ITU_intubated</td>\n",
       "      <td>ITU_intubated</td>\n",
       "      <td>9</td>\n",
       "      <td>Ncl</td>\n",
       "      <td>NaN</td>\n",
       "      <td>Death</td>\n",
       "      <td>Death</td>\n",
       "    </tr>\n",
       "    <tr>\n",
       "      <th>newcastle21v2</th>\n",
       "      <td>newcastle21v2</td>\n",
       "      <td>Resample</td>\n",
       "      <td>D9</td>\n",
       "      <td>C-8884</td>\n",
       "      <td>71</td>\n",
       "      <td>Positive</td>\n",
       "      <td>Covid</td>\n",
       "      <td>Non-smoker</td>\n",
       "      <td>ITU_intubated</td>\n",
       "      <td>Critical</td>\n",
       "      <td>Ward_O2</td>\n",
       "      <td>Ward_O2</td>\n",
       "      <td>14</td>\n",
       "      <td>Ncl</td>\n",
       "      <td>NaN</td>\n",
       "      <td>Critical</td>\n",
       "      <td>Home</td>\n",
       "    </tr>\n",
       "    <tr>\n",
       "      <th>MH9143273</th>\n",
       "      <td>MH9143273</td>\n",
       "      <td>Resample</td>\n",
       "      <td>D7</td>\n",
       "      <td>C-8896</td>\n",
       "      <td>44</td>\n",
       "      <td>Positive</td>\n",
       "      <td>Covid</td>\n",
       "      <td>Non-smoker</td>\n",
       "      <td>ITU_intubated</td>\n",
       "      <td>Critical</td>\n",
       "      <td>ITU_intubated</td>\n",
       "      <td>ITU_intubated</td>\n",
       "      <td>6</td>\n",
       "      <td>Ncl</td>\n",
       "      <td>NaN</td>\n",
       "      <td>Critical</td>\n",
       "      <td>Home</td>\n",
       "    </tr>\n",
       "    <tr>\n",
       "      <th>MH8919328</th>\n",
       "      <td>MH8919328</td>\n",
       "      <td>Resample</td>\n",
       "      <td>D13</td>\n",
       "      <td>C-8896</td>\n",
       "      <td>44</td>\n",
       "      <td>Positive</td>\n",
       "      <td>Covid</td>\n",
       "      <td>Non-smoker</td>\n",
       "      <td>ITU_intubated</td>\n",
       "      <td>Critical</td>\n",
       "      <td>ITU_intubated</td>\n",
       "      <td>ITU_intubated</td>\n",
       "      <td>6</td>\n",
       "      <td>Ncl</td>\n",
       "      <td>NaN</td>\n",
       "      <td>Critical</td>\n",
       "      <td>Home</td>\n",
       "    </tr>\n",
       "  </tbody>\n",
       "</table>\n",
       "<p>143 rows × 17 columns</p>\n",
       "</div>"
      ],
      "text/plain": [
       "                     Sample ID  Resample Collection day Patient ID  Age  \\\n",
       "CV0025           BGCV01_CV0025   Initial             D0     CV0025   56   \n",
       "CV0037           BGCV06_CV0037   Initial             D0     CV0037   38   \n",
       "CV0050           BGCV11_CV0050   Initial             D0     CV0050   52   \n",
       "CV0052           BGCV02_CV0052   Initial             D0     CV0052   83   \n",
       "CV0058           BGCV11_CV0058   Initial             D0     CV0058   49   \n",
       "...                        ...       ...            ...        ...  ...   \n",
       "CV0284           BGCV14_CV0284  Resample            D28     CV0284   63   \n",
       "newcastle004v2  newcastle004v2  Resample            D12     C-8821   75   \n",
       "newcastle21v2    newcastle21v2  Resample             D9     C-8884   71   \n",
       "MH9143273            MH9143273  Resample             D7     C-8896   44   \n",
       "MH8919328            MH8919328  Resample            D13     C-8896   44   \n",
       "\n",
       "               Swab result Status      Smoker Status on collection day  \\\n",
       "CV0025            Negative  Covid  Non-smoker                  Ward_O2   \n",
       "CV0037            Positive  Covid  Non-smoker                  Ward_O2   \n",
       "CV0050            Positive  Covid  Non-smoker                Ward_noO2   \n",
       "CV0052            Positive  Covid  Non-smoker                  Ward_O2   \n",
       "CV0058            Positive  Covid   Not_known          Staff screening   \n",
       "...                    ...    ...         ...                      ...   \n",
       "CV0284            Positive  Covid  Non-smoker            ITU_intubated   \n",
       "newcastle004v2    Positive  Covid  Non-smoker            ITU_intubated   \n",
       "newcastle21v2     Positive  Covid  Non-smoker            ITU_intubated   \n",
       "MH9143273         Positive  Covid  Non-smoker            ITU_intubated   \n",
       "MH8919328         Positive  Covid  Non-smoker            ITU_intubated   \n",
       "\n",
       "               Catergory on collection day Status 3 days post collection  \\\n",
       "CV0025                            Moderate                          Home   \n",
       "CV0037                            Moderate                          Home   \n",
       "CV0050                                Mild                     Ward_noO2   \n",
       "CV0052                            Moderate                         Death   \n",
       "CV0058                        Asymptomatic               Staff screening   \n",
       "...                                    ...                           ...   \n",
       "CV0284                            Critical                 ITU_intubated   \n",
       "newcastle004v2                    Critical                 ITU_intubated   \n",
       "newcastle21v2                     Critical                       Ward_O2   \n",
       "MH9143273                         Critical                 ITU_intubated   \n",
       "MH8919328                         Critical                 ITU_intubated   \n",
       "\n",
       "               Status 7 days post collection Days from onset       Site  \\\n",
       "CV0025                                  Home              16  Cambridge   \n",
       "CV0037                                  Home              12  Cambridge   \n",
       "CV0050                             Ward_noO2              11  Cambridge   \n",
       "CV0052                                 Death               8  Cambridge   \n",
       "CV0058                       Staff screening               0  Cambridge   \n",
       "...                                      ...             ...        ...   \n",
       "CV0284                         ITU_intubated              10  Cambridge   \n",
       "newcastle004v2                 ITU_intubated               9        Ncl   \n",
       "newcastle21v2                        Ward_O2              14        Ncl   \n",
       "MH9143273                      ITU_intubated               6        Ncl   \n",
       "MH8919328                      ITU_intubated               6        Ncl   \n",
       "\n",
       "               Time after LPS Worst clinical status    Outcome  \n",
       "CV0025                    NaN              Moderate       Home  \n",
       "CV0037                    NaN              Moderate       Home  \n",
       "CV0050                    NaN                  Mild  Not_known  \n",
       "CV0052                    NaN                 Death      Death  \n",
       "CV0058                    NaN          Asymptomatic       Home  \n",
       "...                       ...                   ...        ...  \n",
       "CV0284                    NaN             Critical   Not_known  \n",
       "newcastle004v2            NaN                 Death      Death  \n",
       "newcastle21v2             NaN             Critical        Home  \n",
       "MH9143273                 NaN             Critical        Home  \n",
       "MH8919328                 NaN             Critical        Home  \n",
       "\n",
       "[143 rows x 17 columns]"
      ]
     },
     "execution_count": 12,
     "metadata": {},
     "output_type": "execute_result"
    }
   ],
   "source": [
    "df.index = samples\n",
    "df"
   ]
  },
  {
   "cell_type": "code",
   "execution_count": 13,
   "id": "4a0184f5",
   "metadata": {},
   "outputs": [],
   "source": [
    "ages = {}\n",
    "for sample in set(adata.obs['patient_id']):\n",
    "    ages[sample] = int(df['Age'].loc[[sample]][0])"
   ]
  },
  {
   "cell_type": "code",
   "execution_count": 14,
   "id": "f9d0d4ed",
   "metadata": {},
   "outputs": [
    {
     "data": {
      "text/plain": [
       "571327"
      ]
     },
     "execution_count": 14,
     "metadata": {},
     "output_type": "execute_result"
    }
   ],
   "source": [
    "ages = [ages[sample] for sample in adata.obs['patient_id']]\n",
    "len(ages)"
   ]
  },
  {
   "cell_type": "code",
   "execution_count": 15,
   "id": "7e224f5c",
   "metadata": {},
   "outputs": [
    {
     "name": "stderr",
     "output_type": "stream",
     "text": [
      "Trying to set attribute `.obs` of view, copying.\n"
     ]
    },
    {
     "data": {
      "text/html": [
       "<div>\n",
       "<style scoped>\n",
       "    .dataframe tbody tr th:only-of-type {\n",
       "        vertical-align: middle;\n",
       "    }\n",
       "\n",
       "    .dataframe tbody tr th {\n",
       "        vertical-align: top;\n",
       "    }\n",
       "\n",
       "    .dataframe thead th {\n",
       "        text-align: right;\n",
       "    }\n",
       "</style>\n",
       "<table border=\"1\" class=\"dataframe\">\n",
       "  <thead>\n",
       "    <tr style=\"text-align: right;\">\n",
       "      <th></th>\n",
       "      <th>sample_id</th>\n",
       "      <th>n_genes</th>\n",
       "      <th>n_genes_by_counts</th>\n",
       "      <th>total_counts</th>\n",
       "      <th>total_counts_mt</th>\n",
       "      <th>pct_counts_mt</th>\n",
       "      <th>full_clustering</th>\n",
       "      <th>initial_clustering</th>\n",
       "      <th>Resample</th>\n",
       "      <th>Collection_Day</th>\n",
       "      <th>...</th>\n",
       "      <th>Smoker</th>\n",
       "      <th>Status_on_day_collection</th>\n",
       "      <th>Status_on_day_collection_summary</th>\n",
       "      <th>Days_from_onset</th>\n",
       "      <th>Site</th>\n",
       "      <th>time_after_LPS</th>\n",
       "      <th>Worst_Clinical_Status</th>\n",
       "      <th>Outcome</th>\n",
       "      <th>patient_id</th>\n",
       "      <th>Age</th>\n",
       "    </tr>\n",
       "    <tr>\n",
       "      <th>covid_index</th>\n",
       "      <th></th>\n",
       "      <th></th>\n",
       "      <th></th>\n",
       "      <th></th>\n",
       "      <th></th>\n",
       "      <th></th>\n",
       "      <th></th>\n",
       "      <th></th>\n",
       "      <th></th>\n",
       "      <th></th>\n",
       "      <th></th>\n",
       "      <th></th>\n",
       "      <th></th>\n",
       "      <th></th>\n",
       "      <th></th>\n",
       "      <th></th>\n",
       "      <th></th>\n",
       "      <th></th>\n",
       "      <th></th>\n",
       "      <th></th>\n",
       "      <th></th>\n",
       "    </tr>\n",
       "  </thead>\n",
       "  <tbody>\n",
       "    <tr>\n",
       "      <th>AAACCTGAGAAACCTA-MH9179824</th>\n",
       "      <td>MH9179824</td>\n",
       "      <td>1160</td>\n",
       "      <td>1160</td>\n",
       "      <td>2172.0</td>\n",
       "      <td>79.0</td>\n",
       "      <td>3.637201</td>\n",
       "      <td>CD8.TE</td>\n",
       "      <td>CD8</td>\n",
       "      <td>Initial</td>\n",
       "      <td>D0</td>\n",
       "      <td>...</td>\n",
       "      <td>Non-smoker</td>\n",
       "      <td>Ward_O2</td>\n",
       "      <td>Moderate</td>\n",
       "      <td>8</td>\n",
       "      <td>Ncl</td>\n",
       "      <td>nan</td>\n",
       "      <td>Moderate</td>\n",
       "      <td>Home</td>\n",
       "      <td>MH9179824</td>\n",
       "      <td>54</td>\n",
       "    </tr>\n",
       "    <tr>\n",
       "      <th>AAACCTGAGAGTAATC-MH9179824</th>\n",
       "      <td>MH9179824</td>\n",
       "      <td>1419</td>\n",
       "      <td>1419</td>\n",
       "      <td>3947.0</td>\n",
       "      <td>54.0</td>\n",
       "      <td>1.368128</td>\n",
       "      <td>CD4.IL22</td>\n",
       "      <td>CD4</td>\n",
       "      <td>Initial</td>\n",
       "      <td>D0</td>\n",
       "      <td>...</td>\n",
       "      <td>Non-smoker</td>\n",
       "      <td>Ward_O2</td>\n",
       "      <td>Moderate</td>\n",
       "      <td>8</td>\n",
       "      <td>Ncl</td>\n",
       "      <td>nan</td>\n",
       "      <td>Moderate</td>\n",
       "      <td>Home</td>\n",
       "      <td>MH9179824</td>\n",
       "      <td>54</td>\n",
       "    </tr>\n",
       "    <tr>\n",
       "      <th>AAACCTGAGAGTGAGA-MH9179824</th>\n",
       "      <td>MH9179824</td>\n",
       "      <td>1986</td>\n",
       "      <td>1986</td>\n",
       "      <td>5886.0</td>\n",
       "      <td>143.0</td>\n",
       "      <td>2.429494</td>\n",
       "      <td>CD8.Naive</td>\n",
       "      <td>CD4</td>\n",
       "      <td>Initial</td>\n",
       "      <td>D0</td>\n",
       "      <td>...</td>\n",
       "      <td>Non-smoker</td>\n",
       "      <td>Ward_O2</td>\n",
       "      <td>Moderate</td>\n",
       "      <td>8</td>\n",
       "      <td>Ncl</td>\n",
       "      <td>nan</td>\n",
       "      <td>Moderate</td>\n",
       "      <td>Home</td>\n",
       "      <td>MH9179824</td>\n",
       "      <td>54</td>\n",
       "    </tr>\n",
       "    <tr>\n",
       "      <th>AAACCTGAGGAATCGC-MH9179824</th>\n",
       "      <td>MH9179824</td>\n",
       "      <td>1508</td>\n",
       "      <td>1508</td>\n",
       "      <td>4271.0</td>\n",
       "      <td>106.0</td>\n",
       "      <td>2.481854</td>\n",
       "      <td>CD4.Naive</td>\n",
       "      <td>CD4</td>\n",
       "      <td>Initial</td>\n",
       "      <td>D0</td>\n",
       "      <td>...</td>\n",
       "      <td>Non-smoker</td>\n",
       "      <td>Ward_O2</td>\n",
       "      <td>Moderate</td>\n",
       "      <td>8</td>\n",
       "      <td>Ncl</td>\n",
       "      <td>nan</td>\n",
       "      <td>Moderate</td>\n",
       "      <td>Home</td>\n",
       "      <td>MH9179824</td>\n",
       "      <td>54</td>\n",
       "    </tr>\n",
       "    <tr>\n",
       "      <th>AAACCTGAGTGTTGAA-MH9179824</th>\n",
       "      <td>MH9179824</td>\n",
       "      <td>1109</td>\n",
       "      <td>1109</td>\n",
       "      <td>2279.0</td>\n",
       "      <td>76.0</td>\n",
       "      <td>3.334796</td>\n",
       "      <td>CD8.EM</td>\n",
       "      <td>CD4</td>\n",
       "      <td>Initial</td>\n",
       "      <td>D0</td>\n",
       "      <td>...</td>\n",
       "      <td>Non-smoker</td>\n",
       "      <td>Ward_O2</td>\n",
       "      <td>Moderate</td>\n",
       "      <td>8</td>\n",
       "      <td>Ncl</td>\n",
       "      <td>nan</td>\n",
       "      <td>Moderate</td>\n",
       "      <td>Home</td>\n",
       "      <td>MH9179824</td>\n",
       "      <td>54</td>\n",
       "    </tr>\n",
       "    <tr>\n",
       "      <th>...</th>\n",
       "      <td>...</td>\n",
       "      <td>...</td>\n",
       "      <td>...</td>\n",
       "      <td>...</td>\n",
       "      <td>...</td>\n",
       "      <td>...</td>\n",
       "      <td>...</td>\n",
       "      <td>...</td>\n",
       "      <td>...</td>\n",
       "      <td>...</td>\n",
       "      <td>...</td>\n",
       "      <td>...</td>\n",
       "      <td>...</td>\n",
       "      <td>...</td>\n",
       "      <td>...</td>\n",
       "      <td>...</td>\n",
       "      <td>...</td>\n",
       "      <td>...</td>\n",
       "      <td>...</td>\n",
       "      <td>...</td>\n",
       "      <td>...</td>\n",
       "    </tr>\n",
       "    <tr>\n",
       "      <th>BGCV15_TTTCCTCTCTGATACG-1</th>\n",
       "      <td>BGCV15_CV0944</td>\n",
       "      <td>1811</td>\n",
       "      <td>1811</td>\n",
       "      <td>5821.0</td>\n",
       "      <td>80.0</td>\n",
       "      <td>1.374334</td>\n",
       "      <td>CD4.CM</td>\n",
       "      <td>CD4</td>\n",
       "      <td>Initial</td>\n",
       "      <td>D0</td>\n",
       "      <td>...</td>\n",
       "      <td>Not_known</td>\n",
       "      <td>Healthy</td>\n",
       "      <td>Healthy</td>\n",
       "      <td>Healthy</td>\n",
       "      <td>Cambridge</td>\n",
       "      <td>nan</td>\n",
       "      <td>Healthy</td>\n",
       "      <td>Home</td>\n",
       "      <td>CV0944</td>\n",
       "      <td>58</td>\n",
       "    </tr>\n",
       "    <tr>\n",
       "      <th>BGCV15_TTTCCTCTCTTTAGGG-1</th>\n",
       "      <td>BGCV15_CV0944</td>\n",
       "      <td>2097</td>\n",
       "      <td>2097</td>\n",
       "      <td>7480.0</td>\n",
       "      <td>138.0</td>\n",
       "      <td>1.844920</td>\n",
       "      <td>CD4.IL22</td>\n",
       "      <td>CD4</td>\n",
       "      <td>Initial</td>\n",
       "      <td>D0</td>\n",
       "      <td>...</td>\n",
       "      <td>Not_known</td>\n",
       "      <td>Healthy</td>\n",
       "      <td>Healthy</td>\n",
       "      <td>Healthy</td>\n",
       "      <td>Cambridge</td>\n",
       "      <td>nan</td>\n",
       "      <td>Healthy</td>\n",
       "      <td>Home</td>\n",
       "      <td>CV0944</td>\n",
       "      <td>58</td>\n",
       "    </tr>\n",
       "    <tr>\n",
       "      <th>BGCV15_TTTGCGCTCACCGTAA-1</th>\n",
       "      <td>BGCV15_CV0944</td>\n",
       "      <td>2031</td>\n",
       "      <td>2031</td>\n",
       "      <td>5257.0</td>\n",
       "      <td>73.0</td>\n",
       "      <td>1.388625</td>\n",
       "      <td>NK_16hi</td>\n",
       "      <td>NK_16hi</td>\n",
       "      <td>Initial</td>\n",
       "      <td>D0</td>\n",
       "      <td>...</td>\n",
       "      <td>Not_known</td>\n",
       "      <td>Healthy</td>\n",
       "      <td>Healthy</td>\n",
       "      <td>Healthy</td>\n",
       "      <td>Cambridge</td>\n",
       "      <td>nan</td>\n",
       "      <td>Healthy</td>\n",
       "      <td>Home</td>\n",
       "      <td>CV0944</td>\n",
       "      <td>58</td>\n",
       "    </tr>\n",
       "    <tr>\n",
       "      <th>BGCV15_TTTGGTTTCAAGATCC-1</th>\n",
       "      <td>BGCV15_CV0944</td>\n",
       "      <td>2503</td>\n",
       "      <td>2503</td>\n",
       "      <td>6681.0</td>\n",
       "      <td>264.0</td>\n",
       "      <td>3.951504</td>\n",
       "      <td>NK_16hi</td>\n",
       "      <td>NK_16hi</td>\n",
       "      <td>Initial</td>\n",
       "      <td>D0</td>\n",
       "      <td>...</td>\n",
       "      <td>Not_known</td>\n",
       "      <td>Healthy</td>\n",
       "      <td>Healthy</td>\n",
       "      <td>Healthy</td>\n",
       "      <td>Cambridge</td>\n",
       "      <td>nan</td>\n",
       "      <td>Healthy</td>\n",
       "      <td>Home</td>\n",
       "      <td>CV0944</td>\n",
       "      <td>58</td>\n",
       "    </tr>\n",
       "    <tr>\n",
       "      <th>BGCV15_TTTGTCACAAGCCATT-1</th>\n",
       "      <td>BGCV15_CV0944</td>\n",
       "      <td>1973</td>\n",
       "      <td>1973</td>\n",
       "      <td>5315.0</td>\n",
       "      <td>103.0</td>\n",
       "      <td>1.937912</td>\n",
       "      <td>NK_16hi</td>\n",
       "      <td>NK_16hi</td>\n",
       "      <td>Initial</td>\n",
       "      <td>D0</td>\n",
       "      <td>...</td>\n",
       "      <td>Not_known</td>\n",
       "      <td>Healthy</td>\n",
       "      <td>Healthy</td>\n",
       "      <td>Healthy</td>\n",
       "      <td>Cambridge</td>\n",
       "      <td>nan</td>\n",
       "      <td>Healthy</td>\n",
       "      <td>Home</td>\n",
       "      <td>CV0944</td>\n",
       "      <td>58</td>\n",
       "    </tr>\n",
       "  </tbody>\n",
       "</table>\n",
       "<p>571327 rows × 24 columns</p>\n",
       "</div>"
      ],
      "text/plain": [
       "                                sample_id  n_genes  n_genes_by_counts  \\\n",
       "covid_index                                                             \n",
       "AAACCTGAGAAACCTA-MH9179824      MH9179824     1160               1160   \n",
       "AAACCTGAGAGTAATC-MH9179824      MH9179824     1419               1419   \n",
       "AAACCTGAGAGTGAGA-MH9179824      MH9179824     1986               1986   \n",
       "AAACCTGAGGAATCGC-MH9179824      MH9179824     1508               1508   \n",
       "AAACCTGAGTGTTGAA-MH9179824      MH9179824     1109               1109   \n",
       "...                                   ...      ...                ...   \n",
       "BGCV15_TTTCCTCTCTGATACG-1   BGCV15_CV0944     1811               1811   \n",
       "BGCV15_TTTCCTCTCTTTAGGG-1   BGCV15_CV0944     2097               2097   \n",
       "BGCV15_TTTGCGCTCACCGTAA-1   BGCV15_CV0944     2031               2031   \n",
       "BGCV15_TTTGGTTTCAAGATCC-1   BGCV15_CV0944     2503               2503   \n",
       "BGCV15_TTTGTCACAAGCCATT-1   BGCV15_CV0944     1973               1973   \n",
       "\n",
       "                            total_counts  total_counts_mt  pct_counts_mt  \\\n",
       "covid_index                                                                \n",
       "AAACCTGAGAAACCTA-MH9179824        2172.0             79.0       3.637201   \n",
       "AAACCTGAGAGTAATC-MH9179824        3947.0             54.0       1.368128   \n",
       "AAACCTGAGAGTGAGA-MH9179824        5886.0            143.0       2.429494   \n",
       "AAACCTGAGGAATCGC-MH9179824        4271.0            106.0       2.481854   \n",
       "AAACCTGAGTGTTGAA-MH9179824        2279.0             76.0       3.334796   \n",
       "...                                  ...              ...            ...   \n",
       "BGCV15_TTTCCTCTCTGATACG-1         5821.0             80.0       1.374334   \n",
       "BGCV15_TTTCCTCTCTTTAGGG-1         7480.0            138.0       1.844920   \n",
       "BGCV15_TTTGCGCTCACCGTAA-1         5257.0             73.0       1.388625   \n",
       "BGCV15_TTTGGTTTCAAGATCC-1         6681.0            264.0       3.951504   \n",
       "BGCV15_TTTGTCACAAGCCATT-1         5315.0            103.0       1.937912   \n",
       "\n",
       "                           full_clustering initial_clustering Resample  \\\n",
       "covid_index                                                              \n",
       "AAACCTGAGAAACCTA-MH9179824          CD8.TE                CD8  Initial   \n",
       "AAACCTGAGAGTAATC-MH9179824        CD4.IL22                CD4  Initial   \n",
       "AAACCTGAGAGTGAGA-MH9179824       CD8.Naive                CD4  Initial   \n",
       "AAACCTGAGGAATCGC-MH9179824       CD4.Naive                CD4  Initial   \n",
       "AAACCTGAGTGTTGAA-MH9179824          CD8.EM                CD4  Initial   \n",
       "...                                    ...                ...      ...   \n",
       "BGCV15_TTTCCTCTCTGATACG-1           CD4.CM                CD4  Initial   \n",
       "BGCV15_TTTCCTCTCTTTAGGG-1         CD4.IL22                CD4  Initial   \n",
       "BGCV15_TTTGCGCTCACCGTAA-1          NK_16hi            NK_16hi  Initial   \n",
       "BGCV15_TTTGGTTTCAAGATCC-1          NK_16hi            NK_16hi  Initial   \n",
       "BGCV15_TTTGTCACAAGCCATT-1          NK_16hi            NK_16hi  Initial   \n",
       "\n",
       "                           Collection_Day  ...      Smoker  \\\n",
       "covid_index                                ...               \n",
       "AAACCTGAGAAACCTA-MH9179824             D0  ...  Non-smoker   \n",
       "AAACCTGAGAGTAATC-MH9179824             D0  ...  Non-smoker   \n",
       "AAACCTGAGAGTGAGA-MH9179824             D0  ...  Non-smoker   \n",
       "AAACCTGAGGAATCGC-MH9179824             D0  ...  Non-smoker   \n",
       "AAACCTGAGTGTTGAA-MH9179824             D0  ...  Non-smoker   \n",
       "...                                   ...  ...         ...   \n",
       "BGCV15_TTTCCTCTCTGATACG-1              D0  ...   Not_known   \n",
       "BGCV15_TTTCCTCTCTTTAGGG-1              D0  ...   Not_known   \n",
       "BGCV15_TTTGCGCTCACCGTAA-1              D0  ...   Not_known   \n",
       "BGCV15_TTTGGTTTCAAGATCC-1              D0  ...   Not_known   \n",
       "BGCV15_TTTGTCACAAGCCATT-1              D0  ...   Not_known   \n",
       "\n",
       "                           Status_on_day_collection  \\\n",
       "covid_index                                           \n",
       "AAACCTGAGAAACCTA-MH9179824                  Ward_O2   \n",
       "AAACCTGAGAGTAATC-MH9179824                  Ward_O2   \n",
       "AAACCTGAGAGTGAGA-MH9179824                  Ward_O2   \n",
       "AAACCTGAGGAATCGC-MH9179824                  Ward_O2   \n",
       "AAACCTGAGTGTTGAA-MH9179824                  Ward_O2   \n",
       "...                                             ...   \n",
       "BGCV15_TTTCCTCTCTGATACG-1                   Healthy   \n",
       "BGCV15_TTTCCTCTCTTTAGGG-1                   Healthy   \n",
       "BGCV15_TTTGCGCTCACCGTAA-1                   Healthy   \n",
       "BGCV15_TTTGGTTTCAAGATCC-1                   Healthy   \n",
       "BGCV15_TTTGTCACAAGCCATT-1                   Healthy   \n",
       "\n",
       "                           Status_on_day_collection_summary Days_from_onset  \\\n",
       "covid_index                                                                   \n",
       "AAACCTGAGAAACCTA-MH9179824                         Moderate               8   \n",
       "AAACCTGAGAGTAATC-MH9179824                         Moderate               8   \n",
       "AAACCTGAGAGTGAGA-MH9179824                         Moderate               8   \n",
       "AAACCTGAGGAATCGC-MH9179824                         Moderate               8   \n",
       "AAACCTGAGTGTTGAA-MH9179824                         Moderate               8   \n",
       "...                                                     ...             ...   \n",
       "BGCV15_TTTCCTCTCTGATACG-1                           Healthy         Healthy   \n",
       "BGCV15_TTTCCTCTCTTTAGGG-1                           Healthy         Healthy   \n",
       "BGCV15_TTTGCGCTCACCGTAA-1                           Healthy         Healthy   \n",
       "BGCV15_TTTGGTTTCAAGATCC-1                           Healthy         Healthy   \n",
       "BGCV15_TTTGTCACAAGCCATT-1                           Healthy         Healthy   \n",
       "\n",
       "                                 Site time_after_LPS Worst_Clinical_Status  \\\n",
       "covid_index                                                                  \n",
       "AAACCTGAGAAACCTA-MH9179824        Ncl            nan              Moderate   \n",
       "AAACCTGAGAGTAATC-MH9179824        Ncl            nan              Moderate   \n",
       "AAACCTGAGAGTGAGA-MH9179824        Ncl            nan              Moderate   \n",
       "AAACCTGAGGAATCGC-MH9179824        Ncl            nan              Moderate   \n",
       "AAACCTGAGTGTTGAA-MH9179824        Ncl            nan              Moderate   \n",
       "...                               ...            ...                   ...   \n",
       "BGCV15_TTTCCTCTCTGATACG-1   Cambridge            nan               Healthy   \n",
       "BGCV15_TTTCCTCTCTTTAGGG-1   Cambridge            nan               Healthy   \n",
       "BGCV15_TTTGCGCTCACCGTAA-1   Cambridge            nan               Healthy   \n",
       "BGCV15_TTTGGTTTCAAGATCC-1   Cambridge            nan               Healthy   \n",
       "BGCV15_TTTGTCACAAGCCATT-1   Cambridge            nan               Healthy   \n",
       "\n",
       "                           Outcome patient_id Age  \n",
       "covid_index                                        \n",
       "AAACCTGAGAAACCTA-MH9179824    Home  MH9179824  54  \n",
       "AAACCTGAGAGTAATC-MH9179824    Home  MH9179824  54  \n",
       "AAACCTGAGAGTGAGA-MH9179824    Home  MH9179824  54  \n",
       "AAACCTGAGGAATCGC-MH9179824    Home  MH9179824  54  \n",
       "AAACCTGAGTGTTGAA-MH9179824    Home  MH9179824  54  \n",
       "...                            ...        ...  ..  \n",
       "BGCV15_TTTCCTCTCTGATACG-1     Home     CV0944  58  \n",
       "BGCV15_TTTCCTCTCTTTAGGG-1     Home     CV0944  58  \n",
       "BGCV15_TTTGCGCTCACCGTAA-1     Home     CV0944  58  \n",
       "BGCV15_TTTGGTTTCAAGATCC-1     Home     CV0944  58  \n",
       "BGCV15_TTTGTCACAAGCCATT-1     Home     CV0944  58  \n",
       "\n",
       "[571327 rows x 24 columns]"
      ]
     },
     "execution_count": 15,
     "metadata": {},
     "output_type": "execute_result"
    }
   ],
   "source": [
    "adata.obs['Age'] = ages\n",
    "adata.obs"
   ]
  },
  {
   "cell_type": "markdown",
   "id": "c236d817",
   "metadata": {},
   "source": [
    "# Split into train and test"
   ]
  },
  {
   "cell_type": "code",
   "execution_count": 16,
   "id": "ac417e9e",
   "metadata": {},
   "outputs": [
    {
     "data": {
      "text/plain": [
       "AnnData object with n_obs × n_vars = 571327 × 24929\n",
       "    obs: 'sample_id', 'n_genes', 'n_genes_by_counts', 'total_counts', 'total_counts_mt', 'pct_counts_mt', 'full_clustering', 'initial_clustering', 'Resample', 'Collection_Day', 'Sex', 'Age_interval', 'Swab_result', 'Status', 'Smoker', 'Status_on_day_collection', 'Status_on_day_collection_summary', 'Days_from_onset', 'Site', 'time_after_LPS', 'Worst_Clinical_Status', 'Outcome', 'patient_id', 'Age'\n",
       "    var: 'feature_types'\n",
       "    uns: 'hvg', 'leiden', 'neighbors', 'pca', 'umap'\n",
       "    obsm: 'X_pca', 'X_pca_harmony', 'X_umap'\n",
       "    layers: 'raw'"
      ]
     },
     "execution_count": 16,
     "metadata": {},
     "output_type": "execute_result"
    }
   ],
   "source": [
    "adata"
   ]
  },
  {
   "cell_type": "code",
   "execution_count": 17,
   "id": "6b25d782",
   "metadata": {},
   "outputs": [
    {
     "data": {
      "text/plain": [
       "109"
      ]
     },
     "execution_count": 17,
     "metadata": {},
     "output_type": "execute_result"
    }
   ],
   "source": [
    "len(adata.obs['patient_id'].cat.categories)"
   ]
  },
  {
   "cell_type": "code",
   "execution_count": 31,
   "id": "2516f55c",
   "metadata": {},
   "outputs": [
    {
     "name": "stderr",
     "output_type": "stream",
     "text": [
      "/home/icb/anastasia.litinetskaya/miniconda3/envs/multi/lib/python3.8/site-packages/pandas/core/arrays/categorical.py:2631: FutureWarning: The `inplace` parameter in pandas.Categorical.remove_unused_categories is deprecated and will be removed in a future version.\n",
      "  res = method(*args, **kwargs)\n"
     ]
    },
    {
     "data": {
      "text/html": [
       "<div>\n",
       "<style scoped>\n",
       "    .dataframe tbody tr th:only-of-type {\n",
       "        vertical-align: middle;\n",
       "    }\n",
       "\n",
       "    .dataframe tbody tr th {\n",
       "        vertical-align: top;\n",
       "    }\n",
       "\n",
       "    .dataframe thead th {\n",
       "        text-align: right;\n",
       "    }\n",
       "</style>\n",
       "<table border=\"1\" class=\"dataframe\">\n",
       "  <thead>\n",
       "    <tr style=\"text-align: right;\">\n",
       "      <th></th>\n",
       "      <th>patient_id</th>\n",
       "    </tr>\n",
       "    <tr>\n",
       "      <th>Status_on_day_collection_summary</th>\n",
       "      <th></th>\n",
       "    </tr>\n",
       "  </thead>\n",
       "  <tbody>\n",
       "    <tr>\n",
       "      <th>Asymptomatic</th>\n",
       "      <td>2</td>\n",
       "    </tr>\n",
       "    <tr>\n",
       "      <th>Critical</th>\n",
       "      <td>1</td>\n",
       "    </tr>\n",
       "    <tr>\n",
       "      <th>Healthy</th>\n",
       "      <td>2</td>\n",
       "    </tr>\n",
       "    <tr>\n",
       "      <th>Mild</th>\n",
       "      <td>1</td>\n",
       "    </tr>\n",
       "    <tr>\n",
       "      <th>Moderate</th>\n",
       "      <td>2</td>\n",
       "    </tr>\n",
       "    <tr>\n",
       "      <th>Severe</th>\n",
       "      <td>2</td>\n",
       "    </tr>\n",
       "  </tbody>\n",
       "</table>\n",
       "</div>"
      ],
      "text/plain": [
       "                                  patient_id\n",
       "Status_on_day_collection_summary            \n",
       "Asymptomatic                               2\n",
       "Critical                                   1\n",
       "Healthy                                    2\n",
       "Mild                                       1\n",
       "Moderate                                   2\n",
       "Severe                                     2"
      ]
     },
     "execution_count": 31,
     "metadata": {},
     "output_type": "execute_result"
    }
   ],
   "source": [
    "patient = 'patient_id'\n",
    "label = 'Status_on_day_collection_summary'\n",
    "number_of_test_patients = 10\n",
    "patients = list(adata.obs[patient].cat.categories)\n",
    "test_patient_ids = random.sample(patients, number_of_test_patients)\n",
    "adata[adata.obs[patient].isin(test_patient_ids)].obs[[label, patient]].drop_duplicates().groupby(label).count() # check class distribution for test set"
   ]
  },
  {
   "cell_type": "code",
   "execution_count": 32,
   "id": "2f0ba1a1",
   "metadata": {},
   "outputs": [
    {
     "name": "stderr",
     "output_type": "stream",
     "text": [
      "/home/icb/anastasia.litinetskaya/miniconda3/envs/multi/lib/python3.8/site-packages/pandas/core/arrays/categorical.py:2631: FutureWarning: The `inplace` parameter in pandas.Categorical.remove_unused_categories is deprecated and will be removed in a future version.\n",
      "  res = method(*args, **kwargs)\n"
     ]
    }
   ],
   "source": [
    "# to make sure that all of the classes are present in the test set\n",
    "assert len(adata[adata.obs[patient].isin(test_patient_ids)].obs[label].unique()) == len(adata.obs[label].unique())"
   ]
  },
  {
   "cell_type": "code",
   "execution_count": 33,
   "id": "23ad03fa",
   "metadata": {},
   "outputs": [],
   "source": [
    "adata_test = adata[adata.obs[patient].isin(test_patient_ids)].copy()\n",
    "adata_train = adata[~adata.obs[patient].isin(test_patient_ids)].copy()\n",
    "adata_test.obs['split'] = \"test\"\n",
    "adata_train.obs['split'] = \"train\""
   ]
  },
  {
   "cell_type": "code",
   "execution_count": 34,
   "id": "b0e71f0f",
   "metadata": {},
   "outputs": [
    {
     "data": {
      "text/plain": [
       "AnnData object with n_obs × n_vars = 571327 × 24929\n",
       "    obs: 'sample_id', 'n_genes', 'n_genes_by_counts', 'total_counts', 'total_counts_mt', 'pct_counts_mt', 'full_clustering', 'initial_clustering', 'Resample', 'Collection_Day', 'Sex', 'Age_interval', 'Swab_result', 'Status', 'Smoker', 'Status_on_day_collection', 'Status_on_day_collection_summary', 'Days_from_onset', 'Site', 'time_after_LPS', 'Worst_Clinical_Status', 'Outcome', 'patient_id', 'Age', 'split', 'batch'\n",
       "    var: 'feature_types'\n",
       "    obsm: 'X_pca', 'X_pca_harmony', 'X_umap'\n",
       "    layers: 'raw'"
      ]
     },
     "execution_count": 34,
     "metadata": {},
     "output_type": "execute_result"
    }
   ],
   "source": [
    "adata = adata_train.concatenate(adata_test, index_unique=None)\n",
    "adata"
   ]
  },
  {
   "cell_type": "code",
   "execution_count": 35,
   "id": "70c5041f",
   "metadata": {},
   "outputs": [],
   "source": [
    "rna = adata[:, adata.var['feature_types'] == 'Gene Expression']\n",
    "adt = adata[:, adata.var['feature_types'] == 'Antibody Capture']"
   ]
  },
  {
   "cell_type": "code",
   "execution_count": 36,
   "id": "492b3748",
   "metadata": {},
   "outputs": [],
   "source": [
    "del adata"
   ]
  },
  {
   "cell_type": "markdown",
   "id": "933a336a",
   "metadata": {},
   "source": [
    "# RNA"
   ]
  },
  {
   "cell_type": "code",
   "execution_count": 38,
   "id": "e7976d87",
   "metadata": {},
   "outputs": [],
   "source": [
    "rna = rna.copy()"
   ]
  },
  {
   "cell_type": "code",
   "execution_count": 39,
   "id": "ac2c89fc",
   "metadata": {},
   "outputs": [],
   "source": [
    "rna.X = rna.layers['raw']"
   ]
  },
  {
   "cell_type": "code",
   "execution_count": 40,
   "id": "c09f00a2",
   "metadata": {},
   "outputs": [
    {
     "data": {
      "text/plain": [
       "AnnData object with n_obs × n_vars = 571327 × 24737\n",
       "    obs: 'sample_id', 'n_genes', 'n_genes_by_counts', 'total_counts', 'total_counts_mt', 'pct_counts_mt', 'full_clustering', 'initial_clustering', 'Resample', 'Collection_Day', 'Sex', 'Age_interval', 'Swab_result', 'Status', 'Smoker', 'Status_on_day_collection', 'Status_on_day_collection_summary', 'Days_from_onset', 'Site', 'time_after_LPS', 'Worst_Clinical_Status', 'Outcome', 'patient_id', 'Age', 'split', 'batch'\n",
       "    var: 'feature_types'\n",
       "    obsm: 'X_pca', 'X_pca_harmony', 'X_umap'"
      ]
     },
     "execution_count": 40,
     "metadata": {},
     "output_type": "execute_result"
    }
   ],
   "source": [
    "del rna.layers['raw']\n",
    "rna"
   ]
  },
  {
   "cell_type": "code",
   "execution_count": 41,
   "id": "665a9bdd",
   "metadata": {},
   "outputs": [],
   "source": [
    "rna.layers['count'] = rna.X.copy()"
   ]
  },
  {
   "cell_type": "code",
   "execution_count": 42,
   "id": "f0fb6e1b",
   "metadata": {},
   "outputs": [],
   "source": [
    "sc.pp.normalize_total(rna, target_sum=1e4)\n",
    "sc.pp.log1p(rna)"
   ]
  },
  {
   "cell_type": "code",
   "execution_count": 43,
   "id": "5928ab8b",
   "metadata": {},
   "outputs": [
    {
     "name": "stderr",
     "output_type": "stream",
     "text": [
      "... storing 'sample_id' as categorical\n",
      "... storing 'full_clustering' as categorical\n",
      "... storing 'Age_interval' as categorical\n",
      "... storing 'Swab_result' as categorical\n",
      "... storing 'Smoker' as categorical\n",
      "... storing 'Status_on_day_collection' as categorical\n",
      "... storing 'Days_from_onset' as categorical\n",
      "... storing 'Site' as categorical\n",
      "... storing 'Worst_Clinical_Status' as categorical\n",
      "... storing 'Outcome' as categorical\n",
      "... storing 'patient_id' as categorical\n",
      "... storing 'split' as categorical\n"
     ]
    }
   ],
   "source": [
    "rna.write('stephenson2021_rna.h5ad')"
   ]
  },
  {
   "cell_type": "code",
   "execution_count": 44,
   "id": "d7622809",
   "metadata": {},
   "outputs": [
    {
     "data": {
      "text/plain": [
       "View of AnnData object with n_obs × n_vars = 571327 × 4000\n",
       "    obs: 'sample_id', 'n_genes', 'n_genes_by_counts', 'total_counts', 'total_counts_mt', 'pct_counts_mt', 'full_clustering', 'initial_clustering', 'Resample', 'Collection_Day', 'Sex', 'Age_interval', 'Swab_result', 'Status', 'Smoker', 'Status_on_day_collection', 'Status_on_day_collection_summary', 'Days_from_onset', 'Site', 'time_after_LPS', 'Worst_Clinical_Status', 'Outcome', 'patient_id', 'Age', 'split', 'batch'\n",
       "    var: 'feature_types', 'highly_variable', 'means', 'dispersions', 'dispersions_norm'\n",
       "    uns: 'log1p', 'hvg'\n",
       "    obsm: 'X_pca', 'X_pca_harmony', 'X_umap'\n",
       "    layers: 'count'"
      ]
     },
     "execution_count": 44,
     "metadata": {},
     "output_type": "execute_result"
    }
   ],
   "source": [
    "sc.pp.highly_variable_genes(rna, n_top_genes=4000)\n",
    "rna = rna[:,rna.var.highly_variable]\n",
    "rna"
   ]
  },
  {
   "cell_type": "code",
   "execution_count": 45,
   "id": "4e466ddf",
   "metadata": {},
   "outputs": [],
   "source": [
    "rna.write('stephenson2021_rna_hvg.h5ad')"
   ]
  },
  {
   "cell_type": "markdown",
   "id": "8c17e3c2",
   "metadata": {},
   "source": [
    "# ADT"
   ]
  },
  {
   "cell_type": "code",
   "execution_count": 46,
   "id": "fca76e57",
   "metadata": {},
   "outputs": [],
   "source": [
    "def clr_normalize_each_cell(adata, inplace=True):\n",
    "    \"\"\"Normalize count vector for each cell, i.e. for each row of .X\"\"\"\n",
    "\n",
    "    import numpy as np\n",
    "    import scipy\n",
    "\n",
    "    def seurat_clr(x):\n",
    "        s = np.sum(np.log1p(x[x > 0]))\n",
    "        exp = np.exp(s / len(x))\n",
    "        return np.log1p(x / exp)\n",
    "\n",
    "    if not inplace:\n",
    "        adata = adata.copy()\n",
    "\n",
    "    # apply to dense or sparse matrix, along axis. returns dense matrix\n",
    "    adata.X = np.apply_along_axis(\n",
    "        seurat_clr, 1, (adata.X.A if scipy.sparse.issparse(adata.X) else adata.X)\n",
    "    )\n",
    "    return adata"
   ]
  },
  {
   "cell_type": "code",
   "execution_count": 48,
   "id": "075b5085",
   "metadata": {},
   "outputs": [
    {
     "data": {
      "text/plain": [
       "AnnData object with n_obs × n_vars = 571327 × 192\n",
       "    obs: 'sample_id', 'n_genes', 'n_genes_by_counts', 'total_counts', 'total_counts_mt', 'pct_counts_mt', 'full_clustering', 'initial_clustering', 'Resample', 'Collection_Day', 'Sex', 'Age_interval', 'Swab_result', 'Status', 'Smoker', 'Status_on_day_collection', 'Status_on_day_collection_summary', 'Days_from_onset', 'Site', 'time_after_LPS', 'Worst_Clinical_Status', 'Outcome', 'patient_id', 'Age', 'split', 'batch'\n",
       "    var: 'feature_types'\n",
       "    obsm: 'X_pca', 'X_pca_harmony', 'X_umap'"
      ]
     },
     "execution_count": 48,
     "metadata": {},
     "output_type": "execute_result"
    }
   ],
   "source": [
    "adt = adt.copy()\n",
    "adt.X = adt.layers['raw']\n",
    "del adt.layers['raw']\n",
    "adt"
   ]
  },
  {
   "cell_type": "code",
   "execution_count": 49,
   "id": "af21ec31",
   "metadata": {},
   "outputs": [],
   "source": [
    "adt.layers['count'] = adt.X.copy()"
   ]
  },
  {
   "cell_type": "code",
   "execution_count": 50,
   "id": "64f56f4a",
   "metadata": {},
   "outputs": [
    {
     "data": {
      "text/plain": [
       "AnnData object with n_obs × n_vars = 571327 × 192\n",
       "    obs: 'sample_id', 'n_genes', 'n_genes_by_counts', 'total_counts', 'total_counts_mt', 'pct_counts_mt', 'full_clustering', 'initial_clustering', 'Resample', 'Collection_Day', 'Sex', 'Age_interval', 'Swab_result', 'Status', 'Smoker', 'Status_on_day_collection', 'Status_on_day_collection_summary', 'Days_from_onset', 'Site', 'time_after_LPS', 'Worst_Clinical_Status', 'Outcome', 'patient_id', 'Age', 'split', 'batch'\n",
       "    var: 'feature_types'\n",
       "    obsm: 'X_pca', 'X_pca_harmony', 'X_umap'\n",
       "    layers: 'count'"
      ]
     },
     "execution_count": 50,
     "metadata": {},
     "output_type": "execute_result"
    }
   ],
   "source": [
    "adt = clr_normalize_each_cell(adt)\n",
    "adt"
   ]
  },
  {
   "cell_type": "code",
   "execution_count": 52,
   "id": "4d62a6d2",
   "metadata": {},
   "outputs": [
    {
     "name": "stderr",
     "output_type": "stream",
     "text": [
      "... storing 'sample_id' as categorical\n",
      "... storing 'full_clustering' as categorical\n",
      "... storing 'Age_interval' as categorical\n",
      "... storing 'Swab_result' as categorical\n",
      "... storing 'Smoker' as categorical\n",
      "... storing 'Status_on_day_collection' as categorical\n",
      "... storing 'Days_from_onset' as categorical\n",
      "... storing 'Site' as categorical\n",
      "... storing 'Worst_Clinical_Status' as categorical\n",
      "... storing 'Outcome' as categorical\n",
      "... storing 'patient_id' as categorical\n",
      "... storing 'split' as categorical\n"
     ]
    }
   ],
   "source": [
    "adt.write('stephenson2021_adt.h5ad')"
   ]
  },
  {
   "cell_type": "markdown",
   "id": "cab77783",
   "metadata": {},
   "source": [
    "# Checks"
   ]
  },
  {
   "cell_type": "markdown",
   "id": "91fa5f24",
   "metadata": {},
   "source": [
    "Check that raw counts are indeed in `.layers[\"count\"]` and normalized counts in `.X`."
   ]
  },
  {
   "cell_type": "code",
   "execution_count": 53,
   "id": "8148e0d0",
   "metadata": {},
   "outputs": [
    {
     "data": {
      "text/plain": [
       "11.1271305"
      ]
     },
     "execution_count": 53,
     "metadata": {},
     "output_type": "execute_result"
    }
   ],
   "source": [
    "np.max(adt.X)"
   ]
  },
  {
   "cell_type": "code",
   "execution_count": 54,
   "id": "23acc4ea",
   "metadata": {},
   "outputs": [
    {
     "data": {
      "text/plain": [
       "275279.0"
      ]
     },
     "execution_count": 54,
     "metadata": {},
     "output_type": "execute_result"
    }
   ],
   "source": [
    "np.max(adt.layers['count'])"
   ]
  },
  {
   "cell_type": "code",
   "execution_count": 55,
   "id": "527bd521",
   "metadata": {},
   "outputs": [
    {
     "data": {
      "text/plain": [
       "9.070676"
      ]
     },
     "execution_count": 55,
     "metadata": {},
     "output_type": "execute_result"
    }
   ],
   "source": [
    "np.max(rna.X)"
   ]
  },
  {
   "cell_type": "code",
   "execution_count": 56,
   "id": "726013a1",
   "metadata": {},
   "outputs": [
    {
     "data": {
      "text/plain": [
       "47487.0"
      ]
     },
     "execution_count": 56,
     "metadata": {},
     "output_type": "execute_result"
    }
   ],
   "source": [
    "np.max(rna.layers['count'])"
   ]
  },
  {
   "cell_type": "code",
   "execution_count": null,
   "id": "cb346c8f",
   "metadata": {},
   "outputs": [],
   "source": []
  }
 ],
 "metadata": {
  "kernelspec": {
   "display_name": "Python 3 (ipykernel)",
   "language": "python",
   "name": "python3"
  },
  "language_info": {
   "codemirror_mode": {
    "name": "ipython",
    "version": 3
   },
   "file_extension": ".py",
   "mimetype": "text/x-python",
   "name": "python",
   "nbconvert_exporter": "python",
   "pygments_lexer": "ipython3",
   "version": "3.8.12"
  }
 },
 "nbformat": 4,
 "nbformat_minor": 5
}
