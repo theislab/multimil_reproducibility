{
 "cells": [
  {
   "cell_type": "code",
   "execution_count": 1,
   "id": "2c448f5b",
   "metadata": {},
   "outputs": [
    {
     "name": "stderr",
     "output_type": "stream",
     "text": [
      "/lustre/groups/ml01/workspace/anastasia.litinetskaya/mambaforge/envs/multimil/lib/python3.10/site-packages/umap/distances.py:1063: NumbaDeprecationWarning: The 'nopython' keyword argument was not supplied to the 'numba.jit' decorator. The implicit default value for this argument is currently False, but it will be changed to True in Numba 0.59.0. See https://numba.readthedocs.io/en/stable/reference/deprecation.html#deprecation-of-object-mode-fall-back-behaviour-when-using-jit for details.\n",
      "  @numba.jit()\n",
      "/lustre/groups/ml01/workspace/anastasia.litinetskaya/mambaforge/envs/multimil/lib/python3.10/site-packages/umap/distances.py:1071: NumbaDeprecationWarning: The 'nopython' keyword argument was not supplied to the 'numba.jit' decorator. The implicit default value for this argument is currently False, but it will be changed to True in Numba 0.59.0. See https://numba.readthedocs.io/en/stable/reference/deprecation.html#deprecation-of-object-mode-fall-back-behaviour-when-using-jit for details.\n",
      "  @numba.jit()\n",
      "/lustre/groups/ml01/workspace/anastasia.litinetskaya/mambaforge/envs/multimil/lib/python3.10/site-packages/umap/distances.py:1086: NumbaDeprecationWarning: The 'nopython' keyword argument was not supplied to the 'numba.jit' decorator. The implicit default value for this argument is currently False, but it will be changed to True in Numba 0.59.0. See https://numba.readthedocs.io/en/stable/reference/deprecation.html#deprecation-of-object-mode-fall-back-behaviour-when-using-jit for details.\n",
      "  @numba.jit()\n",
      "/lustre/groups/ml01/workspace/anastasia.litinetskaya/mambaforge/envs/multimil/lib/python3.10/site-packages/umap/umap_.py:660: NumbaDeprecationWarning: The 'nopython' keyword argument was not supplied to the 'numba.jit' decorator. The implicit default value for this argument is currently False, but it will be changed to True in Numba 0.59.0. See https://numba.readthedocs.io/en/stable/reference/deprecation.html#deprecation-of-object-mode-fall-back-behaviour-when-using-jit for details.\n",
      "  @numba.jit()\n"
     ]
    }
   ],
   "source": [
    "import scanpy as sc\n",
    "import numpy as np\n",
    "import muon\n",
    "\n",
    "from sklearn.model_selection import KFold\n",
    "\n",
    "import warnings\n",
    "warnings.simplefilter(action='ignore', category=FutureWarning)"
   ]
  },
  {
   "cell_type": "markdown",
   "id": "f6387f18",
   "metadata": {},
   "source": [
    "# Download data"
   ]
  },
  {
   "cell_type": "code",
   "execution_count": 2,
   "id": "76247adb",
   "metadata": {},
   "outputs": [],
   "source": [
    "# !wget --no-check-certificate https://covid19.cog.sanger.ac.uk/submissions/release1/haniffa21.processed.h5ad -O ../../data/raw/Haniffa_all.h5ad"
   ]
  },
  {
   "cell_type": "code",
   "execution_count": 3,
   "id": "6419ad48",
   "metadata": {},
   "outputs": [
    {
     "data": {
      "text/plain": [
       "AnnData object with n_obs × n_vars = 647366 × 24929\n",
       "    obs: 'sample_id', 'n_genes', 'n_genes_by_counts', 'total_counts', 'total_counts_mt', 'pct_counts_mt', 'full_clustering', 'initial_clustering', 'Resample', 'Collection_Day', 'Sex', 'Age_interval', 'Swab_result', 'Status', 'Smoker', 'Status_on_day_collection', 'Status_on_day_collection_summary', 'Days_from_onset', 'Site', 'time_after_LPS', 'Worst_Clinical_Status', 'Outcome', 'patient_id'\n",
       "    var: 'feature_types'\n",
       "    uns: 'hvg', 'leiden', 'neighbors', 'pca', 'umap'\n",
       "    obsm: 'X_pca', 'X_pca_harmony', 'X_umap'\n",
       "    layers: 'raw'"
      ]
     },
     "execution_count": 3,
     "metadata": {},
     "output_type": "execute_result"
    }
   ],
   "source": [
    "adata = sc.read('../../data/raw/Haniffa_all.h5ad')\n",
    "adata"
   ]
  },
  {
   "cell_type": "code",
   "execution_count": 4,
   "id": "29f134bf",
   "metadata": {},
   "outputs": [
    {
     "data": {
      "text/plain": [
       "AnnData object with n_obs × n_vars = 647366 × 192\n",
       "    obs: 'sample_id', 'n_genes', 'n_genes_by_counts', 'total_counts', 'total_counts_mt', 'pct_counts_mt', 'full_clustering', 'initial_clustering', 'Resample', 'Collection_Day', 'Sex', 'Age_interval', 'Swab_result', 'Status', 'Smoker', 'Status_on_day_collection', 'Status_on_day_collection_summary', 'Days_from_onset', 'Site', 'time_after_LPS', 'Worst_Clinical_Status', 'Outcome', 'patient_id'\n",
       "    var: 'feature_types'\n",
       "    uns: 'hvg', 'leiden', 'neighbors', 'pca', 'umap'\n",
       "    obsm: 'X_pca', 'X_pca_harmony', 'X_umap'\n",
       "    layers: 'raw'"
      ]
     },
     "execution_count": 4,
     "metadata": {},
     "output_type": "execute_result"
    }
   ],
   "source": [
    "adt = adata[:, adata.var['feature_types'] == 'Antibody Capture'].copy()\n",
    "adt"
   ]
  },
  {
   "cell_type": "code",
   "execution_count": 5,
   "id": "3da9c569",
   "metadata": {},
   "outputs": [
    {
     "data": {
      "text/plain": [
       "AnnData object with n_obs × n_vars = 647366 × 24737\n",
       "    obs: 'sample_id', 'n_genes', 'n_genes_by_counts', 'total_counts', 'total_counts_mt', 'pct_counts_mt', 'full_clustering', 'initial_clustering', 'Resample', 'Collection_Day', 'Sex', 'Age_interval', 'Swab_result', 'Status', 'Smoker', 'Status_on_day_collection', 'Status_on_day_collection_summary', 'Days_from_onset', 'Site', 'time_after_LPS', 'Worst_Clinical_Status', 'Outcome', 'patient_id'\n",
       "    var: 'feature_types'\n",
       "    uns: 'hvg', 'leiden', 'neighbors', 'pca', 'umap'\n",
       "    obsm: 'X_pca', 'X_pca_harmony', 'X_umap'\n",
       "    layers: 'raw'"
      ]
     },
     "execution_count": 5,
     "metadata": {},
     "output_type": "execute_result"
    }
   ],
   "source": [
    "rna = adata[:, adata.var['feature_types'] == 'Gene Expression'].copy()\n",
    "rna"
   ]
  },
  {
   "cell_type": "code",
   "execution_count": 6,
   "id": "1e7b1776",
   "metadata": {},
   "outputs": [],
   "source": [
    "del adata"
   ]
  },
  {
   "cell_type": "markdown",
   "id": "6acccb15",
   "metadata": {},
   "source": [
    "# Preprocess RNA"
   ]
  },
  {
   "cell_type": "code",
   "execution_count": 7,
   "id": "da569e8f",
   "metadata": {},
   "outputs": [
    {
     "data": {
      "text/plain": [
       "array([1., 1., 1., ..., 7., 3., 7.], dtype=float32)"
      ]
     },
     "execution_count": 7,
     "metadata": {},
     "output_type": "execute_result"
    }
   ],
   "source": [
    "rna.layers['raw'].data"
   ]
  },
  {
   "cell_type": "code",
   "execution_count": 8,
   "id": "2e0fe642",
   "metadata": {},
   "outputs": [],
   "source": [
    "rna.layers['counts'] = rna.layers['raw'].copy()\n",
    "rna.X = rna.layers['counts'].copy()\n",
    "del rna.layers['raw']"
   ]
  },
  {
   "cell_type": "markdown",
   "id": "55e49c95",
   "metadata": {},
   "source": [
    "We include `Site` as the batch covariate in the hvg selection and compute PCAs, neighbors and UMAP coordinates using the hvgs."
   ]
  },
  {
   "cell_type": "code",
   "execution_count": 9,
   "id": "dd0694e7",
   "metadata": {},
   "outputs": [
    {
     "data": {
      "text/plain": [
       "AnnData object with n_obs × n_vars = 647366 × 24737\n",
       "    obs: 'sample_id', 'n_genes', 'n_genes_by_counts', 'total_counts', 'total_counts_mt', 'pct_counts_mt', 'full_clustering', 'initial_clustering', 'Resample', 'Collection_Day', 'Sex', 'Age_interval', 'Swab_result', 'Status', 'Smoker', 'Status_on_day_collection', 'Status_on_day_collection_summary', 'Days_from_onset', 'Site', 'time_after_LPS', 'Worst_Clinical_Status', 'Outcome', 'patient_id'\n",
       "    var: 'feature_types', 'means', 'variances', 'residual_variances', 'highly_variable_rank', 'highly_variable_nbatches', 'highly_variable_intersection', 'highly_variable'\n",
       "    uns: 'hvg', 'leiden', 'neighbors', 'pca', 'umap'\n",
       "    obsm: 'X_pca', 'X_pca_harmony', 'X_umap'\n",
       "    layers: 'counts'"
      ]
     },
     "execution_count": 9,
     "metadata": {},
     "output_type": "execute_result"
    }
   ],
   "source": [
    "sc.experimental.pp.highly_variable_genes(rna, n_top_genes=2000, batch_key='Site')\n",
    "rna"
   ]
  },
  {
   "cell_type": "code",
   "execution_count": 10,
   "id": "c78b6257-7240-4e18-9535-706b84f21de7",
   "metadata": {},
   "outputs": [
    {
     "data": {
      "text/plain": [
       "AnnData object with n_obs × n_vars = 647366 × 2000\n",
       "    obs: 'sample_id', 'n_genes', 'n_genes_by_counts', 'total_counts', 'total_counts_mt', 'pct_counts_mt', 'full_clustering', 'initial_clustering', 'Resample', 'Collection_Day', 'Sex', 'Age_interval', 'Swab_result', 'Status', 'Smoker', 'Status_on_day_collection', 'Status_on_day_collection_summary', 'Days_from_onset', 'Site', 'time_after_LPS', 'Worst_Clinical_Status', 'Outcome', 'patient_id'\n",
       "    var: 'feature_types', 'means', 'variances', 'residual_variances', 'highly_variable_rank', 'highly_variable_nbatches', 'highly_variable_intersection', 'highly_variable'\n",
       "    uns: 'hvg', 'leiden', 'neighbors', 'pca', 'umap'\n",
       "    obsm: 'X_pca', 'X_pca_harmony', 'X_umap'\n",
       "    layers: 'counts'"
      ]
     },
     "execution_count": 10,
     "metadata": {},
     "output_type": "execute_result"
    }
   ],
   "source": [
    "rna = rna[:, rna.var.highly_variable].copy()\n",
    "rna"
   ]
  },
  {
   "cell_type": "markdown",
   "id": "5455b860",
   "metadata": {},
   "source": [
    "# Preprocess ADT"
   ]
  },
  {
   "cell_type": "code",
   "execution_count": 11,
   "id": "9d0a1602",
   "metadata": {},
   "outputs": [
    {
     "data": {
      "text/plain": [
       "array([ 2.,  6.,  2., ..., 48., 56., 48.], dtype=float32)"
      ]
     },
     "execution_count": 11,
     "metadata": {},
     "output_type": "execute_result"
    }
   ],
   "source": [
    "adt.layers['raw'].data"
   ]
  },
  {
   "cell_type": "code",
   "execution_count": 12,
   "id": "38436d93",
   "metadata": {},
   "outputs": [],
   "source": [
    "adt.layers['counts'] = adt.layers['raw'].copy()\n",
    "adt.X = adt.layers['counts'].copy()\n",
    "del adt.layers['raw']"
   ]
  },
  {
   "cell_type": "code",
   "execution_count": 13,
   "id": "9c7cddf0",
   "metadata": {},
   "outputs": [
    {
     "name": "stderr",
     "output_type": "stream",
     "text": [
      "/lustre/groups/ml01/workspace/anastasia.litinetskaya/mambaforge/envs/multimil/lib/python3.10/site-packages/muon/_prot/preproc.py:219: UserWarning: adata.X is sparse but not in CSC format. Converting to CSC.\n",
      "  warn(\"adata.X is sparse but not in CSC format. Converting to CSC.\")\n"
     ]
    }
   ],
   "source": [
    "muon.prot.pp.clr(adt)"
   ]
  },
  {
   "cell_type": "markdown",
   "id": "832f454e",
   "metadata": {},
   "source": [
    "# Create 5-fold CV (based on patients)"
   ]
  },
  {
   "cell_type": "code",
   "execution_count": 14,
   "id": "4e60262d",
   "metadata": {},
   "outputs": [],
   "source": [
    "kf = KFold(n_splits=5, random_state=1, shuffle=True)"
   ]
  },
  {
   "cell_type": "code",
   "execution_count": 15,
   "id": "24221667",
   "metadata": {},
   "outputs": [],
   "source": [
    "patients = np.unique(rna.obs['patient_id'])"
   ]
  },
  {
   "cell_type": "code",
   "execution_count": 16,
   "id": "b98d45c8",
   "metadata": {},
   "outputs": [],
   "source": [
    "train_test_sizes = []\n",
    "\n",
    "for i, (train_index, test_index) in enumerate(kf.split(patients)):\n",
    "    train_patients = patients[train_index]\n",
    "    test_patients = patients[test_index]\n",
    "    rna.obs.loc[rna.obs['patient_id'].isin(train_patients), f'split{i}'] = 'train'\n",
    "    rna.obs.loc[~rna.obs['patient_id'].isin(train_patients), f'split{i}'] = 'val'\n",
    "    adt.obs[f'split{i}'] = rna.obs[f'split{i}']\n",
    "    \n",
    "    len_rna_train = len(rna[rna.obs[f'split{i}'] == 'train'])\n",
    "    len_rna_test = len(rna[rna.obs[f'split{i}'] == 'val'])\n",
    "    train_conditions = set(rna[rna.obs[f'split{i}'] == 'train'].obs['Status_on_day_collection_summary'].cat.categories)\n",
    "    test_conditions = set(rna[rna.obs[f'split{i}'] == 'val'].obs['Status_on_day_collection_summary'].cat.categories)\n",
    "    assert test_conditions.issubset(train_conditions)\n",
    "    train_test_sizes.append((len_rna_train, len_rna_test))"
   ]
  },
  {
   "cell_type": "code",
   "execution_count": 17,
   "id": "4edd78a3",
   "metadata": {},
   "outputs": [
    {
     "data": {
      "text/plain": [
       "[(531289, 116077),\n",
       " (495537, 151829),\n",
       " (528595, 118771),\n",
       " (503281, 144085),\n",
       " (530762, 116604)]"
      ]
     },
     "execution_count": 17,
     "metadata": {},
     "output_type": "execute_result"
    }
   ],
   "source": [
    "train_test_sizes"
   ]
  },
  {
   "cell_type": "code",
   "execution_count": 18,
   "id": "caa456f2-9bc0-4b49-99b1-89c23e7d1f3a",
   "metadata": {},
   "outputs": [],
   "source": [
    "rna.write('../../data/pbmc_full_rna.h5ad')\n",
    "adt.write('../../data/pbmc_full_adt.h5ad')"
   ]
  },
  {
   "cell_type": "markdown",
   "id": "26b63f01",
   "metadata": {},
   "source": [
    "# Adjust conditions"
   ]
  },
  {
   "cell_type": "code",
   "execution_count": 19,
   "id": "9f9f22d4",
   "metadata": {},
   "outputs": [
    {
     "data": {
      "text/plain": [
       "Index(['Asymptomatic', 'Critical', 'Healthy', 'LPS_10hours', 'LPS_90mins',\n",
       "       'Mild', 'Moderate', 'Non_covid', 'Severe'],\n",
       "      dtype='object')"
      ]
     },
     "execution_count": 19,
     "metadata": {},
     "output_type": "execute_result"
    }
   ],
   "source": [
    "rna.obs['Status_on_day_collection_summary'].cat.categories"
   ]
  },
  {
   "cell_type": "code",
   "execution_count": 20,
   "id": "407cb171",
   "metadata": {},
   "outputs": [],
   "source": [
    "drop_conditions = ['LPS_10hours', 'LPS_90mins', 'Non_covid']"
   ]
  },
  {
   "cell_type": "code",
   "execution_count": 21,
   "id": "0f24bb8b",
   "metadata": {},
   "outputs": [
    {
     "data": {
      "text/plain": [
       "((624325, 2000), (624325, 192))"
      ]
     },
     "execution_count": 21,
     "metadata": {},
     "output_type": "execute_result"
    }
   ],
   "source": [
    "rna = rna[~rna.obs['Status_on_day_collection_summary'].isin(drop_conditions)]\n",
    "adt = adt[~adt.obs['Status_on_day_collection_summary'].isin(drop_conditions)]\n",
    "(rna.shape, adt.shape)"
   ]
  },
  {
   "cell_type": "code",
   "execution_count": 22,
   "id": "5a01d1f7",
   "metadata": {},
   "outputs": [],
   "source": [
    "rna.write('../../data/pbmc_healthy_covid_rna.h5ad')\n",
    "adt.write('../../data/pbmc_healthy_covid_adt.h5ad')"
   ]
  },
  {
   "cell_type": "code",
   "execution_count": null,
   "id": "d63db698",
   "metadata": {},
   "outputs": [],
   "source": []
  }
 ],
 "metadata": {
  "kernelspec": {
   "display_name": "Python 3 (ipykernel)",
   "language": "python",
   "name": "python3"
  },
  "language_info": {
   "codemirror_mode": {
    "name": "ipython",
    "version": 3
   },
   "file_extension": ".py",
   "mimetype": "text/x-python",
   "name": "python",
   "nbconvert_exporter": "python",
   "pygments_lexer": "ipython3",
   "version": "3.10.12"
  }
 },
 "nbformat": 4,
 "nbformat_minor": 5
}
