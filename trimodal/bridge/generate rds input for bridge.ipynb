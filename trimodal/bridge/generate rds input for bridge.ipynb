{
 "cells": [
  {
   "cell_type": "markdown",
   "id": "94b381b5",
   "metadata": {
    "pycharm": {
     "name": "#%% md\n"
    }
   },
   "source": [
    "## Environment setup"
   ]
  },
  {
   "cell_type": "code",
   "execution_count": 1,
   "id": "d5fc06f1",
   "metadata": {},
   "outputs": [],
   "source": [
    "x=1"
   ]
  },
  {
   "cell_type": "code",
   "execution_count": 2,
   "id": "7f41c71c",
   "metadata": {
    "pycharm": {
     "name": "#%%\n"
    }
   },
   "outputs": [],
   "source": [
    "import warnings\n",
    "warnings.simplefilter(action='ignore')\n",
    "\n",
    "import scanpy as sc\n",
    "import anndata as ad\n",
    "import numpy as np\n",
    "import pandas as pd\n",
    "import os\n",
    "import scipy\n",
    "import scipy.io\n",
    "import rpy2.rinterface_lib.callbacks\n",
    "import anndata2ri\n",
    "import logging\n",
    "import muon\n",
    "\n",
    "import seaborn as sns\n",
    "import matplotlib.pyplot as plt\n",
    "\n",
    "from rpy2.robjects import r\n",
    "from rpy2.robjects import pandas2ri\n",
    "\n",
    "rpy2.rinterface_lib.callbacks.logger.setLevel(logging.ERROR)\n",
    "\n",
    "pandas2ri.activate()\n",
    "anndata2ri.activate()\n",
    "\n",
    "%load_ext rpy2.ipython"
   ]
  },
  {
   "cell_type": "code",
   "execution_count": 3,
   "id": "ffac86d7",
   "metadata": {},
   "outputs": [],
   "source": [
    "%%R\n",
    "options(future.globals.maxSize = 32000 * 1024^2)"
   ]
  },
  {
   "cell_type": "markdown",
   "id": "6fc7abd8",
   "metadata": {},
   "source": [
    "## Load datasets"
   ]
  },
  {
   "cell_type": "code",
   "execution_count": null,
   "id": "3e77ddbe",
   "metadata": {},
   "outputs": [],
   "source": [
    "multiom = ad.read_h5ad(\"GSE194122_openproblems_neurips2021_multiome_BMMC_processed.h5ad\")\n",
    "multiom"
   ]
  },
  {
   "cell_type": "code",
   "execution_count": null,
   "id": "975baa8b",
   "metadata": {},
   "outputs": [],
   "source": [
    "#bridge\n",
    "multiom_bridge = multiom[multiom.obs['Samplename'].isin(['site3_donor7_multiome'])].copy()\n",
    "cite_bridge = cite[cite.obs['Samplename'].isin(['site3_donor7_cite'])].copy()\n",
    "\n",
    "atac_bridge = multiom_bridge[:, multiom_bridge.var['feature_types'] == 'ATAC'].copy()\n",
    "rna_multiom_bridge = multiom_bridge[:, multiom_bridge.var['feature_types'] == 'GEX'].copy()\n",
    "\n",
    "adt_bridge = cite_bridge[:, cite_bridge.var['feature_types'] == 'ADT'].copy()\n",
    "rna_cite_bridge = cite_bridge[:, cite_bridge.var['feature_types'] == 'GEX'].copy()"
   ]
  },
  {
   "cell_type": "code",
   "execution_count": 36,
   "id": "e403f343",
   "metadata": {},
   "outputs": [],
   "source": [
    "# rna\n",
    "adata_ = ad.AnnData(rna_multiom_bridge.layers['counts'].A)\n",
    "adata_.obs_names = rna_multiom_bridge.obs_names\n",
    "adata_.var_names = rna_multiom_bridge.var_names\n",
    "adata_.obs['celltype'] = rna_multiom_bridge.obs['cell_type']\n",
    "adata_.obs['batch'] = rna_multiom_bridge.obs['Samplename']"
   ]
  },
  {
   "cell_type": "code",
   "execution_count": 37,
   "id": "ccba33bb",
   "metadata": {},
   "outputs": [],
   "source": [
    "%%R -i adata_\n",
    "rna = as.Seurat(adata_, data=NULL, counts='X')\n",
    "multiom <- rna\n",
    "multiom <- RenameAssays(object = multiom, originalexp = \"RNA\") \n",
    "multiom[[\"ATAC\"]] <- CreateAssayObject(counts = atac@assays$originalexp@data)"
   ]
  },
  {
   "cell_type": "code",
   "execution_count": 38,
   "id": "7206ddaf",
   "metadata": {},
   "outputs": [
    {
     "name": "stdout",
     "output_type": "stream",
     "text": [
      "An object of class Seurat \n",
      "129921 features across 1771 samples within 2 assays \n",
      "Active assay: RNA (13431 features, 0 variable features)\n",
      " 2 layers present: counts, data\n",
      " 1 other assay present: ATAC\n"
     ]
    }
   ],
   "source": [
    "%%R\n",
    "multiom"
   ]
  },
  {
   "cell_type": "code",
   "execution_count": 45,
   "id": "1e62c020",
   "metadata": {},
   "outputs": [],
   "source": [
    "%%R\n",
    "saveRDS(multiom, file = \"multiom_bridge.rds\")"
   ]
  },
  {
   "cell_type": "code",
   "execution_count": 40,
   "id": "88e291ad",
   "metadata": {},
   "outputs": [],
   "source": [
    "atac_query = sc.read(\"atac_query_s4d9_np.h5ad\")"
   ]
  },
  {
   "cell_type": "code",
   "execution_count": 42,
   "id": "bec91df0",
   "metadata": {},
   "outputs": [],
   "source": [
    "# atac\n",
    "adata_ = ad.AnnData(atac_query.layers['counts'].A)\n",
    "adata_.obs_names = atac_query.obs_names\n",
    "adata_.var_names = atac_query.var_names\n",
    "adata_.obs['celltype'] = atac_query.obs['cell_type']\n",
    "adata_.obs['batch'] = atac_query.obs['Samplename']"
   ]
  },
  {
   "cell_type": "code",
   "execution_count": 43,
   "id": "176806f8",
   "metadata": {},
   "outputs": [],
   "source": [
    "%%R -i adata_\n",
    "atac = as.Seurat(adata_, data=NULL, counts='X')"
   ]
  },
  {
   "cell_type": "code",
   "execution_count": 44,
   "id": "db74ad8a",
   "metadata": {},
   "outputs": [],
   "source": [
    "%%R\n",
    "saveRDS(atac, file = \"atac_query.rds\")"
   ]
  },
  {
   "cell_type": "markdown",
   "id": "5c6b8640",
   "metadata": {},
   "source": [
    "### Setup ADT query"
   ]
  },
  {
   "cell_type": "code",
   "execution_count": 41,
   "id": "8e79ff9f",
   "metadata": {},
   "outputs": [
    {
     "data": {
      "text/plain": [
       "AnnData object with n_obs × n_vars = 7365 × 14087\n",
       "    obs: 'GEX_n_genes_by_counts', 'GEX_pct_counts_mt', 'GEX_size_factors', 'GEX_phase', 'ADT_n_antibodies_by_counts', 'ADT_total_counts', 'ADT_iso_count', 'cell_type', 'batch', 'ADT_pseudotime_order', 'GEX_pseudotime_order', 'Samplename', 'Site', 'DonorNumber', 'Modality', 'VendorLot', 'DonorID', 'DonorAge', 'DonorBMI', 'DonorBloodType', 'DonorRace', 'Ethnicity', 'DonorGender', 'QCMeds', 'DonorSmoker', 'is_train'\n",
       "    var: 'feature_types', 'gene_id'\n",
       "    uns: 'dataset_id', 'genome', 'organism'\n",
       "    obsm: 'ADT_X_pca', 'ADT_X_umap', 'ADT_isotype_controls', 'GEX_X_pca', 'GEX_X_umap'\n",
       "    layers: 'counts'"
      ]
     },
     "execution_count": 41,
     "metadata": {},
     "output_type": "execute_result"
    }
   ],
   "source": [
    "cite_query = ad.read_h5ad(\"GSE194122_openproblems_neurips2021_cite_BMMC_processed.h5ad\")\n",
    "cite_query = cite_query[cite_query.obs['Samplename'].isin(['site4_donor9_cite'])].copy()\n",
    "cite_query"
   ]
  },
  {
   "cell_type": "code",
   "execution_count": 42,
   "id": "b07a31fd",
   "metadata": {},
   "outputs": [
    {
     "data": {
      "text/plain": [
       "AnnData object with n_obs × n_vars = 7365 × 134\n",
       "    obs: 'GEX_n_genes_by_counts', 'GEX_pct_counts_mt', 'GEX_size_factors', 'GEX_phase', 'ADT_n_antibodies_by_counts', 'ADT_total_counts', 'ADT_iso_count', 'cell_type', 'batch', 'ADT_pseudotime_order', 'GEX_pseudotime_order', 'Samplename', 'Site', 'DonorNumber', 'Modality', 'VendorLot', 'DonorID', 'DonorAge', 'DonorBMI', 'DonorBloodType', 'DonorRace', 'Ethnicity', 'DonorGender', 'QCMeds', 'DonorSmoker', 'is_train'\n",
       "    var: 'feature_types', 'gene_id'\n",
       "    uns: 'dataset_id', 'genome', 'organism'\n",
       "    obsm: 'ADT_X_pca', 'ADT_X_umap', 'ADT_isotype_controls', 'GEX_X_pca', 'GEX_X_umap'\n",
       "    layers: 'counts'"
      ]
     },
     "execution_count": 42,
     "metadata": {},
     "output_type": "execute_result"
    }
   ],
   "source": [
    "adt_query = cite_query[:, cite_query.var['feature_types'] == 'ADT'].copy()\n",
    "adt_query"
   ]
  },
  {
   "cell_type": "code",
   "execution_count": 22,
   "id": "085314d1",
   "metadata": {},
   "outputs": [],
   "source": [
    "adata_ = ad.AnnData(adt_query.layers['counts'].A)\n",
    "adata_.obs_names = adt_query.obs_names\n",
    "adata_.var_names = adt_query.var_names\n",
    "adata_.obs['celltype'] = adt_query.obs['cell_type']\n",
    "adata_.obs['batch'] = adt_query.obs['Samplename']"
   ]
  },
  {
   "cell_type": "code",
   "execution_count": 23,
   "id": "79284caa",
   "metadata": {},
   "outputs": [],
   "source": [
    "%%R -i adata_\n",
    "query <- as.Seurat(adata_, data=NULL, counts='X')"
   ]
  },
  {
   "cell_type": "code",
   "execution_count": 24,
   "id": "03dbda41",
   "metadata": {},
   "outputs": [
    {
     "name": "stdout",
     "output_type": "stream",
     "text": [
      "An object of class Seurat \n",
      "134 features across 7365 samples within 1 assay \n",
      "Active assay: originalexp (134 features, 0 variable features)\n",
      " 2 layers present: counts, data\n"
     ]
    }
   ],
   "source": [
    "%%R\n",
    "query"
   ]
  },
  {
   "cell_type": "code",
   "execution_count": 25,
   "id": "54c2985e",
   "metadata": {},
   "outputs": [],
   "source": [
    "%%R\n",
    "saveRDS(query, file = \"adt_query.rds\")"
   ]
  },
  {
   "cell_type": "code",
   "execution_count": null,
   "id": "2c852d28",
   "metadata": {},
   "outputs": [],
   "source": []
  }
 ],
 "metadata": {
  "kernelspec": {
   "display_name": "wnn",
   "language": "python",
   "name": "wnn"
  },
  "language_info": {
   "codemirror_mode": {
    "name": "ipython",
    "version": 3
   },
   "file_extension": ".py",
   "mimetype": "text/x-python",
   "name": "python",
   "nbconvert_exporter": "python",
   "pygments_lexer": "ipython3",
   "version": "3.9.16"
  },
  "vscode": {
   "interpreter": {
    "hash": "f62a726625da3e9f9e769d0df6a4c19c78af79c1325c7542384da2baa6c4951e"
   }
  }
 },
 "nbformat": 4,
 "nbformat_minor": 5
}
