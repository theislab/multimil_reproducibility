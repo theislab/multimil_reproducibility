{
 "cells": [
  {
   "cell_type": "code",
   "execution_count": 1,
   "id": "afc40de2-1552-487a-8915-3398bc17574a",
   "metadata": {},
   "outputs": [],
   "source": [
    "x=1"
   ]
  },
  {
   "cell_type": "code",
   "execution_count": 2,
   "id": "ce05f68f-9736-489f-a6d3-0e158ba61a4c",
   "metadata": {},
   "outputs": [
    {
     "name": "stderr",
     "output_type": "stream",
     "text": [
      "[rank: 0] Global seed set to 0\n"
     ]
    }
   ],
   "source": [
    "import scanpy as sc\n",
    "import anndata as ad\n",
    "import numpy as np\n",
    "import pandas as pd\n",
    "\n",
    "import os.path\n",
    "\n",
    "import multigrate as mtg\n",
    "import multimil as mtm\n",
    "import scvi\n",
    "import torch\n",
    "\n",
    "from sklearn.model_selection import LeaveOneOut\n",
    "from sklearn.neighbors import KNeighborsClassifier\n",
    "from sklearn.preprocessing import StandardScaler\n",
    "\n",
    "from matplotlib import pyplot as plt\n",
    "import seaborn as sns\n",
    "\n",
    "import warnings\n",
    "warnings.filterwarnings('ignore')"
   ]
  },
  {
   "cell_type": "code",
   "execution_count": 3,
   "id": "c35ee769-3247-4046-bc27-01cc4b89c288",
   "metadata": {},
   "outputs": [],
   "source": [
    "input1 = '/lustre/groups/ml01/projects/2022_multigrate_anastasia.litinetskaya/multimil_reproducibility/pipeline/data/pp/pbmc_3_cond_balanced_rna.h5ad'\n",
    "input2 = '/lustre/groups/ml01/projects/2022_multigrate_anastasia.litinetskaya/multimil_reproducibility/pipeline/data/pp/pbmc_3_cond_balanced_adt.h5ad'\n",
    "label_key = 'initial_clustering'\n",
    "batch_key = 'Site'\n",
    "condition_key = 'Status_on_day_collection_summary'\n",
    "sample_key = 'patient_id'\n",
    "donor = sample_key\n",
    "condition = condition_key\n",
    "n_splits = 5"
   ]
  },
  {
   "cell_type": "code",
   "execution_count": 4,
   "id": "50f08eef-7aaf-43fe-8dc6-892cd2622ab4",
   "metadata": {},
   "outputs": [],
   "source": [
    "adata1 = sc.read_h5ad(input1)\n",
    "adata2 = sc.read_h5ad(input2)"
   ]
  },
  {
   "cell_type": "code",
   "execution_count": 5,
   "id": "74c15898-e381-4992-b33f-37db46cf0443",
   "metadata": {},
   "outputs": [],
   "source": [
    "setup_params = {\n",
    "        \"rna_indices_end\": 2000,\n",
    "        \"categorical_covariate_keys\": ['patient_id', 'Site', 'Status_on_day_collection_summary'],\n",
    "    }"
   ]
  },
  {
   "cell_type": "code",
   "execution_count": 6,
   "id": "d0a3d6dd-4969-4095-9ade-448c10961605",
   "metadata": {},
   "outputs": [],
   "source": [
    "model_params = {\n",
    "        \"z_dim\": 16,\n",
    "        \"attn_dim\": 16,\n",
    "        \"class_loss_coef\": None,\n",
    "        \"cond_dim\": 16,\n",
    "    }"
   ]
  },
  {
   "cell_type": "code",
   "execution_count": 7,
   "id": "73343388-c7a1-47e8-b01a-1b8073775e6c",
   "metadata": {},
   "outputs": [
    {
     "name": "stderr",
     "output_type": "stream",
     "text": [
      "[rank: 0] Global seed set to 0\n"
     ]
    }
   ],
   "source": [
    "lr = 1e-4\n",
    "batch_size = 256\n",
    "kl = 1e-6\n",
    "seed = 0\n",
    "\n",
    "scvi.settings.seed = seed"
   ]
  },
  {
   "cell_type": "code",
   "execution_count": 8,
   "id": "1ab3e9f6-cd36-410e-b313-db9295da6738",
   "metadata": {},
   "outputs": [],
   "source": [
    "hashes = ['52e3c74810', 'dfbda3bb3e', '478fe63f05', '44ddcb1ef8']\n",
    "coefs = [0.1, 1.0, 10, 100]\n",
    "ckpts = ['epoch=49-step=36000', 'epoch=49-step=37350', 'epoch=49-step=34850', 'epoch=49-step=33750', 'epoch=49-step=35650']\n",
    "q_ckpts = ['epoch=19-step=3440', 'epoch=19-step=2840', 'epoch=19-step=3900', 'epoch=19-step=4340', 'epoch=19-step=3540']"
   ]
  },
  {
   "cell_type": "code",
   "execution_count": 9,
   "id": "df70393c-0bdd-4979-90cd-3c186f4f09d0",
   "metadata": {},
   "outputs": [
    {
     "name": "stdout",
     "output_type": "stream",
     "text": [
      "Hash 52e3c74810, coef 0.1...\n",
      "Split 0...\n",
      "Organizing multimodal anndatas...\n",
      "Setting up anndata...\n"
     ]
    },
    {
     "name": "stderr",
     "output_type": "stream",
     "text": [
      "No GPU/TPU found, falling back to CPU. (Set TF_CPP_MIN_LOG_LEVEL=0 and rerun for more info.)\n"
     ]
    },
    {
     "name": "stdout",
     "output_type": "stream",
     "text": [
      "Initializing the model...\n",
      "Split 1...\n",
      "Organizing multimodal anndatas...\n",
      "Setting up anndata...\n",
      "Initializing the model...\n",
      "Split 2...\n",
      "Organizing multimodal anndatas...\n",
      "Setting up anndata...\n",
      "Initializing the model...\n",
      "Split 3...\n",
      "Organizing multimodal anndatas...\n",
      "Setting up anndata...\n",
      "Initializing the model...\n",
      "Split 4...\n",
      "Organizing multimodal anndatas...\n",
      "Setting up anndata...\n",
      "Initializing the model...\n",
      "Hash dfbda3bb3e, coef 1.0...\n",
      "Split 0...\n",
      "Organizing multimodal anndatas...\n",
      "Setting up anndata...\n",
      "Initializing the model...\n",
      "Split 1...\n",
      "Organizing multimodal anndatas...\n",
      "Setting up anndata...\n",
      "Initializing the model...\n",
      "Split 2...\n",
      "Organizing multimodal anndatas...\n",
      "Setting up anndata...\n",
      "Initializing the model...\n",
      "Split 3...\n",
      "Organizing multimodal anndatas...\n",
      "Setting up anndata...\n",
      "Initializing the model...\n",
      "Split 4...\n",
      "Organizing multimodal anndatas...\n",
      "Setting up anndata...\n",
      "Initializing the model...\n",
      "Hash 478fe63f05, coef 10...\n",
      "Split 0...\n",
      "Organizing multimodal anndatas...\n",
      "Setting up anndata...\n",
      "Initializing the model...\n",
      "Split 1...\n",
      "Organizing multimodal anndatas...\n",
      "Setting up anndata...\n",
      "Initializing the model...\n",
      "Split 2...\n",
      "Organizing multimodal anndatas...\n",
      "Setting up anndata...\n",
      "Initializing the model...\n",
      "Split 3...\n",
      "Organizing multimodal anndatas...\n",
      "Setting up anndata...\n",
      "Initializing the model...\n",
      "Split 4...\n",
      "Organizing multimodal anndatas...\n",
      "Setting up anndata...\n",
      "Initializing the model...\n",
      "Hash 44ddcb1ef8, coef 100...\n",
      "Split 0...\n",
      "Organizing multimodal anndatas...\n",
      "Setting up anndata...\n",
      "Initializing the model...\n",
      "Split 1...\n",
      "Organizing multimodal anndatas...\n",
      "Setting up anndata...\n",
      "Initializing the model...\n",
      "Split 2...\n",
      "Organizing multimodal anndatas...\n",
      "Setting up anndata...\n",
      "Initializing the model...\n",
      "Split 3...\n",
      "Organizing multimodal anndatas...\n",
      "Setting up anndata...\n",
      "Initializing the model...\n",
      "Split 4...\n",
      "Organizing multimodal anndatas...\n",
      "Setting up anndata...\n",
      "Initializing the model...\n"
     ]
    }
   ],
   "source": [
    "for h, coef in zip(hashes, coefs):\n",
    "    print(f'Hash {h}, coef {coef}...')\n",
    "\n",
    "    model_params['class_loss_coef'] = coef\n",
    "    for i, best_ckpt, best_q_ckpt in zip(range(n_splits), ckpts, q_ckpts):\n",
    "        print(f'Split {i}...')\n",
    "    \n",
    "        print('Organizing multimodal anndatas...')\n",
    "        adata = mtg.data.organize_multiome_anndatas(\n",
    "            adatas = [[adata1], [adata2]],\n",
    "            )\n",
    "        losses = ['nb', 'mse']\n",
    "    \n",
    "        query = adata[adata.obs[f\"split{i}\"] == \"val\"].copy()\n",
    "        adata = adata[adata.obs[f\"split{i}\"] == \"train\"].copy()\n",
    "    \n",
    "        idx = adata.obs[donor].sort_values().index\n",
    "        adata = adata[idx].copy()\n",
    "    \n",
    "        print('Setting up anndata...')\n",
    "        mtm.model.MultiVAE_MIL.setup_anndata(\n",
    "            adata, \n",
    "            **setup_params\n",
    "        )\n",
    "    \n",
    "        print('Initializing the model...')\n",
    "        \n",
    "        mil = mtm.model.MultiVAE_MIL(\n",
    "            adata,\n",
    "            patient_label=donor,\n",
    "            losses=losses,\n",
    "            loss_coefs={\n",
    "                'kl': kl,\n",
    "            },\n",
    "            classification=[condition],\n",
    "            **model_params,\n",
    "        )\n",
    "    \n",
    "        path_to_train_checkpoints = f'/lustre/groups/ml01/projects/2022_multigrate_anastasia.litinetskaya/multimil_reproducibility/pipeline/data/multigrate/pbmc_3_cond_balanced_end2end/{h}/{i}/checkpoints/'\n",
    "    \n",
    "        train_state_dict = torch.load(path_to_train_checkpoints + f'{best_ckpt}.ckpt')['state_dict']\n",
    "        for key in list(train_state_dict.keys()):\n",
    "            train_state_dict[key.replace('module.', '')] = train_state_dict.pop(key)\n",
    "    \n",
    "        mil.module.load_state_dict(train_state_dict)\n",
    "    \n",
    "        mil.is_trained_ = True\n",
    "        mil.get_model_output(adata, batch_size=batch_size)\n",
    "    \n",
    "        idx = query.obs[donor].sort_values().index\n",
    "        query = query[idx].copy()\n",
    "    \n",
    "        new_model = mtm.model.MultiVAE_MIL.load_query_data(query, use_prediction_labels=False, reference_model=mil)\n",
    "    \n",
    "        path_to_query_checkpoints = f'/lustre/groups/ml01/projects/2022_multigrate_anastasia.litinetskaya/multimil_reproducibility/pipeline/data/multigrate/pbmc_3_cond_balanced_end2end/{h}/{i}/query_checkpoints/{best_ckpt}/'\n",
    "        \n",
    "        query_state_dict = torch.load(path_to_query_checkpoints + f'{best_q_ckpt}.ckpt')['state_dict']\n",
    "        for key in list(query_state_dict.keys()):\n",
    "            query_state_dict[key.replace('module.', '')] = query_state_dict.pop(key)\n",
    "            key = key.replace('module.', '')\n",
    "            query_state_dict[f'vae.{key}'] = query_state_dict.pop(key)\n",
    "    \n",
    "        train_state_dict.update(query_state_dict)\n",
    "    \n",
    "        new_model.is_trained_ = True\n",
    "        new_model.get_model_output(query, batch_size=batch_size)\n",
    "    \n",
    "        adata.obs['reference'] = 'reference'\n",
    "        query.obs['reference'] = 'query'\n",
    "        adata_both = ad.concat([adata, query])\n",
    "    \n",
    "        sc.pp.neighbors(adata_both, use_rep='latent')\n",
    "        sc.tl.umap(adata_both)\n",
    "        \n",
    "        adata1.obsm[f'X_umap_{i}'] = adata_both.obsm['X_umap']\n",
    "        adata1.obsm[f'latent_{i}'] = adata_both.obsm['latent']\n",
    "        adata1.obs[f'cell_attn_{i}'] = adata_both.obs['cell_attn']\n",
    "        adata1.obs[f'reference_{i}'] = adata_both.obs['reference']\n",
    "    \n",
    "    adata1.obs['cell_attn'] = np.mean([adata1.obs[f'cell_attn_{i}'] for i in range(n_splits)], axis=0)\n",
    "    adata1.write(f'/lustre/groups/ml01/projects/2022_multigrate_anastasia.litinetskaya/multimil_reproducibility/pipeline/data/multigrate/pbmc_3_cond_balanced_end2end/{h}_adata_both_full.h5ad')"
   ]
  },
  {
   "cell_type": "code",
   "execution_count": null,
   "id": "f6bcdb0e-b732-4076-bff8-b8b0d327cd58",
   "metadata": {},
   "outputs": [],
   "source": []
  }
 ],
 "metadata": {
  "kernelspec": {
   "display_name": "Python 3 (ipykernel)",
   "language": "python",
   "name": "python3"
  },
  "language_info": {
   "codemirror_mode": {
    "name": "ipython",
    "version": 3
   },
   "file_extension": ".py",
   "mimetype": "text/x-python",
   "name": "python",
   "nbconvert_exporter": "python",
   "pygments_lexer": "ipython3",
   "version": "3.10.12"
  }
 },
 "nbformat": 4,
 "nbformat_minor": 5
}
